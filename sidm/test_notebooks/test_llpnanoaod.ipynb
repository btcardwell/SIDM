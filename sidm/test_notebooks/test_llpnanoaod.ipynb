{
 "cells": [
  {
   "cell_type": "code",
   "execution_count": 1,
   "id": "52d29d6f-4d6a-4f32-88d0-d52dae4d1826",
   "metadata": {
    "tags": []
   },
   "outputs": [],
   "source": [
    "# python\n",
    "import sys\n",
    "import os\n",
    "import importlib\n",
    "import numpy as np\n",
    "# columnar analysis\n",
    "import awkward as ak\n",
    "from coffea.nanoevents import NanoEventsFactory, NanoAODSchema\n",
    "from coffea import processor\n",
    "# local\n",
    "sys.path.insert(1, os.path.join(sys.path[0], '../..')) # fixme: there must be a better way to handle this...\n",
    "from sidm.tools import sidm_processor, utilities, llpnanoaodschema, llpnanoaodschema_full\n",
    "# always reload local modules to pick up changes during development\n",
    "importlib.reload(llpnanoaodschema)\n",
    "importlib.reload(llpnanoaodschema_full)\n",
    "importlib.reload(sidm_processor)\n",
    "importlib.reload(utilities)\n",
    "# plotting\n",
    "import matplotlib.pyplot as plt\n",
    "utilities.set_plot_style()\n",
    "%matplotlib inline"
   ]
  },
  {
   "cell_type": "code",
   "execution_count": 2,
   "id": "0b6b2915-cdb5-4d0b-848f-9bbce082f28a",
   "metadata": {
    "tags": []
   },
   "outputs": [
    {
     "name": "stdout",
     "output_type": "stream",
     "text": [
      "<class 'property'>\n"
     ]
    }
   ],
   "source": [
    "LLPNanoAODSchema = llpnanoaodschema_full.LLPNanoAODSchema\n",
    "print(type(LLPNanoAODSchema.behavior))"
   ]
  },
  {
   "cell_type": "code",
   "execution_count": 3,
   "id": "8c4803ab-7403-4e30-a22b-e08be3912bb6",
   "metadata": {
    "tags": []
   },
   "outputs": [
    {
     "name": "stdout",
     "output_type": "stream",
     "text": [
      "<class 'property'>\n"
     ]
    }
   ],
   "source": [
    "print(type(NanoAODSchema.behavior))"
   ]
  },
  {
   "cell_type": "code",
   "execution_count": 4,
   "id": "3763f6c6-db2f-45a6-9b7a-df79023cd7b0",
   "metadata": {
    "tags": []
   },
   "outputs": [],
   "source": [
    "samples = [\n",
    "    '2Mu2E_500GeV_5p0GeV_8p0mm',\n",
    "]\n",
    "fileset = utilities.make_fileset(samples, \"llpNanoAOD_v2\", max_files=5, location_cfg=\"signal_2mu2e_v10.yaml\")\n",
    "# create events collection from single file\n",
    "fname = fileset[samples[0]][0]"
   ]
  },
  {
   "cell_type": "code",
   "execution_count": 5,
   "id": "dbd5cf7c-ab33-4501-a113-e1aa718071f4",
   "metadata": {
    "tags": []
   },
   "outputs": [
    {
     "name": "stdout",
     "output_type": "stream",
     "text": [
      "<class 'coffea.nanoevents.schemas.nanoaod.NanoAODSchema'>\n",
      "<class 'dict'>\n"
     ]
    }
   ],
   "source": [
    "factory_nano = NanoEventsFactory.from_root(\n",
    "    fname,\n",
    "    schemaclass=NanoAODSchema,\n",
    ")\n",
    "events_nano = factory_nano.events()\n",
    "print(type(factory_nano._schema))\n",
    "print(type(factory_nano._schema.behavior))"
   ]
  },
  {
   "cell_type": "code",
   "execution_count": 6,
   "id": "db09b0af-7178-4510-9ae5-3676ba275173",
   "metadata": {
    "tags": []
   },
   "outputs": [
    {
     "name": "stdout",
     "output_type": "stream",
     "text": [
      "\n",
      "{'class': 'ListOffsetArray64', 'offsets': 'i64', 'content': {'class': 'NumpyArray', 'inner_shape': [], 'itemsize': 4, 'format': 'i', 'primitive': 'int32', 'has_identities': False, 'parameters': {'__doc__': 'index of first matching muon'}, 'form_key': 'Jet_muonIdx1%2C%21load%2C%21content'}, 'has_identities': False, 'parameters': {}, 'form_key': 'Jet_muonIdx1%2C%21load'}\n",
      "{'class': 'NumpyArray', 'itemsize': 8, 'format': 'i', 'primitive': 'int64', 'parameters': {'__doc__': \"slimmedMuons after basic selection (pt > 15 || (pt > 3 && (passed('CutBasedIdLoose') || passed('SoftCutBasedId') || passed('SoftMvaId') || passed('CutBasedIdGlobalHighPt') || passed('CutBasedIdTrkHighPt'))))\"}, 'form_key': 'nMuon%2C%21load%2C%21counts2offsets'}\n",
      "{'class': 'ListOffsetArray64', 'offsets': 'i64', 'content': {'class': 'NumpyArray', 'inner_shape': [], 'itemsize': 8, 'format': 'i', 'primitive': 'int64', 'has_identities': False, 'parameters': {'__doc__': 'index of first matching muon'}, 'form_key': 'Jet_muonIdx1%2C%21load%2CnMuon%2C%21load%2C%21counts2offsets%2C%21local2global'}, 'has_identities': False, 'parameters': {}, 'form_key': 'Jet_muonIdx1%2C%21load'}\n",
      "{'class': 'ListOffsetArray64', 'offsets': 'i64', 'content': {'class': 'NumpyArray', 'inner_shape': [], 'itemsize': 8, 'format': 'i', 'primitive': 'int64', 'has_identities': False, 'parameters': {'__doc__': 'index of first matching muon'}, 'form_key': 'Jet_muonIdx1%2C%21load%2CnMuon%2C%21load%2C%21counts2offsets%2C%21local2global'}, 'has_identities': False, 'parameters': {}, 'form_key': 'Jet_muonIdx1%2C%21load'}\n",
      "\n",
      "{'class': 'ListOffsetArray64', 'offsets': 'i64', 'content': {'class': 'NumpyArray', 'inner_shape': [], 'itemsize': 4, 'format': 'f', 'primitive': 'float32', 'has_identities': False, 'parameters': {'__doc__': ''}, 'form_key': 'DSAMuon_muonMatch1idx%2C%21load%2C%21content'}, 'has_identities': False, 'parameters': {}, 'form_key': 'DSAMuon_muonMatch1idx%2C%21load'}\n",
      "{'class': 'NumpyArray', 'itemsize': 8, 'format': 'i', 'primitive': 'int64', 'parameters': {'__doc__': \"slimmedMuons after basic selection (pt > 15 || (pt > 3 && (passed('CutBasedIdLoose') || passed('SoftCutBasedId') || passed('SoftMvaId') || passed('CutBasedIdGlobalHighPt') || passed('CutBasedIdTrkHighPt'))))\"}, 'form_key': 'nMuon%2C%21load%2C%21counts2offsets'}\n",
      "{'class': 'ListOffsetArray64', 'offsets': 'i64', 'content': {'class': 'NumpyArray', 'inner_shape': [], 'itemsize': 8, 'format': 'f', 'primitive': 'int64', 'has_identities': False, 'parameters': {'__doc__': ''}, 'form_key': 'DSAMuon_muonMatch1idx%2C%21load%2CnMuon%2C%21load%2C%21counts2offsets%2C%21local2global'}, 'has_identities': False, 'parameters': {}, 'form_key': 'DSAMuon_muonMatch1idx%2C%21load'}\n",
      "{'class': 'ListOffsetArray64', 'offsets': 'i64', 'content': {'class': 'NumpyArray', 'inner_shape': [], 'itemsize': 8, 'format': 'f', 'primitive': 'int64', 'has_identities': False, 'parameters': {'__doc__': ''}, 'form_key': 'DSAMuon_muonMatch1idx%2C%21load%2CnMuon%2C%21load%2C%21counts2offsets%2C%21local2global'}, 'has_identities': False, 'parameters': {}, 'form_key': 'DSAMuon_muonMatch1idx%2C%21load'}\n",
      "\n",
      "\n",
      "Jet_muonIdxG ['Jet_muonIdx1G', 'Jet_muonIdx2G']\n",
      "{'class': 'ListOffsetArray64', 'offsets': 'i64', 'content': {'class': 'ListOffsetArray64', 'offsets': 'i64', 'content': {'class': 'NumpyArray', 'inner_shape': [], 'itemsize': 8, 'format': 'i', 'primitive': 'int64', 'has_identities': False, 'parameters': {'__doc__': 'index of first matching muon'}, 'form_key': 'Jet_muonIdx1%2C%21load%2CnMuon%2C%21load%2C%21counts2offsets%2C%21local2global%2CJet_muonIdx2%2C%21load%2CnMuon%2C%21load%2C%21counts2offsets%2C%21local2global%2C%21nestedindex%2C%21content'}, 'has_identities': False, 'parameters': {}, 'form_key': 'Jet_muonIdx1%2C%21load%2CnMuon%2C%21load%2C%21counts2offsets%2C%21local2global%2CJet_muonIdx2%2C%21load%2CnMuon%2C%21load%2C%21counts2offsets%2C%21local2global%2C%21nestedindex'}, 'form_key': 'Jet_muonIdx1%2C%21load'}\n",
      "\n",
      "DSAMuon_muonIdxG ['DSAMuon_muonMatch1idxG', 'DSAMuon_muonMatch2idxG']\n",
      "{'class': 'ListOffsetArray64', 'offsets': 'i64', 'content': {'class': 'ListOffsetArray64', 'offsets': 'i64', 'content': {'class': 'NumpyArray', 'inner_shape': [], 'itemsize': 8, 'format': 'f', 'primitive': 'int64', 'has_identities': False, 'parameters': {'__doc__': ''}, 'form_key': 'DSAMuon_muonMatch1idx%2C%21load%2CnMuon%2C%21load%2C%21counts2offsets%2C%21local2global%2CDSAMuon_muonMatch2idx%2C%21load%2CnMuon%2C%21load%2C%21counts2offsets%2C%21local2global%2C%21nestedindex%2C%21content'}, 'has_identities': False, 'parameters': {}, 'form_key': 'DSAMuon_muonMatch1idx%2C%21load%2CnMuon%2C%21load%2C%21counts2offsets%2C%21local2global%2CDSAMuon_muonMatch2idx%2C%21load%2CnMuon%2C%21load%2C%21counts2offsets%2C%21local2global%2C%21nestedindex'}, 'form_key': 'DSAMuon_muonMatch1idx%2C%21load'}\n"
     ]
    }
   ],
   "source": [
    "factory_llp = NanoEventsFactory.from_root(\n",
    "    fname,\n",
    "    schemaclass=LLPNanoAODSchema,\n",
    ")\n",
    "events_llp = factory_llp.events()\n",
    "#print(type(factory_llp._schema))\n",
    "#print(type(factory_llp._schema.behavior))\n",
    "#print(factory_llp._schema.behavior[\"DSAMuon\"])"
   ]
  },
  {
   "cell_type": "code",
   "execution_count": 7,
   "id": "f73b3058-85fc-41f0-b053-91412cad6c09",
   "metadata": {
    "tags": []
   },
   "outputs": [
    {
     "name": "stdout",
     "output_type": "stream",
     "text": [
      "[[{idx: 0, pt: 90.2, ptErr: 44.7, eta: 0.269, ... nDTSegments: 3, nCSCSegments: 0}]]\n",
      "[[DSAMuon, DSAMuon], [DSAMuon, DSAMuon, ... DSAMuon, DSAMuon], [DSAMuon, DSAMuon]]\n",
      "[[Muon, Muon], [Muon, Muon], [Muon, Muon, ... Muon], [Muon, Muon], [Muon, Muon]]\n",
      "['idx', 'pt', 'ptErr', 'eta', 'etaErr', 'phi', 'phiErr', 'charge', 'dxy', 'dz', 'vx', 'vy', 'vz', 'chi2', 'ndof', 'trkNumPlanes', 'trkNumHits', 'trkNumDTHits', 'trkNumCSCHits', 'normChi2', 'outerEta', 'outerPhi', 'dzPV', 'dzPVErr', 'dxyPVTraj', 'dxyPVTrajErr', 'dxyPVSigned', 'dxyPVSignedErr', 'ip3DPVSigned', 'ip3DPVSignedErr', 'dxyBS', 'dxyBSErr', 'dzBS', 'dzBSErr', 'dxyBSTraj', 'dxyBSTrajErr', 'dxyBSSigned', 'dxyBSSignedErr', 'ip3DBSSigned', 'ip3DBSSignedErr', 'displacedID', 'muonMatch1', 'muonMatch1idx', 'muonMatch2', 'muonMatch2idx', 'muonMatch3', 'muonMatch3idx', 'muonMatch4', 'muonMatch4idx', 'muonMatch5', 'muonMatch5idx', 'muonDTMatch1', 'muonDTMatch1idx', 'muonDTMatch2', 'muonDTMatch2idx', 'muonDTMatch3', 'muonDTMatch3idx', 'muonCSCMatch1', 'muonCSCMatch1idx', 'muonCSCMatch2', 'muonCSCMatch2idx', 'muonCSCMatch3', 'muonCSCMatch3idx', 'nSegments', 'nDTSegments', 'nCSCSegments']\n",
      "['idx', 'pt', 'ptErr', 'eta', 'etaErr', 'phi', 'phiErr', 'charge', 'dxy', 'dz', 'vx', 'vy', 'vz', 'chi2', 'ndof', 'trkNumPlanes', 'trkNumHits', 'trkNumDTHits', 'trkNumCSCHits', 'normChi2', 'outerEta', 'outerPhi', 'dzPV', 'dzPVErr', 'dxyPVTraj', 'dxyPVTrajErr', 'dxyPVSigned', 'dxyPVSignedErr', 'ip3DPVSigned', 'ip3DPVSignedErr', 'dxyBS', 'dxyBSErr', 'dzBS', 'dzBSErr', 'dxyBSTraj', 'dxyBSTrajErr', 'dxyBSSigned', 'dxyBSSignedErr', 'ip3DBSSigned', 'ip3DBSSignedErr', 'displacedID', 'muonMatch1', 'muonMatch1idx', 'muonMatch2', 'muonMatch2idx', 'muonMatch3', 'muonMatch3idx', 'muonMatch4', 'muonMatch4idx', 'muonMatch5', 'muonMatch5idx', 'muonDTMatch1', 'muonDTMatch1idx', 'muonDTMatch2', 'muonDTMatch2idx', 'muonDTMatch3', 'muonDTMatch3idx', 'muonCSCMatch1', 'muonCSCMatch1idx', 'muonCSCMatch2', 'muonCSCMatch2idx', 'muonCSCMatch3', 'muonCSCMatch3idx', 'nSegments', 'nDTSegments', 'nCSCSegments', 'muonMatch1idxG', 'muonMatch2idxG', 'muonMatch3idxG', 'muonMatch4idxG', 'muonMatch5idxG', 'muonIdxG']\n",
      "['dxy', 'dxyErr', 'dxybs', 'dz', 'dzErr', 'eta', 'ip3d', 'jetPtRelv2', 'jetRelIso', 'mass', 'miniPFRelIso_all', 'miniPFRelIso_chg', 'pfRelIso03_all', 'pfRelIso03_chg', 'pfRelIso04_all', 'phi', 'pt', 'ptErr', 'segmentComp', 'sip3d', 'softMva', 'tkRelIso', 'tunepRelPt', 'mvaLowPt', 'mvaTTH', 'charge', 'jetIdx', 'nStations', 'nTrackerLayers', 'pdgId', 'tightCharge', 'fsrPhotonIdx', 'highPtId', 'highPurity', 'inTimeMuon', 'isGlobal', 'isPFcand', 'isStandalone', 'isTracker', 'jetNDauCharged', 'looseId', 'mediumId', 'mediumPromptId', 'miniIsoId', 'multiIsoId', 'mvaId', 'mvaLowPtId', 'pfIsoId', 'puppiIsoId', 'softId', 'softMvaId', 'tightId', 'tkIsoId', 'triggerIdLoose', 'idx', 'trkPt', 'trkPtErr', 'dzPV', 'dzPVErr', 'dxyPVTraj', 'dxyPVTrajErr', 'dxyPVSigned', 'dxyPVSignedErr', 'ip3DPVSigned', 'ip3DPVSignedErr', 'dxyBS', 'dxyBSErr', 'dzBS', 'dzBSErr', 'dxyBSTraj', 'dxyBSTrajErr', 'dxyBSSigned', 'dxyBSSignedErr', 'ip3DBSSigned', 'ip3DBSSignedErr', 'trkNumPlanes', 'trkNumHits', 'trkNumDTHits', 'trkNumCSCHits', 'normChi2', 'trkNumPixelHits', 'trkNumTrkLayers', 'outerEta', 'outerPhi', 'innerVx', 'innerVy', 'innerVz', 'innerPt', 'innerEta', 'innerPhi', 'dsaMatch1', 'dsaMatch1idx', 'dsaMatch2', 'dsaMatch2idx', 'dsaMatch3', 'dsaMatch3idx', 'dsaMatch4', 'dsaMatch4idx', 'dsaMatch5', 'dsaMatch5idx', 'genPartIdx', 'genPartFlav', 'cleanmask', 'fsrPhotonIdxG', 'genPartIdxG', 'jetIdxG']\n"
     ]
    }
   ],
   "source": [
    "dsa_nano = events_nano.DSAMuon\n",
    "dsa_llp = events_llp.DSAMuon\n",
    "pf_llp = events_llp.Muon\n",
    "print(dsa_nano)\n",
    "print(dsa_llp)\n",
    "print(pf_llp)\n",
    "print(dsa_nano.fields)\n",
    "print(dsa_llp.fields)\n",
    "print(pf_llp.fields)"
   ]
  },
  {
   "cell_type": "code",
   "execution_count": 11,
   "id": "db41cdcb-fcb3-4a0c-95f2-e18837c529b6",
   "metadata": {
    "tags": []
   },
   "outputs": [
    {
     "name": "stdout",
     "output_type": "stream",
     "text": [
      "[-1, 1, -1, -1]\n",
      "[-1, 1, -1, -1]\n",
      "[1, 0]\n"
     ]
    },
    {
     "ename": "RuntimeError",
     "evalue": "",
     "output_type": "error",
     "traceback": [
      "\u001b[0;31m---------------------------------------------------------------------------\u001b[0m",
      "\u001b[0;31mRuntimeError\u001b[0m                              Traceback (most recent call last)",
      "Cell \u001b[0;32mIn[11], line 12\u001b[0m\n\u001b[1;32m      7\u001b[0m \u001b[38;5;66;03m#print(jet_llp.muonIdx2G)\u001b[39;00m\n\u001b[1;32m      8\u001b[0m \u001b[38;5;66;03m#print(jet_llp.muonIdxG[0])\u001b[39;00m\n\u001b[1;32m      9\u001b[0m \u001b[38;5;66;03m#print(dsa_nano.muonMatch1idx == dsa_llp.muonMatch1idx)\u001b[39;00m\n\u001b[1;32m     10\u001b[0m \u001b[38;5;66;03m#print(dsa_llp.matched_muon)\u001b[39;00m\n\u001b[1;32m     11\u001b[0m \u001b[38;5;28mprint\u001b[39m(dsa_llp\u001b[38;5;241m.\u001b[39mmuonMatch1idx[\u001b[38;5;241m0\u001b[39m])\n\u001b[0;32m---> 12\u001b[0m \u001b[38;5;28;43mprint\u001b[39;49m\u001b[43m(\u001b[49m\u001b[43mdsa_llp\u001b[49m\u001b[38;5;241;43m.\u001b[39;49m\u001b[43mmuonMatch1idxG\u001b[49m\u001b[43m[\u001b[49m\u001b[38;5;241;43m0\u001b[39;49m\u001b[43m]\u001b[49m\u001b[43m)\u001b[49m\n\u001b[1;32m     13\u001b[0m \u001b[38;5;66;03m#print(dsa_llp.muonMatch1idxG)\u001b[39;00m\n\u001b[1;32m     14\u001b[0m \u001b[38;5;66;03m#print(dsa_llp.muonIdxG.type)\u001b[39;00m\n\u001b[1;32m     15\u001b[0m \u001b[38;5;66;03m#print(dsa_llp.matched_muon.type)\u001b[39;00m\n\u001b[1;32m     16\u001b[0m \u001b[38;5;66;03m#print(dsa_llp.muonMatch1idxG)\u001b[39;00m\n",
      "File \u001b[0;32m/opt/conda/lib/python3.9/site-packages/awkward/highlevel.py:1283\u001b[0m, in \u001b[0;36mArray.__str__\u001b[0;34m(self)\u001b[0m\n\u001b[1;32m   1230\u001b[0m \u001b[38;5;28;01mdef\u001b[39;00m \u001b[38;5;21m__str__\u001b[39m(\u001b[38;5;28mself\u001b[39m):\n\u001b[1;32m   1231\u001b[0m \u001b[38;5;250m    \u001b[39m\u001b[38;5;124;03m\"\"\"\u001b[39;00m\n\u001b[1;32m   1232\u001b[0m \u001b[38;5;124;03m    Args:\u001b[39;00m\n\u001b[1;32m   1233\u001b[0m \u001b[38;5;124;03m        limit_value (int): Maximum number of characters to use when\u001b[39;00m\n\u001b[0;32m   (...)\u001b[0m\n\u001b[1;32m   1281\u001b[0m \u001b[38;5;124;03m    data or JSON strings without loss (except for #type).\u001b[39;00m\n\u001b[1;32m   1282\u001b[0m \u001b[38;5;124;03m    \"\"\"\u001b[39;00m\n\u001b[0;32m-> 1283\u001b[0m     \u001b[38;5;28;01mreturn\u001b[39;00m \u001b[38;5;28;43mself\u001b[39;49m\u001b[38;5;241;43m.\u001b[39;49m\u001b[43m_str\u001b[49m\u001b[43m(\u001b[49m\u001b[43m)\u001b[49m\n",
      "File \u001b[0;32m/opt/conda/lib/python3.9/site-packages/awkward/highlevel.py:1303\u001b[0m, in \u001b[0;36mArray._str\u001b[0;34m(self, limit_value)\u001b[0m\n\u001b[1;32m   1302\u001b[0m \u001b[38;5;28;01mdef\u001b[39;00m \u001b[38;5;21m_str\u001b[39m(\u001b[38;5;28mself\u001b[39m, limit_value\u001b[38;5;241m=\u001b[39m\u001b[38;5;241m85\u001b[39m):\n\u001b[0;32m-> 1303\u001b[0m     \u001b[38;5;28;01mreturn\u001b[39;00m \u001b[43mak\u001b[49m\u001b[38;5;241;43m.\u001b[39;49m\u001b[43m_util\u001b[49m\u001b[38;5;241;43m.\u001b[39;49m\u001b[43mminimally_touching_string\u001b[49m\u001b[43m(\u001b[49m\n\u001b[1;32m   1304\u001b[0m \u001b[43m        \u001b[49m\u001b[43mlimit_value\u001b[49m\u001b[43m,\u001b[49m\u001b[43m \u001b[49m\u001b[38;5;28;43mself\u001b[39;49m\u001b[38;5;241;43m.\u001b[39;49m\u001b[43mlayout\u001b[49m\u001b[43m,\u001b[49m\u001b[43m \u001b[49m\u001b[38;5;28;43mself\u001b[39;49m\u001b[38;5;241;43m.\u001b[39;49m\u001b[43m_behavior\u001b[49m\n\u001b[1;32m   1305\u001b[0m \u001b[43m    \u001b[49m\u001b[43m)\u001b[49m\n",
      "File \u001b[0;32m/opt/conda/lib/python3.9/site-packages/awkward/_util.py:1694\u001b[0m, in \u001b[0;36mminimally_touching_string\u001b[0;34m(limit_length, layout, behavior)\u001b[0m\n\u001b[1;32m   1690\u001b[0m rightgen \u001b[38;5;241m=\u001b[39m forever(\n\u001b[1;32m   1691\u001b[0m     backward(layout, \u001b[38;5;124m\"\u001b[39m\u001b[38;5;124m\"\u001b[39m, brackets\u001b[38;5;241m=\u001b[39m\u001b[38;5;28;01mFalse\u001b[39;00m, wrap\u001b[38;5;241m=\u001b[39m\u001b[38;5;28;01mFalse\u001b[39;00m, stop\u001b[38;5;241m=\u001b[39mhalfway \u001b[38;5;241m-\u001b[39m \u001b[38;5;241m1\u001b[39m)\n\u001b[1;32m   1692\u001b[0m )\n\u001b[1;32m   1693\u001b[0m \u001b[38;5;28;01mwhile\u001b[39;00m \u001b[38;5;28;01mTrue\u001b[39;00m:\n\u001b[0;32m-> 1694\u001b[0m     lft \u001b[38;5;241m=\u001b[39m \u001b[38;5;28;43mnext\u001b[39;49m\u001b[43m(\u001b[49m\u001b[43mleftgen\u001b[49m\u001b[43m)\u001b[49m\n\u001b[1;32m   1695\u001b[0m     rgt \u001b[38;5;241m=\u001b[39m \u001b[38;5;28mnext\u001b[39m(rightgen)\n\u001b[1;32m   1697\u001b[0m     \u001b[38;5;28;01mif\u001b[39;00m lft \u001b[38;5;129;01mis\u001b[39;00m \u001b[38;5;129;01mnot\u001b[39;00m \u001b[38;5;28;01mNone\u001b[39;00m:\n",
      "File \u001b[0;32m/opt/conda/lib/python3.9/site-packages/awkward/_util.py:1682\u001b[0m, in \u001b[0;36mminimally_touching_string.<locals>.forever\u001b[0;34m(iterable)\u001b[0m\n\u001b[1;32m   1681\u001b[0m \u001b[38;5;28;01mdef\u001b[39;00m \u001b[38;5;21mforever\u001b[39m(iterable):\n\u001b[0;32m-> 1682\u001b[0m     \u001b[38;5;28;01myield from\u001b[39;00m iterable\n\u001b[1;32m   1683\u001b[0m     \u001b[38;5;28;01mwhile\u001b[39;00m \u001b[38;5;28;01mTrue\u001b[39;00m:\n\u001b[1;32m   1684\u001b[0m         \u001b[38;5;28;01myield\u001b[39;00m \u001b[38;5;28;01mNone\u001b[39;00m\n",
      "File \u001b[0;32m/opt/conda/lib/python3.9/site-packages/awkward/_util.py:1576\u001b[0m, in \u001b[0;36mminimally_touching_string.<locals>.forward\u001b[0;34m(x, space, brackets, wrap, stop)\u001b[0m\n\u001b[1;32m   1574\u001b[0m sp \u001b[38;5;241m=\u001b[39m \u001b[38;5;124m\"\u001b[39m\u001b[38;5;124m\"\u001b[39m\n\u001b[1;32m   1575\u001b[0m \u001b[38;5;28;01mfor\u001b[39;00m i \u001b[38;5;129;01min\u001b[39;00m \u001b[38;5;28mrange\u001b[39m(\u001b[38;5;28mlen\u001b[39m(x) \u001b[38;5;28;01mif\u001b[39;00m stop \u001b[38;5;129;01mis\u001b[39;00m \u001b[38;5;28;01mNone\u001b[39;00m \u001b[38;5;28;01melse\u001b[39;00m stop):\n\u001b[0;32m-> 1576\u001b[0m     \u001b[38;5;28;01mfor\u001b[39;00m token \u001b[38;5;129;01min\u001b[39;00m forward(\u001b[43mx\u001b[49m\u001b[43m[\u001b[49m\u001b[43mi\u001b[49m\u001b[43m]\u001b[49m, sp):\n\u001b[1;32m   1577\u001b[0m         \u001b[38;5;28;01myield\u001b[39;00m token\n\u001b[1;32m   1578\u001b[0m     sp \u001b[38;5;241m=\u001b[39m \u001b[38;5;124m\"\u001b[39m\u001b[38;5;124m, \u001b[39m\u001b[38;5;124m\"\u001b[39m\n",
      "File \u001b[0;32m/opt/conda/lib/python3.9/site-packages/awkward/operations/convert.py:4745\u001b[0m, in \u001b[0;36m_form_to_layout\u001b[0;34m(form, container, partnum, key_format, length, lazy_cache, lazy_cache_key)\u001b[0m\n\u001b[1;32m   4739\u001b[0m     \u001b[38;5;28;01mreturn\u001b[39;00m _form_to_layout_class[\u001b[38;5;28mtype\u001b[39m(form), form\u001b[38;5;241m.\u001b[39moffsets](\n\u001b[1;32m   4740\u001b[0m         offsets, content, identities, parameters\n\u001b[1;32m   4741\u001b[0m     )\n\u001b[1;32m   4743\u001b[0m \u001b[38;5;28;01melif\u001b[39;00m \u001b[38;5;28misinstance\u001b[39m(form, ak\u001b[38;5;241m.\u001b[39mforms\u001b[38;5;241m.\u001b[39mNumpyForm):\n\u001b[1;32m   4744\u001b[0m     raw_array \u001b[38;5;241m=\u001b[39m _asbuf(\n\u001b[0;32m-> 4745\u001b[0m         \u001b[43mcontainer\u001b[49m\u001b[43m[\u001b[49m\u001b[43mkey_format\u001b[49m\u001b[43m(\u001b[49m\u001b[43mform_key\u001b[49m\u001b[38;5;241;43m=\u001b[39;49m\u001b[43mfk\u001b[49m\u001b[43m,\u001b[49m\u001b[43m \u001b[49m\u001b[43mattribute\u001b[49m\u001b[38;5;241;43m=\u001b[39;49m\u001b[38;5;124;43m\"\u001b[39;49m\u001b[38;5;124;43mdata\u001b[39;49m\u001b[38;5;124;43m\"\u001b[39;49m\u001b[43m,\u001b[49m\u001b[43m \u001b[49m\u001b[43mpartition\u001b[49m\u001b[38;5;241;43m=\u001b[39;49m\u001b[43mpartnum\u001b[49m\u001b[43m)\u001b[49m\u001b[43m]\u001b[49m\n\u001b[1;32m   4746\u001b[0m     )\n\u001b[1;32m   4748\u001b[0m     dtype_inner_shape \u001b[38;5;241m=\u001b[39m form\u001b[38;5;241m.\u001b[39mto_numpy()\n\u001b[1;32m   4749\u001b[0m     \u001b[38;5;28;01mif\u001b[39;00m dtype_inner_shape\u001b[38;5;241m.\u001b[39msubdtype \u001b[38;5;129;01mis\u001b[39;00m \u001b[38;5;28;01mNone\u001b[39;00m:\n",
      "File \u001b[0;32m/opt/conda/lib/python3.9/site-packages/coffea/nanoevents/mapping/base.py:97\u001b[0m, in \u001b[0;36mBaseSourceMapping.__getitem__\u001b[0;34m(self, key)\u001b[0m\n\u001b[1;32m     93\u001b[0m     \u001b[38;5;28;01mif\u001b[39;00m \u001b[38;5;129;01mnot\u001b[39;00m \u001b[38;5;28mhasattr\u001b[39m(transforms, tname):\n\u001b[1;32m     94\u001b[0m         \u001b[38;5;28;01mraise\u001b[39;00m \u001b[38;5;167;01mRuntimeError\u001b[39;00m(\n\u001b[1;32m     95\u001b[0m             \u001b[38;5;124mf\u001b[39m\u001b[38;5;124m\"\u001b[39m\u001b[38;5;124mSyntax error in form_key: no transform named \u001b[39m\u001b[38;5;132;01m{\u001b[39;00mtname\u001b[38;5;132;01m}\u001b[39;00m\u001b[38;5;124m\"\u001b[39m\n\u001b[1;32m     96\u001b[0m         )\n\u001b[0;32m---> 97\u001b[0m     \u001b[38;5;28;43mgetattr\u001b[39;49m\u001b[43m(\u001b[49m\u001b[43mtransforms\u001b[49m\u001b[43m,\u001b[49m\u001b[43m \u001b[49m\u001b[43mtname\u001b[49m\u001b[43m)\u001b[49m\u001b[43m(\u001b[49m\u001b[43mstack\u001b[49m\u001b[43m)\u001b[49m\n\u001b[1;32m     98\u001b[0m \u001b[38;5;28;01melse\u001b[39;00m:\n\u001b[1;32m     99\u001b[0m     stack\u001b[38;5;241m.\u001b[39mappend(node)\n",
      "File \u001b[0;32m/opt/conda/lib/python3.9/site-packages/coffea/nanoevents/transforms.py:130\u001b[0m, in \u001b[0;36mlocal2global\u001b[0;34m(stack)\u001b[0m\n\u001b[1;32m    128\u001b[0m out \u001b[38;5;241m=\u001b[39m numpy\u001b[38;5;241m.\u001b[39marray(awkward\u001b[38;5;241m.\u001b[39mflatten(awkward\u001b[38;5;241m.\u001b[39mfill_none(index, \u001b[38;5;241m-\u001b[39m\u001b[38;5;241m1\u001b[39m), axis\u001b[38;5;241m=\u001b[39m\u001b[38;5;28;01mNone\u001b[39;00m))\n\u001b[1;32m    129\u001b[0m \u001b[38;5;28;01mif\u001b[39;00m out\u001b[38;5;241m.\u001b[39mdtype \u001b[38;5;241m!=\u001b[39m numpy\u001b[38;5;241m.\u001b[39mint64:\n\u001b[0;32m--> 130\u001b[0m     \u001b[38;5;28;01mraise\u001b[39;00m \u001b[38;5;167;01mRuntimeError\u001b[39;00m\n\u001b[1;32m    131\u001b[0m stack\u001b[38;5;241m.\u001b[39mappend(out)\n",
      "\u001b[0;31mRuntimeError\u001b[0m: "
     ]
    }
   ],
   "source": [
    "#print(pf_llp.jetIdx)\n",
    "#print(pf_llp.jetIdxG)\n",
    "#print(pf_llp.matched_jet)\n",
    "jet_llp = events_llp.Jet\n",
    "print(jet_llp.muonIdx1[0])\n",
    "print(jet_llp.muonIdx1G[0])\n",
    "#print(jet_llp.muonIdx2G)\n",
    "#print(jet_llp.muonIdxG[0])\n",
    "#print(dsa_nano.muonMatch1idx == dsa_llp.muonMatch1idx)\n",
    "#print(dsa_llp.matched_muon)\n",
    "print(dsa_llp.muonMatch1idx[0])\n",
    "print(dsa_llp.muonMatch1idxG[0])\n",
    "#print(dsa_llp.muonMatch1idxG)\n",
    "#print(dsa_llp.muonIdxG.type)\n",
    "#print(dsa_llp.matched_muon.type)\n",
    "#print(dsa_llp.muonMatch1idxG)\n"
   ]
  },
  {
   "cell_type": "code",
   "execution_count": 9,
   "id": "f85f4cb4-047c-4319-acff-2fef2fe9d556",
   "metadata": {
    "tags": []
   },
   "outputs": [
    {
     "ename": "AttributeError",
     "evalue": "no field named 'muonIdx'\n\n(https://github.com/scikit-hep/awkward-1.0/blob/1.10.3/src/awkward/highlevel.py#L1124)",
     "output_type": "error",
     "traceback": [
      "\u001b[0;31m---------------------------------------------------------------------------\u001b[0m",
      "\u001b[0;31mAttributeError\u001b[0m                            Traceback (most recent call last)",
      "Cell \u001b[0;32mIn[9], line 2\u001b[0m\n\u001b[1;32m      1\u001b[0m \u001b[38;5;66;03m#print(events_nano.Muon[dsa_nano.muonMatch1idx])\u001b[39;00m\n\u001b[0;32m----> 2\u001b[0m \u001b[38;5;28mprint\u001b[39m(events_llp\u001b[38;5;241m.\u001b[39mMuon[\u001b[43mdsa_llp\u001b[49m\u001b[38;5;241;43m.\u001b[39;49m\u001b[43mmuonIdx\u001b[49m])\n",
      "File \u001b[0;32m/opt/conda/lib/python3.9/site-packages/awkward/highlevel.py:1123\u001b[0m, in \u001b[0;36mArray.__getattr__\u001b[0;34m(self, where)\u001b[0m\n\u001b[1;32m   1117\u001b[0m         \u001b[38;5;28;01mraise\u001b[39;00m \u001b[38;5;167;01mAttributeError\u001b[39;00m(\n\u001b[1;32m   1118\u001b[0m             \u001b[38;5;124m\"\u001b[39m\u001b[38;5;124mwhile trying to get field \u001b[39m\u001b[38;5;132;01m{}\u001b[39;00m\u001b[38;5;124m, an exception \u001b[39m\u001b[38;5;124m\"\u001b[39m\n\u001b[1;32m   1119\u001b[0m             \u001b[38;5;124m\"\u001b[39m\u001b[38;5;124moccurred:\u001b[39m\u001b[38;5;130;01m\\n\u001b[39;00m\u001b[38;5;132;01m{}\u001b[39;00m\u001b[38;5;124m: \u001b[39m\u001b[38;5;132;01m{}\u001b[39;00m\u001b[38;5;124m\"\u001b[39m\u001b[38;5;241m.\u001b[39mformat(\u001b[38;5;28mrepr\u001b[39m(where), \u001b[38;5;28mtype\u001b[39m(err), \u001b[38;5;28mstr\u001b[39m(err))\n\u001b[1;32m   1120\u001b[0m             \u001b[38;5;241m+\u001b[39m ak\u001b[38;5;241m.\u001b[39m_util\u001b[38;5;241m.\u001b[39mexception_suffix(\u001b[38;5;18m__file__\u001b[39m)\n\u001b[1;32m   1121\u001b[0m         ) \u001b[38;5;28;01mfrom\u001b[39;00m \u001b[38;5;21;01merr\u001b[39;00m\n\u001b[1;32m   1122\u001b[0m \u001b[38;5;28;01melse\u001b[39;00m:\n\u001b[0;32m-> 1123\u001b[0m     \u001b[38;5;28;01mraise\u001b[39;00m \u001b[38;5;167;01mAttributeError\u001b[39;00m(\n\u001b[1;32m   1124\u001b[0m         \u001b[38;5;124mf\u001b[39m\u001b[38;5;124m\"\u001b[39m\u001b[38;5;124mno field named \u001b[39m\u001b[38;5;132;01m{\u001b[39;00mwhere\u001b[38;5;132;01m!r}\u001b[39;00m\u001b[38;5;124m\"\u001b[39m \u001b[38;5;241m+\u001b[39m ak\u001b[38;5;241m.\u001b[39m_util\u001b[38;5;241m.\u001b[39mexception_suffix(\u001b[38;5;18m__file__\u001b[39m)\n\u001b[1;32m   1125\u001b[0m     )\n",
      "\u001b[0;31mAttributeError\u001b[0m: no field named 'muonIdx'\n\n(https://github.com/scikit-hep/awkward-1.0/blob/1.10.3/src/awkward/highlevel.py#L1124)"
     ]
    }
   ],
   "source": [
    "#print(events_nano.Muon[dsa_nano.muonMatch1idx])\n",
    "print(events_llp.Muon[dsa_llp.muonIdx])"
   ]
  },
  {
   "cell_type": "code",
   "execution_count": null,
   "id": "741cf920-2b95-4067-8cfb-8c360337ceea",
   "metadata": {
    "tags": []
   },
   "outputs": [],
   "source": [
    "events = events_nano\n",
    "#ak.fields(events)"
   ]
  },
  {
   "cell_type": "code",
   "execution_count": null,
   "id": "9a4af9fd-f872-4af7-becf-a711bab5c149",
   "metadata": {
    "tags": []
   },
   "outputs": [],
   "source": [
    "#/store/group/lpcmetx/SIDM/ULSignalSamples/2018_v3/signals/SIDM_BsTo2DpTo4Mu_MBs-500_MDp-5p0_ctau-0p08/LLPnanoAOD/SIDM_BsTo2DpTo4Mu_MBs-500_MDp-5p0_ctau-0p08_part-0.rootak.fields(events.Muon)"
   ]
  },
  {
   "cell_type": "code",
   "execution_count": null,
   "id": "d08ab941-dadb-4f22-911b-0f59e34f4602",
   "metadata": {
    "tags": []
   },
   "outputs": [],
   "source": [
    "print(events.PV.fields)\n",
    "print(events.PV.pos.rho)\n",
    "print(events.PV.x)\n",
    "print(events.PV.y)\n",
    "print(events.BS)\n",
    "print(events.BS.fields)\n",
    "print(events.BS.x)\n",
    "print(events.BS.y)\n",
    "print(utilities.rho(events.PV, ref=events.BS))\n",
    "print(events.PV)\n",
    "print(events.PV.npvs)\n",
    "print(events.PV.npvsGood)\n",
    "print(min(events.PV.npvsGood))\n",
    "print(events.PV.ndof)\n",
    "print(len(events.PV.z < 24))\n",
    "print(len(events.Muon.pt > 100))\n",
    "print(events.MET)\n",
    "print(events.MET.fields)\n",
    "print(ak.count([1, 2, 3], keepdims=False))\n",
    "print(events.PV.ndim)\n",
    "print(events.MET.ndim)\n",
    "print(events.Muon.ndim)\n",
    "print(ak.ones_like(events.MET.x, dtype=np.int32))\n",
    "print(ak.unflatten(events.MET, ak.ones_like(events.MET.x, dtype=np.int32)))\n",
    "print(events.MET.fields)\n",
    "print(events.PV.fields)\n",
    "print(events.genWeight.fields)\n",
    "print(events.event.fields)"
   ]
  },
  {
   "cell_type": "code",
   "execution_count": null,
   "id": "90973d33-c1d7-4b0b-9781-f3a860728518",
   "metadata": {
    "tags": []
   },
   "outputs": [],
   "source": [
    "print(events.GenPart.fields)\n",
    "print(events.GenPart.pdgId)\n",
    "print(ak.num(events.GenPart[abs(events.GenPart.pdgId)==13]))\n",
    "genAs = events.GenPart[abs(events.GenPart.pdgId)==32]\n",
    "print(ak.num(genAs))\n",
    "print(genAs.children.pdgId)\n",
    "print(abs(events.GenPart.pdgId))\n",
    "print(ak.all(abs(genAs.children.pdgId) == 13, axis=-1))\n",
    "#print((genAs - genAs.children[:, 0]).r)\n",
    "#genAs_toE = genAs[ak.all(abs(genAs.children.pdgId) == 11, axis=-1)]\n",
    "#genAs_toMu = genAs[ak.all(abs(genAs.children.pdgId) == 13, axis=-1)]\n",
    "#print(genAs_toMu)\n",
    "#print((genAs_toMu - genAs_toMu.children[:, 0]).r)\n",
    "#genAs_toE = genAs_toE[ak.num(genAs_toE) > 0]\n",
    "#print(genAs_toE)\n",
    "#print((genAs_toE - genAs_toE.children[:, 0]).r)"
   ]
  },
  {
   "cell_type": "code",
   "execution_count": null,
   "id": "14363b6b-04eb-41c8-869c-be485a72bae8",
   "metadata": {
    "tags": []
   },
   "outputs": [],
   "source": [
    "#events.Electron.fields"
   ]
  },
  {
   "cell_type": "code",
   "execution_count": null,
   "id": "f2a4db8d-0e5a-47b1-83a0-da1488c83f2d",
   "metadata": {
    "tags": []
   },
   "outputs": [],
   "source": [
    "events[ak.num(events.Electron)>0].Electron.vidNestedWPBitmap"
   ]
  },
  {
   "cell_type": "code",
   "execution_count": null,
   "id": "a0b1ecbe-4a86-4ee4-91fc-e774b55d0ca9",
   "metadata": {
    "tags": []
   },
   "outputs": [],
   "source": [
    "#events.DSAMuon.fields"
   ]
  },
  {
   "cell_type": "code",
   "execution_count": null,
   "id": "c05feb05-a5d5-45de-97f9-3cd38314daf6",
   "metadata": {
    "tags": []
   },
   "outputs": [],
   "source": [
    "print(events.DSAMuon)\n",
    "print(events.DSAMuon.nSegments)\n",
    "print(ak.num(events.DSAMuon))\n",
    "print(ak.num(events.DSAMuon[events.DSAMuon.muonMatch1/events.DSAMuon.nSegments < 0.667]))"
   ]
  },
  {
   "cell_type": "code",
   "execution_count": null,
   "id": "096a96a8-dea0-4d03-848f-bf3605ad4d01",
   "metadata": {
    "tags": []
   },
   "outputs": [],
   "source": [
    "print(events.DSAMuon.muonMatch1)\n",
    "print(events.Muon.phi)\n",
    "print(events.Muon._events().DSAMuon._apply_global_index(events.DSAMuon.muonMatch1))"
   ]
  },
  {
   "cell_type": "code",
   "execution_count": null,
   "id": "48782a31-e9b2-4255-9d60-926fb7b27c4a",
   "metadata": {
    "tags": []
   },
   "outputs": [],
   "source": [
    "print(events.DSAMuon.muonMatch1)\n",
    "print(events.DSAMuon.muonMatch1idx)\n",
    "print(ak.flatten(events.DSAMuon.muonMatch1idx))\n",
    "#print(events.DSAMuon.outerPhi)\n",
    "print(events.Muon.outerPhi)\n",
    "print(events.Muon[ak.values_astype(events.DSAMuon.muonMatch1idx, \"int64\")].outerPhi)\n",
    "utilities.dR_outer(events.DSAMuon, events.Muon[ak.values_astype(events.DSAMuon.muonMatch1idx, \"int64\")])"
   ]
  },
  {
   "cell_type": "code",
   "execution_count": null,
   "id": "3b4b9199-db31-4785-977c-813e4978c413",
   "metadata": {
    "tags": []
   },
   "outputs": [],
   "source": [
    "#from coffea.nanoevents.schemas.base import zip_forms\n",
    "from coffea.nanoevents.methods import vector as cvec\n",
    "from coffea.nanoevents.methods import nanoaod\n",
    "#print(events.Muon)\n",
    "#print([events.DSAMuon[x] for x in [\"pt\", \"eta\"]])\n",
    "print(events.DSAMuon)\n",
    "forms = {f : events.DSAMuon[f] for f in events.DSAMuon.fields}\n",
    "events.DSAMuon = ak.zip(forms, with_name=\"Muon\", behavior=nanoaod.behavior)\n",
    "print(events.DSAMuon)\n",
    "print(events.DSAMuon.nearest(events.Muon))"
   ]
  },
  {
   "cell_type": "code",
   "execution_count": null,
   "id": "170b45de-79a1-47a7-9a6f-18adbe999dc6",
   "metadata": {
    "tags": []
   },
   "outputs": [],
   "source": [
    "dsa = events.DSAMuon\n",
    "dsa"
   ]
  },
  {
   "cell_type": "code",
   "execution_count": null,
   "id": "d56b6e2d-2d01-4554-a246-5303f53a2c23",
   "metadata": {
    "tags": []
   },
   "outputs": [],
   "source": [
    "mu = events.Muon\n",
    "mu"
   ]
  },
  {
   "cell_type": "code",
   "execution_count": null,
   "id": "1780ef48-c98b-4f6e-9158-009a1a21d93f",
   "metadata": {
    "tags": []
   },
   "outputs": [],
   "source": [
    "print(dsa.muonMatch1idx)\n",
    "print(mu.pt)\n",
    "print(ak.local_index(mu))\n",
    "print()\n",
    "print(mu[dsa.muonMatch1idx].pt)"
   ]
  },
  {
   "cell_type": "code",
   "execution_count": null,
   "id": "15a3155e-104b-4f39-80ed-c176092f2f70",
   "metadata": {
    "tags": []
   },
   "outputs": [],
   "source": [
    "def indices_to_booleans(indices, akjrray_to_slice):\n",
    "    whole_set, in_set = ak.unzip(\n",
    "        ak.cartesian(\n",
    "            [ak.local_index(array_to_slice), indices],\n",
    "            nested=True\n",
    "        )\n",
    "    )\n",
    "    print(whole_set)\n",
    "    print(in_set)\n",
    "    return ak.any(whole_set == in_set, axis=-1)\n",
    "\n",
    "print(indices_to_booleans(dsa.muonMatch1idx, mu))\n"
   ]
  },
  {
   "cell_type": "code",
   "execution_count": null,
   "id": "f471ab84-cb11-4762-948f-40a169d203ac",
   "metadata": {
    "tags": []
   },
   "outputs": [],
   "source": [
    "def findPfMatch(dsa):\n",
    "    for i in range(1, 2):\n",
    "        print(i)\n",
    "        lengths = ak.num(dsa[f\"muonMatch{i}idx\"])\n",
    "        print(lengths)\n",
    "        print(dsa[f\"muonMatch{i}idx\"])\n",
    "\n",
    "        cand = mu[ak.flatten(dsa[f\"muonMatch{i}idx\"], axis=-2)]\n",
    "        print(cand.pt)\n",
    "        "
   ]
  },
  {
   "cell_type": "code",
   "execution_count": null,
   "id": "5b6806e0-92a3-4d5a-9b36-1f2d62c4595c",
   "metadata": {
    "tags": []
   },
   "outputs": [],
   "source": [
    "#print(mu[0].pt)\n",
    "findPfMatch(dsa)"
   ]
  },
  {
   "cell_type": "code",
   "execution_count": null,
   "id": "38b88ad1-193b-4769-816f-d43f0c4f153b",
   "metadata": {
    "tags": []
   },
   "outputs": [],
   "source": [
    "#g = events.GenPart\n",
    "#print(g)\n",
    "#print(ak.count(g))\n",
    "#print(ak.num(g, axis=1))\n",
    "#print(ak.num(g, axis=0))\n",
    "#print(ak.num(g.children, axis=2))\n",
    "#g = g[ak.num(g.children, axis=2) > 0]\n",
    "#print(g.children[ak.num(g.children, axis=2) > 0][:, :, 0])\n",
    "#print(ak.count(ak.num(g.children, axis=2) > 0))\n",
    "#print(g.children[:, :, 0])\n",
    "#print((g - g.children[:, :, 0]))\n",
    "#print(ak.num(g.children))\n",
    "#print(ak.firsts(g.children))\n",
    "#print(ak.num(ak.firsts(g.children)))\n",
    "#print(~ak.is_none(ak.firsts(g.children)))\n",
    "#print((g - g.children[:, :, 0]).r)\n",
    "#print(g.pdgId)\n",
    "#zd = g[g.pdgId == 32]\n",
    "#ak.num(zd.children)\n",
    "#print(zd)\n",
    "#zd_lxy = (zd - ak.firsts(zd.children)).r\n",
    "#print(zd_lxy)\n",
    "#print(ak.num(zd_lxy, axis=1))\n",
    "zd = events.GenPart[abs(events.GenPart.pdgId) == 32]\n",
    "print(zd)\n",
    "print(ak.num(zd))"
   ]
  },
  {
   "cell_type": "code",
   "execution_count": null,
   "id": "715d9b73-767b-4c00-a2c6-95043e438532",
   "metadata": {},
   "outputs": [],
   "source": [
    "runner = processor.Runner(\n",
    "    executor=processor.IterativeExecutor(),\n",
    "    #executor=processor.FuturesExecutor(),\n",
    "    schema=NanoAODSchema,\n",
    "    maxchunks=1,\n",
    ")\n",
    "\n",
    "channels = [\n",
    "        #\"llpnano\",\n",
    "        #\"4mu\",\n",
    "        #\"baseNoLj_A_mumu_matched_lj\",\n",
    "        \"baseNoLj\",\n",
    "]\n",
    "p = sidm_processor.SidmProcessor(\n",
    "    channels,\n",
    "    [\"base_plus_gen\"],\n",
    "    #verbose=True,\n",
    ")\n",
    "\n",
    "output = runner.run(fileset, treename='Events', processor_instance=p)\n",
    "out = output[\"out\"]"
   ]
  },
  {
   "cell_type": "code",
   "execution_count": null,
   "id": "fdfea3f5-c92d-4a52-b774-1fd49e5128bc",
   "metadata": {
    "tags": []
   },
   "outputs": [],
   "source": [
    "hists = out[samples[0]][\"hists\"]"
   ]
  },
  {
   "cell_type": "code",
   "execution_count": null,
   "id": "d04444b6-385b-4b91-87ae-6e6254b5426a",
   "metadata": {
    "tags": []
   },
   "outputs": [],
   "source": [
    "ch = channels[0]\n",
    "plt.subplots(1, 2, figsize=(24, 10))\n",
    "plt.subplot(1, 2, 1)\n",
    "utilities.plot(hists[\"muon_n\"][ch, :])\n",
    "utilities.plot(hists[\"dsaMuon_n\"][ch, :])\n",
    "plt.legend([\"PF\", \"DSA\"])\n",
    "plt.subplot(1, 2, 2)\n",
    "utilities.plot(hists[\"muon_pt\"][ch, ::2j])\n",
    "utilities.plot(hists[\"dsaMuon_pt\"][ch, ::2j])\n",
    "plt.legend([\"PF\", \"DSA\"])"
   ]
  },
  {
   "cell_type": "code",
   "execution_count": null,
   "id": "c1a63421-e6ea-42f3-8e45-918f5bd81ee5",
   "metadata": {
    "tags": []
   },
   "outputs": [],
   "source": [
    "plt.subplots(1, 2, figsize=(24, 10))\n",
    "plt.subplot(1, 2, 1)\n",
    "utilities.plot(hists[\"lj_n\"][ch, :])\n",
    "plt.subplot(1, 2, 2)\n",
    "utilities.plot(hists[\"lj_pt\"][ch, :])"
   ]
  },
  {
   "cell_type": "code",
   "execution_count": null,
   "id": "b38c6bd5-ad21-44e9-9d90-829c14234157",
   "metadata": {},
   "outputs": [],
   "source": [
    "plt.subplots(2, 2, figsize=(24, 24))\n",
    "plt.subplot(2, 2, 1)\n",
    "utilities.plot(hists[\"lj_electronN\"][ch, :])\n",
    "plt.subplot(2, 2, 2)\n",
    "utilities.plot(hists[\"lj_photonN\"][ch, :])\n",
    "plt.subplot(2, 2, 3)\n",
    "utilities.plot(hists[\"lj_muonN\"][ch, :])\n",
    "#plt.subplot(2, 2, 4)\n",
    "#utilities.plot(hists[\"lj_dsaMuonN\"][ch, :])"
   ]
  },
  {
   "cell_type": "code",
   "execution_count": null,
   "id": "5ae4325e-b245-4e9a-bbfe-07e5cc268af8",
   "metadata": {},
   "outputs": [],
   "source": [
    "plt.subplots(1, 2, figsize=(24, 10))\n",
    "plt.subplot(1, 2, 1)\n",
    "utilities.plot(hists[\"genAs_pt\"][ch, :])\n",
    "plt.subplot(1, 2, 2)\n",
    "utilities.plot(hists[\"genAs_lxy\"][ch, :])"
   ]
  },
  {
   "cell_type": "code",
   "execution_count": null,
   "id": "2b2e2711-8efb-4280-82bf-5cbf3776cced",
   "metadata": {
    "tags": []
   },
   "outputs": [],
   "source": [
    "utilities.plot(hists[\"genAs_lj_dR_lowRange\"][ch, :])"
   ]
  },
  {
   "cell_type": "code",
   "execution_count": null,
   "id": "5212dfdd-132c-4978-ba61-5b9552d035ed",
   "metadata": {},
   "outputs": [],
   "source": []
  },
  {
   "cell_type": "code",
   "execution_count": null,
   "id": "18e21f36-36c4-481b-a7cb-c12a8af4d8e3",
   "metadata": {},
   "outputs": [],
   "source": []
  },
  {
   "cell_type": "code",
   "execution_count": null,
   "id": "a4896c52-027d-4d6a-a408-4fd2306cbd24",
   "metadata": {},
   "outputs": [],
   "source": []
  }
 ],
 "metadata": {
  "kernelspec": {
   "display_name": "Python 3 (ipykernel)",
   "language": "python",
   "name": "python3"
  },
  "language_info": {
   "codemirror_mode": {
    "name": "ipython",
    "version": 3
   },
   "file_extension": ".py",
   "mimetype": "text/x-python",
   "name": "python",
   "nbconvert_exporter": "python",
   "pygments_lexer": "ipython3",
   "version": "3.9.18"
  }
 },
 "nbformat": 4,
 "nbformat_minor": 5
}
