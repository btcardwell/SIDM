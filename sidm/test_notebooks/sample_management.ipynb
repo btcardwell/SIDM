{
 "cells": [
  {
   "cell_type": "code",
   "execution_count": 1,
   "id": "570b7671-e4bf-4e86-9466-988a3d473645",
   "metadata": {
    "tags": []
   },
   "outputs": [
    {
     "data": {
      "text/plain": [
       "<module 'sidm.tools.utilities' from '/home/cms-jovyan/SIDM/sidm/test_notebooks/../../sidm/tools/utilities.py'>"
      ]
     },
     "execution_count": 1,
     "metadata": {},
     "output_type": "execute_result"
    }
   ],
   "source": [
    "# python\n",
    "import sys\n",
    "import os\n",
    "import importlib\n",
    "# columnar analysis\n",
    "from coffea import processor\n",
    "# local\n",
    "sys.path.insert(1, os.path.join(sys.path[0], '../..')) # fixme: there must be a better way to handle this...\n",
    "from sidm.tools import ffschema, sidm_processor, utilities\n",
    "# always reload local modules to pick up changes during development\n",
    "importlib.reload(ffschema)\n",
    "importlib.reload(sidm_processor)\n",
    "importlib.reload(utilities)"
   ]
  },
  {
   "cell_type": "code",
   "execution_count": 2,
   "id": "88b5bd44-d69b-406e-8323-9a3c08851261",
   "metadata": {},
   "outputs": [
    {
     "data": {
      "application/vnd.jupyter.widget-view+json": {
       "model_id": "f49d017bb3c94d65bfa2c36c895681ed",
       "version_major": 2,
       "version_minor": 0
      },
      "text/plain": [
       "Output()"
      ]
     },
     "metadata": {},
     "output_type": "display_data"
    },
    {
     "data": {
      "text/html": [
       "<pre style=\"white-space:pre;overflow-x:auto;line-height:normal;font-family:Menlo,'DejaVu Sans Mono',consolas,'Courier New',monospace\"></pre>\n"
      ],
      "text/plain": []
     },
     "metadata": {},
     "output_type": "display_data"
    },
    {
     "data": {
      "text/html": [
       "<pre style=\"white-space:pre;overflow-x:auto;line-height:normal;font-family:Menlo,'DejaVu Sans Mono',consolas,'Courier New',monospace\">\n",
       "</pre>\n"
      ],
      "text/plain": [
       "\n"
      ]
     },
     "metadata": {},
     "output_type": "display_data"
    },
    {
     "data": {
      "application/vnd.jupyter.widget-view+json": {
       "model_id": "1bd2947ad317472db4c3da9b58b5f236",
       "version_major": 2,
       "version_minor": 0
      },
      "text/plain": [
       "Output()"
      ]
     },
     "metadata": {},
     "output_type": "display_data"
    },
    {
     "data": {
      "text/html": [
       "<pre style=\"white-space:pre;overflow-x:auto;line-height:normal;font-family:Menlo,'DejaVu Sans Mono',consolas,'Courier New',monospace\"></pre>\n"
      ],
      "text/plain": []
     },
     "metadata": {},
     "output_type": "display_data"
    },
    {
     "data": {
      "text/html": [
       "<pre style=\"white-space:pre;overflow-x:auto;line-height:normal;font-family:Menlo,'DejaVu Sans Mono',consolas,'Courier New',monospace\">\n",
       "</pre>\n"
      ],
      "text/plain": [
       "\n"
      ]
     },
     "metadata": {},
     "output_type": "display_data"
    }
   ],
   "source": [
    "samples = [\n",
    "    \"2Mu2E_100GeV_1p2GeV_0p096mm\",\n",
    "    \"2Mu2E_100GeV_1p2GeV_9p6mm\",\n",
    "]\n",
    "fileset = utilities.make_fileset(samples, \"ffntuple_v4\")\n",
    "\n",
    "runner = processor.Runner(\n",
    "    executor=processor.FuturesExecutor(),\n",
    "    schema=ffschema.FFSchema,\n",
    ")\n",
    "\n",
    "p = sidm_processor.SidmProcessor(\n",
    "    [\n",
    "        \"2mu2e\",\n",
    "    ],\n",
    "    [\"base\"]\n",
    ")\n",
    "\n",
    "output = runner.run(fileset, treename=\"ffNtuplizer/ffNtuple\", processor_instance=p)"
   ]
  },
  {
   "cell_type": "code",
   "execution_count": 3,
   "id": "0facc489-ae55-4266-b991-d8b133b11a3c",
   "metadata": {},
   "outputs": [
    {
     "name": "stdout",
     "output_type": "stream",
     "text": [
      "cut name        individual cut N    all cut N\n",
      "------------  ------------------  -----------\n",
      "No selection             25147.4      25147.4\n",
      "PV filter                25147.4      25147.4\n",
      "Cosmic veto              25147.4      25147.4\n",
      ">=2 LJs                   9196.2       9196.2\n",
      "2mu2e                     9194.8       9194.8\n",
      "cut name        individual %    marginal %    cumulative %\n",
      "------------  --------------  ------------  --------------\n",
      "No selection           100.0         100.0           100.0\n",
      "PV filter              100.0         100.0           100.0\n",
      "Cosmic veto            100.0         100.0           100.0\n",
      ">=2 LJs                 36.6          36.6            36.6\n",
      "2mu2e                   36.6         100.0            36.6\n",
      "\n",
      "cut name        individual cut N    all cut N\n",
      "------------  ------------------  -----------\n",
      "No selection             18970.4      18970.4\n",
      "PV filter                18970.4      18970.4\n",
      "Cosmic veto              18970.4      18970.4\n",
      ">=2 LJs                   3096.4       3096.4\n",
      "2mu2e                     3095.1       3095.1\n",
      "cut name        individual %    marginal %    cumulative %\n",
      "------------  --------------  ------------  --------------\n",
      "No selection           100.0         100.0           100.0\n",
      "PV filter              100.0         100.0           100.0\n",
      "Cosmic veto            100.0         100.0           100.0\n",
      ">=2 LJs                 16.3          16.3            16.3\n",
      "2mu2e                   16.3         100.0            16.3\n"
     ]
    }
   ],
   "source": [
    "output['out'][\"2Mu2E_100GeV_1p2GeV_0p096mm\"][\"cutflow\"][\"2mu2e\"].print_table()\n",
    "output['out'][\"2Mu2E_100GeV_1p2GeV_0p096mm\"][\"cutflow\"][\"2mu2e\"].print_table(fraction=True)\n",
    "print()\n",
    "output['out'][\"2Mu2E_100GeV_1p2GeV_9p6mm\"][\"cutflow\"][\"2mu2e\"].print_table()\n",
    "output['out'][\"2Mu2E_100GeV_1p2GeV_9p6mm\"][\"cutflow\"][\"2mu2e\"].print_table(fraction=True)"
   ]
  },
  {
   "cell_type": "code",
   "execution_count": null,
   "id": "b7416f6c-edcb-4d47-aeb9-8b7677165226",
   "metadata": {},
   "outputs": [],
   "source": []
  }
 ],
 "metadata": {
  "kernelspec": {
   "display_name": "Python 3 (ipykernel)",
   "language": "python",
   "name": "python3"
  },
  "language_info": {
   "codemirror_mode": {
    "name": "ipython",
    "version": 3
   },
   "file_extension": ".py",
   "mimetype": "text/x-python",
   "name": "python",
   "nbconvert_exporter": "python",
   "pygments_lexer": "ipython3",
   "version": "3.8.16"
  }
 },
 "nbformat": 4,
 "nbformat_minor": 5
}
