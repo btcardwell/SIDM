{
 "cells": [
  {
   "cell_type": "code",
   "execution_count": 1,
   "id": "0d349374-99c8-4fbc-9b3c-f639aabda59b",
   "metadata": {
    "tags": []
   },
   "outputs": [],
   "source": [
    "# python\n",
    "import sys\n",
    "import os\n",
    "import importlib\n",
    "# columnar analysis\n",
    "from coffea import processor\n",
    "import awkward as ak\n",
    "from dask.distributed import Client\n",
    "# local\n",
    "sys.path.insert(1, os.path.join(sys.path[0], '../..')) # fixme: there must be a better way to handle this...\n",
    "from sidm.tools import ffschema, sidm_processor, utilities\n",
    "# always reload local modules to pick up changes during development\n",
    "importlib.reload(ffschema)\n",
    "importlib.reload(sidm_processor)\n",
    "importlib.reload(utilities)\n",
    "# plotting\n",
    "import matplotlib as mpl\n",
    "import matplotlib.pyplot as plt\n",
    "utilities.set_plot_style()\n",
    "%matplotlib inline"
   ]
  },
  {
   "cell_type": "code",
   "execution_count": null,
   "id": "fb129cee-bb96-48ed-a68b-4657cdd4c13a",
   "metadata": {
    "tags": []
   },
   "outputs": [
    {
     "data": {
      "application/vnd.jupyter.widget-view+json": {
       "model_id": "672f8102324f4479a54fd7c80c7fdcba",
       "version_major": 2,
       "version_minor": 0
      },
      "text/plain": [
       "Output()"
      ]
     },
     "metadata": {},
     "output_type": "display_data"
    }
   ],
   "source": [
    "samples = [\n",
    "    \"2Mu2E_100GeV_0p25GeV_0p02mm\",\n",
    "    \"2Mu2E_100GeV_5GeV_0p4mm\",\n",
    "    \"2Mu2E_1000GeV_0p25GeV_0p002mm\",\n",
    "    \"2Mu2E_1000GeV_5GeV_0p04mm\",\n",
    "]\n",
    "fileset = utilities.make_fileset(samples, \"ffntuple_v4\")\n",
    "\n",
    "runner = processor.Runner(\n",
    "    #executor=processor.IterativeExecutor(),\n",
    "    executor=processor.FuturesExecutor(),\n",
    "    schema=ffschema.FFSchema,\n",
    "    #maxchunks=1,\n",
    ")\n",
    "\n",
    "channels = [\"baseNoLj\", \"pvAndCosmic_cuts\"] #\"2mu2e\"\n",
    "p = sidm_processor.SidmProcessor(\n",
    "    channels,\n",
    "    [\"electron_extra\", \"base\"  \n",
    "\n",
    "    ],\n",
    ")\n",
    "\n",
    "output = runner.run(fileset, treename=\"ffNtuplizer/ffNtuple\", processor_instance=p)\n",
    "out = output[\"out\"]"
   ]
  },
  {
   "cell_type": "raw",
   "id": "c3f28222-c3c1-4345-b631-4f3f5a45cf2e",
   "metadata": {},
   "source": [
    "Plots compare two seperate channels:\n",
    "\n",
    "Channel0 allows all electrons through the cut\n",
    "\n",
    "Channel1 only allows the specific electrons with that ID through"
   ]
  },
  {
   "cell_type": "markdown",
   "id": "bf93d134-8755-480e-86d0-11bceef14719",
   "metadata": {
    "tags": []
   },
   "source": [
    "# |∆ηseed|:\n",
    "\n",
    "tracking based variable, |∆η| between GSF track and supercluster seed."
   ]
  },
  {
   "cell_type": "code",
   "execution_count": null,
   "id": "b367fdbd-91af-454f-a3d3-2f820586d0dd",
   "metadata": {
    "jupyter": {
     "source_hidden": true
    },
    "tags": []
   },
   "outputs": [],
   "source": [
    "#for sample in samples:\n",
    "    #hists = out[sample][\"hists\"]\n",
    "    #utilities.plot(hists[\"electron_GsfEleDEtaInSeedCut\"][channels [0],:], label = sample, density = True)\n",
    "#plt.legend()\n",
    "#plt.xlabel(\"Δηseed\")\n",
    "#plt.ylabel(\"Number of Events\")\n",
    "\n",
    "for sample in samples:\n",
    "    hists = out[sample][\"hists\"]\n",
    "plt.subplots(1, 2, figsize=(20, 13))\n",
    "plt.subplot(1, 2, 1)\n",
    "for sample in samples:\n",
    "    utilities.plot(out[sample][\"hists\"][\"electron_GsfEleDEtaInSeedCut\"][channels[0], :], label = sample, density = True)\n",
    "plt.legend(prop={'size': 15})\n",
    "plt.xlabel(\"Δηseed, Channel 0\")\n",
    "plt.ylabel(\"Number of Events\")\n",
    "plt.subplot(1, 2, 2)\n",
    "for sample in samples:\n",
    "    utilities.plot(out[sample][\"hists\"][\"electron_GsfEleDEtaInSeedCut\"][channels[1], :], label = sample, density = True)\n",
    "plt.legend(prop={'size': 15})\n",
    "plt.xlabel(\"Δηseed, Channel 1\")\n",
    "plt.ylabel(\"Number of Events\")"
   ]
  },
  {
   "cell_type": "markdown",
   "id": "2e1f8122-5f82-4672-a976-fc5a6333812a",
   "metadata": {
    "tags": []
   },
   "source": [
    "# |∆φin|:\n",
    "\n",
    "tracking based variable, |∆φ| between GSF track and supercluster."
   ]
  },
  {
   "cell_type": "code",
   "execution_count": null,
   "id": "fb453490-321f-4f38-8a25-3aeb97724a0d",
   "metadata": {
    "jupyter": {
     "source_hidden": true
    },
    "tags": []
   },
   "outputs": [],
   "source": [
    "#for sample in samples:\n",
    "    #hists = out[sample][\"hists\"]\n",
    "    #utilities.plot(hists[\"electron_GsfEleDPhiInCut\"][channels [0],:], label = sample, density = True)\n",
    "#plt.legend()\n",
    "#plt.xlabel(\"Δφin\")\n",
    "#plt.ylabel(\"Number of Events\")\n",
    "\n",
    "\n",
    "for sample in samples:\n",
    "    hists = out[sample][\"hists\"]\n",
    "plt.subplots(1, 2, figsize=(20, 13))\n",
    "plt.subplot(1, 2, 1)\n",
    "for sample in samples:\n",
    "    utilities.plot(out[sample][\"hists\"][\"electron_GsfEleDPhiInCut\"][channels[0], :], label = sample, density = True)\n",
    "plt.legend(prop={'size': 15})\n",
    "plt.xlabel(\"Δφin, Channel 0\")\n",
    "plt.ylabel(\"Number of Events\")\n",
    "plt.subplot(1, 2, 2)\n",
    "for sample in samples:\n",
    "    utilities.plot(out[sample][\"hists\"][\"electron_GsfEleDPhiInCut\"][channels[1], :], label = sample, density = True)\n",
    "plt.legend(prop={'size': 15})\n",
    "plt.xlabel(\"Δφin, Channel 1\")\n",
    "plt.ylabel(\"Number of Events\")"
   ]
  },
  {
   "cell_type": "markdown",
   "id": "b2b403dd-c0fa-4c79-930a-8079b3482e5c",
   "metadata": {
    "tags": []
   },
   "source": [
    "# |1/E - 1/𝒑|: \n",
    "\n",
    "absolute value of the difference between the ECAL supercluster energy inverse and the GSF track momentum inverse.\n"
   ]
  },
  {
   "cell_type": "code",
   "execution_count": null,
   "id": "d9e4d15f-f9b1-4546-92ce-95ea70bf3099",
   "metadata": {
    "jupyter": {
     "source_hidden": true
    },
    "tags": []
   },
   "outputs": [],
   "source": [
    "#for sample in samples:\n",
    "    #hists = out[sample][\"hists\"]\n",
    "    #utilities.plot(hists[\"electron_GsfEleEInverseMinusPInverseCut\"][channels [0],:], label = sample, density = True)\n",
    "#plt.legend(loc=\"upper right\", prop={'size': 20})\n",
    "#plt.xlabel(\"1/E − 1/p\")\n",
    "#plt.ylabel(\"Number of Events\")\n",
    "#plt.yscale(\"log\")\n",
    "\n",
    "for sample in samples:\n",
    "    hists = out[sample][\"hists\"]\n",
    "plt.subplots(1, 2, figsize=(20, 13))\n",
    "plt.subplot(1, 2, 1)\n",
    "for sample in samples:\n",
    "    utilities.plot(out[sample][\"hists\"][\"electron_GsfEleEInverseMinusPInverseCut\"][channels[0], :], label = sample, density = True)\n",
    "plt.legend(prop={'size': 15})\n",
    "plt.xlabel(\"1/E − 1/p, Channel 0\")\n",
    "plt.ylabel(\"Number of Events\")\n",
    "plt.yscale(\"log\")\n",
    "plt.subplot(1, 2, 2)\n",
    "for sample in samples:\n",
    "    utilities.plot(out[sample][\"hists\"][\"electron_GsfEleEInverseMinusPInverseCut\"][channels[1], :], label = sample, density = True)\n",
    "plt.legend(prop={'size': 15})\n",
    "plt.xlabel(\"1/E − 1/p, Channel 1\")\n",
    "plt.ylabel(\"Number of Events\")\n",
    "plt.yscale(\"log\")"
   ]
  },
  {
   "cell_type": "markdown",
   "id": "6527ce01-2fce-4c90-a760-ace584281b53",
   "metadata": {
    "tags": []
   },
   "source": [
    "# Isolation:\n",
    "relative isolation value with effective area corrections. It is calculated by considering all PFCandidates whose distance to the electron in question satisfies ∆R < 0.3 in the (η, φ) plane:\n",
    "\n",
    "Iso = (Isoch + Isonh + Isopho)/pT"
   ]
  },
  {
   "cell_type": "code",
   "execution_count": null,
   "id": "428703d5-f21b-4ea9-97ba-0814b710ab40",
   "metadata": {
    "jupyter": {
     "source_hidden": true
    },
    "tags": []
   },
   "outputs": [],
   "source": [
    "#for sample in samples:\n",
    "  #  hists = out[sample][\"hists\"]\n",
    " #   utilities.plot(hists[\"electron_GsfEleRelPFIsoScaledCut\"][channels [0],:], label = sample, density = True)\n",
    "#plt.legend( prop={'size': 20})\n",
    "#plt.xlabel(\"Isolation\")\n",
    "#plt.ylabel(\"Number of Events\")\n",
    "#plt.yscale(\"log\")\n",
    "\n",
    "for sample in samples:\n",
    "    hists = out[sample][\"hists\"]\n",
    "plt.subplots(1, 2, figsize=(20, 13))\n",
    "plt.subplot(1, 2, 1)\n",
    "for sample in samples:\n",
    "    utilities.plot(out[sample][\"hists\"][\"electron_GsfEleRelPFIsoScaledCut\"][channels[0], :], label = sample, density = True)\n",
    "plt.legend(prop={'size': 15})\n",
    "plt.xlabel(\"Isolation, Channel 0\")\n",
    "plt.ylabel(\"Number of Events\")\n",
    "plt.yscale(\"log\")\n",
    "plt.subplot(1, 2, 2)\n",
    "for sample in samples:\n",
    "    utilities.plot(out[sample][\"hists\"][\"electron_GsfEleRelPFIsoScaledCut\"][channels[1], :], label = sample, density = True)\n",
    "plt.legend(prop={'size': 15})\n",
    "plt.xlabel(\"Isolation, Channel 1\")\n",
    "plt.ylabel(\"Number of Events\")\n",
    "plt.yscale(\"log\")"
   ]
  },
  {
   "cell_type": "markdown",
   "id": "ce2c00d8-8101-4373-9f1b-3f39ed992ea9",
   "metadata": {
    "tags": []
   },
   "source": [
    "# σiηiη:\n",
    "\n",
    "shower shape variable, defined as the energy-weighted standard deviation of\n",
    "a single crystal eta within the 5 × 5 crystals centered at the crystal with maximum\n",
    "energy."
   ]
  },
  {
   "cell_type": "code",
   "execution_count": null,
   "id": "aac20738-5f27-432c-b972-8059f1af5577",
   "metadata": {
    "jupyter": {
     "source_hidden": true
    },
    "tags": []
   },
   "outputs": [],
   "source": [
    "#for sample in samples:\n",
    " #   hists = out[sample][\"hists\"]\n",
    "  #  utilities.plot(hists[\"electron_GsfEleFull5x5SigmaIEtaIEtaCut\"][channels [0],:], label = sample, density = True)\n",
    "#plt.legend(loc=\"upper right\", prop={'size': 18})\n",
    "#plt.xlabel(\"σiηiη\")\n",
    "#plt.ylabel(\"Number of Events\")\n",
    "#plt.yscale(\"log\")\n",
    "\n",
    "for sample in samples:\n",
    "    hists = out[sample][\"hists\"]\n",
    "plt.subplots(1, 2, figsize=(20, 13))\n",
    "plt.subplot(1, 2, 1)\n",
    "for sample in samples:\n",
    "    utilities.plot(out[sample][\"hists\"][\"electron_GsfEleFull5x5SigmaIEtaIEtaCut\"][channels[0], :], label = sample, density = True)\n",
    "plt.legend(loc=\"upper right\", prop={'size': 17})\n",
    "plt.xlabel(\"σiηiη, Channel 0\")\n",
    "plt.ylabel(\"Number of Events\")\n",
    "plt.yscale(\"log\")\n",
    "plt.subplot(1, 2, 2)\n",
    "for sample in samples:\n",
    "    utilities.plot(out[sample][\"hists\"][\"electron_GsfEleFull5x5SigmaIEtaIEtaCut\"][channels[1], :], label = sample, density = True)\n",
    "plt.legend(loc=\"upper right\", prop={'size': 17})\n",
    "plt.xlabel(\"σiηiη, Channel 1\")\n",
    "plt.ylabel(\"Number of Events\")\n",
    "plt.yscale(\"log\")"
   ]
  },
  {
   "cell_type": "markdown",
   "id": "775b883b-75db-4f16-8d03-17ab38bef261",
   "metadata": {
    "tags": []
   },
   "source": [
    "# Conversion veto: \n",
    "\n",
    "veto designed to identify electrons from photon conversions. A simple test to determine whether an electron fails or passes through the ID in an event. "
   ]
  },
  {
   "cell_type": "code",
   "execution_count": null,
   "id": "acf56ebe-5cfd-4caa-bc85-83c0f1ff08bd",
   "metadata": {
    "jupyter": {
     "source_hidden": true
    },
    "tags": []
   },
   "outputs": [],
   "source": [
    "#for sample in samples:\n",
    " #   hists = out[sample][\"hists\"]\n",
    "  #  utilities.plot(hists[\"electron_GsfEleConversionVetoCut\"][channels [1],:], label = sample, density = True)\n",
    "#plt.legend(loc=\"upper right\", prop={'size': 18})\n",
    "#plt.xlabel(\"Conversion veto\")\n",
    "#plt.ylabel(\"Number of Events\")\n",
    "\n",
    "for sample in samples:\n",
    "    hists = out[sample][\"hists\"]\n",
    "plt.subplots(1, 2, figsize=(23, 15))\n",
    "plt.subplot(1, 2, 1)\n",
    "for sample in samples:\n",
    "    utilities.plot(out[sample][\"hists\"][\"electron_GsfEleConversionVetoCut\"][channels[0], :], label = sample, density = True)\n",
    "plt.legend(loc=\"upper right\", prop={'size': 19})\n",
    "plt.xlabel(\"Conversion veto, Channel 0\")\n",
    "plt.ylabel(\"Number of Events\")\n",
    "plt.subplot(1, 2, 2)\n",
    "for sample in samples:\n",
    "    utilities.plot(out[sample][\"hists\"][\"electron_GsfEleConversionVetoCut\"][channels[1], :], label = sample, density = True)\n",
    "plt.legend(loc=\"upper right\", prop={'size': 19})\n",
    "plt.xlabel(\"Conversion veto, Channel 1\")\n",
    "plt.ylabel(\"Number of Events\")"
   ]
  },
  {
   "cell_type": "markdown",
   "id": "2adba01b-be5f-4d8c-9883-f59611f1718b",
   "metadata": {
    "tags": []
   },
   "source": [
    "# H/E:\n",
    "\n",
    "ratio of the energy deposited in the single closest HCAL tower to the supercluster position inside a cone of ∆R = 0.15 in the (η, φ) plane to the energy deposited at ECAL."
   ]
  },
  {
   "cell_type": "code",
   "execution_count": null,
   "id": "700ed12a-eb4c-47c6-81a8-52c612f5665a",
   "metadata": {
    "jupyter": {
     "source_hidden": true
    },
    "tags": []
   },
   "outputs": [],
   "source": [
    "#for sample in samples:\n",
    " #   hists = out[sample][\"hists\"]\n",
    "  #  utilities.plot(hists[\"electron_GsfEleHadronicOverEMEnergyScaledCut\"][channels [0],:], label = sample, density = True)\n",
    "#plt.legend(loc=\"upper right\", prop={'size': 20})\n",
    "#plt.xlabel(\"H/E\")\n",
    "#plt.ylabel(\"Number of Events\")\n",
    "#plt.yscale(\"log\")\n",
    "\n",
    "for sample in samples:\n",
    "    hists = out[sample][\"hists\"]\n",
    "plt.subplots(1, 2, figsize=(23, 15))\n",
    "plt.subplot(1, 2, 1)\n",
    "for sample in samples:\n",
    "    utilities.plot(out[sample][\"hists\"][\"electron_GsfEleHadronicOverEMEnergyScaledCut\"][channels[0], :], label = sample, density = True)\n",
    "plt.legend(loc=\"upper right\", prop={'size': 22})\n",
    "plt.xlabel(\"H/E, Channel 0\")\n",
    "plt.ylabel(\"Number of Events\")\n",
    "plt.yscale(\"log\")\n",
    "plt.subplot(1, 2, 2)\n",
    "for sample in samples:\n",
    "    utilities.plot(out[sample][\"hists\"][\"electron_GsfEleHadronicOverEMEnergyScaledCut\"][channels[1], :], label = sample, density = True)\n",
    "plt.legend(loc=\"upper right\", prop={'size': 22})\n",
    "plt.xlabel(\"H/E, Channel 1\")\n",
    "plt.ylabel(\"Number of Events\")\n",
    "plt.yscale(\"log\")"
   ]
  },
  {
   "cell_type": "code",
   "execution_count": null,
   "id": "67a48a74-a8c2-43c0-b2aa-61a160916773",
   "metadata": {
    "jupyter": {
     "source_hidden": true
    },
    "tags": []
   },
   "outputs": [],
   "source": [
    "#Q: how variables chanae with displacement, pick a boundatate mass and a photon mass where only displacemt is changing\n",
    "#vertical line where the cut is according to the table in the analysis"
   ]
  },
  {
   "cell_type": "markdown",
   "id": "269a57ec-2193-4172-a75a-c7d42572ede3",
   "metadata": {},
   "source": [
    "# Expected missing inner hits:\n",
    "\n",
    "number of missing hits expected for GSF track."
   ]
  },
  {
   "cell_type": "code",
   "execution_count": null,
   "id": "d7b9a287-c6af-4e04-a5c9-e86d52db27f2",
   "metadata": {
    "jupyter": {
     "source_hidden": true
    },
    "tags": []
   },
   "outputs": [],
   "source": [
    "#for sample in samples:\n",
    "   # hists = out[sample][\"hists\"]\n",
    "    #utilities.plot(hists[\"electron_GsfEleMissingHitsCut\"][channels [1],:], label = sample, density = True)\n",
    "#plt.legend(loc=\"upper right\", prop={'size': 20})\n",
    "#plt.xlabel(\"Expected Missing Inner Hits\")\n",
    "#plt.ylabel(\"Number of Events\")\n",
    "\n",
    "\n",
    "for sample in samples:\n",
    "    hists = out[sample][\"hists\"]\n",
    "plt.subplots(1, 2, figsize=(23, 15))\n",
    "plt.subplot(1, 2, 1)\n",
    "for sample in samples:\n",
    "    utilities.plot(out[sample][\"hists\"][\"electron_GsfEleMissingHitsCut\"][channels[0], :], label = sample, density = True)\n",
    "plt.legend(loc=\"upper right\", prop={'size': 22})\n",
    "plt.xlabel(\"Expected Missing Inner Hits, Channel 0\")\n",
    "plt.ylabel(\"Number of Events\")\n",
    "plt.subplot(1, 2, 2)\n",
    "for sample in samples:\n",
    "    utilities.plot(out[sample][\"hists\"][\"electron_GsfEleMissingHitsCut\"][channels[1], :], label = sample, density = True)\n",
    "plt.legend(loc=\"upper right\", prop={'size': 22})\n",
    "plt.xlabel(\"Expected Missing Inner Hits, Channel 1\")\n",
    "plt.ylabel(\"Number of Events\")"
   ]
  },
  {
   "cell_type": "code",
   "execution_count": null,
   "id": "6f91a1cd-059c-447c-a20a-fc5cd33142ee",
   "metadata": {},
   "outputs": [],
   "source": []
  }
 ],
 "metadata": {
  "kernelspec": {
   "display_name": "Python 3 (ipykernel)",
   "language": "python",
   "name": "python3"
  },
  "language_info": {
   "codemirror_mode": {
    "name": "ipython",
    "version": 3
   },
   "file_extension": ".py",
   "mimetype": "text/x-python",
   "name": "python",
   "nbconvert_exporter": "python",
   "pygments_lexer": "ipython3",
   "version": "3.8.16"
  }
 },
 "nbformat": 4,
 "nbformat_minor": 5
}
