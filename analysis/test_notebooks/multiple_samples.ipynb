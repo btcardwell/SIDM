{
 "cells": [
  {
   "cell_type": "code",
   "execution_count": 1,
   "id": "570b7671-e4bf-4e86-9466-988a3d473645",
   "metadata": {
    "tags": []
   },
   "outputs": [
    {
     "data": {
      "text/plain": [
       "<module 'analysis.tools.sidm_processor' from '/home/cms-jovyan/SIDM/analysis/test_notebooks/../../analysis/tools/sidm_processor.py'>"
      ]
     },
     "execution_count": 1,
     "metadata": {},
     "output_type": "execute_result"
    }
   ],
   "source": [
    "# python\n",
    "import sys\n",
    "import os\n",
    "import importlib\n",
    "# columnar analysis\n",
    "from coffea import processor\n",
    "import awkward as ak\n",
    "# local\n",
    "sys.path.insert(1, os.path.join(sys.path[0], '../..')) # fixme: there must be a better way to handle this...\n",
    "from analysis.tools import ffschema, sidm_processor\n",
    "# always reload local modules to pick up changes during development\n",
    "importlib.reload(ffschema)\n",
    "importlib.reload(sidm_processor)"
   ]
  },
  {
   "cell_type": "code",
   "execution_count": 2,
   "id": "88b5bd44-d69b-406e-8323-9a3c08851261",
   "metadata": {},
   "outputs": [
    {
     "data": {
      "application/vnd.jupyter.widget-view+json": {
<<<<<<< HEAD
       "model_id": "38b5e2a38ba743b3b94a2c7ebf667b25",
=======
       "model_id": "ee6c0a5e182c4d24883a92dba0bc640a",
>>>>>>> Plotting with darkPhoton Pt for different data
       "version_major": 2,
       "version_minor": 0
      },
      "text/plain": [
       "Output()"
      ]
     },
     "metadata": {},
     "output_type": "display_data"
    },
    {
     "data": {
      "text/html": [
       "<pre style=\"white-space:pre;overflow-x:auto;line-height:normal;font-family:Menlo,'DejaVu Sans Mono',consolas,'Courier New',monospace\"></pre>\n"
      ],
      "text/plain": []
     },
     "metadata": {},
     "output_type": "display_data"
    },
    {
     "data": {
      "text/html": [
       "<pre style=\"white-space:pre;overflow-x:auto;line-height:normal;font-family:Menlo,'DejaVu Sans Mono',consolas,'Courier New',monospace\">\n",
       "</pre>\n"
      ],
      "text/plain": [
       "\n"
      ]
     },
     "metadata": {},
     "output_type": "display_data"
    },
    {
     "data": {
      "application/vnd.jupyter.widget-view+json": {
<<<<<<< HEAD
       "model_id": "f21cbf7ce33249ada4a774e21045021c",
=======
       "model_id": "7e9337c5223f4c339810e0826dc78780",
>>>>>>> Plotting with darkPhoton Pt for different data
       "version_major": 2,
       "version_minor": 0
      },
      "text/plain": [
       "Output()"
      ]
     },
     "metadata": {},
     "output_type": "display_data"
    },
    {
     "data": {
      "text/html": [
       "<pre style=\"white-space:pre;overflow-x:auto;line-height:normal;font-family:Menlo,'DejaVu Sans Mono',consolas,'Courier New',monospace\"></pre>\n"
      ],
      "text/plain": []
     },
     "metadata": {},
     "output_type": "display_data"
    },
    {
     "data": {
      "text/html": [
       "<pre style=\"white-space:pre;overflow-x:auto;line-height:normal;font-family:Menlo,'DejaVu Sans Mono',consolas,'Courier New',monospace\">\n",
       "</pre>\n"
      ],
      "text/plain": [
       "\n"
      ]
     },
     "metadata": {},
     "output_type": "display_data"
    }
   ],
   "source": [
    "fileset = {\n",
    "    \"2Mu2E_100GeV_1p2GeV_9p6mm\": [\n",
    "        \"root://xcache//store/group/lpcmetx/SIDM/ffNtupleV4/2018/SIDM_XXTo2ATo2Mu2E_mXX-100_mA-1p2_ctau-9p6_TuneCP5_13TeV-madgraph-pythia8/RunIIAutumn18DRPremix-102X_upgrade2018_realistic_v15-v1/210326_161703/0000/ffNtuple_1.root\",\n",
    "    ],\n",
    "    \"2Mu2E_100GeV_1p2GeV_0p096mm\": [\n",
    "        \"root://xcache//store/group/lpcmetx/SIDM/ffNtupleV4/2018/SIDM_XXTo2ATo2Mu2E_mXX-100_mA-1p2_ctau-0p096_TuneCP5_13TeV-madgraph-pythia8/RunIIAutumn18DRPremix-102X_upgrade2018_realistic_v15-v1/210326_155855/0000/ffNtuple_1.root\",\n",
    "    ],\n",
    "}\n",
    "\n",
    "runner = processor.Runner(\n",
    "    executor=processor.IterativeExecutor(),\n",
    "    schema=ffschema.FFSchema,\n",
    ")\n",
    "\n",
    "p = sidm_processor.SidmProcessor(\n",
    "    [\n",
    "        \"2mu2e\",\n",
    "    ],\n",
    "    [\"base\"]\n",
    ")\n",
    "\n",
    "output = runner.run(fileset, treename=\"ffNtuplizer/ffNtuple\", processor_instance=p)"
   ]
  },
  {
   "cell_type": "code",
   "execution_count": 3,
   "id": "0facc489-ae55-4266-b991-d8b133b11a3c",
   "metadata": {
    "tags": []
   },
   "outputs": [
    {
     "name": "stdout",
     "output_type": "stream",
     "text": [
      "cut name        individual cut N    all cut N\n",
      "------------  ------------------  -----------\n",
      "No selection             11518.1      11518.1\n",
      "PV filter                11518.1      11518.1\n",
      "Cosmic veto              11518.1      11518.1\n",
      ">=2 LJs                   1914.4       1914.4\n",
      "2mu2e                     1913.5       1913.5\n",
      "cut name        individual %    marginal %    cumulative %\n",
      "------------  --------------  ------------  --------------\n",
      "No selection           100.0         100.0           100.0\n",
      "PV filter              100.0         100.0           100.0\n",
      "Cosmic veto            100.0         100.0           100.0\n",
      ">=2 LJs                 16.6          16.6            16.6\n",
      "2mu2e                   16.6         100.0            16.6\n",
      "\n",
      "cut name        individual cut N    all cut N\n",
      "------------  ------------------  -----------\n",
      "No selection              2739.1       2739.1\n",
      "PV filter                 2739.1       2739.1\n",
      "Cosmic veto               2739.1       2739.1\n",
      ">=2 LJs                    949.8        949.8\n",
      "2mu2e                      949.8        949.8\n",
      "cut name        individual %    marginal %    cumulative %\n",
      "------------  --------------  ------------  --------------\n",
      "No selection           100.0         100.0           100.0\n",
      "PV filter              100.0         100.0           100.0\n",
      "Cosmic veto            100.0         100.0           100.0\n",
      ">=2 LJs                 34.7          34.7            34.7\n",
      "2mu2e                   34.7         100.0            34.7\n"
     ]
    }
   ],
   "source": [
    "output['out'][\"2Mu2E_100GeV_1p2GeV_9p6mm\"][\"cutflow\"][\"2mu2e\"].print_table()\n",
    "output['out'][\"2Mu2E_100GeV_1p2GeV_9p6mm\"][\"cutflow\"][\"2mu2e\"].print_table(fraction=True)\n",
    "print()\n",
    "output['out'][\"2Mu2E_100GeV_1p2GeV_0p096mm\"][\"cutflow\"][\"2mu2e\"].print_table()\n",
    "output['out'][\"2Mu2E_100GeV_1p2GeV_0p096mm\"][\"cutflow\"][\"2mu2e\"].print_table(fraction=True)"
   ]
  }
 ],
 "metadata": {
  "kernelspec": {
   "display_name": "Python 3 (ipykernel)",
   "language": "python",
   "name": "python3"
  },
  "language_info": {
   "codemirror_mode": {
    "name": "ipython",
    "version": 3
   },
   "file_extension": ".py",
   "mimetype": "text/x-python",
   "name": "python",
   "nbconvert_exporter": "python",
   "pygments_lexer": "ipython3",
   "version": "3.8.16"
  }
 },
 "nbformat": 4,
 "nbformat_minor": 5
}
