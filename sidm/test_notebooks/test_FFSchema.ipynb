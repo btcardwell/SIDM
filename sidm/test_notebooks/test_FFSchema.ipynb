{
 "cells": [
  {
   "cell_type": "code",
   "execution_count": 1,
   "id": "4ecfc1b9-dbfb-4923-a092-a7dc20249deb",
   "metadata": {},
   "outputs": [
    {
     "data": {
      "text/plain": [
       "<module 'sidm.tools.utilities' from '/home/cms-jovyan/SIDM/sidm/test_notebooks/../../sidm/tools/utilities.py'>"
      ]
     },
     "execution_count": 1,
     "metadata": {},
     "output_type": "execute_result"
    }
   ],
   "source": [
    "# python\n",
    "import sys\n",
    "import os\n",
    "import importlib\n",
    "# columnar analysis\n",
    "import uproot\n",
    "import awkward\n",
    "import numpy as np\n",
    "import awkward as ak\n",
    "import coffea.processor as processor\n",
    "from coffea.nanoevents import NanoEventsFactory\n",
    "import hist\n",
    "# local\n",
    "sys.path.insert(1, os.path.join(sys.path[0], '../..')) # fixme: there must be a better way to handle this...\n",
    "from sidm.tools import ffschema, utilities\n",
    "# always reload local modules to pick up changes during development\n",
    "importlib.reload(ffschema)\n",
    "importlib.reload(utilities)"
   ]
  },
  {
   "cell_type": "code",
   "execution_count": 2,
   "id": "2bd55684-ee0a-4de9-9915-009701734953",
   "metadata": {},
   "outputs": [],
   "source": [
    "fname = 'root://xcache//store/group/lpcmetx/SIDM/ffNtupleV4/2018/SIDM_XXTo2ATo2Mu2E_mXX-100_mA-1p2_ctau-9p6_TuneCP5_13TeV-madgraph-pythia8/RunIIAutumn18DRPremix-102X_upgrade2018_realistic_v15-v1/210326_161703/0000/ffNtuple_1.root'"
   ]
  },
  {
   "cell_type": "code",
   "execution_count": 3,
   "id": "22f3392c-3da0-4389-8fc2-2f2b33bdd33c",
   "metadata": {
    "tags": []
   },
   "outputs": [
    {
     "name": "stdout",
     "output_type": "stream",
     "text": [
      "run\n",
      "event\n",
      "lumi\n",
      "fixedGridRho\n",
      "puInteractionNum\n",
      "trueInteractionNum\n",
      "weight\n",
      "weightProduct\n",
      "HLT_DoubleL2Mu23NoVtx_2Cha\n",
      "HLT_DoubleL2Mu23NoVtx_2Cha_NoL2Matched\n",
      "HLT_DoubleL2Mu23NoVtx_2Cha_CosmicSeed\n",
      "HLT_DoubleL2Mu23NoVtx_2Cha_CosmicSeed_NoL2Matched\n",
      "HLT_DoubleL2Mu25NoVtx_2Cha\n",
      "HLT_DoubleL2Mu25NoVtx_2Cha_NoL2Matched\n",
      "HLT_DoubleL2Mu25NoVtx_2Cha_CosmicSeed\n",
      "HLT_DoubleL2Mu25NoVtx_2Cha_CosmicSeed_NoL2Matched\n",
      "HLT_DoubleL2Mu25NoVtx_2Cha_Eta2p4\n",
      "HLT_DoubleL2Mu25NoVtx_2Cha_CosmicSeed_Eta2p4\n",
      "tomatchfilter_result\n",
      "tomatchfilter_HLTDoubleL2Mu23NoVtx2Cha\n",
      "tomatchfilter_HLTDoubleL2Mu23NoVtx2ChaNoL2Matched\n",
      "tomatchfilter_HLTDoubleL2Mu23NoVtx2ChaCosmicSeed\n",
      "tomatchfilter_HLTDoubleL2Mu23NoVtx2ChaCosmicSeedNoL2Matched\n",
      "tomatchfilter_HLTDoubleL2Mu25NoVtx2ChaEta2p4\n",
      "tomatchfilter_HLTDoubleL2Mu25NoVtx2ChaCosmicSeedEta2p4\n",
      "muon\n",
      "gen\n",
      "akjet_ak4PFJetsCHS\n",
      "genmet\n",
      "proxymuon\n",
      "pfMetT1\n",
      "photon\n",
      "pfphoton\n",
      "pfMet\n",
      "cosmicmuon\n",
      "dsamuon\n",
      "pfjet\n",
      "pfMetT0pcT1Txy\n",
      "cosmiconeleg\n",
      "electron\n",
      "pfMetT0pcT1\n",
      "trigobj\n",
      "ljsource\n",
      "genjet\n",
      "pv\n",
      "hftagscore\n",
      "cosmicveto\n",
      "metfilters\n"
     ]
    }
   ],
   "source": [
    "events = NanoEventsFactory.from_root(fname, treepath='ffNtuplizer/ffNtuple', schemaclass=ffschema.FFSchema).events()\n",
    "utilities.print_list(ak.fields(events))"
   ]
  },
  {
   "cell_type": "code",
   "execution_count": 4,
   "id": "63838ef0-c2e7-485d-8ed8-3b35d9576afd",
   "metadata": {},
   "outputs": [
    {
     "data": {
      "text/plain": [
       "<Array [[42.5], [], [], ... [72.5, 38.5], []] type='18359 * var * float32'>"
      ]
     },
     "execution_count": 4,
     "metadata": {},
     "output_type": "execute_result"
    }
   ],
   "source": [
    "events.pfjet.pt\n",
    "#ak.count(events.pfjet_pfcand.pt)\n",
    "#events.muon\n",
    "#events = events[ak.num(events.muon) > 0]\n",
    "#events = events[ak.num(events.electron) > 0]\n",
    "#events.muon[:, 0].p4.delta_r(events.electron.p4)\n",
    "#print(events.pfjet.layout)\n",
    "#print(len(events.pfjet.area))\n",
    "#print(ak.count(events.pfjet.area))\n",
    "#print(events.pfjet.area.ndim)\n",
    "#print(ak.type(events.pfjet.area))\n",
    "#print(events.pfjet.pfcand.pt.ndim)\n",
    "#print(ak.type(events.pfjet.pfcand.pt))"
   ]
  },
  {
   "cell_type": "code",
   "execution_count": 5,
   "id": "d730f748-242e-40ab-a659-3ce32fd9b439",
   "metadata": {},
   "outputs": [
    {
     "data": {
      "text/plain": [
       "<LorentzVectorArray [[{x: -22.2, y: 36.2, ... []] type='18359 * var * LorentzVec...'>"
      ]
     },
     "execution_count": 5,
     "metadata": {},
     "output_type": "execute_result"
    }
   ],
   "source": [
    "events.pfjet"
   ]
  },
  {
   "cell_type": "code",
   "execution_count": 6,
   "id": "d565fec5-75ee-4eb5-8813-68004a99dc7a",
   "metadata": {},
   "outputs": [
    {
     "data": {
      "text/plain": [
       "<Array [[[29.1, 13.4]], ... 21.6, 16.9]], []] type='18359 * var * var * float64[...'>"
      ]
     },
     "execution_count": 6,
     "metadata": {},
     "output_type": "execute_result"
    }
   ],
   "source": [
    "events.pfjet.pfcand.pt"
   ]
  },
  {
   "cell_type": "code",
   "execution_count": 7,
   "id": "a8da2307-4ef6-4e01-b76d-280a22052d61",
   "metadata": {},
   "outputs": [
    {
     "data": {
      "text/plain": [
       "18359 * var * {\"lxy\": float32[parameters={\"__doc__\": \"pfjet_kinvtx_lxy\"}], \"l3d\": float32[parameters={\"__doc__\": \"pfjet_kinvtx_l3d\"}], \"lxySig\": float32[parameters={\"__doc__\": \"pfjet_kinvtx_lxySig\"}], \"l3dSig\": float32[parameters={\"__doc__\": \"pfjet_kinvtx_l3dSig\"}], \"normChi2\": float32[parameters={\"__doc__\": \"pfjet_kinvtx_normChi2\"}], \"prob\": float32[parameters={\"__doc__\": \"pfjet_kinvtx_prob\"}], \"mass\": float32[parameters={\"__doc__\": \"pfjet_kinvtx_mass\"}], \"cosThetaXy\": float32[parameters={\"__doc__\": \"pfjet_kinvtx_cosThetaXy\"}], \"cosTheta3d\": float32[parameters={\"__doc__\": \"pfjet_kinvtx_cosTheta3d\"}], \"impactDistXy\": float32[parameters={\"__doc__\": \"pfjet_kinvtx_impactDistXy\"}], \"impactDist3d\": float32[parameters={\"__doc__\": \"pfjet_kinvtx_impactDist3d\"}], \"tkImpactDist2d\": var * float64[parameters={\"__doc__\": \"pfjet_kinvtx_tkImpactDist2d\"}], \"tkImpactDist3d\": var * float64[parameters={\"__doc__\": \"pfjet_kinvtx_tkImpactDist3d\"}]}"
      ]
     },
     "execution_count": 7,
     "metadata": {},
     "output_type": "execute_result"
    }
   ],
   "source": [
    "ak.type(events.pfjet.kinvtx)"
   ]
  },
  {
   "cell_type": "code",
   "execution_count": 8,
   "id": "33285226-0dd7-4573-8bbb-522e6824b410",
   "metadata": {},
   "outputs": [],
   "source": [
    "events = events[ak.num(events.pfjet) > 0]"
   ]
  },
  {
   "cell_type": "code",
   "execution_count": 9,
   "id": "124ddcf7-532a-4637-9205-40ce0d20f649",
   "metadata": {},
   "outputs": [
    {
     "data": {
      "text/plain": [
       "<Array [[[29.1, 13.4]], ... [21.6, 16.9]]] type='13524 * var * var * float64[par...'>"
      ]
     },
     "execution_count": 9,
     "metadata": {},
     "output_type": "execute_result"
    }
   ],
   "source": [
    "events.pfjet.pfcand.pt[:]"
   ]
  },
  {
   "cell_type": "code",
   "execution_count": 10,
   "id": "da3596e2-88e6-431c-9912-b11cc84e597a",
   "metadata": {},
   "outputs": [
    {
     "data": {
      "text/plain": [
       "29003"
      ]
     },
     "execution_count": 10,
     "metadata": {},
     "output_type": "execute_result"
    }
   ],
   "source": [
    "events.pfjet.pfcand.pt[:]\n",
    "ak.count(events.pfjet.pfcand.pt[:])"
   ]
  },
  {
   "cell_type": "code",
   "execution_count": 11,
   "id": "1b55b00b-bf10-4ce9-8b40-9940456c5d9f",
   "metadata": {},
   "outputs": [
    {
     "data": {
      "text/plain": [
       "<Array [1, 1, 1, 2, 1, 1, ... 1, 2, 1, 1, 1, 2] type='13524 * int64'>"
      ]
     },
     "execution_count": 11,
     "metadata": {},
     "output_type": "execute_result"
    }
   ],
   "source": [
    "ak.num(events.pfjet)"
   ]
  },
  {
   "cell_type": "code",
   "execution_count": 12,
   "id": "53b4ebae-38a3-4051-ba2b-658c52534374",
   "metadata": {},
   "outputs": [
    {
     "data": {
      "text/plain": [
       "['x', 'y']"
      ]
     },
     "execution_count": 12,
     "metadata": {},
     "output_type": "execute_result"
    }
   ],
   "source": [
    "events.genmet.fields"
   ]
  },
  {
   "cell_type": "code",
   "execution_count": 13,
   "id": "661c2ef4-b6c0-4624-a5c5-301f77ff94e3",
   "metadata": {},
   "outputs": [
    {
     "data": {
      "text/plain": [
       "{'Systematic': coffea.nanoevents.methods.base.SystematicRecord,\n",
       " ('*', 'Systematic'): coffea.nanoevents.methods.base.SystematicArray,\n",
       " ('__typestr__', 'Systematic'): 'Systematic',\n",
       " 'UpDownSystematic': coffea.nanoevents.methods.systematics.UpDownSystematic.UpDownSystematicRecord,\n",
       " ('*',\n",
       "  'UpDownSystematic'): coffea.nanoevents.methods.systematics.UpDownSystematic.UpDownSystematicArray,\n",
       " ('__typestr__', 'UpDownSystematic'): 'UpDownSystematic',\n",
       " 'NanoEvents': coffea.nanoevents.methods.base.NanoEventsRecord,\n",
       " ('*', 'NanoEvents'): coffea.nanoevents.methods.base.NanoEventsArray,\n",
       " ('__typestr__', 'NanoEvents'): 'event',\n",
       " 'NanoCollection': coffea.nanoevents.methods.base.NanoCollectionRecord,\n",
       " ('*', 'NanoCollection'): coffea.nanoevents.methods.base.NanoCollectionArray,\n",
       " 'TwoVector': coffea.nanoevents.methods.vector.TwoVectorRecord,\n",
       " ('*', 'TwoVector'): coffea.nanoevents.methods.vector.TwoVectorArray,\n",
       " (<ufunc 'absolute'>,\n",
       "  'TwoVector'): <function coffea.nanoevents.methods.vector.TwoVector.absolute(self)>,\n",
       " (<ufunc 'negative'>,\n",
       "  'TwoVector'): <function coffea.nanoevents.methods.vector.TwoVector.negative(self)>,\n",
       " (<ufunc 'add'>,\n",
       "  'TwoVector',\n",
       "  'TwoVector'): <function coffea.nanoevents.methods.vector.TwoVector.add(self, other)>,\n",
       " (<ufunc 'subtract'>,\n",
       "  'TwoVector',\n",
       "  'ThreeVector'): <function coffea.nanoevents.methods.vector.TwoVector.subtract(self, other)>,\n",
       " (<ufunc 'subtract'>,\n",
       "  'TwoVector',\n",
       "  'TwoVector'): <function coffea.nanoevents.methods.vector.TwoVector.subtract(self, other)>,\n",
       " (<ufunc 'subtract'>,\n",
       "  'TwoVector',\n",
       "  'LorentzVector'): <function coffea.nanoevents.methods.vector.TwoVector.subtract(self, other)>,\n",
       " (<ufunc 'subtract'>,\n",
       "  'TwoVector',\n",
       "  'PtEtaPhiMLorentzVector'): <function coffea.nanoevents.methods.vector.TwoVector.subtract(self, other)>,\n",
       " (<ufunc 'subtract'>,\n",
       "  'TwoVector',\n",
       "  'PtEtaPhiELorentzVector'): <function coffea.nanoevents.methods.vector.TwoVector.subtract(self, other)>,\n",
       " (<ufunc 'subtract'>,\n",
       "  'TwoVector',\n",
       "  'SphericalThreeVector'): <function coffea.nanoevents.methods.vector.TwoVector.subtract(self, other)>,\n",
       " (<ufunc 'multiply'>,\n",
       "  'TwoVector',\n",
       "  numbers.Number): <function coffea.nanoevents.methods.vector.TwoVector.multiply(self, other)>,\n",
       " (<ufunc 'multiply'>,\n",
       "  numbers.Number,\n",
       "  'TwoVector'): <function awkward.behaviors.mixins.mixin_class_method.<locals>.register.<locals>.transposed(left, right)>,\n",
       " (<ufunc 'multiply'>,\n",
       "  'TwoVector',\n",
       "  'TwoVector'): <function coffea.nanoevents.methods.vector.TwoVector.multiply(self, other)>,\n",
       " (<ufunc 'divide'>,\n",
       "  'TwoVector',\n",
       "  numbers.Number): <function coffea.nanoevents.methods.vector.TwoVector.divide(self, other)>,\n",
       " (<ufunc 'divide'>,\n",
       "  numbers.Number,\n",
       "  'TwoVector'): <function awkward.behaviors.mixins.mixin_class_method.<locals>.register.<locals>.transposed(left, right)>,\n",
       " (<ufunc 'divide'>,\n",
       "  'TwoVector',\n",
       "  'TwoVector'): <function coffea.nanoevents.methods.vector.TwoVector.divide(self, other)>,\n",
       " 'PolarTwoVector': coffea.nanoevents.methods.vector.PolarTwoVectorRecord,\n",
       " ('*', 'PolarTwoVector'): coffea.nanoevents.methods.vector.PolarTwoVectorArray,\n",
       " (<ufunc 'multiply'>,\n",
       "  'PolarTwoVector',\n",
       "  numbers.Number): <function coffea.nanoevents.methods.vector.PolarTwoVector.multiply(self, other)>,\n",
       " (<ufunc 'multiply'>,\n",
       "  numbers.Number,\n",
       "  'PolarTwoVector'): <function awkward.behaviors.mixins.mixin_class_method.<locals>.register.<locals>.transposed(left, right)>,\n",
       " (<ufunc 'multiply'>,\n",
       "  'PolarTwoVector',\n",
       "  'PolarTwoVector'): <function coffea.nanoevents.methods.vector.PolarTwoVector.multiply(self, other)>,\n",
       " (<ufunc 'negative'>,\n",
       "  'PolarTwoVector'): <function coffea.nanoevents.methods.vector.PolarTwoVector.negative(self)>,\n",
       " (<ufunc 'absolute'>,\n",
       "  'PolarTwoVector'): <function coffea.nanoevents.methods.vector.TwoVector.absolute(self)>,\n",
       " (<ufunc 'add'>,\n",
       "  'PolarTwoVector',\n",
       "  'TwoVector'): <function coffea.nanoevents.methods.vector.TwoVector.add(self, other)>,\n",
       " (<ufunc 'add'>,\n",
       "  'TwoVector',\n",
       "  'PolarTwoVector'): <function awkward.behaviors.mixins.mixin_class_method.<locals>.register.<locals>.transposed(left, right)>,\n",
       " (<ufunc 'add'>,\n",
       "  'PolarTwoVector',\n",
       "  'PolarTwoVector'): <function coffea.nanoevents.methods.vector.TwoVector.add(self, other)>,\n",
       " (<ufunc 'subtract'>,\n",
       "  'PolarTwoVector',\n",
       "  'ThreeVector'): <function coffea.nanoevents.methods.vector.TwoVector.subtract(self, other)>,\n",
       " (<ufunc 'subtract'>,\n",
       "  'PolarTwoVector',\n",
       "  'TwoVector'): <function coffea.nanoevents.methods.vector.TwoVector.subtract(self, other)>,\n",
       " (<ufunc 'subtract'>,\n",
       "  'PolarTwoVector',\n",
       "  'LorentzVector'): <function coffea.nanoevents.methods.vector.TwoVector.subtract(self, other)>,\n",
       " (<ufunc 'subtract'>,\n",
       "  'PolarTwoVector',\n",
       "  'PtEtaPhiMLorentzVector'): <function coffea.nanoevents.methods.vector.TwoVector.subtract(self, other)>,\n",
       " (<ufunc 'subtract'>,\n",
       "  'PolarTwoVector',\n",
       "  'PtEtaPhiELorentzVector'): <function coffea.nanoevents.methods.vector.TwoVector.subtract(self, other)>,\n",
       " (<ufunc 'subtract'>,\n",
       "  'PolarTwoVector',\n",
       "  'SphericalThreeVector'): <function coffea.nanoevents.methods.vector.TwoVector.subtract(self, other)>,\n",
       " (<ufunc 'subtract'>,\n",
       "  'PolarTwoVector',\n",
       "  'PolarTwoVector'): <function coffea.nanoevents.methods.vector.TwoVector.subtract(self, other)>,\n",
       " (<ufunc 'divide'>,\n",
       "  'PolarTwoVector',\n",
       "  numbers.Number): <function coffea.nanoevents.methods.vector.TwoVector.divide(self, other)>,\n",
       " (<ufunc 'divide'>,\n",
       "  numbers.Number,\n",
       "  'PolarTwoVector'): <function awkward.behaviors.mixins.mixin_class_method.<locals>.register.<locals>.transposed(left, right)>,\n",
       " (<ufunc 'divide'>,\n",
       "  'PolarTwoVector',\n",
       "  'PolarTwoVector'): <function coffea.nanoevents.methods.vector.TwoVector.divide(self, other)>,\n",
       " 'ThreeVector': coffea.nanoevents.methods.vector.ThreeVectorRecord,\n",
       " ('*', 'ThreeVector'): coffea.nanoevents.methods.vector.ThreeVectorArray,\n",
       " (<ufunc 'absolute'>,\n",
       "  'ThreeVector'): <function coffea.nanoevents.methods.vector.ThreeVector.absolute(self)>,\n",
       " (<ufunc 'negative'>,\n",
       "  'ThreeVector'): <function coffea.nanoevents.methods.vector.ThreeVector.negative(self)>,\n",
       " (<ufunc 'add'>,\n",
       "  'ThreeVector',\n",
       "  'ThreeVector'): <function coffea.nanoevents.methods.vector.ThreeVector.add(self, other)>,\n",
       " (<ufunc 'subtract'>,\n",
       "  'ThreeVector',\n",
       "  'ThreeVector'): <function coffea.nanoevents.methods.vector.ThreeVector.subtract(self, other)>,\n",
       " (<ufunc 'subtract'>,\n",
       "  'ThreeVector',\n",
       "  'PtEtaPhiMLorentzVector'): <function coffea.nanoevents.methods.vector.ThreeVector.subtract(self, other)>,\n",
       " (<ufunc 'subtract'>,\n",
       "  'ThreeVector',\n",
       "  'LorentzVector'): <function coffea.nanoevents.methods.vector.ThreeVector.subtract(self, other)>,\n",
       " (<ufunc 'subtract'>,\n",
       "  'ThreeVector',\n",
       "  'PtEtaPhiELorentzVector'): <function coffea.nanoevents.methods.vector.ThreeVector.subtract(self, other)>,\n",
       " (<ufunc 'subtract'>,\n",
       "  'ThreeVector',\n",
       "  'SphericalThreeVector'): <function coffea.nanoevents.methods.vector.ThreeVector.subtract(self, other)>,\n",
       " (<ufunc 'multiply'>,\n",
       "  'ThreeVector',\n",
       "  numbers.Number): <function coffea.nanoevents.methods.vector.ThreeVector.multiply(self, other)>,\n",
       " (<ufunc 'multiply'>,\n",
       "  numbers.Number,\n",
       "  'ThreeVector'): <function awkward.behaviors.mixins.mixin_class_method.<locals>.register.<locals>.transposed(left, right)>,\n",
       " (<ufunc 'multiply'>,\n",
       "  'ThreeVector',\n",
       "  'ThreeVector'): <function coffea.nanoevents.methods.vector.ThreeVector.multiply(self, other)>,\n",
       " (<ufunc 'add'>,\n",
       "  'ThreeVector',\n",
       "  'TwoVector'): <function coffea.nanoevents.methods.vector.TwoVector.add(self, other)>,\n",
       " (<ufunc 'add'>,\n",
       "  'TwoVector',\n",
       "  'ThreeVector'): <function awkward.behaviors.mixins.mixin_class_method.<locals>.register.<locals>.transposed(left, right)>,\n",
       " (<ufunc 'add'>,\n",
       "  'ThreeVector',\n",
       "  'PolarTwoVector'): <function coffea.nanoevents.methods.vector.TwoVector.add(self, other)>,\n",
       " (<ufunc 'add'>,\n",
       "  'PolarTwoVector',\n",
       "  'ThreeVector'): <function awkward.behaviors.mixins.mixin_class_method.<locals>.register.<locals>.transposed(left, right)>,\n",
       " (<ufunc 'subtract'>,\n",
       "  'ThreeVector',\n",
       "  'TwoVector'): <function coffea.nanoevents.methods.vector.TwoVector.subtract(self, other)>,\n",
       " (<ufunc 'subtract'>,\n",
       "  'ThreeVector',\n",
       "  'PolarTwoVector'): <function coffea.nanoevents.methods.vector.TwoVector.subtract(self, other)>,\n",
       " (<ufunc 'divide'>,\n",
       "  'ThreeVector',\n",
       "  numbers.Number): <function coffea.nanoevents.methods.vector.TwoVector.divide(self, other)>,\n",
       " (<ufunc 'divide'>,\n",
       "  numbers.Number,\n",
       "  'ThreeVector'): <function awkward.behaviors.mixins.mixin_class_method.<locals>.register.<locals>.transposed(left, right)>,\n",
       " (<ufunc 'divide'>,\n",
       "  'ThreeVector',\n",
       "  'ThreeVector'): <function coffea.nanoevents.methods.vector.TwoVector.divide(self, other)>,\n",
       " 'SphericalThreeVector': coffea.nanoevents.methods.vector.SphericalThreeVectorRecord,\n",
       " ('*',\n",
       "  'SphericalThreeVector'): coffea.nanoevents.methods.vector.SphericalThreeVectorArray,\n",
       " (<ufunc 'multiply'>,\n",
       "  'SphericalThreeVector',\n",
       "  numbers.Number): <function coffea.nanoevents.methods.vector.SphericalThreeVector.multiply(self, other)>,\n",
       " (<ufunc 'multiply'>,\n",
       "  numbers.Number,\n",
       "  'SphericalThreeVector'): <function awkward.behaviors.mixins.mixin_class_method.<locals>.register.<locals>.transposed(left, right)>,\n",
       " (<ufunc 'multiply'>,\n",
       "  'SphericalThreeVector',\n",
       "  'SphericalThreeVector'): <function coffea.nanoevents.methods.vector.SphericalThreeVector.multiply(self, other)>,\n",
       " (<ufunc 'negative'>,\n",
       "  'SphericalThreeVector'): <function coffea.nanoevents.methods.vector.SphericalThreeVector.negative(self)>,\n",
       " (<ufunc 'absolute'>,\n",
       "  'SphericalThreeVector'): <function coffea.nanoevents.methods.vector.ThreeVector.absolute(self)>,\n",
       " (<ufunc 'add'>,\n",
       "  'SphericalThreeVector',\n",
       "  'ThreeVector'): <function coffea.nanoevents.methods.vector.ThreeVector.add(self, other)>,\n",
       " (<ufunc 'add'>,\n",
       "  'ThreeVector',\n",
       "  'SphericalThreeVector'): <function awkward.behaviors.mixins.mixin_class_method.<locals>.register.<locals>.transposed(left, right)>,\n",
       " (<ufunc 'add'>,\n",
       "  'SphericalThreeVector',\n",
       "  'SphericalThreeVector'): <function coffea.nanoevents.methods.vector.ThreeVector.add(self, other)>,\n",
       " (<ufunc 'subtract'>,\n",
       "  'SphericalThreeVector',\n",
       "  'ThreeVector'): <function coffea.nanoevents.methods.vector.ThreeVector.subtract(self, other)>,\n",
       " (<ufunc 'subtract'>,\n",
       "  'SphericalThreeVector',\n",
       "  'PtEtaPhiMLorentzVector'): <function coffea.nanoevents.methods.vector.ThreeVector.subtract(self, other)>,\n",
       " (<ufunc 'subtract'>,\n",
       "  'SphericalThreeVector',\n",
       "  'LorentzVector'): <function coffea.nanoevents.methods.vector.ThreeVector.subtract(self, other)>,\n",
       " (<ufunc 'subtract'>,\n",
       "  'SphericalThreeVector',\n",
       "  'PtEtaPhiELorentzVector'): <function coffea.nanoevents.methods.vector.ThreeVector.subtract(self, other)>,\n",
       " (<ufunc 'subtract'>,\n",
       "  'SphericalThreeVector',\n",
       "  'SphericalThreeVector'): <function coffea.nanoevents.methods.vector.ThreeVector.subtract(self, other)>,\n",
       " (<ufunc 'add'>,\n",
       "  'SphericalThreeVector',\n",
       "  'TwoVector'): <function coffea.nanoevents.methods.vector.TwoVector.add(self, other)>,\n",
       " (<ufunc 'add'>,\n",
       "  'TwoVector',\n",
       "  'SphericalThreeVector'): <function awkward.behaviors.mixins.mixin_class_method.<locals>.register.<locals>.transposed(left, right)>,\n",
       " (<ufunc 'add'>,\n",
       "  'SphericalThreeVector',\n",
       "  'PolarTwoVector'): <function coffea.nanoevents.methods.vector.TwoVector.add(self, other)>,\n",
       " (<ufunc 'add'>,\n",
       "  'PolarTwoVector',\n",
       "  'SphericalThreeVector'): <function awkward.behaviors.mixins.mixin_class_method.<locals>.register.<locals>.transposed(left, right)>,\n",
       " (<ufunc 'subtract'>,\n",
       "  'SphericalThreeVector',\n",
       "  'TwoVector'): <function coffea.nanoevents.methods.vector.TwoVector.subtract(self, other)>,\n",
       " (<ufunc 'subtract'>,\n",
       "  'SphericalThreeVector',\n",
       "  'PolarTwoVector'): <function coffea.nanoevents.methods.vector.TwoVector.subtract(self, other)>,\n",
       " (<ufunc 'divide'>,\n",
       "  'SphericalThreeVector',\n",
       "  numbers.Number): <function coffea.nanoevents.methods.vector.TwoVector.divide(self, other)>,\n",
       " (<ufunc 'divide'>,\n",
       "  numbers.Number,\n",
       "  'SphericalThreeVector'): <function awkward.behaviors.mixins.mixin_class_method.<locals>.register.<locals>.transposed(left, right)>,\n",
       " (<ufunc 'divide'>,\n",
       "  'SphericalThreeVector',\n",
       "  'SphericalThreeVector'): <function coffea.nanoevents.methods.vector.TwoVector.divide(self, other)>,\n",
       " 'LorentzVector': coffea.nanoevents.methods.vector.LorentzVectorRecord,\n",
       " ('*', 'LorentzVector'): coffea.nanoevents.methods.vector.LorentzVectorArray,\n",
       " (<ufunc 'absolute'>,\n",
       "  'LorentzVector'): <function coffea.nanoevents.methods.vector.LorentzVector.absolute(self)>,\n",
       " (<ufunc 'add'>,\n",
       "  'LorentzVector',\n",
       "  'LorentzVector'): <function coffea.nanoevents.methods.vector.LorentzVector.add(self, other)>,\n",
       " (<ufunc 'subtract'>,\n",
       "  'LorentzVector',\n",
       "  'LorentzVector'): <function coffea.nanoevents.methods.vector.LorentzVector.subtract(self, other)>,\n",
       " (<ufunc 'multiply'>,\n",
       "  'LorentzVector',\n",
       "  numbers.Number): <function coffea.nanoevents.methods.vector.LorentzVector.multiply(self, other)>,\n",
       " (<ufunc 'multiply'>,\n",
       "  numbers.Number,\n",
       "  'LorentzVector'): <function awkward.behaviors.mixins.mixin_class_method.<locals>.register.<locals>.transposed(left, right)>,\n",
       " (<ufunc 'multiply'>,\n",
       "  'LorentzVector',\n",
       "  'LorentzVector'): <function coffea.nanoevents.methods.vector.LorentzVector.multiply(self, other)>,\n",
       " (<ufunc 'negative'>,\n",
       "  'LorentzVector'): <function coffea.nanoevents.methods.vector.LorentzVector.negative(self)>,\n",
       " (<ufunc 'add'>,\n",
       "  'LorentzVector',\n",
       "  'ThreeVector'): <function coffea.nanoevents.methods.vector.ThreeVector.add(self, other)>,\n",
       " (<ufunc 'add'>,\n",
       "  'ThreeVector',\n",
       "  'LorentzVector'): <function awkward.behaviors.mixins.mixin_class_method.<locals>.register.<locals>.transposed(left, right)>,\n",
       " (<ufunc 'add'>,\n",
       "  'LorentzVector',\n",
       "  'SphericalThreeVector'): <function coffea.nanoevents.methods.vector.ThreeVector.add(self, other)>,\n",
       " (<ufunc 'add'>,\n",
       "  'SphericalThreeVector',\n",
       "  'LorentzVector'): <function awkward.behaviors.mixins.mixin_class_method.<locals>.register.<locals>.transposed(left, right)>,\n",
       " (<ufunc 'subtract'>,\n",
       "  'LorentzVector',\n",
       "  'ThreeVector'): <function coffea.nanoevents.methods.vector.ThreeVector.subtract(self, other)>,\n",
       " (<ufunc 'subtract'>,\n",
       "  'LorentzVector',\n",
       "  'PtEtaPhiMLorentzVector'): <function coffea.nanoevents.methods.vector.ThreeVector.subtract(self, other)>,\n",
       " (<ufunc 'subtract'>,\n",
       "  'LorentzVector',\n",
       "  'PtEtaPhiELorentzVector'): <function coffea.nanoevents.methods.vector.ThreeVector.subtract(self, other)>,\n",
       " (<ufunc 'subtract'>,\n",
       "  'LorentzVector',\n",
       "  'SphericalThreeVector'): <function coffea.nanoevents.methods.vector.ThreeVector.subtract(self, other)>,\n",
       " (<ufunc 'add'>,\n",
       "  'LorentzVector',\n",
       "  'TwoVector'): <function coffea.nanoevents.methods.vector.TwoVector.add(self, other)>,\n",
       " (<ufunc 'add'>,\n",
       "  'TwoVector',\n",
       "  'LorentzVector'): <function awkward.behaviors.mixins.mixin_class_method.<locals>.register.<locals>.transposed(left, right)>,\n",
       " (<ufunc 'add'>,\n",
       "  'LorentzVector',\n",
       "  'PolarTwoVector'): <function coffea.nanoevents.methods.vector.TwoVector.add(self, other)>,\n",
       " (<ufunc 'add'>,\n",
       "  'PolarTwoVector',\n",
       "  'LorentzVector'): <function awkward.behaviors.mixins.mixin_class_method.<locals>.register.<locals>.transposed(left, right)>,\n",
       " (<ufunc 'subtract'>,\n",
       "  'LorentzVector',\n",
       "  'TwoVector'): <function coffea.nanoevents.methods.vector.TwoVector.subtract(self, other)>,\n",
       " (<ufunc 'subtract'>,\n",
       "  'LorentzVector',\n",
       "  'PolarTwoVector'): <function coffea.nanoevents.methods.vector.TwoVector.subtract(self, other)>,\n",
       " (<ufunc 'divide'>,\n",
       "  'LorentzVector',\n",
       "  numbers.Number): <function coffea.nanoevents.methods.vector.TwoVector.divide(self, other)>,\n",
       " (<ufunc 'divide'>,\n",
       "  numbers.Number,\n",
       "  'LorentzVector'): <function awkward.behaviors.mixins.mixin_class_method.<locals>.register.<locals>.transposed(left, right)>,\n",
       " (<ufunc 'divide'>,\n",
       "  'LorentzVector',\n",
       "  'LorentzVector'): <function coffea.nanoevents.methods.vector.TwoVector.divide(self, other)>,\n",
       " 'PtEtaPhiMLorentzVector': coffea.nanoevents.methods.vector.PtEtaPhiMLorentzVectorRecord,\n",
       " ('*',\n",
       "  'PtEtaPhiMLorentzVector'): coffea.nanoevents.methods.vector.PtEtaPhiMLorentzVectorArray,\n",
       " (<ufunc 'multiply'>,\n",
       "  'PtEtaPhiMLorentzVector',\n",
       "  numbers.Number): <function coffea.nanoevents.methods.vector.PtEtaPhiMLorentzVector.multiply(self, other)>,\n",
       " (<ufunc 'multiply'>,\n",
       "  numbers.Number,\n",
       "  'PtEtaPhiMLorentzVector'): <function awkward.behaviors.mixins.mixin_class_method.<locals>.register.<locals>.transposed(left, right)>,\n",
       " (<ufunc 'multiply'>,\n",
       "  'PtEtaPhiMLorentzVector',\n",
       "  'PtEtaPhiMLorentzVector'): <function coffea.nanoevents.methods.vector.PtEtaPhiMLorentzVector.multiply(self, other)>,\n",
       " (<ufunc 'negative'>,\n",
       "  'PtEtaPhiMLorentzVector'): <function coffea.nanoevents.methods.vector.PtEtaPhiMLorentzVector.negative(self)>,\n",
       " (<ufunc 'absolute'>,\n",
       "  'PtEtaPhiMLorentzVector'): <function coffea.nanoevents.methods.vector.LorentzVector.absolute(self)>,\n",
       " (<ufunc 'add'>,\n",
       "  'PtEtaPhiMLorentzVector',\n",
       "  'LorentzVector'): <function coffea.nanoevents.methods.vector.LorentzVector.add(self, other)>,\n",
       " (<ufunc 'add'>,\n",
       "  'LorentzVector',\n",
       "  'PtEtaPhiMLorentzVector'): <function awkward.behaviors.mixins.mixin_class_method.<locals>.register.<locals>.transposed(left, right)>,\n",
       " (<ufunc 'add'>,\n",
       "  'PtEtaPhiMLorentzVector',\n",
       "  'PtEtaPhiMLorentzVector'): <function coffea.nanoevents.methods.vector.LorentzVector.add(self, other)>,\n",
       " (<ufunc 'subtract'>,\n",
       "  'PtEtaPhiMLorentzVector',\n",
       "  'LorentzVector'): <function coffea.nanoevents.methods.vector.LorentzVector.subtract(self, other)>,\n",
       " (<ufunc 'subtract'>,\n",
       "  'PtEtaPhiMLorentzVector',\n",
       "  'PtEtaPhiMLorentzVector'): <function coffea.nanoevents.methods.vector.LorentzVector.subtract(self, other)>,\n",
       " (<ufunc 'add'>,\n",
       "  'PtEtaPhiMLorentzVector',\n",
       "  'ThreeVector'): <function coffea.nanoevents.methods.vector.ThreeVector.add(self, other)>,\n",
       " (<ufunc 'add'>,\n",
       "  'ThreeVector',\n",
       "  'PtEtaPhiMLorentzVector'): <function awkward.behaviors.mixins.mixin_class_method.<locals>.register.<locals>.transposed(left, right)>,\n",
       " (<ufunc 'add'>,\n",
       "  'PtEtaPhiMLorentzVector',\n",
       "  'SphericalThreeVector'): <function coffea.nanoevents.methods.vector.ThreeVector.add(self, other)>,\n",
       " (<ufunc 'add'>,\n",
       "  'SphericalThreeVector',\n",
       "  'PtEtaPhiMLorentzVector'): <function awkward.behaviors.mixins.mixin_class_method.<locals>.register.<locals>.transposed(left, right)>,\n",
       " (<ufunc 'subtract'>,\n",
       "  'PtEtaPhiMLorentzVector',\n",
       "  'ThreeVector'): <function coffea.nanoevents.methods.vector.ThreeVector.subtract(self, other)>,\n",
       " (<ufunc 'subtract'>,\n",
       "  'PtEtaPhiMLorentzVector',\n",
       "  'PtEtaPhiELorentzVector'): <function coffea.nanoevents.methods.vector.ThreeVector.subtract(self, other)>,\n",
       " (<ufunc 'subtract'>,\n",
       "  'PtEtaPhiMLorentzVector',\n",
       "  'SphericalThreeVector'): <function coffea.nanoevents.methods.vector.ThreeVector.subtract(self, other)>,\n",
       " (<ufunc 'add'>,\n",
       "  'PtEtaPhiMLorentzVector',\n",
       "  'TwoVector'): <function coffea.nanoevents.methods.vector.TwoVector.add(self, other)>,\n",
       " (<ufunc 'add'>,\n",
       "  'TwoVector',\n",
       "  'PtEtaPhiMLorentzVector'): <function awkward.behaviors.mixins.mixin_class_method.<locals>.register.<locals>.transposed(left, right)>,\n",
       " (<ufunc 'add'>,\n",
       "  'PtEtaPhiMLorentzVector',\n",
       "  'PolarTwoVector'): <function coffea.nanoevents.methods.vector.TwoVector.add(self, other)>,\n",
       " (<ufunc 'add'>,\n",
       "  'PolarTwoVector',\n",
       "  'PtEtaPhiMLorentzVector'): <function awkward.behaviors.mixins.mixin_class_method.<locals>.register.<locals>.transposed(left, right)>,\n",
       " (<ufunc 'subtract'>,\n",
       "  'PtEtaPhiMLorentzVector',\n",
       "  'TwoVector'): <function coffea.nanoevents.methods.vector.TwoVector.subtract(self, other)>,\n",
       " (<ufunc 'subtract'>,\n",
       "  'PtEtaPhiMLorentzVector',\n",
       "  'PolarTwoVector'): <function coffea.nanoevents.methods.vector.TwoVector.subtract(self, other)>,\n",
       " (<ufunc 'divide'>,\n",
       "  'PtEtaPhiMLorentzVector',\n",
       "  numbers.Number): <function coffea.nanoevents.methods.vector.TwoVector.divide(self, other)>,\n",
       " (<ufunc 'divide'>,\n",
       "  numbers.Number,\n",
       "  'PtEtaPhiMLorentzVector'): <function awkward.behaviors.mixins.mixin_class_method.<locals>.register.<locals>.transposed(left, right)>,\n",
       " (<ufunc 'divide'>,\n",
       "  'PtEtaPhiMLorentzVector',\n",
       "  'PtEtaPhiMLorentzVector'): <function coffea.nanoevents.methods.vector.TwoVector.divide(self, other)>,\n",
       " 'PtEtaPhiELorentzVector': coffea.nanoevents.methods.vector.PtEtaPhiELorentzVectorRecord,\n",
       " ('*',\n",
       "  'PtEtaPhiELorentzVector'): coffea.nanoevents.methods.vector.PtEtaPhiELorentzVectorArray,\n",
       " (<ufunc 'multiply'>,\n",
       "  'PtEtaPhiELorentzVector',\n",
       "  numbers.Number): <function coffea.nanoevents.methods.vector.PtEtaPhiELorentzVector.multiply(self, other)>,\n",
       " (<ufunc 'multiply'>,\n",
       "  numbers.Number,\n",
       "  'PtEtaPhiELorentzVector'): <function awkward.behaviors.mixins.mixin_class_method.<locals>.register.<locals>.transposed(left, right)>,\n",
       " (<ufunc 'multiply'>,\n",
       "  'PtEtaPhiELorentzVector',\n",
       "  'PtEtaPhiELorentzVector'): <function coffea.nanoevents.methods.vector.PtEtaPhiELorentzVector.multiply(self, other)>,\n",
       " (<ufunc 'negative'>,\n",
       "  'PtEtaPhiELorentzVector'): <function coffea.nanoevents.methods.vector.PtEtaPhiELorentzVector.negative(self)>,\n",
       " (<ufunc 'absolute'>,\n",
       "  'PtEtaPhiELorentzVector'): <function coffea.nanoevents.methods.vector.LorentzVector.absolute(self)>,\n",
       " (<ufunc 'add'>,\n",
       "  'PtEtaPhiELorentzVector',\n",
       "  'PtEtaPhiMLorentzVector'): <function coffea.nanoevents.methods.vector.LorentzVector.add(self, other)>,\n",
       " (<ufunc 'add'>,\n",
       "  'PtEtaPhiMLorentzVector',\n",
       "  'PtEtaPhiELorentzVector'): <function awkward.behaviors.mixins.mixin_class_method.<locals>.register.<locals>.transposed(left, right)>,\n",
       " (<ufunc 'add'>,\n",
       "  'PtEtaPhiELorentzVector',\n",
       "  'LorentzVector'): <function coffea.nanoevents.methods.vector.LorentzVector.add(self, other)>,\n",
       " (<ufunc 'add'>,\n",
       "  'LorentzVector',\n",
       "  'PtEtaPhiELorentzVector'): <function awkward.behaviors.mixins.mixin_class_method.<locals>.register.<locals>.transposed(left, right)>,\n",
       " (<ufunc 'add'>,\n",
       "  'PtEtaPhiELorentzVector',\n",
       "  'PtEtaPhiELorentzVector'): <function coffea.nanoevents.methods.vector.LorentzVector.add(self, other)>,\n",
       " (<ufunc 'subtract'>,\n",
       "  'PtEtaPhiELorentzVector',\n",
       "  'PtEtaPhiMLorentzVector'): <function coffea.nanoevents.methods.vector.LorentzVector.subtract(self, other)>,\n",
       " (<ufunc 'subtract'>,\n",
       "  'PtEtaPhiELorentzVector',\n",
       "  'LorentzVector'): <function coffea.nanoevents.methods.vector.LorentzVector.subtract(self, other)>,\n",
       " (<ufunc 'subtract'>,\n",
       "  'PtEtaPhiELorentzVector',\n",
       "  'PtEtaPhiELorentzVector'): <function coffea.nanoevents.methods.vector.LorentzVector.subtract(self, other)>,\n",
       " (<ufunc 'add'>,\n",
       "  'PtEtaPhiELorentzVector',\n",
       "  'ThreeVector'): <function coffea.nanoevents.methods.vector.ThreeVector.add(self, other)>,\n",
       " (<ufunc 'add'>,\n",
       "  'ThreeVector',\n",
       "  'PtEtaPhiELorentzVector'): <function awkward.behaviors.mixins.mixin_class_method.<locals>.register.<locals>.transposed(left, right)>,\n",
       " (<ufunc 'add'>,\n",
       "  'PtEtaPhiELorentzVector',\n",
       "  'SphericalThreeVector'): <function coffea.nanoevents.methods.vector.ThreeVector.add(self, other)>,\n",
       " (<ufunc 'add'>,\n",
       "  'SphericalThreeVector',\n",
       "  'PtEtaPhiELorentzVector'): <function awkward.behaviors.mixins.mixin_class_method.<locals>.register.<locals>.transposed(left, right)>,\n",
       " (<ufunc 'subtract'>,\n",
       "  'PtEtaPhiELorentzVector',\n",
       "  'ThreeVector'): <function coffea.nanoevents.methods.vector.ThreeVector.subtract(self, other)>,\n",
       " (<ufunc 'subtract'>,\n",
       "  'PtEtaPhiELorentzVector',\n",
       "  'SphericalThreeVector'): <function coffea.nanoevents.methods.vector.ThreeVector.subtract(self, other)>,\n",
       " (<ufunc 'add'>,\n",
       "  'PtEtaPhiELorentzVector',\n",
       "  'TwoVector'): <function coffea.nanoevents.methods.vector.TwoVector.add(self, other)>,\n",
       " (<ufunc 'add'>,\n",
       "  'TwoVector',\n",
       "  'PtEtaPhiELorentzVector'): <function awkward.behaviors.mixins.mixin_class_method.<locals>.register.<locals>.transposed(left, right)>,\n",
       " (<ufunc 'add'>,\n",
       "  'PtEtaPhiELorentzVector',\n",
       "  'PolarTwoVector'): <function coffea.nanoevents.methods.vector.TwoVector.add(self, other)>,\n",
       " (<ufunc 'add'>,\n",
       "  'PolarTwoVector',\n",
       "  'PtEtaPhiELorentzVector'): <function awkward.behaviors.mixins.mixin_class_method.<locals>.register.<locals>.transposed(left, right)>,\n",
       " (<ufunc 'subtract'>,\n",
       "  'PtEtaPhiELorentzVector',\n",
       "  'TwoVector'): <function coffea.nanoevents.methods.vector.TwoVector.subtract(self, other)>,\n",
       " (<ufunc 'subtract'>,\n",
       "  'PtEtaPhiELorentzVector',\n",
       "  'PolarTwoVector'): <function coffea.nanoevents.methods.vector.TwoVector.subtract(self, other)>,\n",
       " (<ufunc 'divide'>,\n",
       "  'PtEtaPhiELorentzVector',\n",
       "  numbers.Number): <function coffea.nanoevents.methods.vector.TwoVector.divide(self, other)>,\n",
       " (<ufunc 'divide'>,\n",
       "  numbers.Number,\n",
       "  'PtEtaPhiELorentzVector'): <function awkward.behaviors.mixins.mixin_class_method.<locals>.register.<locals>.transposed(left, right)>,\n",
       " (<ufunc 'divide'>,\n",
       "  'PtEtaPhiELorentzVector',\n",
       "  'PtEtaPhiELorentzVector'): <function coffea.nanoevents.methods.vector.TwoVector.divide(self, other)>,\n",
       " '__events_factory__': <coffea.nanoevents.factory.NanoEventsFactory at 0x7fd4453ba370>}"
      ]
     },
     "execution_count": 13,
     "metadata": {},
     "output_type": "execute_result"
    }
   ],
   "source": [
    "events.muon.behavior"
   ]
  },
  {
   "cell_type": "code",
   "execution_count": 14,
   "id": "8f2d9e22-c105-40d4-b4b5-d41931f6b6af",
   "metadata": {},
   "outputs": [
    {
     "data": {
      "text/plain": [
       "['x', 'y', 'z', 't', 'charge', 'type']"
      ]
     },
     "execution_count": 14,
     "metadata": {},
     "output_type": "execute_result"
    }
   ],
   "source": [
    "ljsource = events.ljsource\n",
    "ljsource.fields"
   ]
  },
  {
   "cell_type": "code",
   "execution_count": 15,
   "id": "24f7c926-a2b0-4cb6-871a-a50e3bac0947",
   "metadata": {},
   "outputs": [
    {
     "data": {
      "text/plain": [
       "<Array [[29.1, 13.4], ... 16.9, 21.6, 72.5]] type='13524 * var * float32'>"
      ]
     },
     "execution_count": 15,
     "metadata": {},
     "output_type": "execute_result"
    }
   ],
   "source": [
    "ljsource.pt"
   ]
  },
  {
   "cell_type": "code",
   "execution_count": 16,
   "id": "3724c5a9-4468-4692-88b0-6c9dc646a525",
   "metadata": {},
   "outputs": [
    {
     "data": {
      "text/plain": [
       "<Array [[3, 3], [3, 3], ... 3, 3], [3, 3, 4]] type='13524 * var * int32[paramete...'>"
      ]
     },
     "execution_count": 16,
     "metadata": {},
     "output_type": "execute_result"
    }
   ],
   "source": [
    "ljsource[\"type\"]"
   ]
  },
  {
   "cell_type": "code",
   "execution_count": null,
   "id": "eca6cd63-da21-432a-92f9-c26bf8c77274",
   "metadata": {},
   "outputs": [],
   "source": []
  }
 ],
 "metadata": {
  "kernelspec": {
   "display_name": "Python 3 (ipykernel)",
   "language": "python",
   "name": "python3"
  },
  "language_info": {
   "codemirror_mode": {
    "name": "ipython",
    "version": 3
   },
   "file_extension": ".py",
   "mimetype": "text/x-python",
   "name": "python",
   "nbconvert_exporter": "python",
   "pygments_lexer": "ipython3",
   "version": "3.8.16"
  }
 },
 "nbformat": 4,
 "nbformat_minor": 5
}
