{
 "cells": [
  {
   "cell_type": "code",
   "execution_count": null,
   "id": "f69faf8a-a712-4d71-a610-feee40fb8529",
   "metadata": {
    "tags": []
   },
   "outputs": [],
   "source": [
    "# python\n",
    "import os\n",
    "import sys\n",
    "import importlib\n",
    "# columnar analysis\n",
    "from coffea.nanoevents import NanoAODSchema\n",
    "from coffea import processor\n",
    "# local\n",
    "sidm_path = str(os.getcwd()).split(\"/sidm\")[0]\n",
    "if sidm_path not in sys.path: sys.path.insert(1, sidm_path)\n",
    "from sidm.tools import sidm_processor, utilities\n",
    "# always reload local modules to pick up changes during development\n",
    "importlib.reload(sidm_processor)\n",
    "importlib.reload(utilities)\n",
    "# plotting\n",
    "import matplotlib.pyplot as plt\n",
    "utilities.set_plot_style()"
   ]
  },
  {
   "cell_type": "code",
   "execution_count": null,
   "id": "6adc2793-ac8f-41cd-8bb0-4514c03e823b",
   "metadata": {
    "tags": []
   },
   "outputs": [],
   "source": [
    "channels = [\n",
    "    \"baseNoLjNoLjsource\",\n",
    "    \"baseNoLj\",\n",
    "    \"base\",\n",
    "    \"2mu2e\",\n",
    "    \"4mu\",\n",
    "]"
   ]
  },
  {
   "cell_type": "code",
   "execution_count": null,
   "id": "6af2029b-48c2-42a9-8d3a-cd50f3cecfb0",
   "metadata": {
    "tags": []
   },
   "outputs": [],
   "source": [
    "selections_menu = utilities.load_yaml(f\"{sidm_path}/sidm/configs/selections.yaml\")\n",
    "for ch in channels:\n",
    "    print(ch)\n",
    "    sel = selections_menu[ch]\n",
    "    print(\"  obj cuts\")\n",
    "    for obj, cuts in sel[\"obj_cuts\"].items():\n",
    "        print(f\"    {obj}: {cuts}\")\n",
    "    print(\"  post-LJ obj cuts\")\n",
    "    if \"postLj_obj_cuts\" in sel:\n",
    "        for obj, cuts in sel[\"postLj_obj_cuts\"].items():\n",
    "            print(f\"    {obj}: {cuts}\")\n",
    "    else:\n",
    "        print(\"    None\")\n",
    "    print(\"  event cuts\")\n",
    "    if \"evt_cuts\" in sel:\n",
    "        print(f\"    {sel['evt_cuts']}\")\n",
    "    else:\n",
    "        print(\"    None\")\n"
   ]
  },
  {
   "cell_type": "code",
   "execution_count": null,
   "id": "d67db205-7dc5-42b8-b10c-e6e7cbc7602a",
   "metadata": {
    "tags": []
   },
   "outputs": [],
   "source": [
    "samples = [\n",
    "    '2Mu2E_500GeV_5p0GeV_8p0mm',\n",
    "]\n",
    "fileset = utilities.make_fileset(samples, \"llpNanoAOD_v2\", max_files=1, location_cfg=\"signal_2mu2e_v10.yaml\")\n",
    "\n",
    "runner = processor.Runner(\n",
    "    executor=processor.IterativeExecutor(),\n",
    "    schema=NanoAODSchema,\n",
    "    maxchunks=1,\n",
    "    skipbadfiles=True\n",
    ")\n",
    "\n",
    "p = sidm_processor.SidmProcessor(\n",
    "    channels,\n",
    "    [\"muon_base\"],\n",
    "    #verbose=True,\n",
    ")\n",
    "\n",
    "output = runner.run(fileset, treename='Events', processor_instance=p)\n",
    "out = output[\"out\"]"
   ]
  },
  {
   "cell_type": "code",
   "execution_count": null,
   "id": "31b6a93d-4c1e-4e19-8049-03f972d1d280",
   "metadata": {
    "tags": []
   },
   "outputs": [],
   "source": [
    "for ch in channels:\n",
    "    print(ch)\n",
    "    out[samples[0]][\"cutflow\"][ch].print_table()\n",
    "    print()\n"
   ]
  },
  {
   "cell_type": "code",
   "execution_count": null,
   "id": "21131f58-d6d7-42f6-80d8-77dae8727e5a",
   "metadata": {},
   "outputs": [],
   "source": [
    "for ch in channels:\n",
    "    print(ch)\n",
    "    print(out[samples[0]][\"counters\"])\n",
    "    print()"
   ]
  },
  {
   "cell_type": "code",
   "execution_count": null,
   "id": "a26840af-3cc2-4b68-8015-20eaf5ec6fa5",
   "metadata": {},
   "outputs": [],
   "source": []
  }
 ],
 "metadata": {
  "kernelspec": {
   "display_name": "Python 3 (ipykernel)",
   "language": "python",
   "name": "python3"
  },
  "language_info": {
   "codemirror_mode": {
    "name": "ipython",
    "version": 3
   },
   "file_extension": ".py",
   "mimetype": "text/x-python",
   "name": "python",
   "nbconvert_exporter": "python",
   "pygments_lexer": "ipython3",
   "version": "3.12.5"
  }
 },
 "nbformat": 4,
 "nbformat_minor": 5
}
