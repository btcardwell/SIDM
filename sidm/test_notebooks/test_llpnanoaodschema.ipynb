{
 "cells": [
  {
   "cell_type": "code",
   "execution_count": 1,
   "id": "042b81e3-5049-40ee-8979-b531d750c5db",
   "metadata": {},
   "outputs": [
    {
     "data": {
      "text/plain": [
       "<module 'sidm.tools.utilities' from '/home/cms-jovyan/SIDM/sidm/tools/utilities.py'>"
      ]
     },
     "execution_count": 1,
     "metadata": {},
     "output_type": "execute_result"
    }
   ],
   "source": [
    "# python\n",
    "# python\n",
    "import sys\n",
    "import importlib\n",
    "# columnar analysis\n",
    "from coffea.nanoevents import NanoEventsFactory, NanoAODSchema\n",
    "from coffea import processor\n",
    "# local\n",
    "sidm_path = str(sys.path[0]).split(\"/sidm\")[0]\n",
    "if sidm_path not in sys.path: sys.path.insert(1, sidm_path)\n",
    "from sidm.tools import llpnanoaodschema, utilities\n",
    "# always reload local modules to pick up changes during development\n",
    "importlib.reload(llpnanoaodschema)\n",
    "importlib.reload(utilities)"
   ]
  },
  {
   "cell_type": "code",
   "execution_count": 2,
   "id": "b9a13e4e-9b1b-4997-9d5b-be50b68b3c65",
   "metadata": {
    "tags": []
   },
   "outputs": [],
   "source": [
    "samples = [\n",
    "    '2Mu2E_500GeV_5p0GeV_8p0mm',\n",
    "]\n",
    "fileset = utilities.make_fileset(samples, \"llpNanoAOD_v2\", max_files=1, location_cfg=\"signal_2mu2e_v10.yaml\")\n",
    "# create events collection from single file\n",
    "fname = fileset[samples[0]][\"files\"][0]"
   ]
  },
  {
   "cell_type": "code",
   "execution_count": 3,
   "id": "db09b0af-7178-4510-9ae5-3676ba275173",
   "metadata": {
    "tags": []
   },
   "outputs": [
    {
     "name": "stderr",
     "output_type": "stream",
     "text": [
      "/usr/local/lib/python3.10/site-packages/coffea/nanoevents/schemas/nanoaod.py:205: RuntimeWarning: Missing cross-reference index for LowPtElectron_electronIdx => Electron\n",
      "  warnings.warn(\n",
      "/usr/local/lib/python3.10/site-packages/coffea/nanoevents/schemas/nanoaod.py:205: RuntimeWarning: Missing cross-reference index for LowPtElectron_photonIdx => Photon\n",
      "  warnings.warn(\n"
     ]
    }
   ],
   "source": [
    "factory_llp = NanoEventsFactory.from_root(\n",
    "    fname,\n",
    "    schemaclass=llpnanoaodschema.LLPNanoAODSchema,\n",
    ")\n",
    "events_llp = factory_llp.events()"
   ]
  },
  {
   "cell_type": "code",
   "execution_count": 4,
   "id": "c0c35112-14c7-4018-aa2d-3fb94d15e506",
   "metadata": {},
   "outputs": [
    {
     "name": "stdout",
     "output_type": "stream",
     "text": [
      "[[DSAMuon, DSAMuon], [DSAMuon, DSAMuon, ... DSAMuon, DSAMuon], [DSAMuon, DSAMuon]]\n"
     ]
    },
    {
     "data": {
      "text/plain": [
       "['idx',\n",
       " 'pt',\n",
       " 'ptErr',\n",
       " 'eta',\n",
       " 'etaErr',\n",
       " 'phi',\n",
       " 'phiErr',\n",
       " 'charge',\n",
       " 'dxy',\n",
       " 'dz',\n",
       " 'vx',\n",
       " 'vy',\n",
       " 'vz',\n",
       " 'chi2',\n",
       " 'ndof',\n",
       " 'trkNumPlanes',\n",
       " 'trkNumHits',\n",
       " 'trkNumDTHits',\n",
       " 'trkNumCSCHits',\n",
       " 'normChi2',\n",
       " 'outerEta',\n",
       " 'outerPhi',\n",
       " 'dzPV',\n",
       " 'dzPVErr',\n",
       " 'dxyPVTraj',\n",
       " 'dxyPVTrajErr',\n",
       " 'dxyPVSigned',\n",
       " 'dxyPVSignedErr',\n",
       " 'ip3DPVSigned',\n",
       " 'ip3DPVSignedErr',\n",
       " 'dxyBS',\n",
       " 'dxyBSErr',\n",
       " 'dzBS',\n",
       " 'dzBSErr',\n",
       " 'dxyBSTraj',\n",
       " 'dxyBSTrajErr',\n",
       " 'dxyBSSigned',\n",
       " 'dxyBSSignedErr',\n",
       " 'ip3DBSSigned',\n",
       " 'ip3DBSSignedErr',\n",
       " 'displacedID',\n",
       " 'muonMatch1',\n",
       " 'muonMatch1idx',\n",
       " 'muonMatch2',\n",
       " 'muonMatch2idx',\n",
       " 'muonMatch3',\n",
       " 'muonMatch3idx',\n",
       " 'muonMatch4',\n",
       " 'muonMatch4idx',\n",
       " 'muonMatch5',\n",
       " 'muonMatch5idx',\n",
       " 'muonDTMatch1',\n",
       " 'muonDTMatch1idx',\n",
       " 'muonDTMatch2',\n",
       " 'muonDTMatch2idx',\n",
       " 'muonDTMatch3',\n",
       " 'muonDTMatch3idx',\n",
       " 'muonCSCMatch1',\n",
       " 'muonCSCMatch1idx',\n",
       " 'muonCSCMatch2',\n",
       " 'muonCSCMatch2idx',\n",
       " 'muonCSCMatch3',\n",
       " 'muonCSCMatch3idx',\n",
       " 'nSegments',\n",
       " 'nDTSegments',\n",
       " 'nCSCSegments',\n",
       " 'muonMatch1idxG',\n",
       " 'muonMatch2idxG',\n",
       " 'muonMatch3idxG',\n",
       " 'muonMatch4idxG',\n",
       " 'muonMatch5idxG',\n",
       " 'muonIdxG']"
      ]
     },
     "execution_count": 4,
     "metadata": {},
     "output_type": "execute_result"
    }
   ],
   "source": [
    "pf = events_llp.Muon\n",
    "dsa = events_llp.DSAMuon\n",
    "print(dsa)\n",
    "dsa.fields"
   ]
  },
  {
   "cell_type": "markdown",
   "id": "803b9a72-29b9-47c4-a905-c09d44187978",
   "metadata": {},
   "source": [
    "The following command will only work if you comment out [these lines](https://github.com/scikit-hep/coffea/blob/539c4b58961b7bae86038caf67f1c7db83dded3a/coffea/nanoevents/transforms.py#L129-L130) in your local coffea install. It would be better to change the type of the `muonMatchNidx` branches to `int32` (it's currently a float for some reason), but I haven't figured out how."
   ]
  },
  {
   "cell_type": "code",
   "execution_count": 8,
   "id": "048fc036-7231-4e0d-86ad-c097ed813094",
   "metadata": {},
   "outputs": [
    {
     "data": {
      "text/plain": [
       "<Array [[4607182418800017408, ... ] type='4364 * var * int64[parameters={\"__doc_...'>"
      ]
     },
     "execution_count": 8,
     "metadata": {},
     "output_type": "execute_result"
    }
   ],
   "source": [
    "dsa.muonMatch1idxG"
   ]
  },
  {
   "cell_type": "code",
   "execution_count": 21,
   "id": "5f9aaa24-be8a-4129-b314-b3ce954b478d",
   "metadata": {},
   "outputs": [
    {
     "name": "stdout",
     "output_type": "stream",
     "text": [
      "[5.92, 322, 1.62]\n",
      "[212, 5.35]\n",
      "[[3, 2, -1, -1, -1], [2, 3, -1, -1, -1], [3, 2, -1, -1, -1]]\n",
      "[[3, 2, -1, -1, -1], [2, 3, -1, -1, -1], [3, 2, -1, -1, -1]]\n",
      "[[197, 212, None, None, None], ... None, None, None], [197, 212, None, None, None]]\n"
     ]
    }
   ],
   "source": [
    "print(dsa[1].pt)\n",
    "print(pf[1].pt)\n",
    "print(dsa[1].muonIdxG)\n",
    "print(dsa[1].muonIdxG)\n",
    "print(dsa[1].matched_muons.pt)"
   ]
  },
  {
   "cell_type": "markdown",
   "id": "f8f5cf31-642c-45fb-ba74-1c5910a9d758",
   "metadata": {},
   "source": [
    "Great, it appears matched_muons allows me to access the muons that correspond to `muonMatchNidx` branches. Next I'll check what happens after applying a selection to the muons"
   ]
  },
  {
   "cell_type": "code",
   "execution_count": 22,
   "id": "20c2a301-3ef2-4015-8e16-a92f29ee4fc0",
   "metadata": {},
   "outputs": [
    {
     "name": "stdout",
     "output_type": "stream",
     "text": [
      "[212]\n",
      "[[197, 212, None, None, None], ... None, None, None], [197, 212, None, None, None]]\n"
     ]
    }
   ],
   "source": [
    "events_llp.Muon = pf[pf.pt > 10]\n",
    "print(events_llp.Muon[1].pt)\n",
    "print(dsa[1].matched_muons.pt)"
   ]
  },
  {
   "cell_type": "code",
   "execution_count": 23,
   "id": "7f21bdcf-659d-446a-b0ae-896e5e9cbbc2",
   "metadata": {},
   "outputs": [
    {
     "name": "stdout",
     "output_type": "stream",
     "text": [
      "[[717, 135], [212, 5.35], [197, 21.2], ... [285, 3.7], [87.3, 76.7], [142, 118]]\n"
     ]
    }
   ],
   "source": [
    "print(pf.pt)"
   ]
  },
  {
   "cell_type": "markdown",
   "id": "90870ec6-b82c-4e1a-b253-76a018cee347",
   "metadata": {},
   "source": [
    "Oh no, the global index is picking out muons in the next event when muons from the current event have been removed. Why doesn't this happen for other idx branches?\n"
   ]
  },
  {
   "cell_type": "code",
   "execution_count": null,
   "id": "57245c4a-4252-4695-a02d-c8e11d482f9b",
   "metadata": {},
   "outputs": [],
   "source": []
  }
 ],
 "metadata": {
  "kernelspec": {
   "display_name": "Python 3 (ipykernel)",
   "language": "python",
   "name": "python3"
  },
  "language_info": {
   "codemirror_mode": {
    "name": "ipython",
    "version": 3
   },
   "file_extension": ".py",
   "mimetype": "text/x-python",
   "name": "python",
   "nbconvert_exporter": "python",
   "pygments_lexer": "ipython3",
   "version": "3.10.14"
  }
 },
 "nbformat": 4,
 "nbformat_minor": 5
}
