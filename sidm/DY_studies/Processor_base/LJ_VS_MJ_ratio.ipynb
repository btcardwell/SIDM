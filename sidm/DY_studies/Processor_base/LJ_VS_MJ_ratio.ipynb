{
 "cells": [
  {
   "cell_type": "code",
   "execution_count": 1,
   "id": "2c769e65-0f7c-4edc-b389-ac9962c71276",
   "metadata": {
    "tags": []
   },
   "outputs": [],
   "source": [
    "# python\n",
    "import sys\n",
    "import os\n",
    "import importlib\n",
    "# columnar analysis\n",
    "from coffea import processor\n",
    "from coffea.nanoevents import NanoEventsFactory, NanoAODSchema\n",
    "import awkward as ak\n",
    "from dask.distributed import Client\n",
    "# local\n",
    "sys.path.insert(1, os.path.join(sys.path[0], '../../..')) # fixme: there must be a better way to handle this...\n",
    "from sidm.tools import ffschema, sidm_processor, utilities\n",
    "# always reload local modules to pick up changes during development\n",
    "importlib.reload(ffschema)\n",
    "importlib.reload(sidm_processor)\n",
    "importlib.reload(utilities)\n",
    "# plotting\n",
    "import matplotlib.pyplot as plt\n",
    "utilities.set_plot_style()\n",
    "%matplotlib inline\n",
    "from tqdm.notebook import tqdm"
   ]
  },
  {
   "cell_type": "code",
   "execution_count": 2,
   "id": "bbfd2938-472e-42df-9c88-e81c429f7f34",
   "metadata": {
    "tags": []
   },
   "outputs": [],
   "source": [
    "samples_4mu = [\n",
    "    \n",
    "    \"4Mu_500GeV_5p0GeV_0p08mm\",\n",
    "    \"4Mu_500GeV_5p0GeV_0p8mm\",\n",
    "    \"4Mu_500GeV_5p0GeV_8p0mm\",\n",
    "    \"4Mu_500GeV_5p0GeV_40p0mm\",\n",
    "    \"4Mu_500GeV_5p0GeV_80p0mm\",   \n",
    "]\n",
    "\n",
    "\n",
    "samples_2mu = [\n",
    "    \n",
    "    \"2Mu2E_500GeV_5p0GeV_0p08mm\",\n",
    "    \"2Mu2E_500GeV_5p0GeV_0p8mm\",\n",
    "    \"2Mu2E_500GeV_5p0GeV_8p0mm\",\n",
    "    \"2Mu2E_500GeV_5p0GeV_40p0mm\",\n",
    "    \"2Mu2E_500GeV_5p0GeV_80p0mm\",   \n",
    "]\n",
    "\n",
    "samples_bkg = [\n",
    "    \"TTJets\",\n",
    "]"
   ]
  },
  {
   "cell_type": "code",
   "execution_count": null,
   "id": "72868c4c-1ad1-45ae-a6c6-0f3762d57563",
   "metadata": {},
   "outputs": [],
   "source": [
    "fileset_4mu = utilities.make_fileset(samples_4mu, \"llpNanoAOD_v2\", max_files=10, location_cfg=\"signal_v6.yaml\")\n",
    "fileset_2mu = utilities.make_fileset(samples_2mu, \"llpNanoAOD_v2\", max_files=10, location_cfg=\"signal_v6.yaml\")\n",
    "fileset_bkg = utilities.make_fileset(samples_bkg, \"llpNanoAOD_v2\", max_files=10, location_cfg=\"backgrounds.yaml\")\n",
    "\n",
    "fileset_4mu['TTJets'] = fileset_bkg['TTJets']\n",
    "fileset_2mu['TTJets'] = fileset_bkg['TTJets']\n",
    "\n",
    "runner = processor.Runner(\n",
    "    executor=processor.IterativeExecutor(),\n",
    "    #executor=processor.FuturesExecutor(),\n",
    "    schema=NanoAODSchema,\n",
    "    maxchunks=10,\n",
    "    skipbadfiles=True\n",
    ")\n",
    "\n",
    "channels = [\n",
    "    \"base\",\n",
    "]\n",
    "\n",
    "p = sidm_processor.SidmProcessor(\n",
    "    channels,\n",
    "    [\"base\"],\n",
    ")\n",
    "\n",
    "output_4mu = runner.run(fileset_4mu, treename=\"Events\", processor_instance=p)\n",
    "output_2mu = runner.run(fileset_2mu, treename=\"Events\", processor_instance=p)\n",
    "\n",
    "out_4mu = output_4mu[\"out\"]\n",
    "out_2mu = output_2mu[\"out\"]"
   ]
  }
 ],
 "metadata": {
  "kernelspec": {
   "display_name": "Python 3 (ipykernel)",
   "language": "python",
   "name": "python3"
  },
  "language_info": {
   "codemirror_mode": {
    "name": "ipython",
    "version": 3
   },
   "file_extension": ".py",
   "mimetype": "text/x-python",
   "name": "python",
   "nbconvert_exporter": "python",
   "pygments_lexer": "ipython3",
   "version": "3.9.18"
  }
 },
 "nbformat": 4,
 "nbformat_minor": 5
}
