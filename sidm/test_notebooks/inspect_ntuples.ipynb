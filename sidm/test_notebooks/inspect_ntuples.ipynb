{
 "cells": [
  {
   "cell_type": "code",
   "execution_count": 2,
   "id": "f69faf8a-a712-4d71-a610-feee40fb8529",
   "metadata": {
    "tags": []
   },
   "outputs": [],
   "source": [
    "# python\n",
    "import sys\n",
    "import os\n",
    "import importlib\n",
    "# columnar analysis\n",
    "from coffea.nanoevents import NanoEventsFactory, NanoAODSchema\n",
    "import awkward as ak\n",
    "# local\n",
    "sidm_path = str(sys.path[0]).split(\"/sidm\")[0]\n",
    "if sidm_path not in sys.path: sys.path.insert(1, sidm_path)\n",
    "from sidm.tools import utilities\n",
    "# always reload local modules to pick up changes during development\n",
    "importlib.reload(utilities)\n",
    "# plotting\n",
    "import matplotlib.pyplot as plt\n",
    "utilities.set_plot_style()"
   ]
  },
  {
   "cell_type": "code",
   "execution_count": 7,
   "id": "dcf88a93-3471-4aba-b1cd-e4effbe503ff",
   "metadata": {
    "tags": []
   },
   "outputs": [
    {
     "name": "stderr",
     "output_type": "stream",
     "text": [
      "/usr/local/lib/python3.10/site-packages/coffea/nanoevents/schemas/nanoaod.py:247: RuntimeWarning: Missing cross-reference index for LowPtElectron_electronIdx => Electron\n",
      "  warnings.warn(\n",
      "/usr/local/lib/python3.10/site-packages/coffea/nanoevents/schemas/nanoaod.py:247: RuntimeWarning: Missing cross-reference index for LowPtElectron_photonIdx => Photon\n",
      "  warnings.warn(\n"
     ]
    },
    {
     "data": {
      "text/plain": [
       "dask.awkward<from-uproot, npartitions=1>"
      ]
     },
     "execution_count": 7,
     "metadata": {},
     "output_type": "execute_result"
    }
   ],
   "source": [
    "samples = [\n",
    "    '2Mu2E_500GeV_5p0GeV_80p0mm',\n",
    "]\n",
    "fileset = utilities.make_fileset(samples, \"llpNanoAOD_v2\", max_files=1, location_cfg=\"signal_2mu2e_v10.yaml\")\n",
    "file_path = fileset[samples[0]][\"files\"][0]\n",
    "\n",
    "events = NanoEventsFactory.from_root(\n",
    "    {file_path: \"Events\"},\n",
    "    #treepath='Events',\n",
    "    schemaclass=NanoAODSchema,\n",
    ").events()\n",
    "\n",
    "events"
   ]
  },
  {
   "cell_type": "code",
   "execution_count": 8,
   "id": "cc6c4cba-eb61-4df7-b5ce-87c081a74d89",
   "metadata": {
    "tags": []
   },
   "outputs": [
    {
     "data": {
      "text/plain": [
       "['SoftActivityJetNjets2',\n",
       " 'fixedGridRhoFastjetCentral',\n",
       " 'LHEWeight',\n",
       " 'PatDSAMuonVertexRefittedTracks',\n",
       " 'SubGenJetAK8',\n",
       " 'L1PreFiringWeight',\n",
       " 'PatMuonVertex',\n",
       " 'IsoTrack',\n",
       " 'RawMET',\n",
       " 'fixedGridRhoFastjetCentralCalo',\n",
       " 'GenDressedLepton',\n",
       " 'FsrPhoton',\n",
       " 'fixedGridRhoFastjetCentralNeutral',\n",
       " 'SubJet',\n",
       " 'Jet',\n",
       " 'DeepMETResolutionTune',\n",
       " 'SoftActivityJetHT2',\n",
       " 'genWeight',\n",
       " 'SV',\n",
       " 'DSAMuonVertexRefittedTracks',\n",
       " 'Photon',\n",
       " 'LHEPart',\n",
       " 'LHEReweightingWeight',\n",
       " 'Tau',\n",
       " 'L1Reco',\n",
       " 'RawPuppiMET',\n",
       " 'fixedGridRhoFastjetAll',\n",
       " 'Flag',\n",
       " 'LHE',\n",
       " 'CaloMET',\n",
       " 'OtherPV',\n",
       " 'Pileup',\n",
       " 'DSAMuon',\n",
       " 'genTtbarId',\n",
       " 'PatDSAMuonVertex',\n",
       " 'Electron',\n",
       " 'Muon',\n",
       " 'PuppiMET',\n",
       " 'CorrT1METJet',\n",
       " 'GenIsolatedPhoton',\n",
       " 'DeepMETResponseTune',\n",
       " 'luminosityBlock',\n",
       " 'TrigObj',\n",
       " 'PatMuonVertexRefittedTracks',\n",
       " 'GenVisTau',\n",
       " 'MET',\n",
       " 'ChsMET',\n",
       " 'SoftActivityJet',\n",
       " 'run',\n",
       " 'L1',\n",
       " 'GenVtx',\n",
       " 'BS',\n",
       " 'HLTriggerFirstPath',\n",
       " 'GenJetAK8',\n",
       " 'SoftActivityJetNjets10',\n",
       " 'Generator',\n",
       " 'event',\n",
       " 'SoftActivityJetHT',\n",
       " 'HLT',\n",
       " 'DSAMuonVertex',\n",
       " 'fixedGridRhoFastjetCentralChargedPileUp',\n",
       " 'GenJet',\n",
       " 'PV',\n",
       " 'L1simulation',\n",
       " 'btagWeight',\n",
       " 'SoftActivityJetHT10',\n",
       " 'LHEScaleWeight',\n",
       " 'PSWeight',\n",
       " 'HLTriggerFinalPath',\n",
       " 'LowPtElectron',\n",
       " 'boostedTau',\n",
       " 'FatJet',\n",
       " 'TkMET',\n",
       " 'GenPart',\n",
       " 'SoftActivityJetHT5',\n",
       " 'LHEPdfWeight',\n",
       " 'SoftActivityJetNjets5',\n",
       " 'HTXS',\n",
       " 'GenMET']"
      ]
     },
     "execution_count": 8,
     "metadata": {},
     "output_type": "execute_result"
    }
   ],
   "source": [
    "events.fields"
   ]
  },
  {
   "cell_type": "code",
   "execution_count": null,
   "id": "0a42ec8b-e5c2-4fc0-b284-67bc473bab49",
   "metadata": {},
   "outputs": [],
   "source": []
  }
 ],
 "metadata": {
  "kernelspec": {
   "display_name": "Python 3 (ipykernel)",
   "language": "python",
   "name": "python3"
  },
  "language_info": {
   "codemirror_mode": {
    "name": "ipython",
    "version": 3
   },
   "file_extension": ".py",
   "mimetype": "text/x-python",
   "name": "python",
   "nbconvert_exporter": "python",
   "pygments_lexer": "ipython3",
   "version": "3.10.13"
  }
 },
 "nbformat": 4,
 "nbformat_minor": 5
}
