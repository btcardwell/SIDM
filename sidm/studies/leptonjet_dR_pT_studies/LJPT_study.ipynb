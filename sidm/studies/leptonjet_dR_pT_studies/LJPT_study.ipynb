{
 "cells": [
  {
   "cell_type": "code",
   "execution_count": 1,
   "id": "539cd7bf-9e45-4725-9828-789cc9a36dc5",
   "metadata": {
    "tags": []
   },
   "outputs": [],
   "source": [
    "# python\n",
    "import sys\n",
    "import os\n",
    "import importlib\n",
    "# columnar analysis\n",
    "from coffea.nanoevents import NanoAODSchema\n",
    "from coffea import processor\n",
    "# local \n",
    "# sidm_path = str(sys.path[0]).split(\"/sidm\")[0]\n",
    "sidm_path = str(os.getcwd()).split(\"/sidm\")[0]\n",
    "if sidm_path not in sys.path: sys.path.insert(1, sidm_path)\n",
    "from sidm.tools import sidm_processor, utilities, scaleout\n",
    "# always reload local modules to pick up changes during development\n",
    "importlib.reload(sidm_processor)\n",
    "importlib.reload(utilities)\n",
    "# plotting\n",
    "import matplotlib.pyplot as plt\n",
    "utilities.set_plot_style()\n",
    "%matplotlib inline\n",
    "import warnings\n",
    "warnings.filterwarnings(action='once')"
   ]
  },
  {
   "cell_type": "code",
   "execution_count": 2,
   "id": "c0570e05-684a-48a2-a490-e9e5cb97d79f",
   "metadata": {
    "tags": []
   },
   "outputs": [
    {
     "data": {
      "text/html": [
       "<div>\n",
       "    <div style=\"width: 24px; height: 24px; background-color: #e1e1e1; border: 3px solid #9D9D9D; border-radius: 5px; position: absolute;\"> </div>\n",
       "    <div style=\"margin-left: 48px;\">\n",
       "        <h3 style=\"margin-bottom: 0px;\">Client</h3>\n",
       "        <p style=\"color: #9D9D9D; margin-bottom: 0px;\">Client-56e990b3-55cc-11f0-8280-1e941d1db0c4</p>\n",
       "        <table style=\"width: 100%; text-align: left;\">\n",
       "\n",
       "        <tr>\n",
       "        \n",
       "            <td style=\"text-align: left;\"><strong>Connection method:</strong> Direct</td>\n",
       "            <td style=\"text-align: left;\"></td>\n",
       "        \n",
       "        </tr>\n",
       "\n",
       "        \n",
       "            <tr>\n",
       "                <td style=\"text-align: left;\">\n",
       "                    <strong>Dashboard: </strong> <a href=\"/user/scampbell10@crimson.ua.edu/proxy/8787/status\" target=\"_blank\">/user/scampbell10@crimson.ua.edu/proxy/8787/status</a>\n",
       "                </td>\n",
       "                <td style=\"text-align: left;\"></td>\n",
       "            </tr>\n",
       "        \n",
       "\n",
       "        </table>\n",
       "\n",
       "        \n",
       "            <button style=\"margin-bottom: 12px;\" data-commandlinker-command=\"dask:populate-and-launch-layout\" data-commandlinker-args='{\"url\": \"/user/scampbell10@crimson.ua.edu/proxy/8787/status\" }'>\n",
       "                Launch dashboard in JupyterLab\n",
       "            </button>\n",
       "        \n",
       "\n",
       "        \n",
       "            <details>\n",
       "            <summary style=\"margin-bottom: 20px;\"><h3 style=\"display: inline;\">Scheduler Info</h3></summary>\n",
       "            <div style=\"\">\n",
       "    <div>\n",
       "        <div style=\"width: 24px; height: 24px; background-color: #FFF7E5; border: 3px solid #FF6132; border-radius: 5px; position: absolute;\"> </div>\n",
       "        <div style=\"margin-left: 48px;\">\n",
       "            <h3 style=\"margin-bottom: 0px;\">Scheduler</h3>\n",
       "            <p style=\"color: #9D9D9D; margin-bottom: 0px;\">Scheduler-6cde25c0-5825-490c-96e5-c940b503791a</p>\n",
       "            <table style=\"width: 100%; text-align: left;\">\n",
       "                <tr>\n",
       "                    <td style=\"text-align: left;\">\n",
       "                        <strong>Comm:</strong> tls://192.168.202.12:8786\n",
       "                    </td>\n",
       "                    <td style=\"text-align: left;\">\n",
       "                        <strong>Workers:</strong> 0\n",
       "                    </td>\n",
       "                </tr>\n",
       "                <tr>\n",
       "                    <td style=\"text-align: left;\">\n",
       "                        <strong>Dashboard:</strong> <a href=\"/user/scampbell10@crimson.ua.edu/proxy/8787/status\" target=\"_blank\">/user/scampbell10@crimson.ua.edu/proxy/8787/status</a>\n",
       "                    </td>\n",
       "                    <td style=\"text-align: left;\">\n",
       "                        <strong>Total threads:</strong> 0\n",
       "                    </td>\n",
       "                </tr>\n",
       "                <tr>\n",
       "                    <td style=\"text-align: left;\">\n",
       "                        <strong>Started:</strong> 48 minutes ago\n",
       "                    </td>\n",
       "                    <td style=\"text-align: left;\">\n",
       "                        <strong>Total memory:</strong> 0 B\n",
       "                    </td>\n",
       "                </tr>\n",
       "            </table>\n",
       "        </div>\n",
       "    </div>\n",
       "\n",
       "    <details style=\"margin-left: 48px;\">\n",
       "        <summary style=\"margin-bottom: 20px;\">\n",
       "            <h3 style=\"display: inline;\">Workers</h3>\n",
       "        </summary>\n",
       "\n",
       "        \n",
       "\n",
       "    </details>\n",
       "</div>\n",
       "            </details>\n",
       "        \n",
       "\n",
       "    </div>\n",
       "</div>"
      ],
      "text/plain": [
       "<Client: 'tls://192.168.202.12:8786' processes=0 threads=0, memory=0 B>"
      ]
     },
     "execution_count": 2,
     "metadata": {},
     "output_type": "execute_result"
    }
   ],
   "source": [
    "client = scaleout.make_dask_client(\"tls://localhost:8786\")\n",
    "client"
   ]
  },
  {
   "cell_type": "code",
   "execution_count": 2,
   "id": "dd069d03-2ebf-4598-9836-d31a98631e19",
   "metadata": {
    "tags": []
   },
   "outputs": [
    {
     "data": {
      "application/vnd.jupyter.widget-view+json": {
       "model_id": "e69e5a8b6d9648eb83631a0a348c1ec6",
       "version_major": 2,
       "version_minor": 0
      },
      "text/plain": [
       "Output()"
      ]
     },
     "metadata": {},
     "output_type": "display_data"
    },
    {
     "data": {
      "text/html": [
       "<pre style=\"white-space:pre;overflow-x:auto;line-height:normal;font-family:Menlo,'DejaVu Sans Mono',consolas,'Courier New',monospace\"></pre>\n"
      ],
      "text/plain": []
     },
     "metadata": {},
     "output_type": "display_data"
    },
    {
     "data": {
      "application/vnd.jupyter.widget-view+json": {
       "model_id": "98ea05dbc89949e192cc3d38aa0286bf",
       "version_major": 2,
       "version_minor": 0
      },
      "text/plain": [
       "Output()"
      ]
     },
     "metadata": {},
     "output_type": "display_data"
    },
    {
     "data": {
      "text/html": [
       "<pre style=\"white-space:pre;overflow-x:auto;line-height:normal;font-family:Menlo,'DejaVu Sans Mono',consolas,'Courier New',monospace\">/usr/local/lib/python3.10/site-packages/coffea/nanoevents/schemas/nanoaod.py:205: RuntimeWarning: Missing \n",
       "cross-reference index for LowPtElectron_electronIdx =&gt; Electron\n",
       "  warnings.warn(\n",
       "</pre>\n"
      ],
      "text/plain": [
       "/usr/local/lib/python3.10/site-packages/coffea/nanoevents/schemas/nanoaod.py:205: RuntimeWarning: Missing \n",
       "cross-reference index for LowPtElectron_electronIdx => Electron\n",
       "  warnings.warn(\n"
      ]
     },
     "metadata": {},
     "output_type": "display_data"
    },
    {
     "data": {
      "text/html": [
       "<pre style=\"white-space:pre;overflow-x:auto;line-height:normal;font-family:Menlo,'DejaVu Sans Mono',consolas,'Courier New',monospace\">/usr/local/lib/python3.10/site-packages/coffea/nanoevents/schemas/nanoaod.py:205: RuntimeWarning: Missing \n",
       "cross-reference index for LowPtElectron_photonIdx =&gt; Photon\n",
       "  warnings.warn(\n",
       "</pre>\n"
      ],
      "text/plain": [
       "/usr/local/lib/python3.10/site-packages/coffea/nanoevents/schemas/nanoaod.py:205: RuntimeWarning: Missing \n",
       "cross-reference index for LowPtElectron_photonIdx => Photon\n",
       "  warnings.warn(\n"
      ]
     },
     "metadata": {},
     "output_type": "display_data"
    },
    {
     "data": {
      "text/html": [
       "<pre style=\"white-space:pre;overflow-x:auto;line-height:normal;font-family:Menlo,'DejaVu Sans Mono',consolas,'Courier New',monospace\">/usr/local/lib/python3.10/site-packages/awkward/_connect/_numpy.py:197: RuntimeWarning: invalid value encountered \n",
       "in divide\n",
       "  result = getattr(ufunc, method)(\n",
       "</pre>\n"
      ],
      "text/plain": [
       "/usr/local/lib/python3.10/site-packages/awkward/_connect/_numpy.py:197: RuntimeWarning: invalid value encountered \n",
       "in divide\n",
       "  result = getattr(ufunc, method)(\n"
      ]
     },
     "metadata": {},
     "output_type": "display_data"
    },
    {
     "name": "stdout",
     "output_type": "stream",
     "text": [
      "#--------------------------------------------------------------------------\n",
      "#                         FastJet release 3.4.0\n",
      "#                 M. Cacciari, G.P. Salam and G. Soyez                  \n",
      "#     A software package for jet finding and analysis at colliders      \n",
      "#                           http://fastjet.fr                           \n",
      "#\t                                                                      \n",
      "# Please cite EPJC72(2012)1896 [arXiv:1111.6097] if you use this package\n",
      "# for scientific work and optionally PLB641(2006)57 [hep-ph/0512210].   \n",
      "#                                                                       \n",
      "# FastJet is provided without warranty under the GNU GPL v2 or higher.  \n",
      "# It uses T. Chan's closest pair algorithm, S. Fortune's Voronoi code,\n",
      "# CGAL and 3rd party plugin jet algorithms. See COPYING file for details.\n",
      "#--------------------------------------------------------------------------\n"
     ]
    },
    {
     "data": {
      "text/html": [
       "<pre style=\"white-space:pre;overflow-x:auto;line-height:normal;font-family:Menlo,'DejaVu Sans Mono',consolas,'Courier New',monospace\">/usr/local/lib/python3.10/site-packages/awkward/_connect/_numpy.py:197: RuntimeWarning: invalid value encountered \n",
       "in sqrt\n",
       "  result = getattr(ufunc, method)(\n",
       "</pre>\n"
      ],
      "text/plain": [
       "/usr/local/lib/python3.10/site-packages/awkward/_connect/_numpy.py:197: RuntimeWarning: invalid value encountered \n",
       "in sqrt\n",
       "  result = getattr(ufunc, method)(\n"
      ]
     },
     "metadata": {},
     "output_type": "display_data"
    },
    {
     "data": {
      "text/html": [
       "<pre style=\"white-space:pre;overflow-x:auto;line-height:normal;font-family:Menlo,'DejaVu Sans Mono',consolas,'Courier New',monospace\">/usr/local/lib/python3.10/site-packages/coffea/nanoevents/schemas/nanoaod.py:205: RuntimeWarning: Missing \n",
       "cross-reference index for LowPtElectron_electronIdx =&gt; Electron\n",
       "  warnings.warn(\n",
       "</pre>\n"
      ],
      "text/plain": [
       "/usr/local/lib/python3.10/site-packages/coffea/nanoevents/schemas/nanoaod.py:205: RuntimeWarning: Missing \n",
       "cross-reference index for LowPtElectron_electronIdx => Electron\n",
       "  warnings.warn(\n"
      ]
     },
     "metadata": {},
     "output_type": "display_data"
    },
    {
     "data": {
      "text/html": [
       "<pre style=\"white-space:pre;overflow-x:auto;line-height:normal;font-family:Menlo,'DejaVu Sans Mono',consolas,'Courier New',monospace\">/usr/local/lib/python3.10/site-packages/coffea/nanoevents/schemas/nanoaod.py:205: RuntimeWarning: Missing \n",
       "cross-reference index for LowPtElectron_photonIdx =&gt; Photon\n",
       "  warnings.warn(\n",
       "</pre>\n"
      ],
      "text/plain": [
       "/usr/local/lib/python3.10/site-packages/coffea/nanoevents/schemas/nanoaod.py:205: RuntimeWarning: Missing \n",
       "cross-reference index for LowPtElectron_photonIdx => Photon\n",
       "  warnings.warn(\n"
      ]
     },
     "metadata": {},
     "output_type": "display_data"
    },
    {
     "data": {
      "text/html": [
       "<pre style=\"white-space:pre;overflow-x:auto;line-height:normal;font-family:Menlo,'DejaVu Sans Mono',consolas,'Courier New',monospace\">Warning: a histogram with the name photon_electron_dR_from_oneEonePLJ_highThreshold could not be filled and will be\n",
       "skipped\n",
       "</pre>\n"
      ],
      "text/plain": [
       "Warning: a histogram with the name photon_electron_dR_from_oneEonePLJ_highThreshold could not be filled and will be\n",
       "skipped\n"
      ]
     },
     "metadata": {},
     "output_type": "display_data"
    },
    {
     "data": {
      "text/html": [
       "<pre style=\"white-space:pre;overflow-x:auto;line-height:normal;font-family:Menlo,'DejaVu Sans Mono',consolas,'Courier New',monospace\">Warning: a histogram with the name photon_electron_dR_from_oneEonePLJ_highThreshold could not be filled and will be\n",
       "skipped\n",
       "</pre>\n"
      ],
      "text/plain": [
       "Warning: a histogram with the name photon_electron_dR_from_oneEonePLJ_highThreshold could not be filled and will be\n",
       "skipped\n"
      ]
     },
     "metadata": {},
     "output_type": "display_data"
    },
    {
     "data": {
      "text/html": [
       "<pre style=\"white-space:pre;overflow-x:auto;line-height:normal;font-family:Menlo,'DejaVu Sans Mono',consolas,'Courier New',monospace\">Warning: a histogram with the name photon_electron_dR_from_oneEonePLJ_highThreshold could not be filled and will be\n",
       "skipped\n",
       "</pre>\n"
      ],
      "text/plain": [
       "Warning: a histogram with the name photon_electron_dR_from_oneEonePLJ_highThreshold could not be filled and will be\n",
       "skipped\n"
      ]
     },
     "metadata": {},
     "output_type": "display_data"
    },
    {
     "data": {
      "text/html": [
       "<pre style=\"white-space:pre;overflow-x:auto;line-height:normal;font-family:Menlo,'DejaVu Sans Mono',consolas,'Courier New',monospace\">Warning: a histogram with the name photon_electron_dR_from_oneEonePLJ_highThreshold could not be filled and will be\n",
       "skipped\n",
       "</pre>\n"
      ],
      "text/plain": [
       "Warning: a histogram with the name photon_electron_dR_from_oneEonePLJ_highThreshold could not be filled and will be\n",
       "skipped\n"
      ]
     },
     "metadata": {},
     "output_type": "display_data"
    },
    {
     "data": {
      "text/html": [
       "<pre style=\"white-space:pre;overflow-x:auto;line-height:normal;font-family:Menlo,'DejaVu Sans Mono',consolas,'Courier New',monospace\"></pre>\n"
      ],
      "text/plain": []
     },
     "metadata": {},
     "output_type": "display_data"
    },
    {
     "name": "stdout",
     "output_type": "stream",
     "text": [
      "Signal not in xs cfg, assuming 1fb\n"
     ]
    }
   ],
   "source": [
    "## loading in the samples\n",
    "samples = [\n",
    "    '2Mu2E_200GeV_0p25GeV_0p01mm',\n",
    "    '2Mu2E_200GeV_5p0GeV_0p2mm',\n",
    "    '2Mu2E_200GeV_0p25GeV_10p0mm',\n",
    "    '2Mu2E_200GeV_5p0GeV_200p0mm',\n",
    "    '2Mu2E_200GeV_0p25GeV_5p0mm',\n",
    "    '2Mu2E_200GeV_5p0GeV_100p0mm',\n",
    "    '2Mu2E_200GeV_1p2GeV_0p048mm',\n",
    "    '2Mu2E_200GeV_1p2GeV_24p0mm',\n",
    "    '2Mu2E_200GeV_1p2GeV_48p0mm',\n",
    "    \n",
    "]\n",
    "\n",
    "## can set max_files=-1 to run over full statistics \n",
    "fileset = utilities.make_fileset(samples, \"llpNanoAOD_v2\", max_files=-1, location_cfg=\"signal_2mu2e_v10.yaml\")\n",
    "\n",
    "runner = processor.Runner(\n",
    "    #executor=processor.IterativeExecutor(),\n",
    "    processor.DaskExecutor(client=client),\n",
    "    #executor=processor.FuturesExecutor(),\n",
    "    schema=NanoAODSchema,\n",
    "    #maxchunks=1,\n",
    ")\n",
    "\n",
    "\n",
    "#channels = ['base', 'basenoVeto', 'basenoPixel']\n",
    "# channels = ['base', 'base_v2', 'base_v3', 'base_v4'] \n",
    "channels = ['base_LJPTGT30', 'base_LJPTGT40', 'base_LJPTGT50', 'base_LJPTGT60'] \n",
    "p = sidm_processor.SidmProcessor(\n",
    "    channels,\n",
    "    [\n",
    "        \"lj_base\",\n",
    "        'mu_lj_base',\n",
    "        'egm_lj_base',\n",
    "        'genA_ratio',\n",
    "        'lepton_genA_base',\n",
    "        'mu_lj_base',\n",
    "        \n",
    "    ],\n",
    ")\n",
    "\n",
    "output = runner.run(fileset, treename=\"Events\", processor_instance=p)\n",
    "out = output[\"out\"]\n",
    "\n",
    "\n",
    "def returnLxy(text):\n",
    "    Lxy = {\n",
    "        '0.3 cm': ['0p01', '0p2', '0p048'],\n",
    "        '150 cm': ['5p0', '100p0', '24p0'],\n",
    "        '300 cm': ['10p0', '200p0', '48p0'],\n",
    "    }\n",
    "    for key in Lxy.keys():\n",
    "\n",
    "        if text in Lxy[key]:\n",
    "            return key\n",
    "        else:\n",
    "            continue\n",
    "            \n",
    "legend_entries = [s[6:] for s in samples]\n",
    "\n",
    "def stringReplace(string):\n",
    "    if 'p' in string:\n",
    "        stringNew = string.replace('p', '.')\n",
    "    else:\n",
    "        stringNew = string\n",
    "    return stringNew"
   ]
  },
  {
   "cell_type": "code",
   "execution_count": 3,
   "id": "4a11d0cf-2fe4-40e9-98be-8ce8641ea559",
   "metadata": {
    "tags": []
   },
   "outputs": [
    {
     "data": {
      "image/png": "[encoded data removed]",
      "text/plain": [
       "<Figure size 600x500 with 1 Axes>"
      ]
     },
     "metadata": {},
     "output_type": "display_data"
    },
    {
     "data": {
      "text/plain": [
       "<Figure size 500x500 with 0 Axes>"
      ]
     },
     "metadata": {},
     "output_type": "display_data"
    },
    {
     "data": {
      "image/png": "[encoded data removed]",
      "text/plain": [
       "<Figure size 600x500 with 1 Axes>"
      ]
     },
     "metadata": {},
     "output_type": "display_data"
    },
    {
     "data": {
      "text/plain": [
       "<Figure size 500x500 with 0 Axes>"
      ]
     },
     "metadata": {},
     "output_type": "display_data"
    },
    {
     "data": {
      "image/png": "[encoded data removed]",
      "text/plain": [
       "<Figure size 600x500 with 1 Axes>"
      ]
     },
     "metadata": {},
     "output_type": "display_data"
    },
    {
     "data": {
      "text/plain": [
       "<Figure size 500x500 with 0 Axes>"
      ]
     },
     "metadata": {},
     "output_type": "display_data"
    }
   ],
   "source": [
    "nplots = 1\n",
    "legend_entries = [s[6:] for s in samples]\n",
    "path = './nLJ'\n",
    "\n",
    "plt.subplots(1, nplots, figsize=(12, 10))\n",
    "# Check if the directory already exists\n",
    "if not os.path.exists(path):\n",
    "    os.mkdir(path)\n",
    "    \n",
    "    \n",
    "for i, sample in enumerate(samples):\n",
    "    mass = stringReplace(sample.split('_')[2]).split('G')[0]\n",
    "    decayLen = returnLxy(sample.split('_')[-1][:-2])\n",
    "    utilities.plot(out[sample][\"hists\"][\"lj_n\"][channels[0], :], density=False, label='PT > 30')\n",
    "    utilities.plot(out[sample][\"hists\"][\"lj_n\"][channels[1], :], density=False, label='PT > 40')\n",
    "    utilities.plot(out[sample][\"hists\"][\"lj_n\"][channels[2], :], density=False, label='PT > 50')\n",
    "    utilities.plot(out[sample][\"hists\"][\"lj_n\"][channels[3], :], density=False, label='PT > 60')\n",
    "    \n",
    "    #utilities.plot(out[sample][\"hists\"][\"genA_egmLj_ptRatio_onePhoton\"][channels[3], :], density=False, label='$e\\gamma$ LJ Neither')\n",
    "    \n",
    "    plt.legend(alignment=\"left\")\n",
    "    plt.ylabel(\"Arbitrary units\")\n",
    "    \n",
    "    # Get the current axes object\n",
    "    ax = plt.gca()\n",
    "\n",
    "    # Add text in the bottom-left corner of the plot\n",
    "    # ax.text(0.5, 0.05, f'{legend_entries[i]}', transform=ax.transAxes, \n",
    "    #         fontsize=25, color='k', ha='left', va='bottom')\n",
    "    #plt.show()\n",
    "    plt.suptitle(f'Dark Photon Mass = {mass} GeV, Decay Length = {decayLen}', fontsize=25)\n",
    "    plt.savefig(f'{path}/nLJ_{legend_entries[i]}_highPT.png', dpi=300, facecolor='w')\n",
    "    plt.show()\n",
    "    plt.clf()\n",
    "plt.subplots(1, nplots, figsize=(12, 10))   \n",
    "for i, sample in enumerate(samples):\n",
    "    mass = stringReplace(sample.split('_')[2]).split('G')[0]\n",
    "    decayLen = returnLxy(sample.split('_')[-1][:-2])\n",
    "    utilities.plot(out[sample][\"hists\"][\"mu_lj_n\"][channels[0], :], density=False, label='PT > 30')\n",
    "    utilities.plot(out[sample][\"hists\"][\"mu_lj_n\"][channels[1], :], density=False, label='PT > 40')\n",
    "    utilities.plot(out[sample][\"hists\"][\"mu_lj_n\"][channels[2], :], density=False, label='PT > 50')\n",
    "    utilities.plot(out[sample][\"hists\"][\"mu_lj_n\"][channels[3], :], density=False, label='PT > 60')\n",
    "    \n",
    "    #utilities.plot(out[sample][\"hists\"][\"genA_egmLj_ptRatio_onePhoton\"][channels[3], :], density=False, label='$e\\gamma$ LJ Neither')\n",
    "    \n",
    "    plt.legend(alignment=\"left\")\n",
    "    plt.ylabel(\"Arbitrary units\")\n",
    "    \n",
    "    # Get the current axes object\n",
    "    ax = plt.gca()\n",
    "\n",
    "    # Add text in the bottom-left corner of the plot\n",
    "    # ax.text(0.5, 0.05, f'{legend_entries[i]}', transform=ax.transAxes, \n",
    "    #         fontsize=25, color='k', ha='left', va='bottom')\n",
    "    #plt.show()\n",
    "    plt.suptitle(f'Dark Photon Mass = {mass} GeV, Decay Length = {decayLen}', fontsize=25)\n",
    "    plt.savefig(f'{path}/nmuLJ_{legend_entries[i]}_highPT.png', dpi=300, facecolor='w')\n",
    "    plt.show()\n",
    "    plt.clf()\n",
    "plt.subplots(1, nplots, figsize=(12, 10))    \n",
    "for i, sample in enumerate(samples):\n",
    "    mass = stringReplace(sample.split('_')[2]).split('G')[0]\n",
    "    decayLen = returnLxy(sample.split('_')[-1][:-2])\n",
    "    utilities.plot(out[sample][\"hists\"][\"egm_lj_n\"][channels[0], :], density=False, label='PT > 30')\n",
    "    utilities.plot(out[sample][\"hists\"][\"egm_lj_n\"][channels[1], :], density=False, label='PT > 40')\n",
    "    utilities.plot(out[sample][\"hists\"][\"egm_lj_n\"][channels[2], :], density=False, label='PT > 50')\n",
    "    utilities.plot(out[sample][\"hists\"][\"egm_lj_n\"][channels[3], :], density=False, label='PT > 60')\n",
    "    \n",
    "    #utilities.plot(out[sample][\"hists\"][\"genA_egmLj_ptRatio_onePhoton\"][channels[3], :], density=False, label='$e\\gamma$ LJ Neither')\n",
    "    \n",
    "    plt.legend(alignment=\"left\")\n",
    "    plt.ylabel(\"Arbitrary units\")\n",
    "    \n",
    "    # Get the current axes object\n",
    "    ax = plt.gca()\n",
    "\n",
    "    # # Add text in the bottom-left corner of the plot\n",
    "    # ax.text(0.5, 0.05, f'{legend_entries[i]}', transform=ax.transAxes, \n",
    "    #         fontsize=25, color='k', ha='left', va='bottom')\n",
    "    #plt.show()\n",
    "    plt.suptitle(f'Dark Photon Mass = {mass} GeV, Decay Length = {decayLen}', fontsize=25)\n",
    "    plt.savefig(f'{path}/negmLJ_{legend_entries[i]}_highPT.png', dpi=300, facecolor='w')\n",
    "    plt.show()\n",
    "    plt.clf()"
   ]
  },
  {
   "cell_type": "code",
   "execution_count": null,
   "id": "e6763960-7673-4e03-a8e4-5561622f851f",
   "metadata": {
    "tags": []
   },
   "outputs": [],
   "source": [
    "nplots = 1\n",
    "legend_entries = [s[6:] for s in samples]\n",
    "path = './LJMomentum-Ratio'\n",
    "\n",
    "plt.subplots(1, nplots, figsize=(12, 10))\n",
    "# Check if the directory already exists\n",
    "if not os.path.exists(path):\n",
    "    os.mkdir(path)\n",
    "    \n",
    "    \n",
    "for i, sample in enumerate(samples):\n",
    "    mass = stringReplace(sample.split('_')[2]).split('G')[0]\n",
    "    decayLen = returnLxy(sample.split('_')[-1][:-2])\n",
    "    utilities.plot(out[sample][\"hists\"][\"genA_lj_ptRatio\"][channels[0], :], density=False, label='PT > 30')\n",
    "    utilities.plot(out[sample][\"hists\"][\"genA_lj_ptRatio\"][channels[1], :], density=False, label='PT > 40')\n",
    "    utilities.plot(out[sample][\"hists\"][\"genA_lj_ptRatio\"][channels[2], :], density=False, label='PT > 50')\n",
    "    utilities.plot(out[sample][\"hists\"][\"genA_lj_ptRatio\"][channels[3], :], density=False, label='PT > 60')\n",
    "    \n",
    "    #utilities.plot(out[sample][\"hists\"][\"genA_egmLj_ptRatio_onePhoton\"][channels[3], :], density=False, label='$e\\gamma$ LJ Neither')\n",
    "    \n",
    "    plt.legend(alignment=\"left\")\n",
    "    plt.ylabel(\"Arbitrary units\")\n",
    "    \n",
    "    # Get the current axes object\n",
    "    ax = plt.gca()\n",
    "\n",
    "    # Add text in the bottom-left corner of the plot\n",
    "    # ax.text(0.5, 0.05, f'{legend_entries[i]}', transform=ax.transAxes, \n",
    "    #         fontsize=25, color='k', ha='left', va='bottom')\n",
    "    #plt.show()\n",
    "    plt.suptitle(f'Dark Photon Mass = {mass} GeV, Decay Length = {decayLen}', fontsize=25)\n",
    "    plt.savefig(f'{path}/LJMomentumRatio_{legend_entries[i]}_highPT.png', dpi=300, facecolor='w')\n",
    "    plt.show()\n",
    "    plt.clf()\n",
    "plt.subplots(1, nplots, figsize=(12, 10))   \n",
    "for i, sample in enumerate(samples):\n",
    "    mass = stringReplace(sample.split('_')[2]).split('G')[0]\n",
    "    decayLen = returnLxy(sample.split('_')[-1][:-2])\n",
    "    utilities.plot(out[sample][\"hists\"][\"genA_muLj_ptRatio\"][channels[0], :], density=False, label='PT > 30')\n",
    "    utilities.plot(out[sample][\"hists\"][\"genA_muLj_ptRatio\"][channels[1], :], density=False, label='PT > 40')\n",
    "    utilities.plot(out[sample][\"hists\"][\"genA_muLj_ptRatio\"][channels[2], :], density=False, label='PT > 50')\n",
    "    utilities.plot(out[sample][\"hists\"][\"genA_muLj_ptRatio\"][channels[3], :], density=False, label='PT > 60')\n",
    "    \n",
    "    #utilities.plot(out[sample][\"hists\"][\"genA_egmLj_ptRatio_onePhoton\"][channels[3], :], density=False, label='$e\\gamma$ LJ Neither')\n",
    "    \n",
    "    plt.legend(alignment=\"left\")\n",
    "    plt.ylabel(\"Arbitrary units\")\n",
    "    \n",
    "    # Get the current axes object\n",
    "    ax = plt.gca()\n",
    "\n",
    "    # Add text in the bottom-left corner of the plot\n",
    "    # ax.text(0.5, 0.05, f'{legend_entries[i]}', transform=ax.transAxes, \n",
    "    #         fontsize=25, color='k', ha='left', va='bottom')\n",
    "    #plt.show()\n",
    "    plt.suptitle(f'Dark Photon Mass = {mass} GeV, Decay Length = {decayLen}', fontsize=25)\n",
    "    plt.savefig(f'{path}/muLJMomentumRatio_{legend_entries[i]}_highPT.png', dpi=300, facecolor='w')\n",
    "    plt.show()\n",
    "    plt.clf()\n",
    "plt.subplots(1, nplots, figsize=(12, 10))    \n",
    "for i, sample in enumerate(samples):\n",
    "    mass = stringReplace(sample.split('_')[2]).split('G')[0]\n",
    "    decayLen = returnLxy(sample.split('_')[-1][:-2])\n",
    "    utilities.plot(out[sample][\"hists\"][\"genA_egmLj_ptRatio\"][channels[0], :], density=False, label='PT > 30')\n",
    "    utilities.plot(out[sample][\"hists\"][\"genA_egmLj_ptRatio\"][channels[1], :], density=False, label='PT > 40')\n",
    "    utilities.plot(out[sample][\"hists\"][\"genA_egmLj_ptRatio\"][channels[2], :], density=False, label='PT > 50')\n",
    "    utilities.plot(out[sample][\"hists\"][\"genA_egmLj_ptRatio\"][channels[3], :], density=False, label='PT > 60')\n",
    "    \n",
    "    #utilities.plot(out[sample][\"hists\"][\"genA_egmLj_ptRatio_onePhoton\"][channels[3], :], density=False, label='$e\\gamma$ LJ Neither')\n",
    "    \n",
    "    plt.legend(alignment=\"left\")\n",
    "    plt.ylabel(\"Arbitrary units\")\n",
    "    \n",
    "    # Get the current axes object\n",
    "    ax = plt.gca()\n",
    "\n",
    "    # Add text in the bottom-left corner of the plot\n",
    "    # ax.text(0.5, 0.05, f'{legend_entries[i]}', transform=ax.transAxes, \n",
    "    #         fontsize=25, color='k', ha='left', va='bottom')\n",
    "    #plt.show()\n",
    "    plt.suptitle(f'Dark Photon Mass = {mass} GeV, Decay Length = {decayLen}', fontsize=25)\n",
    "    plt.savefig(f'{path}/egmLJMomentumRatio_{legend_entries[i]}_highPT.png', dpi=300, facecolor='w')\n",
    "    plt.show()\n",
    "    plt.clf()"
   ]
  },
  {
   "cell_type": "code",
   "execution_count": null,
   "id": "90f172af-8ae3-4f74-82dd-e864a2fd754e",
   "metadata": {},
   "outputs": [],
   "source": [
    "nplots = 1\n",
    "\n",
    "path = './invariantMassPlot'\n",
    "# Check if the directory already exists\n",
    "if not os.path.exists(path):\n",
    "    os.mkdir(path)\n",
    "# number of electrons near dark photon\n",
    "\n",
    "\n",
    "for i, sample in enumerate(samples):\n",
    "    plt.subplots(1, nplots, figsize=(12, 10))\n",
    "    mass = stringReplace(sample.split('_')[2]).split('G')[0]\n",
    "    decayLen = returnLxy(sample.split('_')[-1][:-2])\n",
    "    utilities.plot(out[sample][\"hists\"][\"mJJ_2mu2e\"][channels[0], :], density=False, label='PT > 30')\n",
    "    utilities.plot(out[sample][\"hists\"][\"mJJ_2mu2e\"][channels[1], :], density=False, label='PT > 40')\n",
    "    utilities.plot(out[sample][\"hists\"][\"mJJ_2mu2e\"][channels[2], :], density=False, label='PT > 50')\n",
    "    utilities.plot(out[sample][\"hists\"][\"mJJ_2mu2e\"][channels[3], :], density=False, label='PT > 60')\n",
    "    # utilities.plot(out[sample][\"hists\"][\"genA_egmLj_ptRatio\"][channels[3], :], density=False, label='No PhoFull5x5SigmaIEtaIEtaCut + No PhoIsoWithEALinScalingCut + LooseID Electrons')\n",
    "    # utilities.plot(out[sample][\"hists\"][\"genA_egmLj_ptRatio\"][channels[4], :], density=False, label='LooseID Photons + LooseID Electrons')\n",
    "    \n",
    "    \n",
    "    plt.legend()\n",
    "    plt.ylabel(\"Arbitrary units\")\n",
    "    \n",
    "    plt.suptitle(f'Dark Photon Mass = {mass} GeV, Decay Length = {decayLen}', fontsize=25)\n",
    "    # Apply tight layout to ensure space for the legend\n",
    "    plt.tight_layout()  # Adjust the right side to make room for the legend\n",
    "    plt.savefig(f'{path}/plot_LJ_invariant_mass_{legend_entries[i]}.png', dpi=300, facecolor='w')\n",
    "    plt.show()\n",
    "    plt.clf()"
   ]
  },
  {
   "cell_type": "code",
   "execution_count": null,
   "id": "664d8941-ba17-4baa-9a3f-5b5ffb1c1f22",
   "metadata": {},
   "outputs": [],
   "source": []
  },
  {
   "cell_type": "code",
   "execution_count": null,
   "id": "1162f472-07cb-4ad6-8c02-f109f75866cc",
   "metadata": {},
   "outputs": [],
   "source": []
  }
 ],
 "metadata": {
  "kernelspec": {
   "display_name": "Python 3 (ipykernel)",
   "language": "python",
   "name": "python3"
  },
  "language_info": {
   "codemirror_mode": {
    "name": "ipython",
    "version": 3
   },
   "file_extension": ".py",
   "mimetype": "text/x-python",
   "name": "python",
   "nbconvert_exporter": "python",
   "pygments_lexer": "ipython3",
   "version": "3.10.14"
  }
 },
 "nbformat": 4,
 "nbformat_minor": 5
}
