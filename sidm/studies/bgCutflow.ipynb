{
 "cells": [
  {
   "cell_type": "code",
   "execution_count": 1,
   "id": "a9b806f4-7d38-4cdf-a7b8-76d42d180e0e",
   "metadata": {},
   "outputs": [],
   "source": [
    "# python\n",
    "import sys\n",
    "import os\n",
    "import importlib\n",
    "# columnar analysis\n",
    "from coffea import processor\n",
    "import awkward as ak\n",
    "from dask.distributed import Client\n",
    "# local\n",
    "sys.path.insert(1, os.path.join(sys.path[0], '../..')) \n",
    "from sidm.tools import ffschema, sidm_processor, utilities, scaleout, cutflow\n",
    "# always reload local modules to pick up changes during development\n",
    "importlib.reload(ffschema)\n",
    "importlib.reload(sidm_processor)\n",
    "importlib.reload(utilities)\n",
    "importlib.reload(cutflow)\n",
    "# plotting\n",
    "import matplotlib.pyplot as plt\n",
    "import mplhep as hep\n",
    "\n",
    "# Load style sheet\n",
    "# plt.style.use(hep.style.CMS)  # or ATLAS/LHCb2\n",
    "\n",
    "# h, bins = np.histogram(np.random.random(1000))\n",
    "# fig, ax = plt.subplots()\n",
    "# hep.histplot(h, bins)\n",
    "\n",
    "utilities.set_plot_style()"
   ]
  },
  {
   "cell_type": "code",
   "execution_count": 2,
   "id": "dc658b30-6220-4186-812b-8a3fa8a93763",
   "metadata": {
    "tags": []
   },
   "outputs": [
    {
     "name": "stderr",
     "output_type": "stream",
     "text": [
      "/home/cms-jovyan/SIDM/sidm/studies/../../sidm/tools/scaleout.py:13: UserWarning: Registering a `SchedulerPlugin` as a worker plugin is not allowed, registering as a scheduler plugin instead. To register as a worker plugin, inherit from `WorkerPlugin`.\n",
      "  client.register_worker_plugin(PipInstall(packages=dependencies, pip_options=[\"--upgrade\"]))\n"
     ]
    },
    {
     "data": {
      "text/html": [
       "<div>\n",
       "    <div style=\"width: 24px; height: 24px; background-color: #e1e1e1; border: 3px solid #9D9D9D; border-radius: 5px; position: absolute;\"> </div>\n",
       "    <div style=\"margin-left: 48px;\">\n",
       "        <h3 style=\"margin-bottom: 0px;\">Client</h3>\n",
       "        <p style=\"color: #9D9D9D; margin-bottom: 0px;\">Client-2ebe6acf-1867-11ef-96c7-129931528bd6</p>\n",
       "        <table style=\"width: 100%; text-align: left;\">\n",
       "\n",
       "        <tr>\n",
       "        \n",
       "            <td style=\"text-align: left;\"><strong>Connection method:</strong> Direct</td>\n",
       "            <td style=\"text-align: left;\"></td>\n",
       "        \n",
       "        </tr>\n",
       "\n",
       "        \n",
       "            <tr>\n",
       "                <td style=\"text-align: left;\">\n",
       "                    <strong>Dashboard: </strong> <a href=\"/user/yfv2ev@virginia.edu/proxy/8787/status\" target=\"_blank\">/user/yfv2ev@virginia.edu/proxy/8787/status</a>\n",
       "                </td>\n",
       "                <td style=\"text-align: left;\"></td>\n",
       "            </tr>\n",
       "        \n",
       "\n",
       "        </table>\n",
       "\n",
       "        \n",
       "            <button style=\"margin-bottom: 12px;\" data-commandlinker-command=\"dask:populate-and-launch-layout\" data-commandlinker-args='{\"url\": \"/user/yfv2ev@virginia.edu/proxy/8787/status\" }'>\n",
       "                Launch dashboard in JupyterLab\n",
       "            </button>\n",
       "        \n",
       "\n",
       "        \n",
       "            <details>\n",
       "            <summary style=\"margin-bottom: 20px;\"><h3 style=\"display: inline;\">Scheduler Info</h3></summary>\n",
       "            <div style=\"\">\n",
       "    <div>\n",
       "        <div style=\"width: 24px; height: 24px; background-color: #FFF7E5; border: 3px solid #FF6132; border-radius: 5px; position: absolute;\"> </div>\n",
       "        <div style=\"margin-left: 48px;\">\n",
       "            <h3 style=\"margin-bottom: 0px;\">Scheduler</h3>\n",
       "            <p style=\"color: #9D9D9D; margin-bottom: 0px;\">Scheduler-ea651532-37da-4cbc-860d-3f6fdfbef3d7</p>\n",
       "            <table style=\"width: 100%; text-align: left;\">\n",
       "                <tr>\n",
       "                    <td style=\"text-align: left;\">\n",
       "                        <strong>Comm:</strong> tls://192.168.235.11:8786\n",
       "                    </td>\n",
       "                    <td style=\"text-align: left;\">\n",
       "                        <strong>Workers:</strong> 0\n",
       "                    </td>\n",
       "                </tr>\n",
       "                <tr>\n",
       "                    <td style=\"text-align: left;\">\n",
       "                        <strong>Dashboard:</strong> <a href=\"/user/yfv2ev@virginia.edu/proxy/8787/status\" target=\"_blank\">/user/yfv2ev@virginia.edu/proxy/8787/status</a>\n",
       "                    </td>\n",
       "                    <td style=\"text-align: left;\">\n",
       "                        <strong>Total threads:</strong> 0\n",
       "                    </td>\n",
       "                </tr>\n",
       "                <tr>\n",
       "                    <td style=\"text-align: left;\">\n",
       "                        <strong>Started:</strong> 1 day ago\n",
       "                    </td>\n",
       "                    <td style=\"text-align: left;\">\n",
       "                        <strong>Total memory:</strong> 0 B\n",
       "                    </td>\n",
       "                </tr>\n",
       "            </table>\n",
       "        </div>\n",
       "    </div>\n",
       "\n",
       "    <details style=\"margin-left: 48px;\">\n",
       "        <summary style=\"margin-bottom: 20px;\">\n",
       "            <h3 style=\"display: inline;\">Workers</h3>\n",
       "        </summary>\n",
       "\n",
       "        \n",
       "\n",
       "    </details>\n",
       "</div>\n",
       "            </details>\n",
       "        \n",
       "\n",
       "    </div>\n",
       "</div>"
      ],
      "text/plain": [
       "<Client: 'tls://192.168.235.11:8786' processes=0 threads=0, memory=0 B>"
      ]
     },
     "execution_count": 2,
     "metadata": {},
     "output_type": "execute_result"
    }
   ],
   "source": [
    "client = scaleout.make_dask_client(\"tls://localhost:8786\")\n",
    "client"
   ]
  },
  {
   "cell_type": "code",
   "execution_count": 3,
   "id": "144357e6-9c9a-49de-beef-cc409d78a07e",
   "metadata": {},
   "outputs": [
    {
     "name": "stdout",
     "output_type": "stream",
     "text": [
      "Sample: DYJetsToLL_M10to50\n",
      "Sample: DYJetsToLL_M50\n",
      "Sample: QCD_Pt15to20\n",
      "Sample: QCD_Pt20to30\n",
      "Sample: QCD_Pt50to80\n",
      "Sample: QCD_Pt80to120\n",
      "Sample: QCD_Pt170to300\n",
      "Sample: QCD_Pt300to470\n",
      "Sample: QCD_Pt470to600\n",
      "Sample: QCD_Pt600to800\n",
      "Sample: QCD_Pt800to1000\n",
      "Sample: QCD_Pt1000toInf\n",
      "Sample: TTJets\n",
      "Sample: WW\n",
      "Sample: WZ\n",
      "Sample: ZZ\n"
     ]
    }
   ],
   "source": [
    "SIDM_samples = [\n",
    "    #\"2Mu2E_100GeV_1p2GeV_9p6mm\", \n",
    "    #\"4Mu_100GeV_1p2GeV_9p6mm\",\n",
    "    \n",
    "    #\"2Mu2E_1000GeV_0p25GeV_0p02mm\",\n",
    "    #\"4Mu_1000GeV_0p25GeV_0p02mm\",\n",
    "\n",
    "    #\"4Mu_100GeV_5GeV_0p4mm\"\n",
    "]\n",
    "\n",
    "\n",
    "samples = [\n",
    "    \"DYJetsToLL_M10to50\", # Background\n",
    "    \"DYJetsToLL_M50\",\n",
    "    \n",
    "    \"QCD_Pt15to20\", #Works\n",
    "    \"QCD_Pt20to30\", #issue, needs many files to fill all histograms\n",
    "    #\"QCD_Pt30to50\", #Broken, throws KeyError: 'akjet_ak4PFJetsCHS_jetid' - now fixed in ffschema\n",
    "    \"QCD_Pt50to80\", #Works\n",
    "    \"QCD_Pt80to120\", #Works\n",
    "    #\"QCD_Pt120to170\", #Broken, Exception: Failed processing file: WorkItem(dataset='QCD_Pt120to170' ...)\n",
    "    \"QCD_Pt170to300\", #Works\n",
    "    \"QCD_Pt300to470\", #Works\n",
    "    \"QCD_Pt470to600\", #Works\n",
    "    \"QCD_Pt600to800\", #Works\n",
    "    \"QCD_Pt800to1000\", #Works\n",
    "    \"QCD_Pt1000toInf\", #Works\n",
    "    \n",
    "    \"TTJets\",\n",
    "    \"WW\",\n",
    "    \"WZ\",\n",
    "    \"ZZ\",\n",
    "]\n",
    "\n",
    "for sample in SIDM_samples:\n",
    "    samples.append(sample)\n",
    "\n",
    "for sample in samples:\n",
    "    print(\"Sample: \" + sample)\n",
    "    \n",
    "fileset = utilities.make_fileset(samples, \"ffntuple_v2\", max_files=8) #max_files argument was removed, so it defaults to use all the files in each sample\n",
    "#fileset = utilities.make_fileset(samples, \"ffntuple_v2\", max_files=8) #CHANGED: background appears to use v2 ntuples instead of v4"
   ]
  },
  {
   "cell_type": "code",
   "execution_count": 4,
   "id": "8699f113-506e-4317-989b-d7f3f475dbc1",
   "metadata": {
    "tags": []
   },
   "outputs": [
    {
     "name": "stdout",
     "output_type": "stream",
     "text": [
      "<sidm.tools.sidm_processor.SidmProcessor object at 0x7fcca07b8640>\n",
      "[                                        ] | 0% Completed |  0.1s"
     ]
    },
    {
     "name": "stderr",
     "output_type": "stream",
     "text": [
      "/opt/conda/lib/python3.9/site-packages/dask/dataframe/_pyarrow_compat.py:17: FutureWarning: Minimal version of pyarrow will soon be increased to 14.0.1. You are using 12.0.0. Please consider upgrading.\n",
      "  warnings.warn(\n"
     ]
    },
    {
     "name": "stdout",
     "output_type": "stream",
     "text": [
      "[########################################] | 100% Completed |  1min 34.9s\u001b[2K\u001b[2K\r"
     ]
    }
   ],
   "source": [
    "runner = processor.Runner(\n",
    "    #executor=processor.IterativeExecutor(),\n",
    "    executor=processor.DaskExecutor(client=client),\n",
    "    #executor=processor.FuturesExecutor(),\n",
    "    schema=ffschema.FFSchema,\n",
    "    #maxchunks=1,\n",
    ")\n",
    "\n",
    "channels = [\n",
    "            \"2mu2e\",\"4mu\",\n",
    "            \"baseNoLj\"\n",
    "           ] # NOTE: the channel used determines the cuts applied. baseNoLj removes the checks for multiple jets.\n",
    "p = sidm_processor.SidmProcessor(\n",
    "    channels, [\"base\"]) # not sure if base_plus_gen applies to the background\n",
    "\n",
    "# test if processor is serializable\n",
    "import coffea.util as coffea_util\n",
    "coffea_util.save(p, \"processor.coffea\")\n",
    "print(coffea_util.load(\"processor.coffea\"))\n",
    "\n",
    "\n",
    "output = runner.run(fileset, treename=\"ffNtuplizer/ffNtuple\", processor_instance=p)\n",
    "out = output[\"out\"]"
   ]
  },
  {
   "cell_type": "code",
   "execution_count": 5,
   "id": "56dede85-6004-40e2-ba40-e8a42600c9e8",
   "metadata": {
    "tags": []
   },
   "outputs": [
    {
     "ename": "KeyError",
     "evalue": "'4Mu_100GeV_1p2GeV_9p6mm'",
     "output_type": "error",
     "traceback": [
      "\u001b[0;31m---------------------------------------------------------------------------\u001b[0m",
      "\u001b[0;31mKeyError\u001b[0m                                  Traceback (most recent call last)",
      "Cell \u001b[0;32mIn[5], line 1\u001b[0m\n\u001b[0;32m----> 1\u001b[0m \u001b[43mout\u001b[49m\u001b[43m[\u001b[49m\u001b[38;5;124;43m\"\u001b[39;49m\u001b[38;5;124;43m4Mu_100GeV_1p2GeV_9p6mm\u001b[39;49m\u001b[38;5;124;43m\"\u001b[39;49m\u001b[43m]\u001b[49m[\u001b[38;5;124m\"\u001b[39m\u001b[38;5;124mcutflow\u001b[39m\u001b[38;5;124m\"\u001b[39m][\u001b[38;5;124m\"\u001b[39m\u001b[38;5;124mbaseNoLj\u001b[39m\u001b[38;5;124m\"\u001b[39m]\u001b[38;5;241m.\u001b[39mprint_table(fraction\u001b[38;5;241m=\u001b[39m\u001b[38;5;28;01mTrue\u001b[39;00m)\n\u001b[1;32m      3\u001b[0m out[\u001b[38;5;124m\"\u001b[39m\u001b[38;5;124m4Mu_1000GeV_0p25GeV_0p02mm\u001b[39m\u001b[38;5;124m\"\u001b[39m][\u001b[38;5;124m\"\u001b[39m\u001b[38;5;124mcutflow\u001b[39m\u001b[38;5;124m\"\u001b[39m][\u001b[38;5;124m\"\u001b[39m\u001b[38;5;124mbaseNoLj\u001b[39m\u001b[38;5;124m\"\u001b[39m]\u001b[38;5;241m.\u001b[39mprint_table(fraction\u001b[38;5;241m=\u001b[39m\u001b[38;5;28;01mTrue\u001b[39;00m)\n\u001b[1;32m      5\u001b[0m out[\u001b[38;5;124m\"\u001b[39m\u001b[38;5;124m4Mu_100GeV_5GeV_0p4mm\u001b[39m\u001b[38;5;124m\"\u001b[39m][\u001b[38;5;124m\"\u001b[39m\u001b[38;5;124mcutflow\u001b[39m\u001b[38;5;124m\"\u001b[39m][\u001b[38;5;124m\"\u001b[39m\u001b[38;5;124mbaseNoLj\u001b[39m\u001b[38;5;124m\"\u001b[39m]\u001b[38;5;241m.\u001b[39mprint_table(fraction\u001b[38;5;241m=\u001b[39m\u001b[38;5;28;01mTrue\u001b[39;00m)\n",
      "\u001b[0;31mKeyError\u001b[0m: '4Mu_100GeV_1p2GeV_9p6mm'"
     ]
    }
   ],
   "source": [
    "out[\"4Mu_100GeV_1p2GeV_9p6mm\"][\"cutflow\"][\"baseNoLj\"].print_table(fraction=True)\n",
    "\n",
    "out[\"4Mu_1000GeV_0p25GeV_0p02mm\"][\"cutflow\"][\"baseNoLj\"].print_table(fraction=True)\n",
    "\n",
    "out[\"4Mu_100GeV_5GeV_0p4mm\"][\"cutflow\"][\"baseNoLj\"].print_table(fraction=True)"
   ]
  },
  {
   "cell_type": "code",
   "execution_count": 14,
   "id": "02cc6899-49ff-4017-865e-169ca29a88ee",
   "metadata": {
    "tags": []
   },
   "outputs": [],
   "source": [
    "# Post-processing, combines background samples into larger sets.\n",
    "# This applies to cutflows and to histograms\n",
    "\n",
    "#These flags show whether DY, QCD, and dibosons should be combined into one variable.\n",
    "bosons = True\n",
    "QCD = True\n",
    "DY = True\n",
    "ttbar = True\n",
    "#If this is true, all background samples will be combined into one. This automatically disables the other groupings.\n",
    "TotalBackground = True\n",
    "\n",
    "if TotalBackground == True:\n",
    "    DY = False\n",
    "    QCD = False\n",
    "    bosons = False\n",
    "    ttbar = False\n",
    "    \n",
    "sample_list = []\n",
    "if DY == True:\n",
    "    sample_list.append(\"DY_Jets\")\n",
    "if QCD == True:\n",
    "    sample_list.append(\"QCD_Jets\")\n",
    "if bosons == True:\n",
    "    sample_list.append(\"DiBoson_Jets\")\n",
    "if ttbar == True:\n",
    "    sample_list.append(\"TT\")\n",
    "    \n",
    "for sample in samples:\n",
    "    if (sample[0] != 'D' and DY == True) and (sample[0] != 'Q' and QCD == True) and (sample[0] != 'W' and bosons == True) and (sample[0] != 'Z' and bosons == True) and (sample != 'TT' and ttbar == True):\n",
    "        sample_list.append(sample)\n",
    "        \n",
    "QCD_samples = [\"QCD_Pt15to20\",\"QCD_Pt20to30\",\"QCD_Pt30to50\",\"QCD_Pt50to80\",\"QCD_Pt80to120\",\"QCD_Pt120to170\",\n",
    "               \"QCD_Pt170to300\",\"QCD_Pt300to470\",\"QCD_Pt470to600\",\"QCD_Pt600to800\",\"QCD_Pt800to1000\",\"QCD_Pt1000toInf\"]\n",
    "\n",
    "# post-processing, adds together all the histograms in the Drell-Yan set into DY_Hists\n",
    "\n",
    "if DY == True:\n",
    "    DY_Hists = output['out'][\"DYJetsToLL_M10to50\"][\"hists\"]\n",
    "    DY_Cutflow = output['out'][\"DYJetsToLL_M10to50\"][\"cutflow\"]\n",
    "    for channel in channels:\n",
    "        DY_Cutflow[channel] = DY_Cutflow[channel] + output['out'][\"DYJetsToLL_M50\"][\"cutflow\"][channel]\n",
    "# Also adds together all QCD samples used\n",
    "if QCD == True:\n",
    "    QCD_Hists = output['out'][\"QCD_Pt15to20\"][\"hists\"]\n",
    "    QCD_Cutflow = output['out'][\"QCD_Pt15to20\"][\"cutflow\"]\n",
    "    for sample in samples:\n",
    "        if (sample[0] == 'Q') and (sample != \"QCD_Pt15to20\"):\n",
    "            for channel in channels:\n",
    "                QCD_Cutflow[channel] = QCD_Cutflow[channel] + output['out'][sample][\"cutflow\"][channel]\n",
    "# Now adds diboson samples together (not sure if TT_ is a diboson, might be quarks)\n",
    "if bosons == True:\n",
    "    DiBoson_Hists = output['out'][\"WW\"][\"hists\"]     \n",
    "    DiBoson_Cutflow = output['out'][\"WW\"][\"cutflow\"]\n",
    "    for channel in channels:\n",
    "        DiBoson_Cutflow[channel] = DiBoson_Cutflow[channel] + output['out'][\"ZZ\"][\"cutflow\"][channel]\n",
    "        DiBoson_Cutflow[channel] = DiBoson_Cutflow[channel] + output['out'][\"WZ\"][\"cutflow\"][channel]\n",
    "    \n",
    "if ttbar == True:\n",
    "    TT_Hists = output['out']['TTJets'][\"hists\"]\n",
    "    TT_Cutflow = output['out']['TTJets'][\"cutflow\"]\n",
    "    \n",
    "if TotalBackground == True:\n",
    "    bg_Hists = output['out'][\"DYJetsToLL_M10to50\"][\"hists\"]\n",
    "    bg_Cutflow = output['out'][\"DYJetsToLL_M10to50\"][\"cutflow\"]\n",
    "    for sample in samples:\n",
    "        if (sample[0] == 'D') or (sample[0] == 'Q') or (sample[0] == 'W') or (sample[0] == 'Z') and (sample != \"DYJetsToLL_M10to50\"):\n",
    "            for channel in channels:\n",
    "                bg_Cutflow[channel] = bg_Cutflow[channel] + output['out'][sample][\"cutflow\"][channel]\n",
    "                \n",
    "                \n",
    "hist_menu = utilities.load_yaml(\"../configs/hist_collections.yaml\")\n",
    "collection = utilities.flatten(hist_menu[\"base\"]) #To change the histograms used, swap \"base\" for the other collections\n",
    "collection.remove(\"lj_pfiso\") #lj_pfiso is bugged, this line removes it\n",
    "\n",
    "for hist_name in collection:\n",
    "    if DY == True:\n",
    "        #print(\"Adding \" + hist_name + \" to DY_Hists\")\n",
    "        DY_Hists[hist_name] = DY_Hists[hist_name] + output['out'][\"DYJetsToLL_M50\"][\"hists\"][hist_name]\n",
    "    if QCD == True:\n",
    "        for sample in samples:\n",
    "            if (sample[0] == 'Q') and (sample != \"QCD_Pt15to20\"):\n",
    "                QCD_Hists[hist_name] = QCD_Hists[hist_name] + output['out'][sample][\"hists\"][hist_name]\n",
    "    if bosons == True:\n",
    "        DiBoson_Hists[hist_name] = DiBoson_Hists[hist_name] + output['out'][\"WZ\"][\"hists\"][hist_name]\n",
    "        DiBoson_Hists[hist_name] = DiBoson_Hists[hist_name] + output['out'][\"ZZ\"][\"hists\"][hist_name]\n",
    "    if TotalBackground == True:\n",
    "        for sample in samples:\n",
    "            if (sample[0] == 'D') or (sample[0] == 'Q') or (sample[0] == 'W') or (sample[0] == 'Z') and (sample != \"DYJetsToLL_M10to50\"):\n",
    "                bg_Hists[hist_name] = bg_Hists[hist_name] + output['out'][sample][\"hists\"][hist_name]\n",
    "                \n",
    "            #print(\"Adding  \" + sample + ' ' + hist_name + \" histogram to QCD_Pt15to20\")\n",
    "# IMPORTANT: This sets DY_10to50 as the base for the DY_Hists. When DY_Hists is changed, so is DY_10to50. This\n",
    "#            shouldn't matter, since the only one used will be DY_Hists in most cases, but this needs to be fixed.\n",
    "#            The same issue is present with QCD_15to20 and QCD_Hists."
   ]
  },
  {
   "cell_type": "code",
   "execution_count": null,
   "id": "331bbd84-ff2c-4185-b46b-52073a307907",
   "metadata": {
    "tags": []
   },
   "outputs": [],
   "source": [
    "#This defines a function to break down the samples and make individual subplots for each one.\n",
    "#First, it makes a list of all samples, replacing the individual background ones with any aggregates\n",
    "#(DY, QCD, bosons). This does not include the total background one, since that can be plotted with a single function\n",
    "#rather than this process. Next, it cycles through the list and plots all the samples.\n",
    "#Note to fix: if one of the aggregates is disabled, the ordering of the plots breaks.\n",
    "#Also, the argument nrow is now determined from number of samples and number of columns, so the input parameter is unnecessary.\n",
    "# I should also set the specific range as a parameter. For now, it uses [ :1200j], and that seems to change as needed, but it could be an issue in the future.\n",
    "sample_list = []\n",
    "if DY == True:\n",
    "    sample_list.append(\"DY_Jets\")\n",
    "if QCD == True:\n",
    "    sample_list.append(\"QCD_Jets\")\n",
    "if bosons == True:\n",
    "    sample_list.append(\"DiBoson_Jets\")\n",
    "    \n",
    "for sample in samples:\n",
    "    if (sample[0] != 'D' and DY == True) and (sample[0] != 'Q' and QCD == True) and (sample[0] != 'W' and bosons == True) and (sample[0] != 'Z' and bosons == True):\n",
    "        sample_list.append(sample)\n",
    "        \n",
    "def plotSamples(hists, channel, errorBars, densityPlot, nrow=2, ncol=4, samples=sample_list, fullBg=TotalBackground):\n",
    "    #Note that nrow gets overwritten. Might want to remove that.\n",
    "    if fullBg == False:\n",
    "        nplots = len(samples)\n",
    "        nrow = (nplots-1)//ncol + 1\n",
    "        if (nplots <= 5):\n",
    "            ncol = nplots\n",
    "            nrow = 1\n",
    "        plt.subplots(nrow, ncol, figsize=(ncol*12, nrow*9))\n",
    "        counter = 1\n",
    "        print(\"Now plotting \" + hists[0], end='')\n",
    "        while counter < len(hists):\n",
    "            print(\" and \" + hists[counter], end='')\n",
    "            counter += 1\n",
    "        print('.')\n",
    "    \n",
    "        for i in range(nplots):\n",
    "            plt.subplot(nrow, ncol, i+1)\n",
    "            plt.rcParams['font.size'] = 16\n",
    "            if i==0 and DY == True:\n",
    "                for hist in hists:\n",
    "                    utilities.plot(DY_Hists[hist][channel, :1200j], yerr=errorBars, density=densityPlot, flow='none')\n",
    "                if len(hists) > 1:\n",
    "                    plt.legend(hists)\n",
    "                plt.title(samples[i])\n",
    "            elif i==1 and QCD == True:\n",
    "                for hist in hists:\n",
    "                    utilities.plot(QCD_Hists[hist][channel, :1200j], yerr=errorBars, density=densityPlot, flow='none')\n",
    "                if len(hists) > 1:\n",
    "                    plt.legend(hists)\n",
    "                plt.title(samples[i])\n",
    "            elif i==2 and bosons == True:\n",
    "                for hist in hists:\n",
    "                    utilities.plot(DiBoson_Hists[hist][channel, :1200j], yerr=errorBars, density=densityPlot, flow='none')\n",
    "                if len(hists) > 1:\n",
    "                    plt.legend(hists)\n",
    "                plt.title(samples[i])\n",
    "            elif i <= nplots:\n",
    "                for hist in hists:\n",
    "                    utilities.plot(out[samples[i]][\"hists\"][hist][channel, :1200j], yerr=errorBars, density=densityPlot, flow='none')\n",
    "                if len(hists) > 1:\n",
    "                    plt.legend(hists)\n",
    "                plt.title(samples[i])\n",
    "\n",
    "    else: #case that background is combined together\n",
    "        nplots = len(SIDM_samples) + 1\n",
    "        if nplots <= 5:\n",
    "            ncol = nplots\n",
    "            nrow = 1\n",
    "        else:\n",
    "            nrow = (nplots-1)//ncol + 1\n",
    "        plt.subplots(nrow, ncol, figsize=(ncol*12, nrow*9))\n",
    "        counter = 1\n",
    "        print(\"Now plotting \" + hists[0], end='')\n",
    "        while counter < len(hists):\n",
    "            print(\" and \" + hists[counter], end='')\n",
    "            counter += 1\n",
    "        print('.')\n",
    "        for i in range(nrow):\n",
    "            for k in range(1, ncol+1):\n",
    "                plt.subplot(nrow, ncol, k+i*ncol)\n",
    "                plt.rcParams['font.size'] = 16\n",
    "                if i==0 and k==1:\n",
    "                    for hist in hists:\n",
    "                        utilities.plot(bg_Hists[hist][channel, :1200j], yerr=errorBars, density=densityPlot, flow='none')\n",
    "                    if len(hists) > 1:\n",
    "                        plt.legend(hists)\n",
    "                    plt.title(samples[k+i*ncol-1])\n",
    "                elif (k+i*ncol <= nplots):\n",
    "                    for hist in hists:\n",
    "                        utilities.plot(out[samples[k+i*ncol-1]][\"hists\"][hist][channel, :1200j], yerr=errorBars, density=densityPlot, flow='none')\n",
    "                    if len(hists) > 1:\n",
    "                        plt.legend(hists)\n",
    "                    plt.title(samples[k+i*ncol-1])"
   ]
  },
  {
   "cell_type": "code",
   "execution_count": null,
   "id": "e3ddda35-c1f3-49e5-9d9d-49be6defc7ea",
   "metadata": {
    "tags": []
   },
   "outputs": [],
   "source": [
    "#DY_Output = output['out'][\"DYJetsToLL_M10to50\"][\"hists\"][\"muon_pt\"] + output['out'][\"DYJetsToLL_M50\"][\"hists\"][\"muon_pt\"]\n",
    "# Trying to combine all DY processes into one element\n",
    "# This would use all DY processes at once\n",
    "# Combining the files manually in the background (combining the categories of <50 and >50) wouldn't work, since only a few files are used overall.\n",
    "# Should work going forward with DY_Output['hists'][\"muon_pt\"][\"baseNoLj\", :], etc.\n",
    "# from coffea.processor import accumulate\n",
    "#double_out = accumulate([output[\"out\"], output[\"out\"]])\n",
    "#DY = accumulate(output['out'][\"DYJetsToLL_M10to50\"], output['out'][\"DYJetsToLL_M10to50\"])\n",
    "#DY = output['out'][\"DYJetsToLL_M10to50\"][\"hists\"] + output['out'][\"DYJetsToLL_M50\"][\"hists\"]\n",
    "#print(output['out'][\"DYJetsToLL_M10to50\"])\n",
    "#print(output['out'][\"DYJetsToLL_M10to50\"])"
   ]
  },
  {
   "cell_type": "code",
   "execution_count": null,
   "id": "2b61fab2-f11c-44f2-a88f-00ae4d33309c",
   "metadata": {
    "tags": []
   },
   "outputs": [],
   "source": [
    "plt.subplots(1,3, figsize=(36, 9))\n",
    "plt.subplot(1, 3, 1)\n",
    "utilities.plot(out[\"DYJetsToLL_M10to50\"][\"hists\"][\"lj_pt\"][\"baseNoLj\", :], density=False, yerr=False)\n",
    "plt.title(\"DY_Jets 10to50\")\n",
    "plt.subplot(1, 3, 2)\n",
    "utilities.plot(out[\"DYJetsToLL_M50\"][\"hists\"][\"lj_pt\"][\"baseNoLj\", :], density=False, yerr=False)\n",
    "plt.title(\"DY_Jets 50+\")\n",
    "plt.subplot(1, 3, 3)\n",
    "#DY_plot = utilities.plot(out[\"DYJetsToLL_M10to50\"][\"hists\"][\"muon_pt\"][\"baseNoLj\", :], density=True) + utilities.plot(out[\"DYJetsToLL_M50\"][\"hists\"][\"muon_pt\"][\"baseNoLj\", :], density=True)\n",
    "utilities.plot(bg_Hists[\"lj_pt\"]['baseNoLj', :], density = False, yerr=False)\n",
    "plt.title(\"Combined BG\")\n",
    "# Shows the issue with combining plots -- all combined plots are overwritten with the sum"
   ]
  },
  {
   "cell_type": "code",
   "execution_count": null,
   "id": "7530a20e-a521-4a91-8680-a668c2f28512",
   "metadata": {
    "tags": []
   },
   "outputs": [],
   "source": [
    "bg_Cutflow[\"2mu2e\"].print_table(fraction=True)"
   ]
  },
  {
   "cell_type": "code",
   "execution_count": null,
   "id": "851d13c8-eae0-4af1-a8a6-d4660985fe29",
   "metadata": {
    "tags": []
   },
   "outputs": [],
   "source": [
    "if QCD:\n",
    "    QCD_Cutflow[\"2mu2e\"].print_table(fraction=True)\n",
    "#output['out'][\"DYJetsToLL_M10to50\"][\"cutflow\"][\"4mu\"].print_table(fraction=True)\n"
   ]
  },
  {
   "cell_type": "code",
   "execution_count": null,
   "id": "eefe92ab-0e6f-4855-bfa5-272d9a2c27e2",
   "metadata": {
    "tags": []
   },
   "outputs": [],
   "source": [
    "if bosons:\n",
    "    DiBoson_Cutflow[\"2mu2e\"].print_table(fraction=True)"
   ]
  },
  {
   "cell_type": "raw",
   "id": "b0adda49-23f5-436b-8d36-ed02c0f7d5a8",
   "metadata": {},
   "source": [
    "Cutflow for SIDM samples. A significant number are cut by the >=2 LJ requirement, with very few impacted by the cosmic veto. Note that the 4Mu sample is entirely cut by the 2mu2e requirement, and the 2mu2e sample is almost completely cut by the 4mu requirement."
   ]
  },
  {
   "cell_type": "code",
   "execution_count": null,
   "id": "d9c31011-c74a-45da-80d6-611873a91eff",
   "metadata": {},
   "outputs": [],
   "source": [
    "output['out'][\"2Mu2E_100GeV_1p2GeV_9p6mm\"][\"cutflow\"][\"4mu\"].print_table(fraction=True)\n",
    "print()\n",
    "output['out'][\"2Mu2E_100GeV_1p2GeV_9p6mm\"][\"cutflow\"][\"2mu2e\"].print_table(fraction=True)\n",
    "print()\n",
    "output['out'][\"2Mu2E_100GeV_1p2GeV_9p6mm\"][\"cutflow\"][\"baseNoLj\"].print_table()\n",
    "print()"
   ]
  },
  {
   "cell_type": "code",
   "execution_count": null,
   "id": "3104ea66-581a-4fcd-9d50-579bd00661bc",
   "metadata": {},
   "outputs": [],
   "source": [
    "output['out'][\"4Mu_100GeV_1p2GeV_9p6mm\"][\"cutflow\"][\"4mu\"].print_table(fraction=True)\n",
    "print()\n",
    "output['out'][\"4Mu_100GeV_1p2GeV_9p6mm\"][\"cutflow\"][\"2mu2e\"].print_table(fraction=True)\n",
    "print()"
   ]
  },
  {
   "cell_type": "code",
   "execution_count": null,
   "id": "8892c0f2-ed1c-4cd5-81c8-471787ec7c6c",
   "metadata": {
    "tags": []
   },
   "outputs": [],
   "source": [
    "nrow = 3\n",
    "ncol = 3\n",
    "nplots = nrow*ncol\n",
    "sample_list = [\"DY_Jets\", \"QCD_Jets\"]\n",
    "for sample in samples:\n",
    "    if (sample[0] != 'D') and (sample[0] != 'Q'):\n",
    "        sample_list.append(sample)\n",
    "\n",
    "plt.subplots(nrow, ncol, figsize=(ncol*12, nrow*9))\n",
    "figure_plotted_hists = [[\"lj_n\", True], [\"muon_pt\", True], [\"lj_lj_absdphi\", False]]\n",
    "# each element is [\"Hist_name\", Density]\n",
    "\n",
    "for i in range(len(figure_plotted_hists)):\n",
    "    for j in range(1, ncol+1):\n",
    "        plt.subplot(nrow, ncol, j+i*ncol)\n",
    "        \n",
    "        utilities.plot(DY_Hists[figure_plotted_hists[i][0]][channels[j-1], :], yerr=False, density=figure_plotted_hists[i][1])\n",
    "        utilities.plot(QCD_Hists[figure_plotted_hists[i][0]][channels[j-1], :], yerr=False, density=figure_plotted_hists[i][1])\n",
    "\n",
    "        for sample in sample_list:\n",
    "            if sample[0] != 'D' and sample[0] != 'Q':\n",
    "                utilities.plot(out[sample][\"hists\"][figure_plotted_hists[i][0]][channels[j-1], :], yerr=False, density=figure_plotted_hists[i][1])\n",
    "\n",
    "        plt.ylabel(\"Arbitrary units\")\n",
    "        plt.legend(sample_list, loc=1, prop={'size': 16})\n",
    "        plt.title(channels[j-1] + ' ' + figure_plotted_hists[i][0])"
   ]
  },
  {
   "cell_type": "code",
   "execution_count": null,
   "id": "67b2b7b7-5ac6-4cc2-9888-8b99d914a472",
   "metadata": {},
   "outputs": [],
   "source": [
    "plotSamples([\"muon_pt\"], \"baseNoLj\", False, True)"
   ]
  },
  {
   "cell_type": "markdown",
   "id": "aa44078e-9e0e-40ec-8497-a54c46e836fe",
   "metadata": {},
   "source": [
    "From the muon_pt plots, it's clear that many of the background types do not have enough data to support useful histograms. Even in the baseNoLj channel, WW and ZZ especially have few samples. One of the ZZ bins is negative and the overall shape follows a trend, but is small enough that some bins are nearly empty. Furthermore, it is clear from a first glance what QCD bin was excluded (30-50). This needs to be fixed to smooth out the plot."
   ]
  },
  {
   "cell_type": "code",
   "execution_count": null,
   "id": "917c5a4f-1756-4a7a-8cd6-4203195db7af",
   "metadata": {
    "tags": []
   },
   "outputs": [],
   "source": [
    "utilities.plot(DiBoson_Hists[\"muon_pt\"][\"baseNoLj\", :200j], yerr=False, density=True)"
   ]
  },
  {
   "cell_type": "code",
   "execution_count": null,
   "id": "bbdb8cc4-8f8a-4e88-87b8-19237b1c6f18",
   "metadata": {
    "tags": []
   },
   "outputs": [],
   "source": [
    "print(sample_list)\n",
    "\n",
    "plotSamples([\"lj0_pt\"], \"baseNoLj\", False, True)"
   ]
  },
  {
   "cell_type": "code",
   "execution_count": null,
   "id": "499d303b-8d35-4550-ac35-1406089491cb",
   "metadata": {
    "tags": []
   },
   "outputs": [],
   "source": [
    "print(sample_list)\n",
    "\n",
    "plotSamples([\"lj_lj_invmass\", \"lj_pt\"], \"baseNoLj\", False, True)"
   ]
  },
  {
   "cell_type": "code",
   "execution_count": null,
   "id": "9ab973ef-6038-4466-996e-d0bcf30abe4d",
   "metadata": {
    "tags": []
   },
   "outputs": [],
   "source": [
    "plotSamples([\"lj_lj_absdphi\"], \"baseNoLj\", False, True)"
   ]
  },
  {
   "cell_type": "code",
   "execution_count": null,
   "id": "91ef7a8c-8b1d-4484-9655-befb02b18679",
   "metadata": {
    "tags": []
   },
   "outputs": [],
   "source": [
    "utilities.plot(QCD_Hists[\"muon_pt\"][\"2mu2e\", :], yerr=False, density=False)"
   ]
  },
  {
   "cell_type": "code",
   "execution_count": null,
   "id": "7676e85f-c43d-4a00-8e9c-00d871fd5535",
   "metadata": {},
   "outputs": [],
   "source": [
    "nrow = 2\n",
    "ncol = 3\n",
    "nplots = nrow*ncol\n",
    "\n",
    "plt.subplots(nrow, ncol, figsize=(ncol*12, nrow*9))\n",
    "\n",
    "for i in range(1, ncol+1):\n",
    "    plt.subplot(nrow, ncol, i)\n",
    "    for sample in samples:\n",
    "        utilities.plot(out[sample][\"hists\"][\"lj0_dRSpread\"][channels[i-1], :.02j], yerr=False, density=False, flow='none')\n",
    "    # plt.legend(masses, title=\"DM bound state mass\", alignment=\"left\")\n",
    "    plt.ylabel(\"Arbitrary units\")\n",
    "    plt.legend(samples, loc=1, prop={'size': 16})\n",
    "    plt.title(\"Leading LJ \" + channels[i-1])\n",
    "    \n",
    "for i in range(1, ncol+1):\n",
    "    plt.subplot(nrow, ncol, i+ncol)\n",
    "    for sample in samples:\n",
    "        utilities.plot(out[sample][\"hists\"][\"lj1_dRSpread\"][channels[i-1], :.02j], yerr=False, density=False, flow='none')\n",
    "    # plt.legend(masses, title=\"DM bound state mass\", alignment=\"left\")\n",
    "    plt.ylabel(\"Arbitrary units\")\n",
    "    plt.legend(samples, loc=1, prop={'size': 16})\n",
    "    plt.title(\"Subleading LJ \" + channels[i-1])"
   ]
  },
  {
   "cell_type": "code",
   "execution_count": null,
   "id": "956eb2ec-98b6-452d-9f47-5ff1ffb43b98",
   "metadata": {
    "tags": []
   },
   "outputs": [],
   "source": [
    "if 0:\n",
    "    nplots = 2\n",
    "    plt.subplots(1, nplots, figsize=(nplots*12, 10))\n",
    "    plt.subplot(1, nplots, 1)\n",
    "    for sample in samples:\n",
    "        utilities.plot(out[sample][\"hists\"][\"muon_n\"][channels[2], :], density=True)\n",
    "        # plt.legend(masses, title=\"DM bound state mass\", alignment=\"left\")\n",
    "        plt.ylabel(\"Arbitrary units\")\n",
    "    plt.subplot(1, nplots, 2)\n",
    "    for sample in samples:\n",
    "        utilities.plot(out[sample][\"hists\"][\"electron_n\"][channels[2], :], density=True)\n",
    "        #plt.legend(masses, title=\"DM bound state mass\", alignment=\"left\")\n",
    "        plt.ylabel(\"Arbitrary units\")"
   ]
  },
  {
   "cell_type": "code",
   "execution_count": null,
   "id": "42fd953e-6d01-4b56-9978-a0c3365bf41a",
   "metadata": {
    "tags": []
   },
   "outputs": [],
   "source": [
    "samples_used = []\n",
    "cutflows_used = []\n",
    "\n",
    "if TotalBackground == True:\n",
    "    samples_used.append(\"Background\")\n",
    "    init_cutflow = bg_Cutflow[\"4mu\"]\n",
    "else:\n",
    "    init_sample = samples[0]\n",
    "    init_cutflow = out[init_sample][\"cutflow\"][\"4mu\"]\n",
    "    \n",
    "for sample in samples:\n",
    "    if sample[0] == '2' or sample[0] == '4':\n",
    "        samples_used.append(sample)\n",
    "        cutflows_used.append(out[sample][\"cutflow\"][\"4mu\"])\n",
    "if samples_used[0][0] == 2 or samples_used == 4:\n",
    "    cutflows_used.remove(out[init_sample][\"cutflow\"][\"4mu\"])\n",
    "\n",
    "init_cutflow.print_multi_table(cutflows_used, samples_used, True)"
   ]
  },
  {
   "cell_type": "code",
   "execution_count": null,
   "id": "43ffd213-815a-4ce9-8534-88262fe7d28e",
   "metadata": {
    "tags": []
   },
   "outputs": [],
   "source": [
    "sample_used = \"4Mu_100GeV_1p2GeV_9p6mm\"\n",
    "cut_samples = [\n",
    "    \"4Mu_1000GeV_0p25GeV_0p02mm\",\n",
    "    \"4Mu_100GeV_5GeV_0p4mm\"\n",
    "]\n",
    "headers = [sample_used]\n",
    "cut_used = out[sample_used][\"cutflow\"][\"baseNoLj\"]\n",
    "cutflow_list = []\n",
    "for sample in cut_samples:\n",
    "    cutflow_list.append(out[sample][\"cutflow\"][\"baseNoLj\"])\n",
    "    headers.append(sample)\n",
    "    \n",
    "    \n",
    "cut_used.print_multi_table(cutflow_list, headers, False, False, \"Cuts in SIDM samples\")\n",
    "\n",
    "cut_used.print_multi_table(cutflow_list, headers, True, False, \"Fractional SIDM cuts\")"
   ]
  },
  {
   "cell_type": "code",
   "execution_count": null,
   "id": "3cbe5817-d1ed-4c89-905f-0eef5e4a073b",
   "metadata": {},
   "outputs": [],
   "source": [
    "cutflows_used = []\n",
    "if TotalBackground == False:\n",
    "    cutflows_used.append(QCD_Cutflow[\"2mu2e\"])\n",
    "    cutflows_used.append(DiBoson_Cutflow[\"2mu2e\"])\n",
    "    cutflows_used.append(TT_Cutflow[\"2mu2e\"])\n",
    "    cutflows_used.append(DY_Cutflow[\"4mu\"])\n",
    "    cutflows_used.append(QCD_Cutflow[\"4mu\"])\n",
    "    cutflows_used.append(DiBoson_Cutflow[\"4mu\"])\n",
    "    cutflows_used.append(TT_Cutflow[\"4mu\"])\n",
    "init_cutflow = DY_Cutflow[\"2mu2e\"]\n",
    "headers = [\n",
    "        \"Drell-Yan 2mu2e\", \"QCD 2mu2e\", \"Dibosons 2mu2e\", \"TTbar 2mu2e\", \"Drell-Yan 4mu\", \"QCD 4mu\", \"Dibosons 4mu\", \"TTbar 4mu\"\n",
    "]\n",
    "init_cutflow.print_multi_table(cutflows_used, headers, False, False)\n",
    "init_cutflow.print_multi_table(cutflows_used, headers, True, False)"
   ]
  },
  {
   "cell_type": "code",
   "execution_count": 15,
   "id": "ac85c0e5-6032-4233-8f3c-34fac4684a5e",
   "metadata": {
    "tags": []
   },
   "outputs": [
    {
     "name": "stdout",
     "output_type": "stream",
     "text": [
      "cut name        individual cut N    all cut N\n",
      "------------  ------------------  -----------\n",
      "No selection            914834.0     914834.0\n",
      "PV filter               914834.0     914834.0\n",
      "Cosmic veto             914579.0     914579.0\n"
     ]
    }
   ],
   "source": [
    "bg_Cutflow[\"baseNoLj\"].print_table(fraction=False)"
   ]
  },
  {
   "cell_type": "code",
   "execution_count": null,
   "id": "24701185-f28a-4065-8d01-9459e4fd3f25",
   "metadata": {},
   "outputs": [],
   "source": []
  }
 ],
 "metadata": {
  "kernelspec": {
   "display_name": "Python 3 (ipykernel)",
   "language": "python",
   "name": "python3"
  },
  "language_info": {
   "codemirror_mode": {
    "name": "ipython",
    "version": 3
   },
   "file_extension": ".py",
   "mimetype": "text/x-python",
   "name": "python",
   "nbconvert_exporter": "python",
   "pygments_lexer": "ipython3",
   "version": "3.9.18"
  }
 },
 "nbformat": 4,
 "nbformat_minor": 5
}
