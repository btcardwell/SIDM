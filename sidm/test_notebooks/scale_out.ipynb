{
 "cells": [
  {
   "cell_type": "code",
   "execution_count": 1,
   "id": "570b7671-e4bf-4e86-9466-988a3d473645",
   "metadata": {
    "tags": []
   },
   "outputs": [
    {
     "data": {
      "text/plain": [
       "<module 'sidm.tools.sidm_processor' from '/home/cms-jovyan/SIDM/sidm/test_notebooks/../../sidm/tools/sidm_processor.py'>"
      ]
     },
     "execution_count": 1,
     "metadata": {},
     "output_type": "execute_result"
    }
   ],
   "source": [
    "# python\n",
    "import sys\n",
    "import os\n",
    "import importlib\n",
    "# columnar analysis\n",
    "from coffea import processor\n",
    "import awkward as ak\n",
    "from dask.distributed import Client\n",
    "#plotting\n",
    "import matplotlib.pyplot as plt\n",
    "# local\n",
    "sys.path.insert(1, os.path.join(sys.path[0], '../..')) # fixme: there must be a better way to handle this...\n",
    "from sidm.tools import ffschema, sidm_processor, scaleout\n",
    "# always reload local modules to pick up changes during development\n",
    "importlib.reload(ffschema)\n",
    "importlib.reload(sidm_processor)"
   ]
  },
  {
   "cell_type": "code",
   "execution_count": 2,
   "id": "e003478b-0734-48d7-aed3-66a7501c27c0",
   "metadata": {
    "tags": []
   },
   "outputs": [
    {
     "name": "stderr",
     "output_type": "stream",
     "text": [
      "/home/cms-jovyan/SIDM/sidm/test_notebooks/../../sidm/tools/scaleout.py:12: UserWarning: Registering a `SchedulerPlugin` as a worker plugin is not allowed, registering as a scheduler plugin instead. To register as a worker plugin, inherit from `WorkerPlugin`.\n",
      "  client.register_worker_plugin(PipInstall(packages=dependencies, pip_options=[\"--upgrade\"]))\n"
     ]
    },
    {
     "data": {
      "text/html": [
       "<div>\n",
       "    <div style=\"width: 24px; height: 24px; background-color: #e1e1e1; border: 3px solid #9D9D9D; border-radius: 5px; position: absolute;\"> </div>\n",
       "    <div style=\"margin-left: 48px;\">\n",
       "        <h3 style=\"margin-bottom: 0px;\">Client</h3>\n",
       "        <p style=\"color: #9D9D9D; margin-bottom: 0px;\">Client-a48100df-e7a9-11ee-9b76-d6c37d496714</p>\n",
       "        <table style=\"width: 100%; text-align: left;\">\n",
       "\n",
       "        <tr>\n",
       "        \n",
       "            <td style=\"text-align: left;\"><strong>Connection method:</strong> Direct</td>\n",
       "            <td style=\"text-align: left;\"></td>\n",
       "        \n",
       "        </tr>\n",
       "\n",
       "        \n",
       "            <tr>\n",
       "                <td style=\"text-align: left;\">\n",
       "                    <strong>Dashboard: </strong> <a href=\"/user/yfv2ev@virginia.edu/proxy/8787/status\" target=\"_blank\">/user/yfv2ev@virginia.edu/proxy/8787/status</a>\n",
       "                </td>\n",
       "                <td style=\"text-align: left;\"></td>\n",
       "            </tr>\n",
       "        \n",
       "\n",
       "        </table>\n",
       "\n",
       "        \n",
       "            <button style=\"margin-bottom: 12px;\" data-commandlinker-command=\"dask:populate-and-launch-layout\" data-commandlinker-args='{\"url\": \"/user/yfv2ev@virginia.edu/proxy/8787/status\" }'>\n",
       "                Launch dashboard in JupyterLab\n",
       "            </button>\n",
       "        \n",
       "\n",
       "        \n",
       "            <details>\n",
       "            <summary style=\"margin-bottom: 20px;\"><h3 style=\"display: inline;\">Scheduler Info</h3></summary>\n",
       "            <div style=\"\">\n",
       "    <div>\n",
       "        <div style=\"width: 24px; height: 24px; background-color: #FFF7E5; border: 3px solid #FF6132; border-radius: 5px; position: absolute;\"> </div>\n",
       "        <div style=\"margin-left: 48px;\">\n",
       "            <h3 style=\"margin-bottom: 0px;\">Scheduler</h3>\n",
       "            <p style=\"color: #9D9D9D; margin-bottom: 0px;\">Scheduler-2b15959e-ac6c-4551-afe3-39ad962f601f</p>\n",
       "            <table style=\"width: 100%; text-align: left;\">\n",
       "                <tr>\n",
       "                    <td style=\"text-align: left;\">\n",
       "                        <strong>Comm:</strong> tls://192.168.55.105:8786\n",
       "                    </td>\n",
       "                    <td style=\"text-align: left;\">\n",
       "                        <strong>Workers:</strong> 0\n",
       "                    </td>\n",
       "                </tr>\n",
       "                <tr>\n",
       "                    <td style=\"text-align: left;\">\n",
       "                        <strong>Dashboard:</strong> <a href=\"/user/yfv2ev@virginia.edu/proxy/8787/status\" target=\"_blank\">/user/yfv2ev@virginia.edu/proxy/8787/status</a>\n",
       "                    </td>\n",
       "                    <td style=\"text-align: left;\">\n",
       "                        <strong>Total threads:</strong> 0\n",
       "                    </td>\n",
       "                </tr>\n",
       "                <tr>\n",
       "                    <td style=\"text-align: left;\">\n",
       "                        <strong>Started:</strong> 17 minutes ago\n",
       "                    </td>\n",
       "                    <td style=\"text-align: left;\">\n",
       "                        <strong>Total memory:</strong> 0 B\n",
       "                    </td>\n",
       "                </tr>\n",
       "            </table>\n",
       "        </div>\n",
       "    </div>\n",
       "\n",
       "    <details style=\"margin-left: 48px;\">\n",
       "        <summary style=\"margin-bottom: 20px;\">\n",
       "            <h3 style=\"display: inline;\">Workers</h3>\n",
       "        </summary>\n",
       "\n",
       "        \n",
       "\n",
       "    </details>\n",
       "</div>\n",
       "            </details>\n",
       "        \n",
       "\n",
       "    </div>\n",
       "</div>"
      ],
      "text/plain": [
       "<Client: 'tls://192.168.55.105:8786' processes=0 threads=0, memory=0 B>"
      ]
     },
     "execution_count": 2,
     "metadata": {},
     "output_type": "execute_result"
    }
   ],
   "source": [
    "client = scaleout.make_dask_client(\"tls://localhost:8786\")\n",
    "client"
   ]
  },
  {
   "cell_type": "code",
   "execution_count": 3,
   "id": "d7b4523a-31ff-4529-b656-2548c8d8692a",
   "metadata": {},
   "outputs": [
    {
     "name": "stdout",
     "output_type": "stream",
     "text": [
      "<sidm.tools.sidm_processor.SidmProcessor object at 0x7fd22c289c70>\n",
      "[                                        ] | 0% Completed |  0.0s"
     ]
    },
    {
     "name": "stderr",
     "output_type": "stream",
     "text": [
      "/opt/conda/lib/python3.9/site-packages/dask/dataframe/_pyarrow_compat.py:17: FutureWarning: Minimal version of pyarrow will soon be increased to 14.0.1. You are using 12.0.0. Please consider upgrading.\n",
      "  warnings.warn(\n"
     ]
    },
    {
     "name": "stdout",
     "output_type": "stream",
     "text": [
      "[########################################] | 100% Completed | 55.1s\u001b[2K\u001b[2K\r"
     ]
    }
   ],
   "source": [
    "fileset = {\n",
    "    \"2Mu2E_100GeV_1p2GeV_9p6mm\": [\n",
    "        \"root://xcache//store/group/lpcmetx/SIDM/ffNtupleV4/2018/SIDM_XXTo2ATo2Mu2E_mXX-100_mA-1p2_ctau-9p6_TuneCP5_13TeV-madgraph-pythia8/RunIIAutumn18DRPremix-102X_upgrade2018_realistic_v15-v1/210326_161703/0000/ffNtuple_1.root\",\n",
    "        \"root://xcache//store/group/lpcmetx/SIDM/ffNtupleV4/2018/SIDM_XXTo2ATo2Mu2E_mXX-100_mA-1p2_ctau-9p6_TuneCP5_13TeV-madgraph-pythia8/RunIIAutumn18DRPremix-102X_upgrade2018_realistic_v15-v1/210326_161703/0000/ffNtuple_2.root\",\n",
    "    ],\n",
    "    \"2Mu2E_100GeV_1p2GeV_0p096mm\": [\n",
    "        \"root://xcache//store/group/lpcmetx/SIDM/ffNtupleV4/2018/SIDM_XXTo2ATo2Mu2E_mXX-100_mA-1p2_ctau-0p096_TuneCP5_13TeV-madgraph-pythia8/RunIIAutumn18DRPremix-102X_upgrade2018_realistic_v15-v1/210326_155855/0000/ffNtuple_1.root\",\n",
    "        \"root://xcache//store/group/lpcmetx/SIDM/ffNtupleV4/2018/SIDM_XXTo2ATo2Mu2E_mXX-100_mA-1p2_ctau-0p096_TuneCP5_13TeV-madgraph-pythia8/RunIIAutumn18DRPremix-102X_upgrade2018_realistic_v15-v1/210326_155855/0000/ffNtuple_2.root\",\n",
    "    ],\n",
    "}\n",
    "\n",
    "runner = processor.Runner(\n",
    "    #executor=processor.IterativeExecutor(),\n",
    "    #executor=processor.FuturesExecutor(),\n",
    "    executor=processor.DaskExecutor(client=client),\n",
    "    schema=ffschema.FFSchema,\n",
    ")\n",
    "\n",
    "p = sidm_processor.SidmProcessor(\n",
    "    [\n",
    "        \"2mu2e\",\n",
    "    ],\n",
    "    [\"base\"]\n",
    ")\n",
    "\n",
    "# test if processor is serializable\n",
    "import coffea.util as coffea_util\n",
    "coffea_util.save(p, \"processor.coffea\")\n",
    "print(coffea_util.load(\"processor.coffea\"))\n",
    "\n",
    "output = runner.run(fileset, treename=\"ffNtuplizer/ffNtuple\", processor_instance=p)"
   ]
  },
  {
   "cell_type": "code",
   "execution_count": 4,
   "id": "3ee9a6dc-bd00-4917-a95b-94df87f35415",
   "metadata": {},
   "outputs": [
    {
     "name": "stdout",
     "output_type": "stream",
     "text": [
      "{'2mu2e': <sidm.tools.cutflow.Cutflow object at 0x7fce3432acd0>}\n"
     ]
    }
   ],
   "source": [
    "out = output[\"out\"]\n",
    "print(out['2Mu2E_100GeV_1p2GeV_9p6mm']['cutflow'])"
   ]
  },
  {
   "cell_type": "code",
   "execution_count": 5,
   "id": "9ea2d681-fa02-47aa-aed9-a550976affe1",
   "metadata": {},
   "outputs": [],
   "source": [
    "# test that ouput is accumulatable\n",
    "from coffea.processor import accumulate\n",
    "double_out = accumulate([output[\"out\"], output[\"out\"]])"
   ]
  },
  {
   "cell_type": "code",
   "execution_count": 6,
   "id": "06240c1a-d4cd-408a-b558-24048c828aa1",
   "metadata": {},
   "outputs": [
    {
     "name": "stdout",
     "output_type": "stream",
     "text": [
      "cut name        individual cut N    all cut N\n",
      "------------  ------------------  -----------\n",
      "No selection             17402.5      17402.5\n",
      "PV filter                17402.5      17402.5\n",
      "Cosmic veto              17402.5      17402.5\n",
      ">=2 LJs                   2843.2       2843.2\n",
      "2mu2e                     2842.1       2842.1\n",
      "cut name        individual %    marginal %    cumulative %\n",
      "------------  --------------  ------------  --------------\n",
      "No selection           100.0         100.0           100.0\n",
      "PV filter              100.0         100.0           100.0\n",
      "Cosmic veto            100.0         100.0           100.0\n",
      ">=2 LJs                 16.3          16.3            16.3\n",
      "2mu2e                   16.3         100.0            16.3\n"
     ]
    }
   ],
   "source": [
    "out[\"2Mu2E_100GeV_1p2GeV_9p6mm\"][\"cutflow\"][\"2mu2e\"].print_table()\n",
    "out[\"2Mu2E_100GeV_1p2GeV_9p6mm\"][\"cutflow\"][\"2mu2e\"].print_table(fraction=True)"
   ]
  },
  {
   "cell_type": "code",
   "execution_count": 7,
   "id": "46d5875d-9584-46af-b2f6-2196adc15e8d",
   "metadata": {},
   "outputs": [
    {
     "name": "stdout",
     "output_type": "stream",
     "text": [
      "cut name        individual cut N    all cut N\n",
      "------------  ------------------  -----------\n",
      "No selection             34804.9      34804.9\n",
      "PV filter                34804.9      34804.9\n",
      "Cosmic veto              34804.9      34804.9\n",
      ">=2 LJs                   5686.5       5686.5\n",
      "2mu2e                     5684.3       5684.3\n",
      "cut name        individual %    marginal %    cumulative %\n",
      "------------  --------------  ------------  --------------\n",
      "No selection           100.0         100.0           100.0\n",
      "PV filter              100.0         100.0           100.0\n",
      "Cosmic veto            100.0         100.0           100.0\n",
      ">=2 LJs                 16.3          16.3            16.3\n",
      "2mu2e                   16.3         100.0            16.3\n"
     ]
    }
   ],
   "source": [
    "double_out[\"2Mu2E_100GeV_1p2GeV_9p6mm\"][\"cutflow\"][\"2mu2e\"].print_table()\n",
    "double_out[\"2Mu2E_100GeV_1p2GeV_9p6mm\"][\"cutflow\"][\"2mu2e\"].print_table(fraction=True)"
   ]
  },
  {
   "cell_type": "code",
   "execution_count": null,
   "id": "f3a95228-ded2-438b-b15f-3d685c85be08",
   "metadata": {},
   "outputs": [],
   "source": []
  }
 ],
 "metadata": {
  "kernelspec": {
   "display_name": "Python 3 (ipykernel)",
   "language": "python",
   "name": "python3"
  },
  "language_info": {
   "codemirror_mode": {
    "name": "ipython",
    "version": 3
   },
   "file_extension": ".py",
   "mimetype": "text/x-python",
   "name": "python",
   "nbconvert_exporter": "python",
   "pygments_lexer": "ipython3",
   "version": "3.9.18"
  }
 },
 "nbformat": 4,
 "nbformat_minor": 5
}
