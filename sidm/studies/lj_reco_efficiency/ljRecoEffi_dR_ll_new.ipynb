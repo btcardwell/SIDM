{
 "cells": [
  {
   "cell_type": "markdown",
   "id": "0c25af6d-7a93-4ba3-a4b1-8291d2e545f7",
   "metadata": {},
   "source": [
    "Notebook to study the lepton jet reconstruction efficiency w.r.t the $\\Delta$R between lepton pairs. Dark matter bound state mass 100 GeV and 200 GeV, avg Lxy at .3 and 300cm. I am considering all three dark photon masses."
   ]
  },
  {
   "cell_type": "code",
   "execution_count": 1,
   "id": "caddc713-37be-4420-8d24-63df62967c7a",
   "metadata": {
    "tags": []
   },
   "outputs": [],
   "source": [
    "# python\n",
    "import sys\n",
    "import os\n",
    "import importlib\n",
    "from coffea import processor\n",
    "# columnar analysis\n",
    "from coffea.nanoevents import NanoEventsFactory\n",
    "import awkward as ak   #numpy like module for handling arrays\n",
    "\n",
    "# local\n",
    "sys.path.insert(1, os.path.join(sys.path[0], '../../..')) # fixme: there must be a better way to handle this...\n",
    "from sidm.tools import ffschema, sidm_processor, utilities, scaleout\n",
    "# always reload local modules to pick up changes during development\n",
    "importlib.reload(ffschema)  #why do we need this?\n",
    "importlib.reload(sidm_processor) \n",
    "importlib.reload(utilities)\n",
    "# plotting\n",
    "import matplotlib.pyplot as plt\n",
    "import mplhep as hep\n",
    "import numpy as np\n",
    "import hist\n",
    "utilities.set_plot_style()\n",
    "%matplotlib inline"
   ]
  },
  {
   "cell_type": "code",
   "execution_count": 2,
   "id": "02bc8cb1-bebc-45d5-a6b1-ad1034185f30",
   "metadata": {
    "tags": []
   },
   "outputs": [],
   "source": [
    "samples = [\n",
    "    \"2Mu2E_100GeV_5GeV_400mm\",\n",
    "    \"2Mu2E_100GeV_5GeV_0p4mm\",\n",
    "    #\"2Mu2E_150GeV_5GeV_2p7mm\",\n",
    "    \"2Mu2E_200GeV_0p25GeV_10mm\",\n",
    "     \"2Mu2E_200GeV_5GeV_200mm\",\n",
    "      \"2Mu2E_200GeV_1p2GeV_48mm\",\n",
    "    #\"2Mu2E_500GeV_5GeV_80mm\",\n",
    "    #\"2Mu2E_800GeV_5GeV_0p5mm\",\n",
    "    #\"2Mu2E_1000GeV_5GeV_0p4mm\",\n",
    "    #\"2Mu2E_1000GeV_5GeV_0p04mm\",\n",
    "    #\"2Mu2E_1000GeV_5GeV_20mm\",\n",
    "    #\"2Mu2E_100GeV_1p2GeV_9p6mm\",\n",
    "    #\"2Mu2E_1000GeV_5GeV_40mm\",\n",
    "    #\"2Mu2E_100GeV_p25GeV_400mm\",\n",
    "   # \"2Mu2E_1000GeV_5GeV_4mm\",\n",
    "    \n",
    "]\n",
    "fileset = utilities.make_fileset(samples, \"ffntuple_v4\")"
   ]
  },
  {
   "cell_type": "code",
   "execution_count": 3,
   "id": "bb80dd4f-9b3e-4191-b617-63e672aacb74",
   "metadata": {
    "tags": []
   },
   "outputs": [
    {
     "data": {
      "application/vnd.jupyter.widget-view+json": {
       "model_id": "2d0579cfd8694e269824b26f37a00cc6",
       "version_major": 2,
       "version_minor": 0
      },
      "text/plain": [
       "Output()"
      ]
     },
     "metadata": {},
     "output_type": "display_data"
    },
    {
     "data": {
      "text/html": [
       "<pre style=\"white-space:pre;overflow-x:auto;line-height:normal;font-family:Menlo,'DejaVu Sans Mono',consolas,'Courier New',monospace\"></pre>\n"
      ],
      "text/plain": []
     },
     "metadata": {},
     "output_type": "display_data"
    },
    {
     "data": {
      "text/html": [
       "<pre style=\"white-space:pre;overflow-x:auto;line-height:normal;font-family:Menlo,'DejaVu Sans Mono',consolas,'Courier New',monospace\">\n",
       "</pre>\n"
      ],
      "text/plain": [
       "\n"
      ]
     },
     "metadata": {},
     "output_type": "display_data"
    },
    {
     "data": {
      "application/vnd.jupyter.widget-view+json": {
       "model_id": "3578db3e55084e938eb03b492dd4d9b5",
       "version_major": 2,
       "version_minor": 0
      },
      "text/plain": [
       "Output()"
      ]
     },
     "metadata": {},
     "output_type": "display_data"
    },
    {
     "data": {
      "text/html": [
       "<pre style=\"white-space:pre;overflow-x:auto;line-height:normal;font-family:Menlo,'DejaVu Sans Mono',consolas,'Courier New',monospace\"></pre>\n"
      ],
      "text/plain": []
     },
     "metadata": {},
     "output_type": "display_data"
    },
    {
     "data": {
      "text/html": [
       "<pre style=\"white-space:pre;overflow-x:auto;line-height:normal;font-family:Menlo,'DejaVu Sans Mono',consolas,'Courier New',monospace\">\n",
       "</pre>\n"
      ],
      "text/plain": [
       "\n"
      ]
     },
     "metadata": {},
     "output_type": "display_data"
    },
    {
     "name": "stderr",
     "output_type": "stream",
     "text": [
      "concurrent.futures.process._RemoteTraceback: \n",
      "\"\"\"\n",
      "Traceback (most recent call last):\n",
      "  File \"/opt/conda/lib/python3.9/site-packages/coffea/processor/executor.py\", line 1654, in _work_function\n",
      "    out = processor_instance.process(events)\n",
      "  File \"/home/cms-jovyan/SIDM/sidm/studies/lj_reco_efficiency/../../../sidm/tools/sidm_processor.py\", line 63, in process\n",
      "    hists = self.build_histograms()\n",
      "  File \"/home/cms-jovyan/SIDM/sidm/studies/lj_reco_efficiency/../../../sidm/tools/sidm_processor.py\", line 309, in build_histograms\n",
      "    hists[hist_name] = copy.deepcopy(hist_defs[hist_name])\n",
      "KeyError: 'genE_genE_dR_XLowRange'\n",
      "\n",
      "The above exception was the direct cause of the following exception:\n",
      "\n",
      "Traceback (most recent call last):\n",
      "  File \"/opt/conda/lib/python3.9/concurrent/futures/process.py\", line 246, in _process_worker\n",
      "    r = call_item.fn(*call_item.args, **call_item.kwargs)\n",
      "  File \"/opt/conda/lib/python3.9/site-packages/coffea/processor/executor.py\", line 221, in __call__\n",
      "    out = self.function(*args, **kwargs)\n",
      "  File \"/opt/conda/lib/python3.9/site-packages/coffea/processor/executor.py\", line 1367, in automatic_retries\n",
      "    raise e\n",
      "  File \"/opt/conda/lib/python3.9/site-packages/coffea/processor/executor.py\", line 1336, in automatic_retries\n",
      "    return func(*args, **kwargs)\n",
      "  File \"/opt/conda/lib/python3.9/site-packages/coffea/processor/executor.py\", line 1656, in _work_function\n",
      "    raise Exception(f\"Failed processing file: {item!r}\") from e\n",
      "Exception: Failed processing file: WorkItem(dataset='2Mu2E_200GeV_1p2GeV_48mm', filename='root://xcache//store/group/lpcmetx/SIDM/ffNtupleV4/2018/SIDM_XXTo2ATo2Mu2E_mXX-200_mA-1p2_ctau-48_TuneCP5_13TeV-madgraph-pythia8/RunIIAutumn18DRPremix-102X_upgrade2018_realistic_v15-v1/210326_162640/0000/ffNtuple_6.root', treename='ffNtuplizer/ffNtuple', entrystart=0, entrystop=16801, fileuuid=b'\\x8e\\xc2\\xea\\xa0\\x8e\\x8e\\x11\\xeb\\x89\\xd8\\x96\\n\\x03\\n\\xbe\\xef', usermeta={})\n",
      "\"\"\"\n",
      "\n",
      "The above exception was the direct cause of the following exception:\n",
      "\n",
      "Traceback (most recent call last):\n",
      "  File \"/opt/conda/lib/python3.9/site-packages/coffea/processor/executor.py\", line 786, in _processwith\n",
      "    merged = _watcher(FH, self, reducer, pool)\n",
      "  File \"/opt/conda/lib/python3.9/site-packages/coffea/processor/executor.py\", line 402, in _watcher\n",
      "    batch = FH.fetch(len(FH.completed))\n",
      "  File \"/opt/conda/lib/python3.9/site-packages/coffea/processor/executor.py\", line 286, in fetch\n",
      "    raise bad_futures[0].exception()\n",
      "Exception: Failed processing file: WorkItem(dataset='2Mu2E_200GeV_1p2GeV_48mm', filename='root://xcache//store/group/lpcmetx/SIDM/ffNtupleV4/2018/SIDM_XXTo2ATo2Mu2E_mXX-200_mA-1p2_ctau-48_TuneCP5_13TeV-madgraph-pythia8/RunIIAutumn18DRPremix-102X_upgrade2018_realistic_v15-v1/210326_162640/0000/ffNtuple_6.root', treename='ffNtuplizer/ffNtuple', entrystart=0, entrystop=16801, fileuuid=b'\\x8e\\xc2\\xea\\xa0\\x8e\\x8e\\x11\\xeb\\x89\\xd8\\x96\\n\\x03\\n\\xbe\\xef', usermeta={})\n"
     ]
    },
    {
     "ename": "Exception",
     "evalue": "Failed processing file: WorkItem(dataset='2Mu2E_200GeV_1p2GeV_48mm', filename='root://xcache//store/group/lpcmetx/SIDM/ffNtupleV4/2018/SIDM_XXTo2ATo2Mu2E_mXX-200_mA-1p2_ctau-48_TuneCP5_13TeV-madgraph-pythia8/RunIIAutumn18DRPremix-102X_upgrade2018_realistic_v15-v1/210326_162640/0000/ffNtuple_6.root', treename='ffNtuplizer/ffNtuple', entrystart=0, entrystop=16801, fileuuid=b'\\x8e\\xc2\\xea\\xa0\\x8e\\x8e\\x11\\xeb\\x89\\xd8\\x96\\n\\x03\\n\\xbe\\xef', usermeta={})",
     "output_type": "error",
     "traceback": [
      "\u001b[0;31m---------------------------------------------------------------------------\u001b[0m",
      "\u001b[0;31mException\u001b[0m                                 Traceback (most recent call last)",
      "Cell \u001b[0;32mIn[3], line 26\u001b[0m\n\u001b[1;32m      1\u001b[0m runner \u001b[38;5;241m=\u001b[39m processor\u001b[38;5;241m.\u001b[39mRunner(\n\u001b[1;32m      2\u001b[0m     \u001b[38;5;66;03m#executor=processor.IterativeExecutor(),\u001b[39;00m\n\u001b[1;32m      3\u001b[0m     executor\u001b[38;5;241m=\u001b[39mprocessor\u001b[38;5;241m.\u001b[39mFuturesExecutor(),\n\u001b[1;32m      4\u001b[0m     schema\u001b[38;5;241m=\u001b[39mffschema\u001b[38;5;241m.\u001b[39mFFSchema,\n\u001b[1;32m      5\u001b[0m     \u001b[38;5;66;03m#maxchunks=2,\u001b[39;00m\n\u001b[1;32m      6\u001b[0m     )\n\u001b[1;32m      8\u001b[0m p \u001b[38;5;241m=\u001b[39m sidm_processor\u001b[38;5;241m.\u001b[39mSidmProcessor(\n\u001b[1;32m      9\u001b[0m     [\n\u001b[1;32m     10\u001b[0m         \u001b[38;5;124m\"\u001b[39m\u001b[38;5;124mbaseNoLj\u001b[39m\u001b[38;5;124m\"\u001b[39m,\n\u001b[0;32m   (...)\u001b[0m\n\u001b[1;32m     23\u001b[0m     [\u001b[38;5;124m\"\u001b[39m\u001b[38;5;124mgen_base\u001b[39m\u001b[38;5;124m\"\u001b[39m]\n\u001b[1;32m     24\u001b[0m )\n\u001b[0;32m---> 26\u001b[0m output \u001b[38;5;241m=\u001b[39m \u001b[43mrunner\u001b[49m\u001b[38;5;241;43m.\u001b[39;49m\u001b[43mrun\u001b[49m\u001b[43m(\u001b[49m\u001b[43mfileset\u001b[49m\u001b[43m,\u001b[49m\u001b[43m \u001b[49m\u001b[43mtreename\u001b[49m\u001b[38;5;241;43m=\u001b[39;49m\u001b[38;5;124;43m\"\u001b[39;49m\u001b[38;5;124;43mffNtuplizer/ffNtuple\u001b[39;49m\u001b[38;5;124;43m\"\u001b[39;49m\u001b[43m,\u001b[49m\u001b[43m \u001b[49m\u001b[43mprocessor_instance\u001b[49m\u001b[38;5;241;43m=\u001b[39;49m\u001b[43mp\u001b[49m\u001b[43m)\u001b[49m\n",
      "File \u001b[0;32m/opt/conda/lib/python3.9/site-packages/coffea/processor/executor.py:1848\u001b[0m, in \u001b[0;36mRunner.run\u001b[0;34m(self, fileset, processor_instance, treename)\u001b[0m\n\u001b[1;32m   1843\u001b[0m closure \u001b[38;5;241m=\u001b[39m partial(\n\u001b[1;32m   1844\u001b[0m     \u001b[38;5;28mself\u001b[39m\u001b[38;5;241m.\u001b[39mautomatic_retries, \u001b[38;5;28mself\u001b[39m\u001b[38;5;241m.\u001b[39mretries, \u001b[38;5;28mself\u001b[39m\u001b[38;5;241m.\u001b[39mskipbadfiles, closure\n\u001b[1;32m   1845\u001b[0m )\n\u001b[1;32m   1847\u001b[0m executor \u001b[38;5;241m=\u001b[39m \u001b[38;5;28mself\u001b[39m\u001b[38;5;241m.\u001b[39mexecutor\u001b[38;5;241m.\u001b[39mcopy(\u001b[38;5;241m*\u001b[39m\u001b[38;5;241m*\u001b[39mexe_args)\n\u001b[0;32m-> 1848\u001b[0m wrapped_out, e \u001b[38;5;241m=\u001b[39m \u001b[43mexecutor\u001b[49m\u001b[43m(\u001b[49m\u001b[43mchunks\u001b[49m\u001b[43m,\u001b[49m\u001b[43m \u001b[49m\u001b[43mclosure\u001b[49m\u001b[43m,\u001b[49m\u001b[43m \u001b[49m\u001b[38;5;28;43;01mNone\u001b[39;49;00m\u001b[43m)\u001b[49m\n\u001b[1;32m   1849\u001b[0m \u001b[38;5;28;01mif\u001b[39;00m wrapped_out \u001b[38;5;129;01mis\u001b[39;00m \u001b[38;5;28;01mNone\u001b[39;00m:\n\u001b[1;32m   1850\u001b[0m     \u001b[38;5;28;01mraise\u001b[39;00m \u001b[38;5;167;01mValueError\u001b[39;00m(\n\u001b[1;32m   1851\u001b[0m         \u001b[38;5;124m\"\u001b[39m\u001b[38;5;124mNo chunks returned results, verify ``processor`` instance structure.\u001b[39m\u001b[38;5;130;01m\\n\u001b[39;00m\u001b[38;5;130;01m\\\u001b[39;00m\n\u001b[1;32m   1852\u001b[0m \u001b[38;5;124m        if you used skipbadfiles=True, it is possible all your files are bad.\u001b[39m\u001b[38;5;124m\"\u001b[39m\n\u001b[1;32m   1853\u001b[0m     )\n",
      "File \u001b[0;32m/opt/conda/lib/python3.9/site-packages/coffea/processor/executor.py:817\u001b[0m, in \u001b[0;36mFuturesExecutor.__call__\u001b[0;34m(self, items, function, accumulator)\u001b[0m\n\u001b[1;32m    815\u001b[0m \u001b[38;5;28;01melse\u001b[39;00m:\n\u001b[1;32m    816\u001b[0m     mergepoolinstance \u001b[38;5;241m=\u001b[39m \u001b[38;5;28;01mNone\u001b[39;00m\n\u001b[0;32m--> 817\u001b[0m \u001b[38;5;28;01mreturn\u001b[39;00m \u001b[43m_processwith\u001b[49m\u001b[43m(\u001b[49m\u001b[43mpool\u001b[49m\u001b[38;5;241;43m=\u001b[39;49m\u001b[43mpoolinstance\u001b[49m\u001b[43m,\u001b[49m\u001b[43m \u001b[49m\u001b[43mmergepool\u001b[49m\u001b[38;5;241;43m=\u001b[39;49m\u001b[43mmergepoolinstance\u001b[49m\u001b[43m)\u001b[49m\n",
      "File \u001b[0;32m/opt/conda/lib/python3.9/site-packages/coffea/processor/executor.py:801\u001b[0m, in \u001b[0;36mFuturesExecutor.__call__.<locals>._processwith\u001b[0;34m(pool, mergepool)\u001b[0m\n\u001b[1;32m    799\u001b[0m     \u001b[38;5;28;01mreturn\u001b[39;00m accumulate([_decompress(merged), accumulator]), e\n\u001b[1;32m    800\u001b[0m \u001b[38;5;28;01melse\u001b[39;00m:\n\u001b[0;32m--> 801\u001b[0m     \u001b[38;5;28;01mraise\u001b[39;00m e \u001b[38;5;28;01mfrom\u001b[39;00m \u001b[38;5;28;01mNone\u001b[39;00m\n",
      "File \u001b[0;32m/opt/conda/lib/python3.9/site-packages/coffea/processor/executor.py:786\u001b[0m, in \u001b[0;36mFuturesExecutor.__call__.<locals>._processwith\u001b[0;34m(pool, mergepool)\u001b[0m\n\u001b[1;32m    784\u001b[0m \u001b[38;5;28;01mtry\u001b[39;00m:\n\u001b[1;32m    785\u001b[0m     \u001b[38;5;28;01mif\u001b[39;00m mergepool \u001b[38;5;129;01mis\u001b[39;00m \u001b[38;5;28;01mNone\u001b[39;00m:\n\u001b[0;32m--> 786\u001b[0m         merged \u001b[38;5;241m=\u001b[39m \u001b[43m_watcher\u001b[49m\u001b[43m(\u001b[49m\u001b[43mFH\u001b[49m\u001b[43m,\u001b[49m\u001b[43m \u001b[49m\u001b[38;5;28;43mself\u001b[39;49m\u001b[43m,\u001b[49m\u001b[43m \u001b[49m\u001b[43mreducer\u001b[49m\u001b[43m,\u001b[49m\u001b[43m \u001b[49m\u001b[43mpool\u001b[49m\u001b[43m)\u001b[49m\n\u001b[1;32m    787\u001b[0m     \u001b[38;5;28;01melse\u001b[39;00m:\n\u001b[1;32m    788\u001b[0m         merged \u001b[38;5;241m=\u001b[39m _watcher(FH, \u001b[38;5;28mself\u001b[39m, reducer, mergepool)\n",
      "File \u001b[0;32m/opt/conda/lib/python3.9/site-packages/coffea/processor/executor.py:402\u001b[0m, in \u001b[0;36m_watcher\u001b[0;34m(FH, executor, merge_fcn, pool)\u001b[0m\n\u001b[1;32m    396\u001b[0m             progress\u001b[38;5;241m.\u001b[39mupdate(\n\u001b[1;32m    397\u001b[0m                 p_idm,\n\u001b[1;32m    398\u001b[0m                 total\u001b[38;5;241m=\u001b[39mprogress\u001b[38;5;241m.\u001b[39m_tasks[p_idm]\u001b[38;5;241m.\u001b[39mtotal \u001b[38;5;241m+\u001b[39m \u001b[38;5;241m1\u001b[39m,\n\u001b[1;32m    399\u001b[0m                 refresh\u001b[38;5;241m=\u001b[39m\u001b[38;5;28;01mTrue\u001b[39;00m,\n\u001b[1;32m    400\u001b[0m             )\n\u001b[1;32m    401\u001b[0m     \u001b[38;5;28;01melse\u001b[39;00m:  \u001b[38;5;66;03m# Merge within process\u001b[39;00m\n\u001b[0;32m--> 402\u001b[0m         batch \u001b[38;5;241m=\u001b[39m \u001b[43mFH\u001b[49m\u001b[38;5;241;43m.\u001b[39;49m\u001b[43mfetch\u001b[49m\u001b[43m(\u001b[49m\u001b[38;5;28;43mlen\u001b[39;49m\u001b[43m(\u001b[49m\u001b[43mFH\u001b[49m\u001b[38;5;241;43m.\u001b[39;49m\u001b[43mcompleted\u001b[49m\u001b[43m)\u001b[49m\u001b[43m)\u001b[49m\n\u001b[1;32m    403\u001b[0m         merged \u001b[38;5;241m=\u001b[39m _compress(\n\u001b[1;32m    404\u001b[0m             accumulate(\n\u001b[1;32m    405\u001b[0m                 progress\u001b[38;5;241m.\u001b[39mtrack(\n\u001b[0;32m   (...)\u001b[0m\n\u001b[1;32m    412\u001b[0m             executor\u001b[38;5;241m.\u001b[39mcompression,\n\u001b[1;32m    413\u001b[0m         )\n\u001b[1;32m    414\u001b[0m \u001b[38;5;66;03m# Add checkpointing\u001b[39;00m\n",
      "File \u001b[0;32m/opt/conda/lib/python3.9/site-packages/coffea/processor/executor.py:286\u001b[0m, in \u001b[0;36m_FuturesHolder.fetch\u001b[0;34m(self, N)\u001b[0m\n\u001b[1;32m    284\u001b[0m bad_futures \u001b[38;5;241m=\u001b[39m [future \u001b[38;5;28;01mfor\u001b[39;00m future \u001b[38;5;129;01min\u001b[39;00m _completed \u001b[38;5;28;01mif\u001b[39;00m \u001b[38;5;129;01mnot\u001b[39;00m _good_future(future)]\n\u001b[1;32m    285\u001b[0m \u001b[38;5;28mself\u001b[39m\u001b[38;5;241m.\u001b[39mcompleted\u001b[38;5;241m.\u001b[39mupdate(good_futures)\n\u001b[0;32m--> 286\u001b[0m \u001b[38;5;28;01mraise\u001b[39;00m bad_futures[\u001b[38;5;241m0\u001b[39m]\u001b[38;5;241m.\u001b[39mexception()\n",
      "\u001b[0;31mException\u001b[0m: Failed processing file: WorkItem(dataset='2Mu2E_200GeV_1p2GeV_48mm', filename='root://xcache//store/group/lpcmetx/SIDM/ffNtupleV4/2018/SIDM_XXTo2ATo2Mu2E_mXX-200_mA-1p2_ctau-48_TuneCP5_13TeV-madgraph-pythia8/RunIIAutumn18DRPremix-102X_upgrade2018_realistic_v15-v1/210326_162640/0000/ffNtuple_6.root', treename='ffNtuplizer/ffNtuple', entrystart=0, entrystop=16801, fileuuid=b'\\x8e\\xc2\\xea\\xa0\\x8e\\x8e\\x11\\xeb\\x89\\xd8\\x96\\n\\x03\\n\\xbe\\xef', usermeta={})"
     ]
    }
   ],
   "source": [
    "runner = processor.Runner(\n",
    "    #executor=processor.IterativeExecutor(),\n",
    "    executor=processor.FuturesExecutor(),\n",
    "    schema=ffschema.FFSchema,\n",
    "    #maxchunks=2,\n",
    "    )\n",
    "\n",
    "p = sidm_processor.SidmProcessor(\n",
    "    [\n",
    "        \"baseNoLj\",\n",
    "        \"baseNoLj_A_ee_matched_lj\",\n",
    "        \"baseNoLj_A_mumu_matched_lj\"\n",
    "        #\"baseNoLj_promptA\",\n",
    "        #\"baseNoLj_displacedA\",\n",
    "        #\"baseNoLj_veryDisplacedA\",\n",
    "        #\"baseNoLj_lowLxyA\",\n",
    "        #\"baseNoLj_highPtA\",\n",
    "        #\"baseNoLj_Lxy_upto250A\"\n",
    "        #\"2mu2e\",\n",
    "        \n",
    "        \n",
    "    ],\n",
    "    [\"gen_base\"]\n",
    ")\n",
    "\n",
    "output = runner.run(fileset, treename=\"ffNtuplizer/ffNtuple\", processor_instance=p)"
   ]
  },
  {
   "cell_type": "code",
   "execution_count": null,
   "id": "dceae0ae-4fb9-4881-b04c-651721334662",
   "metadata": {
    "tags": []
   },
   "outputs": [],
   "source": [
    "ch1 = \"baseNoLj\"\n",
    "ch2 = \"baseNoLj_A_ee_matched_lj\"\n",
    "ch3 = \"baseNoLj_A_mumu_matched_lj\""
   ]
  },
  {
   "cell_type": "code",
   "execution_count": null,
   "id": "0d0bb10f-97fa-4d71-ae8c-26efa98f6ceb",
   "metadata": {},
   "outputs": [],
   "source": [
    "plt.figure(figsize=(10,10))\n",
    "output[\"out\"][\"2Mu2E_100GeV_5GeV_0p4mm\"][\"hists\"][\"genE_genE_dR\"][ch2,:].plot_ratio(\n",
    "       output[\"out\"][\"2Mu2E_100GeV_5GeV_0p4mm\"][\"hists\"][\"genE_genE_dR\"][ch1,:], \n",
    "       rp_num_label=r\"$Z_d \\rightarrow ee$ with $e\\gamma$ LJ nearby\",\n",
    "       rp_denom_label=r\"$Z_d \\rightarrow ee $\",\n",
    "       rp_uncert_draw_type=\"line\",\n",
    "       rp_uncertainty_type=\"efficiency\")\n",
    "#plt.title(\"2Mu2E_100GeV_5GeV_4mm\")"
   ]
  },
  {
   "cell_type": "code",
   "execution_count": null,
   "id": "2a6dcec2-74cb-436a-8c6a-08ec1896e9ff",
   "metadata": {},
   "outputs": [],
   "source": [
    "plt.figure(figsize=(10,10))\n",
    "output[\"out\"][\"2Mu2E_100GeV_5GeV_0p4mm\"][\"hists\"][\"genMu_genMu_dR\"][ch3,:].plot_ratio(\n",
    "       output[\"out\"][\"2Mu2E_100GeV_5GeV_0p4mm\"][\"hists\"][\"genMu_genMu_dR\"][ch1,:], \n",
    "       rp_num_label=r\"$Z_d \\rightarrow \\mu\\mu$ with $\\mu$ LJ nearby\",\n",
    "       rp_denom_label=r\"$Z_d \\rightarrow \\mu\\mu $\",\n",
    "       rp_uncert_draw_type=\"line\",\n",
    "       rp_uncertainty_type=\"efficiency\")\n",
    "#plt.title(\"2Mu2E_100GeV_5GeV_4mm\")"
   ]
  },
  {
   "cell_type": "code",
   "execution_count": null,
   "id": "09f5ce2a-af53-4758-a6be-3ad910873230",
   "metadata": {
    "tags": []
   },
   "outputs": [],
   "source": [
    "output[\"out\"][\"2Mu2E_100GeV_5GeV_0p4mm\"][\"hists\"][\"genAs_toMu_pt\"][ch1,:].plot()\n",
    "output[\"out\"][\"2Mu2E_100GeV_5GeV_0p4mm\"][\"hists\"][\"genAs_toMu_pt\"][ch3,:].plot()\n",
    "output[\"out\"][\"2Mu2E_100GeV_5GeV_0p4mm\"][\"hists\"][\"genA_toMu_matched_muLj_pt\"][ch1,:].plot()"
   ]
  },
  {
   "cell_type": "code",
   "execution_count": null,
   "id": "d3abf73f-855b-4966-872b-e9507e48720a",
   "metadata": {
    "tags": []
   },
   "outputs": [],
   "source": [
    "plt.figure(figsize=(10,10))\n",
    "output[\"out\"][\"2Mu2E_100GeV_5GeV_400mm\"][\"hists\"][\"genE_genE_dR_lowRange\"][ch2,:].plot_ratio(\n",
    "       output[\"out\"][\"2Mu2E_100GeV_5GeV_400mm\"][\"hists\"][\"genE_genE_dR_lowRange\"][ch1,:], \n",
    "       rp_num_label=r\"$Z_d \\rightarrow ee$ with $e\\gamma$ LJ nearby\",\n",
    "       rp_denom_label=r\"$Z_d \\rightarrow ee $\",\n",
    "       rp_uncert_draw_type=\"line\",\n",
    "       rp_uncertainty_type=\"efficiency\")\n",
    "#plt.title(\"2Mu2E_100GeV_5GeV_4mm\")"
   ]
  },
  {
   "cell_type": "code",
   "execution_count": null,
   "id": "8cce1f50-5332-438e-861e-b6dfe87dfb9c",
   "metadata": {},
   "outputs": [],
   "source": [
    "plt.figure(figsize=(10,10))\n",
    "output[\"out\"][\"2Mu2E_100GeV_5GeV_400mm\"][\"hists\"][\"genMu_genMu_dR_lowRange\"][ch3,:].plot_ratio(\n",
    "       output[\"out\"][\"2Mu2E_100GeV_5GeV_400mm\"][\"hists\"][\"genMu_genMu_dR_lowRange\"][ch1,:], \n",
    "       rp_num_label=r\"$Z_d \\rightarrow \\mu\\mu$ with $\\mu$ LJ nearby\",\n",
    "       rp_denom_label=r\"$Z_d \\rightarrow \\mu\\mu $\",\n",
    "       rp_uncert_draw_type=\"line\",\n",
    "       rp_uncertainty_type=\"efficiency\")\n",
    "#plt.title(\"2Mu2E_100GeV_5GeV_4mm\")"
   ]
  },
  {
   "cell_type": "code",
   "execution_count": null,
   "id": "95267050-bda8-45d4-86b6-891eb44c68ab",
   "metadata": {
    "tags": []
   },
   "outputs": [],
   "source": [
    "plt.figure(figsize=(10,10))\n",
    "output[\"out\"][\"2Mu2E_200GeV_5GeV_200mm\"][\"hists\"][\"genE_genE_dR_lowRange\"][ch2,:].plot_ratio(\n",
    "       output[\"out\"][\"2Mu2E_200GeV_5GeV_200mm\"][\"hists\"][\"genE_genE_dR_lowRange\"][ch1,:], \n",
    "      rp_num_label=r\"$Z_d \\rightarrow ee$ with $e\\gamma$ LJ nearby\",\n",
    "       rp_denom_label=r\"$Z_d \\rightarrow ee $\",\n",
    "       rp_uncert_draw_type=\"line\",\n",
    "       rp_uncertainty_type=\"efficiency\")\n",
    "#plt.title(\"2Mu2E_100GeV_5GeV_4mm\")"
   ]
  },
  {
   "cell_type": "code",
   "execution_count": null,
   "id": "aae2f92f-d37e-491d-b7bc-ca833806edf6",
   "metadata": {
    "tags": []
   },
   "outputs": [],
   "source": [
    "plt.figure(figsize=(10,10))\n",
    "output[\"out\"][\"2Mu2E_200GeV_5GeV_200mm\"][\"hists\"][\"genMu_genMu_dR_lowRange\"][ch3,:].plot_ratio(\n",
    "       output[\"out\"][\"2Mu2E_200GeV_5GeV_200mm\"][\"hists\"][\"genMu_genMu_dR_lowRange\"][ch1,:], \n",
    "       rp_num_label=r\"$Z_d \\rightarrow \\mu\\mu$ with $\\mu$ LJ nearby\",\n",
    "       rp_denom_label=r\"$Z_d \\rightarrow \\mu\\mu $\",\n",
    "       rp_uncert_draw_type=\"line\",\n",
    "       rp_uncertainty_type=\"efficiency\")\n",
    "#plt.title(\"2Mu2E_100GeV_5GeV_4mm\")"
   ]
  },
  {
   "cell_type": "code",
   "execution_count": null,
   "id": "24fdd57c-ee6a-4b7d-ab48-f27dccbb1327",
   "metadata": {},
   "outputs": [],
   "source": [
    "plt.figure(figsize=(10,10))\n",
    "output[\"out\"][\"2Mu2E_200GeV_0p25GeV_10mm\"][\"hists\"][\"genE_genE_dR_lowRange\"][ch2,:.1j].plot_ratio(\n",
    "       output[\"out\"][\"2Mu2E_200GeV_0p25GeV_10mm\"][\"hists\"][\"genE_genE_dR_lowRange\"][ch1,:.1j], \n",
    "      rp_num_label=r\"$Z_d \\rightarrow ee$ with $e\\gamma$ LJ nearby\",\n",
    "       rp_denom_label=r\"$Z_d \\rightarrow ee $\",\n",
    "       rp_uncert_draw_type=\"line\",\n",
    "       rp_uncertainty_type=\"efficiency\")\n",
    "#plt.title(\"2Mu2E_100GeV_5GeV_4mm\")"
   ]
  },
  {
   "cell_type": "code",
   "execution_count": null,
   "id": "0fbb735c-94ab-45af-820f-0f1986fe2ac9",
   "metadata": {
    "tags": []
   },
   "outputs": [],
   "source": [
    "plt.figure(figsize=(10,10))\n",
    "output[\"out\"][\"2Mu2E_200GeV_0p25GeV_10mm\"][\"hists\"][\"genMu_genMu_dR_lowRange\"][ch3,:.1j].plot_ratio(\n",
    "       output[\"out\"][\"2Mu2E_200GeV_0p25GeV_10mm\"][\"hists\"][\"genMu_genMu_dR_lowRange\"][ch1,:.1j], \n",
    "       rp_num_label=r\"$Z_d \\rightarrow \\mu\\mu$ with $\\mu$ LJ nearby\",\n",
    "       rp_denom_label=r\"$Z_d \\rightarrow \\mu\\mu $\",\n",
    "       rp_uncert_draw_type=\"line\",\n",
    "       rp_uncertainty_type=\"efficiency\")\n",
    "#plt.title(\"2Mu2E_100GeV_5GeV_4mm\")"
   ]
  },
  {
   "cell_type": "code",
   "execution_count": null,
   "id": "850cb221-7caa-45aa-a35e-33b2b5b123fd",
   "metadata": {},
   "outputs": [],
   "source": [
    "plt.figure(figsize=(10,10))\n",
    "output[\"out\"][\"2Mu2E_200GeV_1p2GeV_48mm\"][\"hists\"][\"genE_genE_dR_XLowRange\"][ch2,:.2j].plot_ratio(\n",
    "       output[\"out\"][\"2Mu2E_200GeV_1p2GeV_48mm\"][\"hists\"][\"genE_genE_dR_XLowRange\"][ch1,:.2j], \n",
    "       rp_num_label=r\"$Z_d \\rightarrow ee$ with $e\\gamma$ LJ nearby\",\n",
    "       rp_denom_label=r\"$Z_d \\rightarrow ee $\",\n",
    "       rp_uncert_draw_type=\"line\",\n",
    "       rp_uncertainty_type=\"efficiency\")\n",
    "#plt.title(\"2Mu2E_100GeV_5GeV_4mm\")"
   ]
  },
  {
   "cell_type": "code",
   "execution_count": null,
   "id": "61286503-fab4-4f01-bd1a-4188d7fb5764",
   "metadata": {
    "tags": []
   },
   "outputs": [],
   "source": [
    "plt.figure(figsize=(10,10))\n",
    "output[\"out\"][\"2Mu2E_200GeV_1p2GeV_48mm\"][\"hists\"][\"genMu_genMu_dR_XLowRange\"][ch3,:.2j].plot_ratio(\n",
    "       output[\"out\"][\"2Mu2E_200GeV_1p2GeV_48mm\"][\"hists\"][\"genMu_genMu_dR_XLowRange\"][ch1,:.2j], \n",
    "       rp_num_label=r\"$Z_d \\rightarrow \\mu\\mu$ with $\\mu$ LJ nearby\",\n",
    "       rp_denom_label=r\"$Z_d \\rightarrow \\mu\\mu $\",\n",
    "       rp_uncert_draw_type=\"line\",\n",
    "       rp_uncertainty_type=\"efficiency\")\n",
    "#plt.title(\"2Mu2E_100GeV_5GeV_4mm\")"
   ]
  },
  {
   "cell_type": "code",
   "execution_count": null,
   "id": "dbc0f869-a58a-4354-b885-fc91e07f1d4b",
   "metadata": {},
   "outputs": [],
   "source": []
  }
 ],
 "metadata": {
  "kernelspec": {
   "display_name": "Python 3 (ipykernel)",
   "language": "python",
   "name": "python3"
  },
  "language_info": {
   "codemirror_mode": {
    "name": "ipython",
    "version": 3
   },
   "file_extension": ".py",
   "mimetype": "text/x-python",
   "name": "python",
   "nbconvert_exporter": "python",
   "pygments_lexer": "ipython3",
   "version": "3.9.18"
  }
 },
 "nbformat": 4,
 "nbformat_minor": 5
}
