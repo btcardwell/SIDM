{
 "cells": [
  {
   "cell_type": "code",
   "execution_count": 1,
   "id": "0d349374-99c8-4fbc-9b3c-f639aabda59b",
   "metadata": {
    "tags": []
   },
   "outputs": [],
   "source": [
    "# python\n",
    "import sys\n",
    "import os\n",
    "import importlib\n",
    "# columnar analysis\n",
    "from coffea import processor\n",
    "import awkward as ak\n",
    "from dask.distributed import Client\n",
    "# local\n",
    "sys.path.insert(1, os.path.join(sys.path[0], '../..')) # fixme: there must be a better way to handle this...\n",
    "from sidm.tools import ffschema, sidm_processor, utilities\n",
    "# always reload local modules to pick up changes during development\n",
    "importlib.reload(ffschema)\n",
    "importlib.reload(sidm_processor)\n",
    "importlib.reload(utilities)\n",
    "# plotting\n",
    "import matplotlib as mpl\n",
    "import matplotlib.pyplot as plt\n",
    "utilities.set_plot_style()\n",
    "%matplotlib inline"
   ]
  },
  {
   "cell_type": "code",
   "execution_count": 2,
   "id": "fb129cee-bb96-48ed-a68b-4657cdd4c13a",
   "metadata": {
    "tags": []
   },
   "outputs": [
    {
     "data": {
      "application/vnd.jupyter.widget-view+json": {
       "model_id": "72a8b01919954fe4a9b162422bef441e",
       "version_major": 2,
       "version_minor": 0
      },
      "text/plain": [
       "Output()"
      ]
     },
     "metadata": {},
     "output_type": "display_data"
    },
    {
     "data": {
      "text/html": [
       "<pre style=\"white-space:pre;overflow-x:auto;line-height:normal;font-family:Menlo,'DejaVu Sans Mono',consolas,'Courier New',monospace\"></pre>\n"
      ],
      "text/plain": []
     },
     "metadata": {},
     "output_type": "display_data"
    },
    {
     "data": {
      "text/html": [
       "<pre style=\"white-space:pre;overflow-x:auto;line-height:normal;font-family:Menlo,'DejaVu Sans Mono',consolas,'Courier New',monospace\">\n",
       "</pre>\n"
      ],
      "text/plain": [
       "\n"
      ]
     },
     "metadata": {},
     "output_type": "display_data"
    },
    {
     "data": {
      "application/vnd.jupyter.widget-view+json": {
       "model_id": "8f7b275ac37c41e49cc6a8c72e10b4ce",
       "version_major": 2,
       "version_minor": 0
      },
      "text/plain": [
       "Output()"
      ]
     },
     "metadata": {},
     "output_type": "display_data"
    },
    {
     "name": "stdout",
     "output_type": "stream",
     "text": [
      "Not applying any cuts to the lepton jets for channel  barrelE\n",
      "All: <class 'coffea.analysis_tools.PackedSelection'>\n",
      "Evt: <class 'dict'>\n",
      "{}\n"
     ]
    },
    {
     "data": {
      "text/html": [
       "<pre style=\"white-space:pre;overflow-x:auto;line-height:normal;font-family:Menlo,'DejaVu Sans Mono',consolas,'Courier New',monospace\"></pre>\n"
      ],
      "text/plain": []
     },
     "metadata": {},
     "output_type": "display_data"
    },
    {
     "data": {
      "text/html": [
       "<pre style=\"white-space:pre;overflow-x:auto;line-height:normal;font-family:Menlo,'DejaVu Sans Mono',consolas,'Courier New',monospace\">\n",
       "</pre>\n"
      ],
      "text/plain": [
       "\n"
      ]
     },
     "metadata": {},
     "output_type": "display_data"
    },
    {
     "name": "stderr",
     "output_type": "stream",
     "text": [
      "concurrent.futures.process._RemoteTraceback: \n",
      "\"\"\"\n",
      "Traceback (most recent call last):\n",
      "  File \"/opt/conda/lib/python3.9/site-packages/coffea/processor/executor.py\", line 1654, in _work_function\n",
      "    out = processor_instance.process(events)\n",
      "  File \"/home/cms-jovyan/SIDM_Madisyn/SIDM/sidm/studies/../../sidm/tools/sidm_processor.py\", line 92, in process\n",
      "    sel_objs = evt_selection.apply_evt_cuts(sel_objs)\n",
      "  File \"/home/cms-jovyan/SIDM_Madisyn/SIDM/sidm/studies/../../sidm/tools/selection.py\", line 38, in apply_evt_cuts\n",
      "    sel_objs[name] = obj[self.all_evt_cuts.all(*self.evt_cuts)]\n",
      "  File \"/opt/conda/lib/python3.9/site-packages/coffea/analysis_tools.py\", line 395, in all\n",
      "    return self.require(**{name: True for name in names})\n",
      "  File \"/opt/conda/lib/python3.9/site-packages/coffea/analysis_tools.py\", line 391, in require\n",
      "    return (self._data & consider) == require\n",
      "TypeError: unsupported operand type(s) for &: 'NoneType' and 'int'\n",
      "\n",
      "The above exception was the direct cause of the following exception:\n",
      "\n",
      "Traceback (most recent call last):\n",
      "  File \"/opt/conda/lib/python3.9/concurrent/futures/process.py\", line 246, in _process_worker\n",
      "    r = call_item.fn(*call_item.args, **call_item.kwargs)\n",
      "  File \"/opt/conda/lib/python3.9/site-packages/coffea/processor/executor.py\", line 221, in __call__\n",
      "    out = self.function(*args, **kwargs)\n",
      "  File \"/opt/conda/lib/python3.9/site-packages/coffea/processor/executor.py\", line 1367, in automatic_retries\n",
      "    raise e\n",
      "  File \"/opt/conda/lib/python3.9/site-packages/coffea/processor/executor.py\", line 1336, in automatic_retries\n",
      "    return func(*args, **kwargs)\n",
      "  File \"/opt/conda/lib/python3.9/site-packages/coffea/processor/executor.py\", line 1656, in _work_function\n",
      "    raise Exception(f\"Failed processing file: {item!r}\") from e\n",
      "Exception: Failed processing file: WorkItem(dataset='2Mu2E_100GeV_0p25GeV_20mm', filename='root://xcache//store/group/lpcmetx/SIDM/ffNtupleV4/2018/SIDM_XXTo2ATo2Mu2E_mXX-100_mA-0p25_ctau-20_TuneCP5_13TeV-madgraph-pythia8/RunIIAutumn18DRPremix-102X_upgrade2018_realistic_v15-v1/210326_153943/0000/ffNtuple_5.root', treename='ffNtuplizer/ffNtuple', entrystart=0, entrystop=8490, fileuuid=b'&s\\x01\\x80\\x8eU\\x11\\xeb\\x8c\\xbc\\x90\\x82\\xe4\\xa9\\xbe\\xef', usermeta={})\n",
      "\"\"\"\n",
      "\n",
      "The above exception was the direct cause of the following exception:\n",
      "\n",
      "Traceback (most recent call last):\n",
      "  File \"/opt/conda/lib/python3.9/site-packages/coffea/processor/executor.py\", line 786, in _processwith\n",
      "    merged = _watcher(FH, self, reducer, pool)\n",
      "  File \"/opt/conda/lib/python3.9/site-packages/coffea/processor/executor.py\", line 402, in _watcher\n",
      "    batch = FH.fetch(len(FH.completed))\n",
      "  File \"/opt/conda/lib/python3.9/site-packages/coffea/processor/executor.py\", line 286, in fetch\n",
      "    raise bad_futures[0].exception()\n",
      "Exception: Failed processing file: WorkItem(dataset='2Mu2E_100GeV_0p25GeV_20mm', filename='root://xcache//store/group/lpcmetx/SIDM/ffNtupleV4/2018/SIDM_XXTo2ATo2Mu2E_mXX-100_mA-0p25_ctau-20_TuneCP5_13TeV-madgraph-pythia8/RunIIAutumn18DRPremix-102X_upgrade2018_realistic_v15-v1/210326_153943/0000/ffNtuple_5.root', treename='ffNtuplizer/ffNtuple', entrystart=0, entrystop=8490, fileuuid=b'&s\\x01\\x80\\x8eU\\x11\\xeb\\x8c\\xbc\\x90\\x82\\xe4\\xa9\\xbe\\xef', usermeta={})\n"
     ]
    },
    {
     "name": "stdout",
     "output_type": "stream",
     "text": [
      "Not applying any cuts to the lepton jets for channel  barrelE\n",
      "All: <class 'coffea.analysis_tools.PackedSelection'>\n",
      "Evt: <class 'dict'>\n",
      "{}\n",
      "Not applying any cuts to the lepton jets for channel  barrelE\n",
      "All: <class 'coffea.analysis_tools.PackedSelection'>\n",
      "Evt: <class 'dict'>\n",
      "{}\n",
      "Not applying any cuts to the lepton jets for channel  barrelE\n",
      "All: <class 'coffea.analysis_tools.PackedSelection'>\n",
      "Evt: <class 'dict'>\n",
      "{}\n",
      "Not applying any cuts to the lepton jets for channel  barrelE\n",
      "All: <class 'coffea.analysis_tools.PackedSelection'>\n",
      "Evt: <class 'dict'>\n",
      "{}\n",
      "Not applying any cuts to the lepton jets for channel  barrelE\n",
      "All: <class 'coffea.analysis_tools.PackedSelection'>\n",
      "Evt: <class 'dict'>\n",
      "{}\n",
      "Not applying any cuts to the lepton jets for channel  barrelE\n",
      "All: <class 'coffea.analysis_tools.PackedSelection'>\n",
      "Evt: <class 'dict'>\n",
      "{}\n",
      "Not applying any cuts to the lepton jets for channel  barrelE\n",
      "All: <class 'coffea.analysis_tools.PackedSelection'>\n",
      "Evt: <class 'dict'>\n",
      "{}\n",
      "Not applying any cuts to the lepton jets for channel  barrelE\n",
      "All: <class 'coffea.analysis_tools.PackedSelection'>\n",
      "Evt: <class 'dict'>\n",
      "{}\n",
      "Not applying any cuts to the lepton jets for channel  barrelE\n",
      "All: <class 'coffea.analysis_tools.PackedSelection'>\n",
      "Evt: <class 'dict'>\n",
      "{}\n",
      "Not applying any cuts to the lepton jets for channel  barrelE\n",
      "All: <class 'coffea.analysis_tools.PackedSelection'>\n",
      "Evt: <class 'dict'>\n",
      "{}\n",
      "Not applying any cuts to the lepton jets for channel  barrelE\n",
      "All: <class 'coffea.analysis_tools.PackedSelection'>\n",
      "Evt: <class 'dict'>\n",
      "{}\n",
      "Not applying any cuts to the lepton jets for channel  barrelE\n",
      "All: <class 'coffea.analysis_tools.PackedSelection'>\n",
      "Evt: <class 'dict'>\n",
      "{}\n",
      "Not applying any cuts to the lepton jets for channel  barrelE\n",
      "All: <class 'coffea.analysis_tools.PackedSelection'>\n",
      "Evt: <class 'dict'>\n",
      "{}\n",
      "Not applying any cuts to the lepton jets for channel  barrelE\n",
      "All: <class 'coffea.analysis_tools.PackedSelection'>\n",
      "Evt: <class 'dict'>\n",
      "{}\n",
      "Not applying any cuts to the lepton jets for channel  barrelE\n",
      "All: <class 'coffea.analysis_tools.PackedSelection'>\n",
      "Evt: <class 'dict'>\n",
      "{}\n",
      "Not applying any cuts to the lepton jets for channel  barrelE\n",
      "All: <class 'coffea.analysis_tools.PackedSelection'>\n",
      "Evt: <class 'dict'>\n",
      "{}\n",
      "Not applying any cuts to the lepton jets for channel  barrelE\n",
      "All: <class 'coffea.analysis_tools.PackedSelection'>\n",
      "Evt: <class 'dict'>\n",
      "{}\n",
      "Not applying any cuts to the lepton jets for channel  barrelE\n",
      "All: <class 'coffea.analysis_tools.PackedSelection'>\n",
      "Evt: <class 'dict'>\n",
      "{}\n",
      "Not applying any cuts to the lepton jets for channel  barrelE\n",
      "All: <class 'coffea.analysis_tools.PackedSelection'>\n",
      "Evt: <class 'dict'>\n",
      "{}\n",
      "Not applying any cuts to the lepton jets for channel  barrelE\n",
      "All: <class 'coffea.analysis_tools.PackedSelection'>\n",
      "Evt: <class 'dict'>\n",
      "{}\n",
      "Not applying any cuts to the lepton jets for channel  barrelE\n",
      "All: <class 'coffea.analysis_tools.PackedSelection'>\n",
      "Evt: <class 'dict'>\n",
      "{}\n"
     ]
    },
    {
     "ename": "Exception",
     "evalue": "Failed processing file: WorkItem(dataset='2Mu2E_100GeV_0p25GeV_20mm', filename='root://xcache//store/group/lpcmetx/SIDM/ffNtupleV4/2018/SIDM_XXTo2ATo2Mu2E_mXX-100_mA-0p25_ctau-20_TuneCP5_13TeV-madgraph-pythia8/RunIIAutumn18DRPremix-102X_upgrade2018_realistic_v15-v1/210326_153943/0000/ffNtuple_5.root', treename='ffNtuplizer/ffNtuple', entrystart=0, entrystop=8490, fileuuid=b'&s\\x01\\x80\\x8eU\\x11\\xeb\\x8c\\xbc\\x90\\x82\\xe4\\xa9\\xbe\\xef', usermeta={})",
     "output_type": "error",
     "traceback": [
      "\u001b[0;31m---------------------------------------------------------------------------\u001b[0m",
      "\u001b[0;31mException\u001b[0m                                 Traceback (most recent call last)",
      "Cell \u001b[0;32mIn[2], line 26\u001b[0m\n\u001b[1;32m     18\u001b[0m \u001b[38;5;66;03m#channels = [\"baseNoLj\", \"barrelE\", \"endcapE\"]#\"2mu2e\"\u001b[39;00m\n\u001b[1;32m     19\u001b[0m p \u001b[38;5;241m=\u001b[39m sidm_processor\u001b[38;5;241m.\u001b[39mSidmProcessor(\n\u001b[1;32m     20\u001b[0m     channels,\n\u001b[1;32m     21\u001b[0m     [\u001b[38;5;124m\"\u001b[39m\u001b[38;5;124melectron_extra\u001b[39m\u001b[38;5;124m\"\u001b[39m, \u001b[38;5;124m\"\u001b[39m\u001b[38;5;124mbase\u001b[39m\u001b[38;5;124m\"\u001b[39m  \n\u001b[1;32m     22\u001b[0m \n\u001b[1;32m     23\u001b[0m     ]\n\u001b[1;32m     24\u001b[0m )\n\u001b[0;32m---> 26\u001b[0m output \u001b[38;5;241m=\u001b[39m \u001b[43mrunner\u001b[49m\u001b[38;5;241;43m.\u001b[39;49m\u001b[43mrun\u001b[49m\u001b[43m(\u001b[49m\u001b[43mfileset\u001b[49m\u001b[43m,\u001b[49m\u001b[43m \u001b[49m\u001b[43mtreename\u001b[49m\u001b[38;5;241;43m=\u001b[39;49m\u001b[38;5;124;43m\"\u001b[39;49m\u001b[38;5;124;43mffNtuplizer/ffNtuple\u001b[39;49m\u001b[38;5;124;43m\"\u001b[39;49m\u001b[43m,\u001b[49m\u001b[43m \u001b[49m\u001b[43mprocessor_instance\u001b[49m\u001b[38;5;241;43m=\u001b[39;49m\u001b[43mp\u001b[49m\u001b[43m)\u001b[49m\n\u001b[1;32m     27\u001b[0m out \u001b[38;5;241m=\u001b[39m output[\u001b[38;5;124m\"\u001b[39m\u001b[38;5;124mout\u001b[39m\u001b[38;5;124m\"\u001b[39m]\n",
      "File \u001b[0;32m/opt/conda/lib/python3.9/site-packages/coffea/processor/executor.py:1848\u001b[0m, in \u001b[0;36mRunner.run\u001b[0;34m(self, fileset, processor_instance, treename)\u001b[0m\n\u001b[1;32m   1843\u001b[0m closure \u001b[38;5;241m=\u001b[39m partial(\n\u001b[1;32m   1844\u001b[0m     \u001b[38;5;28mself\u001b[39m\u001b[38;5;241m.\u001b[39mautomatic_retries, \u001b[38;5;28mself\u001b[39m\u001b[38;5;241m.\u001b[39mretries, \u001b[38;5;28mself\u001b[39m\u001b[38;5;241m.\u001b[39mskipbadfiles, closure\n\u001b[1;32m   1845\u001b[0m )\n\u001b[1;32m   1847\u001b[0m executor \u001b[38;5;241m=\u001b[39m \u001b[38;5;28mself\u001b[39m\u001b[38;5;241m.\u001b[39mexecutor\u001b[38;5;241m.\u001b[39mcopy(\u001b[38;5;241m*\u001b[39m\u001b[38;5;241m*\u001b[39mexe_args)\n\u001b[0;32m-> 1848\u001b[0m wrapped_out, e \u001b[38;5;241m=\u001b[39m \u001b[43mexecutor\u001b[49m\u001b[43m(\u001b[49m\u001b[43mchunks\u001b[49m\u001b[43m,\u001b[49m\u001b[43m \u001b[49m\u001b[43mclosure\u001b[49m\u001b[43m,\u001b[49m\u001b[43m \u001b[49m\u001b[38;5;28;43;01mNone\u001b[39;49;00m\u001b[43m)\u001b[49m\n\u001b[1;32m   1849\u001b[0m \u001b[38;5;28;01mif\u001b[39;00m wrapped_out \u001b[38;5;129;01mis\u001b[39;00m \u001b[38;5;28;01mNone\u001b[39;00m:\n\u001b[1;32m   1850\u001b[0m     \u001b[38;5;28;01mraise\u001b[39;00m \u001b[38;5;167;01mValueError\u001b[39;00m(\n\u001b[1;32m   1851\u001b[0m         \u001b[38;5;124m\"\u001b[39m\u001b[38;5;124mNo chunks returned results, verify ``processor`` instance structure.\u001b[39m\u001b[38;5;130;01m\\n\u001b[39;00m\u001b[38;5;130;01m\\\u001b[39;00m\n\u001b[1;32m   1852\u001b[0m \u001b[38;5;124m        if you used skipbadfiles=True, it is possible all your files are bad.\u001b[39m\u001b[38;5;124m\"\u001b[39m\n\u001b[1;32m   1853\u001b[0m     )\n",
      "File \u001b[0;32m/opt/conda/lib/python3.9/site-packages/coffea/processor/executor.py:817\u001b[0m, in \u001b[0;36mFuturesExecutor.__call__\u001b[0;34m(self, items, function, accumulator)\u001b[0m\n\u001b[1;32m    815\u001b[0m \u001b[38;5;28;01melse\u001b[39;00m:\n\u001b[1;32m    816\u001b[0m     mergepoolinstance \u001b[38;5;241m=\u001b[39m \u001b[38;5;28;01mNone\u001b[39;00m\n\u001b[0;32m--> 817\u001b[0m \u001b[38;5;28;01mreturn\u001b[39;00m \u001b[43m_processwith\u001b[49m\u001b[43m(\u001b[49m\u001b[43mpool\u001b[49m\u001b[38;5;241;43m=\u001b[39;49m\u001b[43mpoolinstance\u001b[49m\u001b[43m,\u001b[49m\u001b[43m \u001b[49m\u001b[43mmergepool\u001b[49m\u001b[38;5;241;43m=\u001b[39;49m\u001b[43mmergepoolinstance\u001b[49m\u001b[43m)\u001b[49m\n",
      "File \u001b[0;32m/opt/conda/lib/python3.9/site-packages/coffea/processor/executor.py:801\u001b[0m, in \u001b[0;36mFuturesExecutor.__call__.<locals>._processwith\u001b[0;34m(pool, mergepool)\u001b[0m\n\u001b[1;32m    799\u001b[0m     \u001b[38;5;28;01mreturn\u001b[39;00m accumulate([_decompress(merged), accumulator]), e\n\u001b[1;32m    800\u001b[0m \u001b[38;5;28;01melse\u001b[39;00m:\n\u001b[0;32m--> 801\u001b[0m     \u001b[38;5;28;01mraise\u001b[39;00m e \u001b[38;5;28;01mfrom\u001b[39;00m \u001b[38;5;28;01mNone\u001b[39;00m\n",
      "File \u001b[0;32m/opt/conda/lib/python3.9/site-packages/coffea/processor/executor.py:786\u001b[0m, in \u001b[0;36mFuturesExecutor.__call__.<locals>._processwith\u001b[0;34m(pool, mergepool)\u001b[0m\n\u001b[1;32m    784\u001b[0m \u001b[38;5;28;01mtry\u001b[39;00m:\n\u001b[1;32m    785\u001b[0m     \u001b[38;5;28;01mif\u001b[39;00m mergepool \u001b[38;5;129;01mis\u001b[39;00m \u001b[38;5;28;01mNone\u001b[39;00m:\n\u001b[0;32m--> 786\u001b[0m         merged \u001b[38;5;241m=\u001b[39m \u001b[43m_watcher\u001b[49m\u001b[43m(\u001b[49m\u001b[43mFH\u001b[49m\u001b[43m,\u001b[49m\u001b[43m \u001b[49m\u001b[38;5;28;43mself\u001b[39;49m\u001b[43m,\u001b[49m\u001b[43m \u001b[49m\u001b[43mreducer\u001b[49m\u001b[43m,\u001b[49m\u001b[43m \u001b[49m\u001b[43mpool\u001b[49m\u001b[43m)\u001b[49m\n\u001b[1;32m    787\u001b[0m     \u001b[38;5;28;01melse\u001b[39;00m:\n\u001b[1;32m    788\u001b[0m         merged \u001b[38;5;241m=\u001b[39m _watcher(FH, \u001b[38;5;28mself\u001b[39m, reducer, mergepool)\n",
      "File \u001b[0;32m/opt/conda/lib/python3.9/site-packages/coffea/processor/executor.py:402\u001b[0m, in \u001b[0;36m_watcher\u001b[0;34m(FH, executor, merge_fcn, pool)\u001b[0m\n\u001b[1;32m    396\u001b[0m             progress\u001b[38;5;241m.\u001b[39mupdate(\n\u001b[1;32m    397\u001b[0m                 p_idm,\n\u001b[1;32m    398\u001b[0m                 total\u001b[38;5;241m=\u001b[39mprogress\u001b[38;5;241m.\u001b[39m_tasks[p_idm]\u001b[38;5;241m.\u001b[39mtotal \u001b[38;5;241m+\u001b[39m \u001b[38;5;241m1\u001b[39m,\n\u001b[1;32m    399\u001b[0m                 refresh\u001b[38;5;241m=\u001b[39m\u001b[38;5;28;01mTrue\u001b[39;00m,\n\u001b[1;32m    400\u001b[0m             )\n\u001b[1;32m    401\u001b[0m     \u001b[38;5;28;01melse\u001b[39;00m:  \u001b[38;5;66;03m# Merge within process\u001b[39;00m\n\u001b[0;32m--> 402\u001b[0m         batch \u001b[38;5;241m=\u001b[39m \u001b[43mFH\u001b[49m\u001b[38;5;241;43m.\u001b[39;49m\u001b[43mfetch\u001b[49m\u001b[43m(\u001b[49m\u001b[38;5;28;43mlen\u001b[39;49m\u001b[43m(\u001b[49m\u001b[43mFH\u001b[49m\u001b[38;5;241;43m.\u001b[39;49m\u001b[43mcompleted\u001b[49m\u001b[43m)\u001b[49m\u001b[43m)\u001b[49m\n\u001b[1;32m    403\u001b[0m         merged \u001b[38;5;241m=\u001b[39m _compress(\n\u001b[1;32m    404\u001b[0m             accumulate(\n\u001b[1;32m    405\u001b[0m                 progress\u001b[38;5;241m.\u001b[39mtrack(\n\u001b[0;32m   (...)\u001b[0m\n\u001b[1;32m    412\u001b[0m             executor\u001b[38;5;241m.\u001b[39mcompression,\n\u001b[1;32m    413\u001b[0m         )\n\u001b[1;32m    414\u001b[0m \u001b[38;5;66;03m# Add checkpointing\u001b[39;00m\n",
      "File \u001b[0;32m/opt/conda/lib/python3.9/site-packages/coffea/processor/executor.py:286\u001b[0m, in \u001b[0;36m_FuturesHolder.fetch\u001b[0;34m(self, N)\u001b[0m\n\u001b[1;32m    284\u001b[0m bad_futures \u001b[38;5;241m=\u001b[39m [future \u001b[38;5;28;01mfor\u001b[39;00m future \u001b[38;5;129;01min\u001b[39;00m _completed \u001b[38;5;28;01mif\u001b[39;00m \u001b[38;5;129;01mnot\u001b[39;00m _good_future(future)]\n\u001b[1;32m    285\u001b[0m \u001b[38;5;28mself\u001b[39m\u001b[38;5;241m.\u001b[39mcompleted\u001b[38;5;241m.\u001b[39mupdate(good_futures)\n\u001b[0;32m--> 286\u001b[0m \u001b[38;5;28;01mraise\u001b[39;00m bad_futures[\u001b[38;5;241m0\u001b[39m]\u001b[38;5;241m.\u001b[39mexception()\n",
      "\u001b[0;31mException\u001b[0m: Failed processing file: WorkItem(dataset='2Mu2E_100GeV_0p25GeV_20mm', filename='root://xcache//store/group/lpcmetx/SIDM/ffNtupleV4/2018/SIDM_XXTo2ATo2Mu2E_mXX-100_mA-0p25_ctau-20_TuneCP5_13TeV-madgraph-pythia8/RunIIAutumn18DRPremix-102X_upgrade2018_realistic_v15-v1/210326_153943/0000/ffNtuple_5.root', treename='ffNtuplizer/ffNtuple', entrystart=0, entrystop=8490, fileuuid=b'&s\\x01\\x80\\x8eU\\x11\\xeb\\x8c\\xbc\\x90\\x82\\xe4\\xa9\\xbe\\xef', usermeta={})"
     ]
    }
   ],
   "source": [
    "samples = [\n",
    "    \"2Mu2E_100GeV_0p25GeV_0p02mm\",\n",
    "    \"2Mu2E_100GeV_0p25GeV_0p2mm\",\n",
    "    \"2Mu2E_100GeV_0p25GeV_2mm\",\n",
    "    \"2Mu2E_100GeV_0p25GeV_10mm\",\n",
    "    \"2Mu2E_100GeV_0p25GeV_20mm\"\n",
    "]\n",
    "fileset = utilities.make_fileset(samples, \"ffntuple_v4\")\n",
    "\n",
    "runner = processor.Runner(\n",
    "    #executor=processor.IterativeExecutor(),\n",
    "    executor=processor.FuturesExecutor(),\n",
    "    schema=ffschema.FFSchema,\n",
    "    #maxchunks=1,\n",
    ")\n",
    "\n",
    "channels=[\"barrelE\"]\n",
    "#channels = [\"baseNoLj\", \"barrelE\", \"endcapE\"]#\"2mu2e\"\n",
    "p = sidm_processor.SidmProcessor(\n",
    "    channels,\n",
    "    [\"electron_extra\", \"base\"  \n",
    "\n",
    "    ]\n",
    ")\n",
    "\n",
    "output = runner.run(fileset, treename=\"ffNtuplizer/ffNtuple\", processor_instance=p)\n",
    "out = output[\"out\"]"
   ]
  },
  {
   "cell_type": "raw",
   "id": "c3f28222-c3c1-4345-b631-4f3f5a45cf2e",
   "metadata": {},
   "source": [
    "Plots compare two seperate channels:\n",
    "\n",
    "Channel0 only includes the electrons that have passed the loose ID\n",
    "\n",
    "Channel1 allows all ectrons through the cuts"
   ]
  },
  {
   "cell_type": "markdown",
   "id": "bf93d134-8755-480e-86d0-11bceef14719",
   "metadata": {
    "tags": []
   },
   "source": [
    "# |∆ηseed|:\n",
    "\n",
    "tracking based variable, |∆η| between GSF track and supercluster seed. Comparing Barrel and EndCap electrons with Channel0 and Channel1"
   ]
  },
  {
   "cell_type": "code",
   "execution_count": null,
   "id": "b367fdbd-91af-454f-a3d3-2f820586d0dd",
   "metadata": {
    "jupyter": {
     "source_hidden": true
    },
    "tags": []
   },
   "outputs": [],
   "source": [
    "#for sample in samples:\n",
    "    #hists = out[sample][\"hists\"]\n",
    "    #utilities.plot(hists[\"electron_GsfEleDEtaInSeedCut\"][channels [0],:], label = sample, density = True)\n",
    "#plt.legend()\n",
    "#plt.xlabel(\"Δηseed\")\n",
    "#plt.ylabel(\"Number of Events\")\n",
    "\n",
    "for sample in samples:\n",
    "    hists = out[sample][\"hists\"]\n",
    "plt.subplots(1, 2, figsize=(20, 13))\n",
    "plt.subplot(1, 2, 1)\n",
    "for sample in samples:\n",
    "    utilities.plot(out[sample][\"hists\"][\"electron_GsfEleDEtaInSeedCut\"][channels[0], :], label = sample, density = True)\n",
    "plt.legend(prop={'size': 20})\n",
    "plt.xlabel(\"Δηseed Barrel, Channel 0\")\n",
    "plt.ylabel(\"Number of Events\")\n",
    "plt.subplot(1, 2, 2)\n",
    "for sample in samples:\n",
    "    utilities.plot(out[sample][\"hists\"][\"electron_GsfEleDEtaInSeedCut\"][channels[1], :], label = sample, density = True)\n",
    "plt.legend(prop={'size': 20})\n",
    "plt.xlabel(\"Δηseed Barrel, Channel 1\")\n",
    "plt.ylabel(\"Number of Events\")\n",
    "\n",
    "\n",
    "for sample in samples:\n",
    "    hists = out[sample][\"hists\"]\n",
    "plt.subplots(1, 2, figsize=(20, 13))\n",
    "plt.subplot(1, 2, 1)\n",
    "for sample in samples:\n",
    "    utilities.plot(out[sample][\"hists\"][\"electron_GsfEleDEtaInSeedCut_endcap\"][channels[0], :], label = sample, density = True)\n",
    "plt.legend(prop={'size': 20})\n",
    "plt.xlabel(\"Δηseed EndCap, Channel 0\")\n",
    "plt.ylabel(\"Number of Events\")\n",
    "plt.subplot(1, 2, 2)\n",
    "for sample in samples:\n",
    "    utilities.plot(out[sample][\"hists\"][\"electron_GsfEleDEtaInSeedCut_endcap\"][channels[1], :], label = sample, density = True)\n",
    "plt.legend(prop={'size': 20})\n",
    "plt.xlabel(\"Δηseed EndCap, Channel 1\")\n",
    "plt.ylabel(\"Number of Events\")\n",
    "\n"
   ]
  },
  {
   "cell_type": "code",
   "execution_count": null,
   "id": "b21bb620-4263-4598-ac43-2ec09302d055",
   "metadata": {
    "tags": []
   },
   "outputs": [],
   "source": [
    "for sample in samples:\n",
    "    hists = out[sample][\"hists\"]\n",
    "plt.subplots(1, 2, figsize=(20, 13))\n",
    "plt.subplot(1, 2, 1)\n",
    "for sample in samples:\n",
    "    utilities.plot(out[sample][\"hists\"][\"electron_GsfEleDEtaInSeedCut_endcap\"][channels[0], :], label = sample, density = True)\n",
    "plt.legend(prop={'size': 20})\n",
    "plt.xlabel(\"Δηseed endcap, Channel 0\")\n",
    "plt.ylabel(\"Number of Events\")\n",
    "plt.subplot(1, 2, 2)\n",
    "for sample in samples:\n",
    "    utilities.plot(out[sample][\"hists\"][\"electron_GsfEleDEtaInSeedCut_endcap\"][channels[1], :], label = sample, density = True)\n",
    "plt.legend(prop={'size': 20})\n",
    "plt.xlabel(\"Δηseed endcap, Channel 1\")\n",
    "plt.ylabel(\"Number of Events\")\n",
    "\n",
    "#2x2 with both channels to compare barrel and endcap "
   ]
  },
  {
   "cell_type": "markdown",
   "id": "2e1f8122-5f82-4672-a976-fc5a6333812a",
   "metadata": {
    "tags": []
   },
   "source": [
    "# |∆φin|:\n",
    "\n",
    "tracking based variable, |∆φ| between GSF track and supercluster."
   ]
  },
  {
   "cell_type": "code",
   "execution_count": null,
   "id": "fb453490-321f-4f38-8a25-3aeb97724a0d",
   "metadata": {
    "jupyter": {
     "source_hidden": true
    },
    "tags": []
   },
   "outputs": [],
   "source": [
    "#for sample in samples:\n",
    "    #hists = out[sample][\"hists\"]\n",
    "    #utilities.plot(hists[\"electron_GsfEleDPhiInCut\"][channels [0],:], label = sample, density = True)\n",
    "#plt.legend()\n",
    "#plt.xlabel(\"Δφin\")\n",
    "#plt.ylabel(\"Number of Events\")\n",
    "\n",
    "\n",
    "for sample in samples:\n",
    "    hists = out[sample][\"hists\"]\n",
    "plt.subplots(1, 2, figsize=(20, 13))\n",
    "plt.subplot(1, 2, 1)\n",
    "for sample in samples:\n",
    "    utilities.plot(out[sample][\"hists\"][\"electron_GsfEleDPhiInCut\"][channels[0], :], label = sample, density = True)\n",
    "plt.legend(prop={'size': 18})\n",
    "plt.xlabel(\"Δφin Barrel, Channel 0\")\n",
    "plt.ylabel(\"Number of Events\")\n",
    "plt.subplot(1, 2, 2)\n",
    "for sample in samples:\n",
    "    utilities.plot(out[sample][\"hists\"][\"electron_GsfEleDPhiInCut\"][channels[1], :], label = sample, density = True)\n",
    "plt.legend(prop={'size': 20})\n",
    "plt.xlabel(\"Δφin Barrel, Channel 1\")\n",
    "plt.ylabel(\"Number of Events\")\n",
    "\n",
    "for sample in samples:\n",
    "    hists = out[sample][\"hists\"]\n",
    "plt.subplots(1, 2, figsize=(20, 13))\n",
    "plt.subplot(1, 2, 1)\n",
    "for sample in samples:\n",
    "    utilities.plot(out[sample][\"hists\"][\"electron_GsfEleDPhiInCut_endcap\"][channels[0], :], label = sample, density = True)\n",
    "plt.legend(prop={'size': 20})\n",
    "plt.xlabel(\"Δφin EndCap, Channel 0\")\n",
    "plt.ylabel(\"Number of Events\")\n",
    "plt.subplot(1, 2, 2)\n",
    "for sample in samples:\n",
    "    utilities.plot(out[sample][\"hists\"][\"electron_GsfEleDPhiInCut_endcap\"][channels[1], :], label = sample, density = True)\n",
    "plt.legend(prop={'size': 20})\n",
    "plt.xlabel(\"Δφin EndCap, Channel 1\")\n",
    "plt.ylabel(\"Number of Events\")"
   ]
  },
  {
   "cell_type": "markdown",
   "id": "b2b403dd-c0fa-4c79-930a-8079b3482e5c",
   "metadata": {
    "tags": []
   },
   "source": [
    "# |1/E - 1/𝒑|: \n",
    "\n",
    "absolute value of the difference between the ECAL supercluster energy inverse and the GSF track momentum inverse.\n"
   ]
  },
  {
   "cell_type": "code",
   "execution_count": null,
   "id": "d9e4d15f-f9b1-4546-92ce-95ea70bf3099",
   "metadata": {
    "jupyter": {
     "source_hidden": true
    },
    "tags": []
   },
   "outputs": [],
   "source": [
    "#for sample in samples:\n",
    "    #hists = out[sample][\"hists\"]\n",
    "    #utilities.plot(hists[\"electron_GsfEleEInverseMinusPInverseCut\"][channels [0],:], label = sample, density = True)\n",
    "#plt.legend(loc=\"upper right\", prop={'size': 20})\n",
    "#plt.xlabel(\"1/E − 1/p\")\n",
    "#plt.ylabel(\"Number of Events\")\n",
    "#plt.yscale(\"log\")\n",
    "\n",
    "for sample in samples:\n",
    "    hists = out[sample][\"hists\"]\n",
    "plt.subplots(1, 2, figsize=(20, 13))\n",
    "plt.subplot(1, 2, 1)\n",
    "for sample in samples:\n",
    "    utilities.plot(out[sample][\"hists\"][\"electron_GsfEleEInverseMinusPInverseCut\"][channels[0], :], label = sample, density = True)\n",
    "plt.legend(prop={'size': 20})\n",
    "plt.xlabel(\"1/E − 1/p Barrel, Channel 0\")\n",
    "plt.ylabel(\"Number of Events\")\n",
    "plt.yscale(\"log\")\n",
    "plt.subplot(1, 2, 2)\n",
    "for sample in samples:\n",
    "    utilities.plot(out[sample][\"hists\"][\"electron_GsfEleEInverseMinusPInverseCut\"][channels[1], :], label = sample, density = True)\n",
    "plt.legend(prop={'size': 20})\n",
    "plt.xlabel(\"1/E − 1/p Barrel, Channel 1\")\n",
    "plt.ylabel(\"Number of Events\")\n",
    "plt.yscale(\"log\")\n",
    "\n",
    "for sample in samples:\n",
    "    hists = out[sample][\"hists\"]\n",
    "plt.subplots(1, 2, figsize=(20, 13))\n",
    "plt.subplot(1, 2, 1)\n",
    "for sample in samples:\n",
    "    utilities.plot(out[sample][\"hists\"][\"electron_GsfEleEInverseMinusPInverseCut_endcap\"][channels[0], :], label = sample, density = True)\n",
    "plt.legend(prop={'size': 20})\n",
    "plt.xlabel(\"1/E − 1/p EndCap, Channel 0\")\n",
    "plt.ylabel(\"Number of Events\")\n",
    "plt.yscale(\"log\")\n",
    "plt.subplot(1, 2, 2)\n",
    "for sample in samples:\n",
    "    utilities.plot(out[sample][\"hists\"][\"electron_GsfEleEInverseMinusPInverseCut_endcap\"][channels[1], :], label = sample, density = True)\n",
    "plt.legend(prop={'size': 20})\n",
    "plt.xlabel(\"1/E − 1/p EndCap, Channel 1\")\n",
    "plt.ylabel(\"Number of Events\")\n",
    "plt.yscale(\"log\")\n"
   ]
  },
  {
   "cell_type": "markdown",
   "id": "6527ce01-2fce-4c90-a760-ace584281b53",
   "metadata": {
    "tags": []
   },
   "source": [
    "# Isolation:\n",
    "relative isolation value with effective area corrections. It is calculated by considering all PFCandidates whose distance to the electron in question satisfies ∆R < 0.3 in the (η, φ) plane:\n",
    "\n",
    "Iso = (Isoch + Isonh + Isopho)/pT"
   ]
  },
  {
   "cell_type": "code",
   "execution_count": null,
   "id": "428703d5-f21b-4ea9-97ba-0814b710ab40",
   "metadata": {
    "jupyter": {
     "source_hidden": true
    },
    "tags": []
   },
   "outputs": [],
   "source": [
    "#for sample in samples:\n",
    "  #  hists = out[sample][\"hists\"]\n",
    " #   utilities.plot(hists[\"electron_GsfEleRelPFIsoScaledCut\"][channels [0],:], label = sample, density = True)\n",
    "#plt.legend( prop={'size': 20})\n",
    "#plt.xlabel(\"Isolation\")\n",
    "#plt.ylabel(\"Number of Events\")\n",
    "#plt.yscale(\"log\")\n",
    "\n",
    "for sample in samples:\n",
    "    hists = out[sample][\"hists\"]\n",
    "plt.subplots(1, 2, figsize=(20, 13))\n",
    "plt.subplot(1, 2, 1)\n",
    "for sample in samples:\n",
    "    utilities.plot(out[sample][\"hists\"][\"electron_GsfEleRelPFIsoScaledCut\"][channels[0], :], label = sample, density = True)\n",
    "plt.legend(prop={'size': 20})\n",
    "plt.xlabel(\"Isolation Barrel, Channel 0\")\n",
    "plt.ylabel(\"Number of Events\")\n",
    "plt.yscale(\"log\")\n",
    "plt.subplot(1, 2, 2)\n",
    "for sample in samples:\n",
    "    utilities.plot(out[sample][\"hists\"][\"electron_GsfEleRelPFIsoScaledCut\"][channels[1], :], label = sample, density = True)\n",
    "plt.legend(prop={'size': 20})\n",
    "plt.xlabel(\"Isolation Barrel, Channel 1\")\n",
    "plt.ylabel(\"Number of Events\")\n",
    "plt.yscale(\"log\")\n",
    "\n",
    "for sample in samples:\n",
    "    hists = out[sample][\"hists\"]\n",
    "plt.subplots(1, 2, figsize=(20, 13))\n",
    "plt.subplot(1, 2, 1)\n",
    "for sample in samples:\n",
    "    utilities.plot(out[sample][\"hists\"][\"electron_GsfEleRelPFIsoScaledCut_endcap\"][channels[0], :], label = sample, density = True)\n",
    "plt.legend(prop={'size': 20})\n",
    "plt.xlabel(\"Isolation EndCap, Channel 0\")\n",
    "plt.ylabel(\"Number of Events\")\n",
    "plt.yscale(\"log\")\n",
    "plt.subplot(1, 2, 2)\n",
    "for sample in samples:\n",
    "    utilities.plot(out[sample][\"hists\"][\"electron_GsfEleRelPFIsoScaledCut_endcap\"][channels[1], :], label = sample, density = True)\n",
    "plt.legend(prop={'size': 20})\n",
    "plt.xlabel(\"Isolation EndCap, Channel 1\")\n",
    "plt.ylabel(\"Number of Events\")\n",
    "plt.yscale(\"log\")"
   ]
  },
  {
   "cell_type": "markdown",
   "id": "ce2c00d8-8101-4373-9f1b-3f39ed992ea9",
   "metadata": {
    "tags": []
   },
   "source": [
    "# σiηiη:\n",
    "\n",
    "shower shape variable, defined as the energy-weighted standard deviation of\n",
    "a single crystal eta within the 5 × 5 crystals centered at the crystal with maximum\n",
    "energy."
   ]
  },
  {
   "cell_type": "code",
   "execution_count": null,
   "id": "aac20738-5f27-432c-b972-8059f1af5577",
   "metadata": {
    "jupyter": {
     "source_hidden": true
    },
    "tags": []
   },
   "outputs": [],
   "source": [
    "#for sample in samples:\n",
    " #   hists = out[sample][\"hists\"]\n",
    "  #  utilities.plot(hists[\"electron_GsfEleFull5x5SigmaIEtaIEtaCut\"][channels [0],:], label = sample, density = True)\n",
    "#plt.legend(loc=\"upper right\", prop={'size': 18})\n",
    "#plt.xlabel(\"σiηiη\")\n",
    "#plt.ylabel(\"Number of Events\")\n",
    "#plt.yscale(\"log\")\n",
    "\n",
    "for sample in samples:\n",
    "    hists = out[sample][\"hists\"]\n",
    "plt.subplots(1, 2, figsize=(20, 13))\n",
    "plt.subplot(1, 2, 1)\n",
    "for sample in samples:\n",
    "    utilities.plot(out[sample][\"hists\"][\"electron_GsfEleFull5x5SigmaIEtaIEtaCut\"][channels[0], :], label = sample, density = True)\n",
    "plt.legend(loc=\"upper right\", prop={'size': 18})\n",
    "plt.xlabel(\"σiηiη Barrel, Channel 0\")\n",
    "plt.ylabel(\"Number of Events\")\n",
    "plt.yscale(\"log\")\n",
    "plt.subplot(1, 2, 2)\n",
    "for sample in samples:\n",
    "    utilities.plot(out[sample][\"hists\"][\"electron_GsfEleFull5x5SigmaIEtaIEtaCut\"][channels[1], :], label = sample, density = True)\n",
    "plt.legend(loc=\"upper right\", prop={'size': 18})\n",
    "plt.xlabel(\"σiηiη Barrel, Channel 1\")\n",
    "plt.ylabel(\"Number of Events\")\n",
    "plt.yscale(\"log\")\n",
    "\n",
    "for sample in samples:\n",
    "    hists = out[sample][\"hists\"]\n",
    "plt.subplots(1, 2, figsize=(20, 13))\n",
    "plt.subplot(1, 2, 1)\n",
    "for sample in samples:\n",
    "    utilities.plot(out[sample][\"hists\"][\"electron_GsfEleFull5x5SigmaIEtaIEtaCut_endcap\"][channels[0], :], label = sample, density = True)\n",
    "plt.legend(loc=\"upper left\", prop={'size': 20})\n",
    "plt.xlabel(\"σiηiη EndCap, Channel 0\")\n",
    "plt.ylabel(\"Number of Events\")\n",
    "plt.yscale(\"log\")\n",
    "plt.subplot(1, 2, 2)\n",
    "for sample in samples:\n",
    "    utilities.plot(out[sample][\"hists\"][\"electron_GsfEleFull5x5SigmaIEtaIEtaCut_endcap\"][channels[1], :], label = sample, density = True)\n",
    "plt.legend(loc=\"lower right\", prop={'size': 16})\n",
    "plt.xlabel(\"σiηiη EndCap, Channel 1\")\n",
    "plt.ylabel(\"Number of Events\")\n",
    "plt.yscale(\"log\")"
   ]
  },
  {
   "cell_type": "markdown",
   "id": "775b883b-75db-4f16-8d03-17ab38bef261",
   "metadata": {
    "tags": []
   },
   "source": [
    "# Conversion veto: \n",
    "\n",
    "veto designed to identify electrons from photon conversions. A simple test to determine whether an electron fails or passes through the ID in an event. "
   ]
  },
  {
   "cell_type": "code",
   "execution_count": null,
   "id": "acf56ebe-5cfd-4caa-bc85-83c0f1ff08bd",
   "metadata": {
    "jupyter": {
     "source_hidden": true
    },
    "tags": []
   },
   "outputs": [],
   "source": [
    "#for sample in samples:\n",
    " #   hists = out[sample][\"hists\"]\n",
    "  #  utilities.plot(hists[\"electron_GsfEleConversionVetoCut\"][channels [1],:], label = sample, density = True)\n",
    "#plt.legend(loc=\"upper right\", prop={'size': 18})\n",
    "#plt.xlabel(\"Conversion veto\")\n",
    "#plt.ylabel(\"Number of Events\")\n",
    "\n",
    "for sample in samples:\n",
    "    hists = out[sample][\"hists\"]\n",
    "plt.subplots(1, 2, figsize=(23, 15))\n",
    "plt.subplot(1, 2, 1)\n",
    "for sample in samples:\n",
    "    utilities.plot(out[sample][\"hists\"][\"electron_GsfEleConversionVetoCut\"][channels[0], :], label = sample, density = True)\n",
    "plt.legend(loc=\"lower left\", prop={'size': 18})\n",
    "plt.xlabel(\"Conversion veto Barrel, Channel 0\")\n",
    "plt.ylabel(\"Number of Events\")\n",
    "plt.subplot(1, 2, 2)\n",
    "for sample in samples:\n",
    "    utilities.plot(out[sample][\"hists\"][\"electron_GsfEleConversionVetoCut\"][channels[1], :], label = sample, density = True)\n",
    "plt.legend(loc=\"upper left\", prop={'size': 18})\n",
    "plt.xlabel(\"Conversion veto Barrel, Channel 1\")\n",
    "plt.ylabel(\"Number of Events\")\n",
    "\n",
    "for sample in samples:\n",
    "    hists = out[sample][\"hists\"]\n",
    "plt.subplots(1, 2, figsize=(23, 15))\n",
    "plt.subplot(1, 2, 1)\n",
    "for sample in samples:\n",
    "    utilities.plot(out[sample][\"hists\"][\"electron_GsfEleConversionVetoCut_endcap\"][channels[0], :], label = sample, density = True)\n",
    "plt.legend(loc=\"lower left\", prop={'size': 18})\n",
    "plt.xlabel(\"Conversion veto EndCap, Channel 0\")\n",
    "plt.ylabel(\"Number of Events\")\n",
    "plt.subplot(1, 2, 2)\n",
    "for sample in samples:\n",
    "    utilities.plot(out[sample][\"hists\"][\"electron_GsfEleConversionVetoCut_endcap\"][channels[1], :], label = sample, density = True)\n",
    "plt.legend(loc=\"upper left\", prop={'size': 18})\n",
    "plt.xlabel(\"Conversion veto EndCap, Channel 1\")\n",
    "plt.ylabel(\"Number of Events\")"
   ]
  },
  {
   "cell_type": "markdown",
   "id": "2adba01b-be5f-4d8c-9883-f59611f1718b",
   "metadata": {
    "tags": []
   },
   "source": [
    "# H/E:\n",
    "\n",
    "ratio of the energy deposited in the single closest HCAL tower to the supercluster position inside a cone of ∆R = 0.15 in the (η, φ) plane to the energy deposited at ECAL."
   ]
  },
  {
   "cell_type": "code",
   "execution_count": null,
   "id": "700ed12a-eb4c-47c6-81a8-52c612f5665a",
   "metadata": {
    "jupyter": {
     "source_hidden": true
    },
    "tags": []
   },
   "outputs": [],
   "source": [
    "#for sample in samples:\n",
    " #   hists = out[sample][\"hists\"]\n",
    "  #  utilities.plot(hists[\"electron_GsfEleHadronicOverEMEnergyScaledCut\"][channels [0],:], label = sample, density = True)\n",
    "#plt.legend(loc=\"upper right\", prop={'size': 20})\n",
    "#plt.xlabel(\"H/E\")\n",
    "#plt.ylabel(\"Number of Events\")\n",
    "#plt.yscale(\"log\")\n",
    "\n",
    "for sample in samples:\n",
    "    hists = out[sample][\"hists\"]\n",
    "plt.subplots(1, 2, figsize=(23, 15))\n",
    "plt.subplot(1, 2, 1)\n",
    "for sample in samples:\n",
    "    utilities.plot(out[sample][\"hists\"][\"electron_GsfEleHadronicOverEMEnergyScaledCut\"][channels[0], :], label = sample, density = True)\n",
    "plt.legend(loc=\"upper right\", prop={'size': 23})\n",
    "plt.xlabel(\"H/E Barrel, Channel 0\")\n",
    "plt.ylabel(\"Number of Events\")\n",
    "plt.yscale(\"log\")\n",
    "plt.subplot(1, 2, 2)\n",
    "for sample in samples:\n",
    "    utilities.plot(out[sample][\"hists\"][\"electron_GsfEleHadronicOverEMEnergyScaledCut\"][channels[1], :], label = sample, density = True)\n",
    "plt.legend(loc=\"upper right\", prop={'size': 24})\n",
    "plt.xlabel(\"H/E Barrel, Channel 1\")\n",
    "plt.ylabel(\"Number of Events\")\n",
    "plt.yscale(\"log\")\n",
    "\n",
    "for sample in samples:\n",
    "    hists = out[sample][\"hists\"]\n",
    "plt.subplots(1, 2, figsize=(23, 15))\n",
    "plt.subplot(1, 2, 1)\n",
    "for sample in samples:\n",
    "    utilities.plot(out[sample][\"hists\"][\"electron_GsfEleHadronicOverEMEnergyScaledCut_endcap\"][channels[0], :], label = sample, density = True)\n",
    "plt.legend(loc=\"upper right\", prop={'size': 23})\n",
    "plt.xlabel(\"H/E EndCap, Channel 0\")\n",
    "plt.ylabel(\"Number of Events\")\n",
    "plt.yscale(\"log\")\n",
    "plt.subplot(1, 2, 2)\n",
    "for sample in samples:\n",
    "    utilities.plot(out[sample][\"hists\"][\"electron_GsfEleHadronicOverEMEnergyScaledCut_endcap\"][channels[1], :], label = sample, density = True)\n",
    "plt.legend(loc=\"upper right\", prop={'size': 24})\n",
    "plt.xlabel(\"H/E EndCap, Channel 1\")\n",
    "plt.ylabel(\"Number of Events\")\n",
    "plt.yscale(\"log\")"
   ]
  },
  {
   "cell_type": "markdown",
   "id": "269a57ec-2193-4172-a75a-c7d42572ede3",
   "metadata": {
    "tags": []
   },
   "source": [
    "# Expected missing inner hits:\n",
    "\n",
    "number of missing hits expected for GSF track."
   ]
  },
  {
   "cell_type": "code",
   "execution_count": null,
   "id": "d7b9a287-c6af-4e04-a5c9-e86d52db27f2",
   "metadata": {
    "jupyter": {
     "source_hidden": true
    },
    "tags": []
   },
   "outputs": [],
   "source": [
    "#for sample in samples:\n",
    "   # hists = out[sample][\"hists\"]\n",
    "    #utilities.plot(hists[\"electron_GsfEleMissingHitsCut\"][channels [1],:], label = sample, density = True)\n",
    "#plt.legend(loc=\"upper right\", prop={'size': 20})\n",
    "#plt.xlabel(\"Expected Missing Inner Hits\")\n",
    "#plt.ylabel(\"Number of Events\")\n",
    "\n",
    "\n",
    "for sample in samples:\n",
    "    hists = out[sample][\"hists\"]\n",
    "plt.subplots(1, 2, figsize=(23, 15))\n",
    "plt.subplot(1, 2, 1)\n",
    "for sample in samples:\n",
    "    utilities.plot(out[sample][\"hists\"][\"electron_GsfEleMissingHitsCut\"][channels[0], :], label = sample, density = True)\n",
    "plt.legend(loc=\"upper right\", prop={'size': 22})\n",
    "plt.xlabel(\"Expected Missing Inner Hits Barrel, Channel 0\")\n",
    "plt.ylabel(\"Number of Events\")\n",
    "plt.subplot(1, 2, 2)\n",
    "for sample in samples:\n",
    "    utilities.plot(out[sample][\"hists\"][\"electron_GsfEleMissingHitsCut\"][channels[1], :], label = sample, density = True)\n",
    "plt.legend(loc=\"upper right\", prop={'size': 22})\n",
    "plt.xlabel(\"Expected Missing Inner Hits Barrel, Channel 1\")\n",
    "plt.ylabel(\"Number of Events\")\n",
    "\n",
    "for sample in samples:\n",
    "    hists = out[sample][\"hists\"]\n",
    "plt.subplots(1, 2, figsize=(23, 15))\n",
    "plt.subplot(1, 2, 1)\n",
    "for sample in samples:\n",
    "    utilities.plot(out[sample][\"hists\"][\"electron_GsfEleMissingHitsCut_endcap\"][channels[0], :], label = sample, density = True)\n",
    "plt.legend(loc=\"upper right\", prop={'size': 22})\n",
    "plt.xlabel(\"Expected Missing Inner Hits EndCap, Channel 0\")\n",
    "plt.ylabel(\"Number of Events\")\n",
    "plt.subplot(1, 2, 2)\n",
    "for sample in samples:\n",
    "    utilities.plot(out[sample][\"hists\"][\"electron_GsfEleMissingHitsCut_endcap\"][channels[1], :], label = sample, density = True)\n",
    "plt.legend(loc=\"upper right\", prop={'size': 22})\n",
    "plt.xlabel(\"Expected Missing Inner Hits EndCap, Channel 1\")\n",
    "plt.ylabel(\"Number of Events\")"
   ]
  }
 ],
 "metadata": {
  "kernelspec": {
   "display_name": "Python 3 (ipykernel)",
   "language": "python",
   "name": "python3"
  },
  "language_info": {
   "codemirror_mode": {
    "name": "ipython",
    "version": 3
   },
   "file_extension": ".py",
   "mimetype": "text/x-python",
   "name": "python",
   "nbconvert_exporter": "python",
   "pygments_lexer": "ipython3",
   "version": "3.9.18"
  }
 },
 "nbformat": 4,
 "nbformat_minor": 5
}
