{
 "cells": [
  {
   "cell_type": "code",
   "execution_count": 1,
   "id": "83966a98-3586-4a67-970b-8dd2a8d0fdf6",
   "metadata": {},
   "outputs": [
    {
     "data": {
      "text/plain": [
       "<module 'analysis.tools.sidm_processor' from '/home/cms-jovyan/SIDM/analysis/studies/../../analysis/tools/sidm_processor.py'>"
      ]
     },
     "execution_count": 1,
     "metadata": {},
     "output_type": "execute_result"
    }
   ],
   "source": [
    "# python\n",
    "import sys\n",
    "import os\n",
    "import importlib\n",
    "from coffea import processor\n",
    "# columnar analysis\n",
    "from coffea.nanoevents import NanoEventsFactory\n",
    "import awkward as ak   #numpy like module for handling arrays\n",
    "#plotting\n",
    "import matplotlib.pyplot as plt\n",
    "# local\n",
    "sys.path.insert(1, os.path.join(sys.path[0], '../..')) # fixme: there must be a better way to handle this...\n",
    "from analysis.tools import ffschema, sidm_processor\n",
    "# always reload local modules to pick up changes during development\n",
    "importlib.reload(ffschema)  #why do we need this?\n",
    "importlib.reload(sidm_processor) "
   ]
  },
  {
   "cell_type": "code",
   "execution_count": 2,
   "id": "11a64912-8680-4f07-8c6f-db19d5c4c602",
   "metadata": {
    "tags": []
   },
   "outputs": [
    {
     "name": "stdout",
     "output_type": "stream",
     "text": [
      "root://xcache//store/group/lpcmetx/SIDM/ffNtupleV4/2018//SIDM_XXTo2ATo2Mu2E_mXX-100_mA-5_ctau-4_TuneCP5_13TeV-madgraph-pythia8/RunIIAutumn18DRPremix-102X_upgrade2018_realistic_v15-v1/210326_155809/0000/ffNtuple_1.root\n",
      "root://xcache//store/group/lpcmetx/SIDM/ffNtupleV4/2018//SIDM_XXTo2ATo2Mu2E_mXX-150_mA-5_ctau-2p7_TuneCP5_13TeV-madgraph-pythia8/RunIIAutumn18DRPremix-102X_upgrade2018_realistic_v15-v1/210326_155637/0000/ffNtuple_1.root\n",
      "root://xcache//store/group/lpcmetx/SIDM/ffNtupleV4/2018//SIDM_XXTo2ATo2Mu2E_mXX-200_mA-5_ctau-2_TuneCP5_13TeV-madgraph-pythia8/RunIIAutumn18DRPremix-102X_upgrade2018_realistic_v15-v1/210326_155722/0000/ffNtuple_1.root\n",
      "root://xcache//store/group/lpcmetx/SIDM/ffNtupleV4/2018//SIDM_XXTo2ATo2Mu2E_mXX-500_mA-5_ctau-0p8_TuneCP5_13TeV-madgraph-pythia8/RunIIAutumn18DRPremix-102X_upgrade2018_realistic_v15-v1/210326_160450/0000/ffNtuple_1.root\n",
      "root://xcache//store/group/lpcmetx/SIDM/ffNtupleV4/2018//SIDM_XXTo2ATo2Mu2E_mXX-800_mA-5_ctau-0p5_TuneCP5_13TeV-madgraph-pythia8/RunIIAutumn18DRPremix-102X_upgrade2018_realistic_v15-v1/210326_153128/0000/ffNtuple_1.root\n",
      "root://xcache//store/group/lpcmetx/SIDM/ffNtupleV4/2018//SIDM_XXTo2ATo2Mu2E_mXX-1000_mA-5_ctau-0p4_TuneCP5_13TeV-madgraph-pythia8/RunIIAutumn18DRPremix-102X_upgrade2018_realistic_v15-v1/210326_154240/0000/ffNtuple_1.root\n"
     ]
    }
   ],
   "source": [
    "sample_dir = \"root://xcache//store/group/lpcmetx/SIDM/ffNtupleV4/2018/\"\n",
    "sample_name1 = \"SIDM_XXTo2ATo2Mu2E_mXX-100_mA-5_ctau-4\"\n",
    "sample_name2 = \"SIDM_XXTo2ATo2Mu2E_mXX-150_mA-5_ctau-2p7\"\n",
    "sample_name3 = \"SIDM_XXTo2ATo2Mu2E_mXX-200_mA-5_ctau-2\"\n",
    "sample_name4 = \"SIDM_XXTo2ATo2Mu2E_mXX-500_mA-5_ctau-0p8\"\n",
    "sample_name5 = \"SIDM_XXTo2ATo2Mu2E_mXX-800_mA-5_ctau-0p5\"\n",
    "sample_name6 = \"SIDM_XXTo2ATo2Mu2E_mXX-1000_mA-5_ctau-0p4\"\n",
    "sample_file1 = f\"{sample_dir}/{sample_name1}_TuneCP5_13TeV-madgraph-pythia8/RunIIAutumn18DRPremix-102X_upgrade2018_realistic_v15-v1/210326_155809/0000/ffNtuple_1.root\"\n",
    "sample_file2 = f\"{sample_dir}/{sample_name2}_TuneCP5_13TeV-madgraph-pythia8/RunIIAutumn18DRPremix-102X_upgrade2018_realistic_v15-v1/210326_155637/0000/ffNtuple_1.root\"\n",
    "sample_file3 = f\"{sample_dir}/{sample_name3}_TuneCP5_13TeV-madgraph-pythia8/RunIIAutumn18DRPremix-102X_upgrade2018_realistic_v15-v1/210326_155722/0000/ffNtuple_1.root\"\n",
    "sample_file4 = f\"{sample_dir}/{sample_name4}_TuneCP5_13TeV-madgraph-pythia8/RunIIAutumn18DRPremix-102X_upgrade2018_realistic_v15-v1/210326_160450/0000/ffNtuple_1.root\"\n",
    "sample_file5 = f\"{sample_dir}/{sample_name5}_TuneCP5_13TeV-madgraph-pythia8/RunIIAutumn18DRPremix-102X_upgrade2018_realistic_v15-v1/210326_153128/0000/ffNtuple_1.root\"\n",
    "sample_file6 = f\"{sample_dir}/{sample_name6}_TuneCP5_13TeV-madgraph-pythia8/RunIIAutumn18DRPremix-102X_upgrade2018_realistic_v15-v1/210326_154240/0000/ffNtuple_1.root\"\n",
    "\n",
    "\n",
    "print(sample_file1)\n",
    "print(sample_file2)\n",
    "print(sample_file3)\n",
    "print(sample_file4)\n",
    "print(sample_file5)\n",
    "print(sample_file6)\n",
    "      \n",
    "\n"
   ]
  },
  {
   "cell_type": "code",
   "execution_count": 3,
   "id": "8d0eb5aa-1b7e-4fdc-9d73-a576554c352d",
   "metadata": {},
   "outputs": [],
   "source": [
    "fileset = {\n",
    "    \"2Mu2E_100GeV_5GeV_4mm\": [\"root://xcache//store/group/lpcmetx/SIDM/ffNtupleV4/2018//SIDM_XXTo2ATo2Mu2E_mXX-100_mA-5_ctau-4_TuneCP5_13TeV-madgraph-pythia8/RunIIAutumn18DRPremix-102X_upgrade2018_realistic_v15-v1/210326_155809/0000/ffNtuple_1.root\" ]\n",
    "    ,\"2Mu2E_150GeV_5GeV_2p7mm\": [\"root://xcache//store/group/lpcmetx/SIDM/ffNtupleV4/2018//SIDM_XXTo2ATo2Mu2E_mXX-150_mA-5_ctau-2p7_TuneCP5_13TeV-madgraph-pythia8/RunIIAutumn18DRPremix-102X_upgrade2018_realistic_v15-v1/210326_155637/0000/ffNtuple_1.root\"]\n",
    "    # can't open new files at the moment; waiting on intervention from coffea-casa folks\n",
    "    #\"2Mu2E_100GeV_1p2GeV_0p096mm\": [\n",
    "    #    \"root://xcache//store/group/lpcmetx/SIDM/ffNtupleV4/2018/SIDM_XXTo2ATo2Mu2E_mXX-100_mA-1p2_ctau-0p096_TuneCP5_13TeV-madgraph-pythia8/RunIIAutumn18DRPremix-102X_upgrade2018_realistic_v15-v1/210326_155855/0000/ffNtuple_1.root\",\n",
    "    #],\n",
    "}\n"
   ]
  },
  {
   "cell_type": "code",
   "execution_count": null,
   "id": "87431e6c-5032-4756-a67f-8ba51137dc53",
   "metadata": {},
   "outputs": [],
   "source": []
  },
  {
   "cell_type": "code",
   "execution_count": 4,
   "id": "fd3d40ae-30eb-4633-87b0-1cf6c6eb44d7",
   "metadata": {},
   "outputs": [
    {
     "data": {
      "text/plain": [
       "'\\nch = \"2mu2e\"\\nrunner = processor.Runner(\\n    executor=processor.IterativeExecutor(),\\n    #executor=processor.FuturesExecutor(),\\n    schema=ffschema.FFSchema,\\n)\\n\\np = sidm_processor.SidmProcessor(\\n    [\\n        \"2mu2e\",\\n        \\n    ],\\n    [\"base_plus_gen\"]\\n)\\n\\noutput = runner.run(fileset, treename=\"ffNtuplizer/ffNtuple\", processor_instance=p)\\noutput[\"out\"][\"2Mu2E_100GeV_5GeV_4mm\"][\"hists\"][\"genA_pt\"][ch,:].plot()\\n'"
      ]
     },
     "execution_count": 4,
     "metadata": {},
     "output_type": "execute_result"
    }
   ],
   "source": [
    "'''\n",
    "ch = \"2mu2e\"\n",
    "runner = processor.Runner(\n",
    "    executor=processor.IterativeExecutor(),\n",
    "    #executor=processor.FuturesExecutor(),\n",
    "    schema=ffschema.FFSchema,\n",
    ")\n",
    "\n",
    "p = sidm_processor.SidmProcessor(\n",
    "    [\n",
    "        \"2mu2e\",\n",
    "        \n",
    "    ],\n",
    "    [\"base_plus_gen\"]\n",
    ")\n",
    "\n",
    "output = runner.run(fileset, treename=\"ffNtuplizer/ffNtuple\", processor_instance=p)\n",
    "output[\"out\"][\"2Mu2E_100GeV_5GeV_4mm\"][\"hists\"][\"genA_pt\"][ch,:].plot()\n",
    "'''"
   ]
  },
  {
   "cell_type": "code",
   "execution_count": 5,
   "id": "3a2232cb-c514-458f-905d-ca5b2f6df9a4",
   "metadata": {},
   "outputs": [],
   "source": [
    "events1 = NanoEventsFactory.from_root(\n",
    "    sample_file1,\n",
    "    treepath='ffNtuplizer/ffNtuple',\n",
    "    schemaclass=ffschema.FFSchema,\n",
    "    metadata = {\n",
    "        \"dataset\": sample_name1, \n",
    "    },\n",
    ").events()\n",
    "events2 = NanoEventsFactory.from_root(\n",
    "    sample_file2,\n",
    "    treepath='ffNtuplizer/ffNtuple',\n",
    "    schemaclass=ffschema.FFSchema,\n",
    "    metadata = {\n",
    "        \"dataset\": sample_name2, \n",
    "    },\n",
    ").events()\n",
    "events3 = NanoEventsFactory.from_root(\n",
    "    sample_file3,\n",
    "    treepath='ffNtuplizer/ffNtuple',\n",
    "    schemaclass=ffschema.FFSchema,\n",
    "    metadata = {\n",
    "        \"dataset\": sample_name3, \n",
    "    },\n",
    ").events()\n",
    "events4 = NanoEventsFactory.from_root(\n",
    "    sample_file4,\n",
    "    treepath='ffNtuplizer/ffNtuple',\n",
    "    schemaclass=ffschema.FFSchema,\n",
    "    metadata = {\n",
    "        \"dataset\": sample_name4, \n",
    "    },\n",
    ").events()\n",
    "events5 = NanoEventsFactory.from_root(\n",
    "    sample_file5,\n",
    "    treepath='ffNtuplizer/ffNtuple',\n",
    "    schemaclass=ffschema.FFSchema,\n",
    "    metadata = {\n",
    "        \"dataset\": sample_name5, \n",
    "    },\n",
    ").events()\n",
    "events6 = NanoEventsFactory.from_root(\n",
    "    sample_file6,\n",
    "    treepath='ffNtuplizer/ffNtuple',\n",
    "    schemaclass=ffschema.FFSchema,\n",
    "    metadata = {\n",
    "        \"dataset\": sample_name6, \n",
    "    },\n",
    ").events()\n"
   ]
  },
  {
   "cell_type": "code",
   "execution_count": 6,
   "id": "5c8467d0-1113-4131-9c52-70fb549d1517",
   "metadata": {},
   "outputs": [
    {
     "name": "stdout",
     "output_type": "stream",
     "text": [
      "[{run: 1, event: 213127, lumi: 641, fixedGridRho: 7.41, ... t: 14.9}}]}]\n"
     ]
    }
   ],
   "source": [
    "print(events1)"
   ]
  },
  {
   "cell_type": "code",
   "execution_count": 7,
   "id": "e1bd096f-0ae3-4bcb-a852-d5fdde70886b",
   "metadata": {},
   "outputs": [
    {
     "ename": "TypeError",
     "evalue": "None cannot be converted into an Awkward Array\n\n(https://github.com/scikit-hep/awkward-1.0/blob/1.10.2/src/awkward/operations/convert.py#L1935)",
     "output_type": "error",
     "traceback": [
      "\u001b[0;31m---------------------------------------------------------------------------\u001b[0m",
      "\u001b[0;31mTypeError\u001b[0m                                 Traceback (most recent call last)",
      "Cell \u001b[0;32mIn [7], line 14\u001b[0m\n\u001b[1;32m      4\u001b[0m \u001b[38;5;124;03m'''\u001b[39;00m\n\u001b[1;32m      5\u001b[0m \u001b[38;5;124;03mp2 = sidm_processor.SidmProcessor([channels[0]], hists)\u001b[39;00m\n\u001b[1;32m      6\u001b[0m \n\u001b[0;32m   (...)\u001b[0m\n\u001b[1;32m     10\u001b[0m \u001b[38;5;124;03mp6 = sidm_processor.SidmProcessor([channels[0]], hists)\u001b[39;00m\n\u001b[1;32m     11\u001b[0m \u001b[38;5;124;03m'''\u001b[39;00m\n\u001b[1;32m     12\u001b[0m \u001b[38;5;66;03m#p2 = sidm_processor.SidmProcessor([channels[0]], hists)\u001b[39;00m\n\u001b[0;32m---> 14\u001b[0m out1 \u001b[38;5;241m=\u001b[39m \u001b[43mp1\u001b[49m\u001b[38;5;241;43m.\u001b[39;49m\u001b[43mprocess\u001b[49m\u001b[43m(\u001b[49m\u001b[43mevents1\u001b[49m\u001b[43m)\u001b[49m\n\u001b[1;32m     15\u001b[0m \u001b[38;5;66;03m#out2 = p2.process(events2)\u001b[39;00m\n\u001b[1;32m     16\u001b[0m \u001b[38;5;124;03m'''\u001b[39;00m\n\u001b[1;32m     17\u001b[0m \u001b[38;5;124;03mout3 = p3.process(events3)\u001b[39;00m\n\u001b[1;32m     18\u001b[0m \n\u001b[0;32m   (...)\u001b[0m\n\u001b[1;32m     22\u001b[0m \n\u001b[1;32m     23\u001b[0m \u001b[38;5;124;03m'''\u001b[39;00m\n",
      "File \u001b[0;32m~/SIDM/analysis/studies/../../analysis/tools/sidm_processor.py:114\u001b[0m, in \u001b[0;36mSidmProcessor.process\u001b[0;34m(self, events)\u001b[0m\n\u001b[1;32m    109\u001b[0m         h\u001b[38;5;241m.\u001b[39mfill(sel_objs, wgts)\n\u001b[1;32m    111\u001b[0m     \u001b[38;5;66;03m# make cutflow\u001b[39;00m\n\u001b[1;32m    112\u001b[0m     \u001b[38;5;66;03m#cutflows[channel.name] = cutflow.Cutflow(channel.all_evt_cuts, channel.evt_cuts,\u001b[39;00m\n\u001b[1;32m    113\u001b[0m     \u001b[38;5;66;03m#                                        events.weightProduct)\u001b[39;00m\n\u001b[0;32m--> 114\u001b[0m     cutflows[channel\u001b[38;5;241m.\u001b[39mname] \u001b[38;5;241m=\u001b[39m \u001b[43mcutflow\u001b[49m\u001b[38;5;241;43m.\u001b[39;49m\u001b[43mCutflow\u001b[49m\u001b[43m(\u001b[49m\u001b[43mchannel\u001b[49m\u001b[38;5;241;43m.\u001b[39;49m\u001b[43mall_evt_cuts\u001b[49m\u001b[43m,\u001b[49m\u001b[43m \u001b[49m\u001b[43mchannel\u001b[49m\u001b[38;5;241;43m.\u001b[39;49m\u001b[43mevt_cuts\u001b[49m\u001b[43m,\u001b[49m\u001b[43m \u001b[49m\u001b[38;5;28;43;01mNone\u001b[39;49;00m\u001b[43m)\u001b[49m\n\u001b[1;32m    117\u001b[0m out \u001b[38;5;241m=\u001b[39m {\n\u001b[1;32m    118\u001b[0m     \u001b[38;5;124m\"\u001b[39m\u001b[38;5;124mcutflow\u001b[39m\u001b[38;5;124m\"\u001b[39m: cutflows,\n\u001b[1;32m    119\u001b[0m     \u001b[38;5;124m\"\u001b[39m\u001b[38;5;124mhists\u001b[39m\u001b[38;5;124m\"\u001b[39m: {n: h\u001b[38;5;241m.\u001b[39mhist \u001b[38;5;28;01mfor\u001b[39;00m n, h \u001b[38;5;129;01min\u001b[39;00m hists\u001b[38;5;241m.\u001b[39mitems()}, \u001b[38;5;66;03m# output hist.Hists, not Histograms\u001b[39;00m\n\u001b[1;32m    120\u001b[0m }\n\u001b[1;32m    121\u001b[0m \u001b[38;5;28;01mreturn\u001b[39;00m {events\u001b[38;5;241m.\u001b[39mmetadata[\u001b[38;5;124m\"\u001b[39m\u001b[38;5;124mdataset\u001b[39m\u001b[38;5;124m\"\u001b[39m]: out}\n",
      "File \u001b[0;32m~/SIDM/analysis/studies/../../analysis/tools/cutflow.py:26\u001b[0m, in \u001b[0;36mCutflow.__init__\u001b[0;34m(self, all_cuts, selection, weights)\u001b[0m\n\u001b[1;32m     24\u001b[0m \u001b[38;5;28mself\u001b[39m\u001b[38;5;241m.\u001b[39mselection \u001b[38;5;241m=\u001b[39m selection \u001b[38;5;66;03m# list of cut names to apply\u001b[39;00m\n\u001b[1;32m     25\u001b[0m \u001b[38;5;66;03m# make behavior-free array with weights set to zero for making additive identity Cutflows\u001b[39;00m\n\u001b[0;32m---> 26\u001b[0m \u001b[38;5;28mself\u001b[39m\u001b[38;5;241m.\u001b[39mzero_weights \u001b[38;5;241m=\u001b[39m ak\u001b[38;5;241m.\u001b[39mwithout_parameters(\u001b[43mak\u001b[49m\u001b[38;5;241;43m.\u001b[39;49m\u001b[43mzeros_like\u001b[49m\u001b[43m(\u001b[49m\u001b[43mweights\u001b[49m\u001b[43m)\u001b[49m, behavior\u001b[38;5;241m=\u001b[39m{})\n\u001b[1;32m     27\u001b[0m \u001b[38;5;66;03m# make all cutflow rows\u001b[39;00m\n\u001b[1;32m     28\u001b[0m \u001b[38;5;28mself\u001b[39m\u001b[38;5;241m.\u001b[39mflow \u001b[38;5;241m=\u001b[39m [CutflowElement(\u001b[38;5;124m\"\u001b[39m\u001b[38;5;124mNo selection\u001b[39m\u001b[38;5;124m\"\u001b[39m, all_cuts, \u001b[38;5;28mself\u001b[39m, weights, is_first_element\u001b[38;5;241m=\u001b[39m\u001b[38;5;28;01mTrue\u001b[39;00m)]\n",
      "File \u001b[0;32m/opt/conda/lib/python3.8/site-packages/awkward/operations/structure.py:1134\u001b[0m, in \u001b[0;36mzeros_like\u001b[0;34m(array, highlevel, behavior, dtype)\u001b[0m\n\u001b[1;32m   1132\u001b[0m \u001b[38;5;28;01mif\u001b[39;00m dtype \u001b[38;5;129;01mis\u001b[39;00m \u001b[38;5;129;01mnot\u001b[39;00m \u001b[38;5;28;01mNone\u001b[39;00m:\n\u001b[1;32m   1133\u001b[0m     \u001b[38;5;28;01mreturn\u001b[39;00m full_like(array, \u001b[38;5;241m0\u001b[39m, highlevel\u001b[38;5;241m=\u001b[39mhighlevel, behavior\u001b[38;5;241m=\u001b[39mbehavior, dtype\u001b[38;5;241m=\u001b[39mdtype)\n\u001b[0;32m-> 1134\u001b[0m \u001b[38;5;28;01mreturn\u001b[39;00m \u001b[43mfull_like\u001b[49m\u001b[43m(\u001b[49m\u001b[43marray\u001b[49m\u001b[43m,\u001b[49m\u001b[43m \u001b[49m\u001b[43m_ZEROS\u001b[49m\u001b[43m,\u001b[49m\u001b[43m \u001b[49m\u001b[43mhighlevel\u001b[49m\u001b[38;5;241;43m=\u001b[39;49m\u001b[43mhighlevel\u001b[49m\u001b[43m,\u001b[49m\u001b[43m \u001b[49m\u001b[43mbehavior\u001b[49m\u001b[38;5;241;43m=\u001b[39;49m\u001b[43mbehavior\u001b[49m\u001b[43m,\u001b[49m\u001b[43m \u001b[49m\u001b[43mdtype\u001b[49m\u001b[38;5;241;43m=\u001b[39;49m\u001b[43mdtype\u001b[49m\u001b[43m)\u001b[49m\n",
      "File \u001b[0;32m/opt/conda/lib/python3.8/site-packages/awkward/operations/structure.py:1232\u001b[0m, in \u001b[0;36mfull_like\u001b[0;34m(array, fill_value, highlevel, behavior, dtype)\u001b[0m\n\u001b[1;32m   1228\u001b[0m     \u001b[38;5;28;01mif\u001b[39;00m dtype \u001b[38;5;129;01mis\u001b[39;00m \u001b[38;5;28mbool\u001b[39m:\n\u001b[1;32m   1229\u001b[0m         \u001b[38;5;66;03m# then for bools, only 0 and 1 give correct string behavior\u001b[39;00m\n\u001b[1;32m   1230\u001b[0m         fill_value \u001b[38;5;241m=\u001b[39m \u001b[38;5;28mint\u001b[39m(fill_value)\n\u001b[0;32m-> 1232\u001b[0m layout \u001b[38;5;241m=\u001b[39m \u001b[43mak\u001b[49m\u001b[38;5;241;43m.\u001b[39;49m\u001b[43moperations\u001b[49m\u001b[38;5;241;43m.\u001b[39;49m\u001b[43mconvert\u001b[49m\u001b[38;5;241;43m.\u001b[39;49m\u001b[43mto_layout\u001b[49m\u001b[43m(\u001b[49m\n\u001b[1;32m   1233\u001b[0m \u001b[43m    \u001b[49m\u001b[43marray\u001b[49m\u001b[43m,\u001b[49m\u001b[43m \u001b[49m\u001b[43mallow_record\u001b[49m\u001b[38;5;241;43m=\u001b[39;49m\u001b[38;5;28;43;01mTrue\u001b[39;49;00m\u001b[43m,\u001b[49m\u001b[43m \u001b[49m\u001b[43mallow_other\u001b[49m\u001b[38;5;241;43m=\u001b[39;49m\u001b[38;5;28;43;01mFalse\u001b[39;49;00m\n\u001b[1;32m   1234\u001b[0m \u001b[43m\u001b[49m\u001b[43m)\u001b[49m\n\u001b[1;32m   1236\u001b[0m \u001b[38;5;28;01mdef\u001b[39;00m \u001b[38;5;21mgetfunction\u001b[39m(layout):\n\u001b[1;32m   1237\u001b[0m     \u001b[38;5;28;01mif\u001b[39;00m layout\u001b[38;5;241m.\u001b[39mparameter(\u001b[38;5;124m\"\u001b[39m\u001b[38;5;124m__array__\u001b[39m\u001b[38;5;124m\"\u001b[39m) \u001b[38;5;241m==\u001b[39m \u001b[38;5;124m\"\u001b[39m\u001b[38;5;124mbytestring\u001b[39m\u001b[38;5;124m\"\u001b[39m \u001b[38;5;129;01mand\u001b[39;00m fill_value \u001b[38;5;129;01mis\u001b[39;00m _ZEROS:\n",
      "File \u001b[0;32m/opt/conda/lib/python3.8/site-packages/awkward/operations/convert.py:1933\u001b[0m, in \u001b[0;36mto_layout\u001b[0;34m(array, allow_record, allow_other, numpytype)\u001b[0m\n\u001b[1;32m   1930\u001b[0m     \u001b[38;5;28;01mreturn\u001b[39;00m from_iter(array, highlevel\u001b[38;5;241m=\u001b[39m\u001b[38;5;28;01mFalse\u001b[39;00m)\n\u001b[1;32m   1932\u001b[0m \u001b[38;5;28;01melif\u001b[39;00m \u001b[38;5;129;01mnot\u001b[39;00m allow_other:\n\u001b[0;32m-> 1933\u001b[0m     \u001b[38;5;28;01mraise\u001b[39;00m \u001b[38;5;167;01mTypeError\u001b[39;00m(\n\u001b[1;32m   1934\u001b[0m         \u001b[38;5;124mf\u001b[39m\u001b[38;5;124m\"\u001b[39m\u001b[38;5;132;01m{\u001b[39;00marray\u001b[38;5;132;01m}\u001b[39;00m\u001b[38;5;124m cannot be converted into an Awkward Array\u001b[39m\u001b[38;5;124m\"\u001b[39m\n\u001b[1;32m   1935\u001b[0m         \u001b[38;5;241m+\u001b[39m ak\u001b[38;5;241m.\u001b[39m_util\u001b[38;5;241m.\u001b[39mexception_suffix(\u001b[38;5;18m__file__\u001b[39m)\n\u001b[1;32m   1936\u001b[0m     )\n\u001b[1;32m   1938\u001b[0m \u001b[38;5;28;01melse\u001b[39;00m:\n\u001b[1;32m   1939\u001b[0m     \u001b[38;5;28;01mreturn\u001b[39;00m array\n",
      "\u001b[0;31mTypeError\u001b[0m: None cannot be converted into an Awkward Array\n\n(https://github.com/scikit-hep/awkward-1.0/blob/1.10.2/src/awkward/operations/convert.py#L1935)"
     ]
    }
   ],
   "source": [
    "channels = [\"2mu2e\", \"4mu\", \"base\", \"noLjPtCut\"]\n",
    "hists = [\"base_plus_gen\"]\n",
    "p1 = sidm_processor.SidmProcessor([channels[0]], hists)\n",
    "'''\n",
    "p2 = sidm_processor.SidmProcessor([channels[0]], hists)\n",
    "\n",
    "p3 = sidm_processor.SidmProcessor([channels[0]], hists)\n",
    "p4 = sidm_processor.SidmProcessor([channels[0]], hists)\n",
    "p5 = sidm_processor.SidmProcessor([channels[0]], hists)\n",
    "p6 = sidm_processor.SidmProcessor([channels[0]], hists)\n",
    "'''\n",
    "#p2 = sidm_processor.SidmProcessor([channels[0]], hists)\n",
    "\n",
    "out1 = p1.process(events1)\n",
    "#out2 = p2.process(events2)\n",
    "'''\n",
    "out3 = p3.process(events3)\n",
    "\n",
    "out4 = p4.process(events4)\n",
    "out5 = p5.process(events5)\n",
    "out6 = p6.process(events6)\n",
    "\n",
    "'''\n",
    "\n"
   ]
  },
  {
   "cell_type": "code",
   "execution_count": null,
   "id": "bb78dbd6-66d7-48cf-ae7f-8217ee4a0415",
   "metadata": {},
   "outputs": [],
   "source": [
    "ch = channels[0]\n",
    "out1[sample_name1][\"hists\"][\"genA_pt\"][ch, :].plot()\n",
    "\n"
   ]
  },
  {
   "cell_type": "code",
   "execution_count": null,
   "id": "226aa66a-2fc8-4d69-9555-27b6e42e4105",
   "metadata": {},
   "outputs": [],
   "source": [
    "print(out1['SIDM_XXTo2ATo2Mu2E_mXX-100_mA-5_ctau-4']['cutflow'][\"2mu2e\"].print_table())"
   ]
  },
  {
   "cell_type": "code",
   "execution_count": null,
   "id": "d8af0219-83d9-4ddb-a4e5-7f18b741fbff",
   "metadata": {},
   "outputs": [],
   "source": [
    "print(out1)"
   ]
  },
  {
   "cell_type": "code",
   "execution_count": null,
   "id": "d55203cf-be7c-43ca-819f-2da4f3e0d58e",
   "metadata": {},
   "outputs": [],
   "source": []
  },
  {
   "cell_type": "code",
   "execution_count": null,
   "id": "495be67f-2387-4303-8f68-aee8b13f70f2",
   "metadata": {},
   "outputs": [],
   "source": []
  }
 ],
 "metadata": {
  "kernelspec": {
   "display_name": "Python 3 (ipykernel)",
   "language": "python",
   "name": "python3"
  },
  "language_info": {
   "codemirror_mode": {
    "name": "ipython",
    "version": 3
   },
   "file_extension": ".py",
   "mimetype": "text/x-python",
   "name": "python",
   "nbconvert_exporter": "python",
   "pygments_lexer": "ipython3",
   "version": "3.8.16"
  }
 },
 "nbformat": 4,
 "nbformat_minor": 5
}
