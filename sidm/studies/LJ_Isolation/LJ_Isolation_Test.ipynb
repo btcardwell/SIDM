{
 "cells": [
  {
   "cell_type": "code",
   "execution_count": 1,
   "id": "62b438ee-7a5b-4c72-a476-577e15f0e5a1",
   "metadata": {
    "tags": []
   },
   "outputs": [],
   "source": [
    "# python\n",
    "import sys\n",
    "import os\n",
    "import importlib\n",
    "# columnar analysis\n",
    "from coffea import processor\n",
    "from coffea.nanoevents import NanoEventsFactory, NanoAODSchema\n",
    "import awkward as ak\n",
    "from dask.distributed import Client, performance_report\n",
    "# local\n",
    "\n",
    "sidm_path = str(os.getcwd()).split(\"/sidm\")[0]\n",
    "# sidm_path = str(sys.path[0]).split(\"/sidm\")[0]\n",
    "if sidm_path not in sys.path: sys.path.insert(1, sidm_path)\n",
    "from sidm.tools import utilities, sidm_processor, scaleout, cutflow\n",
    "from sidm.tools import llpnanoaodschema\n",
    "# always reload local modules to pick up changes during development\n",
    "importlib.reload(utilities)\n",
    "importlib.reload(sidm_processor)\n",
    "importlib.reload(scaleout)\n",
    "# plotting\n",
    "import matplotlib.pyplot as plt\n",
    "utilities.set_plot_style()\n",
    "%matplotlib inline\n",
    "from tqdm.notebook import tqdm\n",
    "import coffea.util\n",
    "import numpy as np"
   ]
  },
  {
   "cell_type": "code",
   "execution_count": 2,
   "id": "46548797-e54c-454c-b4ed-a939eae1227a",
   "metadata": {
    "tags": []
   },
   "outputs": [],
   "source": [
    "samples_2mu2e = [\n",
    "    \"2Mu2E_1000GeV_0p25GeV_0p002mm\",\n",
    "]"
   ]
  },
  {
   "cell_type": "code",
   "execution_count": 3,
   "id": "44181332-03f1-4cff-b7f9-4c0720b99d3d",
   "metadata": {},
   "outputs": [],
   "source": [
    "fileset_2mu2e = utilities.make_fileset(samples_2mu2e, \n",
    "                                 \"llpNanoAOD_v2\", \n",
    "                                 location_cfg=\"signal_2mu2e_v10.yaml\",\n",
    "                                 max_files = 1,\n",
    "                                )"
   ]
  },
  {
   "cell_type": "code",
   "execution_count": 4,
   "id": "3ee31e86-e99d-4926-8b13-654676ed8cbe",
   "metadata": {
    "tags": []
   },
   "outputs": [
    {
     "data": {
      "application/vnd.jupyter.widget-view+json": {
       "model_id": "5196c2fae31d4671861dd9e6238ec0f8",
       "version_major": 2,
       "version_minor": 0
      },
      "text/plain": [
       "Output()"
      ]
     },
     "metadata": {},
     "output_type": "display_data"
    },
    {
     "data": {
      "text/html": [
       "<pre style=\"white-space:pre;overflow-x:auto;line-height:normal;font-family:Menlo,'DejaVu Sans Mono',consolas,'Courier New',monospace\"></pre>\n"
      ],
      "text/plain": []
     },
     "metadata": {},
     "output_type": "display_data"
    },
    {
     "data": {
      "application/vnd.jupyter.widget-view+json": {
       "model_id": "4a68e6ce298449e58284a7f5d355f8c7",
       "version_major": 2,
       "version_minor": 0
      },
      "text/plain": [
       "Output()"
      ]
     },
     "metadata": {},
     "output_type": "display_data"
    },
    {
     "data": {
      "text/html": [
       "<pre style=\"white-space:pre;overflow-x:auto;line-height:normal;font-family:Menlo,'DejaVu Sans Mono',consolas,'Courier New',monospace\">/usr/local/lib/python3.12/site-packages/coffea/nanoevents/schemas/nanoaod.py:264: RuntimeWarning: Missing \n",
       "cross-reference index for LowPtElectron_electronIdx =&gt; Electron\n",
       "  warnings.warn(\n",
       "</pre>\n"
      ],
      "text/plain": [
       "/usr/local/lib/python3.12/site-packages/coffea/nanoevents/schemas/nanoaod.py:264: RuntimeWarning: Missing \n",
       "cross-reference index for LowPtElectron_electronIdx => Electron\n",
       "  warnings.warn(\n"
      ]
     },
     "metadata": {},
     "output_type": "display_data"
    },
    {
     "data": {
      "text/html": [
       "<pre style=\"white-space:pre;overflow-x:auto;line-height:normal;font-family:Menlo,'DejaVu Sans Mono',consolas,'Courier New',monospace\">/usr/local/lib/python3.12/site-packages/coffea/nanoevents/schemas/nanoaod.py:264: RuntimeWarning: Missing \n",
       "cross-reference index for LowPtElectron_photonIdx =&gt; Photon\n",
       "  warnings.warn(\n",
       "</pre>\n"
      ],
      "text/plain": [
       "/usr/local/lib/python3.12/site-packages/coffea/nanoevents/schemas/nanoaod.py:264: RuntimeWarning: Missing \n",
       "cross-reference index for LowPtElectron_photonIdx => Photon\n",
       "  warnings.warn(\n"
      ]
     },
     "metadata": {},
     "output_type": "display_data"
    },
    {
     "data": {
      "text/html": [
       "<pre style=\"white-space:pre;overflow-x:auto;line-height:normal;font-family:Menlo,'DejaVu Sans Mono',consolas,'Courier New',monospace\">/usr/local/lib/python3.12/site-packages/awkward/_nplikes/array_module.py:292: RuntimeWarning: invalid value \n",
       "encountered in divide\n",
       "  return impl(*broadcasted_args, **(kwargs or {}))\n",
       "</pre>\n"
      ],
      "text/plain": [
       "/usr/local/lib/python3.12/site-packages/awkward/_nplikes/array_module.py:292: RuntimeWarning: invalid value \n",
       "encountered in divide\n",
       "  return impl(*broadcasted_args, **(kwargs or {}))\n"
      ]
     },
     "metadata": {},
     "output_type": "display_data"
    },
    {
     "name": "stdout",
     "output_type": "stream",
     "text": [
      "#--------------------------------------------------------------------------\n",
      "#                         FastJet release 3.4.3\n",
      "#                 M. Cacciari, G.P. Salam and G. Soyez                  \n",
      "#     A software package for jet finding and analysis at colliders      \n",
      "#                           http://fastjet.fr                           \n",
      "#\t                                                                      \n",
      "# Please cite EPJC72(2012)1896 [arXiv:1111.6097] if you use this package\n",
      "# for scientific work and optionally PLB641(2006)57 [hep-ph/0512210].   \n",
      "#                                                                       \n",
      "# FastJet is provided without warranty under the GNU GPL v2 or higher.  \n",
      "# It uses T. Chan's closest pair algorithm, S. Fortune's Voronoi code,\n",
      "# CGAL and 3rd party plugin jet algorithms. See COPYING file for details.\n",
      "#--------------------------------------------------------------------------\n"
     ]
    },
    {
     "data": {
      "text/html": [
       "<pre style=\"white-space:pre;overflow-x:auto;line-height:normal;font-family:Menlo,'DejaVu Sans Mono',consolas,'Courier New',monospace\"></pre>\n"
      ],
      "text/plain": []
     },
     "metadata": {},
     "output_type": "display_data"
    },
    {
     "name": "stdout",
     "output_type": "stream",
     "text": [
      "Signal not in xs cfg, assuming 1fb\n"
     ]
    }
   ],
   "source": [
    "runner = processor.Runner(\n",
    "    # executor=processor.DaskExecutor(client=client),\n",
    "    executor=processor.IterativeExecutor(),\n",
    "    schema=llpnanoaodschema.LLPNanoAODSchema,\n",
    "    skipbadfiles=True\n",
    ")\n",
    "\n",
    "channels = [\n",
    "    \"baseNoLjNoLjsource\", \"baseNoLj\"\n",
    "]\n",
    "\n",
    "p = sidm_processor.SidmProcessor(\n",
    "    channels,\n",
    "    # [\"matched_jet_base\", \"fraction_base\", \"isolation_base\", \"energy_transfer_base\", \"muon_crosscleaning_base\"],\n",
    "    [\"isolation_base\"],\n",
    "    unweighted_hist=False,\n",
    ")\n",
    "\n",
    "out = {}\n",
    "for i, sample in enumerate(samples_2mu2e):\n",
    "\n",
    "    # print(f\"Processing {sample}\")\n",
    "    fileset_one_sample = {samples_2mu2e[i]:fileset_2mu2e.get(samples_2mu2e[i])}\n",
    "    \n",
    "    output = runner.run(fileset_one_sample, treename='Events', processor_instance=p)\n",
    "\n",
    "    #Add this sample's output to the out variable\n",
    "    out[sample] = output[\"out\"][sample]"
   ]
  },
  {
   "cell_type": "code",
   "execution_count": 7,
   "id": "3d48f8b7-9034-4ed2-b277-8fba87c374eb",
   "metadata": {
    "tags": []
   },
   "outputs": [
    {
     "data": {
      "text/plain": [
       "<matplotlib.legend.Legend at 0x7f4b3868e540>"
      ]
     },
     "execution_count": 7,
     "metadata": {},
     "output_type": "execute_result"
    },
    {
     "data": {
      "image/png": "[encoded data removed]",
      "text/plain": [
       "<Figure size 1800x500 with 3 Axes>"
      ]
     },
     "metadata": {},
     "output_type": "display_data"
    }
   ],
   "source": [
    "plt.subplots(1,3,figsize=(36,10))\n",
    "\n",
    "plt.subplot(1,3,1)\n",
    "for sample in samples_2mu2e:\n",
    "    utilities.plot(out[sample][\"hists\"][\"lj_isolation\"][channels[0], :], density=False, label='W/O CC')\n",
    "    utilities.plot(out[sample][\"hists\"][\"lj_isolation\"][channels[1], :], density=False, label='W CC')\n",
    "plt.legend()\n",
    "\n",
    "plt.subplot(1,3,2)\n",
    "for sample in samples_2mu2e:\n",
    "    utilities.plot(out[sample][\"hists\"][\"mu_lj_isolation\"][channels[0], :], density=False, label='W/O CC')\n",
    "    utilities.plot(out[sample][\"hists\"][\"mu_lj_isolation\"][channels[1], :], density=False, label='W CC')\n",
    "plt.legend()\n",
    "\n",
    "plt.subplot(1,3,3)\n",
    "for sample in samples_2mu2e:\n",
    "    utilities.plot(out[sample][\"hists\"][\"egm_lj_isolation\"][channels[0], :], density=False, label='W/O CC')\n",
    "    utilities.plot(out[sample][\"hists\"][\"egm_lj_isolation\"][channels[1], :], density=False, label='W CC')\n",
    "plt.legend()"
   ]
  },
  {
   "cell_type": "code",
   "execution_count": null,
   "id": "b1489f01-4ebe-4883-b7c4-c21335e60eb6",
   "metadata": {},
   "outputs": [],
   "source": []
  }
 ],
 "metadata": {
  "kernelspec": {
   "display_name": "Python 3 (ipykernel)",
   "language": "python",
   "name": "python3"
  },
  "language_info": {
   "codemirror_mode": {
    "name": "ipython",
    "version": 3
   },
   "file_extension": ".py",
   "mimetype": "text/x-python",
   "name": "python",
   "nbconvert_exporter": "python",
   "pygments_lexer": "ipython3",
   "version": "3.12.5"
  }
 },
 "nbformat": 4,
 "nbformat_minor": 5
}
