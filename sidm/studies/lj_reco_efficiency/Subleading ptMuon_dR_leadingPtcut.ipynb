{
 "cells": [
  {
   "cell_type": "code",
   "execution_count": 1,
   "id": "523a246c-6469-4c11-8670-cfd37aab76cc",
   "metadata": {
    "tags": []
   },
   "outputs": [],
   "source": [
    "# python\n",
    "import sys\n",
    "import os\n",
    "import importlib\n",
    "from coffea import processor\n",
    "# columnar analysis\n",
    "from coffea.nanoevents import NanoEventsFactory\n",
    "import awkward as ak   #numpy like module for handling arrays\n",
    "\n",
    "# local\n",
    "sys.path.insert(1, os.path.join(sys.path[0], '../../..')) # fixme: there must be a better way to handle this...\n",
    "from sidm.tools import ffschema, sidm_processor, utilities, scaleout\n",
    "# always reload local modules to pick up changes during development\n",
    "importlib.reload(ffschema)  #why do we need this?\n",
    "importlib.reload(sidm_processor) \n",
    "importlib.reload(utilities)\n",
    "# plotting\n",
    "import matplotlib.pyplot as plt\n",
    "import mplhep as hep\n",
    "import numpy as np\n",
    "import hist\n",
    "utilities.set_plot_style()\n",
    "%matplotlib inline"
   ]
  },
  {
   "cell_type": "code",
   "execution_count": 2,
   "id": "ce1d5427-d7d7-4dca-962d-5917ba3050f5",
   "metadata": {
    "tags": []
   },
   "outputs": [],
   "source": [
    "samples = [\n",
    "    #\"2Mu2E_100GeV_5GeV_400mm\",\n",
    "    #\"2Mu2E_100GeV_5GeV_0p4mm\",\n",
    "    #\"2Mu2E_150GeV_5GeV_2p7mm\",\n",
    "    \"2Mu2E_200GeV_0p25GeV_10mm\",\n",
    "    \"2Mu2E_200GeV_1p2GeV_48mm\",\n",
    "    \"2Mu2E_200GeV_5GeV_200mm\",\n",
    "    \"2Mu2E_1000GeV_5GeV_40mm\",\n",
    "    \"2Mu2E_1000GeV_1p2GeV_9p6mm\",\n",
    "    \"2Mu2E_1000GeV_0p25GeV_2mm\",\n",
    "     #\"2Mu2E_500GeV_5GeV_80mm\",\n",
    "    #\"2Mu2E_500GeV_1p2GeV_19mm\",\n",
    "    #\"2Mu2E_500GeV_0p25GeV_4mm\",\n",
    "    #\"2Mu2E_800GeV_5GeV_0p5mm\",\n",
    "    #\"2Mu2E_1000GeV_5GeV_0p4mm\",\n",
    "    #\"2Mu2E_1000GeV_5GeV_0p04mm\",\n",
    "    #\"2Mu2E_1000GeV_5GeV_20mm\",\n",
    "    #\"2Mu2E_100GeV_1p2GeV_9p6mm\",\n",
    "    #\"2Mu2E_1000GeV_5GeV_40mm\",\n",
    "    #\"2Mu2E_100GeV_p25GeV_400mm\",\n",
    "   # \"2Mu2E_1000GeV_5GeV_4mm\",\n",
    "    \n",
    "]\n",
    "fileset = utilities.make_fileset(samples, \"ffntuple_v4\")"
   ]
  },
  {
   "cell_type": "code",
   "execution_count": 3,
   "id": "742bfc74-710e-48dc-8abf-7174d210af2a",
   "metadata": {
    "tags": []
   },
   "outputs": [],
   "source": [
    "channels = [\n",
    "        #\"baseNoLj\",\n",
    "        #\"baseNoLj_A_ee_matched_lj\",\n",
    "        #\"baseNoLj_A_mumu_matched_lj\"\n",
    "        #\"baseNoLj_A_ee_highPtA_lowLxyA\",\n",
    "        #\"baseNoLj_A_ee_matched_lj_highPT_lowLxyA\",\n",
    "        #\"baseNoLj_A_mumu_highPtA_LxyUpto400A\",\n",
    "        #\"baseNoLj_A_mumu_matched_lj_highPT_LxyUpto400A\",\n",
    "        #\"baseNoLj_A_mumu_highPtA_lowLxyA\",\n",
    "        #\"baseNoLj_A_mumu_matched_pfMuLj_highPT_LxyUpto400A\",\n",
    "        #\"baseNoLj_A_mumu_matched_dsaMuLj_highPT_LxyUpto400A\",\n",
    "        #\"baseNoLj_A_mumu_matched_2dsaMuLj_highPT_LxyUpto400A\",\n",
    "        #\"baseNoLj_A_mumu_matched_1dsa1pfMuLj_highPT_LxyUpto400A\",\n",
    "        #\"baseNoLj_A_mumu_matched_lj_highPT_lowLxyA\",\n",
    "        #\"baseNoLj_promptA\",\n",
    "        #\"baseNoLj_displacedA\",\n",
    "        #\"baseNoLj_veryDisplacedA\",\n",
    "        #\"baseNoLj_lowLxyA\",\n",
    "        #\"baseNoLj_highPtA\",\n",
    "        #\"baseNoLj_A_ee_highPtA_Lxyto5A\",\n",
    "        #\"baseNoLj_A_ee_matched_lj_highPT_Lxy0to5A\",\n",
    "        #\"baseNoLj_A_ee_highPtA_Lxy40to77A\",\n",
    "        #\"baseNoLj_A_ee_highPtA_Lxy40to77A\",\n",
    "        #\"baseNoLj_A_ee_matched_lj_highPT_Lxy40to77A\",\n",
    "        #\"baseNoLj_A_ee_highPtA_Lxy125to135A\",\n",
    "        #\"baseNoLj_A_ee_matched_lj_highPT_Lxy125to135A\",\n",
    "        #\"baseNoLj_Lxy_upto250A\",\n",
    "        #\"2mu2e\",\n",
    "        \"baseNoLj_A_mumu_matched_2dsaMuLj_highPT_LxyUpto400A_genMu0_pT50to60\",\n",
    "        \"baseNoLj_A_mumu_highPtA_LxyUpto400A_genMu0_pT50to60\"\n",
    "        \n",
    "    ]"
   ]
  },
  {
   "cell_type": "code",
   "execution_count": 4,
   "id": "3c18119f-278d-4689-8dbd-158ccf3b05b9",
   "metadata": {
    "tags": []
   },
   "outputs": [
    {
     "data": {
      "application/vnd.jupyter.widget-view+json": {
       "model_id": "ae185940bb49453eaff4a810b27f0f98",
       "version_major": 2,
       "version_minor": 0
      },
      "text/plain": [
       "Output()"
      ]
     },
     "metadata": {},
     "output_type": "display_data"
    },
    {
     "data": {
      "text/html": [
       "<pre style=\"white-space:pre;overflow-x:auto;line-height:normal;font-family:Menlo,'DejaVu Sans Mono',consolas,'Courier New',monospace\"></pre>\n"
      ],
      "text/plain": []
     },
     "metadata": {},
     "output_type": "display_data"
    },
    {
     "data": {
      "text/html": [
       "<pre style=\"white-space:pre;overflow-x:auto;line-height:normal;font-family:Menlo,'DejaVu Sans Mono',consolas,'Courier New',monospace\">\n",
       "</pre>\n"
      ],
      "text/plain": [
       "\n"
      ]
     },
     "metadata": {},
     "output_type": "display_data"
    },
    {
     "data": {
      "application/vnd.jupyter.widget-view+json": {
       "model_id": "67e7f543d3c64ee59604aa125ba0ff10",
       "version_major": 2,
       "version_minor": 0
      },
      "text/plain": [
       "Output()"
      ]
     },
     "metadata": {},
     "output_type": "display_data"
    },
    {
     "data": {
      "text/html": [
       "<pre style=\"white-space:pre;overflow-x:auto;line-height:normal;font-family:Menlo,'DejaVu Sans Mono',consolas,'Courier New',monospace\">Not applying any cuts to the lepton jets for channel  baseNoLj_A_mumu_highPtA_LxyUpto400A_genMu0_pT50to60\n",
       "</pre>\n"
      ],
      "text/plain": [
       "Not applying any cuts to the lepton jets for channel  baseNoLj_A_mumu_highPtA_LxyUpto400A_genMu0_pT50to60\n"
      ]
     },
     "metadata": {},
     "output_type": "display_data"
    },
    {
     "data": {
      "text/html": [
       "<pre style=\"white-space:pre;overflow-x:auto;line-height:normal;font-family:Menlo,'DejaVu Sans Mono',consolas,'Courier New',monospace\">Not applying any cuts to the lepton jets for channel  baseNoLj_A_mumu_highPtA_LxyUpto400A_genMu0_pT50to60\n",
       "</pre>\n"
      ],
      "text/plain": [
       "Not applying any cuts to the lepton jets for channel  baseNoLj_A_mumu_highPtA_LxyUpto400A_genMu0_pT50to60\n"
      ]
     },
     "metadata": {},
     "output_type": "display_data"
    },
    {
     "data": {
      "text/html": [
       "<pre style=\"white-space:pre;overflow-x:auto;line-height:normal;font-family:Menlo,'DejaVu Sans Mono',consolas,'Courier New',monospace\">Not applying any cuts to the lepton jets for channel  baseNoLj_A_mumu_highPtA_LxyUpto400A_genMu0_pT50to60\n",
       "</pre>\n"
      ],
      "text/plain": [
       "Not applying any cuts to the lepton jets for channel  baseNoLj_A_mumu_highPtA_LxyUpto400A_genMu0_pT50to60\n"
      ]
     },
     "metadata": {},
     "output_type": "display_data"
    },
    {
     "data": {
      "text/html": [
       "<pre style=\"white-space:pre;overflow-x:auto;line-height:normal;font-family:Menlo,'DejaVu Sans Mono',consolas,'Courier New',monospace\">Not applying any cuts to the lepton jets for channel  baseNoLj_A_mumu_highPtA_LxyUpto400A_genMu0_pT50to60\n",
       "</pre>\n"
      ],
      "text/plain": [
       "Not applying any cuts to the lepton jets for channel  baseNoLj_A_mumu_highPtA_LxyUpto400A_genMu0_pT50to60\n"
      ]
     },
     "metadata": {},
     "output_type": "display_data"
    },
    {
     "data": {
      "text/html": [
       "<pre style=\"white-space:pre;overflow-x:auto;line-height:normal;font-family:Menlo,'DejaVu Sans Mono',consolas,'Courier New',monospace\">Not applying any cuts to the lepton jets for channel  baseNoLj_A_mumu_highPtA_LxyUpto400A_genMu0_pT50to60\n",
       "</pre>\n"
      ],
      "text/plain": [
       "Not applying any cuts to the lepton jets for channel  baseNoLj_A_mumu_highPtA_LxyUpto400A_genMu0_pT50to60\n"
      ]
     },
     "metadata": {},
     "output_type": "display_data"
    },
    {
     "data": {
      "text/html": [
       "<pre style=\"white-space:pre;overflow-x:auto;line-height:normal;font-family:Menlo,'DejaVu Sans Mono',consolas,'Courier New',monospace\">Not applying any cuts to the lepton jets for channel  baseNoLj_A_mumu_highPtA_LxyUpto400A_genMu0_pT50to60\n",
       "</pre>\n"
      ],
      "text/plain": [
       "Not applying any cuts to the lepton jets for channel  baseNoLj_A_mumu_highPtA_LxyUpto400A_genMu0_pT50to60\n"
      ]
     },
     "metadata": {},
     "output_type": "display_data"
    },
    {
     "data": {
      "text/html": [
       "<pre style=\"white-space:pre;overflow-x:auto;line-height:normal;font-family:Menlo,'DejaVu Sans Mono',consolas,'Courier New',monospace\">Not applying any cuts to the lepton jets for channel  baseNoLj_A_mumu_highPtA_LxyUpto400A_genMu0_pT50to60\n",
       "</pre>\n"
      ],
      "text/plain": [
       "Not applying any cuts to the lepton jets for channel  baseNoLj_A_mumu_highPtA_LxyUpto400A_genMu0_pT50to60\n"
      ]
     },
     "metadata": {},
     "output_type": "display_data"
    },
    {
     "data": {
      "text/html": [
       "<pre style=\"white-space:pre;overflow-x:auto;line-height:normal;font-family:Menlo,'DejaVu Sans Mono',consolas,'Courier New',monospace\">Not applying any cuts to the lepton jets for channel  baseNoLj_A_mumu_highPtA_LxyUpto400A_genMu0_pT50to60\n",
       "</pre>\n"
      ],
      "text/plain": [
       "Not applying any cuts to the lepton jets for channel  baseNoLj_A_mumu_highPtA_LxyUpto400A_genMu0_pT50to60\n"
      ]
     },
     "metadata": {},
     "output_type": "display_data"
    },
    {
     "data": {
      "text/html": [
       "<pre style=\"white-space:pre;overflow-x:auto;line-height:normal;font-family:Menlo,'DejaVu Sans Mono',consolas,'Courier New',monospace\">Not applying any cuts to the lepton jets for channel  baseNoLj_A_mumu_highPtA_LxyUpto400A_genMu0_pT50to60\n",
       "</pre>\n"
      ],
      "text/plain": [
       "Not applying any cuts to the lepton jets for channel  baseNoLj_A_mumu_highPtA_LxyUpto400A_genMu0_pT50to60\n"
      ]
     },
     "metadata": {},
     "output_type": "display_data"
    },
    {
     "data": {
      "text/html": [
       "<pre style=\"white-space:pre;overflow-x:auto;line-height:normal;font-family:Menlo,'DejaVu Sans Mono',consolas,'Courier New',monospace\">Not applying any cuts to the lepton jets for channel  baseNoLj_A_mumu_highPtA_LxyUpto400A_genMu0_pT50to60\n",
       "</pre>\n"
      ],
      "text/plain": [
       "Not applying any cuts to the lepton jets for channel  baseNoLj_A_mumu_highPtA_LxyUpto400A_genMu0_pT50to60\n"
      ]
     },
     "metadata": {},
     "output_type": "display_data"
    },
    {
     "data": {
      "text/html": [
       "<pre style=\"white-space:pre;overflow-x:auto;line-height:normal;font-family:Menlo,'DejaVu Sans Mono',consolas,'Courier New',monospace\">Not applying any cuts to the lepton jets for channel  baseNoLj_A_mumu_highPtA_LxyUpto400A_genMu0_pT50to60\n",
       "</pre>\n"
      ],
      "text/plain": [
       "Not applying any cuts to the lepton jets for channel  baseNoLj_A_mumu_highPtA_LxyUpto400A_genMu0_pT50to60\n"
      ]
     },
     "metadata": {},
     "output_type": "display_data"
    },
    {
     "data": {
      "text/html": [
       "<pre style=\"white-space:pre;overflow-x:auto;line-height:normal;font-family:Menlo,'DejaVu Sans Mono',consolas,'Courier New',monospace\">Not applying any cuts to the lepton jets for channel  baseNoLj_A_mumu_highPtA_LxyUpto400A_genMu0_pT50to60\n",
       "</pre>\n"
      ],
      "text/plain": [
       "Not applying any cuts to the lepton jets for channel  baseNoLj_A_mumu_highPtA_LxyUpto400A_genMu0_pT50to60\n"
      ]
     },
     "metadata": {},
     "output_type": "display_data"
    },
    {
     "data": {
      "text/html": [
       "<pre style=\"white-space:pre;overflow-x:auto;line-height:normal;font-family:Menlo,'DejaVu Sans Mono',consolas,'Courier New',monospace\">Not applying any cuts to the lepton jets for channel  baseNoLj_A_mumu_highPtA_LxyUpto400A_genMu0_pT50to60\n",
       "</pre>\n"
      ],
      "text/plain": [
       "Not applying any cuts to the lepton jets for channel  baseNoLj_A_mumu_highPtA_LxyUpto400A_genMu0_pT50to60\n"
      ]
     },
     "metadata": {},
     "output_type": "display_data"
    },
    {
     "data": {
      "text/html": [
       "<pre style=\"white-space:pre;overflow-x:auto;line-height:normal;font-family:Menlo,'DejaVu Sans Mono',consolas,'Courier New',monospace\">Not applying any cuts to the lepton jets for channel  baseNoLj_A_mumu_highPtA_LxyUpto400A_genMu0_pT50to60\n",
       "</pre>\n"
      ],
      "text/plain": [
       "Not applying any cuts to the lepton jets for channel  baseNoLj_A_mumu_highPtA_LxyUpto400A_genMu0_pT50to60\n"
      ]
     },
     "metadata": {},
     "output_type": "display_data"
    },
    {
     "data": {
      "text/html": [
       "<pre style=\"white-space:pre;overflow-x:auto;line-height:normal;font-family:Menlo,'DejaVu Sans Mono',consolas,'Courier New',monospace\">Not applying any cuts to the lepton jets for channel  baseNoLj_A_mumu_highPtA_LxyUpto400A_genMu0_pT50to60\n",
       "</pre>\n"
      ],
      "text/plain": [
       "Not applying any cuts to the lepton jets for channel  baseNoLj_A_mumu_highPtA_LxyUpto400A_genMu0_pT50to60\n"
      ]
     },
     "metadata": {},
     "output_type": "display_data"
    },
    {
     "data": {
      "text/html": [
       "<pre style=\"white-space:pre;overflow-x:auto;line-height:normal;font-family:Menlo,'DejaVu Sans Mono',consolas,'Courier New',monospace\">Not applying any cuts to the lepton jets for channel  baseNoLj_A_mumu_highPtA_LxyUpto400A_genMu0_pT50to60\n",
       "</pre>\n"
      ],
      "text/plain": [
       "Not applying any cuts to the lepton jets for channel  baseNoLj_A_mumu_highPtA_LxyUpto400A_genMu0_pT50to60\n"
      ]
     },
     "metadata": {},
     "output_type": "display_data"
    },
    {
     "data": {
      "text/html": [
       "<pre style=\"white-space:pre;overflow-x:auto;line-height:normal;font-family:Menlo,'DejaVu Sans Mono',consolas,'Courier New',monospace\">Not applying any cuts to the lepton jets for channel  baseNoLj_A_mumu_highPtA_LxyUpto400A_genMu0_pT50to60\n",
       "</pre>\n"
      ],
      "text/plain": [
       "Not applying any cuts to the lepton jets for channel  baseNoLj_A_mumu_highPtA_LxyUpto400A_genMu0_pT50to60\n"
      ]
     },
     "metadata": {},
     "output_type": "display_data"
    },
    {
     "data": {
      "text/html": [
       "<pre style=\"white-space:pre;overflow-x:auto;line-height:normal;font-family:Menlo,'DejaVu Sans Mono',consolas,'Courier New',monospace\">Not applying any cuts to the lepton jets for channel  baseNoLj_A_mumu_highPtA_LxyUpto400A_genMu0_pT50to60\n",
       "</pre>\n"
      ],
      "text/plain": [
       "Not applying any cuts to the lepton jets for channel  baseNoLj_A_mumu_highPtA_LxyUpto400A_genMu0_pT50to60\n"
      ]
     },
     "metadata": {},
     "output_type": "display_data"
    },
    {
     "data": {
      "text/html": [
       "<pre style=\"white-space:pre;overflow-x:auto;line-height:normal;font-family:Menlo,'DejaVu Sans Mono',consolas,'Courier New',monospace\">Not applying any cuts to the lepton jets for channel  baseNoLj_A_mumu_highPtA_LxyUpto400A_genMu0_pT50to60\n",
       "</pre>\n"
      ],
      "text/plain": [
       "Not applying any cuts to the lepton jets for channel  baseNoLj_A_mumu_highPtA_LxyUpto400A_genMu0_pT50to60\n"
      ]
     },
     "metadata": {},
     "output_type": "display_data"
    },
    {
     "data": {
      "text/html": [
       "<pre style=\"white-space:pre;overflow-x:auto;line-height:normal;font-family:Menlo,'DejaVu Sans Mono',consolas,'Courier New',monospace\">Not applying any cuts to the lepton jets for channel  baseNoLj_A_mumu_highPtA_LxyUpto400A_genMu0_pT50to60\n",
       "</pre>\n"
      ],
      "text/plain": [
       "Not applying any cuts to the lepton jets for channel  baseNoLj_A_mumu_highPtA_LxyUpto400A_genMu0_pT50to60\n"
      ]
     },
     "metadata": {},
     "output_type": "display_data"
    },
    {
     "data": {
      "text/html": [
       "<pre style=\"white-space:pre;overflow-x:auto;line-height:normal;font-family:Menlo,'DejaVu Sans Mono',consolas,'Courier New',monospace\">Not applying any cuts to the lepton jets for channel  baseNoLj_A_mumu_highPtA_LxyUpto400A_genMu0_pT50to60\n",
       "</pre>\n"
      ],
      "text/plain": [
       "Not applying any cuts to the lepton jets for channel  baseNoLj_A_mumu_highPtA_LxyUpto400A_genMu0_pT50to60\n"
      ]
     },
     "metadata": {},
     "output_type": "display_data"
    },
    {
     "data": {
      "text/html": [
       "<pre style=\"white-space:pre;overflow-x:auto;line-height:normal;font-family:Menlo,'DejaVu Sans Mono',consolas,'Courier New',monospace\">Not applying any cuts to the lepton jets for channel  baseNoLj_A_mumu_highPtA_LxyUpto400A_genMu0_pT50to60\n",
       "</pre>\n"
      ],
      "text/plain": [
       "Not applying any cuts to the lepton jets for channel  baseNoLj_A_mumu_highPtA_LxyUpto400A_genMu0_pT50to60\n"
      ]
     },
     "metadata": {},
     "output_type": "display_data"
    },
    {
     "data": {
      "text/html": [
       "<pre style=\"white-space:pre;overflow-x:auto;line-height:normal;font-family:Menlo,'DejaVu Sans Mono',consolas,'Courier New',monospace\">Not applying any cuts to the lepton jets for channel  baseNoLj_A_mumu_highPtA_LxyUpto400A_genMu0_pT50to60\n",
       "</pre>\n"
      ],
      "text/plain": [
       "Not applying any cuts to the lepton jets for channel  baseNoLj_A_mumu_highPtA_LxyUpto400A_genMu0_pT50to60\n"
      ]
     },
     "metadata": {},
     "output_type": "display_data"
    },
    {
     "data": {
      "text/html": [
       "<pre style=\"white-space:pre;overflow-x:auto;line-height:normal;font-family:Menlo,'DejaVu Sans Mono',consolas,'Courier New',monospace\">Not applying any cuts to the lepton jets for channel  baseNoLj_A_mumu_highPtA_LxyUpto400A_genMu0_pT50to60\n",
       "</pre>\n"
      ],
      "text/plain": [
       "Not applying any cuts to the lepton jets for channel  baseNoLj_A_mumu_highPtA_LxyUpto400A_genMu0_pT50to60\n"
      ]
     },
     "metadata": {},
     "output_type": "display_data"
    },
    {
     "data": {
      "text/html": [
       "<pre style=\"white-space:pre;overflow-x:auto;line-height:normal;font-family:Menlo,'DejaVu Sans Mono',consolas,'Courier New',monospace\">Not applying any cuts to the lepton jets for channel  baseNoLj_A_mumu_highPtA_LxyUpto400A_genMu0_pT50to60\n",
       "</pre>\n"
      ],
      "text/plain": [
       "Not applying any cuts to the lepton jets for channel  baseNoLj_A_mumu_highPtA_LxyUpto400A_genMu0_pT50to60\n"
      ]
     },
     "metadata": {},
     "output_type": "display_data"
    },
    {
     "data": {
      "text/html": [
       "<pre style=\"white-space:pre;overflow-x:auto;line-height:normal;font-family:Menlo,'DejaVu Sans Mono',consolas,'Courier New',monospace\">Not applying any cuts to the lepton jets for channel  baseNoLj_A_mumu_highPtA_LxyUpto400A_genMu0_pT50to60\n",
       "</pre>\n"
      ],
      "text/plain": [
       "Not applying any cuts to the lepton jets for channel  baseNoLj_A_mumu_highPtA_LxyUpto400A_genMu0_pT50to60\n"
      ]
     },
     "metadata": {},
     "output_type": "display_data"
    },
    {
     "data": {
      "text/html": [
       "<pre style=\"white-space:pre;overflow-x:auto;line-height:normal;font-family:Menlo,'DejaVu Sans Mono',consolas,'Courier New',monospace\">Not applying any cuts to the lepton jets for channel  baseNoLj_A_mumu_highPtA_LxyUpto400A_genMu0_pT50to60\n",
       "</pre>\n"
      ],
      "text/plain": [
       "Not applying any cuts to the lepton jets for channel  baseNoLj_A_mumu_highPtA_LxyUpto400A_genMu0_pT50to60\n"
      ]
     },
     "metadata": {},
     "output_type": "display_data"
    },
    {
     "data": {
      "text/html": [
       "<pre style=\"white-space:pre;overflow-x:auto;line-height:normal;font-family:Menlo,'DejaVu Sans Mono',consolas,'Courier New',monospace\">Not applying any cuts to the lepton jets for channel  baseNoLj_A_mumu_highPtA_LxyUpto400A_genMu0_pT50to60\n",
       "</pre>\n"
      ],
      "text/plain": [
       "Not applying any cuts to the lepton jets for channel  baseNoLj_A_mumu_highPtA_LxyUpto400A_genMu0_pT50to60\n"
      ]
     },
     "metadata": {},
     "output_type": "display_data"
    },
    {
     "data": {
      "text/html": [
       "<pre style=\"white-space:pre;overflow-x:auto;line-height:normal;font-family:Menlo,'DejaVu Sans Mono',consolas,'Courier New',monospace\">Not applying any cuts to the lepton jets for channel  baseNoLj_A_mumu_highPtA_LxyUpto400A_genMu0_pT50to60\n",
       "</pre>\n"
      ],
      "text/plain": [
       "Not applying any cuts to the lepton jets for channel  baseNoLj_A_mumu_highPtA_LxyUpto400A_genMu0_pT50to60\n"
      ]
     },
     "metadata": {},
     "output_type": "display_data"
    },
    {
     "data": {
      "text/html": [
       "<pre style=\"white-space:pre;overflow-x:auto;line-height:normal;font-family:Menlo,'DejaVu Sans Mono',consolas,'Courier New',monospace\">Not applying any cuts to the lepton jets for channel  baseNoLj_A_mumu_highPtA_LxyUpto400A_genMu0_pT50to60\n",
       "</pre>\n"
      ],
      "text/plain": [
       "Not applying any cuts to the lepton jets for channel  baseNoLj_A_mumu_highPtA_LxyUpto400A_genMu0_pT50to60\n"
      ]
     },
     "metadata": {},
     "output_type": "display_data"
    },
    {
     "data": {
      "text/html": [
       "<pre style=\"white-space:pre;overflow-x:auto;line-height:normal;font-family:Menlo,'DejaVu Sans Mono',consolas,'Courier New',monospace\">Not applying any cuts to the lepton jets for channel  baseNoLj_A_mumu_highPtA_LxyUpto400A_genMu0_pT50to60\n",
       "</pre>\n"
      ],
      "text/plain": [
       "Not applying any cuts to the lepton jets for channel  baseNoLj_A_mumu_highPtA_LxyUpto400A_genMu0_pT50to60\n"
      ]
     },
     "metadata": {},
     "output_type": "display_data"
    },
    {
     "data": {
      "text/html": [
       "<pre style=\"white-space:pre;overflow-x:auto;line-height:normal;font-family:Menlo,'DejaVu Sans Mono',consolas,'Courier New',monospace\">Not applying any cuts to the lepton jets for channel  baseNoLj_A_mumu_highPtA_LxyUpto400A_genMu0_pT50to60\n",
       "</pre>\n"
      ],
      "text/plain": [
       "Not applying any cuts to the lepton jets for channel  baseNoLj_A_mumu_highPtA_LxyUpto400A_genMu0_pT50to60\n"
      ]
     },
     "metadata": {},
     "output_type": "display_data"
    },
    {
     "data": {
      "text/html": [
       "<pre style=\"white-space:pre;overflow-x:auto;line-height:normal;font-family:Menlo,'DejaVu Sans Mono',consolas,'Courier New',monospace\">Not applying any cuts to the lepton jets for channel  baseNoLj_A_mumu_highPtA_LxyUpto400A_genMu0_pT50to60\n",
       "</pre>\n"
      ],
      "text/plain": [
       "Not applying any cuts to the lepton jets for channel  baseNoLj_A_mumu_highPtA_LxyUpto400A_genMu0_pT50to60\n"
      ]
     },
     "metadata": {},
     "output_type": "display_data"
    },
    {
     "data": {
      "text/html": [
       "<pre style=\"white-space:pre;overflow-x:auto;line-height:normal;font-family:Menlo,'DejaVu Sans Mono',consolas,'Courier New',monospace\">Not applying any cuts to the lepton jets for channel  baseNoLj_A_mumu_highPtA_LxyUpto400A_genMu0_pT50to60\n",
       "</pre>\n"
      ],
      "text/plain": [
       "Not applying any cuts to the lepton jets for channel  baseNoLj_A_mumu_highPtA_LxyUpto400A_genMu0_pT50to60\n"
      ]
     },
     "metadata": {},
     "output_type": "display_data"
    },
    {
     "data": {
      "text/html": [
       "<pre style=\"white-space:pre;overflow-x:auto;line-height:normal;font-family:Menlo,'DejaVu Sans Mono',consolas,'Courier New',monospace\">Not applying any cuts to the lepton jets for channel  baseNoLj_A_mumu_highPtA_LxyUpto400A_genMu0_pT50to60\n",
       "</pre>\n"
      ],
      "text/plain": [
       "Not applying any cuts to the lepton jets for channel  baseNoLj_A_mumu_highPtA_LxyUpto400A_genMu0_pT50to60\n"
      ]
     },
     "metadata": {},
     "output_type": "display_data"
    },
    {
     "data": {
      "text/html": [
       "<pre style=\"white-space:pre;overflow-x:auto;line-height:normal;font-family:Menlo,'DejaVu Sans Mono',consolas,'Courier New',monospace\">Not applying any cuts to the lepton jets for channel  baseNoLj_A_mumu_highPtA_LxyUpto400A_genMu0_pT50to60\n",
       "</pre>\n"
      ],
      "text/plain": [
       "Not applying any cuts to the lepton jets for channel  baseNoLj_A_mumu_highPtA_LxyUpto400A_genMu0_pT50to60\n"
      ]
     },
     "metadata": {},
     "output_type": "display_data"
    },
    {
     "data": {
      "text/html": [
       "<pre style=\"white-space:pre;overflow-x:auto;line-height:normal;font-family:Menlo,'DejaVu Sans Mono',consolas,'Courier New',monospace\"></pre>\n"
      ],
      "text/plain": []
     },
     "metadata": {},
     "output_type": "display_data"
    },
    {
     "data": {
      "text/html": [
       "<pre style=\"white-space:pre;overflow-x:auto;line-height:normal;font-family:Menlo,'DejaVu Sans Mono',consolas,'Courier New',monospace\">\n",
       "</pre>\n"
      ],
      "text/plain": [
       "\n"
      ]
     },
     "metadata": {},
     "output_type": "display_data"
    }
   ],
   "source": [
    "runner = processor.Runner(\n",
    "    executor=processor.IterativeExecutor(),\n",
    "    #executor=processor.FuturesExecutor(),\n",
    "    schema=ffschema.FFSchema,\n",
    "    #maxchunks=2,\n",
    "    )\n",
    "\n",
    "p = sidm_processor.SidmProcessor(\n",
    "    channels,\n",
    "    [\"gen_base\", \n",
    "    \"lepton_genLepton_base\",\n",
    "    # \"lj_base\",\n",
    "    # \"dsaMuon_base\"\n",
    "    ]\n",
    ")\n",
    "\n",
    "output = runner.run(fileset, treename=\"ffNtuplizer/ffNtuple\", processor_instance=p)\n"
   ]
  },
  {
   "cell_type": "code",
   "execution_count": 5,
   "id": "3416c5ad-d4d3-4b73-84cb-5938597a7821",
   "metadata": {
    "tags": []
   },
   "outputs": [
    {
     "ename": "KeyError",
     "evalue": "\"'baseNoLj' not in axis\"",
     "output_type": "error",
     "traceback": [
      "\u001b[0;31m---------------------------------------------------------------------------\u001b[0m",
      "\u001b[0;31mKeyError\u001b[0m                                  Traceback (most recent call last)",
      "Cell \u001b[0;32mIn[5], line 1\u001b[0m\n\u001b[0;32m----> 1\u001b[0m hist2d_den \u001b[38;5;241m=\u001b[39m \u001b[43moutput\u001b[49m\u001b[43m[\u001b[49m\u001b[38;5;124;43m\"\u001b[39;49m\u001b[38;5;124;43mout\u001b[39;49m\u001b[38;5;124;43m\"\u001b[39;49m\u001b[43m]\u001b[49m\u001b[43m[\u001b[49m\u001b[43msamples\u001b[49m\u001b[43m[\u001b[49m\u001b[38;5;241;43m0\u001b[39;49m\u001b[43m]\u001b[49m\u001b[43m]\u001b[49m\u001b[43m[\u001b[49m\u001b[38;5;124;43m\"\u001b[39;49m\u001b[38;5;124;43mhists\u001b[39;49m\u001b[38;5;124;43m\"\u001b[39;49m\u001b[43m]\u001b[49m\u001b[43m[\u001b[49m\u001b[38;5;124;43m\"\u001b[39;49m\u001b[38;5;124;43mdsaMuon_absD0_genMus_dR\u001b[39;49m\u001b[38;5;124;43m\"\u001b[39;49m\u001b[43m]\u001b[49m\u001b[43m[\u001b[49m\u001b[38;5;124;43m\"\u001b[39;49m\u001b[38;5;124;43mbaseNoLj\u001b[39;49m\u001b[38;5;124;43m\"\u001b[39;49m\u001b[43m,\u001b[49m\u001b[43m:\u001b[49m\u001b[43m,\u001b[49m\u001b[43m \u001b[49m\u001b[43m:\u001b[49m\u001b[43m]\u001b[49m\u001b[38;5;241m.\u001b[39mplot()\n",
      "File \u001b[0;32m/opt/conda/lib/python3.9/site-packages/hist/basehist.py:400\u001b[0m, in \u001b[0;36mBaseHist.__getitem__\u001b[0;34m(self, index)\u001b[0m\n\u001b[1;32m    393\u001b[0m \u001b[38;5;28;01mdef\u001b[39;00m \u001b[38;5;21m__getitem__\u001b[39m(  \u001b[38;5;66;03m# type: ignore[override]\u001b[39;00m\n\u001b[1;32m    394\u001b[0m     \u001b[38;5;28mself\u001b[39m, index: IndexingExpr\n\u001b[1;32m    395\u001b[0m ) \u001b[38;5;241m-\u001b[39m\u001b[38;5;241m>\u001b[39m Self \u001b[38;5;241m|\u001b[39m \u001b[38;5;28mfloat\u001b[39m \u001b[38;5;241m|\u001b[39m bh\u001b[38;5;241m.\u001b[39maccumulators\u001b[38;5;241m.\u001b[39mAccumulator:\n\u001b[1;32m    396\u001b[0m \u001b[38;5;250m    \u001b[39m\u001b[38;5;124;03m\"\"\"\u001b[39;00m\n\u001b[1;32m    397\u001b[0m \u001b[38;5;124;03m    Get histogram item.\u001b[39;00m\n\u001b[1;32m    398\u001b[0m \u001b[38;5;124;03m    \"\"\"\u001b[39;00m\n\u001b[0;32m--> 400\u001b[0m     \u001b[38;5;28;01mreturn\u001b[39;00m \u001b[38;5;28;43msuper\u001b[39;49m\u001b[43m(\u001b[49m\u001b[43m)\u001b[49m\u001b[38;5;241;43m.\u001b[39;49m\u001b[38;5;21;43m__getitem__\u001b[39;49m\u001b[43m(\u001b[49m\u001b[38;5;28;43mself\u001b[39;49m\u001b[38;5;241;43m.\u001b[39;49m\u001b[43m_index_transform\u001b[49m\u001b[43m(\u001b[49m\u001b[43mindex\u001b[49m\u001b[43m)\u001b[49m\u001b[43m)\u001b[49m\n",
      "File \u001b[0;32m/opt/conda/lib/python3.9/site-packages/boost_histogram/_internal/hist.py:812\u001b[0m, in \u001b[0;36mHistogram.__getitem__\u001b[0;34m(self, index)\u001b[0m\n\u001b[1;32m    811\u001b[0m \u001b[38;5;28;01mdef\u001b[39;00m \u001b[38;5;21m__getitem__\u001b[39m(\u001b[38;5;28mself\u001b[39m: H, index: IndexingExpr) \u001b[38;5;241m-\u001b[39m\u001b[38;5;241m>\u001b[39m H \u001b[38;5;241m|\u001b[39m \u001b[38;5;28mfloat\u001b[39m \u001b[38;5;241m|\u001b[39m Accumulator:\n\u001b[0;32m--> 812\u001b[0m     indexes \u001b[38;5;241m=\u001b[39m \u001b[38;5;28;43mself\u001b[39;49m\u001b[38;5;241;43m.\u001b[39;49m\u001b[43m_compute_commonindex\u001b[49m\u001b[43m(\u001b[49m\u001b[43mindex\u001b[49m\u001b[43m)\u001b[49m\n\u001b[1;32m    814\u001b[0m     \u001b[38;5;66;03m# If this is (now) all integers, return the bin contents\u001b[39;00m\n\u001b[1;32m    815\u001b[0m     \u001b[38;5;66;03m# But don't try *dict!\u001b[39;00m\n\u001b[1;32m    816\u001b[0m     \u001b[38;5;28;01mif\u001b[39;00m \u001b[38;5;129;01mnot\u001b[39;00m \u001b[38;5;28mhasattr\u001b[39m(indexes, \u001b[38;5;124m\"\u001b[39m\u001b[38;5;124mitems\u001b[39m\u001b[38;5;124m\"\u001b[39m) \u001b[38;5;129;01mand\u001b[39;00m \u001b[38;5;28mall\u001b[39m(\n\u001b[1;32m    817\u001b[0m         \u001b[38;5;28misinstance\u001b[39m(a, SupportsIndex) \u001b[38;5;28;01mfor\u001b[39;00m a \u001b[38;5;129;01min\u001b[39;00m indexes\n\u001b[1;32m    818\u001b[0m     ):\n",
      "File \u001b[0;32m/opt/conda/lib/python3.9/site-packages/boost_histogram/_internal/hist.py:726\u001b[0m, in \u001b[0;36mHistogram._compute_commonindex\u001b[0;34m(self, index)\u001b[0m\n\u001b[1;32m    724\u001b[0m         indexes[i] \u001b[38;5;241m=\u001b[39m [\u001b[38;5;28mself\u001b[39m\u001b[38;5;241m.\u001b[39m_compute_uhi_index(ind, i) \u001b[38;5;28;01mfor\u001b[39;00m ind \u001b[38;5;129;01min\u001b[39;00m indexes[i]]\n\u001b[1;32m    725\u001b[0m     \u001b[38;5;28;01melse\u001b[39;00m:\n\u001b[0;32m--> 726\u001b[0m         indexes[i] \u001b[38;5;241m=\u001b[39m \u001b[38;5;28;43mself\u001b[39;49m\u001b[38;5;241;43m.\u001b[39;49m\u001b[43m_compute_uhi_index\u001b[49m\u001b[43m(\u001b[49m\u001b[43mindexes\u001b[49m\u001b[43m[\u001b[49m\u001b[43mi\u001b[49m\u001b[43m]\u001b[49m\u001b[43m,\u001b[49m\u001b[43m \u001b[49m\u001b[43mi\u001b[49m\u001b[43m)\u001b[49m\n\u001b[1;32m    728\u001b[0m \u001b[38;5;28;01mreturn\u001b[39;00m indexes\n",
      "File \u001b[0;32m/opt/conda/lib/python3.9/site-packages/boost_histogram/_internal/hist.py:678\u001b[0m, in \u001b[0;36mHistogram._compute_uhi_index\u001b[0;34m(self, index, axis)\u001b[0m\n\u001b[1;32m    674\u001b[0m \u001b[38;5;66;03m# General locators\u001b[39;00m\n\u001b[1;32m    675\u001b[0m \u001b[38;5;66;03m# Note that MyPy doesn't like these very much - the fix\u001b[39;00m\n\u001b[1;32m    676\u001b[0m \u001b[38;5;66;03m# will be to properly set input types\u001b[39;00m\n\u001b[1;32m    677\u001b[0m \u001b[38;5;28;01mif\u001b[39;00m \u001b[38;5;28mcallable\u001b[39m(index):\n\u001b[0;32m--> 678\u001b[0m     \u001b[38;5;28;01mreturn\u001b[39;00m \u001b[43mindex\u001b[49m\u001b[43m(\u001b[49m\u001b[38;5;28;43mself\u001b[39;49m\u001b[38;5;241;43m.\u001b[39;49m\u001b[43maxes\u001b[49m\u001b[43m[\u001b[49m\u001b[43maxis\u001b[49m\u001b[43m]\u001b[49m\u001b[43m)\u001b[49m\n\u001b[1;32m    680\u001b[0m \u001b[38;5;28;01mif\u001b[39;00m \u001b[38;5;28misinstance\u001b[39m(index, \u001b[38;5;28mfloat\u001b[39m):\n\u001b[1;32m    681\u001b[0m     \u001b[38;5;28;01mraise\u001b[39;00m \u001b[38;5;167;01mTypeError\u001b[39;00m(\u001b[38;5;124mf\u001b[39m\u001b[38;5;124m\"\u001b[39m\u001b[38;5;124mIndex \u001b[39m\u001b[38;5;132;01m{\u001b[39;00mindex\u001b[38;5;132;01m}\u001b[39;00m\u001b[38;5;124m must be an integer, not float\u001b[39m\u001b[38;5;124m\"\u001b[39m)\n",
      "File \u001b[0;32m/opt/conda/lib/python3.9/site-packages/boost_histogram/tag.py:75\u001b[0m, in \u001b[0;36mloc.__call__\u001b[0;34m(self, axis)\u001b[0m\n\u001b[1;32m     74\u001b[0m \u001b[38;5;28;01mdef\u001b[39;00m \u001b[38;5;21m__call__\u001b[39m(\u001b[38;5;28mself\u001b[39m, axis: AxisLike) \u001b[38;5;241m-\u001b[39m\u001b[38;5;241m>\u001b[39m \u001b[38;5;28mint\u001b[39m:\n\u001b[0;32m---> 75\u001b[0m     \u001b[38;5;28;01mreturn\u001b[39;00m \u001b[43maxis\u001b[49m\u001b[38;5;241;43m.\u001b[39;49m\u001b[43mindex\u001b[49m\u001b[43m(\u001b[49m\u001b[38;5;28;43mself\u001b[39;49m\u001b[38;5;241;43m.\u001b[39;49m\u001b[43mvalue\u001b[49m\u001b[43m)\u001b[49m \u001b[38;5;241m+\u001b[39m \u001b[38;5;28mself\u001b[39m\u001b[38;5;241m.\u001b[39moffset\n",
      "File \u001b[0;32m/opt/conda/lib/python3.9/site-packages/boost_histogram/_internal/axis.py:652\u001b[0m, in \u001b[0;36mStrCategory.index\u001b[0;34m(self, value)\u001b[0m\n\u001b[1;32m    647\u001b[0m \u001b[38;5;250m\u001b[39m\u001b[38;5;124;03m\"\"\"\u001b[39;00m\n\u001b[1;32m    648\u001b[0m \u001b[38;5;124;03mReturn the fractional index(es) given a value (or values) on the axis.\u001b[39;00m\n\u001b[1;32m    649\u001b[0m \u001b[38;5;124;03m\"\"\"\u001b[39;00m\n\u001b[1;32m    651\u001b[0m \u001b[38;5;28;01mif\u001b[39;00m _isstr(value):\n\u001b[0;32m--> 652\u001b[0m     \u001b[38;5;28;01mreturn\u001b[39;00m \u001b[38;5;28;43mself\u001b[39;49m\u001b[38;5;241;43m.\u001b[39;49m\u001b[43m_ax\u001b[49m\u001b[38;5;241;43m.\u001b[39;49m\u001b[43mindex\u001b[49m\u001b[43m(\u001b[49m\u001b[43mvalue\u001b[49m\u001b[43m)\u001b[49m  \u001b[38;5;66;03m# type: ignore[no-any-return]\u001b[39;00m\n\u001b[1;32m    654\u001b[0m msg \u001b[38;5;241m=\u001b[39m \u001b[38;5;124mf\u001b[39m\u001b[38;5;124m\"\u001b[39m\u001b[38;5;124mindex(\u001b[39m\u001b[38;5;132;01m{\u001b[39;00mvalue\u001b[38;5;132;01m}\u001b[39;00m\u001b[38;5;124m) must be a string or iterable of strings for a StrCategory axis\u001b[39m\u001b[38;5;124m\"\u001b[39m\n\u001b[1;32m    655\u001b[0m \u001b[38;5;28;01mraise\u001b[39;00m \u001b[38;5;167;01mTypeError\u001b[39;00m(msg)\n",
      "\u001b[0;31mKeyError\u001b[0m: \"'baseNoLj' not in axis\""
     ]
    }
   ],
   "source": [
    "\n",
    "hist2d_den = output[\"out\"][samples[0]][\"hists\"][\"dsaMuon_absD0_genMus_dR\"][\"baseNoLj\",:, :].plot()"
   ]
  },
  {
   "cell_type": "code",
   "execution_count": null,
   "id": "ff87405d-d2fc-4de1-bbaf-a7ce495f65d6",
   "metadata": {
    "tags": []
   },
   "outputs": [],
   "source": [
    "ch1 =  \"baseNoLj_A_mumu_highPtA_LxyUpto400A\"\n",
    "ch2 =  \"baseNoLj_A_mumu_matched_2dsaMuLj_highPT_LxyUpto400A\""
   ]
  },
  {
   "cell_type": "code",
   "execution_count": null,
   "id": "fd49c757-7ee8-4b21-8383-e54c265ae9cc",
   "metadata": {},
   "outputs": [],
   "source": [
    "\n",
    "histograms = {\"2Mu2E_200GeV_0p25GeV_10mm\":\n",
    "              [\"genMu0_pt_dR(mu0,mu1)_XXLowRange\",\n",
    "               \"genMu1_pt_dR(mu0,mu1)_XXLowRange\",\n",
    "              \n",
    "              ],\n",
    "               \"2Mu2E_200GeV_1p2GeV_48mm\":\n",
    "              [\n",
    "              \n",
    "               \"genMu0_pt_dR(mu0,mu1)_XLowRange\",\n",
    "               \"genMu1_pt_dR(mu0,mu1)_XLowRange\",\n",
    "              ],\n",
    "              \"2Mu2E_200GeV_5GeV_200mm\":\n",
    "              [\n",
    "               \"genMu0_pt_dR(mu0,mu1)\",\n",
    "               \"genMu1_pt_dR(mu0,mu1)\",\n",
    "             \n",
    "              ],\n",
    "              \"2Mu2E_500GeV_0p25GeV_4mm\":\n",
    "              [\n",
    "               \"genMu0_ptHighRange_dR(mu0,mu1)_XXLowRange\",\n",
    "               \"genMu1_ptHighRange_dR(mu0,mu1)_XXLowRange\",\n",
    "              \n",
    "              ],\n",
    "               \"2Mu2E_500GeV_1p2GeV_19mm\":\n",
    "              [\n",
    "               \"genMu0_ptHighRange_dR(mu0,mu1)_XLowRange\",\n",
    "               \"genMu1_ptHighRange_dR(mu0,mu1)_XLowRange\",\n",
    "              ],\n",
    "              \"2Mu2E_500GeV_5GeV_80mm\":\n",
    "              [\n",
    "               \"genMu0_ptHighRange_dR(mu0,mu1)\",\n",
    "               \"genMu1_ptHighRange_dR(mu0,mu1)\",\n",
    "                  \n",
    "             \n",
    "              ],\n",
    "              \"2Mu2E_1000GeV_0p25GeV_2mm\":\n",
    "              [\n",
    "               \"genMu0_ptHighRange_dR(mu0,mu1)_XXLowRange\",\n",
    "               \"genMu1_ptHighRange_dR(mu0,mu1)_XXLowRange\",\n",
    "              \n",
    "              ],\n",
    "               \"2Mu2E_1000GeV_1p2GeV_9p6mm\":\n",
    "              [\n",
    "               \"genMu0_ptHighRange_dR(mu0,mu1)_XLowRange\",\n",
    "               \"genMu1_ptHighRange_dR(mu0,mu1)_XLowRange\",\n",
    "              ],\n",
    "              \"2Mu2E_1000GeV_5GeV_40mm\":\n",
    "              [\n",
    "               \"genMu0_ptHighRange_dR(mu0,mu1)\",\n",
    "               \"genMu1_ptHighRange_dR(mu0,mu1)\",\n",
    "              ]\n",
    "             } \n",
    "     \n",
    "hist_x_axis = [\n",
    "               r\"gen$Mu0$ $p_T$\",\n",
    "               r\"gen$Mu1$ $p_T$\",\n",
    "              ]\n",
    "hist_y_axis = [\n",
    "               r\"$\\Delta$R($\\mu$, $\\mu$)\", \n",
    "               r\"$\\Delta$R($\\mu$, $\\mu$)\",\n",
    "              ]\n"
   ]
  },
  {
   "cell_type": "code",
   "execution_count": null,
   "id": "f773b7fc-1e53-4f09-beee-fc3d50c7463e",
   "metadata": {
    "tags": []
   },
   "outputs": [],
   "source": [
    "row = len(samples)\n",
    "column = len(histograms[samples[0]])\n",
    "#fig , ax = plt.subplots(row, column, figsize =(row *12, column*10)) \n",
    "for h in range(column):\n",
    "    for s in range(row):\n",
    "    \n",
    "        \n",
    "        hist2d_den = output[\"out\"][samples[s]][\"hists\"][histograms[samples[s]][h]][ch1,:, :]\n",
    "        hist2d_num = output[\"out\"][samples[s]][\"hists\"][histograms[samples[s]][h]][ch2,:, :]\n",
    "        \n",
    "        values_den = hist2d_den.values()\n",
    "        values_num = hist2d_num.values()\n",
    "        values_ratio = values_num/(values_den)\n",
    "        \n",
    "        maximum = np.array(values_den).max()\n",
    "        \n",
    "        \n",
    "        \n",
    "        \n",
    "        fig , ax =plt.subplots(1,3, figsize =(3*12, 10))\n",
    "        plt.subplot(1, 3, 1)\n",
    "        #print(*hist2d_den.axes.edges.T)\n",
    "        #print(values_den.T)\n",
    "        mesh_den=ax[0].pcolormesh(*hist2d_den.axes.edges.T,values_den.T, vmin=0,vmax = maximum) \n",
    "        fig.colorbar(mesh_den)\n",
    "        \n",
    "        plt.subplot(1, 3, 2)\n",
    "        mesh_num=ax[1].pcolormesh(*hist2d_num.axes.edges.T,values_num.T, vmin=0,vmax=maximum) \n",
    "        fig.colorbar(mesh_num)\n",
    "        \n",
    "        \n",
    "        plt.subplot(1, 3, 3)\n",
    "        mesh = ax[2].pcolormesh(*hist2d_num.axes.edges.T, values_ratio.T, vmin = 0.0 , vmax = .5)\n",
    "        fig.colorbar(mesh)\n",
    "        for x in range(3):\n",
    "            ax[x].set_xlabel(hist_x_axis[h])\n",
    "            ax[x].set_ylabel(hist_y_axis[h])\n",
    "            ax[x].set_title(samples[s])\n",
    "            #ax[0].set_title(samples[s] + r\"\\\\n$Z_d \\rightarrow ee$\")\n",
    "            #ax[1].set_title(samples[s] + r\"\\\\n$Z_d \\rightarrow ee with $e\\gamma$ LJ nearby$\")\n",
    "            #ax[0].text(0.5, 0.5,r\"$Z_d \\rightarrow ee$ with $e\\gamma$ LJ nearby\")\n",
    "            #ax[1].text(0.5, 0.5,r\"$Z_d \\rightarrow ee$ \")\n",
    "        #plt.legend()\n",
    "        \n",
    "        "
   ]
  },
  {
   "cell_type": "code",
   "execution_count": null,
   "id": "384e287c-e01f-48e3-9cbc-3c3e3f5ddc42",
   "metadata": {
    "tags": []
   },
   "outputs": [],
   "source": []
  },
  {
   "cell_type": "code",
   "execution_count": null,
   "id": "64ab0202-d773-4700-9242-c6bd6288f625",
   "metadata": {},
   "outputs": [],
   "source": [
    "output[\"out\"][samples[0]][\"hists\"][\"dsaMuon_absD0_genMus_dR\"][channels[0],:, :].plot()"
   ]
  },
  {
   "cell_type": "code",
   "execution_count": null,
   "id": "1481f3e3-be2b-4bf5-a6dc-1b0d74ac41b2",
   "metadata": {
    "tags": []
   },
   "outputs": [],
   "source": [
    "output[\"out\"][samples[0]][\"hists\"][\"dsaMuon_absD0\"][channels[0],:].plot()"
   ]
  },
  {
   "cell_type": "code",
   "execution_count": null,
   "id": "8911ee05-e9cc-4870-8f0d-0af6fdc47100",
   "metadata": {},
   "outputs": [],
   "source": [
    "output[\"out\"][samples[0]][\"hists\"][\"genMu_genMu_dR\"][channels[0],:].plot()"
   ]
  },
  {
   "cell_type": "code",
   "execution_count": null,
   "id": "aafb5bde-0b2b-4291-ab8d-9bf6446e56e9",
   "metadata": {
    "tags": []
   },
   "outputs": [],
   "source": [
    "output[\"out\"][samples[0]][\"hists\"][\"genMu_genMu_dR\"][channels[0],:].values()"
   ]
  },
  {
   "cell_type": "code",
   "execution_count": null,
   "id": "508ba3a3-2ab1-49c6-bbe0-2fb17a523239",
   "metadata": {
    "tags": []
   },
   "outputs": [],
   "source": [
    "output[\"out\"][samples[0]][\"hists\"][\"dsaMuon_absD0\"][channels[0],:].values()"
   ]
  },
  {
   "cell_type": "code",
   "execution_count": null,
   "id": "7fc1c782-2880-4664-9afd-60d28621a62a",
   "metadata": {},
   "outputs": [],
   "source": []
  }
 ],
 "metadata": {
  "kernelspec": {
   "display_name": "Python 3 (ipykernel)",
   "language": "python",
   "name": "python3"
  },
  "language_info": {
   "codemirror_mode": {
    "name": "ipython",
    "version": 3
   },
   "file_extension": ".py",
   "mimetype": "text/x-python",
   "name": "python",
   "nbconvert_exporter": "python",
   "pygments_lexer": "ipython3",
   "version": "3.9.18"
  }
 },
 "nbformat": 4,
 "nbformat_minor": 5
}
