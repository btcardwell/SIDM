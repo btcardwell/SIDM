{
 "cells": [
  {
   "cell_type": "code",
   "execution_count": 1,
   "id": "7e4d0677-e98a-46a5-a615-0ef8a626916e",
   "metadata": {
    "tags": []
   },
   "outputs": [],
   "source": [
    "# python\n",
    "import sys\n",
    "import importlib\n",
    "# columnar analysis\n",
    "from coffea import processor\n",
    "from coffea.nanoevents import NanoAODSchema\n",
    "import awkward as ak\n",
    "from dask.distributed import Client, performance_report\n",
    "# local\n",
    "sidm_path = str(sys.path[0]).split(\"/sidm\")[0]\n",
    "if sidm_path not in sys.path: sys.path.insert(1, sidm_path)\n",
    "from sidm.tools import utilities, sidm_processor, scaleout\n",
    "# always reload local modules to pick up changes during development\n",
    "importlib.reload(utilities)\n",
    "importlib.reload(sidm_processor)\n",
    "importlib.reload(scaleout)\n",
    "import matplotlib.pyplot as plt\n",
    "utilities.set_plot_style()\n",
    "%matplotlib inline\n",
    "import mplhep as hep"
   ]
  },
  {
   "cell_type": "code",
   "execution_count": 2,
   "id": "e83cdfc6-3fe8-4097-b6d4-9d7386c51408",
   "metadata": {
    "tags": []
   },
   "outputs": [
    {
     "data": {
      "text/html": [
       "<div>\n",
       "    <div style=\"width: 24px; height: 24px; background-color: #e1e1e1; border: 3px solid #9D9D9D; border-radius: 5px; position: absolute;\"> </div>\n",
       "    <div style=\"margin-left: 48px;\">\n",
       "        <h3 style=\"margin-bottom: 0px;\">Client</h3>\n",
       "        <p style=\"color: #9D9D9D; margin-bottom: 0px;\">Client-004a42f9-dfe7-11ef-b555-c29f77113314</p>\n",
       "        <table style=\"width: 100%; text-align: left;\">\n",
       "\n",
       "        <tr>\n",
       "        \n",
       "            <td style=\"text-align: left;\"><strong>Connection method:</strong> Direct</td>\n",
       "            <td style=\"text-align: left;\"></td>\n",
       "        \n",
       "        </tr>\n",
       "\n",
       "        \n",
       "            <tr>\n",
       "                <td style=\"text-align: left;\">\n",
       "                    <strong>Dashboard: </strong> <a href=\"/user/maria.jose@cern.ch/proxy/8787/status\" target=\"_blank\">/user/maria.jose@cern.ch/proxy/8787/status</a>\n",
       "                </td>\n",
       "                <td style=\"text-align: left;\"></td>\n",
       "            </tr>\n",
       "        \n",
       "\n",
       "        </table>\n",
       "\n",
       "        \n",
       "            <button style=\"margin-bottom: 12px;\" data-commandlinker-command=\"dask:populate-and-launch-layout\" data-commandlinker-args='{\"url\": \"/user/maria.jose@cern.ch/proxy/8787/status\" }'>\n",
       "                Launch dashboard in JupyterLab\n",
       "            </button>\n",
       "        \n",
       "\n",
       "        \n",
       "            <details>\n",
       "            <summary style=\"margin-bottom: 20px;\"><h3 style=\"display: inline;\">Scheduler Info</h3></summary>\n",
       "            <div style=\"\">\n",
       "    <div>\n",
       "        <div style=\"width: 24px; height: 24px; background-color: #FFF7E5; border: 3px solid #FF6132; border-radius: 5px; position: absolute;\"> </div>\n",
       "        <div style=\"margin-left: 48px;\">\n",
       "            <h3 style=\"margin-bottom: 0px;\">Scheduler</h3>\n",
       "            <p style=\"color: #9D9D9D; margin-bottom: 0px;\">Scheduler-b010825c-a899-436d-b288-2fdea70196d5</p>\n",
       "            <table style=\"width: 100%; text-align: left;\">\n",
       "                <tr>\n",
       "                    <td style=\"text-align: left;\">\n",
       "                        <strong>Comm:</strong> tls://192.168.197.216:8786\n",
       "                    </td>\n",
       "                    <td style=\"text-align: left;\">\n",
       "                        <strong>Workers:</strong> 0\n",
       "                    </td>\n",
       "                </tr>\n",
       "                <tr>\n",
       "                    <td style=\"text-align: left;\">\n",
       "                        <strong>Dashboard:</strong> <a href=\"/user/maria.jose@cern.ch/proxy/8787/status\" target=\"_blank\">/user/maria.jose@cern.ch/proxy/8787/status</a>\n",
       "                    </td>\n",
       "                    <td style=\"text-align: left;\">\n",
       "                        <strong>Total threads:</strong> 0\n",
       "                    </td>\n",
       "                </tr>\n",
       "                <tr>\n",
       "                    <td style=\"text-align: left;\">\n",
       "                        <strong>Started:</strong> 1 hour ago\n",
       "                    </td>\n",
       "                    <td style=\"text-align: left;\">\n",
       "                        <strong>Total memory:</strong> 0 B\n",
       "                    </td>\n",
       "                </tr>\n",
       "            </table>\n",
       "        </div>\n",
       "    </div>\n",
       "\n",
       "    <details style=\"margin-left: 48px;\">\n",
       "        <summary style=\"margin-bottom: 20px;\">\n",
       "            <h3 style=\"display: inline;\">Workers</h3>\n",
       "        </summary>\n",
       "\n",
       "        \n",
       "\n",
       "    </details>\n",
       "</div>\n",
       "            </details>\n",
       "        \n",
       "\n",
       "    </div>\n",
       "</div>"
      ],
      "text/plain": [
       "<Client: 'tls://192.168.197.216:8786' processes=0 threads=0, memory=0 B>"
      ]
     },
     "execution_count": 2,
     "metadata": {},
     "output_type": "execute_result"
    }
   ],
   "source": [
    "client = scaleout.make_dask_client(\"tls://localhost:8786\")\n",
    "client"
   ]
  },
  {
   "cell_type": "code",
   "execution_count": 3,
   "id": "6a8d462c-ba14-40f1-afea-3427342a823d",
   "metadata": {
    "tags": []
   },
   "outputs": [],
   "source": [
    "samples = [\n",
    "    #\"2Mu2E_100GeV_5GeV_400mm\",\n",
    "    #\"2Mu2E_100GeV_5GeV_400mm\",\n",
    "    #\"2Mu2E_150GeV_5GeV_2p7mm\",\n",
    "    # \"2Mu2E_200GeV_0p25GeV_10p0mm\",\n",
    "    # \"2Mu2E_200GeV_1p2GeV_48p0mm\",\n",
    "     \"2Mu2E_200GeV_5p0GeV_200p0mm\",\n",
    "    # \"2Mu2E_1000GeV_0p25GeV_2p0mm\",\n",
    "    # \"2Mu2E_1000GeV_5p0GeV_40p0mm\"\n",
    "    #\"2Mu2E_500GeV_5GeV_80mm\",\n",
    "    #\"2Mu2E_800GeV_5GeV_0p5mm\",\n",
    "    #\"2Mu2E_1000GeV_5GeV_0p4mm\",\n",
    "    #\"2Mu2E_1000GeV_5GeV_0p04mm\",\n",
    "    #\"2Mu2E_1000GeV_5GeV_20mm\",\n",
    "    #\"2Mu2E_100GeV_1p2GeV_9p6mm\",\n",
    "    #\"2Mu2E_1000GeV_5GeV_40mm\",\n",
    "    #\"2Mu2E_100GeV_p25GeV_400mm\",\n",
    "   # \"2Mu2E_1000GeV_5GeV_4mm\",\n",
    "    \n",
    "]\n",
    "fileset = utilities.make_fileset(samples, \n",
    "                                 \"llpNanoAOD_v2\", \n",
    "                                 location_cfg=\"signal_2mu2e_v10.yaml\",\n",
    "                                  #max_files =10\n",
    "                                    max_files =1\n",
    "                                )"
   ]
  },
  {
   "cell_type": "code",
   "execution_count": null,
   "id": "938b31eb-8517-4617-85e6-df6312771557",
   "metadata": {
    "tags": []
   },
   "outputs": [
    {
     "name": "stdout",
     "output_type": "stream",
     "text": [
      "<sidm.tools.sidm_processor.SidmProcessor object at 0x7fa0ff38ecd0>\n",
      "[                                        ] | 0% Completed |  0.0s"
     ]
    },
    {
     "name": "stderr",
     "output_type": "stream",
     "text": [
      "/opt/conda/lib/python3.9/site-packages/dask/dataframe/_pyarrow_compat.py:17: FutureWarning: Minimal version of pyarrow will soon be increased to 14.0.1. You are using 12.0.0. Please consider upgrading.\n",
      "  warnings.warn(\n"
     ]
    },
    {
     "name": "stdout",
     "output_type": "stream",
     "text": [
      "[                                        ] | 0% Completed |  1min  5.4s"
     ]
    }
   ],
   "source": [
    "channels = [\n",
    "    # \"baseNoLj\", \n",
    "     \"baseNoLj_A_ee_highPtA_lowLxyA\",\n",
    "    #\"baseNoLj_A_ee_matched_lj_highPT_lowLxyA\",\n",
    "    #\"baseNoLj_A_ee_matched_eglj_highPT_lowLxyA\",\n",
    "    #\"baseNoLj_A_ee_matched_glj_highPT_lowLxyA\",\n",
    "    #\"baseNoLj_A_ee_matched_elj_highPT_lowLxyA\",\n",
    "    #\"baseNoLj_A_ee_matched_1elj_highPT_lowLxyA\",\n",
    "    #\"baseNoLj_A_ee_matched_2elj_highPT_lowLxyA\",\n",
    "    #\"baseNoLj_A_ee_matched_1glj_highPT_lowLxyA\",\n",
    "    #\"baseNoLj_A_ee_matched_2glj_highPT_lowLxyA\"\n",
    "    \n",
    "           \n",
    "           ]\n",
    "p = sidm_processor.SidmProcessor(\n",
    "    channels,\n",
    "    [\"electron_base\"],\n",
    "    #lj_reco_choices=[\"0.4\"],\n",
    "   \n",
    ")\n",
    "runner = processor.Runner(\n",
    "     #executor=processor.IterativeExecutor(),\n",
    "     executor=processor.DaskExecutor(client=client),\n",
    "    schema=NanoAODSchema,\n",
    "    #maxchunks=1,\n",
    "    #skipbadfiles=True,\n",
    "    savemetrics=True,\n",
    ")\n",
    "# test if processor is serializable\n",
    "import coffea.util as coffea_util\n",
    "coffea_util.save(p, \"processor.coffea\")\n",
    "print(coffea_util.load(\"processor.coffea\"))\n",
    "with performance_report(filename=\"dask-report.html\"):\n",
    "    output = runner.run(fileset, treename=\"Events\", processor_instance=p)\n"
   ]
  },
  {
   "cell_type": "code",
   "execution_count": null,
   "id": "7ae6a92f-903e-4ccc-8e08-d7931b917c99",
   "metadata": {
    "tags": []
   },
   "outputs": [],
   "source": [
    "ch1= \"baseNoLj_A_ee_highPtA_lowLxyA\"\n",
    "ch2= \"baseNoLj_A_ee_matched_lj_highPT_lowLxyA\"\n",
    "ch3= \"baseNoLj_A_ee_matched_eglj_highPT_lowLxyA\"\n",
    "ch4= \"baseNoLj_A_ee_matched_glj_highPT_lowLxyA\"\n",
    "ch5= \"baseNoLj_A_ee_matched_elj_highPT_lowLxyA\"\n",
    "ch6= \"baseNoLj_A_ee_matched_1elj_highPT_lowLxyA\"\n",
    "ch7= \"baseNoLj_A_ee_matched_2elj_highPT_lowLxyA\"\n",
    "ch8= \"baseNoLj_A_ee_matched_1glj_highPT_lowLxyA\"\n",
    "ch9= \"baseNoLj_A_ee_matched_2glj_highPT_lowLxyA\"\n",
    "    \n",
    "    "
   ]
  },
  {
   "cell_type": "code",
   "execution_count": null,
   "id": "924ae697-8c05-4d1e-8adb-d5f2a876b472",
   "metadata": {
    "tags": []
   },
   "outputs": [],
   "source": [
    "hists = output[\"out\"][\"2Mu2E_200GeV_0p25GeV_10p0mm\"][\"hists\"]\n",
    "\n",
    "utilities.plot_ratio (hists[\"genAs_toE_lxy\"][ch2, :],\n",
    "           hists[\"genAs_toE_lxy\"][ch1, :], \n",
    "          legend = [ch2, ch1])\n",
    "\n",
    "utilities.plot_ratio (hists[\"genAs_toE_lxy_highRange\"][ch2, :],\n",
    "           hists[\"genAs_toE_lxy_highRange\"][ch1, :], \n",
    "          legend = [ch2, ch1])\n",
    "utilities.plot_ratio (hists[\"genAs_toE_lxy\"][ch3, :],\n",
    "           hists[\"genAs_toE_lxy\"][ch1, :], \n",
    "          legend = [ch3, ch1])\n",
    "utilities.plot_ratio (hists[\"genAs_toE_lxy\"][ch4, :],\n",
    "           hists[\"genAs_toE_lxy\"][ch1, :], \n",
    "          legend = [ch4, ch1])\n",
    "utilities.plot_ratio (hists[\"genAs_toE_lxy\"][ch5, :],\n",
    "           hists[\"genAs_toE_lxy\"][ch1, :], \n",
    "          legend = [ch5, ch1])\n",
    "utilities.plot_ratio (hists[\"genAs_toE_lxy\"][ch6, :],\n",
    "           hists[\"genAs_toE_lxy\"][ch1, :], \n",
    "          legend = [ch6, ch1])\n",
    "utilities.plot_ratio (hists[\"genAs_toE_lxy\"][ch7, :],\n",
    "           hists[\"genAs_toE_lxy\"][ch1, :], \n",
    "          legend = [ch7, ch1])\n",
    "utilities.plot_ratio (hists[\"genAs_toE_lxy\"][ch8, :],\n",
    "           hists[\"genAs_toE_lxy\"][ch1, :], \n",
    "          legend = [ch8, ch1])\n",
    "utilities.plot_ratio (hists[\"genAs_toE_lxy\"][ch9, :],\n",
    "           hists[\"genAs_toE_lxy\"][ch1, :], \n",
    "          legend = [ch9, ch1])"
   ]
  },
  {
   "cell_type": "code",
   "execution_count": null,
   "id": "cccbeffb-a70d-4252-84d4-bb7b93b474e9",
   "metadata": {},
   "outputs": [],
   "source": [
    "hists = output[\"out\"][\"2Mu2E_200GeV_1p2GeV_48p0mm\"][\"hists\"]\n",
    "\n",
    "utilities.plot_ratio (hists[\"genAs_toE_lxy\"][ch2, :],\n",
    "           hists[\"genAs_toE_lxy\"][ch1, :], \n",
    "          legend = [ch2, ch1])\n",
    "\n",
    "utilities.plot_ratio (hists[\"genAs_toE_lxy_highRange\"][ch2, :],\n",
    "           hists[\"genAs_toE_lxy_highRange\"][ch1, :], \n",
    "          legend = [ch2, ch1])\n",
    "utilities.plot_ratio (hists[\"genAs_toE_lxy\"][ch3, :],\n",
    "           hists[\"genAs_toE_lxy\"][ch1, :], \n",
    "          legend = [ch3, ch1])\n",
    "utilities.plot_ratio (hists[\"genAs_toE_lxy\"][ch4, :],\n",
    "           hists[\"genAs_toE_lxy\"][ch1, :], \n",
    "          legend = [ch4, ch1])\n",
    "utilities.plot_ratio (hists[\"genAs_toE_lxy\"][ch5, :],\n",
    "           hists[\"genAs_toE_lxy\"][ch1, :], \n",
    "          legend = [ch5, ch1])\n",
    "utilities.plot_ratio (hists[\"genAs_toE_lxy\"][ch6, :],\n",
    "           hists[\"genAs_toE_lxy\"][ch1, :], \n",
    "          legend = [ch6, ch1])\n",
    "utilities.plot_ratio (hists[\"genAs_toE_lxy\"][ch7, :],\n",
    "           hists[\"genAs_toE_lxy\"][ch1, :], \n",
    "          legend = [ch7, ch1])\n",
    "utilities.plot_ratio (hists[\"genAs_toE_lxy\"][ch8, :],\n",
    "           hists[\"genAs_toE_lxy\"][ch1, :], \n",
    "          legend = [ch8, ch1])\n",
    "utilities.plot_ratio (hists[\"genAs_toE_lxy\"][ch9, :],\n",
    "           hists[\"genAs_toE_lxy\"][ch1, :], \n",
    "          legend = [ch9, ch1])"
   ]
  },
  {
   "cell_type": "code",
   "execution_count": null,
   "id": "e722eef8-4c89-4c90-8bf5-f8676dff156b",
   "metadata": {
    "tags": []
   },
   "outputs": [],
   "source": [
    "hists = output[\"out\"][\"2Mu2E_200GeV_5p0GeV_200p0mm\"][\"hists\"]\n",
    "\n",
    "utilities.plot_ratio (hists[\"genAs_toE_lxy\"][ch2, :],\n",
    "           hists[\"genAs_toE_lxy\"][ch1, :], \n",
    "          legend = [ch2, ch1])\n",
    "\n",
    "utilities.plot_ratio (hists[\"genAs_toE_lxy_highRange\"][ch2, :],\n",
    "           hists[\"genAs_toE_lxy_highRange\"][ch1, :], \n",
    "          legend = [ch2, ch1])\n",
    "utilities.plot_ratio (hists[\"genAs_toE_lxy\"][ch3, :],\n",
    "           hists[\"genAs_toE_lxy\"][ch1, :], \n",
    "          legend = [ch3, ch1])\n",
    "utilities.plot_ratio (hists[\"genAs_toE_lxy\"][ch4, :],\n",
    "           hists[\"genAs_toE_lxy\"][ch1, :], \n",
    "          legend = [ch4, ch1])\n",
    "utilities.plot_ratio (hists[\"genAs_toE_lxy\"][ch5, :],\n",
    "           hists[\"genAs_toE_lxy\"][ch1, :], \n",
    "          legend = [ch5, ch1])\n",
    "utilities.plot_ratio (hists[\"genAs_toE_lxy\"][ch6, :],\n",
    "           hists[\"genAs_toE_lxy\"][ch1, :], \n",
    "          legend = [ch6, ch1])\n",
    "utilities.plot_ratio (hists[\"genAs_toE_lxy\"][ch7, :],\n",
    "           hists[\"genAs_toE_lxy\"][ch1, :], \n",
    "          legend = [ch7, ch1])\n",
    "utilities.plot_ratio (hists[\"genAs_toE_lxy\"][ch8, :],\n",
    "           hists[\"genAs_toE_lxy\"][ch1, :], \n",
    "          legend = [ch8, ch1])\n",
    "utilities.plot_ratio (hists[\"genAs_toE_lxy\"][ch9, :],\n",
    "           hists[\"genAs_toE_lxy\"][ch1, :], \n",
    "          legend = [ch9, ch1])"
   ]
  },
  {
   "cell_type": "code",
   "execution_count": null,
   "id": "42cdb276-b6b0-4efd-bb2c-fbc40f5918f6",
   "metadata": {},
   "outputs": [],
   "source": []
  }
 ],
 "metadata": {
  "kernelspec": {
   "display_name": "Python 3 (ipykernel)",
   "language": "python",
   "name": "python3"
  },
  "language_info": {
   "codemirror_mode": {
    "name": "ipython",
    "version": 3
   },
   "file_extension": ".py",
   "mimetype": "text/x-python",
   "name": "python",
   "nbconvert_exporter": "python",
   "pygments_lexer": "ipython3",
   "version": "3.9.18"
  }
 },
 "nbformat": 4,
 "nbformat_minor": 5
}
