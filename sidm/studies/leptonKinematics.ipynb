{
 "cells": [
  {
   "cell_type": "markdown",
   "id": "f0d63353-8332-4d42-8c73-9a502e530131",
   "metadata": {
    "tags": []
   },
   "source": [
    "# Lepton kinematics"
   ]
  },
  {
   "cell_type": "markdown",
   "id": "42f458c1-55b8-4ca3-b969-7159332300fc",
   "metadata": {},
   "source": [
    "I want to gen-level electron and muon pT, eta, and d0 to show the range of relevant values and provide an understanding of how these quantities depend on bound state mass, dark photon mass, and dark photon proper decay length. I expect the plots produced here will end up in the AN."
   ]
  },
  {
   "cell_type": "code",
   "execution_count": 1,
   "id": "6d6d040a-f9d7-47d7-8cdb-5bd50284402f",
   "metadata": {
    "tags": []
   },
   "outputs": [],
   "source": [
    "# python\n",
    "import sys\n",
    "import os\n",
    "import importlib\n",
    "# columnar analysis\n",
    "from coffea import processor\n",
    "import awkward as ak\n",
    "from dask.distributed import Client\n",
    "# local\n",
    "sys.path.insert(1, os.path.join(sys.path[0], '../..')) # fixme: there must be a better way to handle this...\n",
    "from sidm.tools import ffschema, sidm_processor, utilities\n",
    "# always reload local modules to pick up changes during development\n",
    "importlib.reload(ffschema)\n",
    "importlib.reload(sidm_processor)\n",
    "importlib.reload(utilities)\n",
    "# plotting\n",
    "import matplotlib.pyplot as plt\n",
    "utilities.set_plot_style()\n",
    "%matplotlib inline"
   ]
  },
  {
   "cell_type": "markdown",
   "id": "fc6dfbb9-6997-49cd-95d2-f20ed37e4d56",
   "metadata": {
    "tags": []
   },
   "source": [
    "Dark photon pT and eta depend alost entirely on the bound state mass, so hold dark photon mass and ctau constant and plot pT and eta vs bound state mass."
   ]
  },
  {
   "cell_type": "code",
   "execution_count": 2,
   "id": "44aa2d1e-07ba-466a-85b8-8bb5eafcf2c8"
   "metadata": {
    "tags": []
   },
   "outputs": [
    {
     "data": {
      "application/vnd.jupyter.widget-view+json": {

       "model_id": "fa2c84df9bfb419089c9924cdae69345",

       "version_major": 2,
       "version_minor": 0
      },
      "text/plain": [
       "Output()"
      ]
     },
     "metadata": {},
     "output_type": "display_data"
    },
    {
     "data": {
      "text/html": [
       "<pre style=\"white-space:pre;overflow-x:auto;line-height:normal;font-family:Menlo,'DejaVu Sans Mono',consolas,'Courier New',monospace\"></pre>\n"
      ],
      "text/plain": []
     },
     "metadata": {},
     "output_type": "display_data"
    },
    {
     "data": {
      "text/html": [
       "<pre style=\"white-space:pre;overflow-x:auto;line-height:normal;font-family:Menlo,'DejaVu Sans Mono',consolas,'Courier New',monospace\">\n",
       "</pre>\n"
      ],
      "text/plain": [
       "\n"
      ]
     },
     "metadata": {},
     "output_type": "display_data"
    },
    {
     "data": {
      "application/vnd.jupyter.widget-view+json": {
       "model_id": "6135740580b04add92ecdf1e8a03372f",
       "version_major": 2,
       "version_minor": 0
      },
      "text/plain": [
       "Output()"
      ]
     },
     "metadata": {},
     "output_type": "display_data"
    },
    {
     "name": "stdout",
     "output_type": "stream",
     "text": [
      "Not applying any cuts to the lepton jets for channel  baseNoLj\n",
      "Not applying any cuts to the lepton jets for channel  baseNoLj\n",
      "Not applying any cuts to the lepton jets for channel  baseNoLj\n",
      "Not applying any cuts to the lepton jets for channel  baseNoLj\n",
      "Not applying any cuts to the lepton jets for channel  baseNoLj\n",
      "Not applying any cuts to the lepton jets for channel  baseNoLj\n",
      "Not applying any cuts to the lepton jets for channel  baseNoLj\n",
      "Not applying any cuts to the lepton jets for channel  baseNoLj\n",
      "Not applying any cuts to the lepton jets for channel  baseNoLj\n",
      "Not applying any cuts to the lepton jets for channel  baseNoLj\n",
      "Not applying any cuts to the lepton jets for channel  baseNoLj\n",
      "Not applying any cuts to the lepton jets for channel  baseNoLj\n",
      "Not applying any cuts to the lepton jets for channel  baseNoLj\n",
      "Not applying any cuts to the lepton jets for channel  baseNoLj\n",
      "Not applying any cuts to the lepton jets for channel  baseNoLj\n",
      "Not applying any cuts to the lepton jets for channel  baseNoLj\n",
      "Not applying any cuts to the lepton jets for channel  baseNoLj\n",
      "Not applying any cuts to the lepton jets for channel  baseNoLj\n",
      "Not applying any cuts to the lepton jets for channel  baseNoLj\n",
      "Not applying any cuts to the lepton jets for channel  baseNoLj\n",
      "Not applying any cuts to the lepton jets for channel  baseNoLj\n",
      "Not applying any cuts to the lepton jets for channel  baseNoLj\n",
      "Not applying any cuts to the lepton jets for channel  baseNoLj\n",
      "Not applying any cuts to the lepton jets for channel  baseNoLj\n",
      "Not applying any cuts to the lepton jets for channel  baseNoLj\n"

     ]
    },
    {
     "data": {
      "text/html": [
       "<pre style=\"white-space:pre;overflow-x:auto;line-height:normal;font-family:Menlo,'DejaVu Sans Mono',consolas,'Courier New',monospace\"></pre>\n"
      ],
      "text/plain": []
     },
     "metadata": {},
     "output_type": "display_data"
    },
    {
     "data": {
      "text/html": [
       "<pre style=\"white-space:pre;overflow-x:auto;line-height:normal;font-family:Menlo,'DejaVu Sans Mono',consolas,'Courier New',monospace\">\n",
       "</pre>\n"
      ],
      "text/plain": [
       "\n"
      ]
     },
     "metadata": {},
     "output_type": "display_data"
    }
   ],
   "source": [
    "samples = [\n",
    "    \"2Mu2E_100GeV_1p2GeV_9p6mm\",\n",
    "    \"2Mu2E_150GeV_1p2GeV_6p4mm\",\n",
    "    \"2Mu2E_200GeV_1p2GeV_4p8mm\",\n",
    "    \"2Mu2E_500GeV_1p2GeV_1p9mm\",\n",
    "    \"2Mu2E_800GeV_1p2GeV_1p2mm\",\n",
    "    \"2Mu2E_1000GeV_1p2GeV_0p96mm\",\n",
    "]\n",
    "fileset = utilities.make_fileset(samples, \"ffntuple_v4\")\n",
    "\n",
    "runner = processor.Runner(\n",
    "    #executor=processor.IterativeExecutor(),\n",
    "    executor=processor.FuturesExecutor(),\n",
    "    schema=ffschema.FFSchema,\n",
    "    # maxchunks=1,\n",
    ")\n",
    "\n",
    "channels = [\"baseNoLj\"]\n",
    "p = sidm_processor.SidmProcessor(\n",
    "    channels,\n",
    "    [\"base\"],\n",
    ")\n",
    "\n",
    "output = runner.run(fileset, treename=\"ffNtuplizer/ffNtuple\", processor_instance=p)\n",
    "out = output[\"out\"]"
   ]
  },
  {
   "cell_type": "markdown",
   "id": "93f3e3e7-7471-4ee1-bd09-5abc96f8888d",
   "metadata": {
    "tags": []
   },
   "source": [
    "First check that there are exactly 2 gen electrons and muons in each event"
   ]
  },
  {
   "cell_type": "code",
   "execution_count": 5,
   "id": "823db688-ce25-41f1-9fcd-83864381f533",
   "metadata": {
    "tags": []
   },
   "outputs": [
    {
     "name": "stderr",
     "output_type": "stream",
     "text": [
      "/opt/conda/lib/python3.9/site-packages/mplhep/utils.py:262: RuntimeWarning: divide by zero encountered in double_scalars\n",
      "  self.flat_scale(1 / np.sum(np.diff(self.edges) * self.values))\n",
      "/opt/conda/lib/python3.9/site-packages/mplhep/utils.py:197: RuntimeWarning: All sumw are zero!  Cannot compute meaningful error bars\n",
      "  return np.abs(method_fcn(self.values, variances) - self.values)\n",
      "/opt/conda/lib/python3.9/site-packages/mplhep/utils.py:242: RuntimeWarning: invalid value encountered in multiply\n",
      "  self.values *= scale\n",
      "/opt/conda/lib/python3.9/site-packages/mplhep/utils.py:243: RuntimeWarning: invalid value encountered in multiply\n",
      "  self.yerr_lo *= scale\n",
      "/opt/conda/lib/python3.9/site-packages/mplhep/utils.py:244: RuntimeWarning: invalid value encountered in multiply\n",
      "  self.yerr_hi *= scale\n",
      "/opt/conda/lib/python3.9/site-packages/mplhep/utils.py:262: RuntimeWarning: divide by zero encountered in double_scalars\n",
      "  self.flat_scale(1 / np.sum(np.diff(self.edges) * self.values))\n",
      "/opt/conda/lib/python3.9/site-packages/mplhep/utils.py:197: RuntimeWarning: All sumw are zero!  Cannot compute meaningful error bars\n",
      "  return np.abs(method_fcn(self.values, variances) - self.values)\n",
      "/opt/conda/lib/python3.9/site-packages/mplhep/utils.py:242: RuntimeWarning: invalid value encountered in multiply\n",
      "  self.values *= scale\n",
      "/opt/conda/lib/python3.9/site-packages/mplhep/utils.py:243: RuntimeWarning: invalid value encountered in multiply\n",
      "  self.yerr_lo *= scale\n",
      "/opt/conda/lib/python3.9/site-packages/mplhep/utils.py:244: RuntimeWarning: invalid value encountered in multiply\n",
      "  self.yerr_hi *= scale\n",
      "/opt/conda/lib/python3.9/site-packages/mplhep/utils.py:262: RuntimeWarning: divide by zero encountered in double_scalars\n",
      "  self.flat_scale(1 / np.sum(np.diff(self.edges) * self.values))\n",
      "/opt/conda/lib/python3.9/site-packages/mplhep/utils.py:197: RuntimeWarning: All sumw are zero!  Cannot compute meaningful error bars\n",
      "  return np.abs(method_fcn(self.values, variances) - self.values)\n",
      "/opt/conda/lib/python3.9/site-packages/mplhep/utils.py:242: RuntimeWarning: invalid value encountered in multiply\n",
      "  self.values *= scale\n",
      "/opt/conda/lib/python3.9/site-packages/mplhep/utils.py:243: RuntimeWarning: invalid value encountered in multiply\n",
      "  self.yerr_lo *= scale\n",
      "/opt/conda/lib/python3.9/site-packages/mplhep/utils.py:244: RuntimeWarning: invalid value encountered in multiply\n",
      "  self.yerr_hi *= scale\n",
      "/opt/conda/lib/python3.9/site-packages/mplhep/utils.py:262: RuntimeWarning: divide by zero encountered in double_scalars\n",
      "  self.flat_scale(1 / np.sum(np.diff(self.edges) * self.values))\n",
      "/opt/conda/lib/python3.9/site-packages/mplhep/utils.py:197: RuntimeWarning: All sumw are zero!  Cannot compute meaningful error bars\n",
      "  return np.abs(method_fcn(self.values, variances) - self.values)\n",
      "/opt/conda/lib/python3.9/site-packages/mplhep/utils.py:242: RuntimeWarning: invalid value encountered in multiply\n",
      "  self.values *= scale\n",
      "/opt/conda/lib/python3.9/site-packages/mplhep/utils.py:243: RuntimeWarning: invalid value encountered in multiply\n",
      "  self.yerr_lo *= scale\n",
      "/opt/conda/lib/python3.9/site-packages/mplhep/utils.py:244: RuntimeWarning: invalid value encountered in multiply\n",
      "  self.yerr_hi *= scale\n",
      "/opt/conda/lib/python3.9/site-packages/mplhep/utils.py:262: RuntimeWarning: divide by zero encountered in double_scalars\n",
      "  self.flat_scale(1 / np.sum(np.diff(self.edges) * self.values))\n",
      "/opt/conda/lib/python3.9/site-packages/mplhep/utils.py:197: RuntimeWarning: All sumw are zero!  Cannot compute meaningful error bars\n",
      "  return np.abs(method_fcn(self.values, variances) - self.values)\n",
      "/opt/conda/lib/python3.9/site-packages/mplhep/utils.py:242: RuntimeWarning: invalid value encountered in multiply\n",
      "  self.values *= scale\n",
      "/opt/conda/lib/python3.9/site-packages/mplhep/utils.py:243: RuntimeWarning: invalid value encountered in multiply\n",
      "  self.yerr_lo *= scale\n",
      "/opt/conda/lib/python3.9/site-packages/mplhep/utils.py:244: RuntimeWarning: invalid value encountered in multiply\n",
      "  self.yerr_hi *= scale\n",
      "/opt/conda/lib/python3.9/site-packages/mplhep/utils.py:262: RuntimeWarning: divide by zero encountered in double_scalars\n",
      "  self.flat_scale(1 / np.sum(np.diff(self.edges) * self.values))\n",
      "/opt/conda/lib/python3.9/site-packages/mplhep/utils.py:197: RuntimeWarning: All sumw are zero!  Cannot compute meaningful error bars\n",
      "  return np.abs(method_fcn(self.values, variances) - self.values)\n",
      "/opt/conda/lib/python3.9/site-packages/mplhep/utils.py:242: RuntimeWarning: invalid value encountered in multiply\n",
      "  self.values *= scale\n",
      "/opt/conda/lib/python3.9/site-packages/mplhep/utils.py:243: RuntimeWarning: invalid value encountered in multiply\n",
      "  self.yerr_lo *= scale\n",
      "/opt/conda/lib/python3.9/site-packages/mplhep/utils.py:244: RuntimeWarning: invalid value encountered in multiply\n",
      "  self.yerr_hi *= scale\n",
      "/opt/conda/lib/python3.9/site-packages/mplhep/utils.py:262: RuntimeWarning: divide by zero encountered in double_scalars\n",
      "  self.flat_scale(1 / np.sum(np.diff(self.edges) * self.values))\n",
      "/opt/conda/lib/python3.9/site-packages/mplhep/utils.py:197: RuntimeWarning: All sumw are zero!  Cannot compute meaningful error bars\n",
      "  return np.abs(method_fcn(self.values, variances) - self.values)\n",
      "/opt/conda/lib/python3.9/site-packages/mplhep/utils.py:242: RuntimeWarning: invalid value encountered in multiply\n",
      "  self.values *= scale\n",
      "/opt/conda/lib/python3.9/site-packages/mplhep/utils.py:243: RuntimeWarning: invalid value encountered in multiply\n",
      "  self.yerr_lo *= scale\n",
      "/opt/conda/lib/python3.9/site-packages/mplhep/utils.py:244: RuntimeWarning: invalid value encountered in multiply\n",
      "  self.yerr_hi *= scale\n",
      "/opt/conda/lib/python3.9/site-packages/mplhep/utils.py:262: RuntimeWarning: divide by zero encountered in double_scalars\n",
      "  self.flat_scale(1 / np.sum(np.diff(self.edges) * self.values))\n",
      "/opt/conda/lib/python3.9/site-packages/mplhep/utils.py:197: RuntimeWarning: All sumw are zero!  Cannot compute meaningful error bars\n",
      "  return np.abs(method_fcn(self.values, variances) - self.values)\n",
      "/opt/conda/lib/python3.9/site-packages/mplhep/utils.py:242: RuntimeWarning: invalid value encountered in multiply\n",
      "  self.values *= scale\n",
      "/opt/conda/lib/python3.9/site-packages/mplhep/utils.py:243: RuntimeWarning: invalid value encountered in multiply\n",
      "  self.yerr_lo *= scale\n",
      "/opt/conda/lib/python3.9/site-packages/mplhep/utils.py:244: RuntimeWarning: invalid value encountered in multiply\n",
      "  self.yerr_hi *= scale\n",
      "/opt/conda/lib/python3.9/site-packages/mplhep/utils.py:262: RuntimeWarning: divide by zero encountered in double_scalars\n",
      "  self.flat_scale(1 / np.sum(np.diff(self.edges) * self.values))\n",
      "/opt/conda/lib/python3.9/site-packages/mplhep/utils.py:197: RuntimeWarning: All sumw are zero!  Cannot compute meaningful error bars\n",
      "  return np.abs(method_fcn(self.values, variances) - self.values)\n",
      "/opt/conda/lib/python3.9/site-packages/mplhep/utils.py:242: RuntimeWarning: invalid value encountered in multiply\n",
      "  self.values *= scale\n",
      "/opt/conda/lib/python3.9/site-packages/mplhep/utils.py:243: RuntimeWarning: invalid value encountered in multiply\n",
      "  self.yerr_lo *= scale\n",
      "/opt/conda/lib/python3.9/site-packages/mplhep/utils.py:244: RuntimeWarning: invalid value encountered in multiply\n",
      "  self.yerr_hi *= scale\n",
      "/opt/conda/lib/python3.9/site-packages/mplhep/utils.py:262: RuntimeWarning: divide by zero encountered in double_scalars\n",
      "  self.flat_scale(1 / np.sum(np.diff(self.edges) * self.values))\n",
      "/opt/conda/lib/python3.9/site-packages/mplhep/utils.py:197: RuntimeWarning: All sumw are zero!  Cannot compute meaningful error bars\n",
      "  return np.abs(method_fcn(self.values, variances) - self.values)\n",
      "/opt/conda/lib/python3.9/site-packages/mplhep/utils.py:242: RuntimeWarning: invalid value encountered in multiply\n",
      "  self.values *= scale\n",
      "/opt/conda/lib/python3.9/site-packages/mplhep/utils.py:243: RuntimeWarning: invalid value encountered in multiply\n",
      "  self.yerr_lo *= scale\n",
      "/opt/conda/lib/python3.9/site-packages/mplhep/utils.py:244: RuntimeWarning: invalid value encountered in multiply\n",
      "  self.yerr_hi *= scale\n",
      "/opt/conda/lib/python3.9/site-packages/mplhep/utils.py:262: RuntimeWarning: divide by zero encountered in double_scalars\n",
      "  self.flat_scale(1 / np.sum(np.diff(self.edges) * self.values))\n",
      "/opt/conda/lib/python3.9/site-packages/mplhep/utils.py:197: RuntimeWarning: All sumw are zero!  Cannot compute meaningful error bars\n",
      "  return np.abs(method_fcn(self.values, variances) - self.values)\n",
      "/opt/conda/lib/python3.9/site-packages/mplhep/utils.py:242: RuntimeWarning: invalid value encountered in multiply\n",
      "  self.values *= scale\n",
      "/opt/conda/lib/python3.9/site-packages/mplhep/utils.py:243: RuntimeWarning: invalid value encountered in multiply\n",
      "  self.yerr_lo *= scale\n",
      "/opt/conda/lib/python3.9/site-packages/mplhep/utils.py:244: RuntimeWarning: invalid value encountered in multiply\n",
      "  self.yerr_hi *= scale\n",
      "/opt/conda/lib/python3.9/site-packages/mplhep/utils.py:262: RuntimeWarning: divide by zero encountered in double_scalars\n",
      "  self.flat_scale(1 / np.sum(np.diff(self.edges) * self.values))\n",
      "/opt/conda/lib/python3.9/site-packages/mplhep/utils.py:197: RuntimeWarning: All sumw are zero!  Cannot compute meaningful error bars\n",
      "  return np.abs(method_fcn(self.values, variances) - self.values)\n",
      "/opt/conda/lib/python3.9/site-packages/mplhep/utils.py:242: RuntimeWarning: invalid value encountered in multiply\n",
      "  self.values *= scale\n",
      "/opt/conda/lib/python3.9/site-packages/mplhep/utils.py:243: RuntimeWarning: invalid value encountered in multiply\n",
      "  self.yerr_lo *= scale\n",
      "/opt/conda/lib/python3.9/site-packages/mplhep/utils.py:244: RuntimeWarning: invalid value encountered in multiply\n",
      "  self.yerr_hi *= scale\n"
     ]
    },
    {
     "data": {
      "image/png": "iVBORw0KGgoAAAANSUhEUgAAA+UAAAHHCAYAAADZOPmeAAAAOXRFWHRTb2Z0d2FyZQBNYXRwbG90bGliIHZlcnNpb24zLjguMCwgaHR0cHM6Ly9tYXRwbG90bGliLm9yZy81sbWrAAAACXBIWXMAAAexAAAHsQEGxWGGAACFgElEQVR4nOzdeVhV1eL/8c85oAIyiROCYw6IOCtoZs4D4vzVrNTKzCbT6ppl2mjXssHslmbDbdJMLS29ZaKYOd1KRVC7ktOttDTR1ETKEVi/P/yxLwcOkwIb5f16nvM8nLXXXmftJZ4Pa48OY4wRAAAAAAAocU67OwAAAAAAQFnFpBwAAAAAAJswKQcAAAAAwCZMygEAAAAAsAmT8ixOnDihoKAgORwOt69bb73V7Xq51XfHz8+vQHX//PNPVa9ePde2a9eurfPnzxfp9gMAcLUj6wEApQ2T8v/v1ltvVeXKlfXHH3/kWufDDz+Uw+HQL7/8UqA2//zzzwKVZTdjxgz5+fnp6NGjudb59ddfVaFCBc2aNatAfQEAoKwj6wEApRGTcl0Mxg8//LDA9evUqVOgejfffHOh+5KcnKyHH364wPXvv//+Av3h8M9//lNOpzPHXvgqVapYderVq5fnnv/icOLECTkcDnl4eFx2W3b0HwBwZSDrLyLrAaD0YVIu5QhGp9Op48ePyxgjY4zWrFmTY53Q0NB82/36669d3i9evDjfdQYOHOjyPigoyOqHMUY7duyQ0+n6z9azZ88822zUqJHuuusuZT6Svly5clYbx48fl5eXl6SLf4B4e3vrxhtvzLefReX222+XJFWuXLnQ65YvX161a9e23tvRfwDAlYGsJ+sBoNQyZdz1119vJFkvp9Pptt6BAwdc6mUduuzl7uoYY0z9+vXzrefl5ZXr+lllrVOuXLlc6y1atMiq9+2337os+/bbb/P9nOLm7+9vJJm77767UOu99tprRpLx8vIqpp4BsIvT6TTly5d3u0yS8fT0zFF++PBhU758+RzfrU899VSun5P5/ZPfy9/fv0D9HjRoUJ45ktl/SWbNmjVGkvHx8SlQ27g8ZD1ZD6B0IeuzrVOgT7+KZf8HmTdvXq51g4KCrHoOhyPXNnILWg8Pj3zrZf9Fe//999325cYbbzRt2rQxbdq0yTPkvL29jSTTq1evPLffLg6Hw0gy586dK9R6ISEhRpLp3Llz8XQMgC2io6ONJLNjx44cy5o1a5ZrUDudTuu7uXr16qZChQrW91tSUpLbz5o2bZqpX7++9SpXrpzVRtbyadOmFbj/mZ+ZmpqaY9kXX3zh8p370ksvGUmFah+Xhqwn6wGUHmS9mzYL/OlXqbyC9VLb8PT0tH6ePn2623pZ62T93AYNGuRoz8PDwzRv3tysX7/+kvvWtGlTt8u/+OILs2jRIpe62dfN3qfrr7/eJCUlWf8xMl/Hjx/PsW5u/cmrXvXq1XOMQWBgYI51so+fu7aaNm2ao+6DDz7otk/du3d3qZfXHjAAxcNdEGefwLgLanf//2vWrGkkmRYtWhToszP/ECjo3nJ3Mo+AhoeH51gWEBBgJJn69eu79DvrxA/Fg6wn68l6oPQg63NiUl4MQR0REWH9XK1aNWOMMefOnStQULtrz93Lx8fH3H///fn2LeseJKfTabp37+52T3VqamqOX5jsoeWuH1m3IygoyBhjzI4dO6w/MLLat2+fSwAeP348RyBm72/Wz+rWrZsxxhhfX1+rzNvb23Tu3Nlt/ytWrOjSVuaeeknWHz3Z/12yf27dunXzHWMARWPSpElu/5gOCQkx5cuXtwI7e1CvXLnSSDIhISEu5QMGDLAmGwWRX1Dv2LEjx/eSn5+fS533338/34lK1klNZl5kP+UYRYusv4isJ+sBu5H17jEpz/YFfbltZA545s+ZwTF06FCXkM0rqPft22edWlGQ15o1a3Lt2+HDh3N8VuZrwIABVr3hw4cbSaZSpUrGGGOmTJli1cvcu551W7NeA9KqVSsjyVSoUMEYY0z79u2NJFO7dm2XvnTu3NlIMtWrVzfG/O+ajKpVq1rbndl+1j8mqlatmiM0s49b9v5HRkZadbKeWpIZ3pUrVzbGGHPnnXda9UaPHm3Vy9zrlrlNAIpf5h/qeXEX1FmlpqaaOXPmWN83kvvT49zJK6iz/lHv6elpKleubL3Pfq1vZnl8fLxVlnnNb/Y95YcPH3b7fYmiRdZfRNaT9YDdyPpctrlAvb+KZQ+vomoj+/use3z79euXZ1BnOnfunOnTp4/LHuXcXvl5//33Xa6Ty3xlBlGlSpWMJDN8+HBjzP+u48rc+599W7O67rrrXII085SO1157zaWej4+PkWQmTZpkjMl545fjx4+bmTNn5vhPlbm36u233zbGGPPUU09Zf/Bkyt7/zH4ePnzYpa27777b5Q+NzP9s2W/AEBUVleOPAwDFqyDfZ/kF9S233OLyHZfbNbbu5BXUmd8VzZs3d9vnlStXWmWhoaEuEwJj/pcB7vrjLsBRtMh6sp6sB0oHst49JuWFCLzDhw+b9evXW6+82sh6+lTWvenSxb25BQlqd1auXOmy18bdL0l+Dhw4YAIDA611ly5davU3c09zZjhmbTdz71H2X6jMYJ4zZ47LeGSXvdzdjV/mzJljfH19XcYv+3rBwcE5fuGz9j9zz7+7O9Vm34OfuZ3Zb/qTfZsAFL/8QrggdeLj402LFi1cviczT4fNT15BndlW1gxYv369NamJiIiw6mbuEc/6vZXXd/3lTBRRMGQ9WU/WA6UDWe9emf8rIHsY5HV30+zhkVsbxrjewCTzHz/r8tyCunz58sbhcBiHw2FCQ0Nz7UtYWJjL+t27d3dZ/sQTTxhJpk6dOvlue+be6Px+qW677TYjud6IxV3dggZ19vdZx8Tb29uEhYW5vWYjM1wPHDjgtq3MsXF3bUnmHvtBgwYVqq8Aip+U/2NDChLmmeLj4wv1f7kgQZ3bK/uRxsy8eO2118ycOXNynTwY87/vNBQfsp6sJ+uB0oGsd6/MfxN16NAhx4BnvTA/U9ZngBYkqDNvfy+53kwk8xcst6DO3lZujw/JvLYr8zVz5kyX5S1atMjzFyPrZ+V145esMve433bbbW7bMeZ/N2HI/rndunWzxsKYnDd+yfzD5rrrrnNZb+zYsUZyvd4re9+y9z/zWrLsf7xk3+as143kVg9AybnUoM68gcqNN97otn5RBnXm46myv7KfwtunTx8jXXy+cubpvFOmTHH7uUzKix9ZT9aT9UDpQNa7xzeRcb9XpFmzZmblypXmk08+MfXr18+xPOv1AwUNcEmmUaNGxpi8955nXyf7Hv2sNzXI7Zfw7bfftpZlf25f1kecVK9ePceNUx566CG3/2HcnYK2dOlSl2DOvOlK1v9IWU/py7xjYuaNXzLHMXP5vn37rPUyQ1+Sad++vTHG/Wl12ftfp04dI7neoMaY//1nyDyikHnjl4oVK7rUy9ym7OsDKF7uQrggdTLv5Jr9Zk3Tp093mRDkJ6+gzrxO7KGHHnIpzzwi5+6Oqvl9T2evh+JF1pP1WZH1gD3I+lyWF6j3V7lp06a5DdW8XlkVJqgzr9vKLaiznoJR0FdmQGWX/RS87Lf3z/xlz37jlMw92dmvzXC37Zmnj2U+p2/IkCEu7Wf/w+OJJ54wxvzvl/vOO+/M0dfc7kYbHx9v1qxZY7338vJy2//sY5h1rLP+B8+8DqVPnz5ut6lZs2buf2EAFIv8AiuzTl7PLnU6nSY4ONh4e3tbZZk3jspPXkGd9doxLy8vU61aNZfvLXey3rgr++NUsvedG70VP7KerHe3TWQ9ULLI+lyWF6j3ZUDWx5jk98p+x9DcgjrrszOzL8vr5i9ZH1GS3yuvU9aOHz9u/Pz83K6X9ZEgud34Jeue7AMHDlj/CbLK3I6lS5daZdmD1t/f3yrL/pmZe+LnzZuXo49BQUHWqXlZ62b/z5G9/8b87whA1lf2684ytzP7XVszt6kwN9QBcPkyb7qUl9yC+ttvv3X7jOWnnnqqwJ+f37NLV65cmWMCVK5cObenQRtjrOvLJJkvvvjCbR0eiVayyHqyPvs2kfVAySLr3WNSnsXhw4dzDTZJZujQoW7Xyy2Mb7zxxksK6kwNGjTItS9OpzPHdQ0AcCXLnKSMHTvW7q6UmMxr5NydEofiQdYDgH3IevccxhgjAABKAYfDIU9PT124cMHurpQIh8Mhp9Op9PR0u7sCAECJIOtzcpZgfwAAyFOfPn2Ulpam77//3u6uFLsZM2ZIkp599lmbewIAQMkh63PiSDkAoFTx8PCQp6enzp07Z3dXipXD4ZCPj4/++usvu7sCAECJIuuz1Surk/Jjx47pjTfeUI0aNVShQgVJUkREhM29AgCUJUlJSdbP586dk7e3t3r37q0qVarY2KurB1kPACgN8st7T7s6Zrc33nhDTz75pN3dAADAxfz58zVixAi7u3FVIOsBAKVV1rwvs5PyGjVqSLo4GOHh4ZfVVuaej6LY+16UbUnSyy+/rIceeuiy2ynqfjFm9rZXFsasNI+/dPWPWVGPl3T1j9mXX36pJ598UnXr1r3stnBRWcl66er//1Fav4Ol0rudpXXMSnM+M2b2tiWVzjEr6m10l/cFnpSfPXtWXl5ekqSTJ0/q7bffVkZGhoYMGaKGDRsWSQdLUuZpbOHh4WrduvVltZV5J73Lbaeo25Kk6tWrl8p+MWb2tlcWxqw0j7909Y9ZUY+XdPWPWWboe3t7X3Zbl4qsz11p/b3JdLX//yit38FS6d3O0jpmpTmfGTN725JK55gV9Ta6y/t8J+VHjx7ViBEj9J///EfJycnKyMhQ9+7dtW3bNknS888/r/Xr16tFixZF0kkAAFCyyHoAAOyT76R80qRJ2rhxo+644w5J0tq1a7Vt2za99tpr6t+/vzp16qRp06Zp8eLFxd7ZolSUp4xFRkaWyraKUlH3izGzt72yMGalefyLUmkds9I6XlLp3U47b0BG1uevtP7eFLXSup2Mmb1tFaXSnM+Mmb1tFaXSvI3usinfSflXX32lG264Qa+//rqki+fAV65cWWPHjpXT6VRMTIyWL19epB0FAAAlh6wHAMA+zvwqnDx50uU6svXr16tr165yOi+uWr16dR0/frz4eggAAIoVWQ8AgH3ynZQ3aNBAX3/9tSRpz5492r59u2JiYqzl3333nUJCQoqvhwAAoFiR9QAA2CffSfk999yjDRs2qE2bNoqKilKlSpU0ePBgHTlyRAMHDtRXX32lwYMHl0RfcQl69+5tdxeuOIxZ4TFmhceYFR5jVnzI+isf/z8Kh/EqPMas8BizwiurY5bvpPzuu+/WK6+8Ik9PTzVr1kxLlixRQECAjhw5onXr1mnEiBF68sknS6KvuARl9Rf7cjBmhceYFR5jVniMWfEh6698/P8oHMar8BizwmPMCq+sjlmBnlP+wAMP6IEHHnApa9asmVJSUoqlUwAAoGSR9QAA2CPfI+X169fXRx99lKPc4XBIkj799FO1bdu26HsGAABKBFkPAIB93B4p37Nnj3744QdJ0s8//6z169fLx8cnR72MjAzNmzdPP/30U/H2EgAAFCmyHgCA0sHtpPzjjz/W008/LYfDIYfDoXfeeUfvvPNOro2MGjWquPoHAACKAVkPAEDp4HZSPmrUKHXp0kXGGHXt2lUPPvigBg0a5LaBgIAAtWjRojj7CAAAihhZDwBA6eB2Ul67dm3Vrl1bkvT000+rb9++atOmTYl2DAAAFB+yHgCA0iHHjd42btyo5ORk6/348eN1zTXX6I8//sjzBQBFbe7cudaptZkvT09PtWjRQnfffbcOHjyYY53bb79dDodDjRs3zrPt6OhoORwOde3aNc96DodD48ePv6ztsMOrr74qh8OhAwcO2N0VlEJkPYDSgqy/dGT91SPHkfLOnTvr9ddf17333itJqly5snX31bykp6cXfe9KQFJSktX3yMhIm3sDwJ0HHnhADRs2lCT99ddf2rZtmxYuXKjPP/9cy5YtU7t27XKsk3kTqyZNmuRYlpKSorVr1xZ7v68GBw4c0AcffKBhw4YpPDy8UOumpKToH//4h3r16qVrr722mHp4ZYuPj7d+3r17d4l9LlkPoLQh6+1D1he//PI+x6R81KhRLnudnnrqqQIFNQAUl8GDB6tz584uZUlJSYqJidGIESO0Z88eeXh4WMsqVKig8uXL67PPPnMb1F9++aXOnz+vqlWrFnvfr3T79+/X008/raZNmxY6qE+ePKmnn35avr6+BHUpQ9YDKG3IevuQ9fbLMSl/7733XN4/9dRTJdYZO0RERKh169Z2dwNAIUVERGj69OkaMWKEPv74Yw0fPtxaVq5cOfXt21efffaZHn/88RzrLlu2TG3btlVaWlpJdhnIIetR26x/bBY3sh7AlYCsx9Uiv7zPcU05AFwpbrjhBgUFBWnx4sU5lg0ePFjbtm3Tzz//7FJ+7tw5xcbGavDgwYX6rM8++0wdOnRQQECA2rVrp3nz5uWos3HjRvXo0UNVqlRR7dq19X//93/at2+fS5169eqpf//+OdbNXt61a1f16dNHP/30k0aMGKEaNWooNDRU999/v86ePeuyblxcnDp37qzAwEC1bNlSM2fOlDGmQNv11ltvqWXLlvL19VXNmjU1atQoHTlyRJI0depUdenSRZI0dOhQ1atXz1pv/fr16tGjh6pWrSofHx81atRITzzxhC5cuCDp4jWCdevWlSRNnDjR5Shsenq6pk2bptatW6tixYoKCwvTs88+a62bm/Xr18vhcGjz5s2aOHGiGjVqpNDQUI0fP14ZGRlasGCBrr32Wvn5+ally5Zav369y/o///yzRo4cqZo1a8rLy0u1a9fWqFGjdOjQIZd627ZtU//+/VW9enUFBATouuuu05o1awpdBwBw+cj6i8j6qzzrTT5OnDhhRo4caYKDg42/v7/bV0BAQH7NlDoJCQlGkklISLC7KwBy8cEHHxhJZt26dbnWiYqKMq1atbLejxo1yvj6+prU1FRToUIF8/LLL7vU/+KLL4wk88MPP5iWLVuaLl265NkHSSY8PNxUrFjRjB071jzxxBMmLCzMSHJpe9myZcbDw8M0bNjQPP744+ahhx4yVatWNb6+vuY///mPVa9u3bqmX79+OT4ne3mXLl1Mu3btTJ06dczw4cPNc889Z9q1a2ckmSlTplj1Fi9ebJxOp7nmmmvMY489Zh588EETEBBg6tSpYySZ/fv357pt//jHP4wk07FjR/PUU0+Z4cOHm/Lly5tu3boZY4zZsmWLeeCBB4wkc8cdd5i5c+caY4zZvXu38fb2NnXr1jVPPfWUefzxx821115rJJlHH33UGGPMrl27zNSpU40kM2jQIDN79mzrc6Ojo025cuXM6NGjzfTp083AgQONJNO/f/88/y3WrVtnJJk2bdqYzp07m+eee8507NjRSDLdunUzQUFBZsqUKeaBBx4w5cqVM9WqVTPnz583xhhz/vx5ExYWZnx9fc2DDz5onnvuOTNw4EDjdDpN+/btrc/Yv3+/CQgIMKGhoWbcuHFm4sSJpk6dOsbLy8vs3bu3wHUuhZ25RNYDsAtZT9ZndbVnvTHusynfSfmtt95qHA6Hadasmbn11lvN7bff7vZ1pSGogdKvIEE9ePBgExgYaL3PDGpjjOnXr5+57rrrXOqPHj3ahIWFGWNMgYNaklm+fLlVdurUKRMREWECAwNNSkqKuXDhgmnQoIFp2LChSUlJser9/PPPxsfHxwwYMMAqK0xQSzIvvPCCVfbXX3+ZKlWqmKioKGPMxfCpV6+eqVu3rjl+/LhVb9u2bcbDwyPfoI6MjDQtW7Z0Kbv33ntN1apVzV9//WWM+V84LlmyxKrzyiuvGEnmm2++scoyMjJMWFiYiYyMtMr2799vJJkZM2ZYZZ9++qlxOBxm1apVLp/7wgsvGEnmyy+/zLW/mX3p3LmzSU9PN8YYc+TIEeN0Oo3T6TTx8fFW3ZtuuslIMnv27LHGRJJ57rnnXNq86667jMPhMKmpqcYYY15//XUjyWzbts2qs2HDBlOlShXz3nvvFbjOpbAzl8h6AHYh68n6rK72rDfGfTa5fU55VitXrlTv3r21YsUKbgIDoNTJ63vp//7v/3THHXcoOTlZwcHBysjI0BdffKExY8YU6jOaN2+uvn37Wu/9/Pw0ceJE3X777dq6dauqV6+u//73v3rttdfk7+9v1atbt66GDx+uuXPnKiMjQ05n4a4YKl++vB544AHrvY+Pj8LDw61HU+3evVs///yzZs6cqaCgIKtey5Yt1b9/fy1btizP9suVK6ddu3Zp9+7d1k2/5syZozlz5uS53pgxY3TzzTerevXqVllaWprOnDmjcuXK5bnukiVL1KBBA0VERLicSjZ48GBNnjxZa9asUUxMTJ5tDB8+3BrLatWqKTw8XA6HQ23btrXqdO7cWYsWLdKZM2ckSU2aNFFycrLLOElSamqqjDE6d+6cfH19rf6vWLFCLVq0kMPh0PXXX6/ff//dWqcgda40ZD2A0oysJ+uv9qzP97fGx8dHXbt2JaQBlEoHDx50uf4pqwEDBsjpdFqB9e9//1u///57oa8xa968eY6yFi1aSJJ+/PFH/fjjj5Lk9u6vTZo00YULF/Trr78W6jMlqXbt2qpQoYJLWdabg/z3v//NtX/uyrKbNm2aypUrpyZNmqh169b629/+pq+++irfx175+vrK4XDon//8p+6//3717dtXtWrV0i+//JLvZ+7du1f79u1TzZo1XV6NGjVSRkaGdY1bXipXruzyvly5cqpSpUqOsqzKly+vgIAA/etf/9KkSZM0dOhQhYWFaeHChS71RowYoeuuu06PPfaYQkJCNHz4cL377rs6fvx4oepcach6AKUZWU/WX+1Zn++kvGfPnvrmm2+K5cMB4HJcuHBB//3vf62bjGRXuXJlderUSZ999pkkaenSpapZs6bLXtZLZf7/zVW8vLysn91NaDL38uZ399fsN3TJbDsvee2pLsjkqmvXrvrxxx/1zjvv6JprrtG8efPUs2dPRUZG6sSJE7mut27dOkVEROjJJ5/UsWPH1L59e73zzjsFehRKenq6mjZtquXLl7t9/e1vf8u3jUvx66+/qkOHDrr11lv1ww8/WDerGT9+vEs9Hx8fbdy4UatXr9YNN9ygHTt2aMyYMapXr54+//zzAte50pD1AEorsp6sL6grOevzPX19+vTp6tOnj+6//3499NBDqlOnTpF3AgAuxSeffKITJ05o6NChudYZPHiwJkyYoBMnTmjZsmUaNGhQoY8GJiUl5Sjbvn27JKl+/frWaWw//PCDunXrlmPdcuXKuXx3ZmRkuNT5888/C7TXOLtrrrlGkvT999+re/fu+fY5q4yMDP3nP/9R9erVNXr0aI0ePVppaWmaM2eOHnjgAb399tt69NFH3a47efJk1alTR998843L3v1nnnkm3z43aNBAW7ZscTlFUJLOnz+v+Ph41ahRI982LsWcOXO0Z88e7d69W7Vr17bKv//+e5d6+/fv1+nTp9WjRw/16NFDkrRz50716tVLjzzyiAYMGFCgOlcash5AaUXWk/UFdSVnfb5Hyjt16qQTJ05o9uzZuuaaa+Tt7a2AgACXV2BgYJF2CgDyk5SUpMmTJ6tBgwa68cYbc603ePBgpaen6+9//7v2799f6NPZpIuPxIiNjbXenzp1SjNmzFCdOnUUGRmpxo0bq379+po1a5ZSU1Otej///LM++ugj9erVS56eF/eB+vj4aNeuXS6njc2ZM6fAjzXJKiwsTI0aNdJrr71mXXsmXRybf/3rX3mu63Q6df311+vOO++0yjw9PTVw4EBJOf+YyPp+165dCgoKcgnp+Ph4bdu2Lcd62dft16+ffvnllxynks2ZM0cdO3bUwYMH8+z3pdq1a1eOU9+OHz+uTz/91KWPL7/8spo3b+7yh1PTpk3VuHHjQtW50pD1AEojsp6sL4wrOevzPVIeFRUlh8OhTp06FfmHA0BBLF26VDt37pQk/fXXX9q2bZu+/PJLVaxYUUuWLHG59iq7zFPYXnvtNQUFBV3Sd1nbtm2tG8lUrlxZH3/8sfbt26cFCxZYp5W99NJLGjp0qCIjI3XjjTfq9OnTmjt3rpxOp1544QWrre7du2vWrFkaMGCA+vfvr+3bt2vZsmUKDw8vdL88PDz0/PPPa+jQoWrbtq1uvvlmnT17Vu+9956ioqLyPR154MCBmj9/vnr16qVrr71WR44c0YoVK+Tn56chQ4ZIkgICAiRJH374oRwOh4YOHaquXbtq2bJlGjlypJo1a6Y9e/bo008/VZ06dbR3715Nnz5dkydPlq+vr3WdX5UqVXT77bfrlltu0ZtvvqlbbrlFq1atUqNGjbRp0yatWLFCN910k6Kiogo9DgXRtWtX/etf/1Lfvn3Vo0cP/fHHH5o/f751M5hHH31U06dP16BBgzR79mxdd9116tOnjwICArR+/Xr9+9//1nPPPSdJBapzpSHrAdiNrHePrC+4KzrrL+t+7lcwHpMClH6Zj0nJ+nI6naZZs2bmzjvvNL/++muOdbI+JiXT9OnTjSRz2223uZQX9DEps2fPNu+++65p27at8ff3N506dTKxsbE56q5fv95069bNVK5c2YSGhprBgwebffv2udT5888/zd13322qV69uqlevbv7v//7P/PDDD6ZHjx45HpPStGnTHJ/hrnz16tWmc+fOJiAgwDRr1sy8+OKLJjY2Nt/HpKSkpJgJEyaYevXqmQoVKpiQkBAzePBgk5iY6FLvtttuMwEBAdYzYo8ePWpGjBhhqlataqpWrWr69u1rEhISzI4dO0zjxo1dHpUyefJkU7VqVRMUFGSVnT171kyaNMk0bdrU+Pj4mPDwcPP888+bc+fO5dpXY9w/ssUY9/+O77zzjpFktm/fbowxJj093TzxxBOmdu3axs/Pz3Ts2NEsXLjQ/PXXX6Zbt26mZs2a1nNHFy5caNq2bWsCAgKMv7+/adOmjXnrrbdc2i9IncIil4oeYwqUfmQ9WZ/V1Z71xrjPJocxl3AexVUgMTFRbdq0UUJCglq3bm13dwAAZRy5VPQYUwBAaeMum/I9fT3zUQD52bFjx+X1DgAA2IKsBwDAPvlOyoOCgnLcvfDs2bP66aefdPToUbVr107NmjUrtg4CAIDiRdYDAGCffCfla9euzXXZJ598onvuuUczZ84s0k4BAICSQ9YDAGCffCfleRk2bJi2bt2q5557Tl988UVR9alEJSUlWY8riIyMtLk3AICyJD4+3vp59+7dNvYkd2Q9AACXJ7+8z/c55fm55ppr9N13311uMwAAoJQi6wEAKD6XdaT8r7/+0vz581WxYsWi6k+Ji4iI4I6sAABbZD1qm9czeO1E1gMAcHnyy/tLvvt6RkaGDhw4oL/++kuTJ0++jC4CAAA7kfUAANjnku6+nqlOnTrq3r27HnjggSLvGAAAKBlkPQAA9rmsu68DAIArH1kPAIB9LvtGbwAAAAAA4NIwKQcAAAAAwCZMygGgkBo3bqwdO3a4lG3cuFEdO3ZUYGCgOnXqpISEBJflqampGjlypKpXr67w8HC99NJLbtv++OOPNWDAANWqVUuBgYGKjIzUnDlzdP78+QL3b//+/XI6nZo7d67b5QMGDFCHDh0K3B4AAGUNWY+SxKQcAArowoULevHFF7Vnzx6X8r179yo6OlodO3ZUXFycmjVrpu7du+vQoUNWncGDB2vfvn1avHixnnrqKT3zzDOaPXu2tdwYo9tvv12jR49WVFSUFixYoLi4OA0ZMkSTJ0/WDTfcoLS0tAL1s27duurYsaMWLVqUY1lqaqri4uJ00003XeIoAABw9SLrYQtTRiUkJBhJJiEhwe6uALgCzJkzx3h5eRlJRpLZvn27tWzixImmQ4cO1vuMjAwTERFhpk+fbowxZufOnUaS2bt3r1XnxRdfNGFhYdb7uXPnmgoVKpgdO3bk+Oy1a9caSeaTTz4pcH/ffPNN4+npaY4ePepSvmDBAuN0Os3hw4cL3BZKBrlU9BhTAIVB1qMkuMumfI+U33PPPdq4cWNx7RMAgByMMbqQnlFsL2NMofs0dOhQbd26VatWrcqxbPXq1YqJibHeOxwORUdHKy4uzlreoEEDNWzY0KrTp08f7dmzR7/88osk6cknn9R9992n5s2b52i/S5cuWrFihRo1amSVnTp1Svfcc49q164tf39/xcTEaP/+/dbyG264QU6nU59++qlLW0uWLFHXrl0VHBxc6DHA1YusB1DSyHpXZH3Zlu8j0ebOnat//vOfCg0N1c0336ybb75ZLVu2LIGuASir0jKMGj4WW2zt73u2j8p5uH8mc26qVq2qqlWrytfXN8ey5ORkhYaGupSFhoYqNjY2z+WSdOTIEfn6+urAgQPq1atXrp/fp08fl/cDBw5UuXLlNH/+fFWoUEEzZ85UdHS0vv32WwUFBSkoKEgxMTFauHCh7rnnHknS6dOnFRsbq9dee61Q246rH1kPoKSR9TmR9WVXvpPyY8eOadmyZfr444/16quvasaMGWrUqJFGjhypm266SfXr1y+JfgIoQzydDu17tk/+FS+j/aJ04sSJHAHu5+enY8eO5blcklVHkmrXru1Sp0WLFtq7d6/1vnnz5tq8ebM2btyo+Ph4HT16VD4+PpKkBQsW6JprrtH8+fN1//33S5JGjBihYcOG6eDBg6pZs6ZWrFihtLQ0DRkypIi2HFcLsh5ASSPrLyLrIRXgRm8VK1bUiBEj9Pnnn+vo0aN69913VbduXU2dOlWNGjVS+/btNWvWLCUnJ19WR6ZOnaqGDRsqJCREY8aM0ZkzZ3Ktu2vXLnXv3l2BgYFq166dVq5cmWvdr776Sk6nUykpKZfVPwAlx+FwqJyHs9heDkfRBnVQUJBSU1NdylJSUlSpUqU8l0tSpUqVrD3pWW8WI0nLli3T9u3btX37dt1yyy3WXVm///57nT59WpUrV5a3t7e8vb3l6+urX3/9VQcOHLDW79evn/z9/fXJJ59Iung6W3R0tNUvIBNZD6CkkfUXkfWQCnn3dX9/f40aNUqxsbHasGGDmjRpoi1btuiBBx5QrVq11LNnT33xxReF7sS0adM0a9YsvfTSS5o/f742bdqkW265xW3dP/74Q507d1bt2rUVFxenvn37auDAgUpMTMxR9/jx47rtttsu6ZoSACio4OBgHTx40KXs0KFDqlGjRp7LJalGjRoKCQlRUFCQ1q1b51KnXr16CgsLU1hYmMtkKC0tTSEhIVaIZ7527dqlRx55xKrn5eWloUOHatGiRTp79qy+/PJL3XzzzUW56bgKkfUAkBNZj2JVmDvFxcfHm8cee8xEREQYp9NpPDw8zPXXX29eeeUV89RTT5l69eoZp9Nppk2bVuA2L1y4YIKDg83bb79tlW3ZssU4nU5z8ODBHPVnz55tatWqZdLS0qyymJgYc/fdd+eoO2jQINOsWTMjyZw8edJlGXdkBXAp9u/f7/aOrO3bt7feZ2RkmPDwcPPss88aY/53R9bdu3dbdZ5//nnTsGFD6/306dONj4+PS51M8fHxxsPDw7Rs2dIYY0xcXJzx9PR0+Y48deqUGTNmjNm2bZvLul9//bWRZF566SXj4+NjUlNTL28AUGxKSy6R9QDKOrIexcldNuU7KV+9erW57777TM2aNY3T6TTly5c3vXv3Nm+99ZY5cuSIS90LFy6YHj16mEqVKhW4U9u2bTOSXH7hMjIyTJUqVczcuXNz1B84cKAZM2aMS9msWbNMvXr1XMrefvtt07BhQ7N8+XKCGkCRcRfUe/bsMT4+PmbSpElmy5Yt5t577zUBAQHmt99+s+r06NHDREVFmQ0bNpgFCxYYX19fM2fOHGv5+fPnTdeuXY2vr6+ZPn262bBhg9m0aZN5/vnnTUhIiOnVq5cV1BkZGaZNmzamffv2Zu3atWbt2rWmf//+platWjmCOD093dSsWdN4eXmZG2+8sZhHB5fDzlwi6wHgf8h6FCd32ZTvjd569eolb29v9e7dW//3f/+n/v37KyAgwG1dT09PderUyboWoiCSk5PlcDisUz+ki9eYhISE6MiRI27rZ78jbGhoqEvdvXv36uGHH1ZcXFye16sBQFFo1KiRYmNj9eijj+qNN95QixYttHbtWpfvtc8++0z33HOPhgwZoqCgID399NO69957reXlypXTV199pVmzZunTTz/V888/r6pVq6pt27Zav369Dh8+bN3UxeFwKDY2VhMmTNDw4cN15swZderUSWvWrMlxkxmn06nhw4frxRdf5HQ25IqsB4C8kfUoTg5j8r4I67PPPlN0dLR117+itmDBAt111136888/Xco7duyo6667Ti+88IJLeaNGjXTXXXdp4sSJVtlXX32lnj176vTp0/L09NS1116rQYMG6fHHH9f69evVpUsXnTx50uUPjMTERLVp00bDhw9X9erV3fatd+/e6t27dxFuLQCgLFu1apXb599KFx+Zs2DBAiUkJKh169Yl2i+ynqwHABSdwuZ9vkfKx44dq4cfflgPPfRQ0fb0/wsKCtLp06eVnp4uDw8Pqzzr3Qyz13d3Z8MKFSrI29tbjz/+uLy8vDR58uQCff5DDz1U4n/8AADKprwmgImJiVqwYEEJ9+gish4AgKJT2LzP9+7rrVu31oYNG4qmd24EBwfLGKPffvvNKst8n/V0kKz187rz4TfffKPNmzfL19dX3t7e6tWrlySpevXqGj16dLFtBwAAVyqyHgAA++Q7KZ81a5Z27typZ555RkePHi3yDjRt2lTBwcFasWKFVbZlyxadPHlS3bp1y1G/Z8+eiouLU3p6ulUWGxurnj17SpLmzZunnTt3Wo8NeOeddyRJGzdu1LPPPlvk/QcA4EpH1gMAYJ98T18fPHiwMjIyNHXqVE2dOlXlypVThQoVXOo4HA6dPHny0jrg6alx48ZpypQpCg4Olp+fn8aPH6+hQ4eqVq1aSk1N1dGjRxUaGiovLy8NHz5cU6dO1ZgxY3TvvfcqNjZWX3/9tTZv3ixJqlWrlkv7mc/7a9SoUa43rQEAoCwj6wEAsE++k/I2bdrI4XAUaycee+wxnT9/XhMmTNDp06fVr18/zZo1S9LFm8+MGjVK69atU+fOnVWpUiWtW7dO48aNU69evRQWFqYvvvgix11aAQBAwZD1AADYJ9+7r1+tMu/IasddbgEAyI5cKnqMKQCgtHGXTfleU56fpUuXujyyBAAAXF3IegAAik++p69LUlxcnL7++mudOXPGpTwjI0NffPGF0tLSNGPGjGLpIAAAKH5kPQAA9sh3Uv7hhx9q1KhRyjzL3eFwKOsZ70FBQXrttdeKr4cAAKBYkfUAANinQI9Eq1+/vn777Tft3r1bPj4++vbbb/XXX39p5syZqlChQq4PRgeAq1Hjxo21Y8eOQq2TmpqqkSNHqnr16goPD9dLL73ktt7HH3+sAQMGqFatWgoMDFRkZKTmzJmj8+fPF/iz9u/fL6fTqblz57pdPmDAAHXo0KFQ/cfVjawHAFdkPUpSvpPyffv2qW/fvgoODlajRo3Utm1bfffdd/L29taDDz6oVq1aafLkySXRVwCw1YULF/Tiiy9qz549LuVnzpyRj4+PvL29XV5Tp0616gwePFj79u3T4sWL9dRTT+mZZ57R7NmzreXGGN1+++0aPXq0oqKitGDBAsXFxWnIkCGaPHmybrjhBqWlpRWon3Xr1lXHjh21aNGiHMtSU1MVFxenm2666RJHAVcjsh4ALiLrYYd8T1/PyMhQSEiI9b5hw4Yuv6TXX3+93nnnneLpHQCUEm+88YYmTJigs2fP5li2d+9enTlzRomJifLx8bHKK1euLElKSkrSmjVrtHfvXjVs2FCS9Ouvv2r27NkaN26cpIunDy9cuFBbtmxR8+bNrTaioqLUvn17de3aVUuXLtUNN9xQoP6OGDFC48aN0++//66qVata5cuXL9eFCxc0bNiwwg8CrlpkPQCQ9bBPvkfK69evr+XLl+v06dOSLp7K8e9//9tafujQIf3+++/F10MAKAWGDh2qrVu3atWqVTmW7d69W7Vr11arVq0UFhZmvapUqSJJWr16tRo0aGCFtCT16dNHe/bs0S+//CJJevLJJ3Xfffe5hHSmLl26aMWKFWrUqJFVdurUKd1zzz2qXbu2/P39FRMTo/3791vLb7jhBjmdTn366acubS1ZskRdu3ZVcHDwZY0Hri5kPQCQ9bBPvpPye++9Vxs3blTdunWVkpKiPn36aO/evXrwwQf1/PPP66OPPlKbNm1Koq8AygpjpPQLxffKcgOrgqpataoiIiIUFhaWY9nu3buta26rVKmili1batasWcrIyJAkJScnKzQ01GWdzPdHjhzRiRMndODAAfXq1SvXz+/Tp49atGhhvR84cKB++uknzZ8/X6tXr5afn5+io6N14sQJSRdvzBUTE6OFCxda65w+fVqxsbGczoYcyHoAJY6sz4GsL7vyPX39zjvvVIUKFbR06VIZYxQeHq4XX3xRkyZN0oULF1SjRg3NnDmzJPoKoKzISJP+XqX42n/imORRrsia2717t37//Xc9+uijevbZZ/Xtt99q8uTJ+uuvv/Too4/qxIkT8vX1dVnHz89PknTs2DGrrHbt2i51WrRoob1791rvmzdvrs2bN2vjxo2Kj4/X0aNHrVPoFixYoGuuuUbz58/X/fffL+niaW3Dhg3TwYMHVbNmTa1YsUJpaWkaMmRIkW07rg5kPYASR9ZLIutxUYGeU37rrbfq1ltvtd4/+OCDGjNmjH788Uc1btxYFSpUKLYOFrekpCSlp6dLkiIjI23uDQBJktPzYpgWZ/tFaNasWSpfvrz8/f0lSW3bttWpU6f02muv6dFHH1VQUFCOG8akpKRIkipVqmTtST906JDCw8OtOsuWLbPuxPryyy8rPj5ekvT999/r9OnT1nVsmc6dO6cDBw5Y7/v16yd/f3998sknmjBhgpYsWaLo6GhVqlSpSLcfly7z31S6+Aefnch6ACWKrJdE1pcV+eV9vr+tkZGRGjt2rG6//XaXcl9fX5fTKwCgyDgcRbp3u7hlXk+WVevWrZWcnKwLFy4oODhYBw8edFl+6NAhSVKNGjUUEhKioKAgrVu3Tj169LDq1KtXz/o5OTnZ+jktLU0hISFas2ZNjs8NDAy0fvby8tLQoUO1aNEijR07Vl9++aXefvvtS95OXL3IegAljqyXRNbjonyvKa9YsaK++uqrkuiLLSIiIhQZGcmecwCXJCMjQ+3atXN55Il08chcgwYNVK5cOfXs2VM//fSTyx702NhYNWzYUHXq1JEkPfzww3rllVdy7GWXpK1bt2rFihXW+yZNmujIkSPy9fW1bjQTEhKiGTNm6PDhwy7rjhgxQvHx8Zo9e7YyMjLUv3//otx8XKbM/ImMjFRERIRt/SDrASB3ZD0uV755b/KxefNmU6VKFTN37lyTkZGRX/UrRkJCgpFkEhIS7O4KgCvI/v37jSSzfft2q+zRRx81fn5+Zvbs2SYxMdH885//NAEBAeaDDz6w6vTo0cNERUWZDRs2mAULFhhfX18zZ84ca/n58+dN165dja+vr5k+fbrZsGGD2bRpk3n++edNSEiI6dWrl2nZsqUxxpiMjAzTpk0b0759e7N27Vqzdu1a079/f1OrVi2Tmprq0t/09HRTs2ZN4+XlZW688cZiHh1cDjtziawHgP8h61Gc3GVTvpPyAQMGmJYtWxqn02n8/PxMo0aNTPPmzV1eLVq0KM5+FwuCGsClcBfUaWlpZsqUKaZWrVrG29vbtGzZ0nz00Ucu6506dcoMHz7cVK1a1YSFhZkZM2bkaDs9Pd384x//MNdff70JCAgwDRo0MDfddJPZt2+f2bBhgxXUxhhz9OhRM3LkSFOjRg0TGBhoBgwYYPbu3eu2z4888oiRZJYtW1ZEo4DiYGcukfUA8D9kPYqTu2xyGJP38wK6du0qh8OR7yH5r7/+uhAH8O2XmJioNm3aKCEhQa1bt7a7OwCAMs7OXCLrAQAoGe6yKd8bva1du7bYOwYAAOxD1gMAYJ98b/R2xx135BnW//73v/W3v/2tSDsFAABKDlkPAIB93E7Kz507pz/++EN//PGH3n//fSUkJFjvs76OHz+u5cuX65///GdJ9xsAAFwGsh4AgNLB7enrL7zwgqZOnWq9nzRpkiZNmuS2AWOMunTpUiydAwAAxYOsBwCgdHA7Kc8MXmOMpk6dqj59+igqKsptAwEBARo+fHixdRAAABQ9sh4AgNLB7aS8U6dO6tSpkyRp/fr1uuuuuzRgwIAS7RgAACg+ZD0AAKVDvndfv9IefwIAAAqHrAcAwD45JuUeHh6aPXu27r33XklSixYt8m3E4XBo+/btRd45AABQ9Mh6AABKjxyT8tq1a8vPz896HxQUJIfDUaKdAgAAxYesBwCg9MgxKf/5559d3uf13FIAAHDlIesBACg93D6n3J0///xT69at07vvvquPPvpImzdvVnp6enH2DQBKjTNnzujhhx9WvXr15O/vr86dO2vTpk3W8o0bN6pjx44KDAxUp06dlJCQ4LJ+amqqRo4cqerVqys8PFwvvfSS28/5+OOPNWDAANWqVUuBgYGKjIzUnDlzdP78+QL3df/+/XI6nZo7d67b5QMGDFCHDh0K3B7KDrIeQFlG1sM2pgBeeeUVExQUZJxOp3E4HMbhcBin02nq1atnFi9eXJAmSp2EhAQjySQkJNjdFQBXgL/97W+mRo0aZunSpWbr1q1m7Nixxtvb2+zZs8fs2bPH+Pj4mEmTJpnNmzebsWPHmoCAAHPw4EFr/e7du5uoqCizfv16s3DhQuPr62tmzZplLc/IyDCjRo0yPj4+5u9//7vZsGGD2bx5s5k+fbrx9/c3AwYMMBcuXChwf6+//noTHR2do/zUqVOmQoUK5tVXX728AUGRszuXyHoAZR1Zj5LgLpvynZTPmzfPOBwO07RpU/PBBx+Ybdu2mcTERPPuu++a8PBw4+npaeLi4oq148UhczDmzZtntmzZYrZs2WJ3lwCUYv7+/uaNN95wKWvdurWZNGmSmThxounQoYNVnpGRYSIiIsz06dONMcbs3LnTSDJ79+616rz44osmLCzMej937lxToUIFs2PHjhyfvXbtWiPJfPLJJwXu75tvvmk8PT3N0aNHXcoXLFhgnE6nOXz4cIHbQvHJzJ8tW7aYefPm2TaBJOsBgKxH8ckv7/M9ff31119X48aNtWnTJt12221q2bKlWrVqpdGjR2vTpk1q0KCBpk+fXlwH8gGUQcYYXci4UGwvY0yh+pOSkqKQkBBFRUW5lFepUkUHDx7U6tWrFRMTY5U7HA5FR0crLi5OkrR69Wo1aNBADRs2tOr06dNHe/bs0S+//CJJevLJJ3XfffepefPmOT6/S5cuWrFihRo1amSVnTp1Svfcc49q164tf39/xcTEaP/+/dbyG264QU6nU59++qlLW0uWLFHXrl0VHBxcqDHA1Y2sB1DSyHpXZH3Zlu9zynfv3q0HH3xQFStWzLHM399fN954o1599dVi6VxJiIiIUOvWre3uBoAs0kyaWn9YfP8vE29JVDlHuQLXDwgI0K5du1zKduzYofXr1+vFF1/UV199pdDQUJfloaGhio2NlSQlJye7XS5JR44cka+vrw4cOKBevXrl2oc+ffq4vB84cKDKlSun+fPnq0KFCpo5c6aio6P17bffKigoSEFBQYqJidHChQt1zz33SJJOnz6t2NhYvfbaawXedhSvyMhI62cPDw/b+kHWAyhpZH1OZP3VK7+8z3dSHhERoePHj+e6/Pjx4y57dADgcnk6PJV4S2Kxtn+pjDGaP3++xo0bp/DwcI0ZM0YTJ06Ur6+vSz0/Pz8dO3ZMknTixAm3yyVZdaSLj6nKqkWLFtq7d6/1vnnz5tq8ebM2btyo+Ph4HT16VD4+PpKkBQsW6JprrtH8+fN1//33S5JGjBihYcOG6eDBg6pZs6ZWrFihtLQ0DRky5JK3H1cnsh5ASSPrLyLrIRXg7usTJ07U3LlztXLlyhzLVq5cqffee0/33ntvsXQOQNnkcDhUzlmu2F6X+jzmH3/8UZ07d9att96q/v37a+3atfLx8VFQUJBSU1Nd6qakpKhSpUqSlOtySapUqZK1J/3QoUMudZYtW6bt27dr+/btuuWWW6y7sn7//fc6ffq0KleuLG9vb3l7e8vX11e//vqrDhw4YK3fr18/+fv765NPPpF08XS26Ohoq19AJrIeQEkj6y8i6yG5OVL+wAMP5KhUq1Yt9e3bV82bN7eugUhKStK2bdvUtm1bnT17tvh7CgA2io+PV7du3RQaGqq1a9eqS5cu1rLg4GAdPHjQpf6hQ4dUo0aNPJdLUo0aNRQSEqKgoCCtW7dOPXr0sOrUq1fP+jk5Odn6OS0tTSEhIVqzZk2OfgYGBlo/e3l5aejQoVq0aJHGjh2rL7/8Um+//XbhNx5XHbIeAHIi62Gb7HeGy3wMSmFeTqezhO5bV3R4TAqAgkpPTzd169Y1nTt3Nn/99VeO5RMnTjTt27e33mdkZJjw8HDz7LPPGmP+d0fW3bt3W3Wef/5507BhQ+v99OnTjY+Pj0udTPHx8cbDw8O0bNnSGGNMXFyc8fT0dHkMy6lTp8yYMWPMtm3bXNb9+uuvjSTz0ksvGR8fH5Oamnppg4BiV5K5RNYDgCuyHiXFXTY5jCnkrQmvEomJiWrTpo0SEhK4+QuAPG3atEnXXnutPvroI7Vr185lmZ+fn06ePKlWrVpp/PjxGjJkiN5//30tWLBAu3btsvag9+zZU6dOndKMGTN08OBB3XXXXXrxxRetU4IvXLig3r17Kz4+Xo899piuu+46lS9fXuvWrdNrr72mpk2b6ujRo9q2bZuMMYqMjFS5cuWsO2LPnDlT27dv1w8//OByTVtGRobq1KmjY8eOaeDAgVq0aFEJjRoKi1wqeowpgIIi61FS3GZTfjP5tm3bmvfee6/Y9hTYhb3nAApq8eLFRpLb16hRo4wxxqxfv95ce+21xt/f31x//fUmMTHRpY1Tp06Z4cOHm6pVq5qwsDAzY8aMHJ+Tnp5u/vGPf5jrr7/eBAQEmAYNGpibbrrJ7Nu3z2zYsMHae26MMUePHjUjR440NWrUMIGBgWbAgAEuz0bN6pFHHjGSzLJly4pwVFDU7Mwlsh5AWUfWo6Rc0pHyLl26KDQ0VB999FHR7yawEXvPAQCliZ25RNYDAFAy3GVTvndff/HFFxUXF6d58+Ypn/k7AAC4ApH1AADYJ98H+D377LOqWbOmbr/9do0bN041atSQl5eXSx2Hw6Ht27cXVx8BAEAxIusBALBPvpPy1NRUVapUSZ07dy6J/gAAgBJG1gMAYJ98J+Vff/11SfQDAADYhKwHAMA++V5Tnpe0tDStWLFCo0ePLqr+AACAUoSsBwCgeOV7pDy78+fPKy4uTosXL9bnn3+uU6dOSZLee++9Iu8cAAAoeWQ9AAAlp0CT8nPnzmnVqlVavHixvvjiC6WmpsoYIx8fHw0fPly33nprcfcTAAAUI7IeAAB75DopP3v2rGJjY7VkyRItX75cf/75p4wx8vDwkCRNmTJFkydPVsWKFUuss8UhKSlJ6enpkqTIyEibewMAKEvi4+Otn3fv3l3in0/WAwBQ/PLL+xyT8k8//VSLFy/Wl19+qdOnT8sYo+DgYA0bNkz9+vVT/fr11bx5c7Vr1+6KD2kAAMoish4AgNIjx43ebrjhBi1evFgNGzbUE088oS1btui3337TP//5Tw0cOFD+/v529LPYREREKDIykj3nAC7Lxo0b1bFjRwUGBqpTp05KSEhwWZ6amqqRI0eqevXqCg8P10svveS2nY8//lgDBgxQrVq1FBgYqMjISM2ZM0fnz58vcF/2798vp9OpuXPnul0+YMAAdejQoeAbh2KTmT+RkZGKiIgosc8l6wGg8Mh6XKr88t7t3deNMUpOTtaRI0d04sQJpaWlFXtHAaA0e+edd+Tt7Z3j9dNPP2nv3r2Kjo5Wx44dFRcXp2bNmql79+46dOiQtf7gwYO1b98+LV68WE899ZSeeeYZzZ4921pujNHtt9+u0aNHKyoqSgsWLFBcXJyGDBmiyZMn64Ybbijwd3HdunXVsWNHLVq0KMey1NRUxcXF6aabbrr8QcEVjawHAFdkPWxjsklKSjJPP/20adKkiXE4HMbpdJrAwEAzYsQIs2TJEvOf//zHOBwO8/nnn2df9YqSkJBgJJmEhAS7uwLgCvDggw+a6Ohos3v3bpfX+fPnzcSJE02HDh2suhkZGSYiIsJMnz7dGGPMzp07jSSzd+9eq86LL75owsLCrPdz5841FSpUMDt27Mjx2WvXrjWSzCeffFLg/r755pvG09PTHD161KV8wYIFxul0msOHDxe4LZSMkswlsh4AciLrURLcZVOOI+VNmjTRU089paSkJP3nP//R448/rho1amjBggUaNmyYWrduLYfDoQ0bNiglJaUk9x8AgG12796tqKgohYWFubzKlSun1atXKyYmxqrrcDgUHR2tuLg4SdLq1avVoEEDNWzY0KrTp08f7dmzR7/88osk6cknn9R9992n5s2b5/jsLl26aMWKFWrUqJFVdurUKd1zzz2qXbu2/P39FRMTo/3791vLb7jhBjmdTn366acubS1ZskRdu3ZVcHBwkYwLrkxkPQDkRNbDLm5PX88UERGhqVOn6ocfftD333+vKVOmqH79+jLGaObMmapRo4ZGjBihr776qqT6C6AMMMbIXLhQfC9jCt2n3bt3KzExUeHh4apWrZp69+6trVu3SpKSk5MVGhrqUj80NFRHjhzJc7kk69ThAwcOqFevXrl+fp8+fdSiRQvr/cCBA/XTTz9p/vz5Wr16tfz8/BQdHa0TJ05IkoKCghQTE6OFCxda65w+fVqxsbGczgYXZD0AO5D1OZH1ZVeBnlMuSU2bNlXTpk3197//Xf/5z3/08ccfa8mSJVq4cKEWLVpkPWoEAC5bWpp2N8u5F7moNP7P91K5cgWuf+bMGR04cEB16tTRrFmz5OXlpTlz5qhz5876/vvvdeLECfn6+rqs4+fnp2PHjklSrsslWXUkqXbt2i51WrRoob1791rvmzdvrs2bN2vjxo2Kj4/X0aNH5ePjI0lasGCBrrnmGs2fP1/333+/JGnEiBEaNmyYDh48qJo1a2rFihVKS0vTkCFDCrztKFvIegAlhqyXRNbjogJPyrNq1qyZmjVrpmnTpmnHjh1avHhxUfcLQFnm6XkxTIux/cIoX768fv31V1WvXl2e/3/da6+9Vk2aNNG7776roKAgpaamuqyTkpKiSpUqSbq4J3vPnj05lktSpUqVrD3phw4dUnh4uFVn2bJl1p1YX375ZesZl99//71Onz6typUru7R57tw5HThwwHrfr18/+fv765NPPtGECRO0ZMkSRUdHW/0C8kLWAyhWZL0ksh4XXdKkPKsWLVq4nGYBAJfL4XAUau92cfPw8MhxSpqHh4datGihX3/9VcHBwTp48KDL8kOHDqlGjRqSlOtySapRo4ZCQkIUFBSkdevWqUePHladevXqWT8nJydbP6elpSkkJERr1qzJ0dfAwEDrZy8vLw0dOlSLFi3S2LFj9eWXX+rtt98u5NYDZD2AokfWX0TWQ8rnmnIAgPT1118rPDxcv/76q1VmjNEPP/yg8PBw9ezZUytWrHBZtnLlSvXs2VOS1LNnT/30008ue9BjY2PVsGFD1alTR5L08MMP65VXXsmxl12Stm7d6tJ+kyZNdOTIEfn6+lo3oQkJCdGMGTN0+PBhl3VHjBih+Ph4zZ49WxkZGerfv3/RDAoAAFcRsh62KvF7wJcSPCYFQEGdOXPG1KtXz1x33XXm888/N5s3bzZ33HGHqVq1qjl69KjZs2eP8fHxMZMmTTJbtmwx9957rwkICDC//fab1UaPHj1MVFSU2bBhg1mwYIHx9fU1c+bMsZafP3/edO3a1fj6+prp06ebDRs2mE2bNpnnn3/ehISEmF69epmWLVsaYy4+hqVNmzamffv2Zu3atWbt2rWmf//+platWiY1NdWl7+np6aZmzZrGy8vL3HjjjSUzYLgk5FLRY0wBFBRZj5JSoEeiAQBceXl5aeXKlapUqZJuvfVW9e3bV7///ru++eYbVa1aVY0aNVJsbKw2bNigHj16aOfOnVq7dq11SpskffbZZ2rQoIGGDBmiqVOn6umnn9a9995rLS9Xrpy++uorTZs2TStWrFD//v01cuRIbd++XevXr9fjjz9u1XU4HIqNjVWDBg00fPhwDR48WA6HQ2vWrMlxkxmn06nhw4fr7Nmzuvnmm4t/sAAAuAKR9bCTw5hLeF7AVSAxMVFt2rRRQkKCWrdubXd3AABlHLlU9BhTAEBp4y6bSs2R8qlTp6phw4YKCQnRmDFjdObMmVzr7tq1S927d1dgYKDatWunlStXuiz/448/NGbMGNWsWVOVKlVS3759tXv37uLeBAAAkAeyHgCAnErFpHzatGmaNWuWXnrpJc2fP1+bNm3SLbfc4rbuH3/8oc6dO6t27dqKi4tT3759NXDgQCUmJlp17rjjDn3zzTf64IMPtHLlSnl7e6tLly46fvx4SW0SAADIgqwHAMC9y34k2uVKS0vT66+/runTp2vQoEGSpPfff1/t27fXoUOHcjyaYMGCBfLy8tI777wjDw8PRUVFafPmzXr77bf15ptv6sSJE1q6dKliY2Otxw0sWLBAtWvX1uLFi3XPPfeU9CYCAFCmkfUAAOTO9iPlO3fuVHJysmJiYqyytm3bKigoyO1z+VavXq3evXvLw8PDKuvTp4/i4uIkXXy+X+PGjdWqVStrefny5RUQEJDj2YEAAKD4kfUAAOTO9iPlycnJcjgcLncudDgcCgkJ0ZEjR9zWb9mypUtZaGioVbdJkybatWuXy/JVq1Zp7969ioqKKvoNAAAAeSLrAQDIne2T8hMnTsjHx0dOp+tBez8/Px07dsxt/eyPAfDz89Pp06d15swZeXt7W+VpaWmaPXu2Jk2apOjoaPXr1y9Hey+//LKqV6/utm+9e/dW7969L2WzAADIYdWqVVq1apXbZe4mp1cLsh4AUJYUNu9tn5QHBQXp9OnTSk9PdzlNLSUlRZUqVXJbPzU11aUsJSVFFSpUcAnpxMRE3Xbbbdq1a5fGjx+v6dOn5/hjQJIeeughHpMCACgReU0AExMTtWDBghLuUckg6wEAZUlh8972a8qDg4NljNFvv/1mlWW+z3qaW9b62a8XO3TokEvdzz//XO3bt1fFihW1detWvfLKK/Ly8iq+jQAAALki6wEAyJ3tk/KmTZsqODhYK1assMq2bNmikydPqlu3bjnq9+zZU3FxcUpPT7fKYmNj1bNnT0nSqVOnNGLECA0dOlTffPNNjmvSAABAySLrAQDIne2nr3t6emrcuHGaMmWKgoOD5efnp/Hjx2vo0KGqVauWUlNTdfToUYWGhsrLy0vDhw/X1KlTNWbMGN17772KjY3V119/rc2bN0uSVqxYob/++kt33XWX9u/f7/JZQUFBbk+TAwAAxYesBwAgd7YfKZekxx57TOPGjdOECRM0YsQIdejQQXPnzpUkffbZZ2rQoIEVxJUqVdK6det04MAB9erVSytWrNAXX3xh7SU/ePCgjDHq2rWrGjRo4PJ67bXX7NpEAFe4P//8U+PGjVNoaKiqVq2qkSNHutyoY+PGjerYsaMCAwPVqVMnJSQkuKyfmpqqkSNHqnr16goPD9dLL73k9nM+/vhjDRgwQLVq1VJgYKAiIyM1Z84cnT9/vsB93b9/v5xOp/U9mt2AAQPUoUOHArcHFAWyHkBpR9bDNqaMSkhIMJJMQkKC3V0BcAUYMWKECQ8PN1999ZX59ttvzXXXXWc6duxojDFmz549xsfHx0yaNMls3rzZjB071gQEBJiDBw9a63fv3t1ERUWZ9evXm4ULFxpfX18za9Ysa3lGRoYZNWqU8fHxMX//+9/Nhg0bzObNm8306dONv7+/GTBggLlw4UKB+3v99deb6OjoHOWnTp0yFSpUMK+++upljAaKA7lU9BhTAIVB1qMkuMsmJuUENYB8nD171nh6eprPP//cKtuxY4eRZH766SczceJE06FDB2tZRkaGiYiIMNOnTzfGGLNz504jyezdu9eq8+KLL5qwsDDr/dy5c02FChXMjh07cnz+2rVrjSTzySefFLjPb775pvH09DRHjx51KV+wYIFxOp3m8OHDBW4LJYNcKnqMKYCCIutRUtxlU6k4fR0AsjLGKD09o9hexphC9efChQvKyMhQxYoVrbLMZyifPXtWq1evVkxMjLXM4XAoOjpacXFxkqTVq1erQYMGatiwoVWnT58+2rNnj3755RdJ0pNPPqn77rtPzZs3z/H5Xbp00YoVK9SoUSOr7NSpU7rnnntUu3Zt+fv7KyYmxuXa2htuuEFOp1OffvqpS1tLlixR165dFRwcXKgxAACgKJH1rsj6ss32G70BQHYZGUZv3reu2Nq/5/Uu8vBwFLi+r6+v+vTpo2effVZNmzaVl5eXnnjiCTVo0ECNGzdWcnKyQkNDXdYJDQ1VbGysJOW6XJKOHDkiX19f69rZ3PTp08fl/cCBA1WuXDnNnz9fFSpU0MyZMxUdHa1vv/1WQUFBCgoKUkxMjBYuXKh77rlHknT69GnFxsZyzS0AwHZkfU5kfdnFpBxAqeN0OnTP612Ktf3Cmjt3rho2bKjq1avL4XDI09NTW7dulcPh0IkTJ6y96Zn8/Px07NgxScp1uSSrjiTVrl3bpU6LFi20d+9e633z5s21efNmbdy4UfHx8Tp69Kh8fHwkSQsWLNA111yj+fPn6/7775ckjRgxQsOGDdPBgwdVs2ZNrVixQmlpaRoyZEihtx8AgKJE1l9E1kMqJXdfB4CsHA6HPDycxfZyOAoX1KdOnVK3bt3UoUMHLVmyRMuXL9ewYcM0cOBA/fLLLwoKClJqaqrLOikpKdZjmXJbLl28y3TmnvRDhw651Fm2bJm2b9+u7du365ZbbrHuyvr999/r9OnTqly5sry9veXt7S1fX1/9+uuvOnDggLV+v3795O/vr08++UTSxdPZoqOjeVwUAMB2ZP1FZD0kjpQDQL6WL1+uw4cPKyEhQZ6eF782Y2Ji1KpVKy1YsEDBwcE6ePCgyzqHDh1SjRo1JCnX5ZJUo0YNhYSEKCgoSOvWrVOPHj2sOvXq1bN+Tk5Otn5OS0tTSEiI1qxZk6OvgYGB1s9eXl4aOnSoFi1apLFjx+rLL7/U22+/fYmjAADA1Yush504Ug4A+Thz5owk5djr7nA49Ndff6lnz55asWKFVW6M0cqVK9WzZ09JUs+ePfXTTz9pz549Vp3Y2Fg1bNhQderUkSQ9/PDDeuWVV1zqZNq6datL+02aNLGuTwsLC1NYWJhCQkI0Y8YMHT582GXdESNGKD4+XrNnz1ZGRob69+9/maMBAMDVh6yHrWy5D3wpwGNSABRUcnKyqVq1qhkwYID5/PPPzcqVK81tt91mvL29zc6dO12eXbplyxZz7733moCAAPPbb79ZbfTo0cNERUWZDRs2mAULFhhfX18zZ84ca/n58+dN165dja+vr5k+fbrZsGGD2bRpk3n++edNSEiI6dWrl2nZsqUx5uJjWNq0aWPat29v1q5da9auXWv69+9vatWqZVJTU136np6ebmrWrGm8vLzMjTfeWDIDhktCLhU9xhRAQZH1KCk8pzwLghpAYSQlJZkBAwaYqlWrmsDAQNO9e3fzzTffWMvXr19vrr32WuPv72+uv/56k5iY6LL+qVOnzPDhw03VqlVNWFiYmTFjRo7PSE9PN//4xz/M9ddfbwICAkyDBg3MTTfdZPbt22c2bNhgBbUxxhw9etSMHDnS1KhRwwQGBpoBAwa4PBs1q0ceecRIMsuWLSui0UBxIJeKHmMKoDDIepQEd9nkMKaQD/G7SiQmJqpNmzaaN2+eGjduLEmKjIy0uVcAgLIkPj7e+nn37t269dZblZCQoNatW9vYq6sHWQ8AKA3yy3uuKQcAAAAAwCZl/u7rERERHJEAANgi61FbDw8PG3tydSPrAQB2yi/vOVIOAAAAAIBNmJQDAAAAAGATJuUAAAAAANiESTkAAAAAADZhUg4AAAAAgE2YlAMAAAAAYBMm5QAAAAAA2IRJOQAUUuPGjbVjxw6Xso0bN6pjx44KDAxUp06dlJCQ4LI8NTVVI0eOVPXq1RUeHq6XXnopR7tvvPGGmjVrpipVqmjo0KE6fvx4jjo//fSTRo8erRYtWqhixYpq1KiR7r33Xu3fv79Q29CtWzd17drV7bLPPvtMDodDe/bsKVSbAABcLch6lCQm5QBQQBcuXNCLL76YI8D27t2r6OhodezYUXFxcWrWrJm6d++uQ4cOWXUGDx6sffv2afHixXrqqaf0zDPPaPbs2dby+fPna8KECZo4caKWLVumY8eOKTo62uVzPv/8c7Vs2VIpKSl6+umn9d1332natGmKj49XZGSkdu3aVeBtGTlypDZs2KDffvstx7JPP/1UrVq1UlhYWIHbAwDgakDWwxamjEpISDCSTEJCgt1dAXAFmDNnjvHy8jKSjCSzfft2a9nEiRNNhw4drPcZGRkmIiLCTJ8+3RhjzM6dO40ks3fvXqvOiy++aMLCwqz3bdu2NVOmTLHeHz582DidTvPdd98ZY4w5ceKEqVy5snn00Udz9O2vv/4y4eHhJiYmpsDbc/LkSePl5WVeeeUVl/KzZ88aPz8/8+KLLxa4LRQNcqnoMaYACoOsR0lwl00cKQeAAhg6dKi2bt2qVatW5Vi2evVqxcTEWO8dDoeio6MVFxdnLW/QoIEaNmxo1enTp4/27NmjX375RSdPntTWrVtd2ggODlarVq2sNl599VV5eXnpqaeeyvH5Pj4+Wrx4se655x6X8nnz5qlVq1aqWLGiIiIitHDhQmtZQECA+vXrp0WLFrmsExcXpz///FM33nhjYYYHAIArHlkPu3ja3QEAyM4Yo4z09GJr3+nhIYfDUah1qlatqqpVq8rX1zfHsuTkZIWGhrqUhYaGKjY2Ns/lknTkyBGdPn3apSxrnSNHjkiSEhMTdf3118vLy8tt/yIiIhQREWG9/+CDD/TII49o5syZatasmTZu3Kg777xTFStW1IABAyRdPK1t0KBB+umnn3TNNddIkpYsWaIOHTqodu3aBRsYAAAuAVn/vzpkPZiUAyh1MtLT9Y8Rg4qt/Qc/WiYPz6L7+jtx4kSOAPfz89OxY8fyXC5Jx44d04ULFyQpzzZ+/PFH9evXz2X5jBkz9MQTT7iUbd68Wc2bN9ff//53zZgxQyNHjpQktWjRQocPH9bTTz9tBXWfPn1UqVIlffzxx5o8ebIuXLigzz//XNOmTbvksQAAoCDI+pxtkPVlF5NyAKWO08NDD360rFjbL0pBQUFKTU11KUtJSVGlSpWs5dlvGJOSkiJJqlSpkgIDAyVdvGtrlSpVXOpk7lEPDQ11uZmMJI0ePVr9+/eXdPFOrTExMTLG6M8//9RPP/2kO++8U3fffbdVPy0tTf7+/tb78uXLa9iwYVq4cKEmT56sNWvWKDU1VTfccMPlDAcAAPki6/9Xh6wHk3IApY7D4SjSvdvFLTg4WAcPHnQpO3TokGrUqJHnckmqUaOGAgICJEkHDx5UvXr1XOq0bdtWktSsWTN99tlnunDhgsqVKyfp4h8AQUFBkqSkpCRrvfT/fzrgO++8o6ioKJfPzX4q38iRI/XWW28pKSlJS5YsUffu3VWtWrVLGAUAAAqOrP9fHbIeZf5Gb0lJSYqPj1d8fLzdXQFwherZs6dWrFhhvTfGaOXKlerZs6e1/KeffnLZgx4bG6uGDRuqTp06CgwMVNu2bV3aOHz4sLZv3261MW7cOB05ckQvvPBCjs9PS0vTc889Z70PCAhQSEiIfvvtN4WFhVmvuLg462Yyma677jrVqVNH8+fP17Jly3TTTTcVzaCgQDLzJz4+3uWPLRQtsh7A5SLrcTnyy/srZ/cUAJRSd955p+bMmaNHH31UQ4YM0fvvv6/ffvtNt99+u6SLN2bp0aOHbr31Vs2YMUMHDx7UtGnT9OKLL1ptPPDAAxozZozCw8NVv359TZkyRZGRkerQoYMkqV69epo5c6bGjx+vnTt36uabb1bdunW1Z88evfDCC6pXr54SEhKs9iZNmqTHH39cVapUUatWrfT1119r0qRJ+uyzz1z67nA4NGLECM2cOVPGGA0ePLgERgwAgCsLWY9iZcOj2UoFnl0K4FLs378/x7NLjTFm/fr15tprrzX+/v7m+uuvN4mJiS7LT506ZYYPH26qVq1qwsLCzIwZM3K0/frrr5smTZqYypUrm6FDh5rjx4/nqLNlyxYzaNAgU7t2bRMUFGS6detm5s+fb4wx5pprrrH6lZGRYWbNmmWaNGlifHx8TLNmzcxHH33kdpuSkpKMJDNo0KBLGhMUDXKp6DGmAC4FWY/i5C6bHMYYY98uAfskJiaqTZs2SkhIUOvWre3uDgCgjCOXih5jCgAobdxlU5m/phwAAAAAALswKQcAAAAAwCZMygEAAAAAsAmTcgAAAAAAbMKkHAAAAAAAmzApBwAAAADAJkzKAQAAAACwCZNyAAAAAABswqQcAAAAAACbMCkHAAAAAMAmTMoBAAAAALAJk3IAAAAAAGzCpBwAAAAAAJt42t0BuyUlJSk9PV2SFBkZaXNvAABlSXx8vPXz7t27bezJ1Y2sBwDYKb+850g5AAAAAAA2KfNHyiMiItS6dWu7uwEAKIOyHrX18PCwsSdXN7IeAGCn/PKeI+UAAAAAANiESTkAAAAAADZhUg4AAAAAgE2YlAMAAAAAYBMm5QAAAAAA2IRJOQAAAAAANmFSDgAAAACATZiUAwAAAABgEyblAAAAAADYhEk5AAAAAAA2YVIOAAAAAIBNSs2kfOrUqWrYsKFCQkI0ZswYnTlzJte6u3btUvfu3RUYGKh27dpp5cqVLssvXLig8ePHq1atWqpXr54eeeQRZWRkFPcmAACAPJD1AADkVCom5dOmTdOsWbP00ksvaf78+dq0aZNuueUWt3X/+OMPde7cWbVr11ZcXJz69u2rgQMHKjEx0apz7733KjY2Vu+9955mz56t+fPn65FHHimpzQEAANmQ9QAA5MLY7MKFCyY4ONi8/fbbVtmWLVuM0+k0Bw8ezFF/9uzZplatWiYtLc0qi4mJMXfffbcxxpjjx4+bChUqmLi4OGv5J598YgICAsyZM2essoSEBCPJJCQkFMdmAQBQKFdzLpH1AABc5C6bbD9SvnPnTiUnJysmJsYqa9u2rYKCgrRmzZoc9VevXq3evXvLw8PDKuvTp4/i4uIkSRs2bJDT6VSXLl2s5dHR0UpJSdGWLVuKb0MAAIBbZD0AALmzfVKenJwsh8OhGjVqWGUOh0MhISE6cuSI2/qhoaEuZaGhoVbd5ORkVatWTeXKlbOW+/n5yd/f3217AACgeJH1AADkztPuDpw4cUI+Pj5yOl33D/j5+enYsWNu6/v6+uaoe/r0aZ05c8bt8rzae/nll1W9enW3fevdu7d69+5dmM0BACBXq1at0qpVq9wuu5onk2Q9AKAsKWze2z4pDwoK0unTp5Wenu5ymlpKSooqVarktn5qaqpLWUpKiipUqCBvb2+3y/Nq76GHHlLr1q2LYEsAAMhbXhPAxMRELViwoIR7VDLIegBAWVLYvLf99PXg4GAZY/Tbb79ZZZnvs57mlrX+wYMHXcoOHTpk1Q0ODtbRo0d1/vx5a3lKSor+/PNPt+0BAIDiRdYDAJA72yflTZs2VXBwsFasWGGVbdmyRSdPnlS3bt1y1O/Zs6fi4uKUnp5ulcXGxqpnz56SpE6dOskYo7Vr11rLV65cqYCAAEVGRhbjlgAAAHfIegAAcmf76euenp4aN26cpkyZouDgYPn5+Wn8+PEaOnSoatWqpdTUVB09elShoaHy8vLS8OHDNXXqVI0ZM8Z6RunXX3+tzZs3S7p4ytstt9yi++67T2+++abOnTunv/3tb7r77rvl4+Nj89YCAFD2kPUAAOTO9km5JD322GM6f/68JkyYoNOnT6tfv36aNWuWJOmzzz7TqFGjtG7dOnXu3FmVKlXSunXrNG7cOPXq1UthYWH64osv1LJlS6u9OXPm6G9/+5tGjRolT09P3XLLLZo+fbpNWwcAAMh6AADccxhjjN2dsENiYqLatGmjhIQEbv4CALAduVT0GFMAQGnjLptsv6YcAAAAAICyikk5AAAAAAA2YVIOAAAAAIBNmJQDAAAAAGATJuUAAAAAANiESTkAAAAAADZhUg4AAAAAgE2YlAMAAAAAYBMm5QAAAAAA2MTT7g7YLSkpSenp6ZKkyMhIm3sDAChL4uPjrZ93795tY0+ubmQ9AMBO+eU9R8oBAAAAALBJmT9SHhERodatW9vdDQBAGZT1qK2Hh4eNPbm6kfUAADvll/ccKQcAAAAAwCZMygEAAAAAsAmTcgAAAAAAbMKkHAAAAAAAmzApBwAAAADAJkzKAQAAAACwCZNyAAAAAABswqQcAAAAAACbMCkHAAAAAMAmTMoBAAAAALAJk3IAAAAAAGzCpBwAAAAAAJswKQcAAAAAwCZMygEAAAAAsAmTcgAAAAAAbOJpdwfslpSUpPT0dElSZGSkzb0BAJQl8fHx1s+7d++2sSdXN7IeAGCn/PKeI+UAAAAAANikzB8pj4iIUOvWre3uBgCgDMp61NbDw8PGnlzdyHoAgJ3yy3uOlAMAAAAAYBMm5QAAAAAA2IRJOQAAAAAANmFSDgAAAACATZiUAwAAAABgEyblAAAAAADYhEk5AAAAAAA2YVIOAAAAAIBNmJQDAAAAAGATJuUAAAAAANiESTkAAAAAADZhUg4AAAAAgE2YlAMAAAAAYBMm5QAAAAAA2MTT7g7YLSkpSenp6ZKkyMhIm3sDAChL4uPjrZ93795tY0+ubmQ9AMBO+eU9R8oBAAAAALBJmT9SHhERodatW9vdDQBAGZT1qK2Hh4eNPbm6kfUAADvll/ccKQcAAAAAwCZMygEAAAAAsAmTcgAAAAAAbMKkHAAAAAAAmzApBwAAAADAJkzKAQAAAACwCZNyAAAAAABswqQcAAAAAACbMCkHAAAAAMAmTMoBAAAAALAJk3IAAAAAAGxSKiblb7zxhpo1a6YqVapo6NChOn78eJ71Dx8+rIEDB6py5cpq2bKl5s2b57L8zJkzevjhh1WvXj35+/urc+fO2rRpU3FuAgAAyANZDwCAe7ZPyufPn68JEyZo4sSJWrZsmY4dO6bo6Ohc66enp6tr165KT0/X8uXLdffdd2vMmDH64osvrDqPPfaYPvroI73yyitau3atmjZtqm7dumnv3r0lsUkAACALsh4AgNx52t2BV199VRMmTNBtt90mSVq0aJFCQ0O1adMmtW/fPkf9lStX6sCBA4qPj5efn5+uvfZa7dy5U6+//rr69+8vSXr33Xf1wgsvaNCgQZKkNm3aaNOmTXrvvff0/PPPl9i2AQAAsh4AgLzYeqT85MmT2rp1q2JiYqyy4OBgtWrVSnFxcW7XWb16tTp27Cg/Pz+rrE+fPlqzZo0yMjKUkpKikJAQRUVFuaxXpUoVHTx4sHg2BAAAuEXWAwCQN1sn5cnJyZKk0NBQl/LQ0FAdOXIk13Xc1U9LS9Px48cVEBCgXbt2qXXr1tbyHTt2aP369TnCGwAAFC+yHgCAvNl6+vqJEyckSb6+vi7lfn5+OnbsWK7rNGrUKEd9STp27JiqVq1qlRtjNH/+fI0bN07h4eEaM2ZMjvZefvllVa9e3e1n9e7dW7179y74BgEAkIdVq1Zp1apVbpflNkG90pH1AICyprB5X6KT8g0bNqh79+7W+yeeeEKSlJqaqipVqljlKSkpOfaQZwoKClJqaqpLWUpKiiSpUqVKVtmPP/6o22+/XRs3btSIESM0e/Zs+fj45GjvoYcectnTDgBAcclrApiYmKgFCxaUcI+KHlkPACjrCpv3JXr6emRkpHbu3Gm9Ro0aJUk5rv86dOiQatSo4baN4OBgt/U9PDxUrVo1SVJ8fLxatmypo0ePau3atZo/f74CAwOLfHsAAIArsh4AgMIp0Um5t7e3wsLCrFft2rXVtm1brVixwqpz+PBhbd++XT179nTbRs+ePfXNN9/o1KlTVllsbKy6desmp9OpjIwMDRs2TG3atFFiYqK6dOlS3JsFAAD+P7IeAIDCsf2RaA888IDGjBmj8PBw1a9fX1OmTFFkZKQ6dOggSTp79qwOHTqkatWqyc/PT9HR0apbt66GDx+uxx9/XImJiXr33Xe1dOlSSdKWLVu0f/9+Pfvsszp8+LDLZ/n5+Vl72AEAQMkg6wEAyJ2td1+XpJEjR2rmzJl64YUXNHDgQFWrVk2xsbHW8s2bN6tBgwb67LPPJEkeHh76+uuv5XA4FBMTo7feekvvvfee+vbtK+l/p8eNGDFCDRo0cHlNmjSp5DcQAIAyjqwHACB3DmOMsbsTdkhMTFSbNm2UkJDAzV8AALYjl4oeYwoAKG3cZZPtR8oBAAAAACirmJQDAAAAAGATJuUAAAAAANiESTkAAAAAADZhUg4AAAAAgE2YlAMAAAAAYBMm5QAAAAAA2IRJOQAAAAAANmFSDgAAAACATTzt7oDdkpKSlJ6eLkmKjIy0uTcAgLIkPj7e+nn37t029uTqRtYDAOyUX95zpBwAAAAAAJuU+SPlERERat26td3dAACUQVmP2np4eNjYk6sbWQ8AsFN+ec+RcgAAAAAAbMKkHAAAAAAAmzApBwAAAADAJkzKAQAAAACwCZNyAAAAAABswqQcAAAAAACbMCkHAAAAAMAmTMoBAAAAALAJk3IAAAAAAGzCpBwAAAAAAJswKQcAAAAAwCZMygEAAAAAsAmTcgAAAAAAbMKkHAAAAAAAmzApBwAAAADAJp52d8BuSUlJSk9PlyRFRkba3BsAQFkSHx9v/bx7924be3J1I+sBAHbKL+85Ug4AAAAAgE3K/JHyiIgItW7d2u5uAADKoKxHbT08PGzsydWNrAcA2Cm/vOdIOQAAAAAANmFSDgAAAACATZiUAwAAAABgEyblAAAAAADYhEk5AAAAAAA2YVIOAAAAAIBNmJQDAAAAAGATJuUAAAAAANiESTkAAAAAADZhUg4AAAAAgE2YlAMAAAAAYBMm5QAAAAAA2IRJOQAAAAAANmFSDgAAAACATTzt7oDdkpKSlJ6eLkmKjIy0uTcAgLIkPj7e+nn37t029uTqRtYDAOyUX95zpBwAAAAAAJuU+SPlERERat26td3dAACUQVmP2np4eNjYk6sbWQ8AsFN+ec+RcgAAAAAAbMKkHAAAAAAAmzApBwAAAADAJkzKAQAAAACwCZNyAAAAAABswqQcAAAAAACbMCkHAAAAAMAmTMoBAAAAALAJk3IAAAAAAGzCpBwAAAAAAJswKQcAAAAAwCalYlL+xhtvqFmzZqpSpYqGDh2q48eP51n/8OHDGjhwoCpXrqyWLVtq3rx5udZNSkqSt7e3duzYUdTdBgAABUTWAwDgnu2T8vnz52vChAmaOHGili1bpmPHjik6OjrX+unp6eratavS09O1fPly3X333RozZoy++OKLHHXPnTun4cOH6+zZs8W5CQAAIA9kPQAAufO0uwOvvvqqJkyYoNtuu02StGjRIoWGhmrTpk1q3759jvorV67UgQMHFB8fLz8/P1177bXauXOnXn/9dfXv39+l7qOPPipjTIlsBwAAcI+sBwAgd7YeKT958qS2bt2qmJgYqyw4OFitWrVSXFyc23VWr16tjh07ys/Pzyrr06eP1qxZo4yMDKssLi5O8+fP11tvvVV8GwAAAPJE1gMAkDdbJ+XJycmSpNDQUJfy0NBQHTlyJNd13NVPS0uzrk87duyYRo0apbffflshISHF0HMAAFAQZD0AAHmz9fT1EydOSJJ8fX1dyv38/HTs2LFc12nUqFGO+tLFgK5ataruuOMOxcTEaPDgwTpw4ECefXj55ZdVvXp1t8t69+6t3r17F2hbAADIz6pVq7Rq1Sq3y3KboF7pyHoAQFlT2Lwv0Un5hg0b1L17d+v9E088IUlKTU1VlSpVrPKUlJQce8gzBQUFKTU11aUsJSVFklSpUiW98847+uGHH7Rt27YC9emhhx5S69atC7UdAABcirwmgImJiVqwYEEJ96jokfUAgLKusHlfoqevR0ZGaufOndZr1KhRkqSDBw+61Dt06JBq1Kjhto3g4GC39T08PFStWjV98803+vnnn1W1alV5e3srLCxMkhQVFeXyRwIAACh6ZD0AAIVTopPyzODMfNWuXVtt27bVihUrrDqHDx/W9u3b1bNnT7dt9OzZU998841OnTpllcXGxqpbt25yOp2aPn26kpKStH37dm3fvt1q++OPP9b7779fvBsIAEAZR9YDAFA4tj8S7YEHHtCYMWMUHh6u+vXra8qUKYqMjFSHDh0kSWfPntWhQ4dUrVo1+fn5KTo6WnXr1tXw4cP1+OOPKzExUe+++66WLl0q6eLe9eDgYKt9Ly8vSVK9evVUu3btkt9AAADKOLIeAIDc2Xr3dUkaOXKkZs6cqRdeeEEDBw5UtWrVFBsbay3fvHmzGjRooM8++0yS5OHhoa+//loOh0MxMTF666239N5776lv3752bQIAAMgDWQ8AQO4cxhhjdyfskJiYqDZt2ighIYGbvwAAbEcuFT3GFABQ2rjLJtuPlAMAAAAAUFYxKQcAAAAAwCZMygEAAAAAsAmTcgAAAAAAbMKkHAAAAAAAmzApBwAAAADAJkzKAQAAAACwCZNyAAAAAABswqQcAAAAAACbeNrdAbslJSUpPT1dkhQZGWlzbwAAZUl8fLz18+7du23sydWNrAcA2Cm/vOdIOQAAAAAANinzR8ojIiLUunVru7sBACiDsh619fDwsLEnVzeyHgBgp/zyniPlAAAAAADYhEk5AAAAAAA2YVIOAAAAAIBNmJQDAAAAAGATJuUAAAAAANiESTkAAAAAADZhUg4AAAAAgE2YlAMAAAAAYBMm5QAAAAAA2IRJOQAAAAAANmFSDgAAAACATZiUAwAAAABgEyblAAAAAADYhEk5AAAAAAA2YVIOAAAAAIBNPO3ugN2SkpKUnp4uSYqMjLS5NwCAsiQ+Pt76effu3Tb25OpG1gMA7JRf3nOkHAAAAAAAm5T5I+URERFq3bq13d0AAJRBWY/aenh42NiTqxtZDwCwU355z5FyAAAAAABswqQcAAAAAACbMCkHAAAAAMAmTMoBAAAAALAJk3IAAAAAAGzCpBwAAAAAAJswKQcAAAAAwCZMyq9yq1atsrsLVxzGrPAYs8JjzAqPMQNyx/+PwmG8Co8xKzzGrPDK6pgxKb/KldVf7MvBmBUeY1Z4jFnhMWZA7vj/UTiMV+ExZoXHmBVeWR0zJuUAAAAAANiESTkAAAAAADYps5PypKSkImsrPj5e8fHxpa6tolTU/WLM7G2vLIxZaR7/olRax6y0jpdUerezKHMJF5H1hVdat5Mxs7etolSa85kxs7etolSat9FdNpXZSTkAAAAAAHZjUg4AAAAAgE087e6AXc6dOydJ+vLLL61TCCIiIi6prd27d0uSPDw8LrtfRdmWJB05ckSJiYmX3U5R94sxs7e9sjBmpXn8pat/zIp6vKSrc8yynsL273//W5J05syZy+4XLiorWS9dnf8/iqstqejGSyq921lax6w05zNjZm9bUukcs6JoK7+8dxhjzCW3fgX76KOPNHLkSLu7AQCAi/nz52vEiBF2d+OqQNYDAEqrrHlfZiflx44d06pVq1S3bl15e3vb3R0AQBl35swZ7d+/X71791aVKlXs7s5VgawHAJQ27vK+zE7KAQAAAACwGzd6AwAAAADAJkzKAQAAAACwCZPyK9Qbb7yhZs2aqUqVKho6dKiOHz+eZ/3Dhw9r4MCBqly5slq2bKl58+blWjcpKUne3t7asWNHUXfbVkU9ZmfOnNHDDz+sevXqyd/fX507d9amTZuKcxNKzNSpU9WwYUOFhIRozJgxed4NeteuXerevbsCAwPVrl07rVy50mX5hQsXNH78eNWqVUv16tXTI488ooyMjOLehBJXlGP2xx9/aMyYMapZs6YqVaqkvn37Wnf+vJoU5Zhl9dVXX8npdColJaU4ug2UGLK+8Mj6giPrC4+sLzyyvoAMrjgffvih8fLyMh988IHZuHGj6dy5s2nbtm2u9dPS0kxYWJjp27ev+fbbb82cOXNMuXLlzOeff56j7tmzZ03z5s2NJLN9+/bi3IwSVRxj9re//c3UqFHDLF261GzdutWMHTvWeHt7mz179pTEJhWbv//976Zy5cpm6dKlZs2aNSYiIsIMGTLEbd0TJ06YqlWrmlGjRpnNmzebqVOnmvLly5uEhASrzh133GHq169v4uLizPLly02NGjXMQw89VFKbUyKKeswGDx5sGjdubFavXm02bdpkhgwZYqpXr26OHTtWUptU7Ip6zDIdO3bMhISEGEnm5MmTxb0ZQLEh6wuPrC84sr7wyPrCI+sLjkn5Faht27ZmypQp1vvDhw8bp9NpvvvuO7f1ly9fbry8vMypU6essrFjx5revXvnqPvggw+aZs2aXXVBXRxj5u/vb9544w2X9Vq3bm0mTZpUxL0vORcuXDDBwcHm7bfftsq2bNlinE6nOXjwYI76s2fPNrVq1TJpaWlWWUxMjLn77ruNMcYcP37cVKhQwcTFxVnLP/nkExMQEGDOnDlTjFtScopjzCSZ2NhYa/m5c+dM9erVc/y+XamKesyyGjRokPUddrUENcomsr7wyPqCIesLj6wvPLK+cDh9/Qpz8uRJbd26VTExMVZZcHCwWrVqpbi4OLfrrF69Wh07dpSfn59V1qdPH61Zs8bl1KK4uDjNnz9fb731VvFtgA2KY8xSUlIUEhKiqKgol/WqVKmigwcPFs+GlICdO3cqOTnZZazatm2roKAgrVmzJkf91atXq3fv3vLw8LDK+vTpY43rhg0b5HQ61aVLF2t5dHS0UlJStGXLluLbkBJU1GOWnJysxo0bq1WrVtby8uXLKyAg4Ir+3cqqqMcs0z//+U8lJSVp+vTpxdd5oASQ9YVH1hccWV94ZH3hkfWFw6T8CpOcnCxJCg0NdSkPDQ3VkSNHcl3HXf20tDTrWqtjx45p1KhRevvttxUSElIMPbdPcYxZQECAdu3apdatW1vLd+zYofXr1+cI7ytJcnKyHA6HatSoYZU5HA6FhIS4HavcximzbnJysqpVq6Zy5cpZy/38/OTv75/r2F9pinrMmjRpol27dql69erW8lWrVmnv3r1X9O9WVkU9ZpK0d+9ePfzww5o/f758fX2Lr/NACSDrC4+sLziyvvDI+sIj6wuHSfkV5sSJE5KU4xfRz89Px44dy3Udd/UlWevccccdiomJ0eDBg4u6y7YrrjHLZIzRhx9+qE6dOik8PFxjxowpqq6XuBMnTsjHx0dOp+tXQ25jlds4nT59WmfOnHG7PK/2rkRFPWZZpaWl6R//+IcGDBig6Oho9evXr+g3wAZFPWYXLlzQ8OHDNXHixKvmjxmUbWR94ZH1BUfWFx5ZX3hkfeEwKS/lNmzYoHLlylmvr776SpKUmprqUi8lJUWVKlVy20ZQUJDb+pJUqVIlvfPOO/rhhx/0j3/8o+g3wAYlMWaZfvzxR3Xu3Fm33nqr+vfvr7Vr18rHx6coN6dEBQUF6fTp00pPT3cpz22schunChUqyNvb2+3yvNq7EhX1mGVKTExUq1atNHHiRI0dO1ZLly7NEWxXqqIes6lTp8rLy0uTJ08u1n4DxYWsLzyy/tKR9YVH1hceWV84V8e/+lUsMjJSO3futF6jRo2SpBzXmxw6dMjl9JCsgoOD3db38PBQtWrV9M033+jnn39W1apV5e3trbCwMElSVFSUunfvXvQbVcxKYswkKT4+Xi1bttTRo0e1du1azZ8/X4GBgUW+PSUpODhYxhj99ttvVlnme3djlds4ZdYNDg7W0aNHdf78eWt5SkqK/vzzz1zH/kpT1GMmSZ9//rnat2+vihUrauvWrXrllVfk5eVVfBtRwop6zL755htt3rxZvr6+8vb2Vq9evSRJ1atX1+jRo4txS4CiQdYXHll/6cj6wiPrC4+sLyQ77i6Hy9O2bVvz6KOPWu9/++0343A4zDfffOO2/vLly02FChVMSkqKVXbPPfeYnj17GmMu3p109+7d1mvNmjVGklm6dKk5cOBA8W5MCSnqMUtPTzd169Y1nTt3Nn/99Vfxdr4EZd4p880337TKNm3aZJxOp/nll19y1J89e7apWbOmy50yo6OjzZ133mmM+d8dWVeuXGktX7RokQkICLhqxq2oxywlJcX4+vqam2++2aXO1aSox+yXX35x+Q6bN2+ekWS2bNlifvvtt+LfIKAYkPWFR9YXDFlfeGR94ZH1hcOk/Ar04YcfmgoVKpi5c+eaf//736ZTp04mKirKWn7mzBnz3//+13rER9bncH733Xfm9ddfN+XKlTPLly932/7+/fuvusekFPWYfffdd0aS+eijj8x///tfl9eRI0ds2caiMm3aNBMUFGSWLVtm1qxZY5o0aWKGDRtmjDHm1KlT5r///a/1iJPsz5R8+umnTfny5c22bdus9saMGWPq169vVq9ebT279JFHHrFj04pNUY7ZwoULjcPhMGvXrs3xu3XixAm7NrHIFfXvWVbr1q27qh6TgrKJrC88sr7gyPrCI+sLj6wvOCblV6jXX3/dNGnSxFSuXNkMHTrUHD9+3FqW+Uv6wQcfWGWHDh0y/fr1M5UqVTLNmzc3H374Ya5tX41BbUzRjtnixYuNJLevUaNGleh2FYcnn3zSXHPNNSY4ONiMGTPG+sL84IMPjCSzbt06q25SUpLp2rWrCQgIMFFRUWbVqlUubZ0/f97cd999JjQ01NSpU8c88sgjJj09vUS3pyQU1Zi99NJLuf5uPf300yW+XcWpKH/PsrraghplF1lfeGR9wZH1hUfWFx5ZXzAOY4wp+pPiAQAAAABAfrjRGwAAAAAANmFSDgAAAACATZiUAwAAAABgEyblAAAAAADYhEk5AAAAAAA2YVIOAJdg6tSpcjgcOnDggN1dKRGZ2zt37txiaX/u3LlyOByaOnVqkbe9fv16ORwOffrpp5fd1oEDB+RwONS1a9ci6BkAoLQj74sWee+eZ4l8CgCgSBw4cEAffPCBhg0bpvDw8BL73JiYGFWpUkXt2rUr9LpTp05VVFSU+vTpk2uddu3aafbs2YqKirqcbha5uXPn6vTp07r33nslSUFBQZo9e7ZCQ0Nt7hkA4GpG3pcsu/OeSTkAXEH279+vp59+Wk2bNi3RkI6MjFRkZOQlrfv0009r3LhxeYZ048aN1bhx40vtXrH54IMPdOzYMSuk/fz8dN9999ncKwDA1Y68L1l25z2nrwMAAAAAYBMm5QBQzI4fP64xY8aoUaNG8vX1Vbt27fTxxx+71OnatasGDx6s77//Xv3791dQUJCaN2+uv//978rIyJB08bSwLl26SJKGDh2qevXqWev/+uuvuummm1S3bl1VrlxZXbt21apVq1w+Y+rUqfL29tbp06f10EMPKTw8XJUqVdKgQYPyvVYu8xqwhIQEqyw9PV3Tpk1T69atVbFiRYWFhenZZ5/VhQsXJP3v2i5Jmj17dp7X5Lm7Dmzt2rXq1q2bgoKCVLlyZfXq1UuJiYku6509e1YPP/ywmjZtKj8/P0VGRuqVV16RMSbP7fn99981duxY1a1bV15eXgoNDdXQoUO1a9cuq47D4dC6deu0c+dOl+vrHA6Hxo8f79Le22+/rfbt28vPz09NmjTRuHHjlJqa6lLH4XDohRde0OrVqxUTE6PAwEA1atRIb775Zp59BQBcGch78j5zvcLmPZNyAChGx44dU8uWLfX5559r4MCBmjRpktLT03XTTTdp5syZLnX37dunbt26ycPDQw899JCCg4P15JNP6rbbbpN08TqvBx54QJJ0xx13WDdJ+eWXX9SyZUvFxsZq0KBBGj9+vI4fP64+ffrogw8+cPkMY4xuvvlmxcfH65ZbblGvXr30r3/9S8OHDy/0tvXr10/PPPOMWrVqpSeeeELh4eF6/PHHNWTIEElSw4YNNXv2bElSp06dNHv2bAUFBRWo7fj4ePXu3VsHDx7UHXfcoeHDh2vHjh3q3bu3Tpw4IUnKyMhQ586d9fLLL6tly5aaPHmyqlSpogkTJmj06NF5tn/jjTfqn//8p3r37q2pU6fq+uuv14oVK9SrVy+lp6dLuviHRcOGDVWjRg3Nnj071+vrJk6cqLvvvlteXl569NFHde211+qtt95SVFSUzp0751J38+bNuummmxQWFqYJEyZY16+tXr26QOMCACidyHvyPqtC570BABTa008/bSSZ/fv351lv/PjxpkqVKubQoUNWWXp6uunXr5/x8vIyx44dM8YY06VLFyPJPPjggy7rjx492jgcDpOYmGiMMWbdunVGklmyZIlVZ9SoUcbT09N8//33Vtnp06dNmzZtTHBwsDl9+rRLn/v162fS09OtujExMcbhcJi//vor1+344IMPjCSzdetWY4wxn376qXE4HGbVqlUu9V544QUjyXz55ZdWmSQzbty4PMcp+3Y9/PDDxuFwmOPHj1t15s+fb6pUqWJWr17t0qc5c+a4tDV27FjjcDhMQkKC27b/+OMPI8ncddddLus999xzRpJJSkqyyrp06WKaNm3qUi/r9uzbt894enqam266yWRkZFh1Pv74YyPJzJw502U9h8NhNm3aZJVt2bLFSDKPPPJInuMDALAHeU/eG1P8ec+RcgAoRkuWLFFMTIyMMTp06JAOHTqkw4cP68Ybb9TZs2f17bffWnUdDoemTJnisv6TTz4pY4yWL1+e62csX75cAwYMULNmzawyb29v/e1vf1NycrLLKWiSNGHCBDmd//v6b9OmjYwxOnPmTKG2q0GDBoqIiLC269ChQxo8eLCcTqfWrFlT4LbcKVeunIwxio2NtcpGjBih33//XT169JB0cburVaumu+66y2XdKVOmyBijFStWuG3bz89PycnJevXVV13KM08/K8w4rFq1SmlpaZoyZYp16p4kDRs2TA0aNNCXX37pUv/666932QPfpk0bSdLp06cL/JkAgNKHvL805P1F3H0dAIrJn3/+qcOHD2vevHmaN2+e2zpHjhyxfq5Ro4aqVq3qsrxOnTry8/PTTz/95Hb9U6dO6dixY2rSpEmOZZllP/74ozp27GiVN2rUyKWeh4dHwTYoi71792rfvn2qWbOm2+VZt+tSjB8/XkuXLtXIkSP1+OOPq2vXrurZs6f69esnPz8/SRe3q1GjRjn6HxoaKn9/f/34449u2/bw8FDVqlUVGxur7777Tj/++KN++OEHff/994Xu548//iin0+n2TrJNmjTJ0Wb2sc/6xxIA4MpE3l868v4iJuUAUEwyr1W6+eabNWLECLd1IiIirJ89Pd1/JXt4eFg3U8nO/P8bnGTda5spMwDS0tJcyr28vPLpef7S09PVtGlTPf/8826XBwcHX1b7wcHB2rFjh1asWKHly5drzZo1ev/991WtWjV9/vnnateunYwxbrdburjt2bc708mTJ3XDDTdo3bp16tq1q1q2bKkePXroyJEjeuyxxwrVT5PHDWbc9aEoxh4AULqQ95eOvL+ISTkAFJOAgABVqVJFnp6e6tu3r8uy33//XXv37nXZU37o0CGlpqZae4Yl6eDBgzp58qQaNGiQ62dUrlxZP/zwQ45lSUlJki7egKWoNWjQQFu2bMmxXefPn1d8fLxq1KhxWe3v3btXTqdTAwcO1MCBAyVJ33zzjXr06KGnnnpKK1euVP369fXvf/9b6enpLnvPf/vtN508eTLX7f7444/11VdfKT4+Xm3btrXK58yZU+h+1q9fXxkZGdqzZ4+aNm3qsuyHH34olrEHAJQu5P2lI+8v4rw5AChG/fr105IlS3KcjnbXXXepX79+LnvL09PT9fLLL7vUy7zjap8+fVzKMx+bIkl9+/bVv/71LyuUpYvXSb388suqXr26dR1TUerXr59++eUXLVy40KV8zpw56tixow4ePJhrfwvioYce0rXXXquzZ89aZe3bt1doaKjVVt++fXXkyBG9++67LutOmzZNUs4xy7Rr1y45nU6Xvftnz561TjnM3te8+t67d295enpq+vTpLnvRP/nkE+3du1cxMTEF2VwAwBWOvM/Z34Ig7y/iSDkAXIYZM2YoMDAwR3l4eLiGDx+uZ555Rl988YXatm2r0aNHy8fHR6tWrdKWLVv0xhtvqEKFCtY6AQEBmjFjhnbt2qUWLVpo3bp1Wr16tW666SbrZiEBAQGSpA8//FAOh0NDhw61PqNjx44aNWqUAgMD9emnn2rnzp167733VLFixSLf7ltuuUVvvvmmbrnlFq1atUqNGjXSpk2btGLFCt10002Kiopy2a6vv/5a7733nm644QaXIwO5GTRokJYvX6527dqpZ8+ecjqd+uqrr/Tjjz/qmWeekSTdeuutmjNnju699179+9//Vnh4uDZs2KCVK1dq1KhRioyMdNt2165d9eqrr2rQoEHq37+/zp07p48//tj6t3j22Wc1Y8YMNWjQQAEBAfruu+/05ptvqlu3bjmuEWvYsKHGjx+vV155RYcPH1aPHj30008/ae7cuWrcuHGO55sCAK5M5D15X6x57/ae7ACAPGU+biS316BBg6y6Bw8eNMOHDzd169Y1fn5+pl27di6PODHmf4/iSExMNN26dTMBAQGmSZMm5umnnzZpaWkudW+77TYTEBBgWrVqZZUdOHDADBs2zNSuXdtUqlTJdOnSJcfjSzL7nPlYlvzKs8r+iBRjjDl79qyZNGmSadq0qfHx8THh4eHm+eefN+fOnXNZ99VXXzWhoaEmICDA/Prrr27bd/fol1mzZpmmTZuaihUrmqCgIHPdddeZTz/91GW906dPmwkTJpgmTZoYX19f06ZNG/PKK6+4PK4kt7YbNGhgKlasaKKiosxrr71m0tLSzI033miqV69u1q9fb4wxZu3ataZZs2bGx8fHfPLJJ8YY9498eeONN0xUVJTx9fU1YWFhZty4cebUqVMuddytl1c5AMB+5D15n1Vx5b3j/1cAANioa9eu+n/t3bENhDAMBVBnCtbLIFmDghKxDl3WiJQVbgHgKmSd7r0JfvdlyU7GGNF7z45yad/3qLXGeZ6vrMcBwD/Q91xxUw7AV3PO7AgAwMv0fQ5DOQCPjuOIbduilHL7TykA8Nv0fR4PvQHwqLUWERHrusayLMlpAIA36Ps8bsoBAAAgifV1AAAASGIoBwAAgCSGcgAAAEjyAZLUhAvBN1WYAAAAAElFTkSuQmCC",
      "text/plain": [
       "<Figure size 1200x500 with 2 Axes>"
      ]
     },
     "metadata": {},
     "output_type": "display_data"
    }
   ],
   "source": [
    "masses = [s.split(\"_\")[1] for s in samples]\n",
    "nplots = 2\n",
    "plt.subplots(1, nplots, figsize=(nplots*12, 10))\n",
    "plt.subplot(1, nplots, 1)\n",
    "for sample in samples:\n",
    "    utilities.plot(out[sample][\"hists\"][\"lj_pfiso\"][channels[0], :], density=True)\n",
    "    plt.legend(masses, title=\"DM bound state mass\", alignment=\"left\")\n",
    "    plt.ylabel(\"Arbitrary units\")\n",
    "plt.subplot(1, nplots, 2)\n",
    "for sample in samples:\n",
    "    utilities.plot(out[sample][\"hists\"][\"lj_pfiso\"][channels[0], :], density=True)\n",
    "    plt.legend(masses, title=\"DM bound state mass\", alignment=\"left\")\n",
    "    plt.ylabel(\"Arbitrary units\")"
   ]
  },
  {
   "cell_type": "markdown",
   "id": "d920ae33-9f8e-42eb-bc52-45b673798695",
   "metadata": {
    "tags": []
   },
   "source": [
    "Next plot pT and eta for all bound-state masses. Plot leading and sub-leading lepton pT separately to show momentum imbalance."
   ]
  },
  {
   "cell_type": "code",
   "execution_count": null,
   "id": "0252c908-dbfe-47d7-bda4-7d5bfe59457d",
   "metadata": {
    "tags": []
   },
   "outputs": [],
   "source": [
    "# electrons\n",
    "nplots = 3\n",
    "plt.subplots(1, nplots, figsize=(nplots*12, 10))\n",
    "plt.subplot(1, nplots, 1)\n",
    "for sample in samples:\n",
    "    utilities.plot(out[sample][\"hists\"][\"genE0_pt_highRange\"][channels[0], :600j], density=True)\n",
    "    plt.legend(masses, title=\"DM bound state mass\", alignment=\"left\")\n",
    "    plt.ylim(0, 0.04)\n",
    "    plt.ylabel(\"Arbitrary units\")\n",
    "plt.subplot(1, nplots, 2)\n",
    "for sample in samples:\n",
    "    utilities.plot(out[sample][\"hists\"][\"genE1_pt_highRange\"][channels[0], :600j], density=True)\n",
    "    plt.legend(masses, title=\"DM bound state mass\", alignment=\"left\")\n",
    "    plt.ylim(0, 0.05)\n",
    "    plt.ylabel(\"Arbitrary units\")\n",
    "plt.subplot(1, nplots, 3)\n",
    "for sample in samples:\n",
    "    utilities.plot(out[sample][\"hists\"][\"genE_eta_phi\"][channels[0], ::2j, :].project(\"genE_eta\"), density=True)\n",
    "    plt.legend(masses, title=\"DM bound state mass\", alignment=\"left\", loc=\"upper left\")\n",
    "    plt.ylim(0, 0.4)\n",
    "    plt.ylabel(\"Arbitrary units\")\n",
    "#plt.savefig(\"../../plots/gen_electron_pt_eta.pdf\", bbox_inches=\"tight\")\n",
    "\n",
    "# muons\n",
    "nplots = 3\n",
    "plt.subplots(1, nplots, figsize=(nplots*12, 10))\n",
    "plt.subplot(1, nplots, 1)\n",
    "for sample in samples:\n",
    "    utilities.plot(out[sample][\"hists\"][\"genMu0_pt_highRange\"][channels[0], :600j], density=True)\n",
    "    plt.legend(masses, title=\"DM bound state mass\", alignment=\"left\")\n",
    "    plt.ylim(0, 0.04)\n",
    "    plt.ylabel(\"Arbitrary units\")\n",
    "plt.subplot(1, nplots, 2)\n",
    "for sample in samples:\n",
    "    utilities.plot(out[sample][\"hists\"][\"genMu1_pt_highRange\"][channels[0], :600j], density=True)\n",
    "    plt.legend(masses, title=\"DM bound state mass\", alignment=\"left\")\n",
    "    plt.ylim(0, 0.05)\n",
    "    plt.ylabel(\"Arbitrary units\")\n",
    "plt.subplot(1, nplots, 3)\n",
    "for sample in samples:\n",
    "    utilities.plot(out[sample][\"hists\"][\"genMu_eta_phi\"][channels[0], ::2j, :].project(\"genMu_eta\"), density=True)\n",
    "    plt.legend(masses, title=\"DM bound state mass\", alignment=\"left\", loc=\"upper left\")\n",
    "    plt.ylim(0, 0.4)\n",
    "    plt.ylabel(\"Arbitrary units\")\n",
    "#plt.savefig(\"../../plots/gen_muon_pt_eta.pdf\", bbox_inches=\"tight\")"
   ]
  },
  {
   "cell_type": "markdown",
   "id": "0dc88b37-57ed-4c19-9da0-4df75e88fc77",
   "metadata": {},
   "source": [
    "Also zoom in on low-pT range for leading and subleading pT"
   ]
  },
  {
   "cell_type": "code",
   "execution_count": null,
   "id": "15f93ac6-7404-4b20-8f07-c53004eaf0ec",
   "metadata": {
    "tags": []
   },
   "outputs": [],
   "source": [
    "# electrons\n",
    "nplots = 2\n",
    "plt.subplots(1, nplots, figsize=(nplots*12, 10))\n",
    "plt.subplot(1, nplots, 1)\n",
    "for sample in samples:\n",
    "    utilities.plot(out[sample][\"hists\"][\"genE0_pt\"][channels[0], :100j:2j], density=True)\n",
    "    plt.legend(masses, title=\"DM bound state mass\", alignment=\"left\")\n",
    "    plt.ylim(0, 0.08)\n",
    "    plt.ylabel(\"Arbitrary units\")\n",
    "plt.subplot(1, nplots, 2)\n",
    "for sample in samples:\n",
    "    utilities.plot(out[sample][\"hists\"][\"genE1_pt\"][channels[0], :100j:2j], density=True)\n",
    "    plt.legend(masses, title=\"DM bound state mass\", alignment=\"left\")\n",
    "    plt.ylim(0, 0.09)\n",
    "    plt.ylabel(\"Arbitrary units\")\n",
    "\n",
    "# muons\n",
    "nplots = 2\n",
    "plt.subplots(1, nplots, figsize=(nplots*12, 10))\n",
    "plt.subplot(1, nplots, 1)\n",
    "for sample in samples:\n",
    "    utilities.plot(out[sample][\"hists\"][\"genMu0_pt\"][channels[0], :100j:2j], density=True)\n",
    "    plt.legend(masses, title=\"DM bound state mass\", alignment=\"left\")\n",
    "    plt.ylim(0, 0.08)\n",
    "    plt.ylabel(\"Arbitrary units\")\n",
    "plt.subplot(1, nplots, 2)\n",
    "for sample in samples:\n",
    "    utilities.plot(out[sample][\"hists\"][\"genMu1_pt\"][channels[0], :100j:2j], density=True)\n",
    "    plt.legend(masses, title=\"DM bound state mass\", alignment=\"left\")\n",
    "    plt.ylim(0, 0.09)\n",
    "    plt.ylabel(\"Arbitrary units\")"
   ]
  },
  {
   "cell_type": "markdown",
   "id": "6159f04d-084a-4369-8f95-b2158b1b8d3f",
   "metadata": {},
   "source": [
    "The pT imbalance between leading and subleading leptons sure is significant. I expect the trigger will be a serious source of inefficiency for 2mu2e events with bound state mass <500GeV. I think we should make sure to understand why the pT imbalance is so big."
   ]
  },
  {
   "cell_type": "markdown",
   "id": "fccb1a8c-9bb1-4551-acfa-960ec15d0a30",
   "metadata": {},
   "source": [
    "My expectation is that the pT distributions won't meaningfully depend on the dark photon mass, but I should check."
   ]
  },
  {
   "cell_type": "code",
   "execution_count": null,
   "id": "68386247-6ee3-4638-9e6a-4968752740c0",
   "metadata": {
    "tags": []
   },

   "outputs": [
    {
     "data": {
      "application/vnd.jupyter.widget-view+json": {
       "model_id": "31ec73c76b464f82989c7b2d665e9bfe",
       "version_major": 2,
       "version_minor": 0
      },
      "text/plain": [
       "Output()"
      ]
     },
     "metadata": {},
     "output_type": "display_data"
    },
    {
     "data": {
      "text/html": [
       "<pre style=\"white-space:pre;overflow-x:auto;line-height:normal;font-family:Menlo,'DejaVu Sans Mono',consolas,'Courier New',monospace\"></pre>\n"
      ],
      "text/plain": []
     },
     "metadata": {},
     "output_type": "display_data"
    },
    {
     "data": {
      "text/html": [
       "<pre style=\"white-space:pre;overflow-x:auto;line-height:normal;font-family:Menlo,'DejaVu Sans Mono',consolas,'Courier New',monospace\">\n",
       "</pre>\n"
      ],
      "text/plain": [
       "\n"
      ]
     },
     "metadata": {},
     "output_type": "display_data"
    },
    {
     "data": {
      "application/vnd.jupyter.widget-view+json": {
       "model_id": "02e724168e2546ab9f95df236706e3d7",
       "version_major": 2,
       "version_minor": 0
      },
      "text/plain": [
       "Output()"
      ]
     },
     "metadata": {},
     "output_type": "display_data"
    },
    {
     "name": "stdout",
     "output_type": "stream",
     "text": [
      "Not applying any cuts to the lepton jets for channel  baseNoLj\n",
      "Not applying any cuts to the lepton jets for channel  baseNoLj\n",
      "Not applying any cuts to the lepton jets for channel  baseNoLj\n",
      "Not applying any cuts to the lepton jets for channel  baseNoLj\n",
      "Not applying any cuts to the lepton jets for channel  baseNoLj\n",
      "Not applying any cuts to the lepton jets for channel  baseNoLj\n",
      "Not applying any cuts to the lepton jets for channel  baseNoLj\n",
      "Not applying any cuts to the lepton jets for channel  baseNoLj\n",
      "Not applying any cuts to the lepton jets for channel  baseNoLj\n",
      "Not applying any cuts to the lepton jets for channel  baseNoLj\n",
      "Not applying any cuts to the lepton jets for channel  baseNoLj\n",
      "Not applying any cuts to the lepton jets for channel  baseNoLj\n",
      "Not applying any cuts to the lepton jets for channel  baseNoLj\n",
      "Not applying any cuts to the lepton jets for channel  baseNoLj\n",
      "Not applying any cuts to the lepton jets for channel  baseNoLj\n",
      "Not applying any cuts to the lepton jets for channel  baseNoLj\n"
     ]
    },
    {
     "data": {
      "text/html": [
       "<pre style=\"white-space:pre;overflow-x:auto;line-height:normal;font-family:Menlo,'DejaVu Sans Mono',consolas,'Courier New',monospace\"></pre>\n"
      ],
      "text/plain": []
     },
     "metadata": {},
     "output_type": "display_data"
    },
    {
     "data": {
      "text/html": [
       "<pre style=\"white-space:pre;overflow-x:auto;line-height:normal;font-family:Menlo,'DejaVu Sans Mono',consolas,'Courier New',monospace\">\n",
       "</pre>\n"
      ],
      "text/plain": [
       "\n"
      ]
     },
     "metadata": {},
     "output_type": "display_data"
    }
   ],

   "source": [
    "dp_samples = [\n",
    "    \"2Mu2E_100GeV_0p25GeV_2mm\",\n",
    "    \"2Mu2E_100GeV_1p2GeV_9p6mm\",\n",
    "    \"2Mu2E_100GeV_5GeV_40mm\",\n",
    "]\n",
    "dp_fileset = utilities.make_fileset(dp_samples, \"ffntuple_v4\")\n",
    "\n",
    "dp_output = runner.run(dp_fileset, treename=\"ffNtuplizer/ffNtuple\", processor_instance=p)\n",
    "dp_out = dp_output[\"out\"]"
   ]
  },
  {
   "cell_type": "code",
   "execution_count": null,
   "id": "ac2d48b8-c64c-417f-8a4a-7bb7d03d41da",
   "metadata": {
    "tags": []
   },
   "outputs": [],
   "source": [
    "dp_masses = [s.split(\"_\")[2] for s in dp_samples]\n",
    "# electrons\n",
    "nplots = 3\n",
    "plt.subplots(1, nplots, figsize=(nplots*12, 10))\n",
    "plt.subplot(1, nplots, 1)\n",
    "for sample in dp_samples:\n",
    "    utilities.plot(dp_out[sample][\"hists\"][\"genE0_pt\"][channels[0], :100j], density=True)\n",
    "    plt.legend(dp_masses, title=\"Dark photon mass\", alignment=\"left\")\n",
    "    #plt.ylim(0, 0.04)\n",
    "    plt.ylabel(\"Arbitrary units\")\n",
    "plt.subplot(1, nplots, 2)\n",
    "for sample in dp_samples:\n",
    "    utilities.plot(dp_out[sample][\"hists\"][\"genE1_pt\"][channels[0], :100j], density=True)\n",
    "    plt.legend(dp_masses, title=\"Dark photon mass\", alignment=\"left\")\n",
    "    #plt.ylim(0, 0.05)\n",
    "    plt.ylabel(\"Arbitrary units\")\n",
    "plt.subplot(1, nplots, 3)\n",
    "for sample in dp_samples:\n",
    "    utilities.plot(dp_out[sample][\"hists\"][\"genE_eta_phi\"][channels[0], ::2j, :].project(\"genE_eta\"), density=True)\n",
    "    plt.legend(dp_masses, title=\"Dark photon mass\", alignment=\"left\")\n",
    "    plt.ylim(0, 0.4)\n",
    "    plt.ylabel(\"Arbitrary units\")\n",
    "plt.savefig(\"../../plots/gen_electron_pt_eta.pdf\", bbox_inches=\"tight\")\n",
    "\n",
    "# muons\n",
    "nplots = 3\n",
    "plt.subplots(1, nplots, figsize=(nplots*12, 10))\n",
    "plt.subplot(1, nplots, 1)\n",
    "for sample in dp_samples:\n",
    "    utilities.plot(dp_out[sample][\"hists\"][\"genMu0_pt\"][channels[0], :100j], density=True)\n",
    "    plt.legend(dp_masses, title=\"Dark photon mass\", alignment=\"left\")\n",
    "    #plt.ylim(0, 0.04)\n",
    "    plt.ylabel(\"Arbitrary units\")\n",
    "plt.subplot(1, nplots, 2)\n",
    "for sample in dp_samples:\n",
    "    utilities.plot(dp_out[sample][\"hists\"][\"genMu1_pt\"][channels[0], :100j], density=True)\n",
    "    plt.legend(dp_masses, title=\"Dark photon mass\", alignment=\"left\")\n",
    "    #plt.ylim(0, 0.05)\n",
    "    plt.ylabel(\"Arbitrary units\")\n",
    "plt.subplot(1, nplots, 3)\n",
    "for sample in dp_samples:\n",
    "    utilities.plot(dp_out[sample][\"hists\"][\"genMu_eta_phi\"][channels[0], ::2j, :].project(\"genMu_eta\"), density=True)\n",
    "    plt.legend(dp_masses, title=\"Dark photon mass\", alignment=\"left\")\n",
    "    plt.ylim(0, 0.4)\n",
    "    plt.ylabel(\"Arbitrary units\")\n",
    "plt.savefig(\"../../plots/gen_muon_pt_eta.pdf\", bbox_inches=\"tight\")"
   ]
  },
  {
   "cell_type": "markdown",
   "id": "77f8e515-9cfe-4a0e-bd26-e13e002d2cb5",
   "metadata": {},
   "source": [
    "Ah, dark photon mass is relevant for muons when it falls below twice the muon mass. I don't understand why the pT imbalance decreases in this case. Maybe there's an an boost/decay-angle/transverse-plane thing going on? Maybe the deltaEta between leptons can tell us something."
   ]
  },
  {
   "cell_type": "code",
   "execution_count": null,
   "id": "34bb8a34-d6b9-42f9-86cc-104db25f9e50",
   "metadata": {
    "tags": []
   },
   "outputs": [],
   "source": [
    "nplots = 2\n",
    "plt.subplots(1, nplots, figsize=(nplots*12, 10))\n",
    "plt.subplot(1, nplots, 1)\n",
    "for sample in dp_samples:\n",
    "    utilities.plot(dp_out[sample][\"hists\"][\"genE_genE_dEta\"][channels[0], :0.5j], density=True)\n",
    "    plt.legend(dp_masses, title=\"Dark photon mass\", alignment=\"left\")\n",
    "    #plt.ylim(0, 0.04)\n",
    "    plt.ylabel(\"Arbitrary units\")\n",
    "plt.subplot(1, nplots, 2)\n",
    "for sample in dp_samples:\n",
    "    utilities.plot(dp_out[sample][\"hists\"][\"genMu_genMu_dEta\"][channels[0], :0.5j], density=True)\n",
    "    plt.legend(dp_masses, title=\"Dark photon mass\", alignment=\"left\")\n",
    "    #plt.ylim(0, 0.04)\n",
    "    plt.ylabel(\"Arbitrary units\")"
   ]
  },
  {
   "cell_type": "markdown",
   "id": "3b790445-0072-430b-82d7-64d572e906dd",
   "metadata": {},
   "source": [
    "Hmm, $\\Delta\\eta$ behaves the same for electrons and muons, so I don't think that's the culprit here. Maybe I have to zoom way in to see detail in the <0.1 region though"
   ]
  },
  {
   "cell_type": "code",
   "execution_count": null,
   "id": "9c6f3be4-0724-492c-b69b-d4e730f29f1f",
   "metadata": {},
   "outputs": [],
   "source": []
  }
 ],
 "metadata": {
  "kernelspec": {
   "display_name": "Python 3 (ipykernel)",
   "language": "python",
   "name": "python3"
  },
  "language_info": {
   "codemirror_mode": {
    "name": "ipython",
    "version": 3
   },
   "file_extension": ".py",
   "mimetype": "text/x-python",
   "name": "python",
   "nbconvert_exporter": "python",
   "pygments_lexer": "ipython3",

   "version": "3.8.16"


  }
 },
 "nbformat": 4,
 "nbformat_minor": 5
}
