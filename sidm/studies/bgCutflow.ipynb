{
 "cells": [
  {
   "cell_type": "code",
   "execution_count": 1,
   "id": "a9b806f4-7d38-4cdf-a7b8-76d42d180e0e",
   "metadata": {},
   "outputs": [],
   "source": [
    "# python\n",
    "import sys\n",
    "import os\n",
    "import importlib\n",
    "# columnar analysis\n",
    "from coffea import processor\n",
    "import awkward as ak\n",
    "from dask.distributed import Client\n",
    "# local\n",
    "sys.path.insert(1, os.path.join(sys.path[0], '../..')) \n",
    "from sidm.tools import ffschema, sidm_processor, utilities, scaleout, cutflow\n",
    "# always reload local modules to pick up changes during development\n",
    "importlib.reload(ffschema)\n",
    "importlib.reload(sidm_processor)\n",
    "importlib.reload(utilities)\n",
    "importlib.reload(cutflow)\n",
    "# plotting\n",
    "import matplotlib.pyplot as plt\n",
    "import mplhep as hep\n",
    "\n",
    "# Load style sheet\n",
    "# plt.style.use(hep.style.CMS)  # or ATLAS/LHCb2\n",
    "\n",
    "# h, bins = np.histogram(np.random.random(1000))\n",
    "# fig, ax = plt.subplots()\n",
    "# hep.histplot(h, bins)\n",
    "\n",
    "utilities.set_plot_style()"
   ]
  },
  {
   "cell_type": "code",
   "execution_count": 2,
   "id": "dc658b30-6220-4186-812b-8a3fa8a93763",
   "metadata": {
    "tags": []
   },
   "outputs": [],
   "source": [
    "#client = scaleout.make_dask_client(\"tls://localhost:8786\")\n",
    "#client"
   ]
  },
  {
   "cell_type": "code",
   "execution_count": 3,
   "id": "144357e6-9c9a-49de-beef-cc409d78a07e",
   "metadata": {},
   "outputs": [
    {
     "name": "stdout",
     "output_type": "stream",
     "text": [
      "Sample: DYJetsToLL_M10to50\n",
      "Sample: DYJetsToLL_M50\n",
      "Sample: QCD_Pt15to20\n",
      "Sample: TTJets\n",
      "Sample: WW\n",
      "Sample: WZ\n",
      "Sample: ZZ\n",
      "Sample: 4Mu_100GeV_1p2GeV_9p6mm\n",
      "Sample: 4Mu_1000GeV_0p25GeV_0p02mm\n",
      "Sample: 4Mu_100GeV_5GeV_0p4mm\n"
     ]
    }
   ],
   "source": [
    "SIDM_samples = [\n",
    "    #\"2Mu2E_100GeV_1p2GeV_9p6mm\", \n",
    "    \"4Mu_100GeV_1p2GeV_9p6mm\",\n",
    "    \n",
    "    #\"2Mu2E_1000GeV_0p25GeV_0p02mm\",\n",
    "    \"4Mu_1000GeV_0p25GeV_0p02mm\",\n",
    "\n",
    "    \"4Mu_100GeV_5GeV_0p4mm\"\n",
    "]\n",
    "\n",
    "\n",
    "samples = [\n",
    "    \"DYJetsToLL_M10to50\", # Background\n",
    "    \"DYJetsToLL_M50\",\n",
    "    \n",
    "    \"QCD_Pt15to20\", #Works\n",
    "    #\"QCD_Pt20to30\", #issue, needs many files to fill all histograms\n",
    "    #\"QCD_Pt30to50\", #Broken, throws KeyError: 'akjet_ak4PFJetsCHS_jetid'\n",
    "    #\"QCD_Pt50to80\", #Works\n",
    "    #\"QCD_Pt80to120\", #Works\n",
    "    #\"QCD_Pt120to170\", # Really broken, Exception: Failed processing file: WorkItem(dataset='QCD_Pt120to170' ...)\n",
    "    #\"QCD_Pt170to300\", #Works\n",
    "    #\"QCD_Pt300to470\", #Works\n",
    "    #\"QCD_Pt470to600\", #Works\n",
    "    #\"QCD_Pt600to800\", #Works\n",
    "    #\"QCD_Pt800to1000\", #Works\n",
    "    #\"QCD_Pt1000toInf\", #Works\n",
    "    \n",
    "    \"TTJets\",\n",
    "    \"WW\",\n",
    "    \"WZ\",\n",
    "    \"ZZ\",\n",
    "]\n",
    "\n",
    "for sample in SIDM_samples:\n",
    "    samples.append(sample)\n",
    "\n",
    "for sample in samples:\n",
    "    print(\"Sample: \" + sample)\n",
    "    \n",
    "#fileset = utilities.make_fileset(samples, \"ffntuple_v2\") #max_files argument was removed, so it defaults to use all the files in each sample\n",
    "fileset = utilities.make_fileset(samples, \"ffntuple_v2\", max_files=4) #CHANGED: background appears to use v2 ntuples instead of v4"
   ]
  },
  {
   "cell_type": "code",
   "execution_count": 4,
   "id": "8699f113-506e-4317-989b-d7f3f475dbc1",
   "metadata": {
    "scrolled": true,
    "tags": []
   },
   "outputs": [
    {
     "data": {
      "application/vnd.jupyter.widget-view+json": {
       "model_id": "977775f8a4a14a56bdbe7bd01e988f4f",
       "version_major": 2,
       "version_minor": 0
      },
      "text/plain": [
       "Output()"
      ]
     },
     "metadata": {},
     "output_type": "display_data"
    },
    {
     "name": "stdout",
     "output_type": "stream",
     "text": [
      "<sidm.tools.sidm_processor.SidmProcessor object at 0x7f0c67daf2e0>\n"
     ]
    },
    {
     "data": {
      "text/html": [
       "<pre style=\"white-space:pre;overflow-x:auto;line-height:normal;font-family:Menlo,'DejaVu Sans Mono',consolas,'Courier New',monospace\"></pre>\n"
      ],
      "text/plain": []
     },
     "metadata": {},
     "output_type": "display_data"
    },
    {
     "data": {
      "text/html": [
       "<pre style=\"white-space:pre;overflow-x:auto;line-height:normal;font-family:Menlo,'DejaVu Sans Mono',consolas,'Courier New',monospace\">\n",
       "</pre>\n"
      ],
      "text/plain": [
       "\n"
      ]
     },
     "metadata": {},
     "output_type": "display_data"
    },
    {
     "data": {
      "application/vnd.jupyter.widget-view+json": {
       "model_id": "9dc97800ed9242aea5320a0f7730ac17",
       "version_major": 2,
       "version_minor": 0
      },
      "text/plain": [
       "Output()"
      ]
     },
     "metadata": {},
     "output_type": "display_data"
    },
    {
     "data": {
      "text/html": [
       "<pre style=\"white-space:pre;overflow-x:auto;line-height:normal;font-family:Menlo,'DejaVu Sans Mono',consolas,'Courier New',monospace\">Not applying any cuts to the lepton jets for channel  baseNoLj\n",
       "</pre>\n"
      ],
      "text/plain": [
       "Not applying any cuts to the lepton jets for channel  baseNoLj\n"
      ]
     },
     "metadata": {},
     "output_type": "display_data"
    },
    {
     "data": {
      "text/html": [
       "<pre style=\"white-space:pre;overflow-x:auto;line-height:normal;font-family:Menlo,'DejaVu Sans Mono',consolas,'Courier New',monospace\">Not applying any cuts to the lepton jets for channel  baseNoLj\n",
       "</pre>\n"
      ],
      "text/plain": [
       "Not applying any cuts to the lepton jets for channel  baseNoLj\n"
      ]
     },
     "metadata": {},
     "output_type": "display_data"
    },
    {
     "data": {
      "text/html": [
       "<pre style=\"white-space:pre;overflow-x:auto;line-height:normal;font-family:Menlo,'DejaVu Sans Mono',consolas,'Courier New',monospace\">Not applying any cuts to the lepton jets for channel  baseNoLj\n",
       "</pre>\n"
      ],
      "text/plain": [
       "Not applying any cuts to the lepton jets for channel  baseNoLj\n"
      ]
     },
     "metadata": {},
     "output_type": "display_data"
    },
    {
     "data": {
      "text/html": [
       "<pre style=\"white-space:pre;overflow-x:auto;line-height:normal;font-family:Menlo,'DejaVu Sans Mono',consolas,'Courier New',monospace\">Not applying any cuts to the lepton jets for channel  baseNoLj\n",
       "</pre>\n"
      ],
      "text/plain": [
       "Not applying any cuts to the lepton jets for channel  baseNoLj\n"
      ]
     },
     "metadata": {},
     "output_type": "display_data"
    },
    {
     "data": {
      "text/html": [
       "<pre style=\"white-space:pre;overflow-x:auto;line-height:normal;font-family:Menlo,'DejaVu Sans Mono',consolas,'Courier New',monospace\">Not applying any cuts to the lepton jets for channel  baseNoLj\n",
       "</pre>\n"
      ],
      "text/plain": [
       "Not applying any cuts to the lepton jets for channel  baseNoLj\n"
      ]
     },
     "metadata": {},
     "output_type": "display_data"
    },
    {
     "data": {
      "text/html": [
       "<pre style=\"white-space:pre;overflow-x:auto;line-height:normal;font-family:Menlo,'DejaVu Sans Mono',consolas,'Courier New',monospace\">Not applying any cuts to the lepton jets for channel  baseNoLj\n",
       "</pre>\n"
      ],
      "text/plain": [
       "Not applying any cuts to the lepton jets for channel  baseNoLj\n"
      ]
     },
     "metadata": {},
     "output_type": "display_data"
    },
    {
     "data": {
      "text/html": [
       "<pre style=\"white-space:pre;overflow-x:auto;line-height:normal;font-family:Menlo,'DejaVu Sans Mono',consolas,'Courier New',monospace\">Not applying any cuts to the lepton jets for channel  baseNoLj\n",
       "</pre>\n"
      ],
      "text/plain": [
       "Not applying any cuts to the lepton jets for channel  baseNoLj\n"
      ]
     },
     "metadata": {},
     "output_type": "display_data"
    },
    {
     "data": {
      "text/html": [
       "<pre style=\"white-space:pre;overflow-x:auto;line-height:normal;font-family:Menlo,'DejaVu Sans Mono',consolas,'Courier New',monospace\">Not applying any cuts to the lepton jets for channel  baseNoLj\n",
       "</pre>\n"
      ],
      "text/plain": [
       "Not applying any cuts to the lepton jets for channel  baseNoLj\n"
      ]
     },
     "metadata": {},
     "output_type": "display_data"
    },
    {
     "data": {
      "text/html": [
       "<pre style=\"white-space:pre;overflow-x:auto;line-height:normal;font-family:Menlo,'DejaVu Sans Mono',consolas,'Courier New',monospace\">Not applying any cuts to the lepton jets for channel  baseNoLj\n",
       "</pre>\n"
      ],
      "text/plain": [
       "Not applying any cuts to the lepton jets for channel  baseNoLj\n"
      ]
     },
     "metadata": {},
     "output_type": "display_data"
    },
    {
     "data": {
      "text/html": [
       "<pre style=\"white-space:pre;overflow-x:auto;line-height:normal;font-family:Menlo,'DejaVu Sans Mono',consolas,'Courier New',monospace\">Not applying any cuts to the lepton jets for channel  baseNoLj\n",
       "</pre>\n"
      ],
      "text/plain": [
       "Not applying any cuts to the lepton jets for channel  baseNoLj\n"
      ]
     },
     "metadata": {},
     "output_type": "display_data"
    },
    {
     "data": {
      "text/html": [
       "<pre style=\"white-space:pre;overflow-x:auto;line-height:normal;font-family:Menlo,'DejaVu Sans Mono',consolas,'Courier New',monospace\">Not applying any cuts to the lepton jets for channel  baseNoLj\n",
       "</pre>\n"
      ],
      "text/plain": [
       "Not applying any cuts to the lepton jets for channel  baseNoLj\n"
      ]
     },
     "metadata": {},
     "output_type": "display_data"
    },
    {
     "data": {
      "text/html": [
       "<pre style=\"white-space:pre;overflow-x:auto;line-height:normal;font-family:Menlo,'DejaVu Sans Mono',consolas,'Courier New',monospace\">Not applying any cuts to the lepton jets for channel  baseNoLj\n",
       "</pre>\n"
      ],
      "text/plain": [
       "Not applying any cuts to the lepton jets for channel  baseNoLj\n"
      ]
     },
     "metadata": {},
     "output_type": "display_data"
    },
    {
     "data": {
      "text/html": [
       "<pre style=\"white-space:pre;overflow-x:auto;line-height:normal;font-family:Menlo,'DejaVu Sans Mono',consolas,'Courier New',monospace\">Warning: genAs_toMu not found in this sample. Skipping.\n",
       "</pre>\n"
      ],
      "text/plain": [
       "Warning: genAs_toMu not found in this sample. Skipping.\n"
      ]
     },
     "metadata": {},
     "output_type": "display_data"
    },
    {
     "data": {
      "text/html": [
       "<pre style=\"white-space:pre;overflow-x:auto;line-height:normal;font-family:Menlo,'DejaVu Sans Mono',consolas,'Courier New',monospace\">Warning: genAs_toE not found in this sample. Skipping.\n",
       "</pre>\n"
      ],
      "text/plain": [
       "Warning: genAs_toE not found in this sample. Skipping.\n"
      ]
     },
     "metadata": {},
     "output_type": "display_data"
    },
    {
     "data": {
      "text/html": [
       "<pre style=\"white-space:pre;overflow-x:auto;line-height:normal;font-family:Menlo,'DejaVu Sans Mono',consolas,'Courier New',monospace\">Not applying any cuts to the lepton jets for channel  baseNoLj\n",
       "</pre>\n"
      ],
      "text/plain": [
       "Not applying any cuts to the lepton jets for channel  baseNoLj\n"
      ]
     },
     "metadata": {},
     "output_type": "display_data"
    },
    {
     "data": {
      "text/html": [
       "<pre style=\"white-space:pre;overflow-x:auto;line-height:normal;font-family:Menlo,'DejaVu Sans Mono',consolas,'Courier New',monospace\">Warning: cannot fill counter Gen As to muons. Skipping.\n",
       "</pre>\n"
      ],
      "text/plain": [
       "Warning: cannot fill counter Gen As to muons. Skipping.\n"
      ]
     },
     "metadata": {},
     "output_type": "display_data"
    },
    {
     "data": {
      "text/html": [
       "<pre style=\"white-space:pre;overflow-x:auto;line-height:normal;font-family:Menlo,'DejaVu Sans Mono',consolas,'Courier New',monospace\">Warning: cannot fill counter Gen As to electrons. Skipping.\n",
       "</pre>\n"
      ],
      "text/plain": [
       "Warning: cannot fill counter Gen As to electrons. Skipping.\n"
      ]
     },
     "metadata": {},
     "output_type": "display_data"
    },
    {
     "data": {
      "text/html": [
       "<pre style=\"white-space:pre;overflow-x:auto;line-height:normal;font-family:Menlo,'DejaVu Sans Mono',consolas,'Courier New',monospace\">Warning: cannot fill counter Matched gen As to muons. Skipping.\n",
       "</pre>\n"
      ],
      "text/plain": [
       "Warning: cannot fill counter Matched gen As to muons. Skipping.\n"
      ]
     },
     "metadata": {},
     "output_type": "display_data"
    },
    {
     "data": {
      "text/html": [
       "<pre style=\"white-space:pre;overflow-x:auto;line-height:normal;font-family:Menlo,'DejaVu Sans Mono',consolas,'Courier New',monospace\">Warning: cannot fill counter Matched gen As to electrons. Skipping.\n",
       "</pre>\n"
      ],
      "text/plain": [
       "Warning: cannot fill counter Matched gen As to electrons. Skipping.\n"
      ]
     },
     "metadata": {},
     "output_type": "display_data"
    },
    {
     "data": {
      "text/html": [
       "<pre style=\"white-space:pre;overflow-x:auto;line-height:normal;font-family:Menlo,'DejaVu Sans Mono',consolas,'Courier New',monospace\">Warning: cannot fill counter Gen As to muons. Skipping.\n",
       "</pre>\n"
      ],
      "text/plain": [
       "Warning: cannot fill counter Gen As to muons. Skipping.\n"
      ]
     },
     "metadata": {},
     "output_type": "display_data"
    },
    {
     "data": {
      "text/html": [
       "<pre style=\"white-space:pre;overflow-x:auto;line-height:normal;font-family:Menlo,'DejaVu Sans Mono',consolas,'Courier New',monospace\">Warning: cannot fill counter Gen As to electrons. Skipping.\n",
       "</pre>\n"
      ],
      "text/plain": [
       "Warning: cannot fill counter Gen As to electrons. Skipping.\n"
      ]
     },
     "metadata": {},
     "output_type": "display_data"
    },
    {
     "data": {
      "text/html": [
       "<pre style=\"white-space:pre;overflow-x:auto;line-height:normal;font-family:Menlo,'DejaVu Sans Mono',consolas,'Courier New',monospace\">Warning: cannot fill counter Matched gen As to muons. Skipping.\n",
       "</pre>\n"
      ],
      "text/plain": [
       "Warning: cannot fill counter Matched gen As to muons. Skipping.\n"
      ]
     },
     "metadata": {},
     "output_type": "display_data"
    },
    {
     "data": {
      "text/html": [
       "<pre style=\"white-space:pre;overflow-x:auto;line-height:normal;font-family:Menlo,'DejaVu Sans Mono',consolas,'Courier New',monospace\">Warning: cannot fill counter Matched gen As to electrons. Skipping.\n",
       "</pre>\n"
      ],
      "text/plain": [
       "Warning: cannot fill counter Matched gen As to electrons. Skipping.\n"
      ]
     },
     "metadata": {},
     "output_type": "display_data"
    },
    {
     "data": {
      "text/html": [
       "<pre style=\"white-space:pre;overflow-x:auto;line-height:normal;font-family:Menlo,'DejaVu Sans Mono',consolas,'Courier New',monospace\">Warning: cannot fill counter Gen As to muons. Skipping.\n",
       "</pre>\n"
      ],
      "text/plain": [
       "Warning: cannot fill counter Gen As to muons. Skipping.\n"
      ]
     },
     "metadata": {},
     "output_type": "display_data"
    },
    {
     "data": {
      "text/html": [
       "<pre style=\"white-space:pre;overflow-x:auto;line-height:normal;font-family:Menlo,'DejaVu Sans Mono',consolas,'Courier New',monospace\">Warning: cannot fill counter Gen As to electrons. Skipping.\n",
       "</pre>\n"
      ],
      "text/plain": [
       "Warning: cannot fill counter Gen As to electrons. Skipping.\n"
      ]
     },
     "metadata": {},
     "output_type": "display_data"
    },
    {
     "data": {
      "text/html": [
       "<pre style=\"white-space:pre;overflow-x:auto;line-height:normal;font-family:Menlo,'DejaVu Sans Mono',consolas,'Courier New',monospace\">Warning: cannot fill counter Matched gen As to muons. Skipping.\n",
       "</pre>\n"
      ],
      "text/plain": [
       "Warning: cannot fill counter Matched gen As to muons. Skipping.\n"
      ]
     },
     "metadata": {},
     "output_type": "display_data"
    },
    {
     "data": {
      "text/html": [
       "<pre style=\"white-space:pre;overflow-x:auto;line-height:normal;font-family:Menlo,'DejaVu Sans Mono',consolas,'Courier New',monospace\">Warning: cannot fill counter Matched gen As to electrons. Skipping.\n",
       "</pre>\n"
      ],
      "text/plain": [
       "Warning: cannot fill counter Matched gen As to electrons. Skipping.\n"
      ]
     },
     "metadata": {},
     "output_type": "display_data"
    },
    {
     "data": {
      "text/html": [
       "<pre style=\"white-space:pre;overflow-x:auto;line-height:normal;font-family:Menlo,'DejaVu Sans Mono',consolas,'Courier New',monospace\">Warning: genAs_toMu not found in this sample. Skipping.\n",
       "</pre>\n"
      ],
      "text/plain": [
       "Warning: genAs_toMu not found in this sample. Skipping.\n"
      ]
     },
     "metadata": {},
     "output_type": "display_data"
    },
    {
     "data": {
      "text/html": [
       "<pre style=\"white-space:pre;overflow-x:auto;line-height:normal;font-family:Menlo,'DejaVu Sans Mono',consolas,'Courier New',monospace\">Warning: genAs_toE not found in this sample. Skipping.\n",
       "</pre>\n"
      ],
      "text/plain": [
       "Warning: genAs_toE not found in this sample. Skipping.\n"
      ]
     },
     "metadata": {},
     "output_type": "display_data"
    },
    {
     "data": {
      "text/html": [
       "<pre style=\"white-space:pre;overflow-x:auto;line-height:normal;font-family:Menlo,'DejaVu Sans Mono',consolas,'Courier New',monospace\">Not applying any cuts to the lepton jets for channel  baseNoLj\n",
       "</pre>\n"
      ],
      "text/plain": [
       "Not applying any cuts to the lepton jets for channel  baseNoLj\n"
      ]
     },
     "metadata": {},
     "output_type": "display_data"
    },
    {
     "data": {
      "text/html": [
       "<pre style=\"white-space:pre;overflow-x:auto;line-height:normal;font-family:Menlo,'DejaVu Sans Mono',consolas,'Courier New',monospace\">Warning: cannot fill counter Gen As to muons. Skipping.\n",
       "</pre>\n"
      ],
      "text/plain": [
       "Warning: cannot fill counter Gen As to muons. Skipping.\n"
      ]
     },
     "metadata": {},
     "output_type": "display_data"
    },
    {
     "data": {
      "text/html": [
       "<pre style=\"white-space:pre;overflow-x:auto;line-height:normal;font-family:Menlo,'DejaVu Sans Mono',consolas,'Courier New',monospace\">Warning: cannot fill counter Gen As to electrons. Skipping.\n",
       "</pre>\n"
      ],
      "text/plain": [
       "Warning: cannot fill counter Gen As to electrons. Skipping.\n"
      ]
     },
     "metadata": {},
     "output_type": "display_data"
    },
    {
     "data": {
      "text/html": [
       "<pre style=\"white-space:pre;overflow-x:auto;line-height:normal;font-family:Menlo,'DejaVu Sans Mono',consolas,'Courier New',monospace\">Warning: cannot fill counter Matched gen As to muons. Skipping.\n",
       "</pre>\n"
      ],
      "text/plain": [
       "Warning: cannot fill counter Matched gen As to muons. Skipping.\n"
      ]
     },
     "metadata": {},
     "output_type": "display_data"
    },
    {
     "data": {
      "text/html": [
       "<pre style=\"white-space:pre;overflow-x:auto;line-height:normal;font-family:Menlo,'DejaVu Sans Mono',consolas,'Courier New',monospace\">Warning: cannot fill counter Matched gen As to electrons. Skipping.\n",
       "</pre>\n"
      ],
      "text/plain": [
       "Warning: cannot fill counter Matched gen As to electrons. Skipping.\n"
      ]
     },
     "metadata": {},
     "output_type": "display_data"
    },
    {
     "data": {
      "text/html": [
       "<pre style=\"white-space:pre;overflow-x:auto;line-height:normal;font-family:Menlo,'DejaVu Sans Mono',consolas,'Courier New',monospace\">Warning: cannot fill counter Gen As to muons. Skipping.\n",
       "</pre>\n"
      ],
      "text/plain": [
       "Warning: cannot fill counter Gen As to muons. Skipping.\n"
      ]
     },
     "metadata": {},
     "output_type": "display_data"
    },
    {
     "data": {
      "text/html": [
       "<pre style=\"white-space:pre;overflow-x:auto;line-height:normal;font-family:Menlo,'DejaVu Sans Mono',consolas,'Courier New',monospace\">Warning: cannot fill counter Gen As to electrons. Skipping.\n",
       "</pre>\n"
      ],
      "text/plain": [
       "Warning: cannot fill counter Gen As to electrons. Skipping.\n"
      ]
     },
     "metadata": {},
     "output_type": "display_data"
    },
    {
     "data": {
      "text/html": [
       "<pre style=\"white-space:pre;overflow-x:auto;line-height:normal;font-family:Menlo,'DejaVu Sans Mono',consolas,'Courier New',monospace\">Warning: cannot fill counter Matched gen As to muons. Skipping.\n",
       "</pre>\n"
      ],
      "text/plain": [
       "Warning: cannot fill counter Matched gen As to muons. Skipping.\n"
      ]
     },
     "metadata": {},
     "output_type": "display_data"
    },
    {
     "data": {
      "text/html": [
       "<pre style=\"white-space:pre;overflow-x:auto;line-height:normal;font-family:Menlo,'DejaVu Sans Mono',consolas,'Courier New',monospace\">Warning: cannot fill counter Matched gen As to electrons. Skipping.\n",
       "</pre>\n"
      ],
      "text/plain": [
       "Warning: cannot fill counter Matched gen As to electrons. Skipping.\n"
      ]
     },
     "metadata": {},
     "output_type": "display_data"
    },
    {
     "data": {
      "text/html": [
       "<pre style=\"white-space:pre;overflow-x:auto;line-height:normal;font-family:Menlo,'DejaVu Sans Mono',consolas,'Courier New',monospace\">Warning: cannot fill counter Gen As to muons. Skipping.\n",
       "</pre>\n"
      ],
      "text/plain": [
       "Warning: cannot fill counter Gen As to muons. Skipping.\n"
      ]
     },
     "metadata": {},
     "output_type": "display_data"
    },
    {
     "data": {
      "text/html": [
       "<pre style=\"white-space:pre;overflow-x:auto;line-height:normal;font-family:Menlo,'DejaVu Sans Mono',consolas,'Courier New',monospace\">Warning: cannot fill counter Gen As to electrons. Skipping.\n",
       "</pre>\n"
      ],
      "text/plain": [
       "Warning: cannot fill counter Gen As to electrons. Skipping.\n"
      ]
     },
     "metadata": {},
     "output_type": "display_data"
    },
    {
     "data": {
      "text/html": [
       "<pre style=\"white-space:pre;overflow-x:auto;line-height:normal;font-family:Menlo,'DejaVu Sans Mono',consolas,'Courier New',monospace\">Warning: cannot fill counter Matched gen As to muons. Skipping.\n",
       "</pre>\n"
      ],
      "text/plain": [
       "Warning: cannot fill counter Matched gen As to muons. Skipping.\n"
      ]
     },
     "metadata": {},
     "output_type": "display_data"
    },
    {
     "data": {
      "text/html": [
       "<pre style=\"white-space:pre;overflow-x:auto;line-height:normal;font-family:Menlo,'DejaVu Sans Mono',consolas,'Courier New',monospace\">Warning: cannot fill counter Matched gen As to electrons. Skipping.\n",
       "</pre>\n"
      ],
      "text/plain": [
       "Warning: cannot fill counter Matched gen As to electrons. Skipping.\n"
      ]
     },
     "metadata": {},
     "output_type": "display_data"
    },
    {
     "data": {
      "text/html": [
       "<pre style=\"white-space:pre;overflow-x:auto;line-height:normal;font-family:Menlo,'DejaVu Sans Mono',consolas,'Courier New',monospace\">Warning: genAs_toMu not found in this sample. Skipping.\n",
       "</pre>\n"
      ],
      "text/plain": [
       "Warning: genAs_toMu not found in this sample. Skipping.\n"
      ]
     },
     "metadata": {},
     "output_type": "display_data"
    },
    {
     "data": {
      "text/html": [
       "<pre style=\"white-space:pre;overflow-x:auto;line-height:normal;font-family:Menlo,'DejaVu Sans Mono',consolas,'Courier New',monospace\">Warning: genAs_toE not found in this sample. Skipping.\n",
       "</pre>\n"
      ],
      "text/plain": [
       "Warning: genAs_toE not found in this sample. Skipping.\n"
      ]
     },
     "metadata": {},
     "output_type": "display_data"
    },
    {
     "data": {
      "text/html": [
       "<pre style=\"white-space:pre;overflow-x:auto;line-height:normal;font-family:Menlo,'DejaVu Sans Mono',consolas,'Courier New',monospace\">Not applying any cuts to the lepton jets for channel  baseNoLj\n",
       "</pre>\n"
      ],
      "text/plain": [
       "Not applying any cuts to the lepton jets for channel  baseNoLj\n"
      ]
     },
     "metadata": {},
     "output_type": "display_data"
    },
    {
     "data": {
      "text/html": [
       "<pre style=\"white-space:pre;overflow-x:auto;line-height:normal;font-family:Menlo,'DejaVu Sans Mono',consolas,'Courier New',monospace\">Warning: cannot fill counter Gen As to muons. Skipping.\n",
       "</pre>\n"
      ],
      "text/plain": [
       "Warning: cannot fill counter Gen As to muons. Skipping.\n"
      ]
     },
     "metadata": {},
     "output_type": "display_data"
    },
    {
     "data": {
      "text/html": [
       "<pre style=\"white-space:pre;overflow-x:auto;line-height:normal;font-family:Menlo,'DejaVu Sans Mono',consolas,'Courier New',monospace\">Warning: cannot fill counter Gen As to electrons. Skipping.\n",
       "</pre>\n"
      ],
      "text/plain": [
       "Warning: cannot fill counter Gen As to electrons. Skipping.\n"
      ]
     },
     "metadata": {},
     "output_type": "display_data"
    },
    {
     "data": {
      "text/html": [
       "<pre style=\"white-space:pre;overflow-x:auto;line-height:normal;font-family:Menlo,'DejaVu Sans Mono',consolas,'Courier New',monospace\">Warning: cannot fill counter Matched gen As to muons. Skipping.\n",
       "</pre>\n"
      ],
      "text/plain": [
       "Warning: cannot fill counter Matched gen As to muons. Skipping.\n"
      ]
     },
     "metadata": {},
     "output_type": "display_data"
    },
    {
     "data": {
      "text/html": [
       "<pre style=\"white-space:pre;overflow-x:auto;line-height:normal;font-family:Menlo,'DejaVu Sans Mono',consolas,'Courier New',monospace\">Warning: cannot fill counter Matched gen As to electrons. Skipping.\n",
       "</pre>\n"
      ],
      "text/plain": [
       "Warning: cannot fill counter Matched gen As to electrons. Skipping.\n"
      ]
     },
     "metadata": {},
     "output_type": "display_data"
    },
    {
     "data": {
      "text/html": [
       "<pre style=\"white-space:pre;overflow-x:auto;line-height:normal;font-family:Menlo,'DejaVu Sans Mono',consolas,'Courier New',monospace\">Warning: cannot fill counter Gen As to muons. Skipping.\n",
       "</pre>\n"
      ],
      "text/plain": [
       "Warning: cannot fill counter Gen As to muons. Skipping.\n"
      ]
     },
     "metadata": {},
     "output_type": "display_data"
    },
    {
     "data": {
      "text/html": [
       "<pre style=\"white-space:pre;overflow-x:auto;line-height:normal;font-family:Menlo,'DejaVu Sans Mono',consolas,'Courier New',monospace\">Warning: cannot fill counter Gen As to electrons. Skipping.\n",
       "</pre>\n"
      ],
      "text/plain": [
       "Warning: cannot fill counter Gen As to electrons. Skipping.\n"
      ]
     },
     "metadata": {},
     "output_type": "display_data"
    },
    {
     "data": {
      "text/html": [
       "<pre style=\"white-space:pre;overflow-x:auto;line-height:normal;font-family:Menlo,'DejaVu Sans Mono',consolas,'Courier New',monospace\">Warning: cannot fill counter Matched gen As to muons. Skipping.\n",
       "</pre>\n"
      ],
      "text/plain": [
       "Warning: cannot fill counter Matched gen As to muons. Skipping.\n"
      ]
     },
     "metadata": {},
     "output_type": "display_data"
    },
    {
     "data": {
      "text/html": [
       "<pre style=\"white-space:pre;overflow-x:auto;line-height:normal;font-family:Menlo,'DejaVu Sans Mono',consolas,'Courier New',monospace\">Warning: cannot fill counter Matched gen As to electrons. Skipping.\n",
       "</pre>\n"
      ],
      "text/plain": [
       "Warning: cannot fill counter Matched gen As to electrons. Skipping.\n"
      ]
     },
     "metadata": {},
     "output_type": "display_data"
    },
    {
     "data": {
      "text/html": [
       "<pre style=\"white-space:pre;overflow-x:auto;line-height:normal;font-family:Menlo,'DejaVu Sans Mono',consolas,'Courier New',monospace\">Warning: cannot fill counter Gen As to muons. Skipping.\n",
       "</pre>\n"
      ],
      "text/plain": [
       "Warning: cannot fill counter Gen As to muons. Skipping.\n"
      ]
     },
     "metadata": {},
     "output_type": "display_data"
    },
    {
     "data": {
      "text/html": [
       "<pre style=\"white-space:pre;overflow-x:auto;line-height:normal;font-family:Menlo,'DejaVu Sans Mono',consolas,'Courier New',monospace\">Warning: cannot fill counter Gen As to electrons. Skipping.\n",
       "</pre>\n"
      ],
      "text/plain": [
       "Warning: cannot fill counter Gen As to electrons. Skipping.\n"
      ]
     },
     "metadata": {},
     "output_type": "display_data"
    },
    {
     "data": {
      "text/html": [
       "<pre style=\"white-space:pre;overflow-x:auto;line-height:normal;font-family:Menlo,'DejaVu Sans Mono',consolas,'Courier New',monospace\">Warning: cannot fill counter Matched gen As to muons. Skipping.\n",
       "</pre>\n"
      ],
      "text/plain": [
       "Warning: cannot fill counter Matched gen As to muons. Skipping.\n"
      ]
     },
     "metadata": {},
     "output_type": "display_data"
    },
    {
     "data": {
      "text/html": [
       "<pre style=\"white-space:pre;overflow-x:auto;line-height:normal;font-family:Menlo,'DejaVu Sans Mono',consolas,'Courier New',monospace\">Warning: cannot fill counter Matched gen As to electrons. Skipping.\n",
       "</pre>\n"
      ],
      "text/plain": [
       "Warning: cannot fill counter Matched gen As to electrons. Skipping.\n"
      ]
     },
     "metadata": {},
     "output_type": "display_data"
    },
    {
     "data": {
      "text/html": [
       "<pre style=\"white-space:pre;overflow-x:auto;line-height:normal;font-family:Menlo,'DejaVu Sans Mono',consolas,'Courier New',monospace\">Warning: electrons not found in this sample. Skipping.\n",
       "</pre>\n"
      ],
      "text/plain": [
       "Warning: electrons not found in this sample. Skipping.\n"
      ]
     },
     "metadata": {},
     "output_type": "display_data"
    },
    {
     "data": {
      "text/html": [
       "<pre style=\"white-space:pre;overflow-x:auto;line-height:normal;font-family:Menlo,'DejaVu Sans Mono',consolas,'Courier New',monospace\">Warning: photons not found in this sample. Skipping.\n",
       "</pre>\n"
      ],
      "text/plain": [
       "Warning: photons not found in this sample. Skipping.\n"
      ]
     },
     "metadata": {},
     "output_type": "display_data"
    },
    {
     "data": {
      "text/html": [
       "<pre style=\"white-space:pre;overflow-x:auto;line-height:normal;font-family:Menlo,'DejaVu Sans Mono',consolas,'Courier New',monospace\">Warning: genAs_toMu not found in this sample. Skipping.\n",
       "</pre>\n"
      ],
      "text/plain": [
       "Warning: genAs_toMu not found in this sample. Skipping.\n"
      ]
     },
     "metadata": {},
     "output_type": "display_data"
    },
    {
     "data": {
      "text/html": [
       "<pre style=\"white-space:pre;overflow-x:auto;line-height:normal;font-family:Menlo,'DejaVu Sans Mono',consolas,'Courier New',monospace\">Warning: genAs_toE not found in this sample. Skipping.\n",
       "</pre>\n"
      ],
      "text/plain": [
       "Warning: genAs_toE not found in this sample. Skipping.\n"
      ]
     },
     "metadata": {},
     "output_type": "display_data"
    },
    {
     "data": {
      "text/html": [
       "<pre style=\"white-space:pre;overflow-x:auto;line-height:normal;font-family:Menlo,'DejaVu Sans Mono',consolas,'Courier New',monospace\">Not applying any cuts to the lepton jets for channel  baseNoLj\n",
       "</pre>\n"
      ],
      "text/plain": [
       "Not applying any cuts to the lepton jets for channel  baseNoLj\n"
      ]
     },
     "metadata": {},
     "output_type": "display_data"
    },
    {
     "data": {
      "text/html": [
       "<pre style=\"white-space:pre;overflow-x:auto;line-height:normal;font-family:Menlo,'DejaVu Sans Mono',consolas,'Courier New',monospace\">Warning: electrons not found in sample. The following cuts will not be applied: ['pT &gt; 10 GeV', '|eta| &lt; 2.4', \n",
       "'looseID']\n",
       "</pre>\n"
      ],
      "text/plain": [
       "Warning: electrons not found in sample. The following cuts will not be applied: ['pT > 10 GeV', '|eta| < 2.4', \n",
       "'looseID']\n"
      ]
     },
     "metadata": {},
     "output_type": "display_data"
    },
    {
     "data": {
      "text/html": [
       "<pre style=\"white-space:pre;overflow-x:auto;line-height:normal;font-family:Menlo,'DejaVu Sans Mono',consolas,'Courier New',monospace\">Warning: Unable to apply looseID for muons. Skipping.\n",
       "</pre>\n"
      ],
      "text/plain": [
       "Warning: Unable to apply looseID for muons. Skipping.\n"
      ]
     },
     "metadata": {},
     "output_type": "display_data"
    },
    {
     "data": {
      "text/html": [
       "<pre style=\"white-space:pre;overflow-x:auto;line-height:normal;font-family:Menlo,'DejaVu Sans Mono',consolas,'Courier New',monospace\">Warning: photons not found in sample. The following cuts will not be applied: ['pT &gt; 20 GeV', '|eta| &lt; 2.5', \n",
       "'looseID']\n",
       "</pre>\n"
      ],
      "text/plain": [
       "Warning: photons not found in sample. The following cuts will not be applied: ['pT > 20 GeV', '|eta| < 2.5', \n",
       "'looseID']\n"
      ]
     },
     "metadata": {},
     "output_type": "display_data"
    },
    {
     "data": {
      "text/html": [
       "<pre style=\"white-space:pre;overflow-x:auto;line-height:normal;font-family:Menlo,'DejaVu Sans Mono',consolas,'Courier New',monospace\">Warning: Unable to apply ifcsczero for dsaMuons. Skipping.\n",
       "</pre>\n"
      ],
      "text/plain": [
       "Warning: Unable to apply ifcsczero for dsaMuons. Skipping.\n"
      ]
     },
     "metadata": {},
     "output_type": "display_data"
    },
    {
     "data": {
      "text/html": [
       "<pre style=\"white-space:pre;overflow-x:auto;line-height:normal;font-family:Menlo,'DejaVu Sans Mono',consolas,'Courier New',monospace\">Warning: Unable to apply segOverlap &lt; 0.66 for dsaMuons. Skipping.\n",
       "</pre>\n"
      ],
      "text/plain": [
       "Warning: Unable to apply segOverlap < 0.66 for dsaMuons. Skipping.\n"
      ]
     },
     "metadata": {},
     "output_type": "display_data"
    },
    {
     "data": {
      "text/html": [
       "<pre style=\"white-space:pre;overflow-x:auto;line-height:normal;font-family:Menlo,'DejaVu Sans Mono',consolas,'Courier New',monospace\">Warning: Unable to apply extrapolatedDr &gt; 0.2 for dsaMuons. Skipping.\n",
       "</pre>\n"
      ],
      "text/plain": [
       "Warning: Unable to apply extrapolatedDr > 0.2 for dsaMuons. Skipping.\n"
      ]
     },
     "metadata": {},
     "output_type": "display_data"
    },
    {
     "data": {
      "text/html": [
       "<pre style=\"white-space:pre;overflow-x:auto;line-height:normal;font-family:Menlo,'DejaVu Sans Mono',consolas,'Courier New',monospace\">Warning: Unable to apply isSubsetAnyPFMuon False for dsaMuons. Skipping.\n",
       "</pre>\n"
      ],
      "text/plain": [
       "Warning: Unable to apply isSubsetAnyPFMuon False for dsaMuons. Skipping.\n"
      ]
     },
     "metadata": {},
     "output_type": "display_data"
    },
    {
     "data": {
      "text/html": [
       "<pre style=\"white-space:pre;overflow-x:auto;line-height:normal;font-family:Menlo,'DejaVu Sans Mono',consolas,'Courier New',monospace\">Warning: Unable to apply DT + CSC hits &gt; 12 for dsaMuons. Skipping.\n",
       "</pre>\n"
      ],
      "text/plain": [
       "Warning: Unable to apply DT + CSC hits > 12 for dsaMuons. Skipping.\n"
      ]
     },
     "metadata": {},
     "output_type": "display_data"
    },
    {
     "data": {
      "text/html": [
       "<pre style=\"white-space:pre;overflow-x:auto;line-height:normal;font-family:Menlo,'DejaVu Sans Mono',consolas,'Courier New',monospace\">Warning: Unable to apply DT + CSC stations &gt;= 2 for dsaMuons. Skipping.\n",
       "</pre>\n"
      ],
      "text/plain": [
       "Warning: Unable to apply DT + CSC stations >= 2 for dsaMuons. Skipping.\n"
      ]
     },
     "metadata": {},
     "output_type": "display_data"
    },
    {
     "data": {
      "text/html": [
       "<pre style=\"white-space:pre;overflow-x:auto;line-height:normal;font-family:Menlo,'DejaVu Sans Mono',consolas,'Courier New',monospace\">Warning: Unable to apply ptErrorOverPT &lt; 1 for dsaMuons. Skipping.\n",
       "</pre>\n"
      ],
      "text/plain": [
       "Warning: Unable to apply ptErrorOverPT < 1 for dsaMuons. Skipping.\n"
      ]
     },
     "metadata": {},
     "output_type": "display_data"
    },
    {
     "data": {
      "text/html": [
       "<pre style=\"white-space:pre;overflow-x:auto;line-height:normal;font-family:Menlo,'DejaVu Sans Mono',consolas,'Courier New',monospace\">Warning: electrons not found in sample. The following cuts will not be applied: ['pT &gt; 10 GeV', '|eta| &lt; 2.4', \n",
       "'looseID']\n",
       "</pre>\n"
      ],
      "text/plain": [
       "Warning: electrons not found in sample. The following cuts will not be applied: ['pT > 10 GeV', '|eta| < 2.4', \n",
       "'looseID']\n"
      ]
     },
     "metadata": {},
     "output_type": "display_data"
    },
    {
     "data": {
      "text/html": [
       "<pre style=\"white-space:pre;overflow-x:auto;line-height:normal;font-family:Menlo,'DejaVu Sans Mono',consolas,'Courier New',monospace\">Uh oh, haven't evaluated this cut yet! Make sure it was included in the list of cuts you used to initialize this \n",
       "JaggedSelection.   muons :  looseID\n",
       "</pre>\n"
      ],
      "text/plain": [
       "Uh oh, haven't evaluated this cut yet! Make sure it was included in the list of cuts you used to initialize this \n",
       "JaggedSelection.   muons :  looseID\n"
      ]
     },
     "metadata": {},
     "output_type": "display_data"
    },
    {
     "data": {
      "text/html": [
       "<pre style=\"white-space:pre;overflow-x:auto;line-height:normal;font-family:Menlo,'DejaVu Sans Mono',consolas,'Courier New',monospace\">Warning: photons not found in sample. The following cuts will not be applied: ['pT &gt; 20 GeV', '|eta| &lt; 2.5', \n",
       "'looseID']\n",
       "</pre>\n"
      ],
      "text/plain": [
       "Warning: photons not found in sample. The following cuts will not be applied: ['pT > 20 GeV', '|eta| < 2.5', \n",
       "'looseID']\n"
      ]
     },
     "metadata": {},
     "output_type": "display_data"
    },
    {
     "data": {
      "text/html": [
       "<pre style=\"white-space:pre;overflow-x:auto;line-height:normal;font-family:Menlo,'DejaVu Sans Mono',consolas,'Courier New',monospace\">Uh oh, haven't evaluated this cut yet! Make sure it was included in the list of cuts you used to initialize this \n",
       "JaggedSelection.   dsaMuons :  ifcsczero\n",
       "</pre>\n"
      ],
      "text/plain": [
       "Uh oh, haven't evaluated this cut yet! Make sure it was included in the list of cuts you used to initialize this \n",
       "JaggedSelection.   dsaMuons :  ifcsczero\n"
      ]
     },
     "metadata": {},
     "output_type": "display_data"
    },
    {
     "data": {
      "text/html": [
       "<pre style=\"white-space:pre;overflow-x:auto;line-height:normal;font-family:Menlo,'DejaVu Sans Mono',consolas,'Courier New',monospace\">Uh oh, haven't evaluated this cut yet! Make sure it was included in the list of cuts you used to initialize this \n",
       "JaggedSelection.   dsaMuons :  segOverlap &lt; 0.66\n",
       "</pre>\n"
      ],
      "text/plain": [
       "Uh oh, haven't evaluated this cut yet! Make sure it was included in the list of cuts you used to initialize this \n",
       "JaggedSelection.   dsaMuons :  segOverlap < 0.66\n"
      ]
     },
     "metadata": {},
     "output_type": "display_data"
    },
    {
     "data": {
      "text/html": [
       "<pre style=\"white-space:pre;overflow-x:auto;line-height:normal;font-family:Menlo,'DejaVu Sans Mono',consolas,'Courier New',monospace\">Uh oh, haven't evaluated this cut yet! Make sure it was included in the list of cuts you used to initialize this \n",
       "JaggedSelection.   dsaMuons :  extrapolatedDr &gt; 0.2\n",
       "</pre>\n"
      ],
      "text/plain": [
       "Uh oh, haven't evaluated this cut yet! Make sure it was included in the list of cuts you used to initialize this \n",
       "JaggedSelection.   dsaMuons :  extrapolatedDr > 0.2\n"
      ]
     },
     "metadata": {},
     "output_type": "display_data"
    },
    {
     "data": {
      "text/html": [
       "<pre style=\"white-space:pre;overflow-x:auto;line-height:normal;font-family:Menlo,'DejaVu Sans Mono',consolas,'Courier New',monospace\">Uh oh, haven't evaluated this cut yet! Make sure it was included in the list of cuts you used to initialize this \n",
       "JaggedSelection.   dsaMuons :  isSubsetAnyPFMuon False\n",
       "</pre>\n"
      ],
      "text/plain": [
       "Uh oh, haven't evaluated this cut yet! Make sure it was included in the list of cuts you used to initialize this \n",
       "JaggedSelection.   dsaMuons :  isSubsetAnyPFMuon False\n"
      ]
     },
     "metadata": {},
     "output_type": "display_data"
    },
    {
     "data": {
      "text/html": [
       "<pre style=\"white-space:pre;overflow-x:auto;line-height:normal;font-family:Menlo,'DejaVu Sans Mono',consolas,'Courier New',monospace\">Uh oh, haven't evaluated this cut yet! Make sure it was included in the list of cuts you used to initialize this \n",
       "JaggedSelection.   dsaMuons :  DT + CSC hits &gt; 12\n",
       "</pre>\n"
      ],
      "text/plain": [
       "Uh oh, haven't evaluated this cut yet! Make sure it was included in the list of cuts you used to initialize this \n",
       "JaggedSelection.   dsaMuons :  DT + CSC hits > 12\n"
      ]
     },
     "metadata": {},
     "output_type": "display_data"
    },
    {
     "data": {
      "text/html": [
       "<pre style=\"white-space:pre;overflow-x:auto;line-height:normal;font-family:Menlo,'DejaVu Sans Mono',consolas,'Courier New',monospace\">Uh oh, haven't evaluated this cut yet! Make sure it was included in the list of cuts you used to initialize this \n",
       "JaggedSelection.   dsaMuons :  DT + CSC stations &gt;= 2\n",
       "</pre>\n"
      ],
      "text/plain": [
       "Uh oh, haven't evaluated this cut yet! Make sure it was included in the list of cuts you used to initialize this \n",
       "JaggedSelection.   dsaMuons :  DT + CSC stations >= 2\n"
      ]
     },
     "metadata": {},
     "output_type": "display_data"
    },
    {
     "data": {
      "text/html": [
       "<pre style=\"white-space:pre;overflow-x:auto;line-height:normal;font-family:Menlo,'DejaVu Sans Mono',consolas,'Courier New',monospace\">Uh oh, haven't evaluated this cut yet! Make sure it was included in the list of cuts you used to initialize this \n",
       "JaggedSelection.   dsaMuons :  ptErrorOverPT &lt; 1\n",
       "</pre>\n"
      ],
      "text/plain": [
       "Uh oh, haven't evaluated this cut yet! Make sure it was included in the list of cuts you used to initialize this \n",
       "JaggedSelection.   dsaMuons :  ptErrorOverPT < 1\n"
      ]
     },
     "metadata": {},
     "output_type": "display_data"
    },
    {
     "data": {
      "text/html": [
       "<pre style=\"white-space:pre;overflow-x:auto;line-height:normal;font-family:Menlo,'DejaVu Sans Mono',consolas,'Courier New',monospace\">Warning: cannot fill counter Gen As to muons. Skipping.\n",
       "</pre>\n"
      ],
      "text/plain": [
       "Warning: cannot fill counter Gen As to muons. Skipping.\n"
      ]
     },
     "metadata": {},
     "output_type": "display_data"
    },
    {
     "data": {
      "text/html": [
       "<pre style=\"white-space:pre;overflow-x:auto;line-height:normal;font-family:Menlo,'DejaVu Sans Mono',consolas,'Courier New',monospace\">Warning: cannot fill counter Gen As to electrons. Skipping.\n",
       "</pre>\n"
      ],
      "text/plain": [
       "Warning: cannot fill counter Gen As to electrons. Skipping.\n"
      ]
     },
     "metadata": {},
     "output_type": "display_data"
    },
    {
     "data": {
      "text/html": [
       "<pre style=\"white-space:pre;overflow-x:auto;line-height:normal;font-family:Menlo,'DejaVu Sans Mono',consolas,'Courier New',monospace\">Warning: cannot fill counter Matched gen As to muons. Skipping.\n",
       "</pre>\n"
      ],
      "text/plain": [
       "Warning: cannot fill counter Matched gen As to muons. Skipping.\n"
      ]
     },
     "metadata": {},
     "output_type": "display_data"
    },
    {
     "data": {
      "text/html": [
       "<pre style=\"white-space:pre;overflow-x:auto;line-height:normal;font-family:Menlo,'DejaVu Sans Mono',consolas,'Courier New',monospace\">Warning: cannot fill counter Matched gen As to electrons. Skipping.\n",
       "</pre>\n"
      ],
      "text/plain": [
       "Warning: cannot fill counter Matched gen As to electrons. Skipping.\n"
      ]
     },
     "metadata": {},
     "output_type": "display_data"
    },
    {
     "data": {
      "text/html": [
       "<pre style=\"white-space:pre;overflow-x:auto;line-height:normal;font-family:Menlo,'DejaVu Sans Mono',consolas,'Courier New',monospace\">Warning: electrons not found in sample. The following cuts will not be applied: ['pT &gt; 10 GeV', '|eta| &lt; 2.4', \n",
       "'looseID']\n",
       "</pre>\n"
      ],
      "text/plain": [
       "Warning: electrons not found in sample. The following cuts will not be applied: ['pT > 10 GeV', '|eta| < 2.4', \n",
       "'looseID']\n"
      ]
     },
     "metadata": {},
     "output_type": "display_data"
    },
    {
     "data": {
      "text/html": [
       "<pre style=\"white-space:pre;overflow-x:auto;line-height:normal;font-family:Menlo,'DejaVu Sans Mono',consolas,'Courier New',monospace\">Uh oh, haven't evaluated this cut yet! Make sure it was included in the list of cuts you used to initialize this \n",
       "JaggedSelection.   muons :  looseID\n",
       "</pre>\n"
      ],
      "text/plain": [
       "Uh oh, haven't evaluated this cut yet! Make sure it was included in the list of cuts you used to initialize this \n",
       "JaggedSelection.   muons :  looseID\n"
      ]
     },
     "metadata": {},
     "output_type": "display_data"
    },
    {
     "data": {
      "text/html": [
       "<pre style=\"white-space:pre;overflow-x:auto;line-height:normal;font-family:Menlo,'DejaVu Sans Mono',consolas,'Courier New',monospace\">Warning: photons not found in sample. The following cuts will not be applied: ['pT &gt; 20 GeV', '|eta| &lt; 2.5', \n",
       "'looseID']\n",
       "</pre>\n"
      ],
      "text/plain": [
       "Warning: photons not found in sample. The following cuts will not be applied: ['pT > 20 GeV', '|eta| < 2.5', \n",
       "'looseID']\n"
      ]
     },
     "metadata": {},
     "output_type": "display_data"
    },
    {
     "data": {
      "text/html": [
       "<pre style=\"white-space:pre;overflow-x:auto;line-height:normal;font-family:Menlo,'DejaVu Sans Mono',consolas,'Courier New',monospace\">Uh oh, haven't evaluated this cut yet! Make sure it was included in the list of cuts you used to initialize this \n",
       "JaggedSelection.   dsaMuons :  ifcsczero\n",
       "</pre>\n"
      ],
      "text/plain": [
       "Uh oh, haven't evaluated this cut yet! Make sure it was included in the list of cuts you used to initialize this \n",
       "JaggedSelection.   dsaMuons :  ifcsczero\n"
      ]
     },
     "metadata": {},
     "output_type": "display_data"
    },
    {
     "data": {
      "text/html": [
       "<pre style=\"white-space:pre;overflow-x:auto;line-height:normal;font-family:Menlo,'DejaVu Sans Mono',consolas,'Courier New',monospace\">Uh oh, haven't evaluated this cut yet! Make sure it was included in the list of cuts you used to initialize this \n",
       "JaggedSelection.   dsaMuons :  segOverlap &lt; 0.66\n",
       "</pre>\n"
      ],
      "text/plain": [
       "Uh oh, haven't evaluated this cut yet! Make sure it was included in the list of cuts you used to initialize this \n",
       "JaggedSelection.   dsaMuons :  segOverlap < 0.66\n"
      ]
     },
     "metadata": {},
     "output_type": "display_data"
    },
    {
     "data": {
      "text/html": [
       "<pre style=\"white-space:pre;overflow-x:auto;line-height:normal;font-family:Menlo,'DejaVu Sans Mono',consolas,'Courier New',monospace\">Uh oh, haven't evaluated this cut yet! Make sure it was included in the list of cuts you used to initialize this \n",
       "JaggedSelection.   dsaMuons :  extrapolatedDr &gt; 0.2\n",
       "</pre>\n"
      ],
      "text/plain": [
       "Uh oh, haven't evaluated this cut yet! Make sure it was included in the list of cuts you used to initialize this \n",
       "JaggedSelection.   dsaMuons :  extrapolatedDr > 0.2\n"
      ]
     },
     "metadata": {},
     "output_type": "display_data"
    },
    {
     "data": {
      "text/html": [
       "<pre style=\"white-space:pre;overflow-x:auto;line-height:normal;font-family:Menlo,'DejaVu Sans Mono',consolas,'Courier New',monospace\">Uh oh, haven't evaluated this cut yet! Make sure it was included in the list of cuts you used to initialize this \n",
       "JaggedSelection.   dsaMuons :  isSubsetAnyPFMuon False\n",
       "</pre>\n"
      ],
      "text/plain": [
       "Uh oh, haven't evaluated this cut yet! Make sure it was included in the list of cuts you used to initialize this \n",
       "JaggedSelection.   dsaMuons :  isSubsetAnyPFMuon False\n"
      ]
     },
     "metadata": {},
     "output_type": "display_data"
    },
    {
     "data": {
      "text/html": [
       "<pre style=\"white-space:pre;overflow-x:auto;line-height:normal;font-family:Menlo,'DejaVu Sans Mono',consolas,'Courier New',monospace\">Uh oh, haven't evaluated this cut yet! Make sure it was included in the list of cuts you used to initialize this \n",
       "JaggedSelection.   dsaMuons :  DT + CSC hits &gt; 12\n",
       "</pre>\n"
      ],
      "text/plain": [
       "Uh oh, haven't evaluated this cut yet! Make sure it was included in the list of cuts you used to initialize this \n",
       "JaggedSelection.   dsaMuons :  DT + CSC hits > 12\n"
      ]
     },
     "metadata": {},
     "output_type": "display_data"
    },
    {
     "data": {
      "text/html": [
       "<pre style=\"white-space:pre;overflow-x:auto;line-height:normal;font-family:Menlo,'DejaVu Sans Mono',consolas,'Courier New',monospace\">Uh oh, haven't evaluated this cut yet! Make sure it was included in the list of cuts you used to initialize this \n",
       "JaggedSelection.   dsaMuons :  DT + CSC stations &gt;= 2\n",
       "</pre>\n"
      ],
      "text/plain": [
       "Uh oh, haven't evaluated this cut yet! Make sure it was included in the list of cuts you used to initialize this \n",
       "JaggedSelection.   dsaMuons :  DT + CSC stations >= 2\n"
      ]
     },
     "metadata": {},
     "output_type": "display_data"
    },
    {
     "data": {
      "text/html": [
       "<pre style=\"white-space:pre;overflow-x:auto;line-height:normal;font-family:Menlo,'DejaVu Sans Mono',consolas,'Courier New',monospace\">Uh oh, haven't evaluated this cut yet! Make sure it was included in the list of cuts you used to initialize this \n",
       "JaggedSelection.   dsaMuons :  ptErrorOverPT &lt; 1\n",
       "</pre>\n"
      ],
      "text/plain": [
       "Uh oh, haven't evaluated this cut yet! Make sure it was included in the list of cuts you used to initialize this \n",
       "JaggedSelection.   dsaMuons :  ptErrorOverPT < 1\n"
      ]
     },
     "metadata": {},
     "output_type": "display_data"
    },
    {
     "data": {
      "text/html": [
       "<pre style=\"white-space:pre;overflow-x:auto;line-height:normal;font-family:Menlo,'DejaVu Sans Mono',consolas,'Courier New',monospace\">Warning: cannot fill counter Gen As to muons. Skipping.\n",
       "</pre>\n"
      ],
      "text/plain": [
       "Warning: cannot fill counter Gen As to muons. Skipping.\n"
      ]
     },
     "metadata": {},
     "output_type": "display_data"
    },
    {
     "data": {
      "text/html": [
       "<pre style=\"white-space:pre;overflow-x:auto;line-height:normal;font-family:Menlo,'DejaVu Sans Mono',consolas,'Courier New',monospace\">Warning: cannot fill counter Gen As to electrons. Skipping.\n",
       "</pre>\n"
      ],
      "text/plain": [
       "Warning: cannot fill counter Gen As to electrons. Skipping.\n"
      ]
     },
     "metadata": {},
     "output_type": "display_data"
    },
    {
     "data": {
      "text/html": [
       "<pre style=\"white-space:pre;overflow-x:auto;line-height:normal;font-family:Menlo,'DejaVu Sans Mono',consolas,'Courier New',monospace\">Warning: cannot fill counter Matched gen As to muons. Skipping.\n",
       "</pre>\n"
      ],
      "text/plain": [
       "Warning: cannot fill counter Matched gen As to muons. Skipping.\n"
      ]
     },
     "metadata": {},
     "output_type": "display_data"
    },
    {
     "data": {
      "text/html": [
       "<pre style=\"white-space:pre;overflow-x:auto;line-height:normal;font-family:Menlo,'DejaVu Sans Mono',consolas,'Courier New',monospace\">Warning: cannot fill counter Matched gen As to electrons. Skipping.\n",
       "</pre>\n"
      ],
      "text/plain": [
       "Warning: cannot fill counter Matched gen As to electrons. Skipping.\n"
      ]
     },
     "metadata": {},
     "output_type": "display_data"
    },
    {
     "data": {
      "text/html": [
       "<pre style=\"white-space:pre;overflow-x:auto;line-height:normal;font-family:Menlo,'DejaVu Sans Mono',consolas,'Courier New',monospace\">Warning: electrons not found in sample. The following cuts will not be applied: ['pT &gt; 10 GeV', '|eta| &lt; 2.4', \n",
       "'looseID']\n",
       "</pre>\n"
      ],
      "text/plain": [
       "Warning: electrons not found in sample. The following cuts will not be applied: ['pT > 10 GeV', '|eta| < 2.4', \n",
       "'looseID']\n"
      ]
     },
     "metadata": {},
     "output_type": "display_data"
    },
    {
     "data": {
      "text/html": [
       "<pre style=\"white-space:pre;overflow-x:auto;line-height:normal;font-family:Menlo,'DejaVu Sans Mono',consolas,'Courier New',monospace\">Uh oh, haven't evaluated this cut yet! Make sure it was included in the list of cuts you used to initialize this \n",
       "JaggedSelection.   muons :  looseID\n",
       "</pre>\n"
      ],
      "text/plain": [
       "Uh oh, haven't evaluated this cut yet! Make sure it was included in the list of cuts you used to initialize this \n",
       "JaggedSelection.   muons :  looseID\n"
      ]
     },
     "metadata": {},
     "output_type": "display_data"
    },
    {
     "data": {
      "text/html": [
       "<pre style=\"white-space:pre;overflow-x:auto;line-height:normal;font-family:Menlo,'DejaVu Sans Mono',consolas,'Courier New',monospace\">Warning: photons not found in sample. The following cuts will not be applied: ['pT &gt; 20 GeV', '|eta| &lt; 2.5', \n",
       "'looseID']\n",
       "</pre>\n"
      ],
      "text/plain": [
       "Warning: photons not found in sample. The following cuts will not be applied: ['pT > 20 GeV', '|eta| < 2.5', \n",
       "'looseID']\n"
      ]
     },
     "metadata": {},
     "output_type": "display_data"
    },
    {
     "data": {
      "text/html": [
       "<pre style=\"white-space:pre;overflow-x:auto;line-height:normal;font-family:Menlo,'DejaVu Sans Mono',consolas,'Courier New',monospace\">Uh oh, haven't evaluated this cut yet! Make sure it was included in the list of cuts you used to initialize this \n",
       "JaggedSelection.   dsaMuons :  ifcsczero\n",
       "</pre>\n"
      ],
      "text/plain": [
       "Uh oh, haven't evaluated this cut yet! Make sure it was included in the list of cuts you used to initialize this \n",
       "JaggedSelection.   dsaMuons :  ifcsczero\n"
      ]
     },
     "metadata": {},
     "output_type": "display_data"
    },
    {
     "data": {
      "text/html": [
       "<pre style=\"white-space:pre;overflow-x:auto;line-height:normal;font-family:Menlo,'DejaVu Sans Mono',consolas,'Courier New',monospace\">Uh oh, haven't evaluated this cut yet! Make sure it was included in the list of cuts you used to initialize this \n",
       "JaggedSelection.   dsaMuons :  segOverlap &lt; 0.66\n",
       "</pre>\n"
      ],
      "text/plain": [
       "Uh oh, haven't evaluated this cut yet! Make sure it was included in the list of cuts you used to initialize this \n",
       "JaggedSelection.   dsaMuons :  segOverlap < 0.66\n"
      ]
     },
     "metadata": {},
     "output_type": "display_data"
    },
    {
     "data": {
      "text/html": [
       "<pre style=\"white-space:pre;overflow-x:auto;line-height:normal;font-family:Menlo,'DejaVu Sans Mono',consolas,'Courier New',monospace\">Uh oh, haven't evaluated this cut yet! Make sure it was included in the list of cuts you used to initialize this \n",
       "JaggedSelection.   dsaMuons :  extrapolatedDr &gt; 0.2\n",
       "</pre>\n"
      ],
      "text/plain": [
       "Uh oh, haven't evaluated this cut yet! Make sure it was included in the list of cuts you used to initialize this \n",
       "JaggedSelection.   dsaMuons :  extrapolatedDr > 0.2\n"
      ]
     },
     "metadata": {},
     "output_type": "display_data"
    },
    {
     "data": {
      "text/html": [
       "<pre style=\"white-space:pre;overflow-x:auto;line-height:normal;font-family:Menlo,'DejaVu Sans Mono',consolas,'Courier New',monospace\">Uh oh, haven't evaluated this cut yet! Make sure it was included in the list of cuts you used to initialize this \n",
       "JaggedSelection.   dsaMuons :  isSubsetAnyPFMuon False\n",
       "</pre>\n"
      ],
      "text/plain": [
       "Uh oh, haven't evaluated this cut yet! Make sure it was included in the list of cuts you used to initialize this \n",
       "JaggedSelection.   dsaMuons :  isSubsetAnyPFMuon False\n"
      ]
     },
     "metadata": {},
     "output_type": "display_data"
    },
    {
     "data": {
      "text/html": [
       "<pre style=\"white-space:pre;overflow-x:auto;line-height:normal;font-family:Menlo,'DejaVu Sans Mono',consolas,'Courier New',monospace\">Uh oh, haven't evaluated this cut yet! Make sure it was included in the list of cuts you used to initialize this \n",
       "JaggedSelection.   dsaMuons :  DT + CSC hits &gt; 12\n",
       "</pre>\n"
      ],
      "text/plain": [
       "Uh oh, haven't evaluated this cut yet! Make sure it was included in the list of cuts you used to initialize this \n",
       "JaggedSelection.   dsaMuons :  DT + CSC hits > 12\n"
      ]
     },
     "metadata": {},
     "output_type": "display_data"
    },
    {
     "data": {
      "text/html": [
       "<pre style=\"white-space:pre;overflow-x:auto;line-height:normal;font-family:Menlo,'DejaVu Sans Mono',consolas,'Courier New',monospace\">Uh oh, haven't evaluated this cut yet! Make sure it was included in the list of cuts you used to initialize this \n",
       "JaggedSelection.   dsaMuons :  DT + CSC stations &gt;= 2\n",
       "</pre>\n"
      ],
      "text/plain": [
       "Uh oh, haven't evaluated this cut yet! Make sure it was included in the list of cuts you used to initialize this \n",
       "JaggedSelection.   dsaMuons :  DT + CSC stations >= 2\n"
      ]
     },
     "metadata": {},
     "output_type": "display_data"
    },
    {
     "data": {
      "text/html": [
       "<pre style=\"white-space:pre;overflow-x:auto;line-height:normal;font-family:Menlo,'DejaVu Sans Mono',consolas,'Courier New',monospace\">Uh oh, haven't evaluated this cut yet! Make sure it was included in the list of cuts you used to initialize this \n",
       "JaggedSelection.   dsaMuons :  ptErrorOverPT &lt; 1\n",
       "</pre>\n"
      ],
      "text/plain": [
       "Uh oh, haven't evaluated this cut yet! Make sure it was included in the list of cuts you used to initialize this \n",
       "JaggedSelection.   dsaMuons :  ptErrorOverPT < 1\n"
      ]
     },
     "metadata": {},
     "output_type": "display_data"
    },
    {
     "data": {
      "text/html": [
       "<pre style=\"white-space:pre;overflow-x:auto;line-height:normal;font-family:Menlo,'DejaVu Sans Mono',consolas,'Courier New',monospace\">Warning: cannot fill counter Gen As to muons. Skipping.\n",
       "</pre>\n"
      ],
      "text/plain": [
       "Warning: cannot fill counter Gen As to muons. Skipping.\n"
      ]
     },
     "metadata": {},
     "output_type": "display_data"
    },
    {
     "data": {
      "text/html": [
       "<pre style=\"white-space:pre;overflow-x:auto;line-height:normal;font-family:Menlo,'DejaVu Sans Mono',consolas,'Courier New',monospace\">Warning: cannot fill counter Gen As to electrons. Skipping.\n",
       "</pre>\n"
      ],
      "text/plain": [
       "Warning: cannot fill counter Gen As to electrons. Skipping.\n"
      ]
     },
     "metadata": {},
     "output_type": "display_data"
    },
    {
     "data": {
      "text/html": [
       "<pre style=\"white-space:pre;overflow-x:auto;line-height:normal;font-family:Menlo,'DejaVu Sans Mono',consolas,'Courier New',monospace\">Warning: cannot fill counter Matched gen As to muons. Skipping.\n",
       "</pre>\n"
      ],
      "text/plain": [
       "Warning: cannot fill counter Matched gen As to muons. Skipping.\n"
      ]
     },
     "metadata": {},
     "output_type": "display_data"
    },
    {
     "data": {
      "text/html": [
       "<pre style=\"white-space:pre;overflow-x:auto;line-height:normal;font-family:Menlo,'DejaVu Sans Mono',consolas,'Courier New',monospace\">Warning: cannot fill counter Matched gen As to electrons. Skipping.\n",
       "</pre>\n"
      ],
      "text/plain": [
       "Warning: cannot fill counter Matched gen As to electrons. Skipping.\n"
      ]
     },
     "metadata": {},
     "output_type": "display_data"
    },
    {
     "data": {
      "text/html": [
       "<pre style=\"white-space:pre;overflow-x:auto;line-height:normal;font-family:Menlo,'DejaVu Sans Mono',consolas,'Courier New',monospace\">Warning: electrons not found in this sample. Skipping.\n",
       "</pre>\n"
      ],
      "text/plain": [
       "Warning: electrons not found in this sample. Skipping.\n"
      ]
     },
     "metadata": {},
     "output_type": "display_data"
    },
    {
     "data": {
      "text/html": [
       "<pre style=\"white-space:pre;overflow-x:auto;line-height:normal;font-family:Menlo,'DejaVu Sans Mono',consolas,'Courier New',monospace\">Warning: photons not found in this sample. Skipping.\n",
       "</pre>\n"
      ],
      "text/plain": [
       "Warning: photons not found in this sample. Skipping.\n"
      ]
     },
     "metadata": {},
     "output_type": "display_data"
    },
    {
     "data": {
      "text/html": [
       "<pre style=\"white-space:pre;overflow-x:auto;line-height:normal;font-family:Menlo,'DejaVu Sans Mono',consolas,'Courier New',monospace\">Warning: genAs_toMu not found in this sample. Skipping.\n",
       "</pre>\n"
      ],
      "text/plain": [
       "Warning: genAs_toMu not found in this sample. Skipping.\n"
      ]
     },
     "metadata": {},
     "output_type": "display_data"
    },
    {
     "data": {
      "text/html": [
       "<pre style=\"white-space:pre;overflow-x:auto;line-height:normal;font-family:Menlo,'DejaVu Sans Mono',consolas,'Courier New',monospace\">Warning: genAs_toE not found in this sample. Skipping.\n",
       "</pre>\n"
      ],
      "text/plain": [
       "Warning: genAs_toE not found in this sample. Skipping.\n"
      ]
     },
     "metadata": {},
     "output_type": "display_data"
    },
    {
     "data": {
      "text/html": [
       "<pre style=\"white-space:pre;overflow-x:auto;line-height:normal;font-family:Menlo,'DejaVu Sans Mono',consolas,'Courier New',monospace\">Not applying any cuts to the lepton jets for channel  baseNoLj\n",
       "</pre>\n"
      ],
      "text/plain": [
       "Not applying any cuts to the lepton jets for channel  baseNoLj\n"
      ]
     },
     "metadata": {},
     "output_type": "display_data"
    },
    {
     "data": {
      "text/html": [
       "<pre style=\"white-space:pre;overflow-x:auto;line-height:normal;font-family:Menlo,'DejaVu Sans Mono',consolas,'Courier New',monospace\">Warning: electrons not found in sample. The following cuts will not be applied: ['pT &gt; 10 GeV', '|eta| &lt; 2.4', \n",
       "'looseID']\n",
       "</pre>\n"
      ],
      "text/plain": [
       "Warning: electrons not found in sample. The following cuts will not be applied: ['pT > 10 GeV', '|eta| < 2.4', \n",
       "'looseID']\n"
      ]
     },
     "metadata": {},
     "output_type": "display_data"
    },
    {
     "data": {
      "text/html": [
       "<pre style=\"white-space:pre;overflow-x:auto;line-height:normal;font-family:Menlo,'DejaVu Sans Mono',consolas,'Courier New',monospace\">Warning: Unable to apply looseID for muons. Skipping.\n",
       "</pre>\n"
      ],
      "text/plain": [
       "Warning: Unable to apply looseID for muons. Skipping.\n"
      ]
     },
     "metadata": {},
     "output_type": "display_data"
    },
    {
     "data": {
      "text/html": [
       "<pre style=\"white-space:pre;overflow-x:auto;line-height:normal;font-family:Menlo,'DejaVu Sans Mono',consolas,'Courier New',monospace\">Warning: photons not found in sample. The following cuts will not be applied: ['pT &gt; 20 GeV', '|eta| &lt; 2.5', \n",
       "'looseID']\n",
       "</pre>\n"
      ],
      "text/plain": [
       "Warning: photons not found in sample. The following cuts will not be applied: ['pT > 20 GeV', '|eta| < 2.5', \n",
       "'looseID']\n"
      ]
     },
     "metadata": {},
     "output_type": "display_data"
    },
    {
     "data": {
      "text/html": [
       "<pre style=\"white-space:pre;overflow-x:auto;line-height:normal;font-family:Menlo,'DejaVu Sans Mono',consolas,'Courier New',monospace\">Warning: Unable to apply ifcsczero for dsaMuons. Skipping.\n",
       "</pre>\n"
      ],
      "text/plain": [
       "Warning: Unable to apply ifcsczero for dsaMuons. Skipping.\n"
      ]
     },
     "metadata": {},
     "output_type": "display_data"
    },
    {
     "data": {
      "text/html": [
       "<pre style=\"white-space:pre;overflow-x:auto;line-height:normal;font-family:Menlo,'DejaVu Sans Mono',consolas,'Courier New',monospace\">Warning: Unable to apply segOverlap &lt; 0.66 for dsaMuons. Skipping.\n",
       "</pre>\n"
      ],
      "text/plain": [
       "Warning: Unable to apply segOverlap < 0.66 for dsaMuons. Skipping.\n"
      ]
     },
     "metadata": {},
     "output_type": "display_data"
    },
    {
     "data": {
      "text/html": [
       "<pre style=\"white-space:pre;overflow-x:auto;line-height:normal;font-family:Menlo,'DejaVu Sans Mono',consolas,'Courier New',monospace\">Warning: Unable to apply extrapolatedDr &gt; 0.2 for dsaMuons. Skipping.\n",
       "</pre>\n"
      ],
      "text/plain": [
       "Warning: Unable to apply extrapolatedDr > 0.2 for dsaMuons. Skipping.\n"
      ]
     },
     "metadata": {},
     "output_type": "display_data"
    },
    {
     "data": {
      "text/html": [
       "<pre style=\"white-space:pre;overflow-x:auto;line-height:normal;font-family:Menlo,'DejaVu Sans Mono',consolas,'Courier New',monospace\">Warning: Unable to apply isSubsetAnyPFMuon False for dsaMuons. Skipping.\n",
       "</pre>\n"
      ],
      "text/plain": [
       "Warning: Unable to apply isSubsetAnyPFMuon False for dsaMuons. Skipping.\n"
      ]
     },
     "metadata": {},
     "output_type": "display_data"
    },
    {
     "data": {
      "text/html": [
       "<pre style=\"white-space:pre;overflow-x:auto;line-height:normal;font-family:Menlo,'DejaVu Sans Mono',consolas,'Courier New',monospace\">Warning: Unable to apply DT + CSC hits &gt; 12 for dsaMuons. Skipping.\n",
       "</pre>\n"
      ],
      "text/plain": [
       "Warning: Unable to apply DT + CSC hits > 12 for dsaMuons. Skipping.\n"
      ]
     },
     "metadata": {},
     "output_type": "display_data"
    },
    {
     "data": {
      "text/html": [
       "<pre style=\"white-space:pre;overflow-x:auto;line-height:normal;font-family:Menlo,'DejaVu Sans Mono',consolas,'Courier New',monospace\">Warning: Unable to apply DT + CSC stations &gt;= 2 for dsaMuons. Skipping.\n",
       "</pre>\n"
      ],
      "text/plain": [
       "Warning: Unable to apply DT + CSC stations >= 2 for dsaMuons. Skipping.\n"
      ]
     },
     "metadata": {},
     "output_type": "display_data"
    },
    {
     "data": {
      "text/html": [
       "<pre style=\"white-space:pre;overflow-x:auto;line-height:normal;font-family:Menlo,'DejaVu Sans Mono',consolas,'Courier New',monospace\">Warning: Unable to apply ptErrorOverPT &lt; 1 for dsaMuons. Skipping.\n",
       "</pre>\n"
      ],
      "text/plain": [
       "Warning: Unable to apply ptErrorOverPT < 1 for dsaMuons. Skipping.\n"
      ]
     },
     "metadata": {},
     "output_type": "display_data"
    },
    {
     "data": {
      "text/html": [
       "<pre style=\"white-space:pre;overflow-x:auto;line-height:normal;font-family:Menlo,'DejaVu Sans Mono',consolas,'Courier New',monospace\">Warning: electrons not found in sample. The following cuts will not be applied: ['pT &gt; 10 GeV', '|eta| &lt; 2.4', \n",
       "'looseID']\n",
       "</pre>\n"
      ],
      "text/plain": [
       "Warning: electrons not found in sample. The following cuts will not be applied: ['pT > 10 GeV', '|eta| < 2.4', \n",
       "'looseID']\n"
      ]
     },
     "metadata": {},
     "output_type": "display_data"
    },
    {
     "data": {
      "text/html": [
       "<pre style=\"white-space:pre;overflow-x:auto;line-height:normal;font-family:Menlo,'DejaVu Sans Mono',consolas,'Courier New',monospace\">Uh oh, haven't evaluated this cut yet! Make sure it was included in the list of cuts you used to initialize this \n",
       "JaggedSelection.   muons :  looseID\n",
       "</pre>\n"
      ],
      "text/plain": [
       "Uh oh, haven't evaluated this cut yet! Make sure it was included in the list of cuts you used to initialize this \n",
       "JaggedSelection.   muons :  looseID\n"
      ]
     },
     "metadata": {},
     "output_type": "display_data"
    },
    {
     "data": {
      "text/html": [
       "<pre style=\"white-space:pre;overflow-x:auto;line-height:normal;font-family:Menlo,'DejaVu Sans Mono',consolas,'Courier New',monospace\">Warning: photons not found in sample. The following cuts will not be applied: ['pT &gt; 20 GeV', '|eta| &lt; 2.5', \n",
       "'looseID']\n",
       "</pre>\n"
      ],
      "text/plain": [
       "Warning: photons not found in sample. The following cuts will not be applied: ['pT > 20 GeV', '|eta| < 2.5', \n",
       "'looseID']\n"
      ]
     },
     "metadata": {},
     "output_type": "display_data"
    },
    {
     "data": {
      "text/html": [
       "<pre style=\"white-space:pre;overflow-x:auto;line-height:normal;font-family:Menlo,'DejaVu Sans Mono',consolas,'Courier New',monospace\">Uh oh, haven't evaluated this cut yet! Make sure it was included in the list of cuts you used to initialize this \n",
       "JaggedSelection.   dsaMuons :  ifcsczero\n",
       "</pre>\n"
      ],
      "text/plain": [
       "Uh oh, haven't evaluated this cut yet! Make sure it was included in the list of cuts you used to initialize this \n",
       "JaggedSelection.   dsaMuons :  ifcsczero\n"
      ]
     },
     "metadata": {},
     "output_type": "display_data"
    },
    {
     "data": {
      "text/html": [
       "<pre style=\"white-space:pre;overflow-x:auto;line-height:normal;font-family:Menlo,'DejaVu Sans Mono',consolas,'Courier New',monospace\">Uh oh, haven't evaluated this cut yet! Make sure it was included in the list of cuts you used to initialize this \n",
       "JaggedSelection.   dsaMuons :  segOverlap &lt; 0.66\n",
       "</pre>\n"
      ],
      "text/plain": [
       "Uh oh, haven't evaluated this cut yet! Make sure it was included in the list of cuts you used to initialize this \n",
       "JaggedSelection.   dsaMuons :  segOverlap < 0.66\n"
      ]
     },
     "metadata": {},
     "output_type": "display_data"
    },
    {
     "data": {
      "text/html": [
       "<pre style=\"white-space:pre;overflow-x:auto;line-height:normal;font-family:Menlo,'DejaVu Sans Mono',consolas,'Courier New',monospace\">Uh oh, haven't evaluated this cut yet! Make sure it was included in the list of cuts you used to initialize this \n",
       "JaggedSelection.   dsaMuons :  extrapolatedDr &gt; 0.2\n",
       "</pre>\n"
      ],
      "text/plain": [
       "Uh oh, haven't evaluated this cut yet! Make sure it was included in the list of cuts you used to initialize this \n",
       "JaggedSelection.   dsaMuons :  extrapolatedDr > 0.2\n"
      ]
     },
     "metadata": {},
     "output_type": "display_data"
    },
    {
     "data": {
      "text/html": [
       "<pre style=\"white-space:pre;overflow-x:auto;line-height:normal;font-family:Menlo,'DejaVu Sans Mono',consolas,'Courier New',monospace\">Uh oh, haven't evaluated this cut yet! Make sure it was included in the list of cuts you used to initialize this \n",
       "JaggedSelection.   dsaMuons :  isSubsetAnyPFMuon False\n",
       "</pre>\n"
      ],
      "text/plain": [
       "Uh oh, haven't evaluated this cut yet! Make sure it was included in the list of cuts you used to initialize this \n",
       "JaggedSelection.   dsaMuons :  isSubsetAnyPFMuon False\n"
      ]
     },
     "metadata": {},
     "output_type": "display_data"
    },
    {
     "data": {
      "text/html": [
       "<pre style=\"white-space:pre;overflow-x:auto;line-height:normal;font-family:Menlo,'DejaVu Sans Mono',consolas,'Courier New',monospace\">Uh oh, haven't evaluated this cut yet! Make sure it was included in the list of cuts you used to initialize this \n",
       "JaggedSelection.   dsaMuons :  DT + CSC hits &gt; 12\n",
       "</pre>\n"
      ],
      "text/plain": [
       "Uh oh, haven't evaluated this cut yet! Make sure it was included in the list of cuts you used to initialize this \n",
       "JaggedSelection.   dsaMuons :  DT + CSC hits > 12\n"
      ]
     },
     "metadata": {},
     "output_type": "display_data"
    },
    {
     "data": {
      "text/html": [
       "<pre style=\"white-space:pre;overflow-x:auto;line-height:normal;font-family:Menlo,'DejaVu Sans Mono',consolas,'Courier New',monospace\">Uh oh, haven't evaluated this cut yet! Make sure it was included in the list of cuts you used to initialize this \n",
       "JaggedSelection.   dsaMuons :  DT + CSC stations &gt;= 2\n",
       "</pre>\n"
      ],
      "text/plain": [
       "Uh oh, haven't evaluated this cut yet! Make sure it was included in the list of cuts you used to initialize this \n",
       "JaggedSelection.   dsaMuons :  DT + CSC stations >= 2\n"
      ]
     },
     "metadata": {},
     "output_type": "display_data"
    },
    {
     "data": {
      "text/html": [
       "<pre style=\"white-space:pre;overflow-x:auto;line-height:normal;font-family:Menlo,'DejaVu Sans Mono',consolas,'Courier New',monospace\">Uh oh, haven't evaluated this cut yet! Make sure it was included in the list of cuts you used to initialize this \n",
       "JaggedSelection.   dsaMuons :  ptErrorOverPT &lt; 1\n",
       "</pre>\n"
      ],
      "text/plain": [
       "Uh oh, haven't evaluated this cut yet! Make sure it was included in the list of cuts you used to initialize this \n",
       "JaggedSelection.   dsaMuons :  ptErrorOverPT < 1\n"
      ]
     },
     "metadata": {},
     "output_type": "display_data"
    },
    {
     "data": {
      "text/html": [
       "<pre style=\"white-space:pre;overflow-x:auto;line-height:normal;font-family:Menlo,'DejaVu Sans Mono',consolas,'Courier New',monospace\">Warning: cannot fill counter Gen As to muons. Skipping.\n",
       "</pre>\n"
      ],
      "text/plain": [
       "Warning: cannot fill counter Gen As to muons. Skipping.\n"
      ]
     },
     "metadata": {},
     "output_type": "display_data"
    },
    {
     "data": {
      "text/html": [
       "<pre style=\"white-space:pre;overflow-x:auto;line-height:normal;font-family:Menlo,'DejaVu Sans Mono',consolas,'Courier New',monospace\">Warning: cannot fill counter Gen As to electrons. Skipping.\n",
       "</pre>\n"
      ],
      "text/plain": [
       "Warning: cannot fill counter Gen As to electrons. Skipping.\n"
      ]
     },
     "metadata": {},
     "output_type": "display_data"
    },
    {
     "data": {
      "text/html": [
       "<pre style=\"white-space:pre;overflow-x:auto;line-height:normal;font-family:Menlo,'DejaVu Sans Mono',consolas,'Courier New',monospace\">Warning: cannot fill counter Matched gen As to muons. Skipping.\n",
       "</pre>\n"
      ],
      "text/plain": [
       "Warning: cannot fill counter Matched gen As to muons. Skipping.\n"
      ]
     },
     "metadata": {},
     "output_type": "display_data"
    },
    {
     "data": {
      "text/html": [
       "<pre style=\"white-space:pre;overflow-x:auto;line-height:normal;font-family:Menlo,'DejaVu Sans Mono',consolas,'Courier New',monospace\">Warning: cannot fill counter Matched gen As to electrons. Skipping.\n",
       "</pre>\n"
      ],
      "text/plain": [
       "Warning: cannot fill counter Matched gen As to electrons. Skipping.\n"
      ]
     },
     "metadata": {},
     "output_type": "display_data"
    },
    {
     "data": {
      "text/html": [
       "<pre style=\"white-space:pre;overflow-x:auto;line-height:normal;font-family:Menlo,'DejaVu Sans Mono',consolas,'Courier New',monospace\">Warning: electrons not found in sample. The following cuts will not be applied: ['pT &gt; 10 GeV', '|eta| &lt; 2.4', \n",
       "'looseID']\n",
       "</pre>\n"
      ],
      "text/plain": [
       "Warning: electrons not found in sample. The following cuts will not be applied: ['pT > 10 GeV', '|eta| < 2.4', \n",
       "'looseID']\n"
      ]
     },
     "metadata": {},
     "output_type": "display_data"
    },
    {
     "data": {
      "text/html": [
       "<pre style=\"white-space:pre;overflow-x:auto;line-height:normal;font-family:Menlo,'DejaVu Sans Mono',consolas,'Courier New',monospace\">Uh oh, haven't evaluated this cut yet! Make sure it was included in the list of cuts you used to initialize this \n",
       "JaggedSelection.   muons :  looseID\n",
       "</pre>\n"
      ],
      "text/plain": [
       "Uh oh, haven't evaluated this cut yet! Make sure it was included in the list of cuts you used to initialize this \n",
       "JaggedSelection.   muons :  looseID\n"
      ]
     },
     "metadata": {},
     "output_type": "display_data"
    },
    {
     "data": {
      "text/html": [
       "<pre style=\"white-space:pre;overflow-x:auto;line-height:normal;font-family:Menlo,'DejaVu Sans Mono',consolas,'Courier New',monospace\">Warning: photons not found in sample. The following cuts will not be applied: ['pT &gt; 20 GeV', '|eta| &lt; 2.5', \n",
       "'looseID']\n",
       "</pre>\n"
      ],
      "text/plain": [
       "Warning: photons not found in sample. The following cuts will not be applied: ['pT > 20 GeV', '|eta| < 2.5', \n",
       "'looseID']\n"
      ]
     },
     "metadata": {},
     "output_type": "display_data"
    },
    {
     "data": {
      "text/html": [
       "<pre style=\"white-space:pre;overflow-x:auto;line-height:normal;font-family:Menlo,'DejaVu Sans Mono',consolas,'Courier New',monospace\">Uh oh, haven't evaluated this cut yet! Make sure it was included in the list of cuts you used to initialize this \n",
       "JaggedSelection.   dsaMuons :  ifcsczero\n",
       "</pre>\n"
      ],
      "text/plain": [
       "Uh oh, haven't evaluated this cut yet! Make sure it was included in the list of cuts you used to initialize this \n",
       "JaggedSelection.   dsaMuons :  ifcsczero\n"
      ]
     },
     "metadata": {},
     "output_type": "display_data"
    },
    {
     "data": {
      "text/html": [
       "<pre style=\"white-space:pre;overflow-x:auto;line-height:normal;font-family:Menlo,'DejaVu Sans Mono',consolas,'Courier New',monospace\">Uh oh, haven't evaluated this cut yet! Make sure it was included in the list of cuts you used to initialize this \n",
       "JaggedSelection.   dsaMuons :  segOverlap &lt; 0.66\n",
       "</pre>\n"
      ],
      "text/plain": [
       "Uh oh, haven't evaluated this cut yet! Make sure it was included in the list of cuts you used to initialize this \n",
       "JaggedSelection.   dsaMuons :  segOverlap < 0.66\n"
      ]
     },
     "metadata": {},
     "output_type": "display_data"
    },
    {
     "data": {
      "text/html": [
       "<pre style=\"white-space:pre;overflow-x:auto;line-height:normal;font-family:Menlo,'DejaVu Sans Mono',consolas,'Courier New',monospace\">Uh oh, haven't evaluated this cut yet! Make sure it was included in the list of cuts you used to initialize this \n",
       "JaggedSelection.   dsaMuons :  extrapolatedDr &gt; 0.2\n",
       "</pre>\n"
      ],
      "text/plain": [
       "Uh oh, haven't evaluated this cut yet! Make sure it was included in the list of cuts you used to initialize this \n",
       "JaggedSelection.   dsaMuons :  extrapolatedDr > 0.2\n"
      ]
     },
     "metadata": {},
     "output_type": "display_data"
    },
    {
     "data": {
      "text/html": [
       "<pre style=\"white-space:pre;overflow-x:auto;line-height:normal;font-family:Menlo,'DejaVu Sans Mono',consolas,'Courier New',monospace\">Uh oh, haven't evaluated this cut yet! Make sure it was included in the list of cuts you used to initialize this \n",
       "JaggedSelection.   dsaMuons :  isSubsetAnyPFMuon False\n",
       "</pre>\n"
      ],
      "text/plain": [
       "Uh oh, haven't evaluated this cut yet! Make sure it was included in the list of cuts you used to initialize this \n",
       "JaggedSelection.   dsaMuons :  isSubsetAnyPFMuon False\n"
      ]
     },
     "metadata": {},
     "output_type": "display_data"
    },
    {
     "data": {
      "text/html": [
       "<pre style=\"white-space:pre;overflow-x:auto;line-height:normal;font-family:Menlo,'DejaVu Sans Mono',consolas,'Courier New',monospace\">Uh oh, haven't evaluated this cut yet! Make sure it was included in the list of cuts you used to initialize this \n",
       "JaggedSelection.   dsaMuons :  DT + CSC hits &gt; 12\n",
       "</pre>\n"
      ],
      "text/plain": [
       "Uh oh, haven't evaluated this cut yet! Make sure it was included in the list of cuts you used to initialize this \n",
       "JaggedSelection.   dsaMuons :  DT + CSC hits > 12\n"
      ]
     },
     "metadata": {},
     "output_type": "display_data"
    },
    {
     "data": {
      "text/html": [
       "<pre style=\"white-space:pre;overflow-x:auto;line-height:normal;font-family:Menlo,'DejaVu Sans Mono',consolas,'Courier New',monospace\">Uh oh, haven't evaluated this cut yet! Make sure it was included in the list of cuts you used to initialize this \n",
       "JaggedSelection.   dsaMuons :  DT + CSC stations &gt;= 2\n",
       "</pre>\n"
      ],
      "text/plain": [
       "Uh oh, haven't evaluated this cut yet! Make sure it was included in the list of cuts you used to initialize this \n",
       "JaggedSelection.   dsaMuons :  DT + CSC stations >= 2\n"
      ]
     },
     "metadata": {},
     "output_type": "display_data"
    },
    {
     "data": {
      "text/html": [
       "<pre style=\"white-space:pre;overflow-x:auto;line-height:normal;font-family:Menlo,'DejaVu Sans Mono',consolas,'Courier New',monospace\">Uh oh, haven't evaluated this cut yet! Make sure it was included in the list of cuts you used to initialize this \n",
       "JaggedSelection.   dsaMuons :  ptErrorOverPT &lt; 1\n",
       "</pre>\n"
      ],
      "text/plain": [
       "Uh oh, haven't evaluated this cut yet! Make sure it was included in the list of cuts you used to initialize this \n",
       "JaggedSelection.   dsaMuons :  ptErrorOverPT < 1\n"
      ]
     },
     "metadata": {},
     "output_type": "display_data"
    },
    {
     "data": {
      "text/html": [
       "<pre style=\"white-space:pre;overflow-x:auto;line-height:normal;font-family:Menlo,'DejaVu Sans Mono',consolas,'Courier New',monospace\">Warning: cannot fill counter Gen As to muons. Skipping.\n",
       "</pre>\n"
      ],
      "text/plain": [
       "Warning: cannot fill counter Gen As to muons. Skipping.\n"
      ]
     },
     "metadata": {},
     "output_type": "display_data"
    },
    {
     "data": {
      "text/html": [
       "<pre style=\"white-space:pre;overflow-x:auto;line-height:normal;font-family:Menlo,'DejaVu Sans Mono',consolas,'Courier New',monospace\">Warning: cannot fill counter Gen As to electrons. Skipping.\n",
       "</pre>\n"
      ],
      "text/plain": [
       "Warning: cannot fill counter Gen As to electrons. Skipping.\n"
      ]
     },
     "metadata": {},
     "output_type": "display_data"
    },
    {
     "data": {
      "text/html": [
       "<pre style=\"white-space:pre;overflow-x:auto;line-height:normal;font-family:Menlo,'DejaVu Sans Mono',consolas,'Courier New',monospace\">Warning: cannot fill counter Matched gen As to muons. Skipping.\n",
       "</pre>\n"
      ],
      "text/plain": [
       "Warning: cannot fill counter Matched gen As to muons. Skipping.\n"
      ]
     },
     "metadata": {},
     "output_type": "display_data"
    },
    {
     "data": {
      "text/html": [
       "<pre style=\"white-space:pre;overflow-x:auto;line-height:normal;font-family:Menlo,'DejaVu Sans Mono',consolas,'Courier New',monospace\">Warning: cannot fill counter Matched gen As to electrons. Skipping.\n",
       "</pre>\n"
      ],
      "text/plain": [
       "Warning: cannot fill counter Matched gen As to electrons. Skipping.\n"
      ]
     },
     "metadata": {},
     "output_type": "display_data"
    },
    {
     "data": {
      "text/html": [
       "<pre style=\"white-space:pre;overflow-x:auto;line-height:normal;font-family:Menlo,'DejaVu Sans Mono',consolas,'Courier New',monospace\">Warning: electrons not found in sample. The following cuts will not be applied: ['pT &gt; 10 GeV', '|eta| &lt; 2.4', \n",
       "'looseID']\n",
       "</pre>\n"
      ],
      "text/plain": [
       "Warning: electrons not found in sample. The following cuts will not be applied: ['pT > 10 GeV', '|eta| < 2.4', \n",
       "'looseID']\n"
      ]
     },
     "metadata": {},
     "output_type": "display_data"
    },
    {
     "data": {
      "text/html": [
       "<pre style=\"white-space:pre;overflow-x:auto;line-height:normal;font-family:Menlo,'DejaVu Sans Mono',consolas,'Courier New',monospace\">Uh oh, haven't evaluated this cut yet! Make sure it was included in the list of cuts you used to initialize this \n",
       "JaggedSelection.   muons :  looseID\n",
       "</pre>\n"
      ],
      "text/plain": [
       "Uh oh, haven't evaluated this cut yet! Make sure it was included in the list of cuts you used to initialize this \n",
       "JaggedSelection.   muons :  looseID\n"
      ]
     },
     "metadata": {},
     "output_type": "display_data"
    },
    {
     "data": {
      "text/html": [
       "<pre style=\"white-space:pre;overflow-x:auto;line-height:normal;font-family:Menlo,'DejaVu Sans Mono',consolas,'Courier New',monospace\">Warning: photons not found in sample. The following cuts will not be applied: ['pT &gt; 20 GeV', '|eta| &lt; 2.5', \n",
       "'looseID']\n",
       "</pre>\n"
      ],
      "text/plain": [
       "Warning: photons not found in sample. The following cuts will not be applied: ['pT > 20 GeV', '|eta| < 2.5', \n",
       "'looseID']\n"
      ]
     },
     "metadata": {},
     "output_type": "display_data"
    },
    {
     "data": {
      "text/html": [
       "<pre style=\"white-space:pre;overflow-x:auto;line-height:normal;font-family:Menlo,'DejaVu Sans Mono',consolas,'Courier New',monospace\">Uh oh, haven't evaluated this cut yet! Make sure it was included in the list of cuts you used to initialize this \n",
       "JaggedSelection.   dsaMuons :  ifcsczero\n",
       "</pre>\n"
      ],
      "text/plain": [
       "Uh oh, haven't evaluated this cut yet! Make sure it was included in the list of cuts you used to initialize this \n",
       "JaggedSelection.   dsaMuons :  ifcsczero\n"
      ]
     },
     "metadata": {},
     "output_type": "display_data"
    },
    {
     "data": {
      "text/html": [
       "<pre style=\"white-space:pre;overflow-x:auto;line-height:normal;font-family:Menlo,'DejaVu Sans Mono',consolas,'Courier New',monospace\">Uh oh, haven't evaluated this cut yet! Make sure it was included in the list of cuts you used to initialize this \n",
       "JaggedSelection.   dsaMuons :  segOverlap &lt; 0.66\n",
       "</pre>\n"
      ],
      "text/plain": [
       "Uh oh, haven't evaluated this cut yet! Make sure it was included in the list of cuts you used to initialize this \n",
       "JaggedSelection.   dsaMuons :  segOverlap < 0.66\n"
      ]
     },
     "metadata": {},
     "output_type": "display_data"
    },
    {
     "data": {
      "text/html": [
       "<pre style=\"white-space:pre;overflow-x:auto;line-height:normal;font-family:Menlo,'DejaVu Sans Mono',consolas,'Courier New',monospace\">Uh oh, haven't evaluated this cut yet! Make sure it was included in the list of cuts you used to initialize this \n",
       "JaggedSelection.   dsaMuons :  extrapolatedDr &gt; 0.2\n",
       "</pre>\n"
      ],
      "text/plain": [
       "Uh oh, haven't evaluated this cut yet! Make sure it was included in the list of cuts you used to initialize this \n",
       "JaggedSelection.   dsaMuons :  extrapolatedDr > 0.2\n"
      ]
     },
     "metadata": {},
     "output_type": "display_data"
    },
    {
     "data": {
      "text/html": [
       "<pre style=\"white-space:pre;overflow-x:auto;line-height:normal;font-family:Menlo,'DejaVu Sans Mono',consolas,'Courier New',monospace\">Uh oh, haven't evaluated this cut yet! Make sure it was included in the list of cuts you used to initialize this \n",
       "JaggedSelection.   dsaMuons :  isSubsetAnyPFMuon False\n",
       "</pre>\n"
      ],
      "text/plain": [
       "Uh oh, haven't evaluated this cut yet! Make sure it was included in the list of cuts you used to initialize this \n",
       "JaggedSelection.   dsaMuons :  isSubsetAnyPFMuon False\n"
      ]
     },
     "metadata": {},
     "output_type": "display_data"
    },
    {
     "data": {
      "text/html": [
       "<pre style=\"white-space:pre;overflow-x:auto;line-height:normal;font-family:Menlo,'DejaVu Sans Mono',consolas,'Courier New',monospace\">Uh oh, haven't evaluated this cut yet! Make sure it was included in the list of cuts you used to initialize this \n",
       "JaggedSelection.   dsaMuons :  DT + CSC hits &gt; 12\n",
       "</pre>\n"
      ],
      "text/plain": [
       "Uh oh, haven't evaluated this cut yet! Make sure it was included in the list of cuts you used to initialize this \n",
       "JaggedSelection.   dsaMuons :  DT + CSC hits > 12\n"
      ]
     },
     "metadata": {},
     "output_type": "display_data"
    },
    {
     "data": {
      "text/html": [
       "<pre style=\"white-space:pre;overflow-x:auto;line-height:normal;font-family:Menlo,'DejaVu Sans Mono',consolas,'Courier New',monospace\">Uh oh, haven't evaluated this cut yet! Make sure it was included in the list of cuts you used to initialize this \n",
       "JaggedSelection.   dsaMuons :  DT + CSC stations &gt;= 2\n",
       "</pre>\n"
      ],
      "text/plain": [
       "Uh oh, haven't evaluated this cut yet! Make sure it was included in the list of cuts you used to initialize this \n",
       "JaggedSelection.   dsaMuons :  DT + CSC stations >= 2\n"
      ]
     },
     "metadata": {},
     "output_type": "display_data"
    },
    {
     "data": {
      "text/html": [
       "<pre style=\"white-space:pre;overflow-x:auto;line-height:normal;font-family:Menlo,'DejaVu Sans Mono',consolas,'Courier New',monospace\">Uh oh, haven't evaluated this cut yet! Make sure it was included in the list of cuts you used to initialize this \n",
       "JaggedSelection.   dsaMuons :  ptErrorOverPT &lt; 1\n",
       "</pre>\n"
      ],
      "text/plain": [
       "Uh oh, haven't evaluated this cut yet! Make sure it was included in the list of cuts you used to initialize this \n",
       "JaggedSelection.   dsaMuons :  ptErrorOverPT < 1\n"
      ]
     },
     "metadata": {},
     "output_type": "display_data"
    },
    {
     "data": {
      "text/html": [
       "<pre style=\"white-space:pre;overflow-x:auto;line-height:normal;font-family:Menlo,'DejaVu Sans Mono',consolas,'Courier New',monospace\">Warning: cannot fill counter Gen As to muons. Skipping.\n",
       "</pre>\n"
      ],
      "text/plain": [
       "Warning: cannot fill counter Gen As to muons. Skipping.\n"
      ]
     },
     "metadata": {},
     "output_type": "display_data"
    },
    {
     "data": {
      "text/html": [
       "<pre style=\"white-space:pre;overflow-x:auto;line-height:normal;font-family:Menlo,'DejaVu Sans Mono',consolas,'Courier New',monospace\">Warning: cannot fill counter Gen As to electrons. Skipping.\n",
       "</pre>\n"
      ],
      "text/plain": [
       "Warning: cannot fill counter Gen As to electrons. Skipping.\n"
      ]
     },
     "metadata": {},
     "output_type": "display_data"
    },
    {
     "data": {
      "text/html": [
       "<pre style=\"white-space:pre;overflow-x:auto;line-height:normal;font-family:Menlo,'DejaVu Sans Mono',consolas,'Courier New',monospace\">Warning: cannot fill counter Matched gen As to muons. Skipping.\n",
       "</pre>\n"
      ],
      "text/plain": [
       "Warning: cannot fill counter Matched gen As to muons. Skipping.\n"
      ]
     },
     "metadata": {},
     "output_type": "display_data"
    },
    {
     "data": {
      "text/html": [
       "<pre style=\"white-space:pre;overflow-x:auto;line-height:normal;font-family:Menlo,'DejaVu Sans Mono',consolas,'Courier New',monospace\">Warning: cannot fill counter Matched gen As to electrons. Skipping.\n",
       "</pre>\n"
      ],
      "text/plain": [
       "Warning: cannot fill counter Matched gen As to electrons. Skipping.\n"
      ]
     },
     "metadata": {},
     "output_type": "display_data"
    },
    {
     "data": {
      "text/html": [
       "<pre style=\"white-space:pre;overflow-x:auto;line-height:normal;font-family:Menlo,'DejaVu Sans Mono',consolas,'Courier New',monospace\">Warning: electrons not found in this sample. Skipping.\n",
       "</pre>\n"
      ],
      "text/plain": [
       "Warning: electrons not found in this sample. Skipping.\n"
      ]
     },
     "metadata": {},
     "output_type": "display_data"
    },
    {
     "data": {
      "text/html": [
       "<pre style=\"white-space:pre;overflow-x:auto;line-height:normal;font-family:Menlo,'DejaVu Sans Mono',consolas,'Courier New',monospace\">Warning: photons not found in this sample. Skipping.\n",
       "</pre>\n"
      ],
      "text/plain": [
       "Warning: photons not found in this sample. Skipping.\n"
      ]
     },
     "metadata": {},
     "output_type": "display_data"
    },
    {
     "data": {
      "text/html": [
       "<pre style=\"white-space:pre;overflow-x:auto;line-height:normal;font-family:Menlo,'DejaVu Sans Mono',consolas,'Courier New',monospace\">Warning: genAs_toMu not found in this sample. Skipping.\n",
       "</pre>\n"
      ],
      "text/plain": [
       "Warning: genAs_toMu not found in this sample. Skipping.\n"
      ]
     },
     "metadata": {},
     "output_type": "display_data"
    },
    {
     "data": {
      "text/html": [
       "<pre style=\"white-space:pre;overflow-x:auto;line-height:normal;font-family:Menlo,'DejaVu Sans Mono',consolas,'Courier New',monospace\">Warning: genAs_toE not found in this sample. Skipping.\n",
       "</pre>\n"
      ],
      "text/plain": [
       "Warning: genAs_toE not found in this sample. Skipping.\n"
      ]
     },
     "metadata": {},
     "output_type": "display_data"
    },
    {
     "data": {
      "text/html": [
       "<pre style=\"white-space:pre;overflow-x:auto;line-height:normal;font-family:Menlo,'DejaVu Sans Mono',consolas,'Courier New',monospace\">Not applying any cuts to the lepton jets for channel  baseNoLj\n",
       "</pre>\n"
      ],
      "text/plain": [
       "Not applying any cuts to the lepton jets for channel  baseNoLj\n"
      ]
     },
     "metadata": {},
     "output_type": "display_data"
    },
    {
     "data": {
      "text/html": [
       "<pre style=\"white-space:pre;overflow-x:auto;line-height:normal;font-family:Menlo,'DejaVu Sans Mono',consolas,'Courier New',monospace\">Warning: electrons not found in sample. The following cuts will not be applied: ['pT &gt; 10 GeV', '|eta| &lt; 2.4', \n",
       "'looseID']\n",
       "</pre>\n"
      ],
      "text/plain": [
       "Warning: electrons not found in sample. The following cuts will not be applied: ['pT > 10 GeV', '|eta| < 2.4', \n",
       "'looseID']\n"
      ]
     },
     "metadata": {},
     "output_type": "display_data"
    },
    {
     "data": {
      "text/html": [
       "<pre style=\"white-space:pre;overflow-x:auto;line-height:normal;font-family:Menlo,'DejaVu Sans Mono',consolas,'Courier New',monospace\">Warning: Unable to apply looseID for muons. Skipping.\n",
       "</pre>\n"
      ],
      "text/plain": [
       "Warning: Unable to apply looseID for muons. Skipping.\n"
      ]
     },
     "metadata": {},
     "output_type": "display_data"
    },
    {
     "data": {
      "text/html": [
       "<pre style=\"white-space:pre;overflow-x:auto;line-height:normal;font-family:Menlo,'DejaVu Sans Mono',consolas,'Courier New',monospace\">Warning: photons not found in sample. The following cuts will not be applied: ['pT &gt; 20 GeV', '|eta| &lt; 2.5', \n",
       "'looseID']\n",
       "</pre>\n"
      ],
      "text/plain": [
       "Warning: photons not found in sample. The following cuts will not be applied: ['pT > 20 GeV', '|eta| < 2.5', \n",
       "'looseID']\n"
      ]
     },
     "metadata": {},
     "output_type": "display_data"
    },
    {
     "data": {
      "text/html": [
       "<pre style=\"white-space:pre;overflow-x:auto;line-height:normal;font-family:Menlo,'DejaVu Sans Mono',consolas,'Courier New',monospace\">Warning: Unable to apply ifcsczero for dsaMuons. Skipping.\n",
       "</pre>\n"
      ],
      "text/plain": [
       "Warning: Unable to apply ifcsczero for dsaMuons. Skipping.\n"
      ]
     },
     "metadata": {},
     "output_type": "display_data"
    },
    {
     "data": {
      "text/html": [
       "<pre style=\"white-space:pre;overflow-x:auto;line-height:normal;font-family:Menlo,'DejaVu Sans Mono',consolas,'Courier New',monospace\">Warning: Unable to apply segOverlap &lt; 0.66 for dsaMuons. Skipping.\n",
       "</pre>\n"
      ],
      "text/plain": [
       "Warning: Unable to apply segOverlap < 0.66 for dsaMuons. Skipping.\n"
      ]
     },
     "metadata": {},
     "output_type": "display_data"
    },
    {
     "data": {
      "text/html": [
       "<pre style=\"white-space:pre;overflow-x:auto;line-height:normal;font-family:Menlo,'DejaVu Sans Mono',consolas,'Courier New',monospace\">Warning: Unable to apply extrapolatedDr &gt; 0.2 for dsaMuons. Skipping.\n",
       "</pre>\n"
      ],
      "text/plain": [
       "Warning: Unable to apply extrapolatedDr > 0.2 for dsaMuons. Skipping.\n"
      ]
     },
     "metadata": {},
     "output_type": "display_data"
    },
    {
     "data": {
      "text/html": [
       "<pre style=\"white-space:pre;overflow-x:auto;line-height:normal;font-family:Menlo,'DejaVu Sans Mono',consolas,'Courier New',monospace\">Warning: Unable to apply isSubsetAnyPFMuon False for dsaMuons. Skipping.\n",
       "</pre>\n"
      ],
      "text/plain": [
       "Warning: Unable to apply isSubsetAnyPFMuon False for dsaMuons. Skipping.\n"
      ]
     },
     "metadata": {},
     "output_type": "display_data"
    },
    {
     "data": {
      "text/html": [
       "<pre style=\"white-space:pre;overflow-x:auto;line-height:normal;font-family:Menlo,'DejaVu Sans Mono',consolas,'Courier New',monospace\">Warning: Unable to apply DT + CSC hits &gt; 12 for dsaMuons. Skipping.\n",
       "</pre>\n"
      ],
      "text/plain": [
       "Warning: Unable to apply DT + CSC hits > 12 for dsaMuons. Skipping.\n"
      ]
     },
     "metadata": {},
     "output_type": "display_data"
    },
    {
     "data": {
      "text/html": [
       "<pre style=\"white-space:pre;overflow-x:auto;line-height:normal;font-family:Menlo,'DejaVu Sans Mono',consolas,'Courier New',monospace\">Warning: Unable to apply DT + CSC stations &gt;= 2 for dsaMuons. Skipping.\n",
       "</pre>\n"
      ],
      "text/plain": [
       "Warning: Unable to apply DT + CSC stations >= 2 for dsaMuons. Skipping.\n"
      ]
     },
     "metadata": {},
     "output_type": "display_data"
    },
    {
     "data": {
      "text/html": [
       "<pre style=\"white-space:pre;overflow-x:auto;line-height:normal;font-family:Menlo,'DejaVu Sans Mono',consolas,'Courier New',monospace\">Warning: Unable to apply ptErrorOverPT &lt; 1 for dsaMuons. Skipping.\n",
       "</pre>\n"
      ],
      "text/plain": [
       "Warning: Unable to apply ptErrorOverPT < 1 for dsaMuons. Skipping.\n"
      ]
     },
     "metadata": {},
     "output_type": "display_data"
    },
    {
     "data": {
      "text/html": [
       "<pre style=\"white-space:pre;overflow-x:auto;line-height:normal;font-family:Menlo,'DejaVu Sans Mono',consolas,'Courier New',monospace\">Warning: electrons not found in sample. The following cuts will not be applied: ['pT &gt; 10 GeV', '|eta| &lt; 2.4', \n",
       "'looseID']\n",
       "</pre>\n"
      ],
      "text/plain": [
       "Warning: electrons not found in sample. The following cuts will not be applied: ['pT > 10 GeV', '|eta| < 2.4', \n",
       "'looseID']\n"
      ]
     },
     "metadata": {},
     "output_type": "display_data"
    },
    {
     "data": {
      "text/html": [
       "<pre style=\"white-space:pre;overflow-x:auto;line-height:normal;font-family:Menlo,'DejaVu Sans Mono',consolas,'Courier New',monospace\">Uh oh, haven't evaluated this cut yet! Make sure it was included in the list of cuts you used to initialize this \n",
       "JaggedSelection.   muons :  looseID\n",
       "</pre>\n"
      ],
      "text/plain": [
       "Uh oh, haven't evaluated this cut yet! Make sure it was included in the list of cuts you used to initialize this \n",
       "JaggedSelection.   muons :  looseID\n"
      ]
     },
     "metadata": {},
     "output_type": "display_data"
    },
    {
     "data": {
      "text/html": [
       "<pre style=\"white-space:pre;overflow-x:auto;line-height:normal;font-family:Menlo,'DejaVu Sans Mono',consolas,'Courier New',monospace\">Warning: photons not found in sample. The following cuts will not be applied: ['pT &gt; 20 GeV', '|eta| &lt; 2.5', \n",
       "'looseID']\n",
       "</pre>\n"
      ],
      "text/plain": [
       "Warning: photons not found in sample. The following cuts will not be applied: ['pT > 20 GeV', '|eta| < 2.5', \n",
       "'looseID']\n"
      ]
     },
     "metadata": {},
     "output_type": "display_data"
    },
    {
     "data": {
      "text/html": [
       "<pre style=\"white-space:pre;overflow-x:auto;line-height:normal;font-family:Menlo,'DejaVu Sans Mono',consolas,'Courier New',monospace\">Uh oh, haven't evaluated this cut yet! Make sure it was included in the list of cuts you used to initialize this \n",
       "JaggedSelection.   dsaMuons :  ifcsczero\n",
       "</pre>\n"
      ],
      "text/plain": [
       "Uh oh, haven't evaluated this cut yet! Make sure it was included in the list of cuts you used to initialize this \n",
       "JaggedSelection.   dsaMuons :  ifcsczero\n"
      ]
     },
     "metadata": {},
     "output_type": "display_data"
    },
    {
     "data": {
      "text/html": [
       "<pre style=\"white-space:pre;overflow-x:auto;line-height:normal;font-family:Menlo,'DejaVu Sans Mono',consolas,'Courier New',monospace\">Uh oh, haven't evaluated this cut yet! Make sure it was included in the list of cuts you used to initialize this \n",
       "JaggedSelection.   dsaMuons :  segOverlap &lt; 0.66\n",
       "</pre>\n"
      ],
      "text/plain": [
       "Uh oh, haven't evaluated this cut yet! Make sure it was included in the list of cuts you used to initialize this \n",
       "JaggedSelection.   dsaMuons :  segOverlap < 0.66\n"
      ]
     },
     "metadata": {},
     "output_type": "display_data"
    },
    {
     "data": {
      "text/html": [
       "<pre style=\"white-space:pre;overflow-x:auto;line-height:normal;font-family:Menlo,'DejaVu Sans Mono',consolas,'Courier New',monospace\">Uh oh, haven't evaluated this cut yet! Make sure it was included in the list of cuts you used to initialize this \n",
       "JaggedSelection.   dsaMuons :  extrapolatedDr &gt; 0.2\n",
       "</pre>\n"
      ],
      "text/plain": [
       "Uh oh, haven't evaluated this cut yet! Make sure it was included in the list of cuts you used to initialize this \n",
       "JaggedSelection.   dsaMuons :  extrapolatedDr > 0.2\n"
      ]
     },
     "metadata": {},
     "output_type": "display_data"
    },
    {
     "data": {
      "text/html": [
       "<pre style=\"white-space:pre;overflow-x:auto;line-height:normal;font-family:Menlo,'DejaVu Sans Mono',consolas,'Courier New',monospace\">Uh oh, haven't evaluated this cut yet! Make sure it was included in the list of cuts you used to initialize this \n",
       "JaggedSelection.   dsaMuons :  isSubsetAnyPFMuon False\n",
       "</pre>\n"
      ],
      "text/plain": [
       "Uh oh, haven't evaluated this cut yet! Make sure it was included in the list of cuts you used to initialize this \n",
       "JaggedSelection.   dsaMuons :  isSubsetAnyPFMuon False\n"
      ]
     },
     "metadata": {},
     "output_type": "display_data"
    },
    {
     "data": {
      "text/html": [
       "<pre style=\"white-space:pre;overflow-x:auto;line-height:normal;font-family:Menlo,'DejaVu Sans Mono',consolas,'Courier New',monospace\">Uh oh, haven't evaluated this cut yet! Make sure it was included in the list of cuts you used to initialize this \n",
       "JaggedSelection.   dsaMuons :  DT + CSC hits &gt; 12\n",
       "</pre>\n"
      ],
      "text/plain": [
       "Uh oh, haven't evaluated this cut yet! Make sure it was included in the list of cuts you used to initialize this \n",
       "JaggedSelection.   dsaMuons :  DT + CSC hits > 12\n"
      ]
     },
     "metadata": {},
     "output_type": "display_data"
    },
    {
     "data": {
      "text/html": [
       "<pre style=\"white-space:pre;overflow-x:auto;line-height:normal;font-family:Menlo,'DejaVu Sans Mono',consolas,'Courier New',monospace\">Uh oh, haven't evaluated this cut yet! Make sure it was included in the list of cuts you used to initialize this \n",
       "JaggedSelection.   dsaMuons :  DT + CSC stations &gt;= 2\n",
       "</pre>\n"
      ],
      "text/plain": [
       "Uh oh, haven't evaluated this cut yet! Make sure it was included in the list of cuts you used to initialize this \n",
       "JaggedSelection.   dsaMuons :  DT + CSC stations >= 2\n"
      ]
     },
     "metadata": {},
     "output_type": "display_data"
    },
    {
     "data": {
      "text/html": [
       "<pre style=\"white-space:pre;overflow-x:auto;line-height:normal;font-family:Menlo,'DejaVu Sans Mono',consolas,'Courier New',monospace\">Uh oh, haven't evaluated this cut yet! Make sure it was included in the list of cuts you used to initialize this \n",
       "JaggedSelection.   dsaMuons :  ptErrorOverPT &lt; 1\n",
       "</pre>\n"
      ],
      "text/plain": [
       "Uh oh, haven't evaluated this cut yet! Make sure it was included in the list of cuts you used to initialize this \n",
       "JaggedSelection.   dsaMuons :  ptErrorOverPT < 1\n"
      ]
     },
     "metadata": {},
     "output_type": "display_data"
    },
    {
     "data": {
      "text/html": [
       "<pre style=\"white-space:pre;overflow-x:auto;line-height:normal;font-family:Menlo,'DejaVu Sans Mono',consolas,'Courier New',monospace\">Warning: cannot fill counter Gen As to muons. Skipping.\n",
       "</pre>\n"
      ],
      "text/plain": [
       "Warning: cannot fill counter Gen As to muons. Skipping.\n"
      ]
     },
     "metadata": {},
     "output_type": "display_data"
    },
    {
     "data": {
      "text/html": [
       "<pre style=\"white-space:pre;overflow-x:auto;line-height:normal;font-family:Menlo,'DejaVu Sans Mono',consolas,'Courier New',monospace\">Warning: cannot fill counter Gen As to electrons. Skipping.\n",
       "</pre>\n"
      ],
      "text/plain": [
       "Warning: cannot fill counter Gen As to electrons. Skipping.\n"
      ]
     },
     "metadata": {},
     "output_type": "display_data"
    },
    {
     "data": {
      "text/html": [
       "<pre style=\"white-space:pre;overflow-x:auto;line-height:normal;font-family:Menlo,'DejaVu Sans Mono',consolas,'Courier New',monospace\">Warning: cannot fill counter Matched gen As to muons. Skipping.\n",
       "</pre>\n"
      ],
      "text/plain": [
       "Warning: cannot fill counter Matched gen As to muons. Skipping.\n"
      ]
     },
     "metadata": {},
     "output_type": "display_data"
    },
    {
     "data": {
      "text/html": [
       "<pre style=\"white-space:pre;overflow-x:auto;line-height:normal;font-family:Menlo,'DejaVu Sans Mono',consolas,'Courier New',monospace\">Warning: cannot fill counter Matched gen As to electrons. Skipping.\n",
       "</pre>\n"
      ],
      "text/plain": [
       "Warning: cannot fill counter Matched gen As to electrons. Skipping.\n"
      ]
     },
     "metadata": {},
     "output_type": "display_data"
    },
    {
     "data": {
      "text/html": [
       "<pre style=\"white-space:pre;overflow-x:auto;line-height:normal;font-family:Menlo,'DejaVu Sans Mono',consolas,'Courier New',monospace\">Warning: electrons not found in sample. The following cuts will not be applied: ['pT &gt; 10 GeV', '|eta| &lt; 2.4', \n",
       "'looseID']\n",
       "</pre>\n"
      ],
      "text/plain": [
       "Warning: electrons not found in sample. The following cuts will not be applied: ['pT > 10 GeV', '|eta| < 2.4', \n",
       "'looseID']\n"
      ]
     },
     "metadata": {},
     "output_type": "display_data"
    },
    {
     "data": {
      "text/html": [
       "<pre style=\"white-space:pre;overflow-x:auto;line-height:normal;font-family:Menlo,'DejaVu Sans Mono',consolas,'Courier New',monospace\">Uh oh, haven't evaluated this cut yet! Make sure it was included in the list of cuts you used to initialize this \n",
       "JaggedSelection.   muons :  looseID\n",
       "</pre>\n"
      ],
      "text/plain": [
       "Uh oh, haven't evaluated this cut yet! Make sure it was included in the list of cuts you used to initialize this \n",
       "JaggedSelection.   muons :  looseID\n"
      ]
     },
     "metadata": {},
     "output_type": "display_data"
    },
    {
     "data": {
      "text/html": [
       "<pre style=\"white-space:pre;overflow-x:auto;line-height:normal;font-family:Menlo,'DejaVu Sans Mono',consolas,'Courier New',monospace\">Warning: photons not found in sample. The following cuts will not be applied: ['pT &gt; 20 GeV', '|eta| &lt; 2.5', \n",
       "'looseID']\n",
       "</pre>\n"
      ],
      "text/plain": [
       "Warning: photons not found in sample. The following cuts will not be applied: ['pT > 20 GeV', '|eta| < 2.5', \n",
       "'looseID']\n"
      ]
     },
     "metadata": {},
     "output_type": "display_data"
    },
    {
     "data": {
      "text/html": [
       "<pre style=\"white-space:pre;overflow-x:auto;line-height:normal;font-family:Menlo,'DejaVu Sans Mono',consolas,'Courier New',monospace\">Uh oh, haven't evaluated this cut yet! Make sure it was included in the list of cuts you used to initialize this \n",
       "JaggedSelection.   dsaMuons :  ifcsczero\n",
       "</pre>\n"
      ],
      "text/plain": [
       "Uh oh, haven't evaluated this cut yet! Make sure it was included in the list of cuts you used to initialize this \n",
       "JaggedSelection.   dsaMuons :  ifcsczero\n"
      ]
     },
     "metadata": {},
     "output_type": "display_data"
    },
    {
     "data": {
      "text/html": [
       "<pre style=\"white-space:pre;overflow-x:auto;line-height:normal;font-family:Menlo,'DejaVu Sans Mono',consolas,'Courier New',monospace\">Uh oh, haven't evaluated this cut yet! Make sure it was included in the list of cuts you used to initialize this \n",
       "JaggedSelection.   dsaMuons :  segOverlap &lt; 0.66\n",
       "</pre>\n"
      ],
      "text/plain": [
       "Uh oh, haven't evaluated this cut yet! Make sure it was included in the list of cuts you used to initialize this \n",
       "JaggedSelection.   dsaMuons :  segOverlap < 0.66\n"
      ]
     },
     "metadata": {},
     "output_type": "display_data"
    },
    {
     "data": {
      "text/html": [
       "<pre style=\"white-space:pre;overflow-x:auto;line-height:normal;font-family:Menlo,'DejaVu Sans Mono',consolas,'Courier New',monospace\">Uh oh, haven't evaluated this cut yet! Make sure it was included in the list of cuts you used to initialize this \n",
       "JaggedSelection.   dsaMuons :  extrapolatedDr &gt; 0.2\n",
       "</pre>\n"
      ],
      "text/plain": [
       "Uh oh, haven't evaluated this cut yet! Make sure it was included in the list of cuts you used to initialize this \n",
       "JaggedSelection.   dsaMuons :  extrapolatedDr > 0.2\n"
      ]
     },
     "metadata": {},
     "output_type": "display_data"
    },
    {
     "data": {
      "text/html": [
       "<pre style=\"white-space:pre;overflow-x:auto;line-height:normal;font-family:Menlo,'DejaVu Sans Mono',consolas,'Courier New',monospace\">Uh oh, haven't evaluated this cut yet! Make sure it was included in the list of cuts you used to initialize this \n",
       "JaggedSelection.   dsaMuons :  isSubsetAnyPFMuon False\n",
       "</pre>\n"
      ],
      "text/plain": [
       "Uh oh, haven't evaluated this cut yet! Make sure it was included in the list of cuts you used to initialize this \n",
       "JaggedSelection.   dsaMuons :  isSubsetAnyPFMuon False\n"
      ]
     },
     "metadata": {},
     "output_type": "display_data"
    },
    {
     "data": {
      "text/html": [
       "<pre style=\"white-space:pre;overflow-x:auto;line-height:normal;font-family:Menlo,'DejaVu Sans Mono',consolas,'Courier New',monospace\">Uh oh, haven't evaluated this cut yet! Make sure it was included in the list of cuts you used to initialize this \n",
       "JaggedSelection.   dsaMuons :  DT + CSC hits &gt; 12\n",
       "</pre>\n"
      ],
      "text/plain": [
       "Uh oh, haven't evaluated this cut yet! Make sure it was included in the list of cuts you used to initialize this \n",
       "JaggedSelection.   dsaMuons :  DT + CSC hits > 12\n"
      ]
     },
     "metadata": {},
     "output_type": "display_data"
    },
    {
     "data": {
      "text/html": [
       "<pre style=\"white-space:pre;overflow-x:auto;line-height:normal;font-family:Menlo,'DejaVu Sans Mono',consolas,'Courier New',monospace\">Uh oh, haven't evaluated this cut yet! Make sure it was included in the list of cuts you used to initialize this \n",
       "JaggedSelection.   dsaMuons :  DT + CSC stations &gt;= 2\n",
       "</pre>\n"
      ],
      "text/plain": [
       "Uh oh, haven't evaluated this cut yet! Make sure it was included in the list of cuts you used to initialize this \n",
       "JaggedSelection.   dsaMuons :  DT + CSC stations >= 2\n"
      ]
     },
     "metadata": {},
     "output_type": "display_data"
    },
    {
     "data": {
      "text/html": [
       "<pre style=\"white-space:pre;overflow-x:auto;line-height:normal;font-family:Menlo,'DejaVu Sans Mono',consolas,'Courier New',monospace\">Uh oh, haven't evaluated this cut yet! Make sure it was included in the list of cuts you used to initialize this \n",
       "JaggedSelection.   dsaMuons :  ptErrorOverPT &lt; 1\n",
       "</pre>\n"
      ],
      "text/plain": [
       "Uh oh, haven't evaluated this cut yet! Make sure it was included in the list of cuts you used to initialize this \n",
       "JaggedSelection.   dsaMuons :  ptErrorOverPT < 1\n"
      ]
     },
     "metadata": {},
     "output_type": "display_data"
    },
    {
     "data": {
      "text/html": [
       "<pre style=\"white-space:pre;overflow-x:auto;line-height:normal;font-family:Menlo,'DejaVu Sans Mono',consolas,'Courier New',monospace\">Warning: cannot fill counter Gen As to muons. Skipping.\n",
       "</pre>\n"
      ],
      "text/plain": [
       "Warning: cannot fill counter Gen As to muons. Skipping.\n"
      ]
     },
     "metadata": {},
     "output_type": "display_data"
    },
    {
     "data": {
      "text/html": [
       "<pre style=\"white-space:pre;overflow-x:auto;line-height:normal;font-family:Menlo,'DejaVu Sans Mono',consolas,'Courier New',monospace\">Warning: cannot fill counter Gen As to electrons. Skipping.\n",
       "</pre>\n"
      ],
      "text/plain": [
       "Warning: cannot fill counter Gen As to electrons. Skipping.\n"
      ]
     },
     "metadata": {},
     "output_type": "display_data"
    },
    {
     "data": {
      "text/html": [
       "<pre style=\"white-space:pre;overflow-x:auto;line-height:normal;font-family:Menlo,'DejaVu Sans Mono',consolas,'Courier New',monospace\">Warning: cannot fill counter Matched gen As to muons. Skipping.\n",
       "</pre>\n"
      ],
      "text/plain": [
       "Warning: cannot fill counter Matched gen As to muons. Skipping.\n"
      ]
     },
     "metadata": {},
     "output_type": "display_data"
    },
    {
     "data": {
      "text/html": [
       "<pre style=\"white-space:pre;overflow-x:auto;line-height:normal;font-family:Menlo,'DejaVu Sans Mono',consolas,'Courier New',monospace\">Warning: cannot fill counter Matched gen As to electrons. Skipping.\n",
       "</pre>\n"
      ],
      "text/plain": [
       "Warning: cannot fill counter Matched gen As to electrons. Skipping.\n"
      ]
     },
     "metadata": {},
     "output_type": "display_data"
    },
    {
     "data": {
      "text/html": [
       "<pre style=\"white-space:pre;overflow-x:auto;line-height:normal;font-family:Menlo,'DejaVu Sans Mono',consolas,'Courier New',monospace\">Warning: electrons not found in sample. The following cuts will not be applied: ['pT &gt; 10 GeV', '|eta| &lt; 2.4', \n",
       "'looseID']\n",
       "</pre>\n"
      ],
      "text/plain": [
       "Warning: electrons not found in sample. The following cuts will not be applied: ['pT > 10 GeV', '|eta| < 2.4', \n",
       "'looseID']\n"
      ]
     },
     "metadata": {},
     "output_type": "display_data"
    },
    {
     "data": {
      "text/html": [
       "<pre style=\"white-space:pre;overflow-x:auto;line-height:normal;font-family:Menlo,'DejaVu Sans Mono',consolas,'Courier New',monospace\">Uh oh, haven't evaluated this cut yet! Make sure it was included in the list of cuts you used to initialize this \n",
       "JaggedSelection.   muons :  looseID\n",
       "</pre>\n"
      ],
      "text/plain": [
       "Uh oh, haven't evaluated this cut yet! Make sure it was included in the list of cuts you used to initialize this \n",
       "JaggedSelection.   muons :  looseID\n"
      ]
     },
     "metadata": {},
     "output_type": "display_data"
    },
    {
     "data": {
      "text/html": [
       "<pre style=\"white-space:pre;overflow-x:auto;line-height:normal;font-family:Menlo,'DejaVu Sans Mono',consolas,'Courier New',monospace\">Warning: photons not found in sample. The following cuts will not be applied: ['pT &gt; 20 GeV', '|eta| &lt; 2.5', \n",
       "'looseID']\n",
       "</pre>\n"
      ],
      "text/plain": [
       "Warning: photons not found in sample. The following cuts will not be applied: ['pT > 20 GeV', '|eta| < 2.5', \n",
       "'looseID']\n"
      ]
     },
     "metadata": {},
     "output_type": "display_data"
    },
    {
     "data": {
      "text/html": [
       "<pre style=\"white-space:pre;overflow-x:auto;line-height:normal;font-family:Menlo,'DejaVu Sans Mono',consolas,'Courier New',monospace\">Uh oh, haven't evaluated this cut yet! Make sure it was included in the list of cuts you used to initialize this \n",
       "JaggedSelection.   dsaMuons :  ifcsczero\n",
       "</pre>\n"
      ],
      "text/plain": [
       "Uh oh, haven't evaluated this cut yet! Make sure it was included in the list of cuts you used to initialize this \n",
       "JaggedSelection.   dsaMuons :  ifcsczero\n"
      ]
     },
     "metadata": {},
     "output_type": "display_data"
    },
    {
     "data": {
      "text/html": [
       "<pre style=\"white-space:pre;overflow-x:auto;line-height:normal;font-family:Menlo,'DejaVu Sans Mono',consolas,'Courier New',monospace\">Uh oh, haven't evaluated this cut yet! Make sure it was included in the list of cuts you used to initialize this \n",
       "JaggedSelection.   dsaMuons :  segOverlap &lt; 0.66\n",
       "</pre>\n"
      ],
      "text/plain": [
       "Uh oh, haven't evaluated this cut yet! Make sure it was included in the list of cuts you used to initialize this \n",
       "JaggedSelection.   dsaMuons :  segOverlap < 0.66\n"
      ]
     },
     "metadata": {},
     "output_type": "display_data"
    },
    {
     "data": {
      "text/html": [
       "<pre style=\"white-space:pre;overflow-x:auto;line-height:normal;font-family:Menlo,'DejaVu Sans Mono',consolas,'Courier New',monospace\">Uh oh, haven't evaluated this cut yet! Make sure it was included in the list of cuts you used to initialize this \n",
       "JaggedSelection.   dsaMuons :  extrapolatedDr &gt; 0.2\n",
       "</pre>\n"
      ],
      "text/plain": [
       "Uh oh, haven't evaluated this cut yet! Make sure it was included in the list of cuts you used to initialize this \n",
       "JaggedSelection.   dsaMuons :  extrapolatedDr > 0.2\n"
      ]
     },
     "metadata": {},
     "output_type": "display_data"
    },
    {
     "data": {
      "text/html": [
       "<pre style=\"white-space:pre;overflow-x:auto;line-height:normal;font-family:Menlo,'DejaVu Sans Mono',consolas,'Courier New',monospace\">Uh oh, haven't evaluated this cut yet! Make sure it was included in the list of cuts you used to initialize this \n",
       "JaggedSelection.   dsaMuons :  isSubsetAnyPFMuon False\n",
       "</pre>\n"
      ],
      "text/plain": [
       "Uh oh, haven't evaluated this cut yet! Make sure it was included in the list of cuts you used to initialize this \n",
       "JaggedSelection.   dsaMuons :  isSubsetAnyPFMuon False\n"
      ]
     },
     "metadata": {},
     "output_type": "display_data"
    },
    {
     "data": {
      "text/html": [
       "<pre style=\"white-space:pre;overflow-x:auto;line-height:normal;font-family:Menlo,'DejaVu Sans Mono',consolas,'Courier New',monospace\">Uh oh, haven't evaluated this cut yet! Make sure it was included in the list of cuts you used to initialize this \n",
       "JaggedSelection.   dsaMuons :  DT + CSC hits &gt; 12\n",
       "</pre>\n"
      ],
      "text/plain": [
       "Uh oh, haven't evaluated this cut yet! Make sure it was included in the list of cuts you used to initialize this \n",
       "JaggedSelection.   dsaMuons :  DT + CSC hits > 12\n"
      ]
     },
     "metadata": {},
     "output_type": "display_data"
    },
    {
     "data": {
      "text/html": [
       "<pre style=\"white-space:pre;overflow-x:auto;line-height:normal;font-family:Menlo,'DejaVu Sans Mono',consolas,'Courier New',monospace\">Uh oh, haven't evaluated this cut yet! Make sure it was included in the list of cuts you used to initialize this \n",
       "JaggedSelection.   dsaMuons :  DT + CSC stations &gt;= 2\n",
       "</pre>\n"
      ],
      "text/plain": [
       "Uh oh, haven't evaluated this cut yet! Make sure it was included in the list of cuts you used to initialize this \n",
       "JaggedSelection.   dsaMuons :  DT + CSC stations >= 2\n"
      ]
     },
     "metadata": {},
     "output_type": "display_data"
    },
    {
     "data": {
      "text/html": [
       "<pre style=\"white-space:pre;overflow-x:auto;line-height:normal;font-family:Menlo,'DejaVu Sans Mono',consolas,'Courier New',monospace\">Uh oh, haven't evaluated this cut yet! Make sure it was included in the list of cuts you used to initialize this \n",
       "JaggedSelection.   dsaMuons :  ptErrorOverPT &lt; 1\n",
       "</pre>\n"
      ],
      "text/plain": [
       "Uh oh, haven't evaluated this cut yet! Make sure it was included in the list of cuts you used to initialize this \n",
       "JaggedSelection.   dsaMuons :  ptErrorOverPT < 1\n"
      ]
     },
     "metadata": {},
     "output_type": "display_data"
    },
    {
     "data": {
      "text/html": [
       "<pre style=\"white-space:pre;overflow-x:auto;line-height:normal;font-family:Menlo,'DejaVu Sans Mono',consolas,'Courier New',monospace\">Warning: cannot fill counter Gen As to muons. Skipping.\n",
       "</pre>\n"
      ],
      "text/plain": [
       "Warning: cannot fill counter Gen As to muons. Skipping.\n"
      ]
     },
     "metadata": {},
     "output_type": "display_data"
    },
    {
     "data": {
      "text/html": [
       "<pre style=\"white-space:pre;overflow-x:auto;line-height:normal;font-family:Menlo,'DejaVu Sans Mono',consolas,'Courier New',monospace\">Warning: cannot fill counter Gen As to electrons. Skipping.\n",
       "</pre>\n"
      ],
      "text/plain": [
       "Warning: cannot fill counter Gen As to electrons. Skipping.\n"
      ]
     },
     "metadata": {},
     "output_type": "display_data"
    },
    {
     "data": {
      "text/html": [
       "<pre style=\"white-space:pre;overflow-x:auto;line-height:normal;font-family:Menlo,'DejaVu Sans Mono',consolas,'Courier New',monospace\">Warning: cannot fill counter Matched gen As to muons. Skipping.\n",
       "</pre>\n"
      ],
      "text/plain": [
       "Warning: cannot fill counter Matched gen As to muons. Skipping.\n"
      ]
     },
     "metadata": {},
     "output_type": "display_data"
    },
    {
     "data": {
      "text/html": [
       "<pre style=\"white-space:pre;overflow-x:auto;line-height:normal;font-family:Menlo,'DejaVu Sans Mono',consolas,'Courier New',monospace\">Warning: cannot fill counter Matched gen As to electrons. Skipping.\n",
       "</pre>\n"
      ],
      "text/plain": [
       "Warning: cannot fill counter Matched gen As to electrons. Skipping.\n"
      ]
     },
     "metadata": {},
     "output_type": "display_data"
    },
    {
     "data": {
      "text/html": [
       "<pre style=\"white-space:pre;overflow-x:auto;line-height:normal;font-family:Menlo,'DejaVu Sans Mono',consolas,'Courier New',monospace\">Warning: electrons not found in this sample. Skipping.\n",
       "</pre>\n"
      ],
      "text/plain": [
       "Warning: electrons not found in this sample. Skipping.\n"
      ]
     },
     "metadata": {},
     "output_type": "display_data"
    },
    {
     "data": {
      "text/html": [
       "<pre style=\"white-space:pre;overflow-x:auto;line-height:normal;font-family:Menlo,'DejaVu Sans Mono',consolas,'Courier New',monospace\">Warning: photons not found in this sample. Skipping.\n",
       "</pre>\n"
      ],
      "text/plain": [
       "Warning: photons not found in this sample. Skipping.\n"
      ]
     },
     "metadata": {},
     "output_type": "display_data"
    },
    {
     "data": {
      "text/html": [
       "<pre style=\"white-space:pre;overflow-x:auto;line-height:normal;font-family:Menlo,'DejaVu Sans Mono',consolas,'Courier New',monospace\">Warning: genAs_toMu not found in this sample. Skipping.\n",
       "</pre>\n"
      ],
      "text/plain": [
       "Warning: genAs_toMu not found in this sample. Skipping.\n"
      ]
     },
     "metadata": {},
     "output_type": "display_data"
    },
    {
     "data": {
      "text/html": [
       "<pre style=\"white-space:pre;overflow-x:auto;line-height:normal;font-family:Menlo,'DejaVu Sans Mono',consolas,'Courier New',monospace\">Warning: genAs_toE not found in this sample. Skipping.\n",
       "</pre>\n"
      ],
      "text/plain": [
       "Warning: genAs_toE not found in this sample. Skipping.\n"
      ]
     },
     "metadata": {},
     "output_type": "display_data"
    },
    {
     "data": {
      "text/html": [
       "<pre style=\"white-space:pre;overflow-x:auto;line-height:normal;font-family:Menlo,'DejaVu Sans Mono',consolas,'Courier New',monospace\">Not applying any cuts to the lepton jets for channel  baseNoLj\n",
       "</pre>\n"
      ],
      "text/plain": [
       "Not applying any cuts to the lepton jets for channel  baseNoLj\n"
      ]
     },
     "metadata": {},
     "output_type": "display_data"
    },
    {
     "data": {
      "text/html": [
       "<pre style=\"white-space:pre;overflow-x:auto;line-height:normal;font-family:Menlo,'DejaVu Sans Mono',consolas,'Courier New',monospace\">Warning: electrons not found in sample. The following cuts will not be applied: ['pT &gt; 10 GeV', '|eta| &lt; 2.4', \n",
       "'looseID']\n",
       "</pre>\n"
      ],
      "text/plain": [
       "Warning: electrons not found in sample. The following cuts will not be applied: ['pT > 10 GeV', '|eta| < 2.4', \n",
       "'looseID']\n"
      ]
     },
     "metadata": {},
     "output_type": "display_data"
    },
    {
     "data": {
      "text/html": [
       "<pre style=\"white-space:pre;overflow-x:auto;line-height:normal;font-family:Menlo,'DejaVu Sans Mono',consolas,'Courier New',monospace\">Warning: Unable to apply looseID for muons. Skipping.\n",
       "</pre>\n"
      ],
      "text/plain": [
       "Warning: Unable to apply looseID for muons. Skipping.\n"
      ]
     },
     "metadata": {},
     "output_type": "display_data"
    },
    {
     "data": {
      "text/html": [
       "<pre style=\"white-space:pre;overflow-x:auto;line-height:normal;font-family:Menlo,'DejaVu Sans Mono',consolas,'Courier New',monospace\">Warning: photons not found in sample. The following cuts will not be applied: ['pT &gt; 20 GeV', '|eta| &lt; 2.5', \n",
       "'looseID']\n",
       "</pre>\n"
      ],
      "text/plain": [
       "Warning: photons not found in sample. The following cuts will not be applied: ['pT > 20 GeV', '|eta| < 2.5', \n",
       "'looseID']\n"
      ]
     },
     "metadata": {},
     "output_type": "display_data"
    },
    {
     "data": {
      "text/html": [
       "<pre style=\"white-space:pre;overflow-x:auto;line-height:normal;font-family:Menlo,'DejaVu Sans Mono',consolas,'Courier New',monospace\">Warning: Unable to apply ifcsczero for dsaMuons. Skipping.\n",
       "</pre>\n"
      ],
      "text/plain": [
       "Warning: Unable to apply ifcsczero for dsaMuons. Skipping.\n"
      ]
     },
     "metadata": {},
     "output_type": "display_data"
    },
    {
     "data": {
      "text/html": [
       "<pre style=\"white-space:pre;overflow-x:auto;line-height:normal;font-family:Menlo,'DejaVu Sans Mono',consolas,'Courier New',monospace\">Warning: Unable to apply segOverlap &lt; 0.66 for dsaMuons. Skipping.\n",
       "</pre>\n"
      ],
      "text/plain": [
       "Warning: Unable to apply segOverlap < 0.66 for dsaMuons. Skipping.\n"
      ]
     },
     "metadata": {},
     "output_type": "display_data"
    },
    {
     "data": {
      "text/html": [
       "<pre style=\"white-space:pre;overflow-x:auto;line-height:normal;font-family:Menlo,'DejaVu Sans Mono',consolas,'Courier New',monospace\">Warning: Unable to apply extrapolatedDr &gt; 0.2 for dsaMuons. Skipping.\n",
       "</pre>\n"
      ],
      "text/plain": [
       "Warning: Unable to apply extrapolatedDr > 0.2 for dsaMuons. Skipping.\n"
      ]
     },
     "metadata": {},
     "output_type": "display_data"
    },
    {
     "data": {
      "text/html": [
       "<pre style=\"white-space:pre;overflow-x:auto;line-height:normal;font-family:Menlo,'DejaVu Sans Mono',consolas,'Courier New',monospace\">Warning: Unable to apply isSubsetAnyPFMuon False for dsaMuons. Skipping.\n",
       "</pre>\n"
      ],
      "text/plain": [
       "Warning: Unable to apply isSubsetAnyPFMuon False for dsaMuons. Skipping.\n"
      ]
     },
     "metadata": {},
     "output_type": "display_data"
    },
    {
     "data": {
      "text/html": [
       "<pre style=\"white-space:pre;overflow-x:auto;line-height:normal;font-family:Menlo,'DejaVu Sans Mono',consolas,'Courier New',monospace\">Warning: Unable to apply DT + CSC hits &gt; 12 for dsaMuons. Skipping.\n",
       "</pre>\n"
      ],
      "text/plain": [
       "Warning: Unable to apply DT + CSC hits > 12 for dsaMuons. Skipping.\n"
      ]
     },
     "metadata": {},
     "output_type": "display_data"
    },
    {
     "data": {
      "text/html": [
       "<pre style=\"white-space:pre;overflow-x:auto;line-height:normal;font-family:Menlo,'DejaVu Sans Mono',consolas,'Courier New',monospace\">Warning: Unable to apply DT + CSC stations &gt;= 2 for dsaMuons. Skipping.\n",
       "</pre>\n"
      ],
      "text/plain": [
       "Warning: Unable to apply DT + CSC stations >= 2 for dsaMuons. Skipping.\n"
      ]
     },
     "metadata": {},
     "output_type": "display_data"
    },
    {
     "data": {
      "text/html": [
       "<pre style=\"white-space:pre;overflow-x:auto;line-height:normal;font-family:Menlo,'DejaVu Sans Mono',consolas,'Courier New',monospace\">Warning: Unable to apply ptErrorOverPT &lt; 1 for dsaMuons. Skipping.\n",
       "</pre>\n"
      ],
      "text/plain": [
       "Warning: Unable to apply ptErrorOverPT < 1 for dsaMuons. Skipping.\n"
      ]
     },
     "metadata": {},
     "output_type": "display_data"
    },
    {
     "data": {
      "text/html": [
       "<pre style=\"white-space:pre;overflow-x:auto;line-height:normal;font-family:Menlo,'DejaVu Sans Mono',consolas,'Courier New',monospace\">Warning: electrons not found in sample. The following cuts will not be applied: ['pT &gt; 10 GeV', '|eta| &lt; 2.4', \n",
       "'looseID']\n",
       "</pre>\n"
      ],
      "text/plain": [
       "Warning: electrons not found in sample. The following cuts will not be applied: ['pT > 10 GeV', '|eta| < 2.4', \n",
       "'looseID']\n"
      ]
     },
     "metadata": {},
     "output_type": "display_data"
    },
    {
     "data": {
      "text/html": [
       "<pre style=\"white-space:pre;overflow-x:auto;line-height:normal;font-family:Menlo,'DejaVu Sans Mono',consolas,'Courier New',monospace\">Uh oh, haven't evaluated this cut yet! Make sure it was included in the list of cuts you used to initialize this \n",
       "JaggedSelection.   muons :  looseID\n",
       "</pre>\n"
      ],
      "text/plain": [
       "Uh oh, haven't evaluated this cut yet! Make sure it was included in the list of cuts you used to initialize this \n",
       "JaggedSelection.   muons :  looseID\n"
      ]
     },
     "metadata": {},
     "output_type": "display_data"
    },
    {
     "data": {
      "text/html": [
       "<pre style=\"white-space:pre;overflow-x:auto;line-height:normal;font-family:Menlo,'DejaVu Sans Mono',consolas,'Courier New',monospace\">Warning: photons not found in sample. The following cuts will not be applied: ['pT &gt; 20 GeV', '|eta| &lt; 2.5', \n",
       "'looseID']\n",
       "</pre>\n"
      ],
      "text/plain": [
       "Warning: photons not found in sample. The following cuts will not be applied: ['pT > 20 GeV', '|eta| < 2.5', \n",
       "'looseID']\n"
      ]
     },
     "metadata": {},
     "output_type": "display_data"
    },
    {
     "data": {
      "text/html": [
       "<pre style=\"white-space:pre;overflow-x:auto;line-height:normal;font-family:Menlo,'DejaVu Sans Mono',consolas,'Courier New',monospace\">Uh oh, haven't evaluated this cut yet! Make sure it was included in the list of cuts you used to initialize this \n",
       "JaggedSelection.   dsaMuons :  ifcsczero\n",
       "</pre>\n"
      ],
      "text/plain": [
       "Uh oh, haven't evaluated this cut yet! Make sure it was included in the list of cuts you used to initialize this \n",
       "JaggedSelection.   dsaMuons :  ifcsczero\n"
      ]
     },
     "metadata": {},
     "output_type": "display_data"
    },
    {
     "data": {
      "text/html": [
       "<pre style=\"white-space:pre;overflow-x:auto;line-height:normal;font-family:Menlo,'DejaVu Sans Mono',consolas,'Courier New',monospace\">Uh oh, haven't evaluated this cut yet! Make sure it was included in the list of cuts you used to initialize this \n",
       "JaggedSelection.   dsaMuons :  segOverlap &lt; 0.66\n",
       "</pre>\n"
      ],
      "text/plain": [
       "Uh oh, haven't evaluated this cut yet! Make sure it was included in the list of cuts you used to initialize this \n",
       "JaggedSelection.   dsaMuons :  segOverlap < 0.66\n"
      ]
     },
     "metadata": {},
     "output_type": "display_data"
    },
    {
     "data": {
      "text/html": [
       "<pre style=\"white-space:pre;overflow-x:auto;line-height:normal;font-family:Menlo,'DejaVu Sans Mono',consolas,'Courier New',monospace\">Uh oh, haven't evaluated this cut yet! Make sure it was included in the list of cuts you used to initialize this \n",
       "JaggedSelection.   dsaMuons :  extrapolatedDr &gt; 0.2\n",
       "</pre>\n"
      ],
      "text/plain": [
       "Uh oh, haven't evaluated this cut yet! Make sure it was included in the list of cuts you used to initialize this \n",
       "JaggedSelection.   dsaMuons :  extrapolatedDr > 0.2\n"
      ]
     },
     "metadata": {},
     "output_type": "display_data"
    },
    {
     "data": {
      "text/html": [
       "<pre style=\"white-space:pre;overflow-x:auto;line-height:normal;font-family:Menlo,'DejaVu Sans Mono',consolas,'Courier New',monospace\">Uh oh, haven't evaluated this cut yet! Make sure it was included in the list of cuts you used to initialize this \n",
       "JaggedSelection.   dsaMuons :  isSubsetAnyPFMuon False\n",
       "</pre>\n"
      ],
      "text/plain": [
       "Uh oh, haven't evaluated this cut yet! Make sure it was included in the list of cuts you used to initialize this \n",
       "JaggedSelection.   dsaMuons :  isSubsetAnyPFMuon False\n"
      ]
     },
     "metadata": {},
     "output_type": "display_data"
    },
    {
     "data": {
      "text/html": [
       "<pre style=\"white-space:pre;overflow-x:auto;line-height:normal;font-family:Menlo,'DejaVu Sans Mono',consolas,'Courier New',monospace\">Uh oh, haven't evaluated this cut yet! Make sure it was included in the list of cuts you used to initialize this \n",
       "JaggedSelection.   dsaMuons :  DT + CSC hits &gt; 12\n",
       "</pre>\n"
      ],
      "text/plain": [
       "Uh oh, haven't evaluated this cut yet! Make sure it was included in the list of cuts you used to initialize this \n",
       "JaggedSelection.   dsaMuons :  DT + CSC hits > 12\n"
      ]
     },
     "metadata": {},
     "output_type": "display_data"
    },
    {
     "data": {
      "text/html": [
       "<pre style=\"white-space:pre;overflow-x:auto;line-height:normal;font-family:Menlo,'DejaVu Sans Mono',consolas,'Courier New',monospace\">Uh oh, haven't evaluated this cut yet! Make sure it was included in the list of cuts you used to initialize this \n",
       "JaggedSelection.   dsaMuons :  DT + CSC stations &gt;= 2\n",
       "</pre>\n"
      ],
      "text/plain": [
       "Uh oh, haven't evaluated this cut yet! Make sure it was included in the list of cuts you used to initialize this \n",
       "JaggedSelection.   dsaMuons :  DT + CSC stations >= 2\n"
      ]
     },
     "metadata": {},
     "output_type": "display_data"
    },
    {
     "data": {
      "text/html": [
       "<pre style=\"white-space:pre;overflow-x:auto;line-height:normal;font-family:Menlo,'DejaVu Sans Mono',consolas,'Courier New',monospace\">Uh oh, haven't evaluated this cut yet! Make sure it was included in the list of cuts you used to initialize this \n",
       "JaggedSelection.   dsaMuons :  ptErrorOverPT &lt; 1\n",
       "</pre>\n"
      ],
      "text/plain": [
       "Uh oh, haven't evaluated this cut yet! Make sure it was included in the list of cuts you used to initialize this \n",
       "JaggedSelection.   dsaMuons :  ptErrorOverPT < 1\n"
      ]
     },
     "metadata": {},
     "output_type": "display_data"
    },
    {
     "data": {
      "text/html": [
       "<pre style=\"white-space:pre;overflow-x:auto;line-height:normal;font-family:Menlo,'DejaVu Sans Mono',consolas,'Courier New',monospace\">Warning: cannot fill counter Gen As to muons. Skipping.\n",
       "</pre>\n"
      ],
      "text/plain": [
       "Warning: cannot fill counter Gen As to muons. Skipping.\n"
      ]
     },
     "metadata": {},
     "output_type": "display_data"
    },
    {
     "data": {
      "text/html": [
       "<pre style=\"white-space:pre;overflow-x:auto;line-height:normal;font-family:Menlo,'DejaVu Sans Mono',consolas,'Courier New',monospace\">Warning: cannot fill counter Gen As to electrons. Skipping.\n",
       "</pre>\n"
      ],
      "text/plain": [
       "Warning: cannot fill counter Gen As to electrons. Skipping.\n"
      ]
     },
     "metadata": {},
     "output_type": "display_data"
    },
    {
     "data": {
      "text/html": [
       "<pre style=\"white-space:pre;overflow-x:auto;line-height:normal;font-family:Menlo,'DejaVu Sans Mono',consolas,'Courier New',monospace\">Warning: cannot fill counter Matched gen As to muons. Skipping.\n",
       "</pre>\n"
      ],
      "text/plain": [
       "Warning: cannot fill counter Matched gen As to muons. Skipping.\n"
      ]
     },
     "metadata": {},
     "output_type": "display_data"
    },
    {
     "data": {
      "text/html": [
       "<pre style=\"white-space:pre;overflow-x:auto;line-height:normal;font-family:Menlo,'DejaVu Sans Mono',consolas,'Courier New',monospace\">Warning: cannot fill counter Matched gen As to electrons. Skipping.\n",
       "</pre>\n"
      ],
      "text/plain": [
       "Warning: cannot fill counter Matched gen As to electrons. Skipping.\n"
      ]
     },
     "metadata": {},
     "output_type": "display_data"
    },
    {
     "data": {
      "text/html": [
       "<pre style=\"white-space:pre;overflow-x:auto;line-height:normal;font-family:Menlo,'DejaVu Sans Mono',consolas,'Courier New',monospace\">Warning: electrons not found in sample. The following cuts will not be applied: ['pT &gt; 10 GeV', '|eta| &lt; 2.4', \n",
       "'looseID']\n",
       "</pre>\n"
      ],
      "text/plain": [
       "Warning: electrons not found in sample. The following cuts will not be applied: ['pT > 10 GeV', '|eta| < 2.4', \n",
       "'looseID']\n"
      ]
     },
     "metadata": {},
     "output_type": "display_data"
    },
    {
     "data": {
      "text/html": [
       "<pre style=\"white-space:pre;overflow-x:auto;line-height:normal;font-family:Menlo,'DejaVu Sans Mono',consolas,'Courier New',monospace\">Uh oh, haven't evaluated this cut yet! Make sure it was included in the list of cuts you used to initialize this \n",
       "JaggedSelection.   muons :  looseID\n",
       "</pre>\n"
      ],
      "text/plain": [
       "Uh oh, haven't evaluated this cut yet! Make sure it was included in the list of cuts you used to initialize this \n",
       "JaggedSelection.   muons :  looseID\n"
      ]
     },
     "metadata": {},
     "output_type": "display_data"
    },
    {
     "data": {
      "text/html": [
       "<pre style=\"white-space:pre;overflow-x:auto;line-height:normal;font-family:Menlo,'DejaVu Sans Mono',consolas,'Courier New',monospace\">Warning: photons not found in sample. The following cuts will not be applied: ['pT &gt; 20 GeV', '|eta| &lt; 2.5', \n",
       "'looseID']\n",
       "</pre>\n"
      ],
      "text/plain": [
       "Warning: photons not found in sample. The following cuts will not be applied: ['pT > 20 GeV', '|eta| < 2.5', \n",
       "'looseID']\n"
      ]
     },
     "metadata": {},
     "output_type": "display_data"
    },
    {
     "data": {
      "text/html": [
       "<pre style=\"white-space:pre;overflow-x:auto;line-height:normal;font-family:Menlo,'DejaVu Sans Mono',consolas,'Courier New',monospace\">Uh oh, haven't evaluated this cut yet! Make sure it was included in the list of cuts you used to initialize this \n",
       "JaggedSelection.   dsaMuons :  ifcsczero\n",
       "</pre>\n"
      ],
      "text/plain": [
       "Uh oh, haven't evaluated this cut yet! Make sure it was included in the list of cuts you used to initialize this \n",
       "JaggedSelection.   dsaMuons :  ifcsczero\n"
      ]
     },
     "metadata": {},
     "output_type": "display_data"
    },
    {
     "data": {
      "text/html": [
       "<pre style=\"white-space:pre;overflow-x:auto;line-height:normal;font-family:Menlo,'DejaVu Sans Mono',consolas,'Courier New',monospace\">Uh oh, haven't evaluated this cut yet! Make sure it was included in the list of cuts you used to initialize this \n",
       "JaggedSelection.   dsaMuons :  segOverlap &lt; 0.66\n",
       "</pre>\n"
      ],
      "text/plain": [
       "Uh oh, haven't evaluated this cut yet! Make sure it was included in the list of cuts you used to initialize this \n",
       "JaggedSelection.   dsaMuons :  segOverlap < 0.66\n"
      ]
     },
     "metadata": {},
     "output_type": "display_data"
    },
    {
     "data": {
      "text/html": [
       "<pre style=\"white-space:pre;overflow-x:auto;line-height:normal;font-family:Menlo,'DejaVu Sans Mono',consolas,'Courier New',monospace\">Uh oh, haven't evaluated this cut yet! Make sure it was included in the list of cuts you used to initialize this \n",
       "JaggedSelection.   dsaMuons :  extrapolatedDr &gt; 0.2\n",
       "</pre>\n"
      ],
      "text/plain": [
       "Uh oh, haven't evaluated this cut yet! Make sure it was included in the list of cuts you used to initialize this \n",
       "JaggedSelection.   dsaMuons :  extrapolatedDr > 0.2\n"
      ]
     },
     "metadata": {},
     "output_type": "display_data"
    },
    {
     "data": {
      "text/html": [
       "<pre style=\"white-space:pre;overflow-x:auto;line-height:normal;font-family:Menlo,'DejaVu Sans Mono',consolas,'Courier New',monospace\">Uh oh, haven't evaluated this cut yet! Make sure it was included in the list of cuts you used to initialize this \n",
       "JaggedSelection.   dsaMuons :  isSubsetAnyPFMuon False\n",
       "</pre>\n"
      ],
      "text/plain": [
       "Uh oh, haven't evaluated this cut yet! Make sure it was included in the list of cuts you used to initialize this \n",
       "JaggedSelection.   dsaMuons :  isSubsetAnyPFMuon False\n"
      ]
     },
     "metadata": {},
     "output_type": "display_data"
    },
    {
     "data": {
      "text/html": [
       "<pre style=\"white-space:pre;overflow-x:auto;line-height:normal;font-family:Menlo,'DejaVu Sans Mono',consolas,'Courier New',monospace\">Uh oh, haven't evaluated this cut yet! Make sure it was included in the list of cuts you used to initialize this \n",
       "JaggedSelection.   dsaMuons :  DT + CSC hits &gt; 12\n",
       "</pre>\n"
      ],
      "text/plain": [
       "Uh oh, haven't evaluated this cut yet! Make sure it was included in the list of cuts you used to initialize this \n",
       "JaggedSelection.   dsaMuons :  DT + CSC hits > 12\n"
      ]
     },
     "metadata": {},
     "output_type": "display_data"
    },
    {
     "data": {
      "text/html": [
       "<pre style=\"white-space:pre;overflow-x:auto;line-height:normal;font-family:Menlo,'DejaVu Sans Mono',consolas,'Courier New',monospace\">Uh oh, haven't evaluated this cut yet! Make sure it was included in the list of cuts you used to initialize this \n",
       "JaggedSelection.   dsaMuons :  DT + CSC stations &gt;= 2\n",
       "</pre>\n"
      ],
      "text/plain": [
       "Uh oh, haven't evaluated this cut yet! Make sure it was included in the list of cuts you used to initialize this \n",
       "JaggedSelection.   dsaMuons :  DT + CSC stations >= 2\n"
      ]
     },
     "metadata": {},
     "output_type": "display_data"
    },
    {
     "data": {
      "text/html": [
       "<pre style=\"white-space:pre;overflow-x:auto;line-height:normal;font-family:Menlo,'DejaVu Sans Mono',consolas,'Courier New',monospace\">Uh oh, haven't evaluated this cut yet! Make sure it was included in the list of cuts you used to initialize this \n",
       "JaggedSelection.   dsaMuons :  ptErrorOverPT &lt; 1\n",
       "</pre>\n"
      ],
      "text/plain": [
       "Uh oh, haven't evaluated this cut yet! Make sure it was included in the list of cuts you used to initialize this \n",
       "JaggedSelection.   dsaMuons :  ptErrorOverPT < 1\n"
      ]
     },
     "metadata": {},
     "output_type": "display_data"
    },
    {
     "data": {
      "text/html": [
       "<pre style=\"white-space:pre;overflow-x:auto;line-height:normal;font-family:Menlo,'DejaVu Sans Mono',consolas,'Courier New',monospace\">Warning: cannot fill counter Gen As to muons. Skipping.\n",
       "</pre>\n"
      ],
      "text/plain": [
       "Warning: cannot fill counter Gen As to muons. Skipping.\n"
      ]
     },
     "metadata": {},
     "output_type": "display_data"
    },
    {
     "data": {
      "text/html": [
       "<pre style=\"white-space:pre;overflow-x:auto;line-height:normal;font-family:Menlo,'DejaVu Sans Mono',consolas,'Courier New',monospace\">Warning: cannot fill counter Gen As to electrons. Skipping.\n",
       "</pre>\n"
      ],
      "text/plain": [
       "Warning: cannot fill counter Gen As to electrons. Skipping.\n"
      ]
     },
     "metadata": {},
     "output_type": "display_data"
    },
    {
     "data": {
      "text/html": [
       "<pre style=\"white-space:pre;overflow-x:auto;line-height:normal;font-family:Menlo,'DejaVu Sans Mono',consolas,'Courier New',monospace\">Warning: cannot fill counter Matched gen As to muons. Skipping.\n",
       "</pre>\n"
      ],
      "text/plain": [
       "Warning: cannot fill counter Matched gen As to muons. Skipping.\n"
      ]
     },
     "metadata": {},
     "output_type": "display_data"
    },
    {
     "data": {
      "text/html": [
       "<pre style=\"white-space:pre;overflow-x:auto;line-height:normal;font-family:Menlo,'DejaVu Sans Mono',consolas,'Courier New',monospace\">Warning: cannot fill counter Matched gen As to electrons. Skipping.\n",
       "</pre>\n"
      ],
      "text/plain": [
       "Warning: cannot fill counter Matched gen As to electrons. Skipping.\n"
      ]
     },
     "metadata": {},
     "output_type": "display_data"
    },
    {
     "data": {
      "text/html": [
       "<pre style=\"white-space:pre;overflow-x:auto;line-height:normal;font-family:Menlo,'DejaVu Sans Mono',consolas,'Courier New',monospace\">Warning: electrons not found in sample. The following cuts will not be applied: ['pT &gt; 10 GeV', '|eta| &lt; 2.4', \n",
       "'looseID']\n",
       "</pre>\n"
      ],
      "text/plain": [
       "Warning: electrons not found in sample. The following cuts will not be applied: ['pT > 10 GeV', '|eta| < 2.4', \n",
       "'looseID']\n"
      ]
     },
     "metadata": {},
     "output_type": "display_data"
    },
    {
     "data": {
      "text/html": [
       "<pre style=\"white-space:pre;overflow-x:auto;line-height:normal;font-family:Menlo,'DejaVu Sans Mono',consolas,'Courier New',monospace\">Uh oh, haven't evaluated this cut yet! Make sure it was included in the list of cuts you used to initialize this \n",
       "JaggedSelection.   muons :  looseID\n",
       "</pre>\n"
      ],
      "text/plain": [
       "Uh oh, haven't evaluated this cut yet! Make sure it was included in the list of cuts you used to initialize this \n",
       "JaggedSelection.   muons :  looseID\n"
      ]
     },
     "metadata": {},
     "output_type": "display_data"
    },
    {
     "data": {
      "text/html": [
       "<pre style=\"white-space:pre;overflow-x:auto;line-height:normal;font-family:Menlo,'DejaVu Sans Mono',consolas,'Courier New',monospace\">Warning: photons not found in sample. The following cuts will not be applied: ['pT &gt; 20 GeV', '|eta| &lt; 2.5', \n",
       "'looseID']\n",
       "</pre>\n"
      ],
      "text/plain": [
       "Warning: photons not found in sample. The following cuts will not be applied: ['pT > 20 GeV', '|eta| < 2.5', \n",
       "'looseID']\n"
      ]
     },
     "metadata": {},
     "output_type": "display_data"
    },
    {
     "data": {
      "text/html": [
       "<pre style=\"white-space:pre;overflow-x:auto;line-height:normal;font-family:Menlo,'DejaVu Sans Mono',consolas,'Courier New',monospace\">Uh oh, haven't evaluated this cut yet! Make sure it was included in the list of cuts you used to initialize this \n",
       "JaggedSelection.   dsaMuons :  ifcsczero\n",
       "</pre>\n"
      ],
      "text/plain": [
       "Uh oh, haven't evaluated this cut yet! Make sure it was included in the list of cuts you used to initialize this \n",
       "JaggedSelection.   dsaMuons :  ifcsczero\n"
      ]
     },
     "metadata": {},
     "output_type": "display_data"
    },
    {
     "data": {
      "text/html": [
       "<pre style=\"white-space:pre;overflow-x:auto;line-height:normal;font-family:Menlo,'DejaVu Sans Mono',consolas,'Courier New',monospace\">Uh oh, haven't evaluated this cut yet! Make sure it was included in the list of cuts you used to initialize this \n",
       "JaggedSelection.   dsaMuons :  segOverlap &lt; 0.66\n",
       "</pre>\n"
      ],
      "text/plain": [
       "Uh oh, haven't evaluated this cut yet! Make sure it was included in the list of cuts you used to initialize this \n",
       "JaggedSelection.   dsaMuons :  segOverlap < 0.66\n"
      ]
     },
     "metadata": {},
     "output_type": "display_data"
    },
    {
     "data": {
      "text/html": [
       "<pre style=\"white-space:pre;overflow-x:auto;line-height:normal;font-family:Menlo,'DejaVu Sans Mono',consolas,'Courier New',monospace\">Uh oh, haven't evaluated this cut yet! Make sure it was included in the list of cuts you used to initialize this \n",
       "JaggedSelection.   dsaMuons :  extrapolatedDr &gt; 0.2\n",
       "</pre>\n"
      ],
      "text/plain": [
       "Uh oh, haven't evaluated this cut yet! Make sure it was included in the list of cuts you used to initialize this \n",
       "JaggedSelection.   dsaMuons :  extrapolatedDr > 0.2\n"
      ]
     },
     "metadata": {},
     "output_type": "display_data"
    },
    {
     "data": {
      "text/html": [
       "<pre style=\"white-space:pre;overflow-x:auto;line-height:normal;font-family:Menlo,'DejaVu Sans Mono',consolas,'Courier New',monospace\">Uh oh, haven't evaluated this cut yet! Make sure it was included in the list of cuts you used to initialize this \n",
       "JaggedSelection.   dsaMuons :  isSubsetAnyPFMuon False\n",
       "</pre>\n"
      ],
      "text/plain": [
       "Uh oh, haven't evaluated this cut yet! Make sure it was included in the list of cuts you used to initialize this \n",
       "JaggedSelection.   dsaMuons :  isSubsetAnyPFMuon False\n"
      ]
     },
     "metadata": {},
     "output_type": "display_data"
    },
    {
     "data": {
      "text/html": [
       "<pre style=\"white-space:pre;overflow-x:auto;line-height:normal;font-family:Menlo,'DejaVu Sans Mono',consolas,'Courier New',monospace\">Uh oh, haven't evaluated this cut yet! Make sure it was included in the list of cuts you used to initialize this \n",
       "JaggedSelection.   dsaMuons :  DT + CSC hits &gt; 12\n",
       "</pre>\n"
      ],
      "text/plain": [
       "Uh oh, haven't evaluated this cut yet! Make sure it was included in the list of cuts you used to initialize this \n",
       "JaggedSelection.   dsaMuons :  DT + CSC hits > 12\n"
      ]
     },
     "metadata": {},
     "output_type": "display_data"
    },
    {
     "data": {
      "text/html": [
       "<pre style=\"white-space:pre;overflow-x:auto;line-height:normal;font-family:Menlo,'DejaVu Sans Mono',consolas,'Courier New',monospace\">Uh oh, haven't evaluated this cut yet! Make sure it was included in the list of cuts you used to initialize this \n",
       "JaggedSelection.   dsaMuons :  DT + CSC stations &gt;= 2\n",
       "</pre>\n"
      ],
      "text/plain": [
       "Uh oh, haven't evaluated this cut yet! Make sure it was included in the list of cuts you used to initialize this \n",
       "JaggedSelection.   dsaMuons :  DT + CSC stations >= 2\n"
      ]
     },
     "metadata": {},
     "output_type": "display_data"
    },
    {
     "data": {
      "text/html": [
       "<pre style=\"white-space:pre;overflow-x:auto;line-height:normal;font-family:Menlo,'DejaVu Sans Mono',consolas,'Courier New',monospace\">Uh oh, haven't evaluated this cut yet! Make sure it was included in the list of cuts you used to initialize this \n",
       "JaggedSelection.   dsaMuons :  ptErrorOverPT &lt; 1\n",
       "</pre>\n"
      ],
      "text/plain": [
       "Uh oh, haven't evaluated this cut yet! Make sure it was included in the list of cuts you used to initialize this \n",
       "JaggedSelection.   dsaMuons :  ptErrorOverPT < 1\n"
      ]
     },
     "metadata": {},
     "output_type": "display_data"
    },
    {
     "data": {
      "text/html": [
       "<pre style=\"white-space:pre;overflow-x:auto;line-height:normal;font-family:Menlo,'DejaVu Sans Mono',consolas,'Courier New',monospace\">Warning: cannot fill counter Gen As to muons. Skipping.\n",
       "</pre>\n"
      ],
      "text/plain": [
       "Warning: cannot fill counter Gen As to muons. Skipping.\n"
      ]
     },
     "metadata": {},
     "output_type": "display_data"
    },
    {
     "data": {
      "text/html": [
       "<pre style=\"white-space:pre;overflow-x:auto;line-height:normal;font-family:Menlo,'DejaVu Sans Mono',consolas,'Courier New',monospace\">Warning: cannot fill counter Gen As to electrons. Skipping.\n",
       "</pre>\n"
      ],
      "text/plain": [
       "Warning: cannot fill counter Gen As to electrons. Skipping.\n"
      ]
     },
     "metadata": {},
     "output_type": "display_data"
    },
    {
     "data": {
      "text/html": [
       "<pre style=\"white-space:pre;overflow-x:auto;line-height:normal;font-family:Menlo,'DejaVu Sans Mono',consolas,'Courier New',monospace\">Warning: cannot fill counter Matched gen As to muons. Skipping.\n",
       "</pre>\n"
      ],
      "text/plain": [
       "Warning: cannot fill counter Matched gen As to muons. Skipping.\n"
      ]
     },
     "metadata": {},
     "output_type": "display_data"
    },
    {
     "data": {
      "text/html": [
       "<pre style=\"white-space:pre;overflow-x:auto;line-height:normal;font-family:Menlo,'DejaVu Sans Mono',consolas,'Courier New',monospace\">Warning: cannot fill counter Matched gen As to electrons. Skipping.\n",
       "</pre>\n"
      ],
      "text/plain": [
       "Warning: cannot fill counter Matched gen As to electrons. Skipping.\n"
      ]
     },
     "metadata": {},
     "output_type": "display_data"
    },
    {
     "data": {
      "text/html": [
       "<pre style=\"white-space:pre;overflow-x:auto;line-height:normal;font-family:Menlo,'DejaVu Sans Mono',consolas,'Courier New',monospace\">Warning: electrons not found in this sample. Skipping.\n",
       "</pre>\n"
      ],
      "text/plain": [
       "Warning: electrons not found in this sample. Skipping.\n"
      ]
     },
     "metadata": {},
     "output_type": "display_data"
    },
    {
     "data": {
      "text/html": [
       "<pre style=\"white-space:pre;overflow-x:auto;line-height:normal;font-family:Menlo,'DejaVu Sans Mono',consolas,'Courier New',monospace\">Warning: photons not found in this sample. Skipping.\n",
       "</pre>\n"
      ],
      "text/plain": [
       "Warning: photons not found in this sample. Skipping.\n"
      ]
     },
     "metadata": {},
     "output_type": "display_data"
    },
    {
     "data": {
      "text/html": [
       "<pre style=\"white-space:pre;overflow-x:auto;line-height:normal;font-family:Menlo,'DejaVu Sans Mono',consolas,'Courier New',monospace\">Warning: genAs_toMu not found in this sample. Skipping.\n",
       "</pre>\n"
      ],
      "text/plain": [
       "Warning: genAs_toMu not found in this sample. Skipping.\n"
      ]
     },
     "metadata": {},
     "output_type": "display_data"
    },
    {
     "data": {
      "text/html": [
       "<pre style=\"white-space:pre;overflow-x:auto;line-height:normal;font-family:Menlo,'DejaVu Sans Mono',consolas,'Courier New',monospace\">Warning: genAs_toE not found in this sample. Skipping.\n",
       "</pre>\n"
      ],
      "text/plain": [
       "Warning: genAs_toE not found in this sample. Skipping.\n"
      ]
     },
     "metadata": {},
     "output_type": "display_data"
    },
    {
     "data": {
      "text/html": [
       "<pre style=\"white-space:pre;overflow-x:auto;line-height:normal;font-family:Menlo,'DejaVu Sans Mono',consolas,'Courier New',monospace\">Not applying any cuts to the lepton jets for channel  baseNoLj\n",
       "</pre>\n"
      ],
      "text/plain": [
       "Not applying any cuts to the lepton jets for channel  baseNoLj\n"
      ]
     },
     "metadata": {},
     "output_type": "display_data"
    },
    {
     "data": {
      "text/html": [
       "<pre style=\"white-space:pre;overflow-x:auto;line-height:normal;font-family:Menlo,'DejaVu Sans Mono',consolas,'Courier New',monospace\">Warning: electrons not found in sample. The following cuts will not be applied: ['pT &gt; 10 GeV', '|eta| &lt; 2.4', \n",
       "'looseID']\n",
       "</pre>\n"
      ],
      "text/plain": [
       "Warning: electrons not found in sample. The following cuts will not be applied: ['pT > 10 GeV', '|eta| < 2.4', \n",
       "'looseID']\n"
      ]
     },
     "metadata": {},
     "output_type": "display_data"
    },
    {
     "data": {
      "text/html": [
       "<pre style=\"white-space:pre;overflow-x:auto;line-height:normal;font-family:Menlo,'DejaVu Sans Mono',consolas,'Courier New',monospace\">Warning: Unable to apply looseID for muons. Skipping.\n",
       "</pre>\n"
      ],
      "text/plain": [
       "Warning: Unable to apply looseID for muons. Skipping.\n"
      ]
     },
     "metadata": {},
     "output_type": "display_data"
    },
    {
     "data": {
      "text/html": [
       "<pre style=\"white-space:pre;overflow-x:auto;line-height:normal;font-family:Menlo,'DejaVu Sans Mono',consolas,'Courier New',monospace\">Warning: photons not found in sample. The following cuts will not be applied: ['pT &gt; 20 GeV', '|eta| &lt; 2.5', \n",
       "'looseID']\n",
       "</pre>\n"
      ],
      "text/plain": [
       "Warning: photons not found in sample. The following cuts will not be applied: ['pT > 20 GeV', '|eta| < 2.5', \n",
       "'looseID']\n"
      ]
     },
     "metadata": {},
     "output_type": "display_data"
    },
    {
     "data": {
      "text/html": [
       "<pre style=\"white-space:pre;overflow-x:auto;line-height:normal;font-family:Menlo,'DejaVu Sans Mono',consolas,'Courier New',monospace\">Warning: Unable to apply ifcsczero for dsaMuons. Skipping.\n",
       "</pre>\n"
      ],
      "text/plain": [
       "Warning: Unable to apply ifcsczero for dsaMuons. Skipping.\n"
      ]
     },
     "metadata": {},
     "output_type": "display_data"
    },
    {
     "data": {
      "text/html": [
       "<pre style=\"white-space:pre;overflow-x:auto;line-height:normal;font-family:Menlo,'DejaVu Sans Mono',consolas,'Courier New',monospace\">Warning: Unable to apply segOverlap &lt; 0.66 for dsaMuons. Skipping.\n",
       "</pre>\n"
      ],
      "text/plain": [
       "Warning: Unable to apply segOverlap < 0.66 for dsaMuons. Skipping.\n"
      ]
     },
     "metadata": {},
     "output_type": "display_data"
    },
    {
     "data": {
      "text/html": [
       "<pre style=\"white-space:pre;overflow-x:auto;line-height:normal;font-family:Menlo,'DejaVu Sans Mono',consolas,'Courier New',monospace\">Warning: Unable to apply extrapolatedDr &gt; 0.2 for dsaMuons. Skipping.\n",
       "</pre>\n"
      ],
      "text/plain": [
       "Warning: Unable to apply extrapolatedDr > 0.2 for dsaMuons. Skipping.\n"
      ]
     },
     "metadata": {},
     "output_type": "display_data"
    },
    {
     "data": {
      "text/html": [
       "<pre style=\"white-space:pre;overflow-x:auto;line-height:normal;font-family:Menlo,'DejaVu Sans Mono',consolas,'Courier New',monospace\">Warning: Unable to apply isSubsetAnyPFMuon False for dsaMuons. Skipping.\n",
       "</pre>\n"
      ],
      "text/plain": [
       "Warning: Unable to apply isSubsetAnyPFMuon False for dsaMuons. Skipping.\n"
      ]
     },
     "metadata": {},
     "output_type": "display_data"
    },
    {
     "data": {
      "text/html": [
       "<pre style=\"white-space:pre;overflow-x:auto;line-height:normal;font-family:Menlo,'DejaVu Sans Mono',consolas,'Courier New',monospace\">Warning: Unable to apply DT + CSC hits &gt; 12 for dsaMuons. Skipping.\n",
       "</pre>\n"
      ],
      "text/plain": [
       "Warning: Unable to apply DT + CSC hits > 12 for dsaMuons. Skipping.\n"
      ]
     },
     "metadata": {},
     "output_type": "display_data"
    },
    {
     "data": {
      "text/html": [
       "<pre style=\"white-space:pre;overflow-x:auto;line-height:normal;font-family:Menlo,'DejaVu Sans Mono',consolas,'Courier New',monospace\">Warning: Unable to apply DT + CSC stations &gt;= 2 for dsaMuons. Skipping.\n",
       "</pre>\n"
      ],
      "text/plain": [
       "Warning: Unable to apply DT + CSC stations >= 2 for dsaMuons. Skipping.\n"
      ]
     },
     "metadata": {},
     "output_type": "display_data"
    },
    {
     "data": {
      "text/html": [
       "<pre style=\"white-space:pre;overflow-x:auto;line-height:normal;font-family:Menlo,'DejaVu Sans Mono',consolas,'Courier New',monospace\">Warning: Unable to apply ptErrorOverPT &lt; 1 for dsaMuons. Skipping.\n",
       "</pre>\n"
      ],
      "text/plain": [
       "Warning: Unable to apply ptErrorOverPT < 1 for dsaMuons. Skipping.\n"
      ]
     },
     "metadata": {},
     "output_type": "display_data"
    },
    {
     "data": {
      "text/html": [
       "<pre style=\"white-space:pre;overflow-x:auto;line-height:normal;font-family:Menlo,'DejaVu Sans Mono',consolas,'Courier New',monospace\">Warning: electrons not found in sample. The following cuts will not be applied: ['pT &gt; 10 GeV', '|eta| &lt; 2.4', \n",
       "'looseID']\n",
       "</pre>\n"
      ],
      "text/plain": [
       "Warning: electrons not found in sample. The following cuts will not be applied: ['pT > 10 GeV', '|eta| < 2.4', \n",
       "'looseID']\n"
      ]
     },
     "metadata": {},
     "output_type": "display_data"
    },
    {
     "data": {
      "text/html": [
       "<pre style=\"white-space:pre;overflow-x:auto;line-height:normal;font-family:Menlo,'DejaVu Sans Mono',consolas,'Courier New',monospace\">Uh oh, haven't evaluated this cut yet! Make sure it was included in the list of cuts you used to initialize this \n",
       "JaggedSelection.   muons :  looseID\n",
       "</pre>\n"
      ],
      "text/plain": [
       "Uh oh, haven't evaluated this cut yet! Make sure it was included in the list of cuts you used to initialize this \n",
       "JaggedSelection.   muons :  looseID\n"
      ]
     },
     "metadata": {},
     "output_type": "display_data"
    },
    {
     "data": {
      "text/html": [
       "<pre style=\"white-space:pre;overflow-x:auto;line-height:normal;font-family:Menlo,'DejaVu Sans Mono',consolas,'Courier New',monospace\">Warning: photons not found in sample. The following cuts will not be applied: ['pT &gt; 20 GeV', '|eta| &lt; 2.5', \n",
       "'looseID']\n",
       "</pre>\n"
      ],
      "text/plain": [
       "Warning: photons not found in sample. The following cuts will not be applied: ['pT > 20 GeV', '|eta| < 2.5', \n",
       "'looseID']\n"
      ]
     },
     "metadata": {},
     "output_type": "display_data"
    },
    {
     "data": {
      "text/html": [
       "<pre style=\"white-space:pre;overflow-x:auto;line-height:normal;font-family:Menlo,'DejaVu Sans Mono',consolas,'Courier New',monospace\">Uh oh, haven't evaluated this cut yet! Make sure it was included in the list of cuts you used to initialize this \n",
       "JaggedSelection.   dsaMuons :  ifcsczero\n",
       "</pre>\n"
      ],
      "text/plain": [
       "Uh oh, haven't evaluated this cut yet! Make sure it was included in the list of cuts you used to initialize this \n",
       "JaggedSelection.   dsaMuons :  ifcsczero\n"
      ]
     },
     "metadata": {},
     "output_type": "display_data"
    },
    {
     "data": {
      "text/html": [
       "<pre style=\"white-space:pre;overflow-x:auto;line-height:normal;font-family:Menlo,'DejaVu Sans Mono',consolas,'Courier New',monospace\">Uh oh, haven't evaluated this cut yet! Make sure it was included in the list of cuts you used to initialize this \n",
       "JaggedSelection.   dsaMuons :  segOverlap &lt; 0.66\n",
       "</pre>\n"
      ],
      "text/plain": [
       "Uh oh, haven't evaluated this cut yet! Make sure it was included in the list of cuts you used to initialize this \n",
       "JaggedSelection.   dsaMuons :  segOverlap < 0.66\n"
      ]
     },
     "metadata": {},
     "output_type": "display_data"
    },
    {
     "data": {
      "text/html": [
       "<pre style=\"white-space:pre;overflow-x:auto;line-height:normal;font-family:Menlo,'DejaVu Sans Mono',consolas,'Courier New',monospace\">Uh oh, haven't evaluated this cut yet! Make sure it was included in the list of cuts you used to initialize this \n",
       "JaggedSelection.   dsaMuons :  extrapolatedDr &gt; 0.2\n",
       "</pre>\n"
      ],
      "text/plain": [
       "Uh oh, haven't evaluated this cut yet! Make sure it was included in the list of cuts you used to initialize this \n",
       "JaggedSelection.   dsaMuons :  extrapolatedDr > 0.2\n"
      ]
     },
     "metadata": {},
     "output_type": "display_data"
    },
    {
     "data": {
      "text/html": [
       "<pre style=\"white-space:pre;overflow-x:auto;line-height:normal;font-family:Menlo,'DejaVu Sans Mono',consolas,'Courier New',monospace\">Uh oh, haven't evaluated this cut yet! Make sure it was included in the list of cuts you used to initialize this \n",
       "JaggedSelection.   dsaMuons :  isSubsetAnyPFMuon False\n",
       "</pre>\n"
      ],
      "text/plain": [
       "Uh oh, haven't evaluated this cut yet! Make sure it was included in the list of cuts you used to initialize this \n",
       "JaggedSelection.   dsaMuons :  isSubsetAnyPFMuon False\n"
      ]
     },
     "metadata": {},
     "output_type": "display_data"
    },
    {
     "data": {
      "text/html": [
       "<pre style=\"white-space:pre;overflow-x:auto;line-height:normal;font-family:Menlo,'DejaVu Sans Mono',consolas,'Courier New',monospace\">Uh oh, haven't evaluated this cut yet! Make sure it was included in the list of cuts you used to initialize this \n",
       "JaggedSelection.   dsaMuons :  DT + CSC hits &gt; 12\n",
       "</pre>\n"
      ],
      "text/plain": [
       "Uh oh, haven't evaluated this cut yet! Make sure it was included in the list of cuts you used to initialize this \n",
       "JaggedSelection.   dsaMuons :  DT + CSC hits > 12\n"
      ]
     },
     "metadata": {},
     "output_type": "display_data"
    },
    {
     "data": {
      "text/html": [
       "<pre style=\"white-space:pre;overflow-x:auto;line-height:normal;font-family:Menlo,'DejaVu Sans Mono',consolas,'Courier New',monospace\">Uh oh, haven't evaluated this cut yet! Make sure it was included in the list of cuts you used to initialize this \n",
       "JaggedSelection.   dsaMuons :  DT + CSC stations &gt;= 2\n",
       "</pre>\n"
      ],
      "text/plain": [
       "Uh oh, haven't evaluated this cut yet! Make sure it was included in the list of cuts you used to initialize this \n",
       "JaggedSelection.   dsaMuons :  DT + CSC stations >= 2\n"
      ]
     },
     "metadata": {},
     "output_type": "display_data"
    },
    {
     "data": {
      "text/html": [
       "<pre style=\"white-space:pre;overflow-x:auto;line-height:normal;font-family:Menlo,'DejaVu Sans Mono',consolas,'Courier New',monospace\">Uh oh, haven't evaluated this cut yet! Make sure it was included in the list of cuts you used to initialize this \n",
       "JaggedSelection.   dsaMuons :  ptErrorOverPT &lt; 1\n",
       "</pre>\n"
      ],
      "text/plain": [
       "Uh oh, haven't evaluated this cut yet! Make sure it was included in the list of cuts you used to initialize this \n",
       "JaggedSelection.   dsaMuons :  ptErrorOverPT < 1\n"
      ]
     },
     "metadata": {},
     "output_type": "display_data"
    },
    {
     "data": {
      "text/html": [
       "<pre style=\"white-space:pre;overflow-x:auto;line-height:normal;font-family:Menlo,'DejaVu Sans Mono',consolas,'Courier New',monospace\">Warning: cannot fill counter Gen As to muons. Skipping.\n",
       "</pre>\n"
      ],
      "text/plain": [
       "Warning: cannot fill counter Gen As to muons. Skipping.\n"
      ]
     },
     "metadata": {},
     "output_type": "display_data"
    },
    {
     "data": {
      "text/html": [
       "<pre style=\"white-space:pre;overflow-x:auto;line-height:normal;font-family:Menlo,'DejaVu Sans Mono',consolas,'Courier New',monospace\">Warning: cannot fill counter Gen As to electrons. Skipping.\n",
       "</pre>\n"
      ],
      "text/plain": [
       "Warning: cannot fill counter Gen As to electrons. Skipping.\n"
      ]
     },
     "metadata": {},
     "output_type": "display_data"
    },
    {
     "data": {
      "text/html": [
       "<pre style=\"white-space:pre;overflow-x:auto;line-height:normal;font-family:Menlo,'DejaVu Sans Mono',consolas,'Courier New',monospace\">Warning: cannot fill counter Matched gen As to muons. Skipping.\n",
       "</pre>\n"
      ],
      "text/plain": [
       "Warning: cannot fill counter Matched gen As to muons. Skipping.\n"
      ]
     },
     "metadata": {},
     "output_type": "display_data"
    },
    {
     "data": {
      "text/html": [
       "<pre style=\"white-space:pre;overflow-x:auto;line-height:normal;font-family:Menlo,'DejaVu Sans Mono',consolas,'Courier New',monospace\">Warning: cannot fill counter Matched gen As to electrons. Skipping.\n",
       "</pre>\n"
      ],
      "text/plain": [
       "Warning: cannot fill counter Matched gen As to electrons. Skipping.\n"
      ]
     },
     "metadata": {},
     "output_type": "display_data"
    },
    {
     "data": {
      "text/html": [
       "<pre style=\"white-space:pre;overflow-x:auto;line-height:normal;font-family:Menlo,'DejaVu Sans Mono',consolas,'Courier New',monospace\">Warning: electrons not found in sample. The following cuts will not be applied: ['pT &gt; 10 GeV', '|eta| &lt; 2.4', \n",
       "'looseID']\n",
       "</pre>\n"
      ],
      "text/plain": [
       "Warning: electrons not found in sample. The following cuts will not be applied: ['pT > 10 GeV', '|eta| < 2.4', \n",
       "'looseID']\n"
      ]
     },
     "metadata": {},
     "output_type": "display_data"
    },
    {
     "data": {
      "text/html": [
       "<pre style=\"white-space:pre;overflow-x:auto;line-height:normal;font-family:Menlo,'DejaVu Sans Mono',consolas,'Courier New',monospace\">Uh oh, haven't evaluated this cut yet! Make sure it was included in the list of cuts you used to initialize this \n",
       "JaggedSelection.   muons :  looseID\n",
       "</pre>\n"
      ],
      "text/plain": [
       "Uh oh, haven't evaluated this cut yet! Make sure it was included in the list of cuts you used to initialize this \n",
       "JaggedSelection.   muons :  looseID\n"
      ]
     },
     "metadata": {},
     "output_type": "display_data"
    },
    {
     "data": {
      "text/html": [
       "<pre style=\"white-space:pre;overflow-x:auto;line-height:normal;font-family:Menlo,'DejaVu Sans Mono',consolas,'Courier New',monospace\">Warning: photons not found in sample. The following cuts will not be applied: ['pT &gt; 20 GeV', '|eta| &lt; 2.5', \n",
       "'looseID']\n",
       "</pre>\n"
      ],
      "text/plain": [
       "Warning: photons not found in sample. The following cuts will not be applied: ['pT > 20 GeV', '|eta| < 2.5', \n",
       "'looseID']\n"
      ]
     },
     "metadata": {},
     "output_type": "display_data"
    },
    {
     "data": {
      "text/html": [
       "<pre style=\"white-space:pre;overflow-x:auto;line-height:normal;font-family:Menlo,'DejaVu Sans Mono',consolas,'Courier New',monospace\">Uh oh, haven't evaluated this cut yet! Make sure it was included in the list of cuts you used to initialize this \n",
       "JaggedSelection.   dsaMuons :  ifcsczero\n",
       "</pre>\n"
      ],
      "text/plain": [
       "Uh oh, haven't evaluated this cut yet! Make sure it was included in the list of cuts you used to initialize this \n",
       "JaggedSelection.   dsaMuons :  ifcsczero\n"
      ]
     },
     "metadata": {},
     "output_type": "display_data"
    },
    {
     "data": {
      "text/html": [
       "<pre style=\"white-space:pre;overflow-x:auto;line-height:normal;font-family:Menlo,'DejaVu Sans Mono',consolas,'Courier New',monospace\">Uh oh, haven't evaluated this cut yet! Make sure it was included in the list of cuts you used to initialize this \n",
       "JaggedSelection.   dsaMuons :  segOverlap &lt; 0.66\n",
       "</pre>\n"
      ],
      "text/plain": [
       "Uh oh, haven't evaluated this cut yet! Make sure it was included in the list of cuts you used to initialize this \n",
       "JaggedSelection.   dsaMuons :  segOverlap < 0.66\n"
      ]
     },
     "metadata": {},
     "output_type": "display_data"
    },
    {
     "data": {
      "text/html": [
       "<pre style=\"white-space:pre;overflow-x:auto;line-height:normal;font-family:Menlo,'DejaVu Sans Mono',consolas,'Courier New',monospace\">Uh oh, haven't evaluated this cut yet! Make sure it was included in the list of cuts you used to initialize this \n",
       "JaggedSelection.   dsaMuons :  extrapolatedDr &gt; 0.2\n",
       "</pre>\n"
      ],
      "text/plain": [
       "Uh oh, haven't evaluated this cut yet! Make sure it was included in the list of cuts you used to initialize this \n",
       "JaggedSelection.   dsaMuons :  extrapolatedDr > 0.2\n"
      ]
     },
     "metadata": {},
     "output_type": "display_data"
    },
    {
     "data": {
      "text/html": [
       "<pre style=\"white-space:pre;overflow-x:auto;line-height:normal;font-family:Menlo,'DejaVu Sans Mono',consolas,'Courier New',monospace\">Uh oh, haven't evaluated this cut yet! Make sure it was included in the list of cuts you used to initialize this \n",
       "JaggedSelection.   dsaMuons :  isSubsetAnyPFMuon False\n",
       "</pre>\n"
      ],
      "text/plain": [
       "Uh oh, haven't evaluated this cut yet! Make sure it was included in the list of cuts you used to initialize this \n",
       "JaggedSelection.   dsaMuons :  isSubsetAnyPFMuon False\n"
      ]
     },
     "metadata": {},
     "output_type": "display_data"
    },
    {
     "data": {
      "text/html": [
       "<pre style=\"white-space:pre;overflow-x:auto;line-height:normal;font-family:Menlo,'DejaVu Sans Mono',consolas,'Courier New',monospace\">Uh oh, haven't evaluated this cut yet! Make sure it was included in the list of cuts you used to initialize this \n",
       "JaggedSelection.   dsaMuons :  DT + CSC hits &gt; 12\n",
       "</pre>\n"
      ],
      "text/plain": [
       "Uh oh, haven't evaluated this cut yet! Make sure it was included in the list of cuts you used to initialize this \n",
       "JaggedSelection.   dsaMuons :  DT + CSC hits > 12\n"
      ]
     },
     "metadata": {},
     "output_type": "display_data"
    },
    {
     "data": {
      "text/html": [
       "<pre style=\"white-space:pre;overflow-x:auto;line-height:normal;font-family:Menlo,'DejaVu Sans Mono',consolas,'Courier New',monospace\">Uh oh, haven't evaluated this cut yet! Make sure it was included in the list of cuts you used to initialize this \n",
       "JaggedSelection.   dsaMuons :  DT + CSC stations &gt;= 2\n",
       "</pre>\n"
      ],
      "text/plain": [
       "Uh oh, haven't evaluated this cut yet! Make sure it was included in the list of cuts you used to initialize this \n",
       "JaggedSelection.   dsaMuons :  DT + CSC stations >= 2\n"
      ]
     },
     "metadata": {},
     "output_type": "display_data"
    },
    {
     "data": {
      "text/html": [
       "<pre style=\"white-space:pre;overflow-x:auto;line-height:normal;font-family:Menlo,'DejaVu Sans Mono',consolas,'Courier New',monospace\">Uh oh, haven't evaluated this cut yet! Make sure it was included in the list of cuts you used to initialize this \n",
       "JaggedSelection.   dsaMuons :  ptErrorOverPT &lt; 1\n",
       "</pre>\n"
      ],
      "text/plain": [
       "Uh oh, haven't evaluated this cut yet! Make sure it was included in the list of cuts you used to initialize this \n",
       "JaggedSelection.   dsaMuons :  ptErrorOverPT < 1\n"
      ]
     },
     "metadata": {},
     "output_type": "display_data"
    },
    {
     "data": {
      "text/html": [
       "<pre style=\"white-space:pre;overflow-x:auto;line-height:normal;font-family:Menlo,'DejaVu Sans Mono',consolas,'Courier New',monospace\">Warning: cannot fill counter Gen As to muons. Skipping.\n",
       "</pre>\n"
      ],
      "text/plain": [
       "Warning: cannot fill counter Gen As to muons. Skipping.\n"
      ]
     },
     "metadata": {},
     "output_type": "display_data"
    },
    {
     "data": {
      "text/html": [
       "<pre style=\"white-space:pre;overflow-x:auto;line-height:normal;font-family:Menlo,'DejaVu Sans Mono',consolas,'Courier New',monospace\">Warning: cannot fill counter Gen As to electrons. Skipping.\n",
       "</pre>\n"
      ],
      "text/plain": [
       "Warning: cannot fill counter Gen As to electrons. Skipping.\n"
      ]
     },
     "metadata": {},
     "output_type": "display_data"
    },
    {
     "data": {
      "text/html": [
       "<pre style=\"white-space:pre;overflow-x:auto;line-height:normal;font-family:Menlo,'DejaVu Sans Mono',consolas,'Courier New',monospace\">Warning: cannot fill counter Matched gen As to muons. Skipping.\n",
       "</pre>\n"
      ],
      "text/plain": [
       "Warning: cannot fill counter Matched gen As to muons. Skipping.\n"
      ]
     },
     "metadata": {},
     "output_type": "display_data"
    },
    {
     "data": {
      "text/html": [
       "<pre style=\"white-space:pre;overflow-x:auto;line-height:normal;font-family:Menlo,'DejaVu Sans Mono',consolas,'Courier New',monospace\">Warning: cannot fill counter Matched gen As to electrons. Skipping.\n",
       "</pre>\n"
      ],
      "text/plain": [
       "Warning: cannot fill counter Matched gen As to electrons. Skipping.\n"
      ]
     },
     "metadata": {},
     "output_type": "display_data"
    },
    {
     "data": {
      "text/html": [
       "<pre style=\"white-space:pre;overflow-x:auto;line-height:normal;font-family:Menlo,'DejaVu Sans Mono',consolas,'Courier New',monospace\">Warning: electrons not found in sample. The following cuts will not be applied: ['pT &gt; 10 GeV', '|eta| &lt; 2.4', \n",
       "'looseID']\n",
       "</pre>\n"
      ],
      "text/plain": [
       "Warning: electrons not found in sample. The following cuts will not be applied: ['pT > 10 GeV', '|eta| < 2.4', \n",
       "'looseID']\n"
      ]
     },
     "metadata": {},
     "output_type": "display_data"
    },
    {
     "data": {
      "text/html": [
       "<pre style=\"white-space:pre;overflow-x:auto;line-height:normal;font-family:Menlo,'DejaVu Sans Mono',consolas,'Courier New',monospace\">Uh oh, haven't evaluated this cut yet! Make sure it was included in the list of cuts you used to initialize this \n",
       "JaggedSelection.   muons :  looseID\n",
       "</pre>\n"
      ],
      "text/plain": [
       "Uh oh, haven't evaluated this cut yet! Make sure it was included in the list of cuts you used to initialize this \n",
       "JaggedSelection.   muons :  looseID\n"
      ]
     },
     "metadata": {},
     "output_type": "display_data"
    },
    {
     "data": {
      "text/html": [
       "<pre style=\"white-space:pre;overflow-x:auto;line-height:normal;font-family:Menlo,'DejaVu Sans Mono',consolas,'Courier New',monospace\">Warning: photons not found in sample. The following cuts will not be applied: ['pT &gt; 20 GeV', '|eta| &lt; 2.5', \n",
       "'looseID']\n",
       "</pre>\n"
      ],
      "text/plain": [
       "Warning: photons not found in sample. The following cuts will not be applied: ['pT > 20 GeV', '|eta| < 2.5', \n",
       "'looseID']\n"
      ]
     },
     "metadata": {},
     "output_type": "display_data"
    },
    {
     "data": {
      "text/html": [
       "<pre style=\"white-space:pre;overflow-x:auto;line-height:normal;font-family:Menlo,'DejaVu Sans Mono',consolas,'Courier New',monospace\">Uh oh, haven't evaluated this cut yet! Make sure it was included in the list of cuts you used to initialize this \n",
       "JaggedSelection.   dsaMuons :  ifcsczero\n",
       "</pre>\n"
      ],
      "text/plain": [
       "Uh oh, haven't evaluated this cut yet! Make sure it was included in the list of cuts you used to initialize this \n",
       "JaggedSelection.   dsaMuons :  ifcsczero\n"
      ]
     },
     "metadata": {},
     "output_type": "display_data"
    },
    {
     "data": {
      "text/html": [
       "<pre style=\"white-space:pre;overflow-x:auto;line-height:normal;font-family:Menlo,'DejaVu Sans Mono',consolas,'Courier New',monospace\">Uh oh, haven't evaluated this cut yet! Make sure it was included in the list of cuts you used to initialize this \n",
       "JaggedSelection.   dsaMuons :  segOverlap &lt; 0.66\n",
       "</pre>\n"
      ],
      "text/plain": [
       "Uh oh, haven't evaluated this cut yet! Make sure it was included in the list of cuts you used to initialize this \n",
       "JaggedSelection.   dsaMuons :  segOverlap < 0.66\n"
      ]
     },
     "metadata": {},
     "output_type": "display_data"
    },
    {
     "data": {
      "text/html": [
       "<pre style=\"white-space:pre;overflow-x:auto;line-height:normal;font-family:Menlo,'DejaVu Sans Mono',consolas,'Courier New',monospace\">Uh oh, haven't evaluated this cut yet! Make sure it was included in the list of cuts you used to initialize this \n",
       "JaggedSelection.   dsaMuons :  extrapolatedDr &gt; 0.2\n",
       "</pre>\n"
      ],
      "text/plain": [
       "Uh oh, haven't evaluated this cut yet! Make sure it was included in the list of cuts you used to initialize this \n",
       "JaggedSelection.   dsaMuons :  extrapolatedDr > 0.2\n"
      ]
     },
     "metadata": {},
     "output_type": "display_data"
    },
    {
     "data": {
      "text/html": [
       "<pre style=\"white-space:pre;overflow-x:auto;line-height:normal;font-family:Menlo,'DejaVu Sans Mono',consolas,'Courier New',monospace\">Uh oh, haven't evaluated this cut yet! Make sure it was included in the list of cuts you used to initialize this \n",
       "JaggedSelection.   dsaMuons :  isSubsetAnyPFMuon False\n",
       "</pre>\n"
      ],
      "text/plain": [
       "Uh oh, haven't evaluated this cut yet! Make sure it was included in the list of cuts you used to initialize this \n",
       "JaggedSelection.   dsaMuons :  isSubsetAnyPFMuon False\n"
      ]
     },
     "metadata": {},
     "output_type": "display_data"
    },
    {
     "data": {
      "text/html": [
       "<pre style=\"white-space:pre;overflow-x:auto;line-height:normal;font-family:Menlo,'DejaVu Sans Mono',consolas,'Courier New',monospace\">Uh oh, haven't evaluated this cut yet! Make sure it was included in the list of cuts you used to initialize this \n",
       "JaggedSelection.   dsaMuons :  DT + CSC hits &gt; 12\n",
       "</pre>\n"
      ],
      "text/plain": [
       "Uh oh, haven't evaluated this cut yet! Make sure it was included in the list of cuts you used to initialize this \n",
       "JaggedSelection.   dsaMuons :  DT + CSC hits > 12\n"
      ]
     },
     "metadata": {},
     "output_type": "display_data"
    },
    {
     "data": {
      "text/html": [
       "<pre style=\"white-space:pre;overflow-x:auto;line-height:normal;font-family:Menlo,'DejaVu Sans Mono',consolas,'Courier New',monospace\">Uh oh, haven't evaluated this cut yet! Make sure it was included in the list of cuts you used to initialize this \n",
       "JaggedSelection.   dsaMuons :  DT + CSC stations &gt;= 2\n",
       "</pre>\n"
      ],
      "text/plain": [
       "Uh oh, haven't evaluated this cut yet! Make sure it was included in the list of cuts you used to initialize this \n",
       "JaggedSelection.   dsaMuons :  DT + CSC stations >= 2\n"
      ]
     },
     "metadata": {},
     "output_type": "display_data"
    },
    {
     "data": {
      "text/html": [
       "<pre style=\"white-space:pre;overflow-x:auto;line-height:normal;font-family:Menlo,'DejaVu Sans Mono',consolas,'Courier New',monospace\">Uh oh, haven't evaluated this cut yet! Make sure it was included in the list of cuts you used to initialize this \n",
       "JaggedSelection.   dsaMuons :  ptErrorOverPT &lt; 1\n",
       "</pre>\n"
      ],
      "text/plain": [
       "Uh oh, haven't evaluated this cut yet! Make sure it was included in the list of cuts you used to initialize this \n",
       "JaggedSelection.   dsaMuons :  ptErrorOverPT < 1\n"
      ]
     },
     "metadata": {},
     "output_type": "display_data"
    },
    {
     "data": {
      "text/html": [
       "<pre style=\"white-space:pre;overflow-x:auto;line-height:normal;font-family:Menlo,'DejaVu Sans Mono',consolas,'Courier New',monospace\">Warning: cannot fill counter Gen As to muons. Skipping.\n",
       "</pre>\n"
      ],
      "text/plain": [
       "Warning: cannot fill counter Gen As to muons. Skipping.\n"
      ]
     },
     "metadata": {},
     "output_type": "display_data"
    },
    {
     "data": {
      "text/html": [
       "<pre style=\"white-space:pre;overflow-x:auto;line-height:normal;font-family:Menlo,'DejaVu Sans Mono',consolas,'Courier New',monospace\">Warning: cannot fill counter Gen As to electrons. Skipping.\n",
       "</pre>\n"
      ],
      "text/plain": [
       "Warning: cannot fill counter Gen As to electrons. Skipping.\n"
      ]
     },
     "metadata": {},
     "output_type": "display_data"
    },
    {
     "data": {
      "text/html": [
       "<pre style=\"white-space:pre;overflow-x:auto;line-height:normal;font-family:Menlo,'DejaVu Sans Mono',consolas,'Courier New',monospace\">Warning: cannot fill counter Matched gen As to muons. Skipping.\n",
       "</pre>\n"
      ],
      "text/plain": [
       "Warning: cannot fill counter Matched gen As to muons. Skipping.\n"
      ]
     },
     "metadata": {},
     "output_type": "display_data"
    },
    {
     "data": {
      "text/html": [
       "<pre style=\"white-space:pre;overflow-x:auto;line-height:normal;font-family:Menlo,'DejaVu Sans Mono',consolas,'Courier New',monospace\">Warning: cannot fill counter Matched gen As to electrons. Skipping.\n",
       "</pre>\n"
      ],
      "text/plain": [
       "Warning: cannot fill counter Matched gen As to electrons. Skipping.\n"
      ]
     },
     "metadata": {},
     "output_type": "display_data"
    },
    {
     "data": {
      "text/html": [
       "<pre style=\"white-space:pre;overflow-x:auto;line-height:normal;font-family:Menlo,'DejaVu Sans Mono',consolas,'Courier New',monospace\">Warning: electrons not found in this sample. Skipping.\n",
       "</pre>\n"
      ],
      "text/plain": [
       "Warning: electrons not found in this sample. Skipping.\n"
      ]
     },
     "metadata": {},
     "output_type": "display_data"
    },
    {
     "data": {
      "text/html": [
       "<pre style=\"white-space:pre;overflow-x:auto;line-height:normal;font-family:Menlo,'DejaVu Sans Mono',consolas,'Courier New',monospace\">Warning: photons not found in this sample. Skipping.\n",
       "</pre>\n"
      ],
      "text/plain": [
       "Warning: photons not found in this sample. Skipping.\n"
      ]
     },
     "metadata": {},
     "output_type": "display_data"
    },
    {
     "data": {
      "text/html": [
       "<pre style=\"white-space:pre;overflow-x:auto;line-height:normal;font-family:Menlo,'DejaVu Sans Mono',consolas,'Courier New',monospace\">Warning: genAs_toMu not found in this sample. Skipping.\n",
       "</pre>\n"
      ],
      "text/plain": [
       "Warning: genAs_toMu not found in this sample. Skipping.\n"
      ]
     },
     "metadata": {},
     "output_type": "display_data"
    },
    {
     "data": {
      "text/html": [
       "<pre style=\"white-space:pre;overflow-x:auto;line-height:normal;font-family:Menlo,'DejaVu Sans Mono',consolas,'Courier New',monospace\">Warning: genAs_toE not found in this sample. Skipping.\n",
       "</pre>\n"
      ],
      "text/plain": [
       "Warning: genAs_toE not found in this sample. Skipping.\n"
      ]
     },
     "metadata": {},
     "output_type": "display_data"
    },
    {
     "data": {
      "text/html": [
       "<pre style=\"white-space:pre;overflow-x:auto;line-height:normal;font-family:Menlo,'DejaVu Sans Mono',consolas,'Courier New',monospace\">Not applying any cuts to the lepton jets for channel  baseNoLj\n",
       "</pre>\n"
      ],
      "text/plain": [
       "Not applying any cuts to the lepton jets for channel  baseNoLj\n"
      ]
     },
     "metadata": {},
     "output_type": "display_data"
    },
    {
     "data": {
      "text/html": [
       "<pre style=\"white-space:pre;overflow-x:auto;line-height:normal;font-family:Menlo,'DejaVu Sans Mono',consolas,'Courier New',monospace\">Warning: electrons not found in sample. The following cuts will not be applied: ['pT &gt; 10 GeV', '|eta| &lt; 2.4', \n",
       "'looseID']\n",
       "</pre>\n"
      ],
      "text/plain": [
       "Warning: electrons not found in sample. The following cuts will not be applied: ['pT > 10 GeV', '|eta| < 2.4', \n",
       "'looseID']\n"
      ]
     },
     "metadata": {},
     "output_type": "display_data"
    },
    {
     "data": {
      "text/html": [
       "<pre style=\"white-space:pre;overflow-x:auto;line-height:normal;font-family:Menlo,'DejaVu Sans Mono',consolas,'Courier New',monospace\">Warning: Unable to apply looseID for muons. Skipping.\n",
       "</pre>\n"
      ],
      "text/plain": [
       "Warning: Unable to apply looseID for muons. Skipping.\n"
      ]
     },
     "metadata": {},
     "output_type": "display_data"
    },
    {
     "data": {
      "text/html": [
       "<pre style=\"white-space:pre;overflow-x:auto;line-height:normal;font-family:Menlo,'DejaVu Sans Mono',consolas,'Courier New',monospace\">Warning: photons not found in sample. The following cuts will not be applied: ['pT &gt; 20 GeV', '|eta| &lt; 2.5', \n",
       "'looseID']\n",
       "</pre>\n"
      ],
      "text/plain": [
       "Warning: photons not found in sample. The following cuts will not be applied: ['pT > 20 GeV', '|eta| < 2.5', \n",
       "'looseID']\n"
      ]
     },
     "metadata": {},
     "output_type": "display_data"
    },
    {
     "data": {
      "text/html": [
       "<pre style=\"white-space:pre;overflow-x:auto;line-height:normal;font-family:Menlo,'DejaVu Sans Mono',consolas,'Courier New',monospace\">Warning: Unable to apply ifcsczero for dsaMuons. Skipping.\n",
       "</pre>\n"
      ],
      "text/plain": [
       "Warning: Unable to apply ifcsczero for dsaMuons. Skipping.\n"
      ]
     },
     "metadata": {},
     "output_type": "display_data"
    },
    {
     "data": {
      "text/html": [
       "<pre style=\"white-space:pre;overflow-x:auto;line-height:normal;font-family:Menlo,'DejaVu Sans Mono',consolas,'Courier New',monospace\">Warning: Unable to apply segOverlap &lt; 0.66 for dsaMuons. Skipping.\n",
       "</pre>\n"
      ],
      "text/plain": [
       "Warning: Unable to apply segOverlap < 0.66 for dsaMuons. Skipping.\n"
      ]
     },
     "metadata": {},
     "output_type": "display_data"
    },
    {
     "data": {
      "text/html": [
       "<pre style=\"white-space:pre;overflow-x:auto;line-height:normal;font-family:Menlo,'DejaVu Sans Mono',consolas,'Courier New',monospace\">Warning: Unable to apply extrapolatedDr &gt; 0.2 for dsaMuons. Skipping.\n",
       "</pre>\n"
      ],
      "text/plain": [
       "Warning: Unable to apply extrapolatedDr > 0.2 for dsaMuons. Skipping.\n"
      ]
     },
     "metadata": {},
     "output_type": "display_data"
    },
    {
     "data": {
      "text/html": [
       "<pre style=\"white-space:pre;overflow-x:auto;line-height:normal;font-family:Menlo,'DejaVu Sans Mono',consolas,'Courier New',monospace\">Warning: Unable to apply isSubsetAnyPFMuon False for dsaMuons. Skipping.\n",
       "</pre>\n"
      ],
      "text/plain": [
       "Warning: Unable to apply isSubsetAnyPFMuon False for dsaMuons. Skipping.\n"
      ]
     },
     "metadata": {},
     "output_type": "display_data"
    },
    {
     "data": {
      "text/html": [
       "<pre style=\"white-space:pre;overflow-x:auto;line-height:normal;font-family:Menlo,'DejaVu Sans Mono',consolas,'Courier New',monospace\">Warning: Unable to apply DT + CSC hits &gt; 12 for dsaMuons. Skipping.\n",
       "</pre>\n"
      ],
      "text/plain": [
       "Warning: Unable to apply DT + CSC hits > 12 for dsaMuons. Skipping.\n"
      ]
     },
     "metadata": {},
     "output_type": "display_data"
    },
    {
     "data": {
      "text/html": [
       "<pre style=\"white-space:pre;overflow-x:auto;line-height:normal;font-family:Menlo,'DejaVu Sans Mono',consolas,'Courier New',monospace\">Warning: Unable to apply DT + CSC stations &gt;= 2 for dsaMuons. Skipping.\n",
       "</pre>\n"
      ],
      "text/plain": [
       "Warning: Unable to apply DT + CSC stations >= 2 for dsaMuons. Skipping.\n"
      ]
     },
     "metadata": {},
     "output_type": "display_data"
    },
    {
     "data": {
      "text/html": [
       "<pre style=\"white-space:pre;overflow-x:auto;line-height:normal;font-family:Menlo,'DejaVu Sans Mono',consolas,'Courier New',monospace\">Warning: Unable to apply ptErrorOverPT &lt; 1 for dsaMuons. Skipping.\n",
       "</pre>\n"
      ],
      "text/plain": [
       "Warning: Unable to apply ptErrorOverPT < 1 for dsaMuons. Skipping.\n"
      ]
     },
     "metadata": {},
     "output_type": "display_data"
    },
    {
     "data": {
      "text/html": [
       "<pre style=\"white-space:pre;overflow-x:auto;line-height:normal;font-family:Menlo,'DejaVu Sans Mono',consolas,'Courier New',monospace\">Warning: electrons not found in sample. The following cuts will not be applied: ['pT &gt; 10 GeV', '|eta| &lt; 2.4', \n",
       "'looseID']\n",
       "</pre>\n"
      ],
      "text/plain": [
       "Warning: electrons not found in sample. The following cuts will not be applied: ['pT > 10 GeV', '|eta| < 2.4', \n",
       "'looseID']\n"
      ]
     },
     "metadata": {},
     "output_type": "display_data"
    },
    {
     "data": {
      "text/html": [
       "<pre style=\"white-space:pre;overflow-x:auto;line-height:normal;font-family:Menlo,'DejaVu Sans Mono',consolas,'Courier New',monospace\">Uh oh, haven't evaluated this cut yet! Make sure it was included in the list of cuts you used to initialize this \n",
       "JaggedSelection.   muons :  looseID\n",
       "</pre>\n"
      ],
      "text/plain": [
       "Uh oh, haven't evaluated this cut yet! Make sure it was included in the list of cuts you used to initialize this \n",
       "JaggedSelection.   muons :  looseID\n"
      ]
     },
     "metadata": {},
     "output_type": "display_data"
    },
    {
     "data": {
      "text/html": [
       "<pre style=\"white-space:pre;overflow-x:auto;line-height:normal;font-family:Menlo,'DejaVu Sans Mono',consolas,'Courier New',monospace\">Warning: photons not found in sample. The following cuts will not be applied: ['pT &gt; 20 GeV', '|eta| &lt; 2.5', \n",
       "'looseID']\n",
       "</pre>\n"
      ],
      "text/plain": [
       "Warning: photons not found in sample. The following cuts will not be applied: ['pT > 20 GeV', '|eta| < 2.5', \n",
       "'looseID']\n"
      ]
     },
     "metadata": {},
     "output_type": "display_data"
    },
    {
     "data": {
      "text/html": [
       "<pre style=\"white-space:pre;overflow-x:auto;line-height:normal;font-family:Menlo,'DejaVu Sans Mono',consolas,'Courier New',monospace\">Uh oh, haven't evaluated this cut yet! Make sure it was included in the list of cuts you used to initialize this \n",
       "JaggedSelection.   dsaMuons :  ifcsczero\n",
       "</pre>\n"
      ],
      "text/plain": [
       "Uh oh, haven't evaluated this cut yet! Make sure it was included in the list of cuts you used to initialize this \n",
       "JaggedSelection.   dsaMuons :  ifcsczero\n"
      ]
     },
     "metadata": {},
     "output_type": "display_data"
    },
    {
     "data": {
      "text/html": [
       "<pre style=\"white-space:pre;overflow-x:auto;line-height:normal;font-family:Menlo,'DejaVu Sans Mono',consolas,'Courier New',monospace\">Uh oh, haven't evaluated this cut yet! Make sure it was included in the list of cuts you used to initialize this \n",
       "JaggedSelection.   dsaMuons :  segOverlap &lt; 0.66\n",
       "</pre>\n"
      ],
      "text/plain": [
       "Uh oh, haven't evaluated this cut yet! Make sure it was included in the list of cuts you used to initialize this \n",
       "JaggedSelection.   dsaMuons :  segOverlap < 0.66\n"
      ]
     },
     "metadata": {},
     "output_type": "display_data"
    },
    {
     "data": {
      "text/html": [
       "<pre style=\"white-space:pre;overflow-x:auto;line-height:normal;font-family:Menlo,'DejaVu Sans Mono',consolas,'Courier New',monospace\">Uh oh, haven't evaluated this cut yet! Make sure it was included in the list of cuts you used to initialize this \n",
       "JaggedSelection.   dsaMuons :  extrapolatedDr &gt; 0.2\n",
       "</pre>\n"
      ],
      "text/plain": [
       "Uh oh, haven't evaluated this cut yet! Make sure it was included in the list of cuts you used to initialize this \n",
       "JaggedSelection.   dsaMuons :  extrapolatedDr > 0.2\n"
      ]
     },
     "metadata": {},
     "output_type": "display_data"
    },
    {
     "data": {
      "text/html": [
       "<pre style=\"white-space:pre;overflow-x:auto;line-height:normal;font-family:Menlo,'DejaVu Sans Mono',consolas,'Courier New',monospace\">Uh oh, haven't evaluated this cut yet! Make sure it was included in the list of cuts you used to initialize this \n",
       "JaggedSelection.   dsaMuons :  isSubsetAnyPFMuon False\n",
       "</pre>\n"
      ],
      "text/plain": [
       "Uh oh, haven't evaluated this cut yet! Make sure it was included in the list of cuts you used to initialize this \n",
       "JaggedSelection.   dsaMuons :  isSubsetAnyPFMuon False\n"
      ]
     },
     "metadata": {},
     "output_type": "display_data"
    },
    {
     "data": {
      "text/html": [
       "<pre style=\"white-space:pre;overflow-x:auto;line-height:normal;font-family:Menlo,'DejaVu Sans Mono',consolas,'Courier New',monospace\">Uh oh, haven't evaluated this cut yet! Make sure it was included in the list of cuts you used to initialize this \n",
       "JaggedSelection.   dsaMuons :  DT + CSC hits &gt; 12\n",
       "</pre>\n"
      ],
      "text/plain": [
       "Uh oh, haven't evaluated this cut yet! Make sure it was included in the list of cuts you used to initialize this \n",
       "JaggedSelection.   dsaMuons :  DT + CSC hits > 12\n"
      ]
     },
     "metadata": {},
     "output_type": "display_data"
    },
    {
     "data": {
      "text/html": [
       "<pre style=\"white-space:pre;overflow-x:auto;line-height:normal;font-family:Menlo,'DejaVu Sans Mono',consolas,'Courier New',monospace\">Uh oh, haven't evaluated this cut yet! Make sure it was included in the list of cuts you used to initialize this \n",
       "JaggedSelection.   dsaMuons :  DT + CSC stations &gt;= 2\n",
       "</pre>\n"
      ],
      "text/plain": [
       "Uh oh, haven't evaluated this cut yet! Make sure it was included in the list of cuts you used to initialize this \n",
       "JaggedSelection.   dsaMuons :  DT + CSC stations >= 2\n"
      ]
     },
     "metadata": {},
     "output_type": "display_data"
    },
    {
     "data": {
      "text/html": [
       "<pre style=\"white-space:pre;overflow-x:auto;line-height:normal;font-family:Menlo,'DejaVu Sans Mono',consolas,'Courier New',monospace\">Uh oh, haven't evaluated this cut yet! Make sure it was included in the list of cuts you used to initialize this \n",
       "JaggedSelection.   dsaMuons :  ptErrorOverPT &lt; 1\n",
       "</pre>\n"
      ],
      "text/plain": [
       "Uh oh, haven't evaluated this cut yet! Make sure it was included in the list of cuts you used to initialize this \n",
       "JaggedSelection.   dsaMuons :  ptErrorOverPT < 1\n"
      ]
     },
     "metadata": {},
     "output_type": "display_data"
    },
    {
     "data": {
      "text/html": [
       "<pre style=\"white-space:pre;overflow-x:auto;line-height:normal;font-family:Menlo,'DejaVu Sans Mono',consolas,'Courier New',monospace\">Warning: cannot fill counter Gen As to muons. Skipping.\n",
       "</pre>\n"
      ],
      "text/plain": [
       "Warning: cannot fill counter Gen As to muons. Skipping.\n"
      ]
     },
     "metadata": {},
     "output_type": "display_data"
    },
    {
     "data": {
      "text/html": [
       "<pre style=\"white-space:pre;overflow-x:auto;line-height:normal;font-family:Menlo,'DejaVu Sans Mono',consolas,'Courier New',monospace\">Warning: cannot fill counter Gen As to electrons. Skipping.\n",
       "</pre>\n"
      ],
      "text/plain": [
       "Warning: cannot fill counter Gen As to electrons. Skipping.\n"
      ]
     },
     "metadata": {},
     "output_type": "display_data"
    },
    {
     "data": {
      "text/html": [
       "<pre style=\"white-space:pre;overflow-x:auto;line-height:normal;font-family:Menlo,'DejaVu Sans Mono',consolas,'Courier New',monospace\">Warning: cannot fill counter Matched gen As to muons. Skipping.\n",
       "</pre>\n"
      ],
      "text/plain": [
       "Warning: cannot fill counter Matched gen As to muons. Skipping.\n"
      ]
     },
     "metadata": {},
     "output_type": "display_data"
    },
    {
     "data": {
      "text/html": [
       "<pre style=\"white-space:pre;overflow-x:auto;line-height:normal;font-family:Menlo,'DejaVu Sans Mono',consolas,'Courier New',monospace\">Warning: cannot fill counter Matched gen As to electrons. Skipping.\n",
       "</pre>\n"
      ],
      "text/plain": [
       "Warning: cannot fill counter Matched gen As to electrons. Skipping.\n"
      ]
     },
     "metadata": {},
     "output_type": "display_data"
    },
    {
     "data": {
      "text/html": [
       "<pre style=\"white-space:pre;overflow-x:auto;line-height:normal;font-family:Menlo,'DejaVu Sans Mono',consolas,'Courier New',monospace\">Warning: electrons not found in sample. The following cuts will not be applied: ['pT &gt; 10 GeV', '|eta| &lt; 2.4', \n",
       "'looseID']\n",
       "</pre>\n"
      ],
      "text/plain": [
       "Warning: electrons not found in sample. The following cuts will not be applied: ['pT > 10 GeV', '|eta| < 2.4', \n",
       "'looseID']\n"
      ]
     },
     "metadata": {},
     "output_type": "display_data"
    },
    {
     "data": {
      "text/html": [
       "<pre style=\"white-space:pre;overflow-x:auto;line-height:normal;font-family:Menlo,'DejaVu Sans Mono',consolas,'Courier New',monospace\">Uh oh, haven't evaluated this cut yet! Make sure it was included in the list of cuts you used to initialize this \n",
       "JaggedSelection.   muons :  looseID\n",
       "</pre>\n"
      ],
      "text/plain": [
       "Uh oh, haven't evaluated this cut yet! Make sure it was included in the list of cuts you used to initialize this \n",
       "JaggedSelection.   muons :  looseID\n"
      ]
     },
     "metadata": {},
     "output_type": "display_data"
    },
    {
     "data": {
      "text/html": [
       "<pre style=\"white-space:pre;overflow-x:auto;line-height:normal;font-family:Menlo,'DejaVu Sans Mono',consolas,'Courier New',monospace\">Warning: photons not found in sample. The following cuts will not be applied: ['pT &gt; 20 GeV', '|eta| &lt; 2.5', \n",
       "'looseID']\n",
       "</pre>\n"
      ],
      "text/plain": [
       "Warning: photons not found in sample. The following cuts will not be applied: ['pT > 20 GeV', '|eta| < 2.5', \n",
       "'looseID']\n"
      ]
     },
     "metadata": {},
     "output_type": "display_data"
    },
    {
     "data": {
      "text/html": [
       "<pre style=\"white-space:pre;overflow-x:auto;line-height:normal;font-family:Menlo,'DejaVu Sans Mono',consolas,'Courier New',monospace\">Uh oh, haven't evaluated this cut yet! Make sure it was included in the list of cuts you used to initialize this \n",
       "JaggedSelection.   dsaMuons :  ifcsczero\n",
       "</pre>\n"
      ],
      "text/plain": [
       "Uh oh, haven't evaluated this cut yet! Make sure it was included in the list of cuts you used to initialize this \n",
       "JaggedSelection.   dsaMuons :  ifcsczero\n"
      ]
     },
     "metadata": {},
     "output_type": "display_data"
    },
    {
     "data": {
      "text/html": [
       "<pre style=\"white-space:pre;overflow-x:auto;line-height:normal;font-family:Menlo,'DejaVu Sans Mono',consolas,'Courier New',monospace\">Uh oh, haven't evaluated this cut yet! Make sure it was included in the list of cuts you used to initialize this \n",
       "JaggedSelection.   dsaMuons :  segOverlap &lt; 0.66\n",
       "</pre>\n"
      ],
      "text/plain": [
       "Uh oh, haven't evaluated this cut yet! Make sure it was included in the list of cuts you used to initialize this \n",
       "JaggedSelection.   dsaMuons :  segOverlap < 0.66\n"
      ]
     },
     "metadata": {},
     "output_type": "display_data"
    },
    {
     "data": {
      "text/html": [
       "<pre style=\"white-space:pre;overflow-x:auto;line-height:normal;font-family:Menlo,'DejaVu Sans Mono',consolas,'Courier New',monospace\">Uh oh, haven't evaluated this cut yet! Make sure it was included in the list of cuts you used to initialize this \n",
       "JaggedSelection.   dsaMuons :  extrapolatedDr &gt; 0.2\n",
       "</pre>\n"
      ],
      "text/plain": [
       "Uh oh, haven't evaluated this cut yet! Make sure it was included in the list of cuts you used to initialize this \n",
       "JaggedSelection.   dsaMuons :  extrapolatedDr > 0.2\n"
      ]
     },
     "metadata": {},
     "output_type": "display_data"
    },
    {
     "data": {
      "text/html": [
       "<pre style=\"white-space:pre;overflow-x:auto;line-height:normal;font-family:Menlo,'DejaVu Sans Mono',consolas,'Courier New',monospace\">Uh oh, haven't evaluated this cut yet! Make sure it was included in the list of cuts you used to initialize this \n",
       "JaggedSelection.   dsaMuons :  isSubsetAnyPFMuon False\n",
       "</pre>\n"
      ],
      "text/plain": [
       "Uh oh, haven't evaluated this cut yet! Make sure it was included in the list of cuts you used to initialize this \n",
       "JaggedSelection.   dsaMuons :  isSubsetAnyPFMuon False\n"
      ]
     },
     "metadata": {},
     "output_type": "display_data"
    },
    {
     "data": {
      "text/html": [
       "<pre style=\"white-space:pre;overflow-x:auto;line-height:normal;font-family:Menlo,'DejaVu Sans Mono',consolas,'Courier New',monospace\">Uh oh, haven't evaluated this cut yet! Make sure it was included in the list of cuts you used to initialize this \n",
       "JaggedSelection.   dsaMuons :  DT + CSC hits &gt; 12\n",
       "</pre>\n"
      ],
      "text/plain": [
       "Uh oh, haven't evaluated this cut yet! Make sure it was included in the list of cuts you used to initialize this \n",
       "JaggedSelection.   dsaMuons :  DT + CSC hits > 12\n"
      ]
     },
     "metadata": {},
     "output_type": "display_data"
    },
    {
     "data": {
      "text/html": [
       "<pre style=\"white-space:pre;overflow-x:auto;line-height:normal;font-family:Menlo,'DejaVu Sans Mono',consolas,'Courier New',monospace\">Uh oh, haven't evaluated this cut yet! Make sure it was included in the list of cuts you used to initialize this \n",
       "JaggedSelection.   dsaMuons :  DT + CSC stations &gt;= 2\n",
       "</pre>\n"
      ],
      "text/plain": [
       "Uh oh, haven't evaluated this cut yet! Make sure it was included in the list of cuts you used to initialize this \n",
       "JaggedSelection.   dsaMuons :  DT + CSC stations >= 2\n"
      ]
     },
     "metadata": {},
     "output_type": "display_data"
    },
    {
     "data": {
      "text/html": [
       "<pre style=\"white-space:pre;overflow-x:auto;line-height:normal;font-family:Menlo,'DejaVu Sans Mono',consolas,'Courier New',monospace\">Uh oh, haven't evaluated this cut yet! Make sure it was included in the list of cuts you used to initialize this \n",
       "JaggedSelection.   dsaMuons :  ptErrorOverPT &lt; 1\n",
       "</pre>\n"
      ],
      "text/plain": [
       "Uh oh, haven't evaluated this cut yet! Make sure it was included in the list of cuts you used to initialize this \n",
       "JaggedSelection.   dsaMuons :  ptErrorOverPT < 1\n"
      ]
     },
     "metadata": {},
     "output_type": "display_data"
    },
    {
     "data": {
      "text/html": [
       "<pre style=\"white-space:pre;overflow-x:auto;line-height:normal;font-family:Menlo,'DejaVu Sans Mono',consolas,'Courier New',monospace\">Warning: cannot fill counter Gen As to muons. Skipping.\n",
       "</pre>\n"
      ],
      "text/plain": [
       "Warning: cannot fill counter Gen As to muons. Skipping.\n"
      ]
     },
     "metadata": {},
     "output_type": "display_data"
    },
    {
     "data": {
      "text/html": [
       "<pre style=\"white-space:pre;overflow-x:auto;line-height:normal;font-family:Menlo,'DejaVu Sans Mono',consolas,'Courier New',monospace\">Warning: cannot fill counter Gen As to electrons. Skipping.\n",
       "</pre>\n"
      ],
      "text/plain": [
       "Warning: cannot fill counter Gen As to electrons. Skipping.\n"
      ]
     },
     "metadata": {},
     "output_type": "display_data"
    },
    {
     "data": {
      "text/html": [
       "<pre style=\"white-space:pre;overflow-x:auto;line-height:normal;font-family:Menlo,'DejaVu Sans Mono',consolas,'Courier New',monospace\">Warning: cannot fill counter Matched gen As to muons. Skipping.\n",
       "</pre>\n"
      ],
      "text/plain": [
       "Warning: cannot fill counter Matched gen As to muons. Skipping.\n"
      ]
     },
     "metadata": {},
     "output_type": "display_data"
    },
    {
     "data": {
      "text/html": [
       "<pre style=\"white-space:pre;overflow-x:auto;line-height:normal;font-family:Menlo,'DejaVu Sans Mono',consolas,'Courier New',monospace\">Warning: cannot fill counter Matched gen As to electrons. Skipping.\n",
       "</pre>\n"
      ],
      "text/plain": [
       "Warning: cannot fill counter Matched gen As to electrons. Skipping.\n"
      ]
     },
     "metadata": {},
     "output_type": "display_data"
    },
    {
     "data": {
      "text/html": [
       "<pre style=\"white-space:pre;overflow-x:auto;line-height:normal;font-family:Menlo,'DejaVu Sans Mono',consolas,'Courier New',monospace\">Warning: electrons not found in sample. The following cuts will not be applied: ['pT &gt; 10 GeV', '|eta| &lt; 2.4', \n",
       "'looseID']\n",
       "</pre>\n"
      ],
      "text/plain": [
       "Warning: electrons not found in sample. The following cuts will not be applied: ['pT > 10 GeV', '|eta| < 2.4', \n",
       "'looseID']\n"
      ]
     },
     "metadata": {},
     "output_type": "display_data"
    },
    {
     "data": {
      "text/html": [
       "<pre style=\"white-space:pre;overflow-x:auto;line-height:normal;font-family:Menlo,'DejaVu Sans Mono',consolas,'Courier New',monospace\">Uh oh, haven't evaluated this cut yet! Make sure it was included in the list of cuts you used to initialize this \n",
       "JaggedSelection.   muons :  looseID\n",
       "</pre>\n"
      ],
      "text/plain": [
       "Uh oh, haven't evaluated this cut yet! Make sure it was included in the list of cuts you used to initialize this \n",
       "JaggedSelection.   muons :  looseID\n"
      ]
     },
     "metadata": {},
     "output_type": "display_data"
    },
    {
     "data": {
      "text/html": [
       "<pre style=\"white-space:pre;overflow-x:auto;line-height:normal;font-family:Menlo,'DejaVu Sans Mono',consolas,'Courier New',monospace\">Warning: photons not found in sample. The following cuts will not be applied: ['pT &gt; 20 GeV', '|eta| &lt; 2.5', \n",
       "'looseID']\n",
       "</pre>\n"
      ],
      "text/plain": [
       "Warning: photons not found in sample. The following cuts will not be applied: ['pT > 20 GeV', '|eta| < 2.5', \n",
       "'looseID']\n"
      ]
     },
     "metadata": {},
     "output_type": "display_data"
    },
    {
     "data": {
      "text/html": [
       "<pre style=\"white-space:pre;overflow-x:auto;line-height:normal;font-family:Menlo,'DejaVu Sans Mono',consolas,'Courier New',monospace\">Uh oh, haven't evaluated this cut yet! Make sure it was included in the list of cuts you used to initialize this \n",
       "JaggedSelection.   dsaMuons :  ifcsczero\n",
       "</pre>\n"
      ],
      "text/plain": [
       "Uh oh, haven't evaluated this cut yet! Make sure it was included in the list of cuts you used to initialize this \n",
       "JaggedSelection.   dsaMuons :  ifcsczero\n"
      ]
     },
     "metadata": {},
     "output_type": "display_data"
    },
    {
     "data": {
      "text/html": [
       "<pre style=\"white-space:pre;overflow-x:auto;line-height:normal;font-family:Menlo,'DejaVu Sans Mono',consolas,'Courier New',monospace\">Uh oh, haven't evaluated this cut yet! Make sure it was included in the list of cuts you used to initialize this \n",
       "JaggedSelection.   dsaMuons :  segOverlap &lt; 0.66\n",
       "</pre>\n"
      ],
      "text/plain": [
       "Uh oh, haven't evaluated this cut yet! Make sure it was included in the list of cuts you used to initialize this \n",
       "JaggedSelection.   dsaMuons :  segOverlap < 0.66\n"
      ]
     },
     "metadata": {},
     "output_type": "display_data"
    },
    {
     "data": {
      "text/html": [
       "<pre style=\"white-space:pre;overflow-x:auto;line-height:normal;font-family:Menlo,'DejaVu Sans Mono',consolas,'Courier New',monospace\">Uh oh, haven't evaluated this cut yet! Make sure it was included in the list of cuts you used to initialize this \n",
       "JaggedSelection.   dsaMuons :  extrapolatedDr &gt; 0.2\n",
       "</pre>\n"
      ],
      "text/plain": [
       "Uh oh, haven't evaluated this cut yet! Make sure it was included in the list of cuts you used to initialize this \n",
       "JaggedSelection.   dsaMuons :  extrapolatedDr > 0.2\n"
      ]
     },
     "metadata": {},
     "output_type": "display_data"
    },
    {
     "data": {
      "text/html": [
       "<pre style=\"white-space:pre;overflow-x:auto;line-height:normal;font-family:Menlo,'DejaVu Sans Mono',consolas,'Courier New',monospace\">Uh oh, haven't evaluated this cut yet! Make sure it was included in the list of cuts you used to initialize this \n",
       "JaggedSelection.   dsaMuons :  isSubsetAnyPFMuon False\n",
       "</pre>\n"
      ],
      "text/plain": [
       "Uh oh, haven't evaluated this cut yet! Make sure it was included in the list of cuts you used to initialize this \n",
       "JaggedSelection.   dsaMuons :  isSubsetAnyPFMuon False\n"
      ]
     },
     "metadata": {},
     "output_type": "display_data"
    },
    {
     "data": {
      "text/html": [
       "<pre style=\"white-space:pre;overflow-x:auto;line-height:normal;font-family:Menlo,'DejaVu Sans Mono',consolas,'Courier New',monospace\">Uh oh, haven't evaluated this cut yet! Make sure it was included in the list of cuts you used to initialize this \n",
       "JaggedSelection.   dsaMuons :  DT + CSC hits &gt; 12\n",
       "</pre>\n"
      ],
      "text/plain": [
       "Uh oh, haven't evaluated this cut yet! Make sure it was included in the list of cuts you used to initialize this \n",
       "JaggedSelection.   dsaMuons :  DT + CSC hits > 12\n"
      ]
     },
     "metadata": {},
     "output_type": "display_data"
    },
    {
     "data": {
      "text/html": [
       "<pre style=\"white-space:pre;overflow-x:auto;line-height:normal;font-family:Menlo,'DejaVu Sans Mono',consolas,'Courier New',monospace\">Uh oh, haven't evaluated this cut yet! Make sure it was included in the list of cuts you used to initialize this \n",
       "JaggedSelection.   dsaMuons :  DT + CSC stations &gt;= 2\n",
       "</pre>\n"
      ],
      "text/plain": [
       "Uh oh, haven't evaluated this cut yet! Make sure it was included in the list of cuts you used to initialize this \n",
       "JaggedSelection.   dsaMuons :  DT + CSC stations >= 2\n"
      ]
     },
     "metadata": {},
     "output_type": "display_data"
    },
    {
     "data": {
      "text/html": [
       "<pre style=\"white-space:pre;overflow-x:auto;line-height:normal;font-family:Menlo,'DejaVu Sans Mono',consolas,'Courier New',monospace\">Uh oh, haven't evaluated this cut yet! Make sure it was included in the list of cuts you used to initialize this \n",
       "JaggedSelection.   dsaMuons :  ptErrorOverPT &lt; 1\n",
       "</pre>\n"
      ],
      "text/plain": [
       "Uh oh, haven't evaluated this cut yet! Make sure it was included in the list of cuts you used to initialize this \n",
       "JaggedSelection.   dsaMuons :  ptErrorOverPT < 1\n"
      ]
     },
     "metadata": {},
     "output_type": "display_data"
    },
    {
     "data": {
      "text/html": [
       "<pre style=\"white-space:pre;overflow-x:auto;line-height:normal;font-family:Menlo,'DejaVu Sans Mono',consolas,'Courier New',monospace\">Warning: cannot fill counter Gen As to muons. Skipping.\n",
       "</pre>\n"
      ],
      "text/plain": [
       "Warning: cannot fill counter Gen As to muons. Skipping.\n"
      ]
     },
     "metadata": {},
     "output_type": "display_data"
    },
    {
     "data": {
      "text/html": [
       "<pre style=\"white-space:pre;overflow-x:auto;line-height:normal;font-family:Menlo,'DejaVu Sans Mono',consolas,'Courier New',monospace\">Warning: cannot fill counter Gen As to electrons. Skipping.\n",
       "</pre>\n"
      ],
      "text/plain": [
       "Warning: cannot fill counter Gen As to electrons. Skipping.\n"
      ]
     },
     "metadata": {},
     "output_type": "display_data"
    },
    {
     "data": {
      "text/html": [
       "<pre style=\"white-space:pre;overflow-x:auto;line-height:normal;font-family:Menlo,'DejaVu Sans Mono',consolas,'Courier New',monospace\">Warning: cannot fill counter Matched gen As to muons. Skipping.\n",
       "</pre>\n"
      ],
      "text/plain": [
       "Warning: cannot fill counter Matched gen As to muons. Skipping.\n"
      ]
     },
     "metadata": {},
     "output_type": "display_data"
    },
    {
     "data": {
      "text/html": [
       "<pre style=\"white-space:pre;overflow-x:auto;line-height:normal;font-family:Menlo,'DejaVu Sans Mono',consolas,'Courier New',monospace\">Warning: cannot fill counter Matched gen As to electrons. Skipping.\n",
       "</pre>\n"
      ],
      "text/plain": [
       "Warning: cannot fill counter Matched gen As to electrons. Skipping.\n"
      ]
     },
     "metadata": {},
     "output_type": "display_data"
    },
    {
     "data": {
      "text/html": [
       "<pre style=\"white-space:pre;overflow-x:auto;line-height:normal;font-family:Menlo,'DejaVu Sans Mono',consolas,'Courier New',monospace\">Warning: electrons not found in this sample. Skipping.\n",
       "</pre>\n"
      ],
      "text/plain": [
       "Warning: electrons not found in this sample. Skipping.\n"
      ]
     },
     "metadata": {},
     "output_type": "display_data"
    },
    {
     "data": {
      "text/html": [
       "<pre style=\"white-space:pre;overflow-x:auto;line-height:normal;font-family:Menlo,'DejaVu Sans Mono',consolas,'Courier New',monospace\">Warning: photons not found in this sample. Skipping.\n",
       "</pre>\n"
      ],
      "text/plain": [
       "Warning: photons not found in this sample. Skipping.\n"
      ]
     },
     "metadata": {},
     "output_type": "display_data"
    },
    {
     "data": {
      "text/html": [
       "<pre style=\"white-space:pre;overflow-x:auto;line-height:normal;font-family:Menlo,'DejaVu Sans Mono',consolas,'Courier New',monospace\">Warning: genAs_toMu not found in this sample. Skipping.\n",
       "</pre>\n"
      ],
      "text/plain": [
       "Warning: genAs_toMu not found in this sample. Skipping.\n"
      ]
     },
     "metadata": {},
     "output_type": "display_data"
    },
    {
     "data": {
      "text/html": [
       "<pre style=\"white-space:pre;overflow-x:auto;line-height:normal;font-family:Menlo,'DejaVu Sans Mono',consolas,'Courier New',monospace\">Warning: genAs_toE not found in this sample. Skipping.\n",
       "</pre>\n"
      ],
      "text/plain": [
       "Warning: genAs_toE not found in this sample. Skipping.\n"
      ]
     },
     "metadata": {},
     "output_type": "display_data"
    },
    {
     "data": {
      "text/html": [
       "<pre style=\"white-space:pre;overflow-x:auto;line-height:normal;font-family:Menlo,'DejaVu Sans Mono',consolas,'Courier New',monospace\">Not applying any cuts to the lepton jets for channel  baseNoLj\n",
       "</pre>\n"
      ],
      "text/plain": [
       "Not applying any cuts to the lepton jets for channel  baseNoLj\n"
      ]
     },
     "metadata": {},
     "output_type": "display_data"
    },
    {
     "data": {
      "text/html": [
       "<pre style=\"white-space:pre;overflow-x:auto;line-height:normal;font-family:Menlo,'DejaVu Sans Mono',consolas,'Courier New',monospace\">Warning: electrons not found in sample. The following cuts will not be applied: ['pT &gt; 10 GeV', '|eta| &lt; 2.4', \n",
       "'looseID']\n",
       "</pre>\n"
      ],
      "text/plain": [
       "Warning: electrons not found in sample. The following cuts will not be applied: ['pT > 10 GeV', '|eta| < 2.4', \n",
       "'looseID']\n"
      ]
     },
     "metadata": {},
     "output_type": "display_data"
    },
    {
     "data": {
      "text/html": [
       "<pre style=\"white-space:pre;overflow-x:auto;line-height:normal;font-family:Menlo,'DejaVu Sans Mono',consolas,'Courier New',monospace\">Warning: Unable to apply looseID for muons. Skipping.\n",
       "</pre>\n"
      ],
      "text/plain": [
       "Warning: Unable to apply looseID for muons. Skipping.\n"
      ]
     },
     "metadata": {},
     "output_type": "display_data"
    },
    {
     "data": {
      "text/html": [
       "<pre style=\"white-space:pre;overflow-x:auto;line-height:normal;font-family:Menlo,'DejaVu Sans Mono',consolas,'Courier New',monospace\">Warning: photons not found in sample. The following cuts will not be applied: ['pT &gt; 20 GeV', '|eta| &lt; 2.5', \n",
       "'looseID']\n",
       "</pre>\n"
      ],
      "text/plain": [
       "Warning: photons not found in sample. The following cuts will not be applied: ['pT > 20 GeV', '|eta| < 2.5', \n",
       "'looseID']\n"
      ]
     },
     "metadata": {},
     "output_type": "display_data"
    },
    {
     "data": {
      "text/html": [
       "<pre style=\"white-space:pre;overflow-x:auto;line-height:normal;font-family:Menlo,'DejaVu Sans Mono',consolas,'Courier New',monospace\">Warning: Unable to apply ifcsczero for dsaMuons. Skipping.\n",
       "</pre>\n"
      ],
      "text/plain": [
       "Warning: Unable to apply ifcsczero for dsaMuons. Skipping.\n"
      ]
     },
     "metadata": {},
     "output_type": "display_data"
    },
    {
     "data": {
      "text/html": [
       "<pre style=\"white-space:pre;overflow-x:auto;line-height:normal;font-family:Menlo,'DejaVu Sans Mono',consolas,'Courier New',monospace\">Warning: Unable to apply segOverlap &lt; 0.66 for dsaMuons. Skipping.\n",
       "</pre>\n"
      ],
      "text/plain": [
       "Warning: Unable to apply segOverlap < 0.66 for dsaMuons. Skipping.\n"
      ]
     },
     "metadata": {},
     "output_type": "display_data"
    },
    {
     "data": {
      "text/html": [
       "<pre style=\"white-space:pre;overflow-x:auto;line-height:normal;font-family:Menlo,'DejaVu Sans Mono',consolas,'Courier New',monospace\">Warning: Unable to apply extrapolatedDr &gt; 0.2 for dsaMuons. Skipping.\n",
       "</pre>\n"
      ],
      "text/plain": [
       "Warning: Unable to apply extrapolatedDr > 0.2 for dsaMuons. Skipping.\n"
      ]
     },
     "metadata": {},
     "output_type": "display_data"
    },
    {
     "data": {
      "text/html": [
       "<pre style=\"white-space:pre;overflow-x:auto;line-height:normal;font-family:Menlo,'DejaVu Sans Mono',consolas,'Courier New',monospace\">Warning: Unable to apply isSubsetAnyPFMuon False for dsaMuons. Skipping.\n",
       "</pre>\n"
      ],
      "text/plain": [
       "Warning: Unable to apply isSubsetAnyPFMuon False for dsaMuons. Skipping.\n"
      ]
     },
     "metadata": {},
     "output_type": "display_data"
    },
    {
     "data": {
      "text/html": [
       "<pre style=\"white-space:pre;overflow-x:auto;line-height:normal;font-family:Menlo,'DejaVu Sans Mono',consolas,'Courier New',monospace\">Warning: Unable to apply DT + CSC hits &gt; 12 for dsaMuons. Skipping.\n",
       "</pre>\n"
      ],
      "text/plain": [
       "Warning: Unable to apply DT + CSC hits > 12 for dsaMuons. Skipping.\n"
      ]
     },
     "metadata": {},
     "output_type": "display_data"
    },
    {
     "data": {
      "text/html": [
       "<pre style=\"white-space:pre;overflow-x:auto;line-height:normal;font-family:Menlo,'DejaVu Sans Mono',consolas,'Courier New',monospace\">Warning: Unable to apply DT + CSC stations &gt;= 2 for dsaMuons. Skipping.\n",
       "</pre>\n"
      ],
      "text/plain": [
       "Warning: Unable to apply DT + CSC stations >= 2 for dsaMuons. Skipping.\n"
      ]
     },
     "metadata": {},
     "output_type": "display_data"
    },
    {
     "data": {
      "text/html": [
       "<pre style=\"white-space:pre;overflow-x:auto;line-height:normal;font-family:Menlo,'DejaVu Sans Mono',consolas,'Courier New',monospace\">Warning: Unable to apply ptErrorOverPT &lt; 1 for dsaMuons. Skipping.\n",
       "</pre>\n"
      ],
      "text/plain": [
       "Warning: Unable to apply ptErrorOverPT < 1 for dsaMuons. Skipping.\n"
      ]
     },
     "metadata": {},
     "output_type": "display_data"
    },
    {
     "data": {
      "text/html": [
       "<pre style=\"white-space:pre;overflow-x:auto;line-height:normal;font-family:Menlo,'DejaVu Sans Mono',consolas,'Courier New',monospace\">Warning: electrons not found in sample. The following cuts will not be applied: ['pT &gt; 10 GeV', '|eta| &lt; 2.4', \n",
       "'looseID']\n",
       "</pre>\n"
      ],
      "text/plain": [
       "Warning: electrons not found in sample. The following cuts will not be applied: ['pT > 10 GeV', '|eta| < 2.4', \n",
       "'looseID']\n"
      ]
     },
     "metadata": {},
     "output_type": "display_data"
    },
    {
     "data": {
      "text/html": [
       "<pre style=\"white-space:pre;overflow-x:auto;line-height:normal;font-family:Menlo,'DejaVu Sans Mono',consolas,'Courier New',monospace\">Uh oh, haven't evaluated this cut yet! Make sure it was included in the list of cuts you used to initialize this \n",
       "JaggedSelection.   muons :  looseID\n",
       "</pre>\n"
      ],
      "text/plain": [
       "Uh oh, haven't evaluated this cut yet! Make sure it was included in the list of cuts you used to initialize this \n",
       "JaggedSelection.   muons :  looseID\n"
      ]
     },
     "metadata": {},
     "output_type": "display_data"
    },
    {
     "data": {
      "text/html": [
       "<pre style=\"white-space:pre;overflow-x:auto;line-height:normal;font-family:Menlo,'DejaVu Sans Mono',consolas,'Courier New',monospace\">Warning: photons not found in sample. The following cuts will not be applied: ['pT &gt; 20 GeV', '|eta| &lt; 2.5', \n",
       "'looseID']\n",
       "</pre>\n"
      ],
      "text/plain": [
       "Warning: photons not found in sample. The following cuts will not be applied: ['pT > 20 GeV', '|eta| < 2.5', \n",
       "'looseID']\n"
      ]
     },
     "metadata": {},
     "output_type": "display_data"
    },
    {
     "data": {
      "text/html": [
       "<pre style=\"white-space:pre;overflow-x:auto;line-height:normal;font-family:Menlo,'DejaVu Sans Mono',consolas,'Courier New',monospace\">Uh oh, haven't evaluated this cut yet! Make sure it was included in the list of cuts you used to initialize this \n",
       "JaggedSelection.   dsaMuons :  ifcsczero\n",
       "</pre>\n"
      ],
      "text/plain": [
       "Uh oh, haven't evaluated this cut yet! Make sure it was included in the list of cuts you used to initialize this \n",
       "JaggedSelection.   dsaMuons :  ifcsczero\n"
      ]
     },
     "metadata": {},
     "output_type": "display_data"
    },
    {
     "data": {
      "text/html": [
       "<pre style=\"white-space:pre;overflow-x:auto;line-height:normal;font-family:Menlo,'DejaVu Sans Mono',consolas,'Courier New',monospace\">Uh oh, haven't evaluated this cut yet! Make sure it was included in the list of cuts you used to initialize this \n",
       "JaggedSelection.   dsaMuons :  segOverlap &lt; 0.66\n",
       "</pre>\n"
      ],
      "text/plain": [
       "Uh oh, haven't evaluated this cut yet! Make sure it was included in the list of cuts you used to initialize this \n",
       "JaggedSelection.   dsaMuons :  segOverlap < 0.66\n"
      ]
     },
     "metadata": {},
     "output_type": "display_data"
    },
    {
     "data": {
      "text/html": [
       "<pre style=\"white-space:pre;overflow-x:auto;line-height:normal;font-family:Menlo,'DejaVu Sans Mono',consolas,'Courier New',monospace\">Uh oh, haven't evaluated this cut yet! Make sure it was included in the list of cuts you used to initialize this \n",
       "JaggedSelection.   dsaMuons :  extrapolatedDr &gt; 0.2\n",
       "</pre>\n"
      ],
      "text/plain": [
       "Uh oh, haven't evaluated this cut yet! Make sure it was included in the list of cuts you used to initialize this \n",
       "JaggedSelection.   dsaMuons :  extrapolatedDr > 0.2\n"
      ]
     },
     "metadata": {},
     "output_type": "display_data"
    },
    {
     "data": {
      "text/html": [
       "<pre style=\"white-space:pre;overflow-x:auto;line-height:normal;font-family:Menlo,'DejaVu Sans Mono',consolas,'Courier New',monospace\">Uh oh, haven't evaluated this cut yet! Make sure it was included in the list of cuts you used to initialize this \n",
       "JaggedSelection.   dsaMuons :  isSubsetAnyPFMuon False\n",
       "</pre>\n"
      ],
      "text/plain": [
       "Uh oh, haven't evaluated this cut yet! Make sure it was included in the list of cuts you used to initialize this \n",
       "JaggedSelection.   dsaMuons :  isSubsetAnyPFMuon False\n"
      ]
     },
     "metadata": {},
     "output_type": "display_data"
    },
    {
     "data": {
      "text/html": [
       "<pre style=\"white-space:pre;overflow-x:auto;line-height:normal;font-family:Menlo,'DejaVu Sans Mono',consolas,'Courier New',monospace\">Uh oh, haven't evaluated this cut yet! Make sure it was included in the list of cuts you used to initialize this \n",
       "JaggedSelection.   dsaMuons :  DT + CSC hits &gt; 12\n",
       "</pre>\n"
      ],
      "text/plain": [
       "Uh oh, haven't evaluated this cut yet! Make sure it was included in the list of cuts you used to initialize this \n",
       "JaggedSelection.   dsaMuons :  DT + CSC hits > 12\n"
      ]
     },
     "metadata": {},
     "output_type": "display_data"
    },
    {
     "data": {
      "text/html": [
       "<pre style=\"white-space:pre;overflow-x:auto;line-height:normal;font-family:Menlo,'DejaVu Sans Mono',consolas,'Courier New',monospace\">Uh oh, haven't evaluated this cut yet! Make sure it was included in the list of cuts you used to initialize this \n",
       "JaggedSelection.   dsaMuons :  DT + CSC stations &gt;= 2\n",
       "</pre>\n"
      ],
      "text/plain": [
       "Uh oh, haven't evaluated this cut yet! Make sure it was included in the list of cuts you used to initialize this \n",
       "JaggedSelection.   dsaMuons :  DT + CSC stations >= 2\n"
      ]
     },
     "metadata": {},
     "output_type": "display_data"
    },
    {
     "data": {
      "text/html": [
       "<pre style=\"white-space:pre;overflow-x:auto;line-height:normal;font-family:Menlo,'DejaVu Sans Mono',consolas,'Courier New',monospace\">Uh oh, haven't evaluated this cut yet! Make sure it was included in the list of cuts you used to initialize this \n",
       "JaggedSelection.   dsaMuons :  ptErrorOverPT &lt; 1\n",
       "</pre>\n"
      ],
      "text/plain": [
       "Uh oh, haven't evaluated this cut yet! Make sure it was included in the list of cuts you used to initialize this \n",
       "JaggedSelection.   dsaMuons :  ptErrorOverPT < 1\n"
      ]
     },
     "metadata": {},
     "output_type": "display_data"
    },
    {
     "data": {
      "text/html": [
       "<pre style=\"white-space:pre;overflow-x:auto;line-height:normal;font-family:Menlo,'DejaVu Sans Mono',consolas,'Courier New',monospace\">Warning: cannot fill counter Gen As to muons. Skipping.\n",
       "</pre>\n"
      ],
      "text/plain": [
       "Warning: cannot fill counter Gen As to muons. Skipping.\n"
      ]
     },
     "metadata": {},
     "output_type": "display_data"
    },
    {
     "data": {
      "text/html": [
       "<pre style=\"white-space:pre;overflow-x:auto;line-height:normal;font-family:Menlo,'DejaVu Sans Mono',consolas,'Courier New',monospace\">Warning: cannot fill counter Gen As to electrons. Skipping.\n",
       "</pre>\n"
      ],
      "text/plain": [
       "Warning: cannot fill counter Gen As to electrons. Skipping.\n"
      ]
     },
     "metadata": {},
     "output_type": "display_data"
    },
    {
     "data": {
      "text/html": [
       "<pre style=\"white-space:pre;overflow-x:auto;line-height:normal;font-family:Menlo,'DejaVu Sans Mono',consolas,'Courier New',monospace\">Warning: cannot fill counter Matched gen As to muons. Skipping.\n",
       "</pre>\n"
      ],
      "text/plain": [
       "Warning: cannot fill counter Matched gen As to muons. Skipping.\n"
      ]
     },
     "metadata": {},
     "output_type": "display_data"
    },
    {
     "data": {
      "text/html": [
       "<pre style=\"white-space:pre;overflow-x:auto;line-height:normal;font-family:Menlo,'DejaVu Sans Mono',consolas,'Courier New',monospace\">Warning: cannot fill counter Matched gen As to electrons. Skipping.\n",
       "</pre>\n"
      ],
      "text/plain": [
       "Warning: cannot fill counter Matched gen As to electrons. Skipping.\n"
      ]
     },
     "metadata": {},
     "output_type": "display_data"
    },
    {
     "data": {
      "text/html": [
       "<pre style=\"white-space:pre;overflow-x:auto;line-height:normal;font-family:Menlo,'DejaVu Sans Mono',consolas,'Courier New',monospace\">Warning: electrons not found in sample. The following cuts will not be applied: ['pT &gt; 10 GeV', '|eta| &lt; 2.4', \n",
       "'looseID']\n",
       "</pre>\n"
      ],
      "text/plain": [
       "Warning: electrons not found in sample. The following cuts will not be applied: ['pT > 10 GeV', '|eta| < 2.4', \n",
       "'looseID']\n"
      ]
     },
     "metadata": {},
     "output_type": "display_data"
    },
    {
     "data": {
      "text/html": [
       "<pre style=\"white-space:pre;overflow-x:auto;line-height:normal;font-family:Menlo,'DejaVu Sans Mono',consolas,'Courier New',monospace\">Uh oh, haven't evaluated this cut yet! Make sure it was included in the list of cuts you used to initialize this \n",
       "JaggedSelection.   muons :  looseID\n",
       "</pre>\n"
      ],
      "text/plain": [
       "Uh oh, haven't evaluated this cut yet! Make sure it was included in the list of cuts you used to initialize this \n",
       "JaggedSelection.   muons :  looseID\n"
      ]
     },
     "metadata": {},
     "output_type": "display_data"
    },
    {
     "data": {
      "text/html": [
       "<pre style=\"white-space:pre;overflow-x:auto;line-height:normal;font-family:Menlo,'DejaVu Sans Mono',consolas,'Courier New',monospace\">Warning: photons not found in sample. The following cuts will not be applied: ['pT &gt; 20 GeV', '|eta| &lt; 2.5', \n",
       "'looseID']\n",
       "</pre>\n"
      ],
      "text/plain": [
       "Warning: photons not found in sample. The following cuts will not be applied: ['pT > 20 GeV', '|eta| < 2.5', \n",
       "'looseID']\n"
      ]
     },
     "metadata": {},
     "output_type": "display_data"
    },
    {
     "data": {
      "text/html": [
       "<pre style=\"white-space:pre;overflow-x:auto;line-height:normal;font-family:Menlo,'DejaVu Sans Mono',consolas,'Courier New',monospace\">Uh oh, haven't evaluated this cut yet! Make sure it was included in the list of cuts you used to initialize this \n",
       "JaggedSelection.   dsaMuons :  ifcsczero\n",
       "</pre>\n"
      ],
      "text/plain": [
       "Uh oh, haven't evaluated this cut yet! Make sure it was included in the list of cuts you used to initialize this \n",
       "JaggedSelection.   dsaMuons :  ifcsczero\n"
      ]
     },
     "metadata": {},
     "output_type": "display_data"
    },
    {
     "data": {
      "text/html": [
       "<pre style=\"white-space:pre;overflow-x:auto;line-height:normal;font-family:Menlo,'DejaVu Sans Mono',consolas,'Courier New',monospace\">Uh oh, haven't evaluated this cut yet! Make sure it was included in the list of cuts you used to initialize this \n",
       "JaggedSelection.   dsaMuons :  segOverlap &lt; 0.66\n",
       "</pre>\n"
      ],
      "text/plain": [
       "Uh oh, haven't evaluated this cut yet! Make sure it was included in the list of cuts you used to initialize this \n",
       "JaggedSelection.   dsaMuons :  segOverlap < 0.66\n"
      ]
     },
     "metadata": {},
     "output_type": "display_data"
    },
    {
     "data": {
      "text/html": [
       "<pre style=\"white-space:pre;overflow-x:auto;line-height:normal;font-family:Menlo,'DejaVu Sans Mono',consolas,'Courier New',monospace\">Uh oh, haven't evaluated this cut yet! Make sure it was included in the list of cuts you used to initialize this \n",
       "JaggedSelection.   dsaMuons :  extrapolatedDr &gt; 0.2\n",
       "</pre>\n"
      ],
      "text/plain": [
       "Uh oh, haven't evaluated this cut yet! Make sure it was included in the list of cuts you used to initialize this \n",
       "JaggedSelection.   dsaMuons :  extrapolatedDr > 0.2\n"
      ]
     },
     "metadata": {},
     "output_type": "display_data"
    },
    {
     "data": {
      "text/html": [
       "<pre style=\"white-space:pre;overflow-x:auto;line-height:normal;font-family:Menlo,'DejaVu Sans Mono',consolas,'Courier New',monospace\">Uh oh, haven't evaluated this cut yet! Make sure it was included in the list of cuts you used to initialize this \n",
       "JaggedSelection.   dsaMuons :  isSubsetAnyPFMuon False\n",
       "</pre>\n"
      ],
      "text/plain": [
       "Uh oh, haven't evaluated this cut yet! Make sure it was included in the list of cuts you used to initialize this \n",
       "JaggedSelection.   dsaMuons :  isSubsetAnyPFMuon False\n"
      ]
     },
     "metadata": {},
     "output_type": "display_data"
    },
    {
     "data": {
      "text/html": [
       "<pre style=\"white-space:pre;overflow-x:auto;line-height:normal;font-family:Menlo,'DejaVu Sans Mono',consolas,'Courier New',monospace\">Uh oh, haven't evaluated this cut yet! Make sure it was included in the list of cuts you used to initialize this \n",
       "JaggedSelection.   dsaMuons :  DT + CSC hits &gt; 12\n",
       "</pre>\n"
      ],
      "text/plain": [
       "Uh oh, haven't evaluated this cut yet! Make sure it was included in the list of cuts you used to initialize this \n",
       "JaggedSelection.   dsaMuons :  DT + CSC hits > 12\n"
      ]
     },
     "metadata": {},
     "output_type": "display_data"
    },
    {
     "data": {
      "text/html": [
       "<pre style=\"white-space:pre;overflow-x:auto;line-height:normal;font-family:Menlo,'DejaVu Sans Mono',consolas,'Courier New',monospace\">Uh oh, haven't evaluated this cut yet! Make sure it was included in the list of cuts you used to initialize this \n",
       "JaggedSelection.   dsaMuons :  DT + CSC stations &gt;= 2\n",
       "</pre>\n"
      ],
      "text/plain": [
       "Uh oh, haven't evaluated this cut yet! Make sure it was included in the list of cuts you used to initialize this \n",
       "JaggedSelection.   dsaMuons :  DT + CSC stations >= 2\n"
      ]
     },
     "metadata": {},
     "output_type": "display_data"
    },
    {
     "data": {
      "text/html": [
       "<pre style=\"white-space:pre;overflow-x:auto;line-height:normal;font-family:Menlo,'DejaVu Sans Mono',consolas,'Courier New',monospace\">Uh oh, haven't evaluated this cut yet! Make sure it was included in the list of cuts you used to initialize this \n",
       "JaggedSelection.   dsaMuons :  ptErrorOverPT &lt; 1\n",
       "</pre>\n"
      ],
      "text/plain": [
       "Uh oh, haven't evaluated this cut yet! Make sure it was included in the list of cuts you used to initialize this \n",
       "JaggedSelection.   dsaMuons :  ptErrorOverPT < 1\n"
      ]
     },
     "metadata": {},
     "output_type": "display_data"
    },
    {
     "data": {
      "text/html": [
       "<pre style=\"white-space:pre;overflow-x:auto;line-height:normal;font-family:Menlo,'DejaVu Sans Mono',consolas,'Courier New',monospace\">Warning: cannot fill counter Gen As to muons. Skipping.\n",
       "</pre>\n"
      ],
      "text/plain": [
       "Warning: cannot fill counter Gen As to muons. Skipping.\n"
      ]
     },
     "metadata": {},
     "output_type": "display_data"
    },
    {
     "data": {
      "text/html": [
       "<pre style=\"white-space:pre;overflow-x:auto;line-height:normal;font-family:Menlo,'DejaVu Sans Mono',consolas,'Courier New',monospace\">Warning: cannot fill counter Gen As to electrons. Skipping.\n",
       "</pre>\n"
      ],
      "text/plain": [
       "Warning: cannot fill counter Gen As to electrons. Skipping.\n"
      ]
     },
     "metadata": {},
     "output_type": "display_data"
    },
    {
     "data": {
      "text/html": [
       "<pre style=\"white-space:pre;overflow-x:auto;line-height:normal;font-family:Menlo,'DejaVu Sans Mono',consolas,'Courier New',monospace\">Warning: cannot fill counter Matched gen As to muons. Skipping.\n",
       "</pre>\n"
      ],
      "text/plain": [
       "Warning: cannot fill counter Matched gen As to muons. Skipping.\n"
      ]
     },
     "metadata": {},
     "output_type": "display_data"
    },
    {
     "data": {
      "text/html": [
       "<pre style=\"white-space:pre;overflow-x:auto;line-height:normal;font-family:Menlo,'DejaVu Sans Mono',consolas,'Courier New',monospace\">Warning: cannot fill counter Matched gen As to electrons. Skipping.\n",
       "</pre>\n"
      ],
      "text/plain": [
       "Warning: cannot fill counter Matched gen As to electrons. Skipping.\n"
      ]
     },
     "metadata": {},
     "output_type": "display_data"
    },
    {
     "data": {
      "text/html": [
       "<pre style=\"white-space:pre;overflow-x:auto;line-height:normal;font-family:Menlo,'DejaVu Sans Mono',consolas,'Courier New',monospace\">Warning: electrons not found in sample. The following cuts will not be applied: ['pT &gt; 10 GeV', '|eta| &lt; 2.4', \n",
       "'looseID']\n",
       "</pre>\n"
      ],
      "text/plain": [
       "Warning: electrons not found in sample. The following cuts will not be applied: ['pT > 10 GeV', '|eta| < 2.4', \n",
       "'looseID']\n"
      ]
     },
     "metadata": {},
     "output_type": "display_data"
    },
    {
     "data": {
      "text/html": [
       "<pre style=\"white-space:pre;overflow-x:auto;line-height:normal;font-family:Menlo,'DejaVu Sans Mono',consolas,'Courier New',monospace\">Uh oh, haven't evaluated this cut yet! Make sure it was included in the list of cuts you used to initialize this \n",
       "JaggedSelection.   muons :  looseID\n",
       "</pre>\n"
      ],
      "text/plain": [
       "Uh oh, haven't evaluated this cut yet! Make sure it was included in the list of cuts you used to initialize this \n",
       "JaggedSelection.   muons :  looseID\n"
      ]
     },
     "metadata": {},
     "output_type": "display_data"
    },
    {
     "data": {
      "text/html": [
       "<pre style=\"white-space:pre;overflow-x:auto;line-height:normal;font-family:Menlo,'DejaVu Sans Mono',consolas,'Courier New',monospace\">Warning: photons not found in sample. The following cuts will not be applied: ['pT &gt; 20 GeV', '|eta| &lt; 2.5', \n",
       "'looseID']\n",
       "</pre>\n"
      ],
      "text/plain": [
       "Warning: photons not found in sample. The following cuts will not be applied: ['pT > 20 GeV', '|eta| < 2.5', \n",
       "'looseID']\n"
      ]
     },
     "metadata": {},
     "output_type": "display_data"
    },
    {
     "data": {
      "text/html": [
       "<pre style=\"white-space:pre;overflow-x:auto;line-height:normal;font-family:Menlo,'DejaVu Sans Mono',consolas,'Courier New',monospace\">Uh oh, haven't evaluated this cut yet! Make sure it was included in the list of cuts you used to initialize this \n",
       "JaggedSelection.   dsaMuons :  ifcsczero\n",
       "</pre>\n"
      ],
      "text/plain": [
       "Uh oh, haven't evaluated this cut yet! Make sure it was included in the list of cuts you used to initialize this \n",
       "JaggedSelection.   dsaMuons :  ifcsczero\n"
      ]
     },
     "metadata": {},
     "output_type": "display_data"
    },
    {
     "data": {
      "text/html": [
       "<pre style=\"white-space:pre;overflow-x:auto;line-height:normal;font-family:Menlo,'DejaVu Sans Mono',consolas,'Courier New',monospace\">Uh oh, haven't evaluated this cut yet! Make sure it was included in the list of cuts you used to initialize this \n",
       "JaggedSelection.   dsaMuons :  segOverlap &lt; 0.66\n",
       "</pre>\n"
      ],
      "text/plain": [
       "Uh oh, haven't evaluated this cut yet! Make sure it was included in the list of cuts you used to initialize this \n",
       "JaggedSelection.   dsaMuons :  segOverlap < 0.66\n"
      ]
     },
     "metadata": {},
     "output_type": "display_data"
    },
    {
     "data": {
      "text/html": [
       "<pre style=\"white-space:pre;overflow-x:auto;line-height:normal;font-family:Menlo,'DejaVu Sans Mono',consolas,'Courier New',monospace\">Uh oh, haven't evaluated this cut yet! Make sure it was included in the list of cuts you used to initialize this \n",
       "JaggedSelection.   dsaMuons :  extrapolatedDr &gt; 0.2\n",
       "</pre>\n"
      ],
      "text/plain": [
       "Uh oh, haven't evaluated this cut yet! Make sure it was included in the list of cuts you used to initialize this \n",
       "JaggedSelection.   dsaMuons :  extrapolatedDr > 0.2\n"
      ]
     },
     "metadata": {},
     "output_type": "display_data"
    },
    {
     "data": {
      "text/html": [
       "<pre style=\"white-space:pre;overflow-x:auto;line-height:normal;font-family:Menlo,'DejaVu Sans Mono',consolas,'Courier New',monospace\">Uh oh, haven't evaluated this cut yet! Make sure it was included in the list of cuts you used to initialize this \n",
       "JaggedSelection.   dsaMuons :  isSubsetAnyPFMuon False\n",
       "</pre>\n"
      ],
      "text/plain": [
       "Uh oh, haven't evaluated this cut yet! Make sure it was included in the list of cuts you used to initialize this \n",
       "JaggedSelection.   dsaMuons :  isSubsetAnyPFMuon False\n"
      ]
     },
     "metadata": {},
     "output_type": "display_data"
    },
    {
     "data": {
      "text/html": [
       "<pre style=\"white-space:pre;overflow-x:auto;line-height:normal;font-family:Menlo,'DejaVu Sans Mono',consolas,'Courier New',monospace\">Uh oh, haven't evaluated this cut yet! Make sure it was included in the list of cuts you used to initialize this \n",
       "JaggedSelection.   dsaMuons :  DT + CSC hits &gt; 12\n",
       "</pre>\n"
      ],
      "text/plain": [
       "Uh oh, haven't evaluated this cut yet! Make sure it was included in the list of cuts you used to initialize this \n",
       "JaggedSelection.   dsaMuons :  DT + CSC hits > 12\n"
      ]
     },
     "metadata": {},
     "output_type": "display_data"
    },
    {
     "data": {
      "text/html": [
       "<pre style=\"white-space:pre;overflow-x:auto;line-height:normal;font-family:Menlo,'DejaVu Sans Mono',consolas,'Courier New',monospace\">Uh oh, haven't evaluated this cut yet! Make sure it was included in the list of cuts you used to initialize this \n",
       "JaggedSelection.   dsaMuons :  DT + CSC stations &gt;= 2\n",
       "</pre>\n"
      ],
      "text/plain": [
       "Uh oh, haven't evaluated this cut yet! Make sure it was included in the list of cuts you used to initialize this \n",
       "JaggedSelection.   dsaMuons :  DT + CSC stations >= 2\n"
      ]
     },
     "metadata": {},
     "output_type": "display_data"
    },
    {
     "data": {
      "text/html": [
       "<pre style=\"white-space:pre;overflow-x:auto;line-height:normal;font-family:Menlo,'DejaVu Sans Mono',consolas,'Courier New',monospace\">Uh oh, haven't evaluated this cut yet! Make sure it was included in the list of cuts you used to initialize this \n",
       "JaggedSelection.   dsaMuons :  ptErrorOverPT &lt; 1\n",
       "</pre>\n"
      ],
      "text/plain": [
       "Uh oh, haven't evaluated this cut yet! Make sure it was included in the list of cuts you used to initialize this \n",
       "JaggedSelection.   dsaMuons :  ptErrorOverPT < 1\n"
      ]
     },
     "metadata": {},
     "output_type": "display_data"
    },
    {
     "data": {
      "text/html": [
       "<pre style=\"white-space:pre;overflow-x:auto;line-height:normal;font-family:Menlo,'DejaVu Sans Mono',consolas,'Courier New',monospace\">Warning: cannot fill counter Gen As to muons. Skipping.\n",
       "</pre>\n"
      ],
      "text/plain": [
       "Warning: cannot fill counter Gen As to muons. Skipping.\n"
      ]
     },
     "metadata": {},
     "output_type": "display_data"
    },
    {
     "data": {
      "text/html": [
       "<pre style=\"white-space:pre;overflow-x:auto;line-height:normal;font-family:Menlo,'DejaVu Sans Mono',consolas,'Courier New',monospace\">Warning: cannot fill counter Gen As to electrons. Skipping.\n",
       "</pre>\n"
      ],
      "text/plain": [
       "Warning: cannot fill counter Gen As to electrons. Skipping.\n"
      ]
     },
     "metadata": {},
     "output_type": "display_data"
    },
    {
     "data": {
      "text/html": [
       "<pre style=\"white-space:pre;overflow-x:auto;line-height:normal;font-family:Menlo,'DejaVu Sans Mono',consolas,'Courier New',monospace\">Warning: cannot fill counter Matched gen As to muons. Skipping.\n",
       "</pre>\n"
      ],
      "text/plain": [
       "Warning: cannot fill counter Matched gen As to muons. Skipping.\n"
      ]
     },
     "metadata": {},
     "output_type": "display_data"
    },
    {
     "data": {
      "text/html": [
       "<pre style=\"white-space:pre;overflow-x:auto;line-height:normal;font-family:Menlo,'DejaVu Sans Mono',consolas,'Courier New',monospace\">Warning: cannot fill counter Matched gen As to electrons. Skipping.\n",
       "</pre>\n"
      ],
      "text/plain": [
       "Warning: cannot fill counter Matched gen As to electrons. Skipping.\n"
      ]
     },
     "metadata": {},
     "output_type": "display_data"
    },
    {
     "data": {
      "text/html": [
       "<pre style=\"white-space:pre;overflow-x:auto;line-height:normal;font-family:Menlo,'DejaVu Sans Mono',consolas,'Courier New',monospace\">Warning: electrons not found in this sample. Skipping.\n",
       "</pre>\n"
      ],
      "text/plain": [
       "Warning: electrons not found in this sample. Skipping.\n"
      ]
     },
     "metadata": {},
     "output_type": "display_data"
    },
    {
     "data": {
      "text/html": [
       "<pre style=\"white-space:pre;overflow-x:auto;line-height:normal;font-family:Menlo,'DejaVu Sans Mono',consolas,'Courier New',monospace\">Warning: photons not found in this sample. Skipping.\n",
       "</pre>\n"
      ],
      "text/plain": [
       "Warning: photons not found in this sample. Skipping.\n"
      ]
     },
     "metadata": {},
     "output_type": "display_data"
    },
    {
     "data": {
      "text/html": [
       "<pre style=\"white-space:pre;overflow-x:auto;line-height:normal;font-family:Menlo,'DejaVu Sans Mono',consolas,'Courier New',monospace\">Warning: genAs_toMu not found in this sample. Skipping.\n",
       "</pre>\n"
      ],
      "text/plain": [
       "Warning: genAs_toMu not found in this sample. Skipping.\n"
      ]
     },
     "metadata": {},
     "output_type": "display_data"
    },
    {
     "data": {
      "text/html": [
       "<pre style=\"white-space:pre;overflow-x:auto;line-height:normal;font-family:Menlo,'DejaVu Sans Mono',consolas,'Courier New',monospace\">Warning: genAs_toE not found in this sample. Skipping.\n",
       "</pre>\n"
      ],
      "text/plain": [
       "Warning: genAs_toE not found in this sample. Skipping.\n"
      ]
     },
     "metadata": {},
     "output_type": "display_data"
    },
    {
     "data": {
      "text/html": [
       "<pre style=\"white-space:pre;overflow-x:auto;line-height:normal;font-family:Menlo,'DejaVu Sans Mono',consolas,'Courier New',monospace\">Not applying any cuts to the lepton jets for channel  baseNoLj\n",
       "</pre>\n"
      ],
      "text/plain": [
       "Not applying any cuts to the lepton jets for channel  baseNoLj\n"
      ]
     },
     "metadata": {},
     "output_type": "display_data"
    },
    {
     "data": {
      "text/html": [
       "<pre style=\"white-space:pre;overflow-x:auto;line-height:normal;font-family:Menlo,'DejaVu Sans Mono',consolas,'Courier New',monospace\">Warning: electrons not found in sample. The following cuts will not be applied: ['pT &gt; 10 GeV', '|eta| &lt; 2.4', \n",
       "'looseID']\n",
       "</pre>\n"
      ],
      "text/plain": [
       "Warning: electrons not found in sample. The following cuts will not be applied: ['pT > 10 GeV', '|eta| < 2.4', \n",
       "'looseID']\n"
      ]
     },
     "metadata": {},
     "output_type": "display_data"
    },
    {
     "data": {
      "text/html": [
       "<pre style=\"white-space:pre;overflow-x:auto;line-height:normal;font-family:Menlo,'DejaVu Sans Mono',consolas,'Courier New',monospace\">Warning: Unable to apply looseID for muons. Skipping.\n",
       "</pre>\n"
      ],
      "text/plain": [
       "Warning: Unable to apply looseID for muons. Skipping.\n"
      ]
     },
     "metadata": {},
     "output_type": "display_data"
    },
    {
     "data": {
      "text/html": [
       "<pre style=\"white-space:pre;overflow-x:auto;line-height:normal;font-family:Menlo,'DejaVu Sans Mono',consolas,'Courier New',monospace\">Warning: photons not found in sample. The following cuts will not be applied: ['pT &gt; 20 GeV', '|eta| &lt; 2.5', \n",
       "'looseID']\n",
       "</pre>\n"
      ],
      "text/plain": [
       "Warning: photons not found in sample. The following cuts will not be applied: ['pT > 20 GeV', '|eta| < 2.5', \n",
       "'looseID']\n"
      ]
     },
     "metadata": {},
     "output_type": "display_data"
    },
    {
     "data": {
      "text/html": [
       "<pre style=\"white-space:pre;overflow-x:auto;line-height:normal;font-family:Menlo,'DejaVu Sans Mono',consolas,'Courier New',monospace\">Warning: Unable to apply ifcsczero for dsaMuons. Skipping.\n",
       "</pre>\n"
      ],
      "text/plain": [
       "Warning: Unable to apply ifcsczero for dsaMuons. Skipping.\n"
      ]
     },
     "metadata": {},
     "output_type": "display_data"
    },
    {
     "data": {
      "text/html": [
       "<pre style=\"white-space:pre;overflow-x:auto;line-height:normal;font-family:Menlo,'DejaVu Sans Mono',consolas,'Courier New',monospace\">Warning: Unable to apply segOverlap &lt; 0.66 for dsaMuons. Skipping.\n",
       "</pre>\n"
      ],
      "text/plain": [
       "Warning: Unable to apply segOverlap < 0.66 for dsaMuons. Skipping.\n"
      ]
     },
     "metadata": {},
     "output_type": "display_data"
    },
    {
     "data": {
      "text/html": [
       "<pre style=\"white-space:pre;overflow-x:auto;line-height:normal;font-family:Menlo,'DejaVu Sans Mono',consolas,'Courier New',monospace\">Warning: Unable to apply extrapolatedDr &gt; 0.2 for dsaMuons. Skipping.\n",
       "</pre>\n"
      ],
      "text/plain": [
       "Warning: Unable to apply extrapolatedDr > 0.2 for dsaMuons. Skipping.\n"
      ]
     },
     "metadata": {},
     "output_type": "display_data"
    },
    {
     "data": {
      "text/html": [
       "<pre style=\"white-space:pre;overflow-x:auto;line-height:normal;font-family:Menlo,'DejaVu Sans Mono',consolas,'Courier New',monospace\">Warning: Unable to apply isSubsetAnyPFMuon False for dsaMuons. Skipping.\n",
       "</pre>\n"
      ],
      "text/plain": [
       "Warning: Unable to apply isSubsetAnyPFMuon False for dsaMuons. Skipping.\n"
      ]
     },
     "metadata": {},
     "output_type": "display_data"
    },
    {
     "data": {
      "text/html": [
       "<pre style=\"white-space:pre;overflow-x:auto;line-height:normal;font-family:Menlo,'DejaVu Sans Mono',consolas,'Courier New',monospace\">Warning: Unable to apply DT + CSC hits &gt; 12 for dsaMuons. Skipping.\n",
       "</pre>\n"
      ],
      "text/plain": [
       "Warning: Unable to apply DT + CSC hits > 12 for dsaMuons. Skipping.\n"
      ]
     },
     "metadata": {},
     "output_type": "display_data"
    },
    {
     "data": {
      "text/html": [
       "<pre style=\"white-space:pre;overflow-x:auto;line-height:normal;font-family:Menlo,'DejaVu Sans Mono',consolas,'Courier New',monospace\">Warning: Unable to apply DT + CSC stations &gt;= 2 for dsaMuons. Skipping.\n",
       "</pre>\n"
      ],
      "text/plain": [
       "Warning: Unable to apply DT + CSC stations >= 2 for dsaMuons. Skipping.\n"
      ]
     },
     "metadata": {},
     "output_type": "display_data"
    },
    {
     "data": {
      "text/html": [
       "<pre style=\"white-space:pre;overflow-x:auto;line-height:normal;font-family:Menlo,'DejaVu Sans Mono',consolas,'Courier New',monospace\">Warning: Unable to apply ptErrorOverPT &lt; 1 for dsaMuons. Skipping.\n",
       "</pre>\n"
      ],
      "text/plain": [
       "Warning: Unable to apply ptErrorOverPT < 1 for dsaMuons. Skipping.\n"
      ]
     },
     "metadata": {},
     "output_type": "display_data"
    },
    {
     "data": {
      "text/html": [
       "<pre style=\"white-space:pre;overflow-x:auto;line-height:normal;font-family:Menlo,'DejaVu Sans Mono',consolas,'Courier New',monospace\">Warning: electrons not found in sample. The following cuts will not be applied: ['pT &gt; 10 GeV', '|eta| &lt; 2.4', \n",
       "'looseID']\n",
       "</pre>\n"
      ],
      "text/plain": [
       "Warning: electrons not found in sample. The following cuts will not be applied: ['pT > 10 GeV', '|eta| < 2.4', \n",
       "'looseID']\n"
      ]
     },
     "metadata": {},
     "output_type": "display_data"
    },
    {
     "data": {
      "text/html": [
       "<pre style=\"white-space:pre;overflow-x:auto;line-height:normal;font-family:Menlo,'DejaVu Sans Mono',consolas,'Courier New',monospace\">Uh oh, haven't evaluated this cut yet! Make sure it was included in the list of cuts you used to initialize this \n",
       "JaggedSelection.   muons :  looseID\n",
       "</pre>\n"
      ],
      "text/plain": [
       "Uh oh, haven't evaluated this cut yet! Make sure it was included in the list of cuts you used to initialize this \n",
       "JaggedSelection.   muons :  looseID\n"
      ]
     },
     "metadata": {},
     "output_type": "display_data"
    },
    {
     "data": {
      "text/html": [
       "<pre style=\"white-space:pre;overflow-x:auto;line-height:normal;font-family:Menlo,'DejaVu Sans Mono',consolas,'Courier New',monospace\">Warning: photons not found in sample. The following cuts will not be applied: ['pT &gt; 20 GeV', '|eta| &lt; 2.5', \n",
       "'looseID']\n",
       "</pre>\n"
      ],
      "text/plain": [
       "Warning: photons not found in sample. The following cuts will not be applied: ['pT > 20 GeV', '|eta| < 2.5', \n",
       "'looseID']\n"
      ]
     },
     "metadata": {},
     "output_type": "display_data"
    },
    {
     "data": {
      "text/html": [
       "<pre style=\"white-space:pre;overflow-x:auto;line-height:normal;font-family:Menlo,'DejaVu Sans Mono',consolas,'Courier New',monospace\">Uh oh, haven't evaluated this cut yet! Make sure it was included in the list of cuts you used to initialize this \n",
       "JaggedSelection.   dsaMuons :  ifcsczero\n",
       "</pre>\n"
      ],
      "text/plain": [
       "Uh oh, haven't evaluated this cut yet! Make sure it was included in the list of cuts you used to initialize this \n",
       "JaggedSelection.   dsaMuons :  ifcsczero\n"
      ]
     },
     "metadata": {},
     "output_type": "display_data"
    },
    {
     "data": {
      "text/html": [
       "<pre style=\"white-space:pre;overflow-x:auto;line-height:normal;font-family:Menlo,'DejaVu Sans Mono',consolas,'Courier New',monospace\">Uh oh, haven't evaluated this cut yet! Make sure it was included in the list of cuts you used to initialize this \n",
       "JaggedSelection.   dsaMuons :  segOverlap &lt; 0.66\n",
       "</pre>\n"
      ],
      "text/plain": [
       "Uh oh, haven't evaluated this cut yet! Make sure it was included in the list of cuts you used to initialize this \n",
       "JaggedSelection.   dsaMuons :  segOverlap < 0.66\n"
      ]
     },
     "metadata": {},
     "output_type": "display_data"
    },
    {
     "data": {
      "text/html": [
       "<pre style=\"white-space:pre;overflow-x:auto;line-height:normal;font-family:Menlo,'DejaVu Sans Mono',consolas,'Courier New',monospace\">Uh oh, haven't evaluated this cut yet! Make sure it was included in the list of cuts you used to initialize this \n",
       "JaggedSelection.   dsaMuons :  extrapolatedDr &gt; 0.2\n",
       "</pre>\n"
      ],
      "text/plain": [
       "Uh oh, haven't evaluated this cut yet! Make sure it was included in the list of cuts you used to initialize this \n",
       "JaggedSelection.   dsaMuons :  extrapolatedDr > 0.2\n"
      ]
     },
     "metadata": {},
     "output_type": "display_data"
    },
    {
     "data": {
      "text/html": [
       "<pre style=\"white-space:pre;overflow-x:auto;line-height:normal;font-family:Menlo,'DejaVu Sans Mono',consolas,'Courier New',monospace\">Uh oh, haven't evaluated this cut yet! Make sure it was included in the list of cuts you used to initialize this \n",
       "JaggedSelection.   dsaMuons :  isSubsetAnyPFMuon False\n",
       "</pre>\n"
      ],
      "text/plain": [
       "Uh oh, haven't evaluated this cut yet! Make sure it was included in the list of cuts you used to initialize this \n",
       "JaggedSelection.   dsaMuons :  isSubsetAnyPFMuon False\n"
      ]
     },
     "metadata": {},
     "output_type": "display_data"
    },
    {
     "data": {
      "text/html": [
       "<pre style=\"white-space:pre;overflow-x:auto;line-height:normal;font-family:Menlo,'DejaVu Sans Mono',consolas,'Courier New',monospace\">Uh oh, haven't evaluated this cut yet! Make sure it was included in the list of cuts you used to initialize this \n",
       "JaggedSelection.   dsaMuons :  DT + CSC hits &gt; 12\n",
       "</pre>\n"
      ],
      "text/plain": [
       "Uh oh, haven't evaluated this cut yet! Make sure it was included in the list of cuts you used to initialize this \n",
       "JaggedSelection.   dsaMuons :  DT + CSC hits > 12\n"
      ]
     },
     "metadata": {},
     "output_type": "display_data"
    },
    {
     "data": {
      "text/html": [
       "<pre style=\"white-space:pre;overflow-x:auto;line-height:normal;font-family:Menlo,'DejaVu Sans Mono',consolas,'Courier New',monospace\">Uh oh, haven't evaluated this cut yet! Make sure it was included in the list of cuts you used to initialize this \n",
       "JaggedSelection.   dsaMuons :  DT + CSC stations &gt;= 2\n",
       "</pre>\n"
      ],
      "text/plain": [
       "Uh oh, haven't evaluated this cut yet! Make sure it was included in the list of cuts you used to initialize this \n",
       "JaggedSelection.   dsaMuons :  DT + CSC stations >= 2\n"
      ]
     },
     "metadata": {},
     "output_type": "display_data"
    },
    {
     "data": {
      "text/html": [
       "<pre style=\"white-space:pre;overflow-x:auto;line-height:normal;font-family:Menlo,'DejaVu Sans Mono',consolas,'Courier New',monospace\">Uh oh, haven't evaluated this cut yet! Make sure it was included in the list of cuts you used to initialize this \n",
       "JaggedSelection.   dsaMuons :  ptErrorOverPT &lt; 1\n",
       "</pre>\n"
      ],
      "text/plain": [
       "Uh oh, haven't evaluated this cut yet! Make sure it was included in the list of cuts you used to initialize this \n",
       "JaggedSelection.   dsaMuons :  ptErrorOverPT < 1\n"
      ]
     },
     "metadata": {},
     "output_type": "display_data"
    },
    {
     "data": {
      "text/html": [
       "<pre style=\"white-space:pre;overflow-x:auto;line-height:normal;font-family:Menlo,'DejaVu Sans Mono',consolas,'Courier New',monospace\">Warning: cannot fill counter Gen As to muons. Skipping.\n",
       "</pre>\n"
      ],
      "text/plain": [
       "Warning: cannot fill counter Gen As to muons. Skipping.\n"
      ]
     },
     "metadata": {},
     "output_type": "display_data"
    },
    {
     "data": {
      "text/html": [
       "<pre style=\"white-space:pre;overflow-x:auto;line-height:normal;font-family:Menlo,'DejaVu Sans Mono',consolas,'Courier New',monospace\">Warning: cannot fill counter Gen As to electrons. Skipping.\n",
       "</pre>\n"
      ],
      "text/plain": [
       "Warning: cannot fill counter Gen As to electrons. Skipping.\n"
      ]
     },
     "metadata": {},
     "output_type": "display_data"
    },
    {
     "data": {
      "text/html": [
       "<pre style=\"white-space:pre;overflow-x:auto;line-height:normal;font-family:Menlo,'DejaVu Sans Mono',consolas,'Courier New',monospace\">Warning: cannot fill counter Matched gen As to muons. Skipping.\n",
       "</pre>\n"
      ],
      "text/plain": [
       "Warning: cannot fill counter Matched gen As to muons. Skipping.\n"
      ]
     },
     "metadata": {},
     "output_type": "display_data"
    },
    {
     "data": {
      "text/html": [
       "<pre style=\"white-space:pre;overflow-x:auto;line-height:normal;font-family:Menlo,'DejaVu Sans Mono',consolas,'Courier New',monospace\">Warning: cannot fill counter Matched gen As to electrons. Skipping.\n",
       "</pre>\n"
      ],
      "text/plain": [
       "Warning: cannot fill counter Matched gen As to electrons. Skipping.\n"
      ]
     },
     "metadata": {},
     "output_type": "display_data"
    },
    {
     "data": {
      "text/html": [
       "<pre style=\"white-space:pre;overflow-x:auto;line-height:normal;font-family:Menlo,'DejaVu Sans Mono',consolas,'Courier New',monospace\">Warning: electrons not found in sample. The following cuts will not be applied: ['pT &gt; 10 GeV', '|eta| &lt; 2.4', \n",
       "'looseID']\n",
       "</pre>\n"
      ],
      "text/plain": [
       "Warning: electrons not found in sample. The following cuts will not be applied: ['pT > 10 GeV', '|eta| < 2.4', \n",
       "'looseID']\n"
      ]
     },
     "metadata": {},
     "output_type": "display_data"
    },
    {
     "data": {
      "text/html": [
       "<pre style=\"white-space:pre;overflow-x:auto;line-height:normal;font-family:Menlo,'DejaVu Sans Mono',consolas,'Courier New',monospace\">Uh oh, haven't evaluated this cut yet! Make sure it was included in the list of cuts you used to initialize this \n",
       "JaggedSelection.   muons :  looseID\n",
       "</pre>\n"
      ],
      "text/plain": [
       "Uh oh, haven't evaluated this cut yet! Make sure it was included in the list of cuts you used to initialize this \n",
       "JaggedSelection.   muons :  looseID\n"
      ]
     },
     "metadata": {},
     "output_type": "display_data"
    },
    {
     "data": {
      "text/html": [
       "<pre style=\"white-space:pre;overflow-x:auto;line-height:normal;font-family:Menlo,'DejaVu Sans Mono',consolas,'Courier New',monospace\">Warning: photons not found in sample. The following cuts will not be applied: ['pT &gt; 20 GeV', '|eta| &lt; 2.5', \n",
       "'looseID']\n",
       "</pre>\n"
      ],
      "text/plain": [
       "Warning: photons not found in sample. The following cuts will not be applied: ['pT > 20 GeV', '|eta| < 2.5', \n",
       "'looseID']\n"
      ]
     },
     "metadata": {},
     "output_type": "display_data"
    },
    {
     "data": {
      "text/html": [
       "<pre style=\"white-space:pre;overflow-x:auto;line-height:normal;font-family:Menlo,'DejaVu Sans Mono',consolas,'Courier New',monospace\">Uh oh, haven't evaluated this cut yet! Make sure it was included in the list of cuts you used to initialize this \n",
       "JaggedSelection.   dsaMuons :  ifcsczero\n",
       "</pre>\n"
      ],
      "text/plain": [
       "Uh oh, haven't evaluated this cut yet! Make sure it was included in the list of cuts you used to initialize this \n",
       "JaggedSelection.   dsaMuons :  ifcsczero\n"
      ]
     },
     "metadata": {},
     "output_type": "display_data"
    },
    {
     "data": {
      "text/html": [
       "<pre style=\"white-space:pre;overflow-x:auto;line-height:normal;font-family:Menlo,'DejaVu Sans Mono',consolas,'Courier New',monospace\">Uh oh, haven't evaluated this cut yet! Make sure it was included in the list of cuts you used to initialize this \n",
       "JaggedSelection.   dsaMuons :  segOverlap &lt; 0.66\n",
       "</pre>\n"
      ],
      "text/plain": [
       "Uh oh, haven't evaluated this cut yet! Make sure it was included in the list of cuts you used to initialize this \n",
       "JaggedSelection.   dsaMuons :  segOverlap < 0.66\n"
      ]
     },
     "metadata": {},
     "output_type": "display_data"
    },
    {
     "data": {
      "text/html": [
       "<pre style=\"white-space:pre;overflow-x:auto;line-height:normal;font-family:Menlo,'DejaVu Sans Mono',consolas,'Courier New',monospace\">Uh oh, haven't evaluated this cut yet! Make sure it was included in the list of cuts you used to initialize this \n",
       "JaggedSelection.   dsaMuons :  extrapolatedDr &gt; 0.2\n",
       "</pre>\n"
      ],
      "text/plain": [
       "Uh oh, haven't evaluated this cut yet! Make sure it was included in the list of cuts you used to initialize this \n",
       "JaggedSelection.   dsaMuons :  extrapolatedDr > 0.2\n"
      ]
     },
     "metadata": {},
     "output_type": "display_data"
    },
    {
     "data": {
      "text/html": [
       "<pre style=\"white-space:pre;overflow-x:auto;line-height:normal;font-family:Menlo,'DejaVu Sans Mono',consolas,'Courier New',monospace\">Uh oh, haven't evaluated this cut yet! Make sure it was included in the list of cuts you used to initialize this \n",
       "JaggedSelection.   dsaMuons :  isSubsetAnyPFMuon False\n",
       "</pre>\n"
      ],
      "text/plain": [
       "Uh oh, haven't evaluated this cut yet! Make sure it was included in the list of cuts you used to initialize this \n",
       "JaggedSelection.   dsaMuons :  isSubsetAnyPFMuon False\n"
      ]
     },
     "metadata": {},
     "output_type": "display_data"
    },
    {
     "data": {
      "text/html": [
       "<pre style=\"white-space:pre;overflow-x:auto;line-height:normal;font-family:Menlo,'DejaVu Sans Mono',consolas,'Courier New',monospace\">Uh oh, haven't evaluated this cut yet! Make sure it was included in the list of cuts you used to initialize this \n",
       "JaggedSelection.   dsaMuons :  DT + CSC hits &gt; 12\n",
       "</pre>\n"
      ],
      "text/plain": [
       "Uh oh, haven't evaluated this cut yet! Make sure it was included in the list of cuts you used to initialize this \n",
       "JaggedSelection.   dsaMuons :  DT + CSC hits > 12\n"
      ]
     },
     "metadata": {},
     "output_type": "display_data"
    },
    {
     "data": {
      "text/html": [
       "<pre style=\"white-space:pre;overflow-x:auto;line-height:normal;font-family:Menlo,'DejaVu Sans Mono',consolas,'Courier New',monospace\">Uh oh, haven't evaluated this cut yet! Make sure it was included in the list of cuts you used to initialize this \n",
       "JaggedSelection.   dsaMuons :  DT + CSC stations &gt;= 2\n",
       "</pre>\n"
      ],
      "text/plain": [
       "Uh oh, haven't evaluated this cut yet! Make sure it was included in the list of cuts you used to initialize this \n",
       "JaggedSelection.   dsaMuons :  DT + CSC stations >= 2\n"
      ]
     },
     "metadata": {},
     "output_type": "display_data"
    },
    {
     "data": {
      "text/html": [
       "<pre style=\"white-space:pre;overflow-x:auto;line-height:normal;font-family:Menlo,'DejaVu Sans Mono',consolas,'Courier New',monospace\">Uh oh, haven't evaluated this cut yet! Make sure it was included in the list of cuts you used to initialize this \n",
       "JaggedSelection.   dsaMuons :  ptErrorOverPT &lt; 1\n",
       "</pre>\n"
      ],
      "text/plain": [
       "Uh oh, haven't evaluated this cut yet! Make sure it was included in the list of cuts you used to initialize this \n",
       "JaggedSelection.   dsaMuons :  ptErrorOverPT < 1\n"
      ]
     },
     "metadata": {},
     "output_type": "display_data"
    },
    {
     "data": {
      "text/html": [
       "<pre style=\"white-space:pre;overflow-x:auto;line-height:normal;font-family:Menlo,'DejaVu Sans Mono',consolas,'Courier New',monospace\">Warning: cannot fill counter Gen As to muons. Skipping.\n",
       "</pre>\n"
      ],
      "text/plain": [
       "Warning: cannot fill counter Gen As to muons. Skipping.\n"
      ]
     },
     "metadata": {},
     "output_type": "display_data"
    },
    {
     "data": {
      "text/html": [
       "<pre style=\"white-space:pre;overflow-x:auto;line-height:normal;font-family:Menlo,'DejaVu Sans Mono',consolas,'Courier New',monospace\">Warning: cannot fill counter Gen As to electrons. Skipping.\n",
       "</pre>\n"
      ],
      "text/plain": [
       "Warning: cannot fill counter Gen As to electrons. Skipping.\n"
      ]
     },
     "metadata": {},
     "output_type": "display_data"
    },
    {
     "data": {
      "text/html": [
       "<pre style=\"white-space:pre;overflow-x:auto;line-height:normal;font-family:Menlo,'DejaVu Sans Mono',consolas,'Courier New',monospace\">Warning: cannot fill counter Matched gen As to muons. Skipping.\n",
       "</pre>\n"
      ],
      "text/plain": [
       "Warning: cannot fill counter Matched gen As to muons. Skipping.\n"
      ]
     },
     "metadata": {},
     "output_type": "display_data"
    },
    {
     "data": {
      "text/html": [
       "<pre style=\"white-space:pre;overflow-x:auto;line-height:normal;font-family:Menlo,'DejaVu Sans Mono',consolas,'Courier New',monospace\">Warning: cannot fill counter Matched gen As to electrons. Skipping.\n",
       "</pre>\n"
      ],
      "text/plain": [
       "Warning: cannot fill counter Matched gen As to electrons. Skipping.\n"
      ]
     },
     "metadata": {},
     "output_type": "display_data"
    },
    {
     "data": {
      "text/html": [
       "<pre style=\"white-space:pre;overflow-x:auto;line-height:normal;font-family:Menlo,'DejaVu Sans Mono',consolas,'Courier New',monospace\">Warning: electrons not found in sample. The following cuts will not be applied: ['pT &gt; 10 GeV', '|eta| &lt; 2.4', \n",
       "'looseID']\n",
       "</pre>\n"
      ],
      "text/plain": [
       "Warning: electrons not found in sample. The following cuts will not be applied: ['pT > 10 GeV', '|eta| < 2.4', \n",
       "'looseID']\n"
      ]
     },
     "metadata": {},
     "output_type": "display_data"
    },
    {
     "data": {
      "text/html": [
       "<pre style=\"white-space:pre;overflow-x:auto;line-height:normal;font-family:Menlo,'DejaVu Sans Mono',consolas,'Courier New',monospace\">Uh oh, haven't evaluated this cut yet! Make sure it was included in the list of cuts you used to initialize this \n",
       "JaggedSelection.   muons :  looseID\n",
       "</pre>\n"
      ],
      "text/plain": [
       "Uh oh, haven't evaluated this cut yet! Make sure it was included in the list of cuts you used to initialize this \n",
       "JaggedSelection.   muons :  looseID\n"
      ]
     },
     "metadata": {},
     "output_type": "display_data"
    },
    {
     "data": {
      "text/html": [
       "<pre style=\"white-space:pre;overflow-x:auto;line-height:normal;font-family:Menlo,'DejaVu Sans Mono',consolas,'Courier New',monospace\">Warning: photons not found in sample. The following cuts will not be applied: ['pT &gt; 20 GeV', '|eta| &lt; 2.5', \n",
       "'looseID']\n",
       "</pre>\n"
      ],
      "text/plain": [
       "Warning: photons not found in sample. The following cuts will not be applied: ['pT > 20 GeV', '|eta| < 2.5', \n",
       "'looseID']\n"
      ]
     },
     "metadata": {},
     "output_type": "display_data"
    },
    {
     "data": {
      "text/html": [
       "<pre style=\"white-space:pre;overflow-x:auto;line-height:normal;font-family:Menlo,'DejaVu Sans Mono',consolas,'Courier New',monospace\">Uh oh, haven't evaluated this cut yet! Make sure it was included in the list of cuts you used to initialize this \n",
       "JaggedSelection.   dsaMuons :  ifcsczero\n",
       "</pre>\n"
      ],
      "text/plain": [
       "Uh oh, haven't evaluated this cut yet! Make sure it was included in the list of cuts you used to initialize this \n",
       "JaggedSelection.   dsaMuons :  ifcsczero\n"
      ]
     },
     "metadata": {},
     "output_type": "display_data"
    },
    {
     "data": {
      "text/html": [
       "<pre style=\"white-space:pre;overflow-x:auto;line-height:normal;font-family:Menlo,'DejaVu Sans Mono',consolas,'Courier New',monospace\">Uh oh, haven't evaluated this cut yet! Make sure it was included in the list of cuts you used to initialize this \n",
       "JaggedSelection.   dsaMuons :  segOverlap &lt; 0.66\n",
       "</pre>\n"
      ],
      "text/plain": [
       "Uh oh, haven't evaluated this cut yet! Make sure it was included in the list of cuts you used to initialize this \n",
       "JaggedSelection.   dsaMuons :  segOverlap < 0.66\n"
      ]
     },
     "metadata": {},
     "output_type": "display_data"
    },
    {
     "data": {
      "text/html": [
       "<pre style=\"white-space:pre;overflow-x:auto;line-height:normal;font-family:Menlo,'DejaVu Sans Mono',consolas,'Courier New',monospace\">Uh oh, haven't evaluated this cut yet! Make sure it was included in the list of cuts you used to initialize this \n",
       "JaggedSelection.   dsaMuons :  extrapolatedDr &gt; 0.2\n",
       "</pre>\n"
      ],
      "text/plain": [
       "Uh oh, haven't evaluated this cut yet! Make sure it was included in the list of cuts you used to initialize this \n",
       "JaggedSelection.   dsaMuons :  extrapolatedDr > 0.2\n"
      ]
     },
     "metadata": {},
     "output_type": "display_data"
    },
    {
     "data": {
      "text/html": [
       "<pre style=\"white-space:pre;overflow-x:auto;line-height:normal;font-family:Menlo,'DejaVu Sans Mono',consolas,'Courier New',monospace\">Uh oh, haven't evaluated this cut yet! Make sure it was included in the list of cuts you used to initialize this \n",
       "JaggedSelection.   dsaMuons :  isSubsetAnyPFMuon False\n",
       "</pre>\n"
      ],
      "text/plain": [
       "Uh oh, haven't evaluated this cut yet! Make sure it was included in the list of cuts you used to initialize this \n",
       "JaggedSelection.   dsaMuons :  isSubsetAnyPFMuon False\n"
      ]
     },
     "metadata": {},
     "output_type": "display_data"
    },
    {
     "data": {
      "text/html": [
       "<pre style=\"white-space:pre;overflow-x:auto;line-height:normal;font-family:Menlo,'DejaVu Sans Mono',consolas,'Courier New',monospace\">Uh oh, haven't evaluated this cut yet! Make sure it was included in the list of cuts you used to initialize this \n",
       "JaggedSelection.   dsaMuons :  DT + CSC hits &gt; 12\n",
       "</pre>\n"
      ],
      "text/plain": [
       "Uh oh, haven't evaluated this cut yet! Make sure it was included in the list of cuts you used to initialize this \n",
       "JaggedSelection.   dsaMuons :  DT + CSC hits > 12\n"
      ]
     },
     "metadata": {},
     "output_type": "display_data"
    },
    {
     "data": {
      "text/html": [
       "<pre style=\"white-space:pre;overflow-x:auto;line-height:normal;font-family:Menlo,'DejaVu Sans Mono',consolas,'Courier New',monospace\">Uh oh, haven't evaluated this cut yet! Make sure it was included in the list of cuts you used to initialize this \n",
       "JaggedSelection.   dsaMuons :  DT + CSC stations &gt;= 2\n",
       "</pre>\n"
      ],
      "text/plain": [
       "Uh oh, haven't evaluated this cut yet! Make sure it was included in the list of cuts you used to initialize this \n",
       "JaggedSelection.   dsaMuons :  DT + CSC stations >= 2\n"
      ]
     },
     "metadata": {},
     "output_type": "display_data"
    },
    {
     "data": {
      "text/html": [
       "<pre style=\"white-space:pre;overflow-x:auto;line-height:normal;font-family:Menlo,'DejaVu Sans Mono',consolas,'Courier New',monospace\">Uh oh, haven't evaluated this cut yet! Make sure it was included in the list of cuts you used to initialize this \n",
       "JaggedSelection.   dsaMuons :  ptErrorOverPT &lt; 1\n",
       "</pre>\n"
      ],
      "text/plain": [
       "Uh oh, haven't evaluated this cut yet! Make sure it was included in the list of cuts you used to initialize this \n",
       "JaggedSelection.   dsaMuons :  ptErrorOverPT < 1\n"
      ]
     },
     "metadata": {},
     "output_type": "display_data"
    },
    {
     "data": {
      "text/html": [
       "<pre style=\"white-space:pre;overflow-x:auto;line-height:normal;font-family:Menlo,'DejaVu Sans Mono',consolas,'Courier New',monospace\">Warning: cannot fill counter Gen As to muons. Skipping.\n",
       "</pre>\n"
      ],
      "text/plain": [
       "Warning: cannot fill counter Gen As to muons. Skipping.\n"
      ]
     },
     "metadata": {},
     "output_type": "display_data"
    },
    {
     "data": {
      "text/html": [
       "<pre style=\"white-space:pre;overflow-x:auto;line-height:normal;font-family:Menlo,'DejaVu Sans Mono',consolas,'Courier New',monospace\">Warning: cannot fill counter Gen As to electrons. Skipping.\n",
       "</pre>\n"
      ],
      "text/plain": [
       "Warning: cannot fill counter Gen As to electrons. Skipping.\n"
      ]
     },
     "metadata": {},
     "output_type": "display_data"
    },
    {
     "data": {
      "text/html": [
       "<pre style=\"white-space:pre;overflow-x:auto;line-height:normal;font-family:Menlo,'DejaVu Sans Mono',consolas,'Courier New',monospace\">Warning: cannot fill counter Matched gen As to muons. Skipping.\n",
       "</pre>\n"
      ],
      "text/plain": [
       "Warning: cannot fill counter Matched gen As to muons. Skipping.\n"
      ]
     },
     "metadata": {},
     "output_type": "display_data"
    },
    {
     "data": {
      "text/html": [
       "<pre style=\"white-space:pre;overflow-x:auto;line-height:normal;font-family:Menlo,'DejaVu Sans Mono',consolas,'Courier New',monospace\">Warning: cannot fill counter Matched gen As to electrons. Skipping.\n",
       "</pre>\n"
      ],
      "text/plain": [
       "Warning: cannot fill counter Matched gen As to electrons. Skipping.\n"
      ]
     },
     "metadata": {},
     "output_type": "display_data"
    },
    {
     "data": {
      "text/html": [
       "<pre style=\"white-space:pre;overflow-x:auto;line-height:normal;font-family:Menlo,'DejaVu Sans Mono',consolas,'Courier New',monospace\">Warning: electrons not found in this sample. Skipping.\n",
       "</pre>\n"
      ],
      "text/plain": [
       "Warning: electrons not found in this sample. Skipping.\n"
      ]
     },
     "metadata": {},
     "output_type": "display_data"
    },
    {
     "data": {
      "text/html": [
       "<pre style=\"white-space:pre;overflow-x:auto;line-height:normal;font-family:Menlo,'DejaVu Sans Mono',consolas,'Courier New',monospace\">Warning: photons not found in this sample. Skipping.\n",
       "</pre>\n"
      ],
      "text/plain": [
       "Warning: photons not found in this sample. Skipping.\n"
      ]
     },
     "metadata": {},
     "output_type": "display_data"
    },
    {
     "data": {
      "text/html": [
       "<pre style=\"white-space:pre;overflow-x:auto;line-height:normal;font-family:Menlo,'DejaVu Sans Mono',consolas,'Courier New',monospace\">Warning: genAs_toMu not found in this sample. Skipping.\n",
       "</pre>\n"
      ],
      "text/plain": [
       "Warning: genAs_toMu not found in this sample. Skipping.\n"
      ]
     },
     "metadata": {},
     "output_type": "display_data"
    },
    {
     "data": {
      "text/html": [
       "<pre style=\"white-space:pre;overflow-x:auto;line-height:normal;font-family:Menlo,'DejaVu Sans Mono',consolas,'Courier New',monospace\">Warning: genAs_toE not found in this sample. Skipping.\n",
       "</pre>\n"
      ],
      "text/plain": [
       "Warning: genAs_toE not found in this sample. Skipping.\n"
      ]
     },
     "metadata": {},
     "output_type": "display_data"
    },
    {
     "data": {
      "text/html": [
       "<pre style=\"white-space:pre;overflow-x:auto;line-height:normal;font-family:Menlo,'DejaVu Sans Mono',consolas,'Courier New',monospace\">Not applying any cuts to the lepton jets for channel  baseNoLj\n",
       "</pre>\n"
      ],
      "text/plain": [
       "Not applying any cuts to the lepton jets for channel  baseNoLj\n"
      ]
     },
     "metadata": {},
     "output_type": "display_data"
    },
    {
     "data": {
      "text/html": [
       "<pre style=\"white-space:pre;overflow-x:auto;line-height:normal;font-family:Menlo,'DejaVu Sans Mono',consolas,'Courier New',monospace\">Warning: electrons not found in sample. The following cuts will not be applied: ['pT &gt; 10 GeV', '|eta| &lt; 2.4', \n",
       "'looseID']\n",
       "</pre>\n"
      ],
      "text/plain": [
       "Warning: electrons not found in sample. The following cuts will not be applied: ['pT > 10 GeV', '|eta| < 2.4', \n",
       "'looseID']\n"
      ]
     },
     "metadata": {},
     "output_type": "display_data"
    },
    {
     "data": {
      "text/html": [
       "<pre style=\"white-space:pre;overflow-x:auto;line-height:normal;font-family:Menlo,'DejaVu Sans Mono',consolas,'Courier New',monospace\">Warning: Unable to apply looseID for muons. Skipping.\n",
       "</pre>\n"
      ],
      "text/plain": [
       "Warning: Unable to apply looseID for muons. Skipping.\n"
      ]
     },
     "metadata": {},
     "output_type": "display_data"
    },
    {
     "data": {
      "text/html": [
       "<pre style=\"white-space:pre;overflow-x:auto;line-height:normal;font-family:Menlo,'DejaVu Sans Mono',consolas,'Courier New',monospace\">Warning: photons not found in sample. The following cuts will not be applied: ['pT &gt; 20 GeV', '|eta| &lt; 2.5', \n",
       "'looseID']\n",
       "</pre>\n"
      ],
      "text/plain": [
       "Warning: photons not found in sample. The following cuts will not be applied: ['pT > 20 GeV', '|eta| < 2.5', \n",
       "'looseID']\n"
      ]
     },
     "metadata": {},
     "output_type": "display_data"
    },
    {
     "data": {
      "text/html": [
       "<pre style=\"white-space:pre;overflow-x:auto;line-height:normal;font-family:Menlo,'DejaVu Sans Mono',consolas,'Courier New',monospace\">Warning: Unable to apply ifcsczero for dsaMuons. Skipping.\n",
       "</pre>\n"
      ],
      "text/plain": [
       "Warning: Unable to apply ifcsczero for dsaMuons. Skipping.\n"
      ]
     },
     "metadata": {},
     "output_type": "display_data"
    },
    {
     "data": {
      "text/html": [
       "<pre style=\"white-space:pre;overflow-x:auto;line-height:normal;font-family:Menlo,'DejaVu Sans Mono',consolas,'Courier New',monospace\">Warning: Unable to apply segOverlap &lt; 0.66 for dsaMuons. Skipping.\n",
       "</pre>\n"
      ],
      "text/plain": [
       "Warning: Unable to apply segOverlap < 0.66 for dsaMuons. Skipping.\n"
      ]
     },
     "metadata": {},
     "output_type": "display_data"
    },
    {
     "data": {
      "text/html": [
       "<pre style=\"white-space:pre;overflow-x:auto;line-height:normal;font-family:Menlo,'DejaVu Sans Mono',consolas,'Courier New',monospace\">Warning: Unable to apply extrapolatedDr &gt; 0.2 for dsaMuons. Skipping.\n",
       "</pre>\n"
      ],
      "text/plain": [
       "Warning: Unable to apply extrapolatedDr > 0.2 for dsaMuons. Skipping.\n"
      ]
     },
     "metadata": {},
     "output_type": "display_data"
    },
    {
     "data": {
      "text/html": [
       "<pre style=\"white-space:pre;overflow-x:auto;line-height:normal;font-family:Menlo,'DejaVu Sans Mono',consolas,'Courier New',monospace\">Warning: Unable to apply isSubsetAnyPFMuon False for dsaMuons. Skipping.\n",
       "</pre>\n"
      ],
      "text/plain": [
       "Warning: Unable to apply isSubsetAnyPFMuon False for dsaMuons. Skipping.\n"
      ]
     },
     "metadata": {},
     "output_type": "display_data"
    },
    {
     "data": {
      "text/html": [
       "<pre style=\"white-space:pre;overflow-x:auto;line-height:normal;font-family:Menlo,'DejaVu Sans Mono',consolas,'Courier New',monospace\">Warning: Unable to apply DT + CSC hits &gt; 12 for dsaMuons. Skipping.\n",
       "</pre>\n"
      ],
      "text/plain": [
       "Warning: Unable to apply DT + CSC hits > 12 for dsaMuons. Skipping.\n"
      ]
     },
     "metadata": {},
     "output_type": "display_data"
    },
    {
     "data": {
      "text/html": [
       "<pre style=\"white-space:pre;overflow-x:auto;line-height:normal;font-family:Menlo,'DejaVu Sans Mono',consolas,'Courier New',monospace\">Warning: Unable to apply DT + CSC stations &gt;= 2 for dsaMuons. Skipping.\n",
       "</pre>\n"
      ],
      "text/plain": [
       "Warning: Unable to apply DT + CSC stations >= 2 for dsaMuons. Skipping.\n"
      ]
     },
     "metadata": {},
     "output_type": "display_data"
    },
    {
     "data": {
      "text/html": [
       "<pre style=\"white-space:pre;overflow-x:auto;line-height:normal;font-family:Menlo,'DejaVu Sans Mono',consolas,'Courier New',monospace\">Warning: Unable to apply ptErrorOverPT &lt; 1 for dsaMuons. Skipping.\n",
       "</pre>\n"
      ],
      "text/plain": [
       "Warning: Unable to apply ptErrorOverPT < 1 for dsaMuons. Skipping.\n"
      ]
     },
     "metadata": {},
     "output_type": "display_data"
    },
    {
     "data": {
      "text/html": [
       "<pre style=\"white-space:pre;overflow-x:auto;line-height:normal;font-family:Menlo,'DejaVu Sans Mono',consolas,'Courier New',monospace\">Warning: electrons not found in sample. The following cuts will not be applied: ['pT &gt; 10 GeV', '|eta| &lt; 2.4', \n",
       "'looseID']\n",
       "</pre>\n"
      ],
      "text/plain": [
       "Warning: electrons not found in sample. The following cuts will not be applied: ['pT > 10 GeV', '|eta| < 2.4', \n",
       "'looseID']\n"
      ]
     },
     "metadata": {},
     "output_type": "display_data"
    },
    {
     "data": {
      "text/html": [
       "<pre style=\"white-space:pre;overflow-x:auto;line-height:normal;font-family:Menlo,'DejaVu Sans Mono',consolas,'Courier New',monospace\">Uh oh, haven't evaluated this cut yet! Make sure it was included in the list of cuts you used to initialize this \n",
       "JaggedSelection.   muons :  looseID\n",
       "</pre>\n"
      ],
      "text/plain": [
       "Uh oh, haven't evaluated this cut yet! Make sure it was included in the list of cuts you used to initialize this \n",
       "JaggedSelection.   muons :  looseID\n"
      ]
     },
     "metadata": {},
     "output_type": "display_data"
    },
    {
     "data": {
      "text/html": [
       "<pre style=\"white-space:pre;overflow-x:auto;line-height:normal;font-family:Menlo,'DejaVu Sans Mono',consolas,'Courier New',monospace\">Warning: photons not found in sample. The following cuts will not be applied: ['pT &gt; 20 GeV', '|eta| &lt; 2.5', \n",
       "'looseID']\n",
       "</pre>\n"
      ],
      "text/plain": [
       "Warning: photons not found in sample. The following cuts will not be applied: ['pT > 20 GeV', '|eta| < 2.5', \n",
       "'looseID']\n"
      ]
     },
     "metadata": {},
     "output_type": "display_data"
    },
    {
     "data": {
      "text/html": [
       "<pre style=\"white-space:pre;overflow-x:auto;line-height:normal;font-family:Menlo,'DejaVu Sans Mono',consolas,'Courier New',monospace\">Uh oh, haven't evaluated this cut yet! Make sure it was included in the list of cuts you used to initialize this \n",
       "JaggedSelection.   dsaMuons :  ifcsczero\n",
       "</pre>\n"
      ],
      "text/plain": [
       "Uh oh, haven't evaluated this cut yet! Make sure it was included in the list of cuts you used to initialize this \n",
       "JaggedSelection.   dsaMuons :  ifcsczero\n"
      ]
     },
     "metadata": {},
     "output_type": "display_data"
    },
    {
     "data": {
      "text/html": [
       "<pre style=\"white-space:pre;overflow-x:auto;line-height:normal;font-family:Menlo,'DejaVu Sans Mono',consolas,'Courier New',monospace\">Uh oh, haven't evaluated this cut yet! Make sure it was included in the list of cuts you used to initialize this \n",
       "JaggedSelection.   dsaMuons :  segOverlap &lt; 0.66\n",
       "</pre>\n"
      ],
      "text/plain": [
       "Uh oh, haven't evaluated this cut yet! Make sure it was included in the list of cuts you used to initialize this \n",
       "JaggedSelection.   dsaMuons :  segOverlap < 0.66\n"
      ]
     },
     "metadata": {},
     "output_type": "display_data"
    },
    {
     "data": {
      "text/html": [
       "<pre style=\"white-space:pre;overflow-x:auto;line-height:normal;font-family:Menlo,'DejaVu Sans Mono',consolas,'Courier New',monospace\">Uh oh, haven't evaluated this cut yet! Make sure it was included in the list of cuts you used to initialize this \n",
       "JaggedSelection.   dsaMuons :  extrapolatedDr &gt; 0.2\n",
       "</pre>\n"
      ],
      "text/plain": [
       "Uh oh, haven't evaluated this cut yet! Make sure it was included in the list of cuts you used to initialize this \n",
       "JaggedSelection.   dsaMuons :  extrapolatedDr > 0.2\n"
      ]
     },
     "metadata": {},
     "output_type": "display_data"
    },
    {
     "data": {
      "text/html": [
       "<pre style=\"white-space:pre;overflow-x:auto;line-height:normal;font-family:Menlo,'DejaVu Sans Mono',consolas,'Courier New',monospace\">Uh oh, haven't evaluated this cut yet! Make sure it was included in the list of cuts you used to initialize this \n",
       "JaggedSelection.   dsaMuons :  isSubsetAnyPFMuon False\n",
       "</pre>\n"
      ],
      "text/plain": [
       "Uh oh, haven't evaluated this cut yet! Make sure it was included in the list of cuts you used to initialize this \n",
       "JaggedSelection.   dsaMuons :  isSubsetAnyPFMuon False\n"
      ]
     },
     "metadata": {},
     "output_type": "display_data"
    },
    {
     "data": {
      "text/html": [
       "<pre style=\"white-space:pre;overflow-x:auto;line-height:normal;font-family:Menlo,'DejaVu Sans Mono',consolas,'Courier New',monospace\">Uh oh, haven't evaluated this cut yet! Make sure it was included in the list of cuts you used to initialize this \n",
       "JaggedSelection.   dsaMuons :  DT + CSC hits &gt; 12\n",
       "</pre>\n"
      ],
      "text/plain": [
       "Uh oh, haven't evaluated this cut yet! Make sure it was included in the list of cuts you used to initialize this \n",
       "JaggedSelection.   dsaMuons :  DT + CSC hits > 12\n"
      ]
     },
     "metadata": {},
     "output_type": "display_data"
    },
    {
     "data": {
      "text/html": [
       "<pre style=\"white-space:pre;overflow-x:auto;line-height:normal;font-family:Menlo,'DejaVu Sans Mono',consolas,'Courier New',monospace\">Uh oh, haven't evaluated this cut yet! Make sure it was included in the list of cuts you used to initialize this \n",
       "JaggedSelection.   dsaMuons :  DT + CSC stations &gt;= 2\n",
       "</pre>\n"
      ],
      "text/plain": [
       "Uh oh, haven't evaluated this cut yet! Make sure it was included in the list of cuts you used to initialize this \n",
       "JaggedSelection.   dsaMuons :  DT + CSC stations >= 2\n"
      ]
     },
     "metadata": {},
     "output_type": "display_data"
    },
    {
     "data": {
      "text/html": [
       "<pre style=\"white-space:pre;overflow-x:auto;line-height:normal;font-family:Menlo,'DejaVu Sans Mono',consolas,'Courier New',monospace\">Uh oh, haven't evaluated this cut yet! Make sure it was included in the list of cuts you used to initialize this \n",
       "JaggedSelection.   dsaMuons :  ptErrorOverPT &lt; 1\n",
       "</pre>\n"
      ],
      "text/plain": [
       "Uh oh, haven't evaluated this cut yet! Make sure it was included in the list of cuts you used to initialize this \n",
       "JaggedSelection.   dsaMuons :  ptErrorOverPT < 1\n"
      ]
     },
     "metadata": {},
     "output_type": "display_data"
    },
    {
     "data": {
      "text/html": [
       "<pre style=\"white-space:pre;overflow-x:auto;line-height:normal;font-family:Menlo,'DejaVu Sans Mono',consolas,'Courier New',monospace\">Warning: cannot fill counter Gen As to muons. Skipping.\n",
       "</pre>\n"
      ],
      "text/plain": [
       "Warning: cannot fill counter Gen As to muons. Skipping.\n"
      ]
     },
     "metadata": {},
     "output_type": "display_data"
    },
    {
     "data": {
      "text/html": [
       "<pre style=\"white-space:pre;overflow-x:auto;line-height:normal;font-family:Menlo,'DejaVu Sans Mono',consolas,'Courier New',monospace\">Warning: cannot fill counter Gen As to electrons. Skipping.\n",
       "</pre>\n"
      ],
      "text/plain": [
       "Warning: cannot fill counter Gen As to electrons. Skipping.\n"
      ]
     },
     "metadata": {},
     "output_type": "display_data"
    },
    {
     "data": {
      "text/html": [
       "<pre style=\"white-space:pre;overflow-x:auto;line-height:normal;font-family:Menlo,'DejaVu Sans Mono',consolas,'Courier New',monospace\">Warning: cannot fill counter Matched gen As to muons. Skipping.\n",
       "</pre>\n"
      ],
      "text/plain": [
       "Warning: cannot fill counter Matched gen As to muons. Skipping.\n"
      ]
     },
     "metadata": {},
     "output_type": "display_data"
    },
    {
     "data": {
      "text/html": [
       "<pre style=\"white-space:pre;overflow-x:auto;line-height:normal;font-family:Menlo,'DejaVu Sans Mono',consolas,'Courier New',monospace\">Warning: cannot fill counter Matched gen As to electrons. Skipping.\n",
       "</pre>\n"
      ],
      "text/plain": [
       "Warning: cannot fill counter Matched gen As to electrons. Skipping.\n"
      ]
     },
     "metadata": {},
     "output_type": "display_data"
    },
    {
     "data": {
      "text/html": [
       "<pre style=\"white-space:pre;overflow-x:auto;line-height:normal;font-family:Menlo,'DejaVu Sans Mono',consolas,'Courier New',monospace\">Warning: electrons not found in sample. The following cuts will not be applied: ['pT &gt; 10 GeV', '|eta| &lt; 2.4', \n",
       "'looseID']\n",
       "</pre>\n"
      ],
      "text/plain": [
       "Warning: electrons not found in sample. The following cuts will not be applied: ['pT > 10 GeV', '|eta| < 2.4', \n",
       "'looseID']\n"
      ]
     },
     "metadata": {},
     "output_type": "display_data"
    },
    {
     "data": {
      "text/html": [
       "<pre style=\"white-space:pre;overflow-x:auto;line-height:normal;font-family:Menlo,'DejaVu Sans Mono',consolas,'Courier New',monospace\">Uh oh, haven't evaluated this cut yet! Make sure it was included in the list of cuts you used to initialize this \n",
       "JaggedSelection.   muons :  looseID\n",
       "</pre>\n"
      ],
      "text/plain": [
       "Uh oh, haven't evaluated this cut yet! Make sure it was included in the list of cuts you used to initialize this \n",
       "JaggedSelection.   muons :  looseID\n"
      ]
     },
     "metadata": {},
     "output_type": "display_data"
    },
    {
     "data": {
      "text/html": [
       "<pre style=\"white-space:pre;overflow-x:auto;line-height:normal;font-family:Menlo,'DejaVu Sans Mono',consolas,'Courier New',monospace\">Warning: photons not found in sample. The following cuts will not be applied: ['pT &gt; 20 GeV', '|eta| &lt; 2.5', \n",
       "'looseID']\n",
       "</pre>\n"
      ],
      "text/plain": [
       "Warning: photons not found in sample. The following cuts will not be applied: ['pT > 20 GeV', '|eta| < 2.5', \n",
       "'looseID']\n"
      ]
     },
     "metadata": {},
     "output_type": "display_data"
    },
    {
     "data": {
      "text/html": [
       "<pre style=\"white-space:pre;overflow-x:auto;line-height:normal;font-family:Menlo,'DejaVu Sans Mono',consolas,'Courier New',monospace\">Uh oh, haven't evaluated this cut yet! Make sure it was included in the list of cuts you used to initialize this \n",
       "JaggedSelection.   dsaMuons :  ifcsczero\n",
       "</pre>\n"
      ],
      "text/plain": [
       "Uh oh, haven't evaluated this cut yet! Make sure it was included in the list of cuts you used to initialize this \n",
       "JaggedSelection.   dsaMuons :  ifcsczero\n"
      ]
     },
     "metadata": {},
     "output_type": "display_data"
    },
    {
     "data": {
      "text/html": [
       "<pre style=\"white-space:pre;overflow-x:auto;line-height:normal;font-family:Menlo,'DejaVu Sans Mono',consolas,'Courier New',monospace\">Uh oh, haven't evaluated this cut yet! Make sure it was included in the list of cuts you used to initialize this \n",
       "JaggedSelection.   dsaMuons :  segOverlap &lt; 0.66\n",
       "</pre>\n"
      ],
      "text/plain": [
       "Uh oh, haven't evaluated this cut yet! Make sure it was included in the list of cuts you used to initialize this \n",
       "JaggedSelection.   dsaMuons :  segOverlap < 0.66\n"
      ]
     },
     "metadata": {},
     "output_type": "display_data"
    },
    {
     "data": {
      "text/html": [
       "<pre style=\"white-space:pre;overflow-x:auto;line-height:normal;font-family:Menlo,'DejaVu Sans Mono',consolas,'Courier New',monospace\">Uh oh, haven't evaluated this cut yet! Make sure it was included in the list of cuts you used to initialize this \n",
       "JaggedSelection.   dsaMuons :  extrapolatedDr &gt; 0.2\n",
       "</pre>\n"
      ],
      "text/plain": [
       "Uh oh, haven't evaluated this cut yet! Make sure it was included in the list of cuts you used to initialize this \n",
       "JaggedSelection.   dsaMuons :  extrapolatedDr > 0.2\n"
      ]
     },
     "metadata": {},
     "output_type": "display_data"
    },
    {
     "data": {
      "text/html": [
       "<pre style=\"white-space:pre;overflow-x:auto;line-height:normal;font-family:Menlo,'DejaVu Sans Mono',consolas,'Courier New',monospace\">Uh oh, haven't evaluated this cut yet! Make sure it was included in the list of cuts you used to initialize this \n",
       "JaggedSelection.   dsaMuons :  isSubsetAnyPFMuon False\n",
       "</pre>\n"
      ],
      "text/plain": [
       "Uh oh, haven't evaluated this cut yet! Make sure it was included in the list of cuts you used to initialize this \n",
       "JaggedSelection.   dsaMuons :  isSubsetAnyPFMuon False\n"
      ]
     },
     "metadata": {},
     "output_type": "display_data"
    },
    {
     "data": {
      "text/html": [
       "<pre style=\"white-space:pre;overflow-x:auto;line-height:normal;font-family:Menlo,'DejaVu Sans Mono',consolas,'Courier New',monospace\">Uh oh, haven't evaluated this cut yet! Make sure it was included in the list of cuts you used to initialize this \n",
       "JaggedSelection.   dsaMuons :  DT + CSC hits &gt; 12\n",
       "</pre>\n"
      ],
      "text/plain": [
       "Uh oh, haven't evaluated this cut yet! Make sure it was included in the list of cuts you used to initialize this \n",
       "JaggedSelection.   dsaMuons :  DT + CSC hits > 12\n"
      ]
     },
     "metadata": {},
     "output_type": "display_data"
    },
    {
     "data": {
      "text/html": [
       "<pre style=\"white-space:pre;overflow-x:auto;line-height:normal;font-family:Menlo,'DejaVu Sans Mono',consolas,'Courier New',monospace\">Uh oh, haven't evaluated this cut yet! Make sure it was included in the list of cuts you used to initialize this \n",
       "JaggedSelection.   dsaMuons :  DT + CSC stations &gt;= 2\n",
       "</pre>\n"
      ],
      "text/plain": [
       "Uh oh, haven't evaluated this cut yet! Make sure it was included in the list of cuts you used to initialize this \n",
       "JaggedSelection.   dsaMuons :  DT + CSC stations >= 2\n"
      ]
     },
     "metadata": {},
     "output_type": "display_data"
    },
    {
     "data": {
      "text/html": [
       "<pre style=\"white-space:pre;overflow-x:auto;line-height:normal;font-family:Menlo,'DejaVu Sans Mono',consolas,'Courier New',monospace\">Uh oh, haven't evaluated this cut yet! Make sure it was included in the list of cuts you used to initialize this \n",
       "JaggedSelection.   dsaMuons :  ptErrorOverPT &lt; 1\n",
       "</pre>\n"
      ],
      "text/plain": [
       "Uh oh, haven't evaluated this cut yet! Make sure it was included in the list of cuts you used to initialize this \n",
       "JaggedSelection.   dsaMuons :  ptErrorOverPT < 1\n"
      ]
     },
     "metadata": {},
     "output_type": "display_data"
    },
    {
     "data": {
      "text/html": [
       "<pre style=\"white-space:pre;overflow-x:auto;line-height:normal;font-family:Menlo,'DejaVu Sans Mono',consolas,'Courier New',monospace\">Warning: cannot fill counter Gen As to muons. Skipping.\n",
       "</pre>\n"
      ],
      "text/plain": [
       "Warning: cannot fill counter Gen As to muons. Skipping.\n"
      ]
     },
     "metadata": {},
     "output_type": "display_data"
    },
    {
     "data": {
      "text/html": [
       "<pre style=\"white-space:pre;overflow-x:auto;line-height:normal;font-family:Menlo,'DejaVu Sans Mono',consolas,'Courier New',monospace\">Warning: cannot fill counter Gen As to electrons. Skipping.\n",
       "</pre>\n"
      ],
      "text/plain": [
       "Warning: cannot fill counter Gen As to electrons. Skipping.\n"
      ]
     },
     "metadata": {},
     "output_type": "display_data"
    },
    {
     "data": {
      "text/html": [
       "<pre style=\"white-space:pre;overflow-x:auto;line-height:normal;font-family:Menlo,'DejaVu Sans Mono',consolas,'Courier New',monospace\">Warning: cannot fill counter Matched gen As to muons. Skipping.\n",
       "</pre>\n"
      ],
      "text/plain": [
       "Warning: cannot fill counter Matched gen As to muons. Skipping.\n"
      ]
     },
     "metadata": {},
     "output_type": "display_data"
    },
    {
     "data": {
      "text/html": [
       "<pre style=\"white-space:pre;overflow-x:auto;line-height:normal;font-family:Menlo,'DejaVu Sans Mono',consolas,'Courier New',monospace\">Warning: cannot fill counter Matched gen As to electrons. Skipping.\n",
       "</pre>\n"
      ],
      "text/plain": [
       "Warning: cannot fill counter Matched gen As to electrons. Skipping.\n"
      ]
     },
     "metadata": {},
     "output_type": "display_data"
    },
    {
     "data": {
      "text/html": [
       "<pre style=\"white-space:pre;overflow-x:auto;line-height:normal;font-family:Menlo,'DejaVu Sans Mono',consolas,'Courier New',monospace\">Warning: electrons not found in sample. The following cuts will not be applied: ['pT &gt; 10 GeV', '|eta| &lt; 2.4', \n",
       "'looseID']\n",
       "</pre>\n"
      ],
      "text/plain": [
       "Warning: electrons not found in sample. The following cuts will not be applied: ['pT > 10 GeV', '|eta| < 2.4', \n",
       "'looseID']\n"
      ]
     },
     "metadata": {},
     "output_type": "display_data"
    },
    {
     "data": {
      "text/html": [
       "<pre style=\"white-space:pre;overflow-x:auto;line-height:normal;font-family:Menlo,'DejaVu Sans Mono',consolas,'Courier New',monospace\">Uh oh, haven't evaluated this cut yet! Make sure it was included in the list of cuts you used to initialize this \n",
       "JaggedSelection.   muons :  looseID\n",
       "</pre>\n"
      ],
      "text/plain": [
       "Uh oh, haven't evaluated this cut yet! Make sure it was included in the list of cuts you used to initialize this \n",
       "JaggedSelection.   muons :  looseID\n"
      ]
     },
     "metadata": {},
     "output_type": "display_data"
    },
    {
     "data": {
      "text/html": [
       "<pre style=\"white-space:pre;overflow-x:auto;line-height:normal;font-family:Menlo,'DejaVu Sans Mono',consolas,'Courier New',monospace\">Warning: photons not found in sample. The following cuts will not be applied: ['pT &gt; 20 GeV', '|eta| &lt; 2.5', \n",
       "'looseID']\n",
       "</pre>\n"
      ],
      "text/plain": [
       "Warning: photons not found in sample. The following cuts will not be applied: ['pT > 20 GeV', '|eta| < 2.5', \n",
       "'looseID']\n"
      ]
     },
     "metadata": {},
     "output_type": "display_data"
    },
    {
     "data": {
      "text/html": [
       "<pre style=\"white-space:pre;overflow-x:auto;line-height:normal;font-family:Menlo,'DejaVu Sans Mono',consolas,'Courier New',monospace\">Uh oh, haven't evaluated this cut yet! Make sure it was included in the list of cuts you used to initialize this \n",
       "JaggedSelection.   dsaMuons :  ifcsczero\n",
       "</pre>\n"
      ],
      "text/plain": [
       "Uh oh, haven't evaluated this cut yet! Make sure it was included in the list of cuts you used to initialize this \n",
       "JaggedSelection.   dsaMuons :  ifcsczero\n"
      ]
     },
     "metadata": {},
     "output_type": "display_data"
    },
    {
     "data": {
      "text/html": [
       "<pre style=\"white-space:pre;overflow-x:auto;line-height:normal;font-family:Menlo,'DejaVu Sans Mono',consolas,'Courier New',monospace\">Uh oh, haven't evaluated this cut yet! Make sure it was included in the list of cuts you used to initialize this \n",
       "JaggedSelection.   dsaMuons :  segOverlap &lt; 0.66\n",
       "</pre>\n"
      ],
      "text/plain": [
       "Uh oh, haven't evaluated this cut yet! Make sure it was included in the list of cuts you used to initialize this \n",
       "JaggedSelection.   dsaMuons :  segOverlap < 0.66\n"
      ]
     },
     "metadata": {},
     "output_type": "display_data"
    },
    {
     "data": {
      "text/html": [
       "<pre style=\"white-space:pre;overflow-x:auto;line-height:normal;font-family:Menlo,'DejaVu Sans Mono',consolas,'Courier New',monospace\">Uh oh, haven't evaluated this cut yet! Make sure it was included in the list of cuts you used to initialize this \n",
       "JaggedSelection.   dsaMuons :  extrapolatedDr &gt; 0.2\n",
       "</pre>\n"
      ],
      "text/plain": [
       "Uh oh, haven't evaluated this cut yet! Make sure it was included in the list of cuts you used to initialize this \n",
       "JaggedSelection.   dsaMuons :  extrapolatedDr > 0.2\n"
      ]
     },
     "metadata": {},
     "output_type": "display_data"
    },
    {
     "data": {
      "text/html": [
       "<pre style=\"white-space:pre;overflow-x:auto;line-height:normal;font-family:Menlo,'DejaVu Sans Mono',consolas,'Courier New',monospace\">Uh oh, haven't evaluated this cut yet! Make sure it was included in the list of cuts you used to initialize this \n",
       "JaggedSelection.   dsaMuons :  isSubsetAnyPFMuon False\n",
       "</pre>\n"
      ],
      "text/plain": [
       "Uh oh, haven't evaluated this cut yet! Make sure it was included in the list of cuts you used to initialize this \n",
       "JaggedSelection.   dsaMuons :  isSubsetAnyPFMuon False\n"
      ]
     },
     "metadata": {},
     "output_type": "display_data"
    },
    {
     "data": {
      "text/html": [
       "<pre style=\"white-space:pre;overflow-x:auto;line-height:normal;font-family:Menlo,'DejaVu Sans Mono',consolas,'Courier New',monospace\">Uh oh, haven't evaluated this cut yet! Make sure it was included in the list of cuts you used to initialize this \n",
       "JaggedSelection.   dsaMuons :  DT + CSC hits &gt; 12\n",
       "</pre>\n"
      ],
      "text/plain": [
       "Uh oh, haven't evaluated this cut yet! Make sure it was included in the list of cuts you used to initialize this \n",
       "JaggedSelection.   dsaMuons :  DT + CSC hits > 12\n"
      ]
     },
     "metadata": {},
     "output_type": "display_data"
    },
    {
     "data": {
      "text/html": [
       "<pre style=\"white-space:pre;overflow-x:auto;line-height:normal;font-family:Menlo,'DejaVu Sans Mono',consolas,'Courier New',monospace\">Uh oh, haven't evaluated this cut yet! Make sure it was included in the list of cuts you used to initialize this \n",
       "JaggedSelection.   dsaMuons :  DT + CSC stations &gt;= 2\n",
       "</pre>\n"
      ],
      "text/plain": [
       "Uh oh, haven't evaluated this cut yet! Make sure it was included in the list of cuts you used to initialize this \n",
       "JaggedSelection.   dsaMuons :  DT + CSC stations >= 2\n"
      ]
     },
     "metadata": {},
     "output_type": "display_data"
    },
    {
     "data": {
      "text/html": [
       "<pre style=\"white-space:pre;overflow-x:auto;line-height:normal;font-family:Menlo,'DejaVu Sans Mono',consolas,'Courier New',monospace\">Uh oh, haven't evaluated this cut yet! Make sure it was included in the list of cuts you used to initialize this \n",
       "JaggedSelection.   dsaMuons :  ptErrorOverPT &lt; 1\n",
       "</pre>\n"
      ],
      "text/plain": [
       "Uh oh, haven't evaluated this cut yet! Make sure it was included in the list of cuts you used to initialize this \n",
       "JaggedSelection.   dsaMuons :  ptErrorOverPT < 1\n"
      ]
     },
     "metadata": {},
     "output_type": "display_data"
    },
    {
     "data": {
      "text/html": [
       "<pre style=\"white-space:pre;overflow-x:auto;line-height:normal;font-family:Menlo,'DejaVu Sans Mono',consolas,'Courier New',monospace\">Warning: cannot fill counter Gen As to muons. Skipping.\n",
       "</pre>\n"
      ],
      "text/plain": [
       "Warning: cannot fill counter Gen As to muons. Skipping.\n"
      ]
     },
     "metadata": {},
     "output_type": "display_data"
    },
    {
     "data": {
      "text/html": [
       "<pre style=\"white-space:pre;overflow-x:auto;line-height:normal;font-family:Menlo,'DejaVu Sans Mono',consolas,'Courier New',monospace\">Warning: cannot fill counter Gen As to electrons. Skipping.\n",
       "</pre>\n"
      ],
      "text/plain": [
       "Warning: cannot fill counter Gen As to electrons. Skipping.\n"
      ]
     },
     "metadata": {},
     "output_type": "display_data"
    },
    {
     "data": {
      "text/html": [
       "<pre style=\"white-space:pre;overflow-x:auto;line-height:normal;font-family:Menlo,'DejaVu Sans Mono',consolas,'Courier New',monospace\">Warning: cannot fill counter Matched gen As to muons. Skipping.\n",
       "</pre>\n"
      ],
      "text/plain": [
       "Warning: cannot fill counter Matched gen As to muons. Skipping.\n"
      ]
     },
     "metadata": {},
     "output_type": "display_data"
    },
    {
     "data": {
      "text/html": [
       "<pre style=\"white-space:pre;overflow-x:auto;line-height:normal;font-family:Menlo,'DejaVu Sans Mono',consolas,'Courier New',monospace\">Warning: cannot fill counter Matched gen As to electrons. Skipping.\n",
       "</pre>\n"
      ],
      "text/plain": [
       "Warning: cannot fill counter Matched gen As to electrons. Skipping.\n"
      ]
     },
     "metadata": {},
     "output_type": "display_data"
    },
    {
     "data": {
      "text/html": [
       "<pre style=\"white-space:pre;overflow-x:auto;line-height:normal;font-family:Menlo,'DejaVu Sans Mono',consolas,'Courier New',monospace\">Warning: electrons not found in this sample. Skipping.\n",
       "</pre>\n"
      ],
      "text/plain": [
       "Warning: electrons not found in this sample. Skipping.\n"
      ]
     },
     "metadata": {},
     "output_type": "display_data"
    },
    {
     "data": {
      "text/html": [
       "<pre style=\"white-space:pre;overflow-x:auto;line-height:normal;font-family:Menlo,'DejaVu Sans Mono',consolas,'Courier New',monospace\">Warning: photons not found in this sample. Skipping.\n",
       "</pre>\n"
      ],
      "text/plain": [
       "Warning: photons not found in this sample. Skipping.\n"
      ]
     },
     "metadata": {},
     "output_type": "display_data"
    },
    {
     "data": {
      "text/html": [
       "<pre style=\"white-space:pre;overflow-x:auto;line-height:normal;font-family:Menlo,'DejaVu Sans Mono',consolas,'Courier New',monospace\">Warning: genAs_toMu not found in this sample. Skipping.\n",
       "</pre>\n"
      ],
      "text/plain": [
       "Warning: genAs_toMu not found in this sample. Skipping.\n"
      ]
     },
     "metadata": {},
     "output_type": "display_data"
    },
    {
     "data": {
      "text/html": [
       "<pre style=\"white-space:pre;overflow-x:auto;line-height:normal;font-family:Menlo,'DejaVu Sans Mono',consolas,'Courier New',monospace\">Warning: genAs_toE not found in this sample. Skipping.\n",
       "</pre>\n"
      ],
      "text/plain": [
       "Warning: genAs_toE not found in this sample. Skipping.\n"
      ]
     },
     "metadata": {},
     "output_type": "display_data"
    },
    {
     "data": {
      "text/html": [
       "<pre style=\"white-space:pre;overflow-x:auto;line-height:normal;font-family:Menlo,'DejaVu Sans Mono',consolas,'Courier New',monospace\">Not applying any cuts to the lepton jets for channel  baseNoLj\n",
       "</pre>\n"
      ],
      "text/plain": [
       "Not applying any cuts to the lepton jets for channel  baseNoLj\n"
      ]
     },
     "metadata": {},
     "output_type": "display_data"
    },
    {
     "data": {
      "text/html": [
       "<pre style=\"white-space:pre;overflow-x:auto;line-height:normal;font-family:Menlo,'DejaVu Sans Mono',consolas,'Courier New',monospace\">Warning: electrons not found in sample. The following cuts will not be applied: ['pT &gt; 10 GeV', '|eta| &lt; 2.4', \n",
       "'looseID']\n",
       "</pre>\n"
      ],
      "text/plain": [
       "Warning: electrons not found in sample. The following cuts will not be applied: ['pT > 10 GeV', '|eta| < 2.4', \n",
       "'looseID']\n"
      ]
     },
     "metadata": {},
     "output_type": "display_data"
    },
    {
     "data": {
      "text/html": [
       "<pre style=\"white-space:pre;overflow-x:auto;line-height:normal;font-family:Menlo,'DejaVu Sans Mono',consolas,'Courier New',monospace\">Warning: Unable to apply looseID for muons. Skipping.\n",
       "</pre>\n"
      ],
      "text/plain": [
       "Warning: Unable to apply looseID for muons. Skipping.\n"
      ]
     },
     "metadata": {},
     "output_type": "display_data"
    },
    {
     "data": {
      "text/html": [
       "<pre style=\"white-space:pre;overflow-x:auto;line-height:normal;font-family:Menlo,'DejaVu Sans Mono',consolas,'Courier New',monospace\">Warning: photons not found in sample. The following cuts will not be applied: ['pT &gt; 20 GeV', '|eta| &lt; 2.5', \n",
       "'looseID']\n",
       "</pre>\n"
      ],
      "text/plain": [
       "Warning: photons not found in sample. The following cuts will not be applied: ['pT > 20 GeV', '|eta| < 2.5', \n",
       "'looseID']\n"
      ]
     },
     "metadata": {},
     "output_type": "display_data"
    },
    {
     "data": {
      "text/html": [
       "<pre style=\"white-space:pre;overflow-x:auto;line-height:normal;font-family:Menlo,'DejaVu Sans Mono',consolas,'Courier New',monospace\">Warning: Unable to apply ifcsczero for dsaMuons. Skipping.\n",
       "</pre>\n"
      ],
      "text/plain": [
       "Warning: Unable to apply ifcsczero for dsaMuons. Skipping.\n"
      ]
     },
     "metadata": {},
     "output_type": "display_data"
    },
    {
     "data": {
      "text/html": [
       "<pre style=\"white-space:pre;overflow-x:auto;line-height:normal;font-family:Menlo,'DejaVu Sans Mono',consolas,'Courier New',monospace\">Warning: Unable to apply segOverlap &lt; 0.66 for dsaMuons. Skipping.\n",
       "</pre>\n"
      ],
      "text/plain": [
       "Warning: Unable to apply segOverlap < 0.66 for dsaMuons. Skipping.\n"
      ]
     },
     "metadata": {},
     "output_type": "display_data"
    },
    {
     "data": {
      "text/html": [
       "<pre style=\"white-space:pre;overflow-x:auto;line-height:normal;font-family:Menlo,'DejaVu Sans Mono',consolas,'Courier New',monospace\">Warning: Unable to apply extrapolatedDr &gt; 0.2 for dsaMuons. Skipping.\n",
       "</pre>\n"
      ],
      "text/plain": [
       "Warning: Unable to apply extrapolatedDr > 0.2 for dsaMuons. Skipping.\n"
      ]
     },
     "metadata": {},
     "output_type": "display_data"
    },
    {
     "data": {
      "text/html": [
       "<pre style=\"white-space:pre;overflow-x:auto;line-height:normal;font-family:Menlo,'DejaVu Sans Mono',consolas,'Courier New',monospace\">Warning: Unable to apply isSubsetAnyPFMuon False for dsaMuons. Skipping.\n",
       "</pre>\n"
      ],
      "text/plain": [
       "Warning: Unable to apply isSubsetAnyPFMuon False for dsaMuons. Skipping.\n"
      ]
     },
     "metadata": {},
     "output_type": "display_data"
    },
    {
     "data": {
      "text/html": [
       "<pre style=\"white-space:pre;overflow-x:auto;line-height:normal;font-family:Menlo,'DejaVu Sans Mono',consolas,'Courier New',monospace\">Warning: Unable to apply DT + CSC hits &gt; 12 for dsaMuons. Skipping.\n",
       "</pre>\n"
      ],
      "text/plain": [
       "Warning: Unable to apply DT + CSC hits > 12 for dsaMuons. Skipping.\n"
      ]
     },
     "metadata": {},
     "output_type": "display_data"
    },
    {
     "data": {
      "text/html": [
       "<pre style=\"white-space:pre;overflow-x:auto;line-height:normal;font-family:Menlo,'DejaVu Sans Mono',consolas,'Courier New',monospace\">Warning: Unable to apply DT + CSC stations &gt;= 2 for dsaMuons. Skipping.\n",
       "</pre>\n"
      ],
      "text/plain": [
       "Warning: Unable to apply DT + CSC stations >= 2 for dsaMuons. Skipping.\n"
      ]
     },
     "metadata": {},
     "output_type": "display_data"
    },
    {
     "data": {
      "text/html": [
       "<pre style=\"white-space:pre;overflow-x:auto;line-height:normal;font-family:Menlo,'DejaVu Sans Mono',consolas,'Courier New',monospace\">Warning: Unable to apply ptErrorOverPT &lt; 1 for dsaMuons. Skipping.\n",
       "</pre>\n"
      ],
      "text/plain": [
       "Warning: Unable to apply ptErrorOverPT < 1 for dsaMuons. Skipping.\n"
      ]
     },
     "metadata": {},
     "output_type": "display_data"
    },
    {
     "data": {
      "text/html": [
       "<pre style=\"white-space:pre;overflow-x:auto;line-height:normal;font-family:Menlo,'DejaVu Sans Mono',consolas,'Courier New',monospace\">Warning: electrons not found in sample. The following cuts will not be applied: ['pT &gt; 10 GeV', '|eta| &lt; 2.4', \n",
       "'looseID']\n",
       "</pre>\n"
      ],
      "text/plain": [
       "Warning: electrons not found in sample. The following cuts will not be applied: ['pT > 10 GeV', '|eta| < 2.4', \n",
       "'looseID']\n"
      ]
     },
     "metadata": {},
     "output_type": "display_data"
    },
    {
     "data": {
      "text/html": [
       "<pre style=\"white-space:pre;overflow-x:auto;line-height:normal;font-family:Menlo,'DejaVu Sans Mono',consolas,'Courier New',monospace\">Uh oh, haven't evaluated this cut yet! Make sure it was included in the list of cuts you used to initialize this \n",
       "JaggedSelection.   muons :  looseID\n",
       "</pre>\n"
      ],
      "text/plain": [
       "Uh oh, haven't evaluated this cut yet! Make sure it was included in the list of cuts you used to initialize this \n",
       "JaggedSelection.   muons :  looseID\n"
      ]
     },
     "metadata": {},
     "output_type": "display_data"
    },
    {
     "data": {
      "text/html": [
       "<pre style=\"white-space:pre;overflow-x:auto;line-height:normal;font-family:Menlo,'DejaVu Sans Mono',consolas,'Courier New',monospace\">Warning: photons not found in sample. The following cuts will not be applied: ['pT &gt; 20 GeV', '|eta| &lt; 2.5', \n",
       "'looseID']\n",
       "</pre>\n"
      ],
      "text/plain": [
       "Warning: photons not found in sample. The following cuts will not be applied: ['pT > 20 GeV', '|eta| < 2.5', \n",
       "'looseID']\n"
      ]
     },
     "metadata": {},
     "output_type": "display_data"
    },
    {
     "data": {
      "text/html": [
       "<pre style=\"white-space:pre;overflow-x:auto;line-height:normal;font-family:Menlo,'DejaVu Sans Mono',consolas,'Courier New',monospace\">Uh oh, haven't evaluated this cut yet! Make sure it was included in the list of cuts you used to initialize this \n",
       "JaggedSelection.   dsaMuons :  ifcsczero\n",
       "</pre>\n"
      ],
      "text/plain": [
       "Uh oh, haven't evaluated this cut yet! Make sure it was included in the list of cuts you used to initialize this \n",
       "JaggedSelection.   dsaMuons :  ifcsczero\n"
      ]
     },
     "metadata": {},
     "output_type": "display_data"
    },
    {
     "data": {
      "text/html": [
       "<pre style=\"white-space:pre;overflow-x:auto;line-height:normal;font-family:Menlo,'DejaVu Sans Mono',consolas,'Courier New',monospace\">Uh oh, haven't evaluated this cut yet! Make sure it was included in the list of cuts you used to initialize this \n",
       "JaggedSelection.   dsaMuons :  segOverlap &lt; 0.66\n",
       "</pre>\n"
      ],
      "text/plain": [
       "Uh oh, haven't evaluated this cut yet! Make sure it was included in the list of cuts you used to initialize this \n",
       "JaggedSelection.   dsaMuons :  segOverlap < 0.66\n"
      ]
     },
     "metadata": {},
     "output_type": "display_data"
    },
    {
     "data": {
      "text/html": [
       "<pre style=\"white-space:pre;overflow-x:auto;line-height:normal;font-family:Menlo,'DejaVu Sans Mono',consolas,'Courier New',monospace\">Uh oh, haven't evaluated this cut yet! Make sure it was included in the list of cuts you used to initialize this \n",
       "JaggedSelection.   dsaMuons :  extrapolatedDr &gt; 0.2\n",
       "</pre>\n"
      ],
      "text/plain": [
       "Uh oh, haven't evaluated this cut yet! Make sure it was included in the list of cuts you used to initialize this \n",
       "JaggedSelection.   dsaMuons :  extrapolatedDr > 0.2\n"
      ]
     },
     "metadata": {},
     "output_type": "display_data"
    },
    {
     "data": {
      "text/html": [
       "<pre style=\"white-space:pre;overflow-x:auto;line-height:normal;font-family:Menlo,'DejaVu Sans Mono',consolas,'Courier New',monospace\">Uh oh, haven't evaluated this cut yet! Make sure it was included in the list of cuts you used to initialize this \n",
       "JaggedSelection.   dsaMuons :  isSubsetAnyPFMuon False\n",
       "</pre>\n"
      ],
      "text/plain": [
       "Uh oh, haven't evaluated this cut yet! Make sure it was included in the list of cuts you used to initialize this \n",
       "JaggedSelection.   dsaMuons :  isSubsetAnyPFMuon False\n"
      ]
     },
     "metadata": {},
     "output_type": "display_data"
    },
    {
     "data": {
      "text/html": [
       "<pre style=\"white-space:pre;overflow-x:auto;line-height:normal;font-family:Menlo,'DejaVu Sans Mono',consolas,'Courier New',monospace\">Uh oh, haven't evaluated this cut yet! Make sure it was included in the list of cuts you used to initialize this \n",
       "JaggedSelection.   dsaMuons :  DT + CSC hits &gt; 12\n",
       "</pre>\n"
      ],
      "text/plain": [
       "Uh oh, haven't evaluated this cut yet! Make sure it was included in the list of cuts you used to initialize this \n",
       "JaggedSelection.   dsaMuons :  DT + CSC hits > 12\n"
      ]
     },
     "metadata": {},
     "output_type": "display_data"
    },
    {
     "data": {
      "text/html": [
       "<pre style=\"white-space:pre;overflow-x:auto;line-height:normal;font-family:Menlo,'DejaVu Sans Mono',consolas,'Courier New',monospace\">Uh oh, haven't evaluated this cut yet! Make sure it was included in the list of cuts you used to initialize this \n",
       "JaggedSelection.   dsaMuons :  DT + CSC stations &gt;= 2\n",
       "</pre>\n"
      ],
      "text/plain": [
       "Uh oh, haven't evaluated this cut yet! Make sure it was included in the list of cuts you used to initialize this \n",
       "JaggedSelection.   dsaMuons :  DT + CSC stations >= 2\n"
      ]
     },
     "metadata": {},
     "output_type": "display_data"
    },
    {
     "data": {
      "text/html": [
       "<pre style=\"white-space:pre;overflow-x:auto;line-height:normal;font-family:Menlo,'DejaVu Sans Mono',consolas,'Courier New',monospace\">Uh oh, haven't evaluated this cut yet! Make sure it was included in the list of cuts you used to initialize this \n",
       "JaggedSelection.   dsaMuons :  ptErrorOverPT &lt; 1\n",
       "</pre>\n"
      ],
      "text/plain": [
       "Uh oh, haven't evaluated this cut yet! Make sure it was included in the list of cuts you used to initialize this \n",
       "JaggedSelection.   dsaMuons :  ptErrorOverPT < 1\n"
      ]
     },
     "metadata": {},
     "output_type": "display_data"
    },
    {
     "data": {
      "text/html": [
       "<pre style=\"white-space:pre;overflow-x:auto;line-height:normal;font-family:Menlo,'DejaVu Sans Mono',consolas,'Courier New',monospace\">Warning: cannot fill counter Gen As to muons. Skipping.\n",
       "</pre>\n"
      ],
      "text/plain": [
       "Warning: cannot fill counter Gen As to muons. Skipping.\n"
      ]
     },
     "metadata": {},
     "output_type": "display_data"
    },
    {
     "data": {
      "text/html": [
       "<pre style=\"white-space:pre;overflow-x:auto;line-height:normal;font-family:Menlo,'DejaVu Sans Mono',consolas,'Courier New',monospace\">Warning: cannot fill counter Gen As to electrons. Skipping.\n",
       "</pre>\n"
      ],
      "text/plain": [
       "Warning: cannot fill counter Gen As to electrons. Skipping.\n"
      ]
     },
     "metadata": {},
     "output_type": "display_data"
    },
    {
     "data": {
      "text/html": [
       "<pre style=\"white-space:pre;overflow-x:auto;line-height:normal;font-family:Menlo,'DejaVu Sans Mono',consolas,'Courier New',monospace\">Warning: cannot fill counter Matched gen As to muons. Skipping.\n",
       "</pre>\n"
      ],
      "text/plain": [
       "Warning: cannot fill counter Matched gen As to muons. Skipping.\n"
      ]
     },
     "metadata": {},
     "output_type": "display_data"
    },
    {
     "data": {
      "text/html": [
       "<pre style=\"white-space:pre;overflow-x:auto;line-height:normal;font-family:Menlo,'DejaVu Sans Mono',consolas,'Courier New',monospace\">Warning: cannot fill counter Matched gen As to electrons. Skipping.\n",
       "</pre>\n"
      ],
      "text/plain": [
       "Warning: cannot fill counter Matched gen As to electrons. Skipping.\n"
      ]
     },
     "metadata": {},
     "output_type": "display_data"
    },
    {
     "data": {
      "text/html": [
       "<pre style=\"white-space:pre;overflow-x:auto;line-height:normal;font-family:Menlo,'DejaVu Sans Mono',consolas,'Courier New',monospace\">Warning: electrons not found in sample. The following cuts will not be applied: ['pT &gt; 10 GeV', '|eta| &lt; 2.4', \n",
       "'looseID']\n",
       "</pre>\n"
      ],
      "text/plain": [
       "Warning: electrons not found in sample. The following cuts will not be applied: ['pT > 10 GeV', '|eta| < 2.4', \n",
       "'looseID']\n"
      ]
     },
     "metadata": {},
     "output_type": "display_data"
    },
    {
     "data": {
      "text/html": [
       "<pre style=\"white-space:pre;overflow-x:auto;line-height:normal;font-family:Menlo,'DejaVu Sans Mono',consolas,'Courier New',monospace\">Uh oh, haven't evaluated this cut yet! Make sure it was included in the list of cuts you used to initialize this \n",
       "JaggedSelection.   muons :  looseID\n",
       "</pre>\n"
      ],
      "text/plain": [
       "Uh oh, haven't evaluated this cut yet! Make sure it was included in the list of cuts you used to initialize this \n",
       "JaggedSelection.   muons :  looseID\n"
      ]
     },
     "metadata": {},
     "output_type": "display_data"
    },
    {
     "data": {
      "text/html": [
       "<pre style=\"white-space:pre;overflow-x:auto;line-height:normal;font-family:Menlo,'DejaVu Sans Mono',consolas,'Courier New',monospace\">Warning: photons not found in sample. The following cuts will not be applied: ['pT &gt; 20 GeV', '|eta| &lt; 2.5', \n",
       "'looseID']\n",
       "</pre>\n"
      ],
      "text/plain": [
       "Warning: photons not found in sample. The following cuts will not be applied: ['pT > 20 GeV', '|eta| < 2.5', \n",
       "'looseID']\n"
      ]
     },
     "metadata": {},
     "output_type": "display_data"
    },
    {
     "data": {
      "text/html": [
       "<pre style=\"white-space:pre;overflow-x:auto;line-height:normal;font-family:Menlo,'DejaVu Sans Mono',consolas,'Courier New',monospace\">Uh oh, haven't evaluated this cut yet! Make sure it was included in the list of cuts you used to initialize this \n",
       "JaggedSelection.   dsaMuons :  ifcsczero\n",
       "</pre>\n"
      ],
      "text/plain": [
       "Uh oh, haven't evaluated this cut yet! Make sure it was included in the list of cuts you used to initialize this \n",
       "JaggedSelection.   dsaMuons :  ifcsczero\n"
      ]
     },
     "metadata": {},
     "output_type": "display_data"
    },
    {
     "data": {
      "text/html": [
       "<pre style=\"white-space:pre;overflow-x:auto;line-height:normal;font-family:Menlo,'DejaVu Sans Mono',consolas,'Courier New',monospace\">Uh oh, haven't evaluated this cut yet! Make sure it was included in the list of cuts you used to initialize this \n",
       "JaggedSelection.   dsaMuons :  segOverlap &lt; 0.66\n",
       "</pre>\n"
      ],
      "text/plain": [
       "Uh oh, haven't evaluated this cut yet! Make sure it was included in the list of cuts you used to initialize this \n",
       "JaggedSelection.   dsaMuons :  segOverlap < 0.66\n"
      ]
     },
     "metadata": {},
     "output_type": "display_data"
    },
    {
     "data": {
      "text/html": [
       "<pre style=\"white-space:pre;overflow-x:auto;line-height:normal;font-family:Menlo,'DejaVu Sans Mono',consolas,'Courier New',monospace\">Uh oh, haven't evaluated this cut yet! Make sure it was included in the list of cuts you used to initialize this \n",
       "JaggedSelection.   dsaMuons :  extrapolatedDr &gt; 0.2\n",
       "</pre>\n"
      ],
      "text/plain": [
       "Uh oh, haven't evaluated this cut yet! Make sure it was included in the list of cuts you used to initialize this \n",
       "JaggedSelection.   dsaMuons :  extrapolatedDr > 0.2\n"
      ]
     },
     "metadata": {},
     "output_type": "display_data"
    },
    {
     "data": {
      "text/html": [
       "<pre style=\"white-space:pre;overflow-x:auto;line-height:normal;font-family:Menlo,'DejaVu Sans Mono',consolas,'Courier New',monospace\">Uh oh, haven't evaluated this cut yet! Make sure it was included in the list of cuts you used to initialize this \n",
       "JaggedSelection.   dsaMuons :  isSubsetAnyPFMuon False\n",
       "</pre>\n"
      ],
      "text/plain": [
       "Uh oh, haven't evaluated this cut yet! Make sure it was included in the list of cuts you used to initialize this \n",
       "JaggedSelection.   dsaMuons :  isSubsetAnyPFMuon False\n"
      ]
     },
     "metadata": {},
     "output_type": "display_data"
    },
    {
     "data": {
      "text/html": [
       "<pre style=\"white-space:pre;overflow-x:auto;line-height:normal;font-family:Menlo,'DejaVu Sans Mono',consolas,'Courier New',monospace\">Uh oh, haven't evaluated this cut yet! Make sure it was included in the list of cuts you used to initialize this \n",
       "JaggedSelection.   dsaMuons :  DT + CSC hits &gt; 12\n",
       "</pre>\n"
      ],
      "text/plain": [
       "Uh oh, haven't evaluated this cut yet! Make sure it was included in the list of cuts you used to initialize this \n",
       "JaggedSelection.   dsaMuons :  DT + CSC hits > 12\n"
      ]
     },
     "metadata": {},
     "output_type": "display_data"
    },
    {
     "data": {
      "text/html": [
       "<pre style=\"white-space:pre;overflow-x:auto;line-height:normal;font-family:Menlo,'DejaVu Sans Mono',consolas,'Courier New',monospace\">Uh oh, haven't evaluated this cut yet! Make sure it was included in the list of cuts you used to initialize this \n",
       "JaggedSelection.   dsaMuons :  DT + CSC stations &gt;= 2\n",
       "</pre>\n"
      ],
      "text/plain": [
       "Uh oh, haven't evaluated this cut yet! Make sure it was included in the list of cuts you used to initialize this \n",
       "JaggedSelection.   dsaMuons :  DT + CSC stations >= 2\n"
      ]
     },
     "metadata": {},
     "output_type": "display_data"
    },
    {
     "data": {
      "text/html": [
       "<pre style=\"white-space:pre;overflow-x:auto;line-height:normal;font-family:Menlo,'DejaVu Sans Mono',consolas,'Courier New',monospace\">Uh oh, haven't evaluated this cut yet! Make sure it was included in the list of cuts you used to initialize this \n",
       "JaggedSelection.   dsaMuons :  ptErrorOverPT &lt; 1\n",
       "</pre>\n"
      ],
      "text/plain": [
       "Uh oh, haven't evaluated this cut yet! Make sure it was included in the list of cuts you used to initialize this \n",
       "JaggedSelection.   dsaMuons :  ptErrorOverPT < 1\n"
      ]
     },
     "metadata": {},
     "output_type": "display_data"
    },
    {
     "data": {
      "text/html": [
       "<pre style=\"white-space:pre;overflow-x:auto;line-height:normal;font-family:Menlo,'DejaVu Sans Mono',consolas,'Courier New',monospace\">Warning: cannot fill counter Gen As to muons. Skipping.\n",
       "</pre>\n"
      ],
      "text/plain": [
       "Warning: cannot fill counter Gen As to muons. Skipping.\n"
      ]
     },
     "metadata": {},
     "output_type": "display_data"
    },
    {
     "data": {
      "text/html": [
       "<pre style=\"white-space:pre;overflow-x:auto;line-height:normal;font-family:Menlo,'DejaVu Sans Mono',consolas,'Courier New',monospace\">Warning: cannot fill counter Gen As to electrons. Skipping.\n",
       "</pre>\n"
      ],
      "text/plain": [
       "Warning: cannot fill counter Gen As to electrons. Skipping.\n"
      ]
     },
     "metadata": {},
     "output_type": "display_data"
    },
    {
     "data": {
      "text/html": [
       "<pre style=\"white-space:pre;overflow-x:auto;line-height:normal;font-family:Menlo,'DejaVu Sans Mono',consolas,'Courier New',monospace\">Warning: cannot fill counter Matched gen As to muons. Skipping.\n",
       "</pre>\n"
      ],
      "text/plain": [
       "Warning: cannot fill counter Matched gen As to muons. Skipping.\n"
      ]
     },
     "metadata": {},
     "output_type": "display_data"
    },
    {
     "data": {
      "text/html": [
       "<pre style=\"white-space:pre;overflow-x:auto;line-height:normal;font-family:Menlo,'DejaVu Sans Mono',consolas,'Courier New',monospace\">Warning: cannot fill counter Matched gen As to electrons. Skipping.\n",
       "</pre>\n"
      ],
      "text/plain": [
       "Warning: cannot fill counter Matched gen As to electrons. Skipping.\n"
      ]
     },
     "metadata": {},
     "output_type": "display_data"
    },
    {
     "data": {
      "text/html": [
       "<pre style=\"white-space:pre;overflow-x:auto;line-height:normal;font-family:Menlo,'DejaVu Sans Mono',consolas,'Courier New',monospace\">Warning: electrons not found in sample. The following cuts will not be applied: ['pT &gt; 10 GeV', '|eta| &lt; 2.4', \n",
       "'looseID']\n",
       "</pre>\n"
      ],
      "text/plain": [
       "Warning: electrons not found in sample. The following cuts will not be applied: ['pT > 10 GeV', '|eta| < 2.4', \n",
       "'looseID']\n"
      ]
     },
     "metadata": {},
     "output_type": "display_data"
    },
    {
     "data": {
      "text/html": [
       "<pre style=\"white-space:pre;overflow-x:auto;line-height:normal;font-family:Menlo,'DejaVu Sans Mono',consolas,'Courier New',monospace\">Uh oh, haven't evaluated this cut yet! Make sure it was included in the list of cuts you used to initialize this \n",
       "JaggedSelection.   muons :  looseID\n",
       "</pre>\n"
      ],
      "text/plain": [
       "Uh oh, haven't evaluated this cut yet! Make sure it was included in the list of cuts you used to initialize this \n",
       "JaggedSelection.   muons :  looseID\n"
      ]
     },
     "metadata": {},
     "output_type": "display_data"
    },
    {
     "data": {
      "text/html": [
       "<pre style=\"white-space:pre;overflow-x:auto;line-height:normal;font-family:Menlo,'DejaVu Sans Mono',consolas,'Courier New',monospace\">Warning: photons not found in sample. The following cuts will not be applied: ['pT &gt; 20 GeV', '|eta| &lt; 2.5', \n",
       "'looseID']\n",
       "</pre>\n"
      ],
      "text/plain": [
       "Warning: photons not found in sample. The following cuts will not be applied: ['pT > 20 GeV', '|eta| < 2.5', \n",
       "'looseID']\n"
      ]
     },
     "metadata": {},
     "output_type": "display_data"
    },
    {
     "data": {
      "text/html": [
       "<pre style=\"white-space:pre;overflow-x:auto;line-height:normal;font-family:Menlo,'DejaVu Sans Mono',consolas,'Courier New',monospace\">Uh oh, haven't evaluated this cut yet! Make sure it was included in the list of cuts you used to initialize this \n",
       "JaggedSelection.   dsaMuons :  ifcsczero\n",
       "</pre>\n"
      ],
      "text/plain": [
       "Uh oh, haven't evaluated this cut yet! Make sure it was included in the list of cuts you used to initialize this \n",
       "JaggedSelection.   dsaMuons :  ifcsczero\n"
      ]
     },
     "metadata": {},
     "output_type": "display_data"
    },
    {
     "data": {
      "text/html": [
       "<pre style=\"white-space:pre;overflow-x:auto;line-height:normal;font-family:Menlo,'DejaVu Sans Mono',consolas,'Courier New',monospace\">Uh oh, haven't evaluated this cut yet! Make sure it was included in the list of cuts you used to initialize this \n",
       "JaggedSelection.   dsaMuons :  segOverlap &lt; 0.66\n",
       "</pre>\n"
      ],
      "text/plain": [
       "Uh oh, haven't evaluated this cut yet! Make sure it was included in the list of cuts you used to initialize this \n",
       "JaggedSelection.   dsaMuons :  segOverlap < 0.66\n"
      ]
     },
     "metadata": {},
     "output_type": "display_data"
    },
    {
     "data": {
      "text/html": [
       "<pre style=\"white-space:pre;overflow-x:auto;line-height:normal;font-family:Menlo,'DejaVu Sans Mono',consolas,'Courier New',monospace\">Uh oh, haven't evaluated this cut yet! Make sure it was included in the list of cuts you used to initialize this \n",
       "JaggedSelection.   dsaMuons :  extrapolatedDr &gt; 0.2\n",
       "</pre>\n"
      ],
      "text/plain": [
       "Uh oh, haven't evaluated this cut yet! Make sure it was included in the list of cuts you used to initialize this \n",
       "JaggedSelection.   dsaMuons :  extrapolatedDr > 0.2\n"
      ]
     },
     "metadata": {},
     "output_type": "display_data"
    },
    {
     "data": {
      "text/html": [
       "<pre style=\"white-space:pre;overflow-x:auto;line-height:normal;font-family:Menlo,'DejaVu Sans Mono',consolas,'Courier New',monospace\">Uh oh, haven't evaluated this cut yet! Make sure it was included in the list of cuts you used to initialize this \n",
       "JaggedSelection.   dsaMuons :  isSubsetAnyPFMuon False\n",
       "</pre>\n"
      ],
      "text/plain": [
       "Uh oh, haven't evaluated this cut yet! Make sure it was included in the list of cuts you used to initialize this \n",
       "JaggedSelection.   dsaMuons :  isSubsetAnyPFMuon False\n"
      ]
     },
     "metadata": {},
     "output_type": "display_data"
    },
    {
     "data": {
      "text/html": [
       "<pre style=\"white-space:pre;overflow-x:auto;line-height:normal;font-family:Menlo,'DejaVu Sans Mono',consolas,'Courier New',monospace\">Uh oh, haven't evaluated this cut yet! Make sure it was included in the list of cuts you used to initialize this \n",
       "JaggedSelection.   dsaMuons :  DT + CSC hits &gt; 12\n",
       "</pre>\n"
      ],
      "text/plain": [
       "Uh oh, haven't evaluated this cut yet! Make sure it was included in the list of cuts you used to initialize this \n",
       "JaggedSelection.   dsaMuons :  DT + CSC hits > 12\n"
      ]
     },
     "metadata": {},
     "output_type": "display_data"
    },
    {
     "data": {
      "text/html": [
       "<pre style=\"white-space:pre;overflow-x:auto;line-height:normal;font-family:Menlo,'DejaVu Sans Mono',consolas,'Courier New',monospace\">Uh oh, haven't evaluated this cut yet! Make sure it was included in the list of cuts you used to initialize this \n",
       "JaggedSelection.   dsaMuons :  DT + CSC stations &gt;= 2\n",
       "</pre>\n"
      ],
      "text/plain": [
       "Uh oh, haven't evaluated this cut yet! Make sure it was included in the list of cuts you used to initialize this \n",
       "JaggedSelection.   dsaMuons :  DT + CSC stations >= 2\n"
      ]
     },
     "metadata": {},
     "output_type": "display_data"
    },
    {
     "data": {
      "text/html": [
       "<pre style=\"white-space:pre;overflow-x:auto;line-height:normal;font-family:Menlo,'DejaVu Sans Mono',consolas,'Courier New',monospace\">Uh oh, haven't evaluated this cut yet! Make sure it was included in the list of cuts you used to initialize this \n",
       "JaggedSelection.   dsaMuons :  ptErrorOverPT &lt; 1\n",
       "</pre>\n"
      ],
      "text/plain": [
       "Uh oh, haven't evaluated this cut yet! Make sure it was included in the list of cuts you used to initialize this \n",
       "JaggedSelection.   dsaMuons :  ptErrorOverPT < 1\n"
      ]
     },
     "metadata": {},
     "output_type": "display_data"
    },
    {
     "data": {
      "text/html": [
       "<pre style=\"white-space:pre;overflow-x:auto;line-height:normal;font-family:Menlo,'DejaVu Sans Mono',consolas,'Courier New',monospace\">Warning: cannot fill counter Gen As to muons. Skipping.\n",
       "</pre>\n"
      ],
      "text/plain": [
       "Warning: cannot fill counter Gen As to muons. Skipping.\n"
      ]
     },
     "metadata": {},
     "output_type": "display_data"
    },
    {
     "data": {
      "text/html": [
       "<pre style=\"white-space:pre;overflow-x:auto;line-height:normal;font-family:Menlo,'DejaVu Sans Mono',consolas,'Courier New',monospace\">Warning: cannot fill counter Gen As to electrons. Skipping.\n",
       "</pre>\n"
      ],
      "text/plain": [
       "Warning: cannot fill counter Gen As to electrons. Skipping.\n"
      ]
     },
     "metadata": {},
     "output_type": "display_data"
    },
    {
     "data": {
      "text/html": [
       "<pre style=\"white-space:pre;overflow-x:auto;line-height:normal;font-family:Menlo,'DejaVu Sans Mono',consolas,'Courier New',monospace\">Warning: cannot fill counter Matched gen As to muons. Skipping.\n",
       "</pre>\n"
      ],
      "text/plain": [
       "Warning: cannot fill counter Matched gen As to muons. Skipping.\n"
      ]
     },
     "metadata": {},
     "output_type": "display_data"
    },
    {
     "data": {
      "text/html": [
       "<pre style=\"white-space:pre;overflow-x:auto;line-height:normal;font-family:Menlo,'DejaVu Sans Mono',consolas,'Courier New',monospace\">Warning: cannot fill counter Matched gen As to electrons. Skipping.\n",
       "</pre>\n"
      ],
      "text/plain": [
       "Warning: cannot fill counter Matched gen As to electrons. Skipping.\n"
      ]
     },
     "metadata": {},
     "output_type": "display_data"
    },
    {
     "data": {
      "text/html": [
       "<pre style=\"white-space:pre;overflow-x:auto;line-height:normal;font-family:Menlo,'DejaVu Sans Mono',consolas,'Courier New',monospace\">Warning: electrons not found in this sample. Skipping.\n",
       "</pre>\n"
      ],
      "text/plain": [
       "Warning: electrons not found in this sample. Skipping.\n"
      ]
     },
     "metadata": {},
     "output_type": "display_data"
    },
    {
     "data": {
      "text/html": [
       "<pre style=\"white-space:pre;overflow-x:auto;line-height:normal;font-family:Menlo,'DejaVu Sans Mono',consolas,'Courier New',monospace\">Warning: photons not found in this sample. Skipping.\n",
       "</pre>\n"
      ],
      "text/plain": [
       "Warning: photons not found in this sample. Skipping.\n"
      ]
     },
     "metadata": {},
     "output_type": "display_data"
    },
    {
     "data": {
      "text/html": [
       "<pre style=\"white-space:pre;overflow-x:auto;line-height:normal;font-family:Menlo,'DejaVu Sans Mono',consolas,'Courier New',monospace\">Warning: genAs_toMu not found in this sample. Skipping.\n",
       "</pre>\n"
      ],
      "text/plain": [
       "Warning: genAs_toMu not found in this sample. Skipping.\n"
      ]
     },
     "metadata": {},
     "output_type": "display_data"
    },
    {
     "data": {
      "text/html": [
       "<pre style=\"white-space:pre;overflow-x:auto;line-height:normal;font-family:Menlo,'DejaVu Sans Mono',consolas,'Courier New',monospace\">Warning: genAs_toE not found in this sample. Skipping.\n",
       "</pre>\n"
      ],
      "text/plain": [
       "Warning: genAs_toE not found in this sample. Skipping.\n"
      ]
     },
     "metadata": {},
     "output_type": "display_data"
    },
    {
     "data": {
      "text/html": [
       "<pre style=\"white-space:pre;overflow-x:auto;line-height:normal;font-family:Menlo,'DejaVu Sans Mono',consolas,'Courier New',monospace\">Not applying any cuts to the lepton jets for channel  baseNoLj\n",
       "</pre>\n"
      ],
      "text/plain": [
       "Not applying any cuts to the lepton jets for channel  baseNoLj\n"
      ]
     },
     "metadata": {},
     "output_type": "display_data"
    },
    {
     "data": {
      "text/html": [
       "<pre style=\"white-space:pre;overflow-x:auto;line-height:normal;font-family:Menlo,'DejaVu Sans Mono',consolas,'Courier New',monospace\">Warning: electrons not found in sample. The following cuts will not be applied: ['pT &gt; 10 GeV', '|eta| &lt; 2.4', \n",
       "'looseID']\n",
       "</pre>\n"
      ],
      "text/plain": [
       "Warning: electrons not found in sample. The following cuts will not be applied: ['pT > 10 GeV', '|eta| < 2.4', \n",
       "'looseID']\n"
      ]
     },
     "metadata": {},
     "output_type": "display_data"
    },
    {
     "data": {
      "text/html": [
       "<pre style=\"white-space:pre;overflow-x:auto;line-height:normal;font-family:Menlo,'DejaVu Sans Mono',consolas,'Courier New',monospace\">Warning: Unable to apply looseID for muons. Skipping.\n",
       "</pre>\n"
      ],
      "text/plain": [
       "Warning: Unable to apply looseID for muons. Skipping.\n"
      ]
     },
     "metadata": {},
     "output_type": "display_data"
    },
    {
     "data": {
      "text/html": [
       "<pre style=\"white-space:pre;overflow-x:auto;line-height:normal;font-family:Menlo,'DejaVu Sans Mono',consolas,'Courier New',monospace\">Warning: photons not found in sample. The following cuts will not be applied: ['pT &gt; 20 GeV', '|eta| &lt; 2.5', \n",
       "'looseID']\n",
       "</pre>\n"
      ],
      "text/plain": [
       "Warning: photons not found in sample. The following cuts will not be applied: ['pT > 20 GeV', '|eta| < 2.5', \n",
       "'looseID']\n"
      ]
     },
     "metadata": {},
     "output_type": "display_data"
    },
    {
     "data": {
      "text/html": [
       "<pre style=\"white-space:pre;overflow-x:auto;line-height:normal;font-family:Menlo,'DejaVu Sans Mono',consolas,'Courier New',monospace\">Warning: Unable to apply ifcsczero for dsaMuons. Skipping.\n",
       "</pre>\n"
      ],
      "text/plain": [
       "Warning: Unable to apply ifcsczero for dsaMuons. Skipping.\n"
      ]
     },
     "metadata": {},
     "output_type": "display_data"
    },
    {
     "data": {
      "text/html": [
       "<pre style=\"white-space:pre;overflow-x:auto;line-height:normal;font-family:Menlo,'DejaVu Sans Mono',consolas,'Courier New',monospace\">Warning: Unable to apply segOverlap &lt; 0.66 for dsaMuons. Skipping.\n",
       "</pre>\n"
      ],
      "text/plain": [
       "Warning: Unable to apply segOverlap < 0.66 for dsaMuons. Skipping.\n"
      ]
     },
     "metadata": {},
     "output_type": "display_data"
    },
    {
     "data": {
      "text/html": [
       "<pre style=\"white-space:pre;overflow-x:auto;line-height:normal;font-family:Menlo,'DejaVu Sans Mono',consolas,'Courier New',monospace\">Warning: Unable to apply extrapolatedDr &gt; 0.2 for dsaMuons. Skipping.\n",
       "</pre>\n"
      ],
      "text/plain": [
       "Warning: Unable to apply extrapolatedDr > 0.2 for dsaMuons. Skipping.\n"
      ]
     },
     "metadata": {},
     "output_type": "display_data"
    },
    {
     "data": {
      "text/html": [
       "<pre style=\"white-space:pre;overflow-x:auto;line-height:normal;font-family:Menlo,'DejaVu Sans Mono',consolas,'Courier New',monospace\">Warning: Unable to apply isSubsetAnyPFMuon False for dsaMuons. Skipping.\n",
       "</pre>\n"
      ],
      "text/plain": [
       "Warning: Unable to apply isSubsetAnyPFMuon False for dsaMuons. Skipping.\n"
      ]
     },
     "metadata": {},
     "output_type": "display_data"
    },
    {
     "data": {
      "text/html": [
       "<pre style=\"white-space:pre;overflow-x:auto;line-height:normal;font-family:Menlo,'DejaVu Sans Mono',consolas,'Courier New',monospace\">Warning: Unable to apply DT + CSC hits &gt; 12 for dsaMuons. Skipping.\n",
       "</pre>\n"
      ],
      "text/plain": [
       "Warning: Unable to apply DT + CSC hits > 12 for dsaMuons. Skipping.\n"
      ]
     },
     "metadata": {},
     "output_type": "display_data"
    },
    {
     "data": {
      "text/html": [
       "<pre style=\"white-space:pre;overflow-x:auto;line-height:normal;font-family:Menlo,'DejaVu Sans Mono',consolas,'Courier New',monospace\">Warning: Unable to apply DT + CSC stations &gt;= 2 for dsaMuons. Skipping.\n",
       "</pre>\n"
      ],
      "text/plain": [
       "Warning: Unable to apply DT + CSC stations >= 2 for dsaMuons. Skipping.\n"
      ]
     },
     "metadata": {},
     "output_type": "display_data"
    },
    {
     "data": {
      "text/html": [
       "<pre style=\"white-space:pre;overflow-x:auto;line-height:normal;font-family:Menlo,'DejaVu Sans Mono',consolas,'Courier New',monospace\">Warning: Unable to apply ptErrorOverPT &lt; 1 for dsaMuons. Skipping.\n",
       "</pre>\n"
      ],
      "text/plain": [
       "Warning: Unable to apply ptErrorOverPT < 1 for dsaMuons. Skipping.\n"
      ]
     },
     "metadata": {},
     "output_type": "display_data"
    },
    {
     "data": {
      "text/html": [
       "<pre style=\"white-space:pre;overflow-x:auto;line-height:normal;font-family:Menlo,'DejaVu Sans Mono',consolas,'Courier New',monospace\">Warning: electrons not found in sample. The following cuts will not be applied: ['pT &gt; 10 GeV', '|eta| &lt; 2.4', \n",
       "'looseID']\n",
       "</pre>\n"
      ],
      "text/plain": [
       "Warning: electrons not found in sample. The following cuts will not be applied: ['pT > 10 GeV', '|eta| < 2.4', \n",
       "'looseID']\n"
      ]
     },
     "metadata": {},
     "output_type": "display_data"
    },
    {
     "data": {
      "text/html": [
       "<pre style=\"white-space:pre;overflow-x:auto;line-height:normal;font-family:Menlo,'DejaVu Sans Mono',consolas,'Courier New',monospace\">Uh oh, haven't evaluated this cut yet! Make sure it was included in the list of cuts you used to initialize this \n",
       "JaggedSelection.   muons :  looseID\n",
       "</pre>\n"
      ],
      "text/plain": [
       "Uh oh, haven't evaluated this cut yet! Make sure it was included in the list of cuts you used to initialize this \n",
       "JaggedSelection.   muons :  looseID\n"
      ]
     },
     "metadata": {},
     "output_type": "display_data"
    },
    {
     "data": {
      "text/html": [
       "<pre style=\"white-space:pre;overflow-x:auto;line-height:normal;font-family:Menlo,'DejaVu Sans Mono',consolas,'Courier New',monospace\">Warning: photons not found in sample. The following cuts will not be applied: ['pT &gt; 20 GeV', '|eta| &lt; 2.5', \n",
       "'looseID']\n",
       "</pre>\n"
      ],
      "text/plain": [
       "Warning: photons not found in sample. The following cuts will not be applied: ['pT > 20 GeV', '|eta| < 2.5', \n",
       "'looseID']\n"
      ]
     },
     "metadata": {},
     "output_type": "display_data"
    },
    {
     "data": {
      "text/html": [
       "<pre style=\"white-space:pre;overflow-x:auto;line-height:normal;font-family:Menlo,'DejaVu Sans Mono',consolas,'Courier New',monospace\">Uh oh, haven't evaluated this cut yet! Make sure it was included in the list of cuts you used to initialize this \n",
       "JaggedSelection.   dsaMuons :  ifcsczero\n",
       "</pre>\n"
      ],
      "text/plain": [
       "Uh oh, haven't evaluated this cut yet! Make sure it was included in the list of cuts you used to initialize this \n",
       "JaggedSelection.   dsaMuons :  ifcsczero\n"
      ]
     },
     "metadata": {},
     "output_type": "display_data"
    },
    {
     "data": {
      "text/html": [
       "<pre style=\"white-space:pre;overflow-x:auto;line-height:normal;font-family:Menlo,'DejaVu Sans Mono',consolas,'Courier New',monospace\">Uh oh, haven't evaluated this cut yet! Make sure it was included in the list of cuts you used to initialize this \n",
       "JaggedSelection.   dsaMuons :  segOverlap &lt; 0.66\n",
       "</pre>\n"
      ],
      "text/plain": [
       "Uh oh, haven't evaluated this cut yet! Make sure it was included in the list of cuts you used to initialize this \n",
       "JaggedSelection.   dsaMuons :  segOverlap < 0.66\n"
      ]
     },
     "metadata": {},
     "output_type": "display_data"
    },
    {
     "data": {
      "text/html": [
       "<pre style=\"white-space:pre;overflow-x:auto;line-height:normal;font-family:Menlo,'DejaVu Sans Mono',consolas,'Courier New',monospace\">Uh oh, haven't evaluated this cut yet! Make sure it was included in the list of cuts you used to initialize this \n",
       "JaggedSelection.   dsaMuons :  extrapolatedDr &gt; 0.2\n",
       "</pre>\n"
      ],
      "text/plain": [
       "Uh oh, haven't evaluated this cut yet! Make sure it was included in the list of cuts you used to initialize this \n",
       "JaggedSelection.   dsaMuons :  extrapolatedDr > 0.2\n"
      ]
     },
     "metadata": {},
     "output_type": "display_data"
    },
    {
     "data": {
      "text/html": [
       "<pre style=\"white-space:pre;overflow-x:auto;line-height:normal;font-family:Menlo,'DejaVu Sans Mono',consolas,'Courier New',monospace\">Uh oh, haven't evaluated this cut yet! Make sure it was included in the list of cuts you used to initialize this \n",
       "JaggedSelection.   dsaMuons :  isSubsetAnyPFMuon False\n",
       "</pre>\n"
      ],
      "text/plain": [
       "Uh oh, haven't evaluated this cut yet! Make sure it was included in the list of cuts you used to initialize this \n",
       "JaggedSelection.   dsaMuons :  isSubsetAnyPFMuon False\n"
      ]
     },
     "metadata": {},
     "output_type": "display_data"
    },
    {
     "data": {
      "text/html": [
       "<pre style=\"white-space:pre;overflow-x:auto;line-height:normal;font-family:Menlo,'DejaVu Sans Mono',consolas,'Courier New',monospace\">Uh oh, haven't evaluated this cut yet! Make sure it was included in the list of cuts you used to initialize this \n",
       "JaggedSelection.   dsaMuons :  DT + CSC hits &gt; 12\n",
       "</pre>\n"
      ],
      "text/plain": [
       "Uh oh, haven't evaluated this cut yet! Make sure it was included in the list of cuts you used to initialize this \n",
       "JaggedSelection.   dsaMuons :  DT + CSC hits > 12\n"
      ]
     },
     "metadata": {},
     "output_type": "display_data"
    },
    {
     "data": {
      "text/html": [
       "<pre style=\"white-space:pre;overflow-x:auto;line-height:normal;font-family:Menlo,'DejaVu Sans Mono',consolas,'Courier New',monospace\">Uh oh, haven't evaluated this cut yet! Make sure it was included in the list of cuts you used to initialize this \n",
       "JaggedSelection.   dsaMuons :  DT + CSC stations &gt;= 2\n",
       "</pre>\n"
      ],
      "text/plain": [
       "Uh oh, haven't evaluated this cut yet! Make sure it was included in the list of cuts you used to initialize this \n",
       "JaggedSelection.   dsaMuons :  DT + CSC stations >= 2\n"
      ]
     },
     "metadata": {},
     "output_type": "display_data"
    },
    {
     "data": {
      "text/html": [
       "<pre style=\"white-space:pre;overflow-x:auto;line-height:normal;font-family:Menlo,'DejaVu Sans Mono',consolas,'Courier New',monospace\">Uh oh, haven't evaluated this cut yet! Make sure it was included in the list of cuts you used to initialize this \n",
       "JaggedSelection.   dsaMuons :  ptErrorOverPT &lt; 1\n",
       "</pre>\n"
      ],
      "text/plain": [
       "Uh oh, haven't evaluated this cut yet! Make sure it was included in the list of cuts you used to initialize this \n",
       "JaggedSelection.   dsaMuons :  ptErrorOverPT < 1\n"
      ]
     },
     "metadata": {},
     "output_type": "display_data"
    },
    {
     "data": {
      "text/html": [
       "<pre style=\"white-space:pre;overflow-x:auto;line-height:normal;font-family:Menlo,'DejaVu Sans Mono',consolas,'Courier New',monospace\">Warning: cannot fill counter Gen As to muons. Skipping.\n",
       "</pre>\n"
      ],
      "text/plain": [
       "Warning: cannot fill counter Gen As to muons. Skipping.\n"
      ]
     },
     "metadata": {},
     "output_type": "display_data"
    },
    {
     "data": {
      "text/html": [
       "<pre style=\"white-space:pre;overflow-x:auto;line-height:normal;font-family:Menlo,'DejaVu Sans Mono',consolas,'Courier New',monospace\">Warning: cannot fill counter Gen As to electrons. Skipping.\n",
       "</pre>\n"
      ],
      "text/plain": [
       "Warning: cannot fill counter Gen As to electrons. Skipping.\n"
      ]
     },
     "metadata": {},
     "output_type": "display_data"
    },
    {
     "data": {
      "text/html": [
       "<pre style=\"white-space:pre;overflow-x:auto;line-height:normal;font-family:Menlo,'DejaVu Sans Mono',consolas,'Courier New',monospace\">Warning: cannot fill counter Matched gen As to muons. Skipping.\n",
       "</pre>\n"
      ],
      "text/plain": [
       "Warning: cannot fill counter Matched gen As to muons. Skipping.\n"
      ]
     },
     "metadata": {},
     "output_type": "display_data"
    },
    {
     "data": {
      "text/html": [
       "<pre style=\"white-space:pre;overflow-x:auto;line-height:normal;font-family:Menlo,'DejaVu Sans Mono',consolas,'Courier New',monospace\">Warning: cannot fill counter Matched gen As to electrons. Skipping.\n",
       "</pre>\n"
      ],
      "text/plain": [
       "Warning: cannot fill counter Matched gen As to electrons. Skipping.\n"
      ]
     },
     "metadata": {},
     "output_type": "display_data"
    },
    {
     "data": {
      "text/html": [
       "<pre style=\"white-space:pre;overflow-x:auto;line-height:normal;font-family:Menlo,'DejaVu Sans Mono',consolas,'Courier New',monospace\">Warning: electrons not found in sample. The following cuts will not be applied: ['pT &gt; 10 GeV', '|eta| &lt; 2.4', \n",
       "'looseID']\n",
       "</pre>\n"
      ],
      "text/plain": [
       "Warning: electrons not found in sample. The following cuts will not be applied: ['pT > 10 GeV', '|eta| < 2.4', \n",
       "'looseID']\n"
      ]
     },
     "metadata": {},
     "output_type": "display_data"
    },
    {
     "data": {
      "text/html": [
       "<pre style=\"white-space:pre;overflow-x:auto;line-height:normal;font-family:Menlo,'DejaVu Sans Mono',consolas,'Courier New',monospace\">Uh oh, haven't evaluated this cut yet! Make sure it was included in the list of cuts you used to initialize this \n",
       "JaggedSelection.   muons :  looseID\n",
       "</pre>\n"
      ],
      "text/plain": [
       "Uh oh, haven't evaluated this cut yet! Make sure it was included in the list of cuts you used to initialize this \n",
       "JaggedSelection.   muons :  looseID\n"
      ]
     },
     "metadata": {},
     "output_type": "display_data"
    },
    {
     "data": {
      "text/html": [
       "<pre style=\"white-space:pre;overflow-x:auto;line-height:normal;font-family:Menlo,'DejaVu Sans Mono',consolas,'Courier New',monospace\">Warning: photons not found in sample. The following cuts will not be applied: ['pT &gt; 20 GeV', '|eta| &lt; 2.5', \n",
       "'looseID']\n",
       "</pre>\n"
      ],
      "text/plain": [
       "Warning: photons not found in sample. The following cuts will not be applied: ['pT > 20 GeV', '|eta| < 2.5', \n",
       "'looseID']\n"
      ]
     },
     "metadata": {},
     "output_type": "display_data"
    },
    {
     "data": {
      "text/html": [
       "<pre style=\"white-space:pre;overflow-x:auto;line-height:normal;font-family:Menlo,'DejaVu Sans Mono',consolas,'Courier New',monospace\">Uh oh, haven't evaluated this cut yet! Make sure it was included in the list of cuts you used to initialize this \n",
       "JaggedSelection.   dsaMuons :  ifcsczero\n",
       "</pre>\n"
      ],
      "text/plain": [
       "Uh oh, haven't evaluated this cut yet! Make sure it was included in the list of cuts you used to initialize this \n",
       "JaggedSelection.   dsaMuons :  ifcsczero\n"
      ]
     },
     "metadata": {},
     "output_type": "display_data"
    },
    {
     "data": {
      "text/html": [
       "<pre style=\"white-space:pre;overflow-x:auto;line-height:normal;font-family:Menlo,'DejaVu Sans Mono',consolas,'Courier New',monospace\">Uh oh, haven't evaluated this cut yet! Make sure it was included in the list of cuts you used to initialize this \n",
       "JaggedSelection.   dsaMuons :  segOverlap &lt; 0.66\n",
       "</pre>\n"
      ],
      "text/plain": [
       "Uh oh, haven't evaluated this cut yet! Make sure it was included in the list of cuts you used to initialize this \n",
       "JaggedSelection.   dsaMuons :  segOverlap < 0.66\n"
      ]
     },
     "metadata": {},
     "output_type": "display_data"
    },
    {
     "data": {
      "text/html": [
       "<pre style=\"white-space:pre;overflow-x:auto;line-height:normal;font-family:Menlo,'DejaVu Sans Mono',consolas,'Courier New',monospace\">Uh oh, haven't evaluated this cut yet! Make sure it was included in the list of cuts you used to initialize this \n",
       "JaggedSelection.   dsaMuons :  extrapolatedDr &gt; 0.2\n",
       "</pre>\n"
      ],
      "text/plain": [
       "Uh oh, haven't evaluated this cut yet! Make sure it was included in the list of cuts you used to initialize this \n",
       "JaggedSelection.   dsaMuons :  extrapolatedDr > 0.2\n"
      ]
     },
     "metadata": {},
     "output_type": "display_data"
    },
    {
     "data": {
      "text/html": [
       "<pre style=\"white-space:pre;overflow-x:auto;line-height:normal;font-family:Menlo,'DejaVu Sans Mono',consolas,'Courier New',monospace\">Uh oh, haven't evaluated this cut yet! Make sure it was included in the list of cuts you used to initialize this \n",
       "JaggedSelection.   dsaMuons :  isSubsetAnyPFMuon False\n",
       "</pre>\n"
      ],
      "text/plain": [
       "Uh oh, haven't evaluated this cut yet! Make sure it was included in the list of cuts you used to initialize this \n",
       "JaggedSelection.   dsaMuons :  isSubsetAnyPFMuon False\n"
      ]
     },
     "metadata": {},
     "output_type": "display_data"
    },
    {
     "data": {
      "text/html": [
       "<pre style=\"white-space:pre;overflow-x:auto;line-height:normal;font-family:Menlo,'DejaVu Sans Mono',consolas,'Courier New',monospace\">Uh oh, haven't evaluated this cut yet! Make sure it was included in the list of cuts you used to initialize this \n",
       "JaggedSelection.   dsaMuons :  DT + CSC hits &gt; 12\n",
       "</pre>\n"
      ],
      "text/plain": [
       "Uh oh, haven't evaluated this cut yet! Make sure it was included in the list of cuts you used to initialize this \n",
       "JaggedSelection.   dsaMuons :  DT + CSC hits > 12\n"
      ]
     },
     "metadata": {},
     "output_type": "display_data"
    },
    {
     "data": {
      "text/html": [
       "<pre style=\"white-space:pre;overflow-x:auto;line-height:normal;font-family:Menlo,'DejaVu Sans Mono',consolas,'Courier New',monospace\">Uh oh, haven't evaluated this cut yet! Make sure it was included in the list of cuts you used to initialize this \n",
       "JaggedSelection.   dsaMuons :  DT + CSC stations &gt;= 2\n",
       "</pre>\n"
      ],
      "text/plain": [
       "Uh oh, haven't evaluated this cut yet! Make sure it was included in the list of cuts you used to initialize this \n",
       "JaggedSelection.   dsaMuons :  DT + CSC stations >= 2\n"
      ]
     },
     "metadata": {},
     "output_type": "display_data"
    },
    {
     "data": {
      "text/html": [
       "<pre style=\"white-space:pre;overflow-x:auto;line-height:normal;font-family:Menlo,'DejaVu Sans Mono',consolas,'Courier New',monospace\">Uh oh, haven't evaluated this cut yet! Make sure it was included in the list of cuts you used to initialize this \n",
       "JaggedSelection.   dsaMuons :  ptErrorOverPT &lt; 1\n",
       "</pre>\n"
      ],
      "text/plain": [
       "Uh oh, haven't evaluated this cut yet! Make sure it was included in the list of cuts you used to initialize this \n",
       "JaggedSelection.   dsaMuons :  ptErrorOverPT < 1\n"
      ]
     },
     "metadata": {},
     "output_type": "display_data"
    },
    {
     "data": {
      "text/html": [
       "<pre style=\"white-space:pre;overflow-x:auto;line-height:normal;font-family:Menlo,'DejaVu Sans Mono',consolas,'Courier New',monospace\">Warning: cannot fill counter Gen As to muons. Skipping.\n",
       "</pre>\n"
      ],
      "text/plain": [
       "Warning: cannot fill counter Gen As to muons. Skipping.\n"
      ]
     },
     "metadata": {},
     "output_type": "display_data"
    },
    {
     "data": {
      "text/html": [
       "<pre style=\"white-space:pre;overflow-x:auto;line-height:normal;font-family:Menlo,'DejaVu Sans Mono',consolas,'Courier New',monospace\">Warning: cannot fill counter Gen As to electrons. Skipping.\n",
       "</pre>\n"
      ],
      "text/plain": [
       "Warning: cannot fill counter Gen As to electrons. Skipping.\n"
      ]
     },
     "metadata": {},
     "output_type": "display_data"
    },
    {
     "data": {
      "text/html": [
       "<pre style=\"white-space:pre;overflow-x:auto;line-height:normal;font-family:Menlo,'DejaVu Sans Mono',consolas,'Courier New',monospace\">Warning: cannot fill counter Matched gen As to muons. Skipping.\n",
       "</pre>\n"
      ],
      "text/plain": [
       "Warning: cannot fill counter Matched gen As to muons. Skipping.\n"
      ]
     },
     "metadata": {},
     "output_type": "display_data"
    },
    {
     "data": {
      "text/html": [
       "<pre style=\"white-space:pre;overflow-x:auto;line-height:normal;font-family:Menlo,'DejaVu Sans Mono',consolas,'Courier New',monospace\">Warning: cannot fill counter Matched gen As to electrons. Skipping.\n",
       "</pre>\n"
      ],
      "text/plain": [
       "Warning: cannot fill counter Matched gen As to electrons. Skipping.\n"
      ]
     },
     "metadata": {},
     "output_type": "display_data"
    },
    {
     "data": {
      "text/html": [
       "<pre style=\"white-space:pre;overflow-x:auto;line-height:normal;font-family:Menlo,'DejaVu Sans Mono',consolas,'Courier New',monospace\">Warning: electrons not found in sample. The following cuts will not be applied: ['pT &gt; 10 GeV', '|eta| &lt; 2.4', \n",
       "'looseID']\n",
       "</pre>\n"
      ],
      "text/plain": [
       "Warning: electrons not found in sample. The following cuts will not be applied: ['pT > 10 GeV', '|eta| < 2.4', \n",
       "'looseID']\n"
      ]
     },
     "metadata": {},
     "output_type": "display_data"
    },
    {
     "data": {
      "text/html": [
       "<pre style=\"white-space:pre;overflow-x:auto;line-height:normal;font-family:Menlo,'DejaVu Sans Mono',consolas,'Courier New',monospace\">Uh oh, haven't evaluated this cut yet! Make sure it was included in the list of cuts you used to initialize this \n",
       "JaggedSelection.   muons :  looseID\n",
       "</pre>\n"
      ],
      "text/plain": [
       "Uh oh, haven't evaluated this cut yet! Make sure it was included in the list of cuts you used to initialize this \n",
       "JaggedSelection.   muons :  looseID\n"
      ]
     },
     "metadata": {},
     "output_type": "display_data"
    },
    {
     "data": {
      "text/html": [
       "<pre style=\"white-space:pre;overflow-x:auto;line-height:normal;font-family:Menlo,'DejaVu Sans Mono',consolas,'Courier New',monospace\">Warning: photons not found in sample. The following cuts will not be applied: ['pT &gt; 20 GeV', '|eta| &lt; 2.5', \n",
       "'looseID']\n",
       "</pre>\n"
      ],
      "text/plain": [
       "Warning: photons not found in sample. The following cuts will not be applied: ['pT > 20 GeV', '|eta| < 2.5', \n",
       "'looseID']\n"
      ]
     },
     "metadata": {},
     "output_type": "display_data"
    },
    {
     "data": {
      "text/html": [
       "<pre style=\"white-space:pre;overflow-x:auto;line-height:normal;font-family:Menlo,'DejaVu Sans Mono',consolas,'Courier New',monospace\">Uh oh, haven't evaluated this cut yet! Make sure it was included in the list of cuts you used to initialize this \n",
       "JaggedSelection.   dsaMuons :  ifcsczero\n",
       "</pre>\n"
      ],
      "text/plain": [
       "Uh oh, haven't evaluated this cut yet! Make sure it was included in the list of cuts you used to initialize this \n",
       "JaggedSelection.   dsaMuons :  ifcsczero\n"
      ]
     },
     "metadata": {},
     "output_type": "display_data"
    },
    {
     "data": {
      "text/html": [
       "<pre style=\"white-space:pre;overflow-x:auto;line-height:normal;font-family:Menlo,'DejaVu Sans Mono',consolas,'Courier New',monospace\">Uh oh, haven't evaluated this cut yet! Make sure it was included in the list of cuts you used to initialize this \n",
       "JaggedSelection.   dsaMuons :  segOverlap &lt; 0.66\n",
       "</pre>\n"
      ],
      "text/plain": [
       "Uh oh, haven't evaluated this cut yet! Make sure it was included in the list of cuts you used to initialize this \n",
       "JaggedSelection.   dsaMuons :  segOverlap < 0.66\n"
      ]
     },
     "metadata": {},
     "output_type": "display_data"
    },
    {
     "data": {
      "text/html": [
       "<pre style=\"white-space:pre;overflow-x:auto;line-height:normal;font-family:Menlo,'DejaVu Sans Mono',consolas,'Courier New',monospace\">Uh oh, haven't evaluated this cut yet! Make sure it was included in the list of cuts you used to initialize this \n",
       "JaggedSelection.   dsaMuons :  extrapolatedDr &gt; 0.2\n",
       "</pre>\n"
      ],
      "text/plain": [
       "Uh oh, haven't evaluated this cut yet! Make sure it was included in the list of cuts you used to initialize this \n",
       "JaggedSelection.   dsaMuons :  extrapolatedDr > 0.2\n"
      ]
     },
     "metadata": {},
     "output_type": "display_data"
    },
    {
     "data": {
      "text/html": [
       "<pre style=\"white-space:pre;overflow-x:auto;line-height:normal;font-family:Menlo,'DejaVu Sans Mono',consolas,'Courier New',monospace\">Uh oh, haven't evaluated this cut yet! Make sure it was included in the list of cuts you used to initialize this \n",
       "JaggedSelection.   dsaMuons :  isSubsetAnyPFMuon False\n",
       "</pre>\n"
      ],
      "text/plain": [
       "Uh oh, haven't evaluated this cut yet! Make sure it was included in the list of cuts you used to initialize this \n",
       "JaggedSelection.   dsaMuons :  isSubsetAnyPFMuon False\n"
      ]
     },
     "metadata": {},
     "output_type": "display_data"
    },
    {
     "data": {
      "text/html": [
       "<pre style=\"white-space:pre;overflow-x:auto;line-height:normal;font-family:Menlo,'DejaVu Sans Mono',consolas,'Courier New',monospace\">Uh oh, haven't evaluated this cut yet! Make sure it was included in the list of cuts you used to initialize this \n",
       "JaggedSelection.   dsaMuons :  DT + CSC hits &gt; 12\n",
       "</pre>\n"
      ],
      "text/plain": [
       "Uh oh, haven't evaluated this cut yet! Make sure it was included in the list of cuts you used to initialize this \n",
       "JaggedSelection.   dsaMuons :  DT + CSC hits > 12\n"
      ]
     },
     "metadata": {},
     "output_type": "display_data"
    },
    {
     "data": {
      "text/html": [
       "<pre style=\"white-space:pre;overflow-x:auto;line-height:normal;font-family:Menlo,'DejaVu Sans Mono',consolas,'Courier New',monospace\">Uh oh, haven't evaluated this cut yet! Make sure it was included in the list of cuts you used to initialize this \n",
       "JaggedSelection.   dsaMuons :  DT + CSC stations &gt;= 2\n",
       "</pre>\n"
      ],
      "text/plain": [
       "Uh oh, haven't evaluated this cut yet! Make sure it was included in the list of cuts you used to initialize this \n",
       "JaggedSelection.   dsaMuons :  DT + CSC stations >= 2\n"
      ]
     },
     "metadata": {},
     "output_type": "display_data"
    },
    {
     "data": {
      "text/html": [
       "<pre style=\"white-space:pre;overflow-x:auto;line-height:normal;font-family:Menlo,'DejaVu Sans Mono',consolas,'Courier New',monospace\">Uh oh, haven't evaluated this cut yet! Make sure it was included in the list of cuts you used to initialize this \n",
       "JaggedSelection.   dsaMuons :  ptErrorOverPT &lt; 1\n",
       "</pre>\n"
      ],
      "text/plain": [
       "Uh oh, haven't evaluated this cut yet! Make sure it was included in the list of cuts you used to initialize this \n",
       "JaggedSelection.   dsaMuons :  ptErrorOverPT < 1\n"
      ]
     },
     "metadata": {},
     "output_type": "display_data"
    },
    {
     "data": {
      "text/html": [
       "<pre style=\"white-space:pre;overflow-x:auto;line-height:normal;font-family:Menlo,'DejaVu Sans Mono',consolas,'Courier New',monospace\">Warning: cannot fill counter Gen As to muons. Skipping.\n",
       "</pre>\n"
      ],
      "text/plain": [
       "Warning: cannot fill counter Gen As to muons. Skipping.\n"
      ]
     },
     "metadata": {},
     "output_type": "display_data"
    },
    {
     "data": {
      "text/html": [
       "<pre style=\"white-space:pre;overflow-x:auto;line-height:normal;font-family:Menlo,'DejaVu Sans Mono',consolas,'Courier New',monospace\">Warning: cannot fill counter Gen As to electrons. Skipping.\n",
       "</pre>\n"
      ],
      "text/plain": [
       "Warning: cannot fill counter Gen As to electrons. Skipping.\n"
      ]
     },
     "metadata": {},
     "output_type": "display_data"
    },
    {
     "data": {
      "text/html": [
       "<pre style=\"white-space:pre;overflow-x:auto;line-height:normal;font-family:Menlo,'DejaVu Sans Mono',consolas,'Courier New',monospace\">Warning: cannot fill counter Matched gen As to muons. Skipping.\n",
       "</pre>\n"
      ],
      "text/plain": [
       "Warning: cannot fill counter Matched gen As to muons. Skipping.\n"
      ]
     },
     "metadata": {},
     "output_type": "display_data"
    },
    {
     "data": {
      "text/html": [
       "<pre style=\"white-space:pre;overflow-x:auto;line-height:normal;font-family:Menlo,'DejaVu Sans Mono',consolas,'Courier New',monospace\">Warning: cannot fill counter Matched gen As to electrons. Skipping.\n",
       "</pre>\n"
      ],
      "text/plain": [
       "Warning: cannot fill counter Matched gen As to electrons. Skipping.\n"
      ]
     },
     "metadata": {},
     "output_type": "display_data"
    },
    {
     "data": {
      "text/html": [
       "<pre style=\"white-space:pre;overflow-x:auto;line-height:normal;font-family:Menlo,'DejaVu Sans Mono',consolas,'Courier New',monospace\">Warning: electrons not found in this sample. Skipping.\n",
       "</pre>\n"
      ],
      "text/plain": [
       "Warning: electrons not found in this sample. Skipping.\n"
      ]
     },
     "metadata": {},
     "output_type": "display_data"
    },
    {
     "data": {
      "text/html": [
       "<pre style=\"white-space:pre;overflow-x:auto;line-height:normal;font-family:Menlo,'DejaVu Sans Mono',consolas,'Courier New',monospace\">Warning: photons not found in this sample. Skipping.\n",
       "</pre>\n"
      ],
      "text/plain": [
       "Warning: photons not found in this sample. Skipping.\n"
      ]
     },
     "metadata": {},
     "output_type": "display_data"
    },
    {
     "data": {
      "text/html": [
       "<pre style=\"white-space:pre;overflow-x:auto;line-height:normal;font-family:Menlo,'DejaVu Sans Mono',consolas,'Courier New',monospace\">Warning: genAs_toMu not found in this sample. Skipping.\n",
       "</pre>\n"
      ],
      "text/plain": [
       "Warning: genAs_toMu not found in this sample. Skipping.\n"
      ]
     },
     "metadata": {},
     "output_type": "display_data"
    },
    {
     "data": {
      "text/html": [
       "<pre style=\"white-space:pre;overflow-x:auto;line-height:normal;font-family:Menlo,'DejaVu Sans Mono',consolas,'Courier New',monospace\">Warning: genAs_toE not found in this sample. Skipping.\n",
       "</pre>\n"
      ],
      "text/plain": [
       "Warning: genAs_toE not found in this sample. Skipping.\n"
      ]
     },
     "metadata": {},
     "output_type": "display_data"
    },
    {
     "data": {
      "text/html": [
       "<pre style=\"white-space:pre;overflow-x:auto;line-height:normal;font-family:Menlo,'DejaVu Sans Mono',consolas,'Courier New',monospace\">Not applying any cuts to the lepton jets for channel  baseNoLj\n",
       "</pre>\n"
      ],
      "text/plain": [
       "Not applying any cuts to the lepton jets for channel  baseNoLj\n"
      ]
     },
     "metadata": {},
     "output_type": "display_data"
    },
    {
     "data": {
      "text/html": [
       "<pre style=\"white-space:pre;overflow-x:auto;line-height:normal;font-family:Menlo,'DejaVu Sans Mono',consolas,'Courier New',monospace\">Warning: electrons not found in sample. The following cuts will not be applied: ['pT &gt; 10 GeV', '|eta| &lt; 2.4', \n",
       "'looseID']\n",
       "</pre>\n"
      ],
      "text/plain": [
       "Warning: electrons not found in sample. The following cuts will not be applied: ['pT > 10 GeV', '|eta| < 2.4', \n",
       "'looseID']\n"
      ]
     },
     "metadata": {},
     "output_type": "display_data"
    },
    {
     "data": {
      "text/html": [
       "<pre style=\"white-space:pre;overflow-x:auto;line-height:normal;font-family:Menlo,'DejaVu Sans Mono',consolas,'Courier New',monospace\">Warning: Unable to apply looseID for muons. Skipping.\n",
       "</pre>\n"
      ],
      "text/plain": [
       "Warning: Unable to apply looseID for muons. Skipping.\n"
      ]
     },
     "metadata": {},
     "output_type": "display_data"
    },
    {
     "data": {
      "text/html": [
       "<pre style=\"white-space:pre;overflow-x:auto;line-height:normal;font-family:Menlo,'DejaVu Sans Mono',consolas,'Courier New',monospace\">Warning: photons not found in sample. The following cuts will not be applied: ['pT &gt; 20 GeV', '|eta| &lt; 2.5', \n",
       "'looseID']\n",
       "</pre>\n"
      ],
      "text/plain": [
       "Warning: photons not found in sample. The following cuts will not be applied: ['pT > 20 GeV', '|eta| < 2.5', \n",
       "'looseID']\n"
      ]
     },
     "metadata": {},
     "output_type": "display_data"
    },
    {
     "data": {
      "text/html": [
       "<pre style=\"white-space:pre;overflow-x:auto;line-height:normal;font-family:Menlo,'DejaVu Sans Mono',consolas,'Courier New',monospace\">Warning: Unable to apply ifcsczero for dsaMuons. Skipping.\n",
       "</pre>\n"
      ],
      "text/plain": [
       "Warning: Unable to apply ifcsczero for dsaMuons. Skipping.\n"
      ]
     },
     "metadata": {},
     "output_type": "display_data"
    },
    {
     "data": {
      "text/html": [
       "<pre style=\"white-space:pre;overflow-x:auto;line-height:normal;font-family:Menlo,'DejaVu Sans Mono',consolas,'Courier New',monospace\">Warning: Unable to apply segOverlap &lt; 0.66 for dsaMuons. Skipping.\n",
       "</pre>\n"
      ],
      "text/plain": [
       "Warning: Unable to apply segOverlap < 0.66 for dsaMuons. Skipping.\n"
      ]
     },
     "metadata": {},
     "output_type": "display_data"
    },
    {
     "data": {
      "text/html": [
       "<pre style=\"white-space:pre;overflow-x:auto;line-height:normal;font-family:Menlo,'DejaVu Sans Mono',consolas,'Courier New',monospace\">Warning: Unable to apply extrapolatedDr &gt; 0.2 for dsaMuons. Skipping.\n",
       "</pre>\n"
      ],
      "text/plain": [
       "Warning: Unable to apply extrapolatedDr > 0.2 for dsaMuons. Skipping.\n"
      ]
     },
     "metadata": {},
     "output_type": "display_data"
    },
    {
     "data": {
      "text/html": [
       "<pre style=\"white-space:pre;overflow-x:auto;line-height:normal;font-family:Menlo,'DejaVu Sans Mono',consolas,'Courier New',monospace\">Warning: Unable to apply isSubsetAnyPFMuon False for dsaMuons. Skipping.\n",
       "</pre>\n"
      ],
      "text/plain": [
       "Warning: Unable to apply isSubsetAnyPFMuon False for dsaMuons. Skipping.\n"
      ]
     },
     "metadata": {},
     "output_type": "display_data"
    },
    {
     "data": {
      "text/html": [
       "<pre style=\"white-space:pre;overflow-x:auto;line-height:normal;font-family:Menlo,'DejaVu Sans Mono',consolas,'Courier New',monospace\">Warning: Unable to apply DT + CSC hits &gt; 12 for dsaMuons. Skipping.\n",
       "</pre>\n"
      ],
      "text/plain": [
       "Warning: Unable to apply DT + CSC hits > 12 for dsaMuons. Skipping.\n"
      ]
     },
     "metadata": {},
     "output_type": "display_data"
    },
    {
     "data": {
      "text/html": [
       "<pre style=\"white-space:pre;overflow-x:auto;line-height:normal;font-family:Menlo,'DejaVu Sans Mono',consolas,'Courier New',monospace\">Warning: Unable to apply DT + CSC stations &gt;= 2 for dsaMuons. Skipping.\n",
       "</pre>\n"
      ],
      "text/plain": [
       "Warning: Unable to apply DT + CSC stations >= 2 for dsaMuons. Skipping.\n"
      ]
     },
     "metadata": {},
     "output_type": "display_data"
    },
    {
     "data": {
      "text/html": [
       "<pre style=\"white-space:pre;overflow-x:auto;line-height:normal;font-family:Menlo,'DejaVu Sans Mono',consolas,'Courier New',monospace\">Warning: Unable to apply ptErrorOverPT &lt; 1 for dsaMuons. Skipping.\n",
       "</pre>\n"
      ],
      "text/plain": [
       "Warning: Unable to apply ptErrorOverPT < 1 for dsaMuons. Skipping.\n"
      ]
     },
     "metadata": {},
     "output_type": "display_data"
    },
    {
     "data": {
      "text/html": [
       "<pre style=\"white-space:pre;overflow-x:auto;line-height:normal;font-family:Menlo,'DejaVu Sans Mono',consolas,'Courier New',monospace\">Warning: electrons not found in sample. The following cuts will not be applied: ['pT &gt; 10 GeV', '|eta| &lt; 2.4', \n",
       "'looseID']\n",
       "</pre>\n"
      ],
      "text/plain": [
       "Warning: electrons not found in sample. The following cuts will not be applied: ['pT > 10 GeV', '|eta| < 2.4', \n",
       "'looseID']\n"
      ]
     },
     "metadata": {},
     "output_type": "display_data"
    },
    {
     "data": {
      "text/html": [
       "<pre style=\"white-space:pre;overflow-x:auto;line-height:normal;font-family:Menlo,'DejaVu Sans Mono',consolas,'Courier New',monospace\">Uh oh, haven't evaluated this cut yet! Make sure it was included in the list of cuts you used to initialize this \n",
       "JaggedSelection.   muons :  looseID\n",
       "</pre>\n"
      ],
      "text/plain": [
       "Uh oh, haven't evaluated this cut yet! Make sure it was included in the list of cuts you used to initialize this \n",
       "JaggedSelection.   muons :  looseID\n"
      ]
     },
     "metadata": {},
     "output_type": "display_data"
    },
    {
     "data": {
      "text/html": [
       "<pre style=\"white-space:pre;overflow-x:auto;line-height:normal;font-family:Menlo,'DejaVu Sans Mono',consolas,'Courier New',monospace\">Warning: photons not found in sample. The following cuts will not be applied: ['pT &gt; 20 GeV', '|eta| &lt; 2.5', \n",
       "'looseID']\n",
       "</pre>\n"
      ],
      "text/plain": [
       "Warning: photons not found in sample. The following cuts will not be applied: ['pT > 20 GeV', '|eta| < 2.5', \n",
       "'looseID']\n"
      ]
     },
     "metadata": {},
     "output_type": "display_data"
    },
    {
     "data": {
      "text/html": [
       "<pre style=\"white-space:pre;overflow-x:auto;line-height:normal;font-family:Menlo,'DejaVu Sans Mono',consolas,'Courier New',monospace\">Uh oh, haven't evaluated this cut yet! Make sure it was included in the list of cuts you used to initialize this \n",
       "JaggedSelection.   dsaMuons :  ifcsczero\n",
       "</pre>\n"
      ],
      "text/plain": [
       "Uh oh, haven't evaluated this cut yet! Make sure it was included in the list of cuts you used to initialize this \n",
       "JaggedSelection.   dsaMuons :  ifcsczero\n"
      ]
     },
     "metadata": {},
     "output_type": "display_data"
    },
    {
     "data": {
      "text/html": [
       "<pre style=\"white-space:pre;overflow-x:auto;line-height:normal;font-family:Menlo,'DejaVu Sans Mono',consolas,'Courier New',monospace\">Uh oh, haven't evaluated this cut yet! Make sure it was included in the list of cuts you used to initialize this \n",
       "JaggedSelection.   dsaMuons :  segOverlap &lt; 0.66\n",
       "</pre>\n"
      ],
      "text/plain": [
       "Uh oh, haven't evaluated this cut yet! Make sure it was included in the list of cuts you used to initialize this \n",
       "JaggedSelection.   dsaMuons :  segOverlap < 0.66\n"
      ]
     },
     "metadata": {},
     "output_type": "display_data"
    },
    {
     "data": {
      "text/html": [
       "<pre style=\"white-space:pre;overflow-x:auto;line-height:normal;font-family:Menlo,'DejaVu Sans Mono',consolas,'Courier New',monospace\">Uh oh, haven't evaluated this cut yet! Make sure it was included in the list of cuts you used to initialize this \n",
       "JaggedSelection.   dsaMuons :  extrapolatedDr &gt; 0.2\n",
       "</pre>\n"
      ],
      "text/plain": [
       "Uh oh, haven't evaluated this cut yet! Make sure it was included in the list of cuts you used to initialize this \n",
       "JaggedSelection.   dsaMuons :  extrapolatedDr > 0.2\n"
      ]
     },
     "metadata": {},
     "output_type": "display_data"
    },
    {
     "data": {
      "text/html": [
       "<pre style=\"white-space:pre;overflow-x:auto;line-height:normal;font-family:Menlo,'DejaVu Sans Mono',consolas,'Courier New',monospace\">Uh oh, haven't evaluated this cut yet! Make sure it was included in the list of cuts you used to initialize this \n",
       "JaggedSelection.   dsaMuons :  isSubsetAnyPFMuon False\n",
       "</pre>\n"
      ],
      "text/plain": [
       "Uh oh, haven't evaluated this cut yet! Make sure it was included in the list of cuts you used to initialize this \n",
       "JaggedSelection.   dsaMuons :  isSubsetAnyPFMuon False\n"
      ]
     },
     "metadata": {},
     "output_type": "display_data"
    },
    {
     "data": {
      "text/html": [
       "<pre style=\"white-space:pre;overflow-x:auto;line-height:normal;font-family:Menlo,'DejaVu Sans Mono',consolas,'Courier New',monospace\">Uh oh, haven't evaluated this cut yet! Make sure it was included in the list of cuts you used to initialize this \n",
       "JaggedSelection.   dsaMuons :  DT + CSC hits &gt; 12\n",
       "</pre>\n"
      ],
      "text/plain": [
       "Uh oh, haven't evaluated this cut yet! Make sure it was included in the list of cuts you used to initialize this \n",
       "JaggedSelection.   dsaMuons :  DT + CSC hits > 12\n"
      ]
     },
     "metadata": {},
     "output_type": "display_data"
    },
    {
     "data": {
      "text/html": [
       "<pre style=\"white-space:pre;overflow-x:auto;line-height:normal;font-family:Menlo,'DejaVu Sans Mono',consolas,'Courier New',monospace\">Uh oh, haven't evaluated this cut yet! Make sure it was included in the list of cuts you used to initialize this \n",
       "JaggedSelection.   dsaMuons :  DT + CSC stations &gt;= 2\n",
       "</pre>\n"
      ],
      "text/plain": [
       "Uh oh, haven't evaluated this cut yet! Make sure it was included in the list of cuts you used to initialize this \n",
       "JaggedSelection.   dsaMuons :  DT + CSC stations >= 2\n"
      ]
     },
     "metadata": {},
     "output_type": "display_data"
    },
    {
     "data": {
      "text/html": [
       "<pre style=\"white-space:pre;overflow-x:auto;line-height:normal;font-family:Menlo,'DejaVu Sans Mono',consolas,'Courier New',monospace\">Uh oh, haven't evaluated this cut yet! Make sure it was included in the list of cuts you used to initialize this \n",
       "JaggedSelection.   dsaMuons :  ptErrorOverPT &lt; 1\n",
       "</pre>\n"
      ],
      "text/plain": [
       "Uh oh, haven't evaluated this cut yet! Make sure it was included in the list of cuts you used to initialize this \n",
       "JaggedSelection.   dsaMuons :  ptErrorOverPT < 1\n"
      ]
     },
     "metadata": {},
     "output_type": "display_data"
    },
    {
     "data": {
      "text/html": [
       "<pre style=\"white-space:pre;overflow-x:auto;line-height:normal;font-family:Menlo,'DejaVu Sans Mono',consolas,'Courier New',monospace\">Warning: cannot fill counter Gen As to muons. Skipping.\n",
       "</pre>\n"
      ],
      "text/plain": [
       "Warning: cannot fill counter Gen As to muons. Skipping.\n"
      ]
     },
     "metadata": {},
     "output_type": "display_data"
    },
    {
     "data": {
      "text/html": [
       "<pre style=\"white-space:pre;overflow-x:auto;line-height:normal;font-family:Menlo,'DejaVu Sans Mono',consolas,'Courier New',monospace\">Warning: cannot fill counter Gen As to electrons. Skipping.\n",
       "</pre>\n"
      ],
      "text/plain": [
       "Warning: cannot fill counter Gen As to electrons. Skipping.\n"
      ]
     },
     "metadata": {},
     "output_type": "display_data"
    },
    {
     "data": {
      "text/html": [
       "<pre style=\"white-space:pre;overflow-x:auto;line-height:normal;font-family:Menlo,'DejaVu Sans Mono',consolas,'Courier New',monospace\">Warning: cannot fill counter Matched gen As to muons. Skipping.\n",
       "</pre>\n"
      ],
      "text/plain": [
       "Warning: cannot fill counter Matched gen As to muons. Skipping.\n"
      ]
     },
     "metadata": {},
     "output_type": "display_data"
    },
    {
     "data": {
      "text/html": [
       "<pre style=\"white-space:pre;overflow-x:auto;line-height:normal;font-family:Menlo,'DejaVu Sans Mono',consolas,'Courier New',monospace\">Warning: cannot fill counter Matched gen As to electrons. Skipping.\n",
       "</pre>\n"
      ],
      "text/plain": [
       "Warning: cannot fill counter Matched gen As to electrons. Skipping.\n"
      ]
     },
     "metadata": {},
     "output_type": "display_data"
    },
    {
     "data": {
      "text/html": [
       "<pre style=\"white-space:pre;overflow-x:auto;line-height:normal;font-family:Menlo,'DejaVu Sans Mono',consolas,'Courier New',monospace\">Warning: electrons not found in sample. The following cuts will not be applied: ['pT &gt; 10 GeV', '|eta| &lt; 2.4', \n",
       "'looseID']\n",
       "</pre>\n"
      ],
      "text/plain": [
       "Warning: electrons not found in sample. The following cuts will not be applied: ['pT > 10 GeV', '|eta| < 2.4', \n",
       "'looseID']\n"
      ]
     },
     "metadata": {},
     "output_type": "display_data"
    },
    {
     "data": {
      "text/html": [
       "<pre style=\"white-space:pre;overflow-x:auto;line-height:normal;font-family:Menlo,'DejaVu Sans Mono',consolas,'Courier New',monospace\">Uh oh, haven't evaluated this cut yet! Make sure it was included in the list of cuts you used to initialize this \n",
       "JaggedSelection.   muons :  looseID\n",
       "</pre>\n"
      ],
      "text/plain": [
       "Uh oh, haven't evaluated this cut yet! Make sure it was included in the list of cuts you used to initialize this \n",
       "JaggedSelection.   muons :  looseID\n"
      ]
     },
     "metadata": {},
     "output_type": "display_data"
    },
    {
     "data": {
      "text/html": [
       "<pre style=\"white-space:pre;overflow-x:auto;line-height:normal;font-family:Menlo,'DejaVu Sans Mono',consolas,'Courier New',monospace\">Warning: photons not found in sample. The following cuts will not be applied: ['pT &gt; 20 GeV', '|eta| &lt; 2.5', \n",
       "'looseID']\n",
       "</pre>\n"
      ],
      "text/plain": [
       "Warning: photons not found in sample. The following cuts will not be applied: ['pT > 20 GeV', '|eta| < 2.5', \n",
       "'looseID']\n"
      ]
     },
     "metadata": {},
     "output_type": "display_data"
    },
    {
     "data": {
      "text/html": [
       "<pre style=\"white-space:pre;overflow-x:auto;line-height:normal;font-family:Menlo,'DejaVu Sans Mono',consolas,'Courier New',monospace\">Uh oh, haven't evaluated this cut yet! Make sure it was included in the list of cuts you used to initialize this \n",
       "JaggedSelection.   dsaMuons :  ifcsczero\n",
       "</pre>\n"
      ],
      "text/plain": [
       "Uh oh, haven't evaluated this cut yet! Make sure it was included in the list of cuts you used to initialize this \n",
       "JaggedSelection.   dsaMuons :  ifcsczero\n"
      ]
     },
     "metadata": {},
     "output_type": "display_data"
    },
    {
     "data": {
      "text/html": [
       "<pre style=\"white-space:pre;overflow-x:auto;line-height:normal;font-family:Menlo,'DejaVu Sans Mono',consolas,'Courier New',monospace\">Uh oh, haven't evaluated this cut yet! Make sure it was included in the list of cuts you used to initialize this \n",
       "JaggedSelection.   dsaMuons :  segOverlap &lt; 0.66\n",
       "</pre>\n"
      ],
      "text/plain": [
       "Uh oh, haven't evaluated this cut yet! Make sure it was included in the list of cuts you used to initialize this \n",
       "JaggedSelection.   dsaMuons :  segOverlap < 0.66\n"
      ]
     },
     "metadata": {},
     "output_type": "display_data"
    },
    {
     "data": {
      "text/html": [
       "<pre style=\"white-space:pre;overflow-x:auto;line-height:normal;font-family:Menlo,'DejaVu Sans Mono',consolas,'Courier New',monospace\">Uh oh, haven't evaluated this cut yet! Make sure it was included in the list of cuts you used to initialize this \n",
       "JaggedSelection.   dsaMuons :  extrapolatedDr &gt; 0.2\n",
       "</pre>\n"
      ],
      "text/plain": [
       "Uh oh, haven't evaluated this cut yet! Make sure it was included in the list of cuts you used to initialize this \n",
       "JaggedSelection.   dsaMuons :  extrapolatedDr > 0.2\n"
      ]
     },
     "metadata": {},
     "output_type": "display_data"
    },
    {
     "data": {
      "text/html": [
       "<pre style=\"white-space:pre;overflow-x:auto;line-height:normal;font-family:Menlo,'DejaVu Sans Mono',consolas,'Courier New',monospace\">Uh oh, haven't evaluated this cut yet! Make sure it was included in the list of cuts you used to initialize this \n",
       "JaggedSelection.   dsaMuons :  isSubsetAnyPFMuon False\n",
       "</pre>\n"
      ],
      "text/plain": [
       "Uh oh, haven't evaluated this cut yet! Make sure it was included in the list of cuts you used to initialize this \n",
       "JaggedSelection.   dsaMuons :  isSubsetAnyPFMuon False\n"
      ]
     },
     "metadata": {},
     "output_type": "display_data"
    },
    {
     "data": {
      "text/html": [
       "<pre style=\"white-space:pre;overflow-x:auto;line-height:normal;font-family:Menlo,'DejaVu Sans Mono',consolas,'Courier New',monospace\">Uh oh, haven't evaluated this cut yet! Make sure it was included in the list of cuts you used to initialize this \n",
       "JaggedSelection.   dsaMuons :  DT + CSC hits &gt; 12\n",
       "</pre>\n"
      ],
      "text/plain": [
       "Uh oh, haven't evaluated this cut yet! Make sure it was included in the list of cuts you used to initialize this \n",
       "JaggedSelection.   dsaMuons :  DT + CSC hits > 12\n"
      ]
     },
     "metadata": {},
     "output_type": "display_data"
    },
    {
     "data": {
      "text/html": [
       "<pre style=\"white-space:pre;overflow-x:auto;line-height:normal;font-family:Menlo,'DejaVu Sans Mono',consolas,'Courier New',monospace\">Uh oh, haven't evaluated this cut yet! Make sure it was included in the list of cuts you used to initialize this \n",
       "JaggedSelection.   dsaMuons :  DT + CSC stations &gt;= 2\n",
       "</pre>\n"
      ],
      "text/plain": [
       "Uh oh, haven't evaluated this cut yet! Make sure it was included in the list of cuts you used to initialize this \n",
       "JaggedSelection.   dsaMuons :  DT + CSC stations >= 2\n"
      ]
     },
     "metadata": {},
     "output_type": "display_data"
    },
    {
     "data": {
      "text/html": [
       "<pre style=\"white-space:pre;overflow-x:auto;line-height:normal;font-family:Menlo,'DejaVu Sans Mono',consolas,'Courier New',monospace\">Uh oh, haven't evaluated this cut yet! Make sure it was included in the list of cuts you used to initialize this \n",
       "JaggedSelection.   dsaMuons :  ptErrorOverPT &lt; 1\n",
       "</pre>\n"
      ],
      "text/plain": [
       "Uh oh, haven't evaluated this cut yet! Make sure it was included in the list of cuts you used to initialize this \n",
       "JaggedSelection.   dsaMuons :  ptErrorOverPT < 1\n"
      ]
     },
     "metadata": {},
     "output_type": "display_data"
    },
    {
     "data": {
      "text/html": [
       "<pre style=\"white-space:pre;overflow-x:auto;line-height:normal;font-family:Menlo,'DejaVu Sans Mono',consolas,'Courier New',monospace\">Warning: cannot fill counter Gen As to muons. Skipping.\n",
       "</pre>\n"
      ],
      "text/plain": [
       "Warning: cannot fill counter Gen As to muons. Skipping.\n"
      ]
     },
     "metadata": {},
     "output_type": "display_data"
    },
    {
     "data": {
      "text/html": [
       "<pre style=\"white-space:pre;overflow-x:auto;line-height:normal;font-family:Menlo,'DejaVu Sans Mono',consolas,'Courier New',monospace\">Warning: cannot fill counter Gen As to electrons. Skipping.\n",
       "</pre>\n"
      ],
      "text/plain": [
       "Warning: cannot fill counter Gen As to electrons. Skipping.\n"
      ]
     },
     "metadata": {},
     "output_type": "display_data"
    },
    {
     "data": {
      "text/html": [
       "<pre style=\"white-space:pre;overflow-x:auto;line-height:normal;font-family:Menlo,'DejaVu Sans Mono',consolas,'Courier New',monospace\">Warning: cannot fill counter Matched gen As to muons. Skipping.\n",
       "</pre>\n"
      ],
      "text/plain": [
       "Warning: cannot fill counter Matched gen As to muons. Skipping.\n"
      ]
     },
     "metadata": {},
     "output_type": "display_data"
    },
    {
     "data": {
      "text/html": [
       "<pre style=\"white-space:pre;overflow-x:auto;line-height:normal;font-family:Menlo,'DejaVu Sans Mono',consolas,'Courier New',monospace\">Warning: cannot fill counter Matched gen As to electrons. Skipping.\n",
       "</pre>\n"
      ],
      "text/plain": [
       "Warning: cannot fill counter Matched gen As to electrons. Skipping.\n"
      ]
     },
     "metadata": {},
     "output_type": "display_data"
    },
    {
     "data": {
      "text/html": [
       "<pre style=\"white-space:pre;overflow-x:auto;line-height:normal;font-family:Menlo,'DejaVu Sans Mono',consolas,'Courier New',monospace\">Warning: electrons not found in sample. The following cuts will not be applied: ['pT &gt; 10 GeV', '|eta| &lt; 2.4', \n",
       "'looseID']\n",
       "</pre>\n"
      ],
      "text/plain": [
       "Warning: electrons not found in sample. The following cuts will not be applied: ['pT > 10 GeV', '|eta| < 2.4', \n",
       "'looseID']\n"
      ]
     },
     "metadata": {},
     "output_type": "display_data"
    },
    {
     "data": {
      "text/html": [
       "<pre style=\"white-space:pre;overflow-x:auto;line-height:normal;font-family:Menlo,'DejaVu Sans Mono',consolas,'Courier New',monospace\">Uh oh, haven't evaluated this cut yet! Make sure it was included in the list of cuts you used to initialize this \n",
       "JaggedSelection.   muons :  looseID\n",
       "</pre>\n"
      ],
      "text/plain": [
       "Uh oh, haven't evaluated this cut yet! Make sure it was included in the list of cuts you used to initialize this \n",
       "JaggedSelection.   muons :  looseID\n"
      ]
     },
     "metadata": {},
     "output_type": "display_data"
    },
    {
     "data": {
      "text/html": [
       "<pre style=\"white-space:pre;overflow-x:auto;line-height:normal;font-family:Menlo,'DejaVu Sans Mono',consolas,'Courier New',monospace\">Warning: photons not found in sample. The following cuts will not be applied: ['pT &gt; 20 GeV', '|eta| &lt; 2.5', \n",
       "'looseID']\n",
       "</pre>\n"
      ],
      "text/plain": [
       "Warning: photons not found in sample. The following cuts will not be applied: ['pT > 20 GeV', '|eta| < 2.5', \n",
       "'looseID']\n"
      ]
     },
     "metadata": {},
     "output_type": "display_data"
    },
    {
     "data": {
      "text/html": [
       "<pre style=\"white-space:pre;overflow-x:auto;line-height:normal;font-family:Menlo,'DejaVu Sans Mono',consolas,'Courier New',monospace\">Uh oh, haven't evaluated this cut yet! Make sure it was included in the list of cuts you used to initialize this \n",
       "JaggedSelection.   dsaMuons :  ifcsczero\n",
       "</pre>\n"
      ],
      "text/plain": [
       "Uh oh, haven't evaluated this cut yet! Make sure it was included in the list of cuts you used to initialize this \n",
       "JaggedSelection.   dsaMuons :  ifcsczero\n"
      ]
     },
     "metadata": {},
     "output_type": "display_data"
    },
    {
     "data": {
      "text/html": [
       "<pre style=\"white-space:pre;overflow-x:auto;line-height:normal;font-family:Menlo,'DejaVu Sans Mono',consolas,'Courier New',monospace\">Uh oh, haven't evaluated this cut yet! Make sure it was included in the list of cuts you used to initialize this \n",
       "JaggedSelection.   dsaMuons :  segOverlap &lt; 0.66\n",
       "</pre>\n"
      ],
      "text/plain": [
       "Uh oh, haven't evaluated this cut yet! Make sure it was included in the list of cuts you used to initialize this \n",
       "JaggedSelection.   dsaMuons :  segOverlap < 0.66\n"
      ]
     },
     "metadata": {},
     "output_type": "display_data"
    },
    {
     "data": {
      "text/html": [
       "<pre style=\"white-space:pre;overflow-x:auto;line-height:normal;font-family:Menlo,'DejaVu Sans Mono',consolas,'Courier New',monospace\">Uh oh, haven't evaluated this cut yet! Make sure it was included in the list of cuts you used to initialize this \n",
       "JaggedSelection.   dsaMuons :  extrapolatedDr &gt; 0.2\n",
       "</pre>\n"
      ],
      "text/plain": [
       "Uh oh, haven't evaluated this cut yet! Make sure it was included in the list of cuts you used to initialize this \n",
       "JaggedSelection.   dsaMuons :  extrapolatedDr > 0.2\n"
      ]
     },
     "metadata": {},
     "output_type": "display_data"
    },
    {
     "data": {
      "text/html": [
       "<pre style=\"white-space:pre;overflow-x:auto;line-height:normal;font-family:Menlo,'DejaVu Sans Mono',consolas,'Courier New',monospace\">Uh oh, haven't evaluated this cut yet! Make sure it was included in the list of cuts you used to initialize this \n",
       "JaggedSelection.   dsaMuons :  isSubsetAnyPFMuon False\n",
       "</pre>\n"
      ],
      "text/plain": [
       "Uh oh, haven't evaluated this cut yet! Make sure it was included in the list of cuts you used to initialize this \n",
       "JaggedSelection.   dsaMuons :  isSubsetAnyPFMuon False\n"
      ]
     },
     "metadata": {},
     "output_type": "display_data"
    },
    {
     "data": {
      "text/html": [
       "<pre style=\"white-space:pre;overflow-x:auto;line-height:normal;font-family:Menlo,'DejaVu Sans Mono',consolas,'Courier New',monospace\">Uh oh, haven't evaluated this cut yet! Make sure it was included in the list of cuts you used to initialize this \n",
       "JaggedSelection.   dsaMuons :  DT + CSC hits &gt; 12\n",
       "</pre>\n"
      ],
      "text/plain": [
       "Uh oh, haven't evaluated this cut yet! Make sure it was included in the list of cuts you used to initialize this \n",
       "JaggedSelection.   dsaMuons :  DT + CSC hits > 12\n"
      ]
     },
     "metadata": {},
     "output_type": "display_data"
    },
    {
     "data": {
      "text/html": [
       "<pre style=\"white-space:pre;overflow-x:auto;line-height:normal;font-family:Menlo,'DejaVu Sans Mono',consolas,'Courier New',monospace\">Uh oh, haven't evaluated this cut yet! Make sure it was included in the list of cuts you used to initialize this \n",
       "JaggedSelection.   dsaMuons :  DT + CSC stations &gt;= 2\n",
       "</pre>\n"
      ],
      "text/plain": [
       "Uh oh, haven't evaluated this cut yet! Make sure it was included in the list of cuts you used to initialize this \n",
       "JaggedSelection.   dsaMuons :  DT + CSC stations >= 2\n"
      ]
     },
     "metadata": {},
     "output_type": "display_data"
    },
    {
     "data": {
      "text/html": [
       "<pre style=\"white-space:pre;overflow-x:auto;line-height:normal;font-family:Menlo,'DejaVu Sans Mono',consolas,'Courier New',monospace\">Uh oh, haven't evaluated this cut yet! Make sure it was included in the list of cuts you used to initialize this \n",
       "JaggedSelection.   dsaMuons :  ptErrorOverPT &lt; 1\n",
       "</pre>\n"
      ],
      "text/plain": [
       "Uh oh, haven't evaluated this cut yet! Make sure it was included in the list of cuts you used to initialize this \n",
       "JaggedSelection.   dsaMuons :  ptErrorOverPT < 1\n"
      ]
     },
     "metadata": {},
     "output_type": "display_data"
    },
    {
     "data": {
      "text/html": [
       "<pre style=\"white-space:pre;overflow-x:auto;line-height:normal;font-family:Menlo,'DejaVu Sans Mono',consolas,'Courier New',monospace\">Warning: cannot fill counter Gen As to muons. Skipping.\n",
       "</pre>\n"
      ],
      "text/plain": [
       "Warning: cannot fill counter Gen As to muons. Skipping.\n"
      ]
     },
     "metadata": {},
     "output_type": "display_data"
    },
    {
     "data": {
      "text/html": [
       "<pre style=\"white-space:pre;overflow-x:auto;line-height:normal;font-family:Menlo,'DejaVu Sans Mono',consolas,'Courier New',monospace\">Warning: cannot fill counter Gen As to electrons. Skipping.\n",
       "</pre>\n"
      ],
      "text/plain": [
       "Warning: cannot fill counter Gen As to electrons. Skipping.\n"
      ]
     },
     "metadata": {},
     "output_type": "display_data"
    },
    {
     "data": {
      "text/html": [
       "<pre style=\"white-space:pre;overflow-x:auto;line-height:normal;font-family:Menlo,'DejaVu Sans Mono',consolas,'Courier New',monospace\">Warning: cannot fill counter Matched gen As to muons. Skipping.\n",
       "</pre>\n"
      ],
      "text/plain": [
       "Warning: cannot fill counter Matched gen As to muons. Skipping.\n"
      ]
     },
     "metadata": {},
     "output_type": "display_data"
    },
    {
     "data": {
      "text/html": [
       "<pre style=\"white-space:pre;overflow-x:auto;line-height:normal;font-family:Menlo,'DejaVu Sans Mono',consolas,'Courier New',monospace\">Warning: cannot fill counter Matched gen As to electrons. Skipping.\n",
       "</pre>\n"
      ],
      "text/plain": [
       "Warning: cannot fill counter Matched gen As to electrons. Skipping.\n"
      ]
     },
     "metadata": {},
     "output_type": "display_data"
    },
    {
     "data": {
      "text/html": [
       "<pre style=\"white-space:pre;overflow-x:auto;line-height:normal;font-family:Menlo,'DejaVu Sans Mono',consolas,'Courier New',monospace\">Warning: electrons not found in this sample. Skipping.\n",
       "</pre>\n"
      ],
      "text/plain": [
       "Warning: electrons not found in this sample. Skipping.\n"
      ]
     },
     "metadata": {},
     "output_type": "display_data"
    },
    {
     "data": {
      "text/html": [
       "<pre style=\"white-space:pre;overflow-x:auto;line-height:normal;font-family:Menlo,'DejaVu Sans Mono',consolas,'Courier New',monospace\">Warning: photons not found in this sample. Skipping.\n",
       "</pre>\n"
      ],
      "text/plain": [
       "Warning: photons not found in this sample. Skipping.\n"
      ]
     },
     "metadata": {},
     "output_type": "display_data"
    },
    {
     "data": {
      "text/html": [
       "<pre style=\"white-space:pre;overflow-x:auto;line-height:normal;font-family:Menlo,'DejaVu Sans Mono',consolas,'Courier New',monospace\">Warning: genAs_toMu not found in this sample. Skipping.\n",
       "</pre>\n"
      ],
      "text/plain": [
       "Warning: genAs_toMu not found in this sample. Skipping.\n"
      ]
     },
     "metadata": {},
     "output_type": "display_data"
    },
    {
     "data": {
      "text/html": [
       "<pre style=\"white-space:pre;overflow-x:auto;line-height:normal;font-family:Menlo,'DejaVu Sans Mono',consolas,'Courier New',monospace\">Warning: genAs_toE not found in this sample. Skipping.\n",
       "</pre>\n"
      ],
      "text/plain": [
       "Warning: genAs_toE not found in this sample. Skipping.\n"
      ]
     },
     "metadata": {},
     "output_type": "display_data"
    },
    {
     "data": {
      "text/html": [
       "<pre style=\"white-space:pre;overflow-x:auto;line-height:normal;font-family:Menlo,'DejaVu Sans Mono',consolas,'Courier New',monospace\">Not applying any cuts to the lepton jets for channel  baseNoLj\n",
       "</pre>\n"
      ],
      "text/plain": [
       "Not applying any cuts to the lepton jets for channel  baseNoLj\n"
      ]
     },
     "metadata": {},
     "output_type": "display_data"
    },
    {
     "data": {
      "text/html": [
       "<pre style=\"white-space:pre;overflow-x:auto;line-height:normal;font-family:Menlo,'DejaVu Sans Mono',consolas,'Courier New',monospace\">Warning: electrons not found in sample. The following cuts will not be applied: ['pT &gt; 10 GeV', '|eta| &lt; 2.4', \n",
       "'looseID']\n",
       "</pre>\n"
      ],
      "text/plain": [
       "Warning: electrons not found in sample. The following cuts will not be applied: ['pT > 10 GeV', '|eta| < 2.4', \n",
       "'looseID']\n"
      ]
     },
     "metadata": {},
     "output_type": "display_data"
    },
    {
     "data": {
      "text/html": [
       "<pre style=\"white-space:pre;overflow-x:auto;line-height:normal;font-family:Menlo,'DejaVu Sans Mono',consolas,'Courier New',monospace\">Warning: Unable to apply looseID for muons. Skipping.\n",
       "</pre>\n"
      ],
      "text/plain": [
       "Warning: Unable to apply looseID for muons. Skipping.\n"
      ]
     },
     "metadata": {},
     "output_type": "display_data"
    },
    {
     "data": {
      "text/html": [
       "<pre style=\"white-space:pre;overflow-x:auto;line-height:normal;font-family:Menlo,'DejaVu Sans Mono',consolas,'Courier New',monospace\">Warning: photons not found in sample. The following cuts will not be applied: ['pT &gt; 20 GeV', '|eta| &lt; 2.5', \n",
       "'looseID']\n",
       "</pre>\n"
      ],
      "text/plain": [
       "Warning: photons not found in sample. The following cuts will not be applied: ['pT > 20 GeV', '|eta| < 2.5', \n",
       "'looseID']\n"
      ]
     },
     "metadata": {},
     "output_type": "display_data"
    },
    {
     "data": {
      "text/html": [
       "<pre style=\"white-space:pre;overflow-x:auto;line-height:normal;font-family:Menlo,'DejaVu Sans Mono',consolas,'Courier New',monospace\">Warning: Unable to apply ifcsczero for dsaMuons. Skipping.\n",
       "</pre>\n"
      ],
      "text/plain": [
       "Warning: Unable to apply ifcsczero for dsaMuons. Skipping.\n"
      ]
     },
     "metadata": {},
     "output_type": "display_data"
    },
    {
     "data": {
      "text/html": [
       "<pre style=\"white-space:pre;overflow-x:auto;line-height:normal;font-family:Menlo,'DejaVu Sans Mono',consolas,'Courier New',monospace\">Warning: Unable to apply segOverlap &lt; 0.66 for dsaMuons. Skipping.\n",
       "</pre>\n"
      ],
      "text/plain": [
       "Warning: Unable to apply segOverlap < 0.66 for dsaMuons. Skipping.\n"
      ]
     },
     "metadata": {},
     "output_type": "display_data"
    },
    {
     "data": {
      "text/html": [
       "<pre style=\"white-space:pre;overflow-x:auto;line-height:normal;font-family:Menlo,'DejaVu Sans Mono',consolas,'Courier New',monospace\">Warning: Unable to apply extrapolatedDr &gt; 0.2 for dsaMuons. Skipping.\n",
       "</pre>\n"
      ],
      "text/plain": [
       "Warning: Unable to apply extrapolatedDr > 0.2 for dsaMuons. Skipping.\n"
      ]
     },
     "metadata": {},
     "output_type": "display_data"
    },
    {
     "data": {
      "text/html": [
       "<pre style=\"white-space:pre;overflow-x:auto;line-height:normal;font-family:Menlo,'DejaVu Sans Mono',consolas,'Courier New',monospace\">Warning: Unable to apply isSubsetAnyPFMuon False for dsaMuons. Skipping.\n",
       "</pre>\n"
      ],
      "text/plain": [
       "Warning: Unable to apply isSubsetAnyPFMuon False for dsaMuons. Skipping.\n"
      ]
     },
     "metadata": {},
     "output_type": "display_data"
    },
    {
     "data": {
      "text/html": [
       "<pre style=\"white-space:pre;overflow-x:auto;line-height:normal;font-family:Menlo,'DejaVu Sans Mono',consolas,'Courier New',monospace\">Warning: Unable to apply DT + CSC hits &gt; 12 for dsaMuons. Skipping.\n",
       "</pre>\n"
      ],
      "text/plain": [
       "Warning: Unable to apply DT + CSC hits > 12 for dsaMuons. Skipping.\n"
      ]
     },
     "metadata": {},
     "output_type": "display_data"
    },
    {
     "data": {
      "text/html": [
       "<pre style=\"white-space:pre;overflow-x:auto;line-height:normal;font-family:Menlo,'DejaVu Sans Mono',consolas,'Courier New',monospace\">Warning: Unable to apply DT + CSC stations &gt;= 2 for dsaMuons. Skipping.\n",
       "</pre>\n"
      ],
      "text/plain": [
       "Warning: Unable to apply DT + CSC stations >= 2 for dsaMuons. Skipping.\n"
      ]
     },
     "metadata": {},
     "output_type": "display_data"
    },
    {
     "data": {
      "text/html": [
       "<pre style=\"white-space:pre;overflow-x:auto;line-height:normal;font-family:Menlo,'DejaVu Sans Mono',consolas,'Courier New',monospace\">Warning: Unable to apply ptErrorOverPT &lt; 1 for dsaMuons. Skipping.\n",
       "</pre>\n"
      ],
      "text/plain": [
       "Warning: Unable to apply ptErrorOverPT < 1 for dsaMuons. Skipping.\n"
      ]
     },
     "metadata": {},
     "output_type": "display_data"
    },
    {
     "data": {
      "text/html": [
       "<pre style=\"white-space:pre;overflow-x:auto;line-height:normal;font-family:Menlo,'DejaVu Sans Mono',consolas,'Courier New',monospace\">Warning: electrons not found in sample. The following cuts will not be applied: ['pT &gt; 10 GeV', '|eta| &lt; 2.4', \n",
       "'looseID']\n",
       "</pre>\n"
      ],
      "text/plain": [
       "Warning: electrons not found in sample. The following cuts will not be applied: ['pT > 10 GeV', '|eta| < 2.4', \n",
       "'looseID']\n"
      ]
     },
     "metadata": {},
     "output_type": "display_data"
    },
    {
     "data": {
      "text/html": [
       "<pre style=\"white-space:pre;overflow-x:auto;line-height:normal;font-family:Menlo,'DejaVu Sans Mono',consolas,'Courier New',monospace\">Uh oh, haven't evaluated this cut yet! Make sure it was included in the list of cuts you used to initialize this \n",
       "JaggedSelection.   muons :  looseID\n",
       "</pre>\n"
      ],
      "text/plain": [
       "Uh oh, haven't evaluated this cut yet! Make sure it was included in the list of cuts you used to initialize this \n",
       "JaggedSelection.   muons :  looseID\n"
      ]
     },
     "metadata": {},
     "output_type": "display_data"
    },
    {
     "data": {
      "text/html": [
       "<pre style=\"white-space:pre;overflow-x:auto;line-height:normal;font-family:Menlo,'DejaVu Sans Mono',consolas,'Courier New',monospace\">Warning: photons not found in sample. The following cuts will not be applied: ['pT &gt; 20 GeV', '|eta| &lt; 2.5', \n",
       "'looseID']\n",
       "</pre>\n"
      ],
      "text/plain": [
       "Warning: photons not found in sample. The following cuts will not be applied: ['pT > 20 GeV', '|eta| < 2.5', \n",
       "'looseID']\n"
      ]
     },
     "metadata": {},
     "output_type": "display_data"
    },
    {
     "data": {
      "text/html": [
       "<pre style=\"white-space:pre;overflow-x:auto;line-height:normal;font-family:Menlo,'DejaVu Sans Mono',consolas,'Courier New',monospace\">Uh oh, haven't evaluated this cut yet! Make sure it was included in the list of cuts you used to initialize this \n",
       "JaggedSelection.   dsaMuons :  ifcsczero\n",
       "</pre>\n"
      ],
      "text/plain": [
       "Uh oh, haven't evaluated this cut yet! Make sure it was included in the list of cuts you used to initialize this \n",
       "JaggedSelection.   dsaMuons :  ifcsczero\n"
      ]
     },
     "metadata": {},
     "output_type": "display_data"
    },
    {
     "data": {
      "text/html": [
       "<pre style=\"white-space:pre;overflow-x:auto;line-height:normal;font-family:Menlo,'DejaVu Sans Mono',consolas,'Courier New',monospace\">Uh oh, haven't evaluated this cut yet! Make sure it was included in the list of cuts you used to initialize this \n",
       "JaggedSelection.   dsaMuons :  segOverlap &lt; 0.66\n",
       "</pre>\n"
      ],
      "text/plain": [
       "Uh oh, haven't evaluated this cut yet! Make sure it was included in the list of cuts you used to initialize this \n",
       "JaggedSelection.   dsaMuons :  segOverlap < 0.66\n"
      ]
     },
     "metadata": {},
     "output_type": "display_data"
    },
    {
     "data": {
      "text/html": [
       "<pre style=\"white-space:pre;overflow-x:auto;line-height:normal;font-family:Menlo,'DejaVu Sans Mono',consolas,'Courier New',monospace\">Uh oh, haven't evaluated this cut yet! Make sure it was included in the list of cuts you used to initialize this \n",
       "JaggedSelection.   dsaMuons :  extrapolatedDr &gt; 0.2\n",
       "</pre>\n"
      ],
      "text/plain": [
       "Uh oh, haven't evaluated this cut yet! Make sure it was included in the list of cuts you used to initialize this \n",
       "JaggedSelection.   dsaMuons :  extrapolatedDr > 0.2\n"
      ]
     },
     "metadata": {},
     "output_type": "display_data"
    },
    {
     "data": {
      "text/html": [
       "<pre style=\"white-space:pre;overflow-x:auto;line-height:normal;font-family:Menlo,'DejaVu Sans Mono',consolas,'Courier New',monospace\">Uh oh, haven't evaluated this cut yet! Make sure it was included in the list of cuts you used to initialize this \n",
       "JaggedSelection.   dsaMuons :  isSubsetAnyPFMuon False\n",
       "</pre>\n"
      ],
      "text/plain": [
       "Uh oh, haven't evaluated this cut yet! Make sure it was included in the list of cuts you used to initialize this \n",
       "JaggedSelection.   dsaMuons :  isSubsetAnyPFMuon False\n"
      ]
     },
     "metadata": {},
     "output_type": "display_data"
    },
    {
     "data": {
      "text/html": [
       "<pre style=\"white-space:pre;overflow-x:auto;line-height:normal;font-family:Menlo,'DejaVu Sans Mono',consolas,'Courier New',monospace\">Uh oh, haven't evaluated this cut yet! Make sure it was included in the list of cuts you used to initialize this \n",
       "JaggedSelection.   dsaMuons :  DT + CSC hits &gt; 12\n",
       "</pre>\n"
      ],
      "text/plain": [
       "Uh oh, haven't evaluated this cut yet! Make sure it was included in the list of cuts you used to initialize this \n",
       "JaggedSelection.   dsaMuons :  DT + CSC hits > 12\n"
      ]
     },
     "metadata": {},
     "output_type": "display_data"
    },
    {
     "data": {
      "text/html": [
       "<pre style=\"white-space:pre;overflow-x:auto;line-height:normal;font-family:Menlo,'DejaVu Sans Mono',consolas,'Courier New',monospace\">Uh oh, haven't evaluated this cut yet! Make sure it was included in the list of cuts you used to initialize this \n",
       "JaggedSelection.   dsaMuons :  DT + CSC stations &gt;= 2\n",
       "</pre>\n"
      ],
      "text/plain": [
       "Uh oh, haven't evaluated this cut yet! Make sure it was included in the list of cuts you used to initialize this \n",
       "JaggedSelection.   dsaMuons :  DT + CSC stations >= 2\n"
      ]
     },
     "metadata": {},
     "output_type": "display_data"
    },
    {
     "data": {
      "text/html": [
       "<pre style=\"white-space:pre;overflow-x:auto;line-height:normal;font-family:Menlo,'DejaVu Sans Mono',consolas,'Courier New',monospace\">Uh oh, haven't evaluated this cut yet! Make sure it was included in the list of cuts you used to initialize this \n",
       "JaggedSelection.   dsaMuons :  ptErrorOverPT &lt; 1\n",
       "</pre>\n"
      ],
      "text/plain": [
       "Uh oh, haven't evaluated this cut yet! Make sure it was included in the list of cuts you used to initialize this \n",
       "JaggedSelection.   dsaMuons :  ptErrorOverPT < 1\n"
      ]
     },
     "metadata": {},
     "output_type": "display_data"
    },
    {
     "data": {
      "text/html": [
       "<pre style=\"white-space:pre;overflow-x:auto;line-height:normal;font-family:Menlo,'DejaVu Sans Mono',consolas,'Courier New',monospace\">Warning: cannot fill counter Gen As to muons. Skipping.\n",
       "</pre>\n"
      ],
      "text/plain": [
       "Warning: cannot fill counter Gen As to muons. Skipping.\n"
      ]
     },
     "metadata": {},
     "output_type": "display_data"
    },
    {
     "data": {
      "text/html": [
       "<pre style=\"white-space:pre;overflow-x:auto;line-height:normal;font-family:Menlo,'DejaVu Sans Mono',consolas,'Courier New',monospace\">Warning: cannot fill counter Gen As to electrons. Skipping.\n",
       "</pre>\n"
      ],
      "text/plain": [
       "Warning: cannot fill counter Gen As to electrons. Skipping.\n"
      ]
     },
     "metadata": {},
     "output_type": "display_data"
    },
    {
     "data": {
      "text/html": [
       "<pre style=\"white-space:pre;overflow-x:auto;line-height:normal;font-family:Menlo,'DejaVu Sans Mono',consolas,'Courier New',monospace\">Warning: cannot fill counter Matched gen As to muons. Skipping.\n",
       "</pre>\n"
      ],
      "text/plain": [
       "Warning: cannot fill counter Matched gen As to muons. Skipping.\n"
      ]
     },
     "metadata": {},
     "output_type": "display_data"
    },
    {
     "data": {
      "text/html": [
       "<pre style=\"white-space:pre;overflow-x:auto;line-height:normal;font-family:Menlo,'DejaVu Sans Mono',consolas,'Courier New',monospace\">Warning: cannot fill counter Matched gen As to electrons. Skipping.\n",
       "</pre>\n"
      ],
      "text/plain": [
       "Warning: cannot fill counter Matched gen As to electrons. Skipping.\n"
      ]
     },
     "metadata": {},
     "output_type": "display_data"
    },
    {
     "data": {
      "text/html": [
       "<pre style=\"white-space:pre;overflow-x:auto;line-height:normal;font-family:Menlo,'DejaVu Sans Mono',consolas,'Courier New',monospace\">Warning: electrons not found in sample. The following cuts will not be applied: ['pT &gt; 10 GeV', '|eta| &lt; 2.4', \n",
       "'looseID']\n",
       "</pre>\n"
      ],
      "text/plain": [
       "Warning: electrons not found in sample. The following cuts will not be applied: ['pT > 10 GeV', '|eta| < 2.4', \n",
       "'looseID']\n"
      ]
     },
     "metadata": {},
     "output_type": "display_data"
    },
    {
     "data": {
      "text/html": [
       "<pre style=\"white-space:pre;overflow-x:auto;line-height:normal;font-family:Menlo,'DejaVu Sans Mono',consolas,'Courier New',monospace\">Uh oh, haven't evaluated this cut yet! Make sure it was included in the list of cuts you used to initialize this \n",
       "JaggedSelection.   muons :  looseID\n",
       "</pre>\n"
      ],
      "text/plain": [
       "Uh oh, haven't evaluated this cut yet! Make sure it was included in the list of cuts you used to initialize this \n",
       "JaggedSelection.   muons :  looseID\n"
      ]
     },
     "metadata": {},
     "output_type": "display_data"
    },
    {
     "data": {
      "text/html": [
       "<pre style=\"white-space:pre;overflow-x:auto;line-height:normal;font-family:Menlo,'DejaVu Sans Mono',consolas,'Courier New',monospace\">Warning: photons not found in sample. The following cuts will not be applied: ['pT &gt; 20 GeV', '|eta| &lt; 2.5', \n",
       "'looseID']\n",
       "</pre>\n"
      ],
      "text/plain": [
       "Warning: photons not found in sample. The following cuts will not be applied: ['pT > 20 GeV', '|eta| < 2.5', \n",
       "'looseID']\n"
      ]
     },
     "metadata": {},
     "output_type": "display_data"
    },
    {
     "data": {
      "text/html": [
       "<pre style=\"white-space:pre;overflow-x:auto;line-height:normal;font-family:Menlo,'DejaVu Sans Mono',consolas,'Courier New',monospace\">Uh oh, haven't evaluated this cut yet! Make sure it was included in the list of cuts you used to initialize this \n",
       "JaggedSelection.   dsaMuons :  ifcsczero\n",
       "</pre>\n"
      ],
      "text/plain": [
       "Uh oh, haven't evaluated this cut yet! Make sure it was included in the list of cuts you used to initialize this \n",
       "JaggedSelection.   dsaMuons :  ifcsczero\n"
      ]
     },
     "metadata": {},
     "output_type": "display_data"
    },
    {
     "data": {
      "text/html": [
       "<pre style=\"white-space:pre;overflow-x:auto;line-height:normal;font-family:Menlo,'DejaVu Sans Mono',consolas,'Courier New',monospace\">Uh oh, haven't evaluated this cut yet! Make sure it was included in the list of cuts you used to initialize this \n",
       "JaggedSelection.   dsaMuons :  segOverlap &lt; 0.66\n",
       "</pre>\n"
      ],
      "text/plain": [
       "Uh oh, haven't evaluated this cut yet! Make sure it was included in the list of cuts you used to initialize this \n",
       "JaggedSelection.   dsaMuons :  segOverlap < 0.66\n"
      ]
     },
     "metadata": {},
     "output_type": "display_data"
    },
    {
     "data": {
      "text/html": [
       "<pre style=\"white-space:pre;overflow-x:auto;line-height:normal;font-family:Menlo,'DejaVu Sans Mono',consolas,'Courier New',monospace\">Uh oh, haven't evaluated this cut yet! Make sure it was included in the list of cuts you used to initialize this \n",
       "JaggedSelection.   dsaMuons :  extrapolatedDr &gt; 0.2\n",
       "</pre>\n"
      ],
      "text/plain": [
       "Uh oh, haven't evaluated this cut yet! Make sure it was included in the list of cuts you used to initialize this \n",
       "JaggedSelection.   dsaMuons :  extrapolatedDr > 0.2\n"
      ]
     },
     "metadata": {},
     "output_type": "display_data"
    },
    {
     "data": {
      "text/html": [
       "<pre style=\"white-space:pre;overflow-x:auto;line-height:normal;font-family:Menlo,'DejaVu Sans Mono',consolas,'Courier New',monospace\">Uh oh, haven't evaluated this cut yet! Make sure it was included in the list of cuts you used to initialize this \n",
       "JaggedSelection.   dsaMuons :  isSubsetAnyPFMuon False\n",
       "</pre>\n"
      ],
      "text/plain": [
       "Uh oh, haven't evaluated this cut yet! Make sure it was included in the list of cuts you used to initialize this \n",
       "JaggedSelection.   dsaMuons :  isSubsetAnyPFMuon False\n"
      ]
     },
     "metadata": {},
     "output_type": "display_data"
    },
    {
     "data": {
      "text/html": [
       "<pre style=\"white-space:pre;overflow-x:auto;line-height:normal;font-family:Menlo,'DejaVu Sans Mono',consolas,'Courier New',monospace\">Uh oh, haven't evaluated this cut yet! Make sure it was included in the list of cuts you used to initialize this \n",
       "JaggedSelection.   dsaMuons :  DT + CSC hits &gt; 12\n",
       "</pre>\n"
      ],
      "text/plain": [
       "Uh oh, haven't evaluated this cut yet! Make sure it was included in the list of cuts you used to initialize this \n",
       "JaggedSelection.   dsaMuons :  DT + CSC hits > 12\n"
      ]
     },
     "metadata": {},
     "output_type": "display_data"
    },
    {
     "data": {
      "text/html": [
       "<pre style=\"white-space:pre;overflow-x:auto;line-height:normal;font-family:Menlo,'DejaVu Sans Mono',consolas,'Courier New',monospace\">Uh oh, haven't evaluated this cut yet! Make sure it was included in the list of cuts you used to initialize this \n",
       "JaggedSelection.   dsaMuons :  DT + CSC stations &gt;= 2\n",
       "</pre>\n"
      ],
      "text/plain": [
       "Uh oh, haven't evaluated this cut yet! Make sure it was included in the list of cuts you used to initialize this \n",
       "JaggedSelection.   dsaMuons :  DT + CSC stations >= 2\n"
      ]
     },
     "metadata": {},
     "output_type": "display_data"
    },
    {
     "data": {
      "text/html": [
       "<pre style=\"white-space:pre;overflow-x:auto;line-height:normal;font-family:Menlo,'DejaVu Sans Mono',consolas,'Courier New',monospace\">Uh oh, haven't evaluated this cut yet! Make sure it was included in the list of cuts you used to initialize this \n",
       "JaggedSelection.   dsaMuons :  ptErrorOverPT &lt; 1\n",
       "</pre>\n"
      ],
      "text/plain": [
       "Uh oh, haven't evaluated this cut yet! Make sure it was included in the list of cuts you used to initialize this \n",
       "JaggedSelection.   dsaMuons :  ptErrorOverPT < 1\n"
      ]
     },
     "metadata": {},
     "output_type": "display_data"
    },
    {
     "data": {
      "text/html": [
       "<pre style=\"white-space:pre;overflow-x:auto;line-height:normal;font-family:Menlo,'DejaVu Sans Mono',consolas,'Courier New',monospace\">Warning: cannot fill counter Gen As to muons. Skipping.\n",
       "</pre>\n"
      ],
      "text/plain": [
       "Warning: cannot fill counter Gen As to muons. Skipping.\n"
      ]
     },
     "metadata": {},
     "output_type": "display_data"
    },
    {
     "data": {
      "text/html": [
       "<pre style=\"white-space:pre;overflow-x:auto;line-height:normal;font-family:Menlo,'DejaVu Sans Mono',consolas,'Courier New',monospace\">Warning: cannot fill counter Gen As to electrons. Skipping.\n",
       "</pre>\n"
      ],
      "text/plain": [
       "Warning: cannot fill counter Gen As to electrons. Skipping.\n"
      ]
     },
     "metadata": {},
     "output_type": "display_data"
    },
    {
     "data": {
      "text/html": [
       "<pre style=\"white-space:pre;overflow-x:auto;line-height:normal;font-family:Menlo,'DejaVu Sans Mono',consolas,'Courier New',monospace\">Warning: cannot fill counter Matched gen As to muons. Skipping.\n",
       "</pre>\n"
      ],
      "text/plain": [
       "Warning: cannot fill counter Matched gen As to muons. Skipping.\n"
      ]
     },
     "metadata": {},
     "output_type": "display_data"
    },
    {
     "data": {
      "text/html": [
       "<pre style=\"white-space:pre;overflow-x:auto;line-height:normal;font-family:Menlo,'DejaVu Sans Mono',consolas,'Courier New',monospace\">Warning: cannot fill counter Matched gen As to electrons. Skipping.\n",
       "</pre>\n"
      ],
      "text/plain": [
       "Warning: cannot fill counter Matched gen As to electrons. Skipping.\n"
      ]
     },
     "metadata": {},
     "output_type": "display_data"
    },
    {
     "data": {
      "text/html": [
       "<pre style=\"white-space:pre;overflow-x:auto;line-height:normal;font-family:Menlo,'DejaVu Sans Mono',consolas,'Courier New',monospace\">Warning: electrons not found in sample. The following cuts will not be applied: ['pT &gt; 10 GeV', '|eta| &lt; 2.4', \n",
       "'looseID']\n",
       "</pre>\n"
      ],
      "text/plain": [
       "Warning: electrons not found in sample. The following cuts will not be applied: ['pT > 10 GeV', '|eta| < 2.4', \n",
       "'looseID']\n"
      ]
     },
     "metadata": {},
     "output_type": "display_data"
    },
    {
     "data": {
      "text/html": [
       "<pre style=\"white-space:pre;overflow-x:auto;line-height:normal;font-family:Menlo,'DejaVu Sans Mono',consolas,'Courier New',monospace\">Uh oh, haven't evaluated this cut yet! Make sure it was included in the list of cuts you used to initialize this \n",
       "JaggedSelection.   muons :  looseID\n",
       "</pre>\n"
      ],
      "text/plain": [
       "Uh oh, haven't evaluated this cut yet! Make sure it was included in the list of cuts you used to initialize this \n",
       "JaggedSelection.   muons :  looseID\n"
      ]
     },
     "metadata": {},
     "output_type": "display_data"
    },
    {
     "data": {
      "text/html": [
       "<pre style=\"white-space:pre;overflow-x:auto;line-height:normal;font-family:Menlo,'DejaVu Sans Mono',consolas,'Courier New',monospace\">Warning: photons not found in sample. The following cuts will not be applied: ['pT &gt; 20 GeV', '|eta| &lt; 2.5', \n",
       "'looseID']\n",
       "</pre>\n"
      ],
      "text/plain": [
       "Warning: photons not found in sample. The following cuts will not be applied: ['pT > 20 GeV', '|eta| < 2.5', \n",
       "'looseID']\n"
      ]
     },
     "metadata": {},
     "output_type": "display_data"
    },
    {
     "data": {
      "text/html": [
       "<pre style=\"white-space:pre;overflow-x:auto;line-height:normal;font-family:Menlo,'DejaVu Sans Mono',consolas,'Courier New',monospace\">Uh oh, haven't evaluated this cut yet! Make sure it was included in the list of cuts you used to initialize this \n",
       "JaggedSelection.   dsaMuons :  ifcsczero\n",
       "</pre>\n"
      ],
      "text/plain": [
       "Uh oh, haven't evaluated this cut yet! Make sure it was included in the list of cuts you used to initialize this \n",
       "JaggedSelection.   dsaMuons :  ifcsczero\n"
      ]
     },
     "metadata": {},
     "output_type": "display_data"
    },
    {
     "data": {
      "text/html": [
       "<pre style=\"white-space:pre;overflow-x:auto;line-height:normal;font-family:Menlo,'DejaVu Sans Mono',consolas,'Courier New',monospace\">Uh oh, haven't evaluated this cut yet! Make sure it was included in the list of cuts you used to initialize this \n",
       "JaggedSelection.   dsaMuons :  segOverlap &lt; 0.66\n",
       "</pre>\n"
      ],
      "text/plain": [
       "Uh oh, haven't evaluated this cut yet! Make sure it was included in the list of cuts you used to initialize this \n",
       "JaggedSelection.   dsaMuons :  segOverlap < 0.66\n"
      ]
     },
     "metadata": {},
     "output_type": "display_data"
    },
    {
     "data": {
      "text/html": [
       "<pre style=\"white-space:pre;overflow-x:auto;line-height:normal;font-family:Menlo,'DejaVu Sans Mono',consolas,'Courier New',monospace\">Uh oh, haven't evaluated this cut yet! Make sure it was included in the list of cuts you used to initialize this \n",
       "JaggedSelection.   dsaMuons :  extrapolatedDr &gt; 0.2\n",
       "</pre>\n"
      ],
      "text/plain": [
       "Uh oh, haven't evaluated this cut yet! Make sure it was included in the list of cuts you used to initialize this \n",
       "JaggedSelection.   dsaMuons :  extrapolatedDr > 0.2\n"
      ]
     },
     "metadata": {},
     "output_type": "display_data"
    },
    {
     "data": {
      "text/html": [
       "<pre style=\"white-space:pre;overflow-x:auto;line-height:normal;font-family:Menlo,'DejaVu Sans Mono',consolas,'Courier New',monospace\">Uh oh, haven't evaluated this cut yet! Make sure it was included in the list of cuts you used to initialize this \n",
       "JaggedSelection.   dsaMuons :  isSubsetAnyPFMuon False\n",
       "</pre>\n"
      ],
      "text/plain": [
       "Uh oh, haven't evaluated this cut yet! Make sure it was included in the list of cuts you used to initialize this \n",
       "JaggedSelection.   dsaMuons :  isSubsetAnyPFMuon False\n"
      ]
     },
     "metadata": {},
     "output_type": "display_data"
    },
    {
     "data": {
      "text/html": [
       "<pre style=\"white-space:pre;overflow-x:auto;line-height:normal;font-family:Menlo,'DejaVu Sans Mono',consolas,'Courier New',monospace\">Uh oh, haven't evaluated this cut yet! Make sure it was included in the list of cuts you used to initialize this \n",
       "JaggedSelection.   dsaMuons :  DT + CSC hits &gt; 12\n",
       "</pre>\n"
      ],
      "text/plain": [
       "Uh oh, haven't evaluated this cut yet! Make sure it was included in the list of cuts you used to initialize this \n",
       "JaggedSelection.   dsaMuons :  DT + CSC hits > 12\n"
      ]
     },
     "metadata": {},
     "output_type": "display_data"
    },
    {
     "data": {
      "text/html": [
       "<pre style=\"white-space:pre;overflow-x:auto;line-height:normal;font-family:Menlo,'DejaVu Sans Mono',consolas,'Courier New',monospace\">Uh oh, haven't evaluated this cut yet! Make sure it was included in the list of cuts you used to initialize this \n",
       "JaggedSelection.   dsaMuons :  DT + CSC stations &gt;= 2\n",
       "</pre>\n"
      ],
      "text/plain": [
       "Uh oh, haven't evaluated this cut yet! Make sure it was included in the list of cuts you used to initialize this \n",
       "JaggedSelection.   dsaMuons :  DT + CSC stations >= 2\n"
      ]
     },
     "metadata": {},
     "output_type": "display_data"
    },
    {
     "data": {
      "text/html": [
       "<pre style=\"white-space:pre;overflow-x:auto;line-height:normal;font-family:Menlo,'DejaVu Sans Mono',consolas,'Courier New',monospace\">Uh oh, haven't evaluated this cut yet! Make sure it was included in the list of cuts you used to initialize this \n",
       "JaggedSelection.   dsaMuons :  ptErrorOverPT &lt; 1\n",
       "</pre>\n"
      ],
      "text/plain": [
       "Uh oh, haven't evaluated this cut yet! Make sure it was included in the list of cuts you used to initialize this \n",
       "JaggedSelection.   dsaMuons :  ptErrorOverPT < 1\n"
      ]
     },
     "metadata": {},
     "output_type": "display_data"
    },
    {
     "data": {
      "text/html": [
       "<pre style=\"white-space:pre;overflow-x:auto;line-height:normal;font-family:Menlo,'DejaVu Sans Mono',consolas,'Courier New',monospace\">Warning: cannot fill counter Gen As to muons. Skipping.\n",
       "</pre>\n"
      ],
      "text/plain": [
       "Warning: cannot fill counter Gen As to muons. Skipping.\n"
      ]
     },
     "metadata": {},
     "output_type": "display_data"
    },
    {
     "data": {
      "text/html": [
       "<pre style=\"white-space:pre;overflow-x:auto;line-height:normal;font-family:Menlo,'DejaVu Sans Mono',consolas,'Courier New',monospace\">Warning: cannot fill counter Gen As to electrons. Skipping.\n",
       "</pre>\n"
      ],
      "text/plain": [
       "Warning: cannot fill counter Gen As to electrons. Skipping.\n"
      ]
     },
     "metadata": {},
     "output_type": "display_data"
    },
    {
     "data": {
      "text/html": [
       "<pre style=\"white-space:pre;overflow-x:auto;line-height:normal;font-family:Menlo,'DejaVu Sans Mono',consolas,'Courier New',monospace\">Warning: cannot fill counter Matched gen As to muons. Skipping.\n",
       "</pre>\n"
      ],
      "text/plain": [
       "Warning: cannot fill counter Matched gen As to muons. Skipping.\n"
      ]
     },
     "metadata": {},
     "output_type": "display_data"
    },
    {
     "data": {
      "text/html": [
       "<pre style=\"white-space:pre;overflow-x:auto;line-height:normal;font-family:Menlo,'DejaVu Sans Mono',consolas,'Courier New',monospace\">Warning: cannot fill counter Matched gen As to electrons. Skipping.\n",
       "</pre>\n"
      ],
      "text/plain": [
       "Warning: cannot fill counter Matched gen As to electrons. Skipping.\n"
      ]
     },
     "metadata": {},
     "output_type": "display_data"
    },
    {
     "data": {
      "text/html": [
       "<pre style=\"white-space:pre;overflow-x:auto;line-height:normal;font-family:Menlo,'DejaVu Sans Mono',consolas,'Courier New',monospace\"></pre>\n"
      ],
      "text/plain": []
     },
     "metadata": {},
     "output_type": "display_data"
    },
    {
     "data": {
      "text/html": [
       "<pre style=\"white-space:pre;overflow-x:auto;line-height:normal;font-family:Menlo,'DejaVu Sans Mono',consolas,'Courier New',monospace\">\n",
       "</pre>\n"
      ],
      "text/plain": [
       "\n"
      ]
     },
     "metadata": {},
     "output_type": "display_data"
    }
   ],
   "source": [
    "runner = processor.Runner(\n",
    "    executor=processor.IterativeExecutor(),\n",
    "    #executor=processor.DaskExecutor(client=client),\n",
    "    #executor=processor.FuturesExecutor(),\n",
    "    schema=ffschema.FFSchema,\n",
    "    #maxchunks=1,\n",
    ")\n",
    "\n",
    "channels = [\n",
    "            \"2mu2e\",\"4mu\",\n",
    "            \"baseNoLj\"\n",
    "           ] # NOTE: the channel used determines the cuts applied. baseNoLj removes the checks for multiple jets.\n",
    "p = sidm_processor.SidmProcessor(\n",
    "    channels, [\"test\"]) # not sure if base_plus_gen applies to the background\n",
    "\n",
    "# test if processor is serializable\n",
    "import coffea.util as coffea_util\n",
    "coffea_util.save(p, \"processor.coffea\")\n",
    "print(coffea_util.load(\"processor.coffea\"))\n",
    "\n",
    "\n",
    "output = runner.run(fileset, treename=\"ffNtuplizer/ffNtuple\", processor_instance=p)\n",
    "out = output[\"out\"]\n",
    "\n",
    "# Overall, this takes the samples listed in \"samples\" (section [2]), then processes them in the sidm_processor function.\n",
    "# Without actual background data, I'm not sure of the format I should use for the samples, or whether the \"base_plus_gen\" set applies here.\n",
    "# Regardless, the histograms generated should be stored in the variable \"out\".\n"
   ]
  },
  {
   "cell_type": "code",
   "execution_count": 5,
   "id": "56dede85-6004-40e2-ba40-e8a42600c9e8",
   "metadata": {
    "tags": []
   },
   "outputs": [
    {
     "name": "stdout",
     "output_type": "stream",
     "text": [
      "cut name        individual %    marginal %    cumulative %\n",
      "------------  --------------  ------------  --------------\n",
      "No selection           100.0         100.0           100.0\n",
      "PV filter              100.0         100.0           100.0\n",
      "Cosmic veto             99.9          99.9            99.9\n",
      "cut name        individual %    marginal %    cumulative %\n",
      "------------  --------------  ------------  --------------\n",
      "No selection           100.0         100.0           100.0\n",
      "PV filter              100.0         100.0           100.0\n",
      "Cosmic veto            100.0         100.0           100.0\n",
      "cut name        individual %    marginal %    cumulative %\n",
      "------------  --------------  ------------  --------------\n",
      "No selection           100.0         100.0           100.0\n",
      "PV filter              100.0         100.0           100.0\n",
      "Cosmic veto             99.8          99.8            99.8\n"
     ]
    }
   ],
   "source": [
    "out[\"4Mu_100GeV_1p2GeV_9p6mm\"][\"cutflow\"][\"baseNoLj\"].print_table(fraction=True)\n",
    "\n",
    "out[\"4Mu_1000GeV_0p25GeV_0p02mm\"][\"cutflow\"][\"baseNoLj\"].print_table(fraction=True)\n",
    "\n",
    "out[\"4Mu_100GeV_5GeV_0p4mm\"][\"cutflow\"][\"baseNoLj\"].print_table(fraction=True)"
   ]
  },
  {
   "cell_type": "code",
   "execution_count": 24,
   "id": "02cc6899-49ff-4017-865e-169ca29a88ee",
   "metadata": {
    "tags": []
   },
   "outputs": [],
   "source": [
    "# Post-processing, combines background samples into larger sets.\n",
    "# This applies to cutflows and to histograms\n",
    "\n",
    "#These flags show whether DY, QCD, and dibosons should be combined into one variable.\n",
    "bosons = True\n",
    "QCD = True\n",
    "DY = True\n",
    "ttbar = True\n",
    "#If this is true, all background samples will be combined into one. This automatically disables the other groupings.\n",
    "TotalBackground = True\n",
    "\n",
    "if TotalBackground == True:\n",
    "    DY = False\n",
    "    QCD = False\n",
    "    bosons = False\n",
    "    ttbar = False\n",
    "    \n",
    "sample_list = []\n",
    "if DY == True:\n",
    "    sample_list.append(\"DY_Jets\")\n",
    "if QCD == True:\n",
    "    sample_list.append(\"QCD_Jets\")\n",
    "if bosons == True:\n",
    "    sample_list.append(\"DiBoson_Jets\")\n",
    "if ttbar == True:\n",
    "    sample_list.append(\"TT\")\n",
    "    \n",
    "for sample in samples:\n",
    "    if (sample[0] != 'D' and DY == True) and (sample[0] != 'Q' and QCD == True) and (sample[0] != 'W' and bosons == True) and (sample[0] != 'Z' and bosons == True) and (sample != 'TT' and ttbar == True):\n",
    "        sample_list.append(sample)\n",
    "        \n",
    "QCD_samples = [\"QCD_Pt15to20\",\"QCD_Pt20to30\",\"QCD_Pt30to50\",\"QCD_Pt50to80\",\"QCD_Pt80to120\",\"QCD_Pt120to170\",\n",
    "               \"QCD_Pt170to300\",\"QCD_Pt300to470\",\"QCD_Pt470to600\",\"QCD_Pt600to800\",\"QCD_Pt800to1000\",\"QCD_Pt1000toInf\"]\n",
    "\n",
    "# post-processing, adds together all the histograms in the Drell-Yan set into DY_Hists\n",
    "\n",
    "if DY == True:\n",
    "    DY_Hists = output['out'][\"DYJetsToLL_M10to50\"][\"hists\"]\n",
    "    DY_Cutflow = output['out'][\"DYJetsToLL_M10to50\"][\"cutflow\"]\n",
    "    for channel in channels:\n",
    "        DY_Cutflow[channel] = DY_Cutflow[channel] + output['out'][\"DYJetsToLL_M50\"][\"cutflow\"][channel]\n",
    "# Also adds together all QCD samples used\n",
    "if QCD == True:\n",
    "    QCD_Hists = output['out'][\"QCD_Pt15to20\"][\"hists\"]\n",
    "    QCD_Cutflow = output['out'][\"QCD_Pt15to20\"][\"cutflow\"]\n",
    "    for sample in samples:\n",
    "        if (sample[0] == 'Q') and (sample != \"QCD_Pt15to20\"):\n",
    "            for channel in channels:\n",
    "                QCD_Cutflow[channel] = QCD_Cutflow[channel] + output['out'][sample][\"cutflow\"][channel]\n",
    "# Now adds diboson samples together (not sure if TT_ is a diboson, might be quarks)\n",
    "if bosons == True:\n",
    "    DiBoson_Hists = output['out'][\"WW\"][\"hists\"]     \n",
    "    DiBoson_Cutflow = output['out'][\"WW\"][\"cutflow\"]\n",
    "    for channel in channels:\n",
    "        DiBoson_Cutflow[channel] = DiBoson_Cutflow[channel] + output['out'][\"ZZ\"][\"cutflow\"][channel]\n",
    "        DiBoson_Cutflow[channel] = DiBoson_Cutflow[channel] + output['out'][\"WZ\"][\"cutflow\"][channel]\n",
    "    \n",
    "if ttbar == True:\n",
    "    TT_Hists = output['out']['TTJets'][\"hists\"]\n",
    "    TT_Cutflow = output['out']['TTJets'][\"cutflow\"]\n",
    "    \n",
    "if TotalBackground == True:\n",
    "    bg_Hists = output['out'][\"DYJetsToLL_M10to50\"][\"hists\"]\n",
    "    bg_Cutflow = output['out'][\"DYJetsToLL_M10to50\"][\"cutflow\"]\n",
    "    for sample in samples:\n",
    "        if (sample[0] == 'D') or (sample[0] == 'Q') or (sample[0] == 'W') or (sample[0] == 'Z') and (sample != \"DYJetsToLL_M10to50\"):\n",
    "            for channel in channels:\n",
    "                bg_Cutflow[channel] = bg_Cutflow[channel] + output['out'][sample][\"cutflow\"][channel]\n",
    "                \n",
    "                \n",
    "hist_menu = utilities.load_yaml(\"../configs/hist_collections.yaml\")\n",
    "collection = utilities.flatten(hist_menu[\"test\"]) #To change the histograms used, swap \"base\" for the other collections\n",
    "#collection.remove(\"lj_pfiso\") #lj_pfiso is bugged, this line removes it\n",
    "\n",
    "for hist_name in collection:\n",
    "    if DY == True:\n",
    "        #print(\"Adding \" + hist_name + \" to DY_Hists\")\n",
    "        DY_Hists[hist_name] = DY_Hists[hist_name] + output['out'][\"DYJetsToLL_M50\"][\"hists\"][hist_name]\n",
    "    if QCD == True:\n",
    "        for sample in samples:\n",
    "            if (sample[0] == 'Q') and (sample != \"QCD_Pt15to20\"):\n",
    "                QCD_Hists[hist_name] = QCD_Hists[hist_name] + output['out'][sample][\"hists\"][hist_name]\n",
    "    if bosons == True:\n",
    "        DiBoson_Hists[hist_name] = DiBoson_Hists[hist_name] + output['out'][\"WZ\"][\"hists\"][hist_name]\n",
    "        DiBoson_Hists[hist_name] = DiBoson_Hists[hist_name] + output['out'][\"ZZ\"][\"hists\"][hist_name]\n",
    "    if TotalBackground == True:\n",
    "        for sample in samples:\n",
    "            if (sample[0] == 'D') or (sample[0] == 'Q') or (sample[0] == 'W') or (sample[0] == 'Z') and (sample != \"DYJetsToLL_M10to50\"):\n",
    "                bg_Hists[hist_name] = bg_Hists[hist_name] + output['out'][sample][\"hists\"][hist_name]\n",
    "                \n",
    "            #print(\"Adding  \" + sample + ' ' + hist_name + \" histogram to QCD_Pt15to20\")\n",
    "# IMPORTANT: This sets DY_10to50 as the base for the DY_Hists. When DY_Hists is changed, so is DY_10to50. This\n",
    "#            shouldn't matter, since the only one used will be DY_Hists in most cases, but this needs to be fixed.\n",
    "#            The same issue is present with QCD_15to20 and QCD_Hists."
   ]
  },
  {
   "cell_type": "code",
   "execution_count": 7,
   "id": "331bbd84-ff2c-4185-b46b-52073a307907",
   "metadata": {
    "tags": []
   },
   "outputs": [],
   "source": [
    "#This defines a function to break down the samples and make individual subplots for each one.\n",
    "#First, it makes a list of all samples, replacing the individual background ones with any aggregates\n",
    "#(DY, QCD, bosons). This does not include the total background one, since that can be plotted with a single function\n",
    "#rather than this process. Next, it cycles through the list and plots all the samples.\n",
    "#Note to fix: if one of the aggregates is disabled, the ordering of the plots breaks.\n",
    "#Also, the argument nrow is now determined from number of samples and number of columns, so the input parameter is unnecessary.\n",
    "# I should also set the specific range as a parameter. For now, it uses [ :1200j], and that seems to change as needed, but it could be an issue in the future.\n",
    "sample_list = []\n",
    "if DY == True:\n",
    "    sample_list.append(\"DY_Jets\")\n",
    "if QCD == True:\n",
    "    sample_list.append(\"QCD_Jets\")\n",
    "if bosons == True:\n",
    "    sample_list.append(\"DiBoson_Jets\")\n",
    "    \n",
    "for sample in samples:\n",
    "    if (sample[0] != 'D' and DY == True) and (sample[0] != 'Q' and QCD == True) and (sample[0] != 'W' and bosons == True) and (sample[0] != 'Z' and bosons == True):\n",
    "        sample_list.append(sample)\n",
    "        \n",
    "def plotSamples(hists, channel, errorBars, densityPlot, nrow=2, ncol=4, samples=sample_list, fullBg=TotalBackground):\n",
    "    #Note that nrow gets overwritten. Might want to remove that.\n",
    "    if fullBg == False:\n",
    "        nplots = len(samples)\n",
    "        nrow = (nplots-1)//ncol + 1\n",
    "        if (nplots <= 5):\n",
    "            ncol = nplots\n",
    "            nrow = 1\n",
    "        plt.subplots(nrow, ncol, figsize=(ncol*12, nrow*9))\n",
    "        counter = 1\n",
    "        print(\"Now plotting \" + hists[0], end='')\n",
    "        while counter < len(hists):\n",
    "            print(\" and \" + hists[counter], end='')\n",
    "            counter += 1\n",
    "        print('.')\n",
    "    \n",
    "        for i in range(nplots):\n",
    "            plt.subplot(nrow, ncol, i+1)\n",
    "            plt.rcParams['font.size'] = 16\n",
    "            if i==0 and DY == True:\n",
    "                for hist in hists:\n",
    "                    utilities.plot(DY_Hists[hist][channel, :1200j], yerr=errorBars, density=densityPlot, flow='none')\n",
    "                if len(hists) > 1:\n",
    "                    plt.legend(hists)\n",
    "                plt.title(samples[i])\n",
    "            elif i==1 and QCD == True:\n",
    "                for hist in hists:\n",
    "                    utilities.plot(QCD_Hists[hist][channel, :1200j], yerr=errorBars, density=densityPlot, flow='none')\n",
    "                if len(hists) > 1:\n",
    "                    plt.legend(hists)\n",
    "                plt.title(samples[i])\n",
    "            elif i==2 and bosons == True:\n",
    "                for hist in hists:\n",
    "                    utilities.plot(DiBoson_Hists[hist][channel, :1200j], yerr=errorBars, density=densityPlot, flow='none')\n",
    "                if len(hists) > 1:\n",
    "                    plt.legend(hists)\n",
    "                plt.title(samples[i])\n",
    "            elif i <= nplots:\n",
    "                for hist in hists:\n",
    "                    utilities.plot(out[samples[i]][\"hists\"][hist][channel, :1200j], yerr=errorBars, density=densityPlot, flow='none')\n",
    "                if len(hists) > 1:\n",
    "                    plt.legend(hists)\n",
    "                plt.title(samples[i])\n",
    "\n",
    "    else: #case that background is combined together\n",
    "        nplots = len(SIDM_samples) + 1\n",
    "        if nplots <= 5:\n",
    "            ncol = nplots\n",
    "            nrow = 1\n",
    "        else:\n",
    "            nrow = (nplots-1)//ncol + 1\n",
    "        plt.subplots(nrow, ncol, figsize=(ncol*12, nrow*9))\n",
    "        counter = 1\n",
    "        print(\"Now plotting \" + hists[0], end='')\n",
    "        while counter < len(hists):\n",
    "            print(\" and \" + hists[counter], end='')\n",
    "            counter += 1\n",
    "        print('.')\n",
    "        for i in range(nrow):\n",
    "            for k in range(1, ncol+1):\n",
    "                plt.subplot(nrow, ncol, k+i*ncol)\n",
    "                plt.rcParams['font.size'] = 16\n",
    "                if i==0 and k==1:\n",
    "                    for hist in hists:\n",
    "                        utilities.plot(bg_Hists[hist][channel, :1200j], yerr=errorBars, density=densityPlot, flow='none')\n",
    "                    if len(hists) > 1:\n",
    "                        plt.legend(hists)\n",
    "                    plt.title(samples[k+i*ncol-1])\n",
    "                elif (k+i*ncol <= nplots):\n",
    "                    for hist in hists:\n",
    "                        utilities.plot(out[samples[k+i*ncol-1]][\"hists\"][hist][channel, :1200j], yerr=errorBars, density=densityPlot, flow='none')\n",
    "                    if len(hists) > 1:\n",
    "                        plt.legend(hists)\n",
    "                    plt.title(samples[k+i*ncol-1])"
   ]
  },
  {
   "cell_type": "code",
   "execution_count": 8,
   "id": "e3ddda35-c1f3-49e5-9d9d-49be6defc7ea",
   "metadata": {
    "tags": []
   },
   "outputs": [],
   "source": [
    "#DY_Output = output['out'][\"DYJetsToLL_M10to50\"][\"hists\"][\"muon_pt\"] + output['out'][\"DYJetsToLL_M50\"][\"hists\"][\"muon_pt\"]\n",
    "# Trying to combine all DY processes into one element\n",
    "# This would use all DY processes at once\n",
    "# Combining the files manually in the background (combining the categories of <50 and >50) wouldn't work, since only a few files are used overall.\n",
    "# Should work going forward with DY_Output['hists'][\"muon_pt\"][\"baseNoLj\", :], etc.\n",
    "# from coffea.processor import accumulate\n",
    "#double_out = accumulate([output[\"out\"], output[\"out\"]])\n",
    "#DY = accumulate(output['out'][\"DYJetsToLL_M10to50\"], output['out'][\"DYJetsToLL_M10to50\"])\n",
    "#DY = output['out'][\"DYJetsToLL_M10to50\"][\"hists\"] + output['out'][\"DYJetsToLL_M50\"][\"hists\"]\n",
    "#print(output['out'][\"DYJetsToLL_M10to50\"])\n",
    "#print(output['out'][\"DYJetsToLL_M10to50\"])"
   ]
  },
  {
   "cell_type": "code",
   "execution_count": 9,
   "id": "2b61fab2-f11c-44f2-a88f-00ae4d33309c",
   "metadata": {
    "tags": []
   },
   "outputs": [
    {
     "data": {
      "text/plain": [
       "Text(0.5, 1.0, 'Combined BG')"
      ]
     },
     "execution_count": 9,
     "metadata": {},
     "output_type": "execute_result"
    },
    {
     "data": {
      "image/png": "[encoded data removed]",
      "text/plain": [
       "<Figure size 1800x450 with 3 Axes>"
      ]
     },
     "metadata": {},
     "output_type": "display_data"
    }
   ],
   "source": [
    "plt.subplots(1,3, figsize=(36, 9))\n",
    "plt.subplot(1, 3, 1)\n",
    "utilities.plot(out[\"DYJetsToLL_M10to50\"][\"hists\"][\"lj_pt\"][\"baseNoLj\", :], density=False, yerr=False)\n",
    "plt.title(\"DY_Jets 10to50\")\n",
    "plt.subplot(1, 3, 2)\n",
    "utilities.plot(out[\"DYJetsToLL_M50\"][\"hists\"][\"lj_pt\"][\"baseNoLj\", :], density=False, yerr=False)\n",
    "plt.title(\"DY_Jets 50+\")\n",
    "plt.subplot(1, 3, 3)\n",
    "#DY_plot = utilities.plot(out[\"DYJetsToLL_M10to50\"][\"hists\"][\"muon_pt\"][\"baseNoLj\", :], density=True) + utilities.plot(out[\"DYJetsToLL_M50\"][\"hists\"][\"muon_pt\"][\"baseNoLj\", :], density=True)\n",
    "utilities.plot(bg_Hists[\"lj_pt\"]['baseNoLj', :], density = False, yerr=False)\n",
    "plt.title(\"Combined BG\")\n",
    "# Shows the issue with combining plots -- all combined plots are overwritten with the sum"
   ]
  },
  {
   "cell_type": "code",
   "execution_count": 10,
   "id": "7530a20e-a521-4a91-8680-a668c2f28512",
   "metadata": {
    "tags": []
   },
   "outputs": [
    {
     "name": "stdout",
     "output_type": "stream",
     "text": [
      "cut name        individual %    marginal %    cumulative %\n",
      "------------  --------------  ------------  --------------\n",
      "No selection           100.0         100.0           100.0\n",
      "PV filter              100.0         100.0           100.0\n",
      "Cosmic veto            100.0         100.0           100.0\n",
      ">=2 LJs                 52.4          52.4            52.4\n",
      "2mu2e                    3.8           7.3             3.8\n"
     ]
    }
   ],
   "source": [
    "bg_Cutflow[\"2mu2e\"].print_table(fraction=True)"
   ]
  },
  {
   "cell_type": "code",
   "execution_count": 12,
   "id": "851d13c8-eae0-4af1-a8a6-d4660985fe29",
   "metadata": {
    "tags": []
   },
   "outputs": [],
   "source": [
    "if QCD:\n",
    "    QCD_Cutflow[\"2mu2e\"].print_table(fraction=True)\n",
    "#output['out'][\"DYJetsToLL_M10to50\"][\"cutflow\"][\"4mu\"].print_table(fraction=True)\n"
   ]
  },
  {
   "cell_type": "code",
   "execution_count": 13,
   "id": "eefe92ab-0e6f-4855-bfa5-272d9a2c27e2",
   "metadata": {
    "tags": []
   },
   "outputs": [],
   "source": [
    "if bosons:\n",
    "    DiBoson_Cutflow[\"2mu2e\"].print_table(fraction=True)"
   ]
  },
  {
   "cell_type": "raw",
   "id": "b0adda49-23f5-436b-8d36-ed02c0f7d5a8",
   "metadata": {},
   "source": [
    "Cutflow for SIDM samples. A significant number are cut by the >=2 LJ requirement, with very few impacted by the cosmic veto. Note that the 4Mu sample is entirely cut by the 2mu2e requirement, and the 2mu2e sample is almost completely cut by the 4mu requirement."
   ]
  },
  {
   "cell_type": "code",
   "execution_count": 14,
   "id": "d9c31011-c74a-45da-80d6-611873a91eff",
   "metadata": {},
   "outputs": [
    {
     "ename": "KeyError",
     "evalue": "'2Mu2E_100GeV_1p2GeV_9p6mm'",
     "output_type": "error",
     "traceback": [
      "\u001b[0;31m---------------------------------------------------------------------------\u001b[0m",
      "\u001b[0;31mKeyError\u001b[0m                                  Traceback (most recent call last)",
      "Cell \u001b[0;32mIn[14], line 1\u001b[0m\n\u001b[0;32m----> 1\u001b[0m \u001b[43moutput\u001b[49m\u001b[43m[\u001b[49m\u001b[38;5;124;43m'\u001b[39;49m\u001b[38;5;124;43mout\u001b[39;49m\u001b[38;5;124;43m'\u001b[39;49m\u001b[43m]\u001b[49m\u001b[43m[\u001b[49m\u001b[38;5;124;43m\"\u001b[39;49m\u001b[38;5;124;43m2Mu2E_100GeV_1p2GeV_9p6mm\u001b[39;49m\u001b[38;5;124;43m\"\u001b[39;49m\u001b[43m]\u001b[49m[\u001b[38;5;124m\"\u001b[39m\u001b[38;5;124mcutflow\u001b[39m\u001b[38;5;124m\"\u001b[39m][\u001b[38;5;124m\"\u001b[39m\u001b[38;5;124m4mu\u001b[39m\u001b[38;5;124m\"\u001b[39m]\u001b[38;5;241m.\u001b[39mprint_table(fraction\u001b[38;5;241m=\u001b[39m\u001b[38;5;28;01mTrue\u001b[39;00m)\n\u001b[1;32m      2\u001b[0m \u001b[38;5;28mprint\u001b[39m()\n\u001b[1;32m      3\u001b[0m output[\u001b[38;5;124m'\u001b[39m\u001b[38;5;124mout\u001b[39m\u001b[38;5;124m'\u001b[39m][\u001b[38;5;124m\"\u001b[39m\u001b[38;5;124m2Mu2E_100GeV_1p2GeV_9p6mm\u001b[39m\u001b[38;5;124m\"\u001b[39m][\u001b[38;5;124m\"\u001b[39m\u001b[38;5;124mcutflow\u001b[39m\u001b[38;5;124m\"\u001b[39m][\u001b[38;5;124m\"\u001b[39m\u001b[38;5;124m2mu2e\u001b[39m\u001b[38;5;124m\"\u001b[39m]\u001b[38;5;241m.\u001b[39mprint_table(fraction\u001b[38;5;241m=\u001b[39m\u001b[38;5;28;01mTrue\u001b[39;00m)\n",
      "\u001b[0;31mKeyError\u001b[0m: '2Mu2E_100GeV_1p2GeV_9p6mm'"
     ]
    }
   ],
   "source": [
    "output['out'][\"2Mu2E_100GeV_1p2GeV_9p6mm\"][\"cutflow\"][\"4mu\"].print_table(fraction=True)\n",
    "print()\n",
    "output['out'][\"2Mu2E_100GeV_1p2GeV_9p6mm\"][\"cutflow\"][\"2mu2e\"].print_table(fraction=True)\n",
    "print()\n",
    "output['out'][\"2Mu2E_100GeV_1p2GeV_9p6mm\"][\"cutflow\"][\"baseNoLj\"].print_table()\n",
    "print()"
   ]
  },
  {
   "cell_type": "code",
   "execution_count": 15,
   "id": "3104ea66-581a-4fcd-9d50-579bd00661bc",
   "metadata": {},
   "outputs": [
    {
     "name": "stdout",
     "output_type": "stream",
     "text": [
      "cut name        individual %    marginal %    cumulative %\n",
      "------------  --------------  ------------  --------------\n",
      "No selection           100.0         100.0           100.0\n",
      "PV filter              100.0         100.0           100.0\n",
      "Cosmic veto             99.9          99.9            99.9\n",
      ">=2 LJs                 35.4          35.4            35.4\n",
      "4mu                     35.4          99.8            35.3\n",
      "\n",
      "cut name        individual %    marginal %    cumulative %\n",
      "------------  --------------  ------------  --------------\n",
      "No selection           100.0         100.0           100.0\n",
      "PV filter              100.0         100.0           100.0\n",
      "Cosmic veto             99.9          99.9            99.9\n",
      ">=2 LJs                 35.4          35.4            35.4\n",
      "2mu2e                    0.1           0.2             0.1\n",
      "\n"
     ]
    }
   ],
   "source": [
    "output['out'][\"4Mu_100GeV_1p2GeV_9p6mm\"][\"cutflow\"][\"4mu\"].print_table(fraction=True)\n",
    "print()\n",
    "output['out'][\"4Mu_100GeV_1p2GeV_9p6mm\"][\"cutflow\"][\"2mu2e\"].print_table(fraction=True)\n",
    "print()"
   ]
  },
  {
   "cell_type": "code",
   "execution_count": 16,
   "id": "8892c0f2-ed1c-4cd5-81c8-471787ec7c6c",
   "metadata": {
    "tags": []
   },
   "outputs": [
    {
     "ename": "NameError",
     "evalue": "name 'DY_Hists' is not defined",
     "output_type": "error",
     "traceback": [
      "\u001b[0;31m---------------------------------------------------------------------------\u001b[0m",
      "\u001b[0;31mNameError\u001b[0m                                 Traceback (most recent call last)",
      "Cell \u001b[0;32mIn[16], line 17\u001b[0m\n\u001b[1;32m     14\u001b[0m \u001b[38;5;28;01mfor\u001b[39;00m j \u001b[38;5;129;01min\u001b[39;00m \u001b[38;5;28mrange\u001b[39m(\u001b[38;5;241m1\u001b[39m, ncol\u001b[38;5;241m+\u001b[39m\u001b[38;5;241m1\u001b[39m):\n\u001b[1;32m     15\u001b[0m     plt\u001b[38;5;241m.\u001b[39msubplot(nrow, ncol, j\u001b[38;5;241m+\u001b[39mi\u001b[38;5;241m*\u001b[39mncol)\n\u001b[0;32m---> 17\u001b[0m     utilities\u001b[38;5;241m.\u001b[39mplot(\u001b[43mDY_Hists\u001b[49m[figure_plotted_hists[i][\u001b[38;5;241m0\u001b[39m]][channels[j\u001b[38;5;241m-\u001b[39m\u001b[38;5;241m1\u001b[39m], :], yerr\u001b[38;5;241m=\u001b[39m\u001b[38;5;28;01mFalse\u001b[39;00m, density\u001b[38;5;241m=\u001b[39mfigure_plotted_hists[i][\u001b[38;5;241m1\u001b[39m])\n\u001b[1;32m     18\u001b[0m     utilities\u001b[38;5;241m.\u001b[39mplot(QCD_Hists[figure_plotted_hists[i][\u001b[38;5;241m0\u001b[39m]][channels[j\u001b[38;5;241m-\u001b[39m\u001b[38;5;241m1\u001b[39m], :], yerr\u001b[38;5;241m=\u001b[39m\u001b[38;5;28;01mFalse\u001b[39;00m, density\u001b[38;5;241m=\u001b[39mfigure_plotted_hists[i][\u001b[38;5;241m1\u001b[39m])\n\u001b[1;32m     20\u001b[0m     \u001b[38;5;28;01mfor\u001b[39;00m sample \u001b[38;5;129;01min\u001b[39;00m sample_list:\n",
      "\u001b[0;31mNameError\u001b[0m: name 'DY_Hists' is not defined"
     ]
    },
    {
     "data": {
      "image/png": "[encoded data removed]",
      "text/plain": [
       "<Figure size 1800x1350 with 9 Axes>"
      ]
     },
     "metadata": {},
     "output_type": "display_data"
    }
   ],
   "source": [
    "nrow = 3\n",
    "ncol = 3\n",
    "nplots = nrow*ncol\n",
    "sample_list = [\"DY_Jets\", \"QCD_Jets\"]\n",
    "for sample in samples:\n",
    "    if (sample[0] != 'D') and (sample[0] != 'Q'):\n",
    "        sample_list.append(sample)\n",
    "\n",
    "plt.subplots(nrow, ncol, figsize=(ncol*12, nrow*9))\n",
    "figure_plotted_hists = [[\"lj_n\", True], [\"muon_pt\", True], [\"lj_lj_absdphi\", False]]\n",
    "# each element is [\"Hist_name\", Density]\n",
    "\n",
    "for i in range(len(figure_plotted_hists)):\n",
    "    for j in range(1, ncol+1):\n",
    "        plt.subplot(nrow, ncol, j+i*ncol)\n",
    "        \n",
    "        utilities.plot(DY_Hists[figure_plotted_hists[i][0]][channels[j-1], :], yerr=False, density=figure_plotted_hists[i][1])\n",
    "        utilities.plot(QCD_Hists[figure_plotted_hists[i][0]][channels[j-1], :], yerr=False, density=figure_plotted_hists[i][1])\n",
    "\n",
    "        for sample in sample_list:\n",
    "            if sample[0] != 'D' and sample[0] != 'Q':\n",
    "                utilities.plot(out[sample][\"hists\"][figure_plotted_hists[i][0]][channels[j-1], :], yerr=False, density=figure_plotted_hists[i][1])\n",
    "\n",
    "        plt.ylabel(\"Arbitrary units\")\n",
    "        plt.legend(sample_list, loc=1, prop={'size': 16})\n",
    "        plt.title(channels[j-1] + ' ' + figure_plotted_hists[i][0])"
   ]
  },
  {
   "cell_type": "code",
   "execution_count": 17,
   "id": "67b2b7b7-5ac6-4cc2-9888-8b99d914a472",
   "metadata": {},
   "outputs": [
    {
     "name": "stdout",
     "output_type": "stream",
     "text": [
      "Now plotting muon_pt.\n"
     ]
    },
    {
     "ename": "KeyError",
     "evalue": "'muon_pt'",
     "output_type": "error",
     "traceback": [
      "\u001b[0;31m---------------------------------------------------------------------------\u001b[0m",
      "\u001b[0;31mKeyError\u001b[0m                                  Traceback (most recent call last)",
      "Cell \u001b[0;32mIn[17], line 1\u001b[0m\n\u001b[0;32m----> 1\u001b[0m \u001b[43mplotSamples\u001b[49m\u001b[43m(\u001b[49m\u001b[43m[\u001b[49m\u001b[38;5;124;43m\"\u001b[39;49m\u001b[38;5;124;43mmuon_pt\u001b[39;49m\u001b[38;5;124;43m\"\u001b[39;49m\u001b[43m]\u001b[49m\u001b[43m,\u001b[49m\u001b[43m \u001b[49m\u001b[38;5;124;43m\"\u001b[39;49m\u001b[38;5;124;43mbaseNoLj\u001b[39;49m\u001b[38;5;124;43m\"\u001b[39;49m\u001b[43m,\u001b[49m\u001b[43m \u001b[49m\u001b[38;5;28;43;01mFalse\u001b[39;49;00m\u001b[43m,\u001b[49m\u001b[43m \u001b[49m\u001b[38;5;28;43;01mTrue\u001b[39;49;00m\u001b[43m)\u001b[49m\n",
      "Cell \u001b[0;32mIn[7], line 84\u001b[0m, in \u001b[0;36mplotSamples\u001b[0;34m(hists, channel, errorBars, densityPlot, nrow, ncol, samples, fullBg)\u001b[0m\n\u001b[1;32m     82\u001b[0m \u001b[38;5;28;01mif\u001b[39;00m i\u001b[38;5;241m==\u001b[39m\u001b[38;5;241m0\u001b[39m \u001b[38;5;129;01mand\u001b[39;00m k\u001b[38;5;241m==\u001b[39m\u001b[38;5;241m1\u001b[39m:\n\u001b[1;32m     83\u001b[0m     \u001b[38;5;28;01mfor\u001b[39;00m hist \u001b[38;5;129;01min\u001b[39;00m hists:\n\u001b[0;32m---> 84\u001b[0m         utilities\u001b[38;5;241m.\u001b[39mplot(\u001b[43mbg_Hists\u001b[49m\u001b[43m[\u001b[49m\u001b[43mhist\u001b[49m\u001b[43m]\u001b[49m[channel, :\u001b[38;5;241m1200\u001b[39mj], yerr\u001b[38;5;241m=\u001b[39merrorBars, density\u001b[38;5;241m=\u001b[39mdensityPlot, flow\u001b[38;5;241m=\u001b[39m\u001b[38;5;124m'\u001b[39m\u001b[38;5;124mnone\u001b[39m\u001b[38;5;124m'\u001b[39m)\n\u001b[1;32m     85\u001b[0m     \u001b[38;5;28;01mif\u001b[39;00m \u001b[38;5;28mlen\u001b[39m(hists) \u001b[38;5;241m>\u001b[39m \u001b[38;5;241m1\u001b[39m:\n\u001b[1;32m     86\u001b[0m         plt\u001b[38;5;241m.\u001b[39mlegend(hists)\n",
      "\u001b[0;31mKeyError\u001b[0m: 'muon_pt'"
     ]
    },
    {
     "data": {
      "image/png": "[encoded data removed]",
      "text/plain": [
       "<Figure size 2400x450 with 4 Axes>"
      ]
     },
     "metadata": {},
     "output_type": "display_data"
    }
   ],
   "source": [
    "plotSamples([\"muon_pt\"], \"baseNoLj\", False, True)"
   ]
  },
  {
   "cell_type": "markdown",
   "id": "aa44078e-9e0e-40ec-8497-a54c46e836fe",
   "metadata": {},
   "source": [
    "From the muon_pt plots, it's clear that many of the background types do not have enough data to support useful histograms. Even in the baseNoLj channel, WW and ZZ especially have few samples. One of the ZZ bins is negative and the overall shape follows a trend, but is small enough that some bins are nearly empty. Furthermore, it is clear from a first glance what QCD bin was excluded (30-50). This needs to be fixed to smooth out the plot."
   ]
  },
  {
   "cell_type": "code",
   "execution_count": 18,
   "id": "917c5a4f-1756-4a7a-8cd6-4203195db7af",
   "metadata": {
    "tags": []
   },
   "outputs": [
    {
     "ename": "NameError",
     "evalue": "name 'DiBoson_Hists' is not defined",
     "output_type": "error",
     "traceback": [
      "\u001b[0;31m---------------------------------------------------------------------------\u001b[0m",
      "\u001b[0;31mNameError\u001b[0m                                 Traceback (most recent call last)",
      "Cell \u001b[0;32mIn[18], line 1\u001b[0m\n\u001b[0;32m----> 1\u001b[0m utilities\u001b[38;5;241m.\u001b[39mplot(\u001b[43mDiBoson_Hists\u001b[49m[\u001b[38;5;124m\"\u001b[39m\u001b[38;5;124mmuon_pt\u001b[39m\u001b[38;5;124m\"\u001b[39m][\u001b[38;5;124m\"\u001b[39m\u001b[38;5;124mbaseNoLj\u001b[39m\u001b[38;5;124m\"\u001b[39m, :\u001b[38;5;241m200\u001b[39mj], yerr\u001b[38;5;241m=\u001b[39m\u001b[38;5;28;01mFalse\u001b[39;00m, density\u001b[38;5;241m=\u001b[39m\u001b[38;5;28;01mTrue\u001b[39;00m)\n",
      "\u001b[0;31mNameError\u001b[0m: name 'DiBoson_Hists' is not defined"
     ]
    }
   ],
   "source": [
    "utilities.plot(DiBoson_Hists[\"muon_pt\"][\"baseNoLj\", :200j], yerr=False, density=True)"
   ]
  },
  {
   "cell_type": "code",
   "execution_count": 19,
   "id": "bbdb8cc4-8f8a-4e88-87b8-19237b1c6f18",
   "metadata": {
    "tags": []
   },
   "outputs": [
    {
     "name": "stdout",
     "output_type": "stream",
     "text": [
      "['DY_Jets', 'QCD_Jets', 'TTJets', 'WW', 'WZ', 'ZZ', '4Mu_100GeV_1p2GeV_9p6mm', '4Mu_1000GeV_0p25GeV_0p02mm', '4Mu_100GeV_5GeV_0p4mm']\n",
      "Now plotting lj0_pt.\n"
     ]
    },
    {
     "ename": "KeyError",
     "evalue": "'lj0_pt'",
     "output_type": "error",
     "traceback": [
      "\u001b[0;31m---------------------------------------------------------------------------\u001b[0m",
      "\u001b[0;31mKeyError\u001b[0m                                  Traceback (most recent call last)",
      "Cell \u001b[0;32mIn[19], line 3\u001b[0m\n\u001b[1;32m      1\u001b[0m \u001b[38;5;28mprint\u001b[39m(sample_list)\n\u001b[0;32m----> 3\u001b[0m \u001b[43mplotSamples\u001b[49m\u001b[43m(\u001b[49m\u001b[43m[\u001b[49m\u001b[38;5;124;43m\"\u001b[39;49m\u001b[38;5;124;43mlj0_pt\u001b[39;49m\u001b[38;5;124;43m\"\u001b[39;49m\u001b[43m]\u001b[49m\u001b[43m,\u001b[49m\u001b[43m \u001b[49m\u001b[38;5;124;43m\"\u001b[39;49m\u001b[38;5;124;43mbaseNoLj\u001b[39;49m\u001b[38;5;124;43m\"\u001b[39;49m\u001b[43m,\u001b[49m\u001b[43m \u001b[49m\u001b[38;5;28;43;01mFalse\u001b[39;49;00m\u001b[43m,\u001b[49m\u001b[43m \u001b[49m\u001b[38;5;28;43;01mTrue\u001b[39;49;00m\u001b[43m)\u001b[49m\n",
      "Cell \u001b[0;32mIn[7], line 84\u001b[0m, in \u001b[0;36mplotSamples\u001b[0;34m(hists, channel, errorBars, densityPlot, nrow, ncol, samples, fullBg)\u001b[0m\n\u001b[1;32m     82\u001b[0m \u001b[38;5;28;01mif\u001b[39;00m i\u001b[38;5;241m==\u001b[39m\u001b[38;5;241m0\u001b[39m \u001b[38;5;129;01mand\u001b[39;00m k\u001b[38;5;241m==\u001b[39m\u001b[38;5;241m1\u001b[39m:\n\u001b[1;32m     83\u001b[0m     \u001b[38;5;28;01mfor\u001b[39;00m hist \u001b[38;5;129;01min\u001b[39;00m hists:\n\u001b[0;32m---> 84\u001b[0m         utilities\u001b[38;5;241m.\u001b[39mplot(\u001b[43mbg_Hists\u001b[49m\u001b[43m[\u001b[49m\u001b[43mhist\u001b[49m\u001b[43m]\u001b[49m[channel, :\u001b[38;5;241m1200\u001b[39mj], yerr\u001b[38;5;241m=\u001b[39merrorBars, density\u001b[38;5;241m=\u001b[39mdensityPlot, flow\u001b[38;5;241m=\u001b[39m\u001b[38;5;124m'\u001b[39m\u001b[38;5;124mnone\u001b[39m\u001b[38;5;124m'\u001b[39m)\n\u001b[1;32m     85\u001b[0m     \u001b[38;5;28;01mif\u001b[39;00m \u001b[38;5;28mlen\u001b[39m(hists) \u001b[38;5;241m>\u001b[39m \u001b[38;5;241m1\u001b[39m:\n\u001b[1;32m     86\u001b[0m         plt\u001b[38;5;241m.\u001b[39mlegend(hists)\n",
      "\u001b[0;31mKeyError\u001b[0m: 'lj0_pt'"
     ]
    },
    {
     "data": {
      "image/png": "[encoded data removed]",
      "text/plain": [
       "<Figure size 2400x450 with 4 Axes>"
      ]
     },
     "metadata": {},
     "output_type": "display_data"
    }
   ],
   "source": [
    "print(sample_list)\n",
    "\n",
    "plotSamples([\"lj0_pt\"], \"baseNoLj\", False, True)"
   ]
  },
  {
   "cell_type": "code",
   "execution_count": 20,
   "id": "499d303b-8d35-4550-ac35-1406089491cb",
   "metadata": {
    "tags": []
   },
   "outputs": [
    {
     "name": "stdout",
     "output_type": "stream",
     "text": [
      "['DY_Jets', 'QCD_Jets', 'TTJets', 'WW', 'WZ', 'ZZ', '4Mu_100GeV_1p2GeV_9p6mm', '4Mu_1000GeV_0p25GeV_0p02mm', '4Mu_100GeV_5GeV_0p4mm']\n",
      "Now plotting lj_lj_invmass and lj_pt.\n"
     ]
    },
    {
     "ename": "KeyError",
     "evalue": "'lj_lj_invmass'",
     "output_type": "error",
     "traceback": [
      "\u001b[0;31m---------------------------------------------------------------------------\u001b[0m",
      "\u001b[0;31mKeyError\u001b[0m                                  Traceback (most recent call last)",
      "Cell \u001b[0;32mIn[20], line 3\u001b[0m\n\u001b[1;32m      1\u001b[0m \u001b[38;5;28mprint\u001b[39m(sample_list)\n\u001b[0;32m----> 3\u001b[0m \u001b[43mplotSamples\u001b[49m\u001b[43m(\u001b[49m\u001b[43m[\u001b[49m\u001b[38;5;124;43m\"\u001b[39;49m\u001b[38;5;124;43mlj_lj_invmass\u001b[39;49m\u001b[38;5;124;43m\"\u001b[39;49m\u001b[43m,\u001b[49m\u001b[43m \u001b[49m\u001b[38;5;124;43m\"\u001b[39;49m\u001b[38;5;124;43mlj_pt\u001b[39;49m\u001b[38;5;124;43m\"\u001b[39;49m\u001b[43m]\u001b[49m\u001b[43m,\u001b[49m\u001b[43m \u001b[49m\u001b[38;5;124;43m\"\u001b[39;49m\u001b[38;5;124;43mbaseNoLj\u001b[39;49m\u001b[38;5;124;43m\"\u001b[39;49m\u001b[43m,\u001b[49m\u001b[43m \u001b[49m\u001b[38;5;28;43;01mFalse\u001b[39;49;00m\u001b[43m,\u001b[49m\u001b[43m \u001b[49m\u001b[38;5;28;43;01mTrue\u001b[39;49;00m\u001b[43m)\u001b[49m\n",
      "Cell \u001b[0;32mIn[7], line 84\u001b[0m, in \u001b[0;36mplotSamples\u001b[0;34m(hists, channel, errorBars, densityPlot, nrow, ncol, samples, fullBg)\u001b[0m\n\u001b[1;32m     82\u001b[0m \u001b[38;5;28;01mif\u001b[39;00m i\u001b[38;5;241m==\u001b[39m\u001b[38;5;241m0\u001b[39m \u001b[38;5;129;01mand\u001b[39;00m k\u001b[38;5;241m==\u001b[39m\u001b[38;5;241m1\u001b[39m:\n\u001b[1;32m     83\u001b[0m     \u001b[38;5;28;01mfor\u001b[39;00m hist \u001b[38;5;129;01min\u001b[39;00m hists:\n\u001b[0;32m---> 84\u001b[0m         utilities\u001b[38;5;241m.\u001b[39mplot(\u001b[43mbg_Hists\u001b[49m\u001b[43m[\u001b[49m\u001b[43mhist\u001b[49m\u001b[43m]\u001b[49m[channel, :\u001b[38;5;241m1200\u001b[39mj], yerr\u001b[38;5;241m=\u001b[39merrorBars, density\u001b[38;5;241m=\u001b[39mdensityPlot, flow\u001b[38;5;241m=\u001b[39m\u001b[38;5;124m'\u001b[39m\u001b[38;5;124mnone\u001b[39m\u001b[38;5;124m'\u001b[39m)\n\u001b[1;32m     85\u001b[0m     \u001b[38;5;28;01mif\u001b[39;00m \u001b[38;5;28mlen\u001b[39m(hists) \u001b[38;5;241m>\u001b[39m \u001b[38;5;241m1\u001b[39m:\n\u001b[1;32m     86\u001b[0m         plt\u001b[38;5;241m.\u001b[39mlegend(hists)\n",
      "\u001b[0;31mKeyError\u001b[0m: 'lj_lj_invmass'"
     ]
    },
    {
     "data": {
      "image/png": "[encoded data removed]",
      "text/plain": [
       "<Figure size 2400x450 with 4 Axes>"
      ]
     },
     "metadata": {},
     "output_type": "display_data"
    }
   ],
   "source": [
    "print(sample_list)\n",
    "\n",
    "plotSamples([\"lj_lj_invmass\", \"lj_pt\"], \"baseNoLj\", False, True)"
   ]
  },
  {
   "cell_type": "code",
   "execution_count": null,
   "id": "9ab973ef-6038-4466-996e-d0bcf30abe4d",
   "metadata": {
    "tags": []
   },
   "outputs": [],
   "source": [
    "plotSamples([\"lj_lj_absdphi\"], \"baseNoLj\", False, True)"
   ]
  },
  {
   "cell_type": "code",
   "execution_count": null,
   "id": "91ef7a8c-8b1d-4484-9655-befb02b18679",
   "metadata": {
    "tags": []
   },
   "outputs": [],
   "source": [
    "utilities.plot(QCD_Hists[\"muon_pt\"][\"2mu2e\", :], yerr=False, density=False)"
   ]
  },
  {
   "cell_type": "code",
   "execution_count": null,
   "id": "7676e85f-c43d-4a00-8e9c-00d871fd5535",
   "metadata": {},
   "outputs": [],
   "source": [
    "nrow = 2\n",
    "ncol = 3\n",
    "nplots = nrow*ncol\n",
    "\n",
    "plt.subplots(nrow, ncol, figsize=(ncol*12, nrow*9))\n",
    "\n",
    "for i in range(1, ncol+1):\n",
    "    plt.subplot(nrow, ncol, i)\n",
    "    for sample in samples:\n",
    "        utilities.plot(out[sample][\"hists\"][\"lj0_dRSpread\"][channels[i-1], :.02j], yerr=False, density=False, flow='none')\n",
    "    # plt.legend(masses, title=\"DM bound state mass\", alignment=\"left\")\n",
    "    plt.ylabel(\"Arbitrary units\")\n",
    "    plt.legend(samples, loc=1, prop={'size': 16})\n",
    "    plt.title(\"Leading LJ \" + channels[i-1])\n",
    "    \n",
    "for i in range(1, ncol+1):\n",
    "    plt.subplot(nrow, ncol, i+ncol)\n",
    "    for sample in samples:\n",
    "        utilities.plot(out[sample][\"hists\"][\"lj1_dRSpread\"][channels[i-1], :.02j], yerr=False, density=False, flow='none')\n",
    "    # plt.legend(masses, title=\"DM bound state mass\", alignment=\"left\")\n",
    "    plt.ylabel(\"Arbitrary units\")\n",
    "    plt.legend(samples, loc=1, prop={'size': 16})\n",
    "    plt.title(\"Subleading LJ \" + channels[i-1])"
   ]
  },
  {
   "cell_type": "code",
   "execution_count": null,
   "id": "956eb2ec-98b6-452d-9f47-5ff1ffb43b98",
   "metadata": {
    "tags": []
   },
   "outputs": [],
   "source": [
    "if 0:\n",
    "    nplots = 2\n",
    "    plt.subplots(1, nplots, figsize=(nplots*12, 10))\n",
    "    plt.subplot(1, nplots, 1)\n",
    "    for sample in samples:\n",
    "        utilities.plot(out[sample][\"hists\"][\"muon_n\"][channels[2], :], density=True)\n",
    "        # plt.legend(masses, title=\"DM bound state mass\", alignment=\"left\")\n",
    "        plt.ylabel(\"Arbitrary units\")\n",
    "    plt.subplot(1, nplots, 2)\n",
    "    for sample in samples:\n",
    "        utilities.plot(out[sample][\"hists\"][\"electron_n\"][channels[2], :], density=True)\n",
    "        #plt.legend(masses, title=\"DM bound state mass\", alignment=\"left\")\n",
    "        plt.ylabel(\"Arbitrary units\")"
   ]
  },
  {
   "cell_type": "code",
   "execution_count": 33,
   "id": "42fd953e-6d01-4b56-9978-a0c3365bf41a",
   "metadata": {
    "tags": []
   },
   "outputs": [
    {
     "name": "stdout",
     "output_type": "stream",
     "text": [
      "cut name        % cuts in                  % cuts in                     % cuts in                % cuts in\n",
      "                Background    4Mu_100GeV_1p2GeV_9p6mm    4Mu_1000GeV_0p25GeV_0p02mm    4Mu_100GeV_5GeV_0p4mm\n",
      "------------  ------------  -------------------------  ----------------------------  -----------------------\n",
      "No selection         100.0                      100.0                         100.0                    100.0\n",
      "PV filter            100.0                      100.0                         100.0                    100.0\n",
      "Cosmic veto          100.0                       99.9                         100.0                     99.8\n",
      ">=2 LJs               53.1                       35.4                          41.4                     61.1\n",
      "4mu                    0.1                       35.3                          41.0                     61.1\n",
      "\n",
      "\n"
     ]
    }
   ],
   "source": [
    "samples_used = []\n",
    "cutflows_used = []\n",
    "\n",
    "if TotalBackground == True:\n",
    "    samples_used.append(\"Background\")\n",
    "    init_cutflow = bg_Cutflow[\"4mu\"]\n",
    "else:\n",
    "    init_sample = samples[0]\n",
    "    init_cutflow = out[init_sample][\"cutflow\"][\"4mu\"]\n",
    "    \n",
    "for sample in samples:\n",
    "    if sample[0] == '2' or sample[0] == '4':\n",
    "        samples_used.append(sample)\n",
    "        cutflows_used.append(out[sample][\"cutflow\"][\"4mu\"])\n",
    "if samples_used[0][0] == 2 or samples_used == 4:\n",
    "    cutflows_used.remove(out[init_sample][\"cutflow\"][\"4mu\"])\n",
    "\n",
    "init_cutflow.print_multi_table(cutflows_used, samples_used, True)"
   ]
  },
  {
   "cell_type": "code",
   "execution_count": 22,
   "id": "43ffd213-815a-4ce9-8534-88262fe7d28e",
   "metadata": {
    "tags": []
   },
   "outputs": [
    {
     "name": "stdout",
     "output_type": "stream",
     "text": [
      "Cuts in SIDM samples\n",
      "--------------------------------------------------------------------------------------------------------------------------- \n",
      "cut name                 Total cuts in                 Total cuts in            Total cuts in\n",
      "                4Mu_100GeV_1p2GeV_9p6mm    4Mu_1000GeV_0p25GeV_0p02mm    4Mu_100GeV_5GeV_0p4mm\n",
      "------------  -------------------------  ----------------------------  -----------------------\n",
      "No selection                    20195.1                        9108.8                   9226.1\n",
      "PV filter                       20195.1                        9108.8                   9226.1\n",
      "Cosmic veto                     20178.0                        9106.2                   9212.2\n",
      "\n",
      "\n",
      "Fractional SIDM cuts\n",
      "--------------------------------------------------------------------------------------------------------------------------- \n",
      "cut name                     % cuts in                     % cuts in                % cuts in\n",
      "                4Mu_100GeV_1p2GeV_9p6mm    4Mu_1000GeV_0p25GeV_0p02mm    4Mu_100GeV_5GeV_0p4mm\n",
      "------------  -------------------------  ----------------------------  -----------------------\n",
      "No selection                      100.0                         100.0                    100.0\n",
      "PV filter                         100.0                         100.0                    100.0\n",
      "Cosmic veto                        99.9                         100.0                     99.8\n",
      "\n",
      "\n"
     ]
    }
   ],
   "source": [
    "sample_used = \"4Mu_100GeV_1p2GeV_9p6mm\"\n",
    "cut_samples = [\n",
    "    \"4Mu_1000GeV_0p25GeV_0p02mm\",\n",
    "    \"4Mu_100GeV_5GeV_0p4mm\"\n",
    "]\n",
    "headers = [sample_used]\n",
    "cut_used = out[sample_used][\"cutflow\"][\"baseNoLj\"]\n",
    "cutflow_list = []\n",
    "for sample in cut_samples:\n",
    "    cutflow_list.append(out[sample][\"cutflow\"][\"baseNoLj\"])\n",
    "    headers.append(sample)\n",
    "    \n",
    "    \n",
    "cut_used.print_multi_table(cutflow_list, headers, False, False, \"Cuts in SIDM samples\")\n",
    "\n",
    "cut_used.print_multi_table(cutflow_list, headers, True, False, \"Fractional SIDM cuts\")"
   ]
  },
  {
   "cell_type": "code",
   "execution_count": null,
   "id": "3cbe5817-d1ed-4c89-905f-0eef5e4a073b",
   "metadata": {},
   "outputs": [],
   "source": []
  }
 ],
 "metadata": {
  "kernelspec": {
   "display_name": "Python 3 (ipykernel)",
   "language": "python",
   "name": "python3"
  },
  "language_info": {
   "codemirror_mode": {
    "name": "ipython",
    "version": 3
   },
   "file_extension": ".py",
   "mimetype": "text/x-python",
   "name": "python",
   "nbconvert_exporter": "python",
   "pygments_lexer": "ipython3",
   "version": "3.9.18"
  }
 },
 "nbformat": 4,
 "nbformat_minor": 5
}
