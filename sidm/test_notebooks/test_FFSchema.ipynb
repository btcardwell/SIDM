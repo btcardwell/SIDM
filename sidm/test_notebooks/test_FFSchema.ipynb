{
 "cells": [
  {
   "cell_type": "code",
   "execution_count": 1,
   "id": "4ecfc1b9-dbfb-4923-a092-a7dc20249deb",
   "metadata": {},
   "outputs": [
    {
     "data": {
      "text/plain": [
       "<module 'sidm.tools.utilities' from '/home/cms-jovyan/SIDM/sidm/test_notebooks/../../sidm/tools/utilities.py'>"
      ]
     },
     "execution_count": 1,
     "metadata": {},
     "output_type": "execute_result"
    }
   ],
   "source": [
    "# python\n",
    "import sys\n",
    "import os\n",
    "import importlib\n",
    "# columnar analysis\n",
    "import uproot\n",
    "import awkward\n",
    "import numpy as np\n",
    "import awkward as ak\n",
    "import coffea.processor as processor\n",
    "from coffea.nanoevents import NanoEventsFactory\n",
    "import hist\n",
    "# local\n",
    "sys.path.insert(1, os.path.join(sys.path[0], '../..')) # fixme: there must be a better way to handle this...\n",
    "from sidm.tools import ffschema, utilities\n",
    "# always reload local modules to pick up changes during development\n",
    "importlib.reload(ffschema)\n",
    "importlib.reload(utilities)"
   ]
  },
  {
   "cell_type": "code",
   "execution_count": 2,
   "id": "74525626-68c5-461d-92d7-1f8ce19b2400",
   "metadata": {},
   "outputs": [
    {
     "name": "stdout",
     "output_type": "stream",
     "text": [
      "run\n",
      "event\n",
      "lumi\n",
      "fixedGridRho\n",
      "puInteractionNum\n",
      "trueInteractionNum\n",
      "weight\n",
      "weightProduct\n",
      "HLT_DoubleL2Mu23NoVtx_2Cha\n",
      "HLT_DoubleL2Mu23NoVtx_2Cha_NoL2Matched\n",
      "HLT_DoubleL2Mu23NoVtx_2Cha_CosmicSeed\n",
      "HLT_DoubleL2Mu23NoVtx_2Cha_CosmicSeed_NoL2Matched\n",
      "HLT_DoubleL2Mu25NoVtx_2Cha\n",
      "HLT_DoubleL2Mu25NoVtx_2Cha_NoL2Matched\n",
      "HLT_DoubleL2Mu25NoVtx_2Cha_CosmicSeed\n",
      "HLT_DoubleL2Mu25NoVtx_2Cha_CosmicSeed_NoL2Matched\n",
      "HLT_DoubleL2Mu25NoVtx_2Cha_Eta2p4\n",
      "HLT_DoubleL2Mu25NoVtx_2Cha_CosmicSeed_Eta2p4\n",
      "tomatchfilter_result\n",
      "tomatchfilter_HLTDoubleL2Mu23NoVtx2Cha\n",
      "tomatchfilter_HLTDoubleL2Mu23NoVtx2ChaNoL2Matched\n",
      "tomatchfilter_HLTDoubleL2Mu23NoVtx2ChaCosmicSeed\n",
      "tomatchfilter_HLTDoubleL2Mu23NoVtx2ChaCosmicSeedNoL2Matched\n",
      "tomatchfilter_HLTDoubleL2Mu25NoVtx2ChaEta2p4\n",
      "tomatchfilter_HLTDoubleL2Mu25NoVtx2ChaCosmicSeedEta2p4\n",
      "proxymuon\n",
      "genjet\n",
      "trigobj\n",
      "pfMetT0pcT1Txy\n",
      "ljsource\n",
      "electron\n",
      "muon\n",
      "gen\n",
      "photon\n",
      "akjet_ak4PFJetsCHS\n",
      "cosmiconeleg\n",
      "pfMet\n",
      "pfMetT0pcT1\n",
      "cosmicmuon\n",
      "pfMetT1\n",
      "dsamuon\n",
      "pfjet\n",
      "genmet\n",
      "pfphoton\n",
      "pv\n",
      "hftagscore\n",
      "metfilters\n",
      "cosmicveto\n"
     ]
    }
   ],
   "source": [
    "fname_v4 = 'root://xcache//store/group/lpcmetx/SIDM/ffNtupleV4/2018/SIDM_XXTo2ATo2Mu2E_mXX-100_mA-1p2_ctau-9p6_TuneCP5_13TeV-madgraph-pythia8/RunIIAutumn18DRPremix-102X_upgrade2018_realistic_v15-v1/210326_161703/0000/ffNtuple_1.root'\n",
    "events_v4 = NanoEventsFactory.from_root(fname_v4, treepath='ffNtuplizer/ffNtuple', schemaclass=ffschema.FFSchema).events()\n",
    "utilities.print_list(ak.fields(events_v4))"
   ]
  },
  {
   "cell_type": "code",
   "execution_count": 3,
   "id": "39a439d6-ea9f-450d-a019-d26316f2673a",
   "metadata": {
    "tags": []
   },
   "outputs": [],
   "source": [
    "fname = 'root://xcache//store/group/lpcmetx/SIDM/ffNtupleV2/2018/SIDM_XXTo2ATo2Mu2E_mXX-1000_mA-1p2_ctau-9p6_TuneCP5_13TeV-madgraph-pythia8/RunIIAutumn18DRPremix-102X_upgrade2018_realistic_v15-v1/200321_042512/0000/ffNtuple_1.root'"
   ]
  },
  {
   "cell_type": "code",
   "execution_count": 4,
   "id": "22f3392c-3da0-4389-8fc2-2f2b33bdd33c",
   "metadata": {
    "tags": []
   },
   "outputs": [
    {
     "name": "stdout",
     "output_type": "stream",
     "text": [
      "run\n",
      "event\n",
      "lumi\n",
      "puInteractionNum\n",
      "trueInteractionNum\n",
      "weight\n",
      "weightProduct\n",
      "HLT_DoubleL2Mu23NoVtx_2Cha\n",
      "HLT_DoubleL2Mu23NoVtx_2Cha_NoL2Matched\n",
      "HLT_DoubleL2Mu23NoVtx_2Cha_CosmicSeed\n",
      "HLT_DoubleL2Mu23NoVtx_2Cha_CosmicSeed_NoL2Matched\n",
      "HLT_DoubleL2Mu25NoVtx_2Cha\n",
      "HLT_DoubleL2Mu25NoVtx_2Cha_NoL2Matched\n",
      "HLT_DoubleL2Mu25NoVtx_2Cha_CosmicSeed\n",
      "HLT_DoubleL2Mu25NoVtx_2Cha_CosmicSeed_NoL2Matched\n",
      "HLT_DoubleL2Mu25NoVtx_2Cha_Eta2p4\n",
      "HLT_DoubleL2Mu25NoVtx_2Cha_CosmicSeed_Eta2p4\n",
      "HLT_Mu38NoFiltersNoVtxDisplaced_Photon38_CaloIdL\n",
      "HLT_Mu43NoFiltersNoVtx_Photon43_CaloIdL\n",
      "tomatchfilter_result\n",
      "tomatchfilter_HLTDoubleL2Mu23NoVtx2Cha\n",
      "tomatchfilter_HLTDoubleL2Mu23NoVtx2ChaNoL2Matched\n",
      "tomatchfilter_HLTDoubleL2Mu23NoVtx2ChaCosmicSeed\n",
      "tomatchfilter_HLTDoubleL2Mu23NoVtx2ChaCosmicSeedNoL2Matched\n",
      "tomatchfilter_HLTDoubleL2Mu25NoVtx2ChaEta2p4\n",
      "tomatchfilter_HLTDoubleL2Mu25NoVtx2ChaCosmicSeedEta2p4\n",
      "TOHLT_DoubleL2Mu25NoVtx_2Cha_NoL2Matched\n",
      "L1TOHLT_DoubleL2Mu23NoVtx_2Cha_NoL2Matched\n",
      "TOHLT_Mu38NoFiltersNoVtxDisplaced_Photon38_CaloIdL\n",
      "L1TOHLT_DoubleL2Mu23NoVtx_2Cha\n",
      "proxymuon\n",
      "genjet\n",
      "pfMetT0pcT1Txy\n",
      "L1TOHLT_DoubleL2Mu23NoVtx_2Cha_CosmicSeed_NoL2Matched\n",
      "ljsource\n",
      "electron\n",
      "muon\n",
      "L1TOHLT_DoubleL2Mu25NoVtx_2Cha_Eta2p4\n",
      "TOHLT_DoubleL2Mu25NoVtx_2Cha_CosmicSeed_Eta2p4\n",
      "gen\n",
      "TOHLT_DoubleL2Mu23NoVtx_2Cha_NoL2Matched\n",
      "photon\n",
      "akjet_ak4PFJetsCHS\n",
      "cosmiconeleg\n",
      "pfMet\n",
      "TOHLT_DoubleL2Mu23NoVtx_2Cha\n",
      "L1TOHLT_DoubleL2Mu25NoVtx_2Cha_CosmicSeed_Eta2p4\n",
      "TOHLT_DoubleL2Mu25NoVtx_2Cha_CosmicSeed\n",
      "pfMetT0pcT1\n",
      "L1TOHLT_DoubleL2Mu25NoVtx_2Cha_CosmicSeed_NoL2Matched\n",
      "L1TOHLT_DoubleL2Mu25NoVtx_2Cha_NoL2Matched\n",
      "L1TOHLT_Mu38NoFiltersNoVtxDisplaced_Photon38_CaloIdL\n",
      "L1TOHLT_DoubleL2Mu23NoVtx_2Cha_CosmicSeed\n",
      "L1TOHLT_Mu43NoFiltersNoVtx_Photon43_CaloIdL\n",
      "L1TOHLT_DoubleL2Mu25NoVtx_2Cha_CosmicSeed\n",
      "pfMetT1\n",
      "TOHLT_DoubleL2Mu25NoVtx_2Cha_Eta2p4\n",
      "TOHLT_Mu43NoFiltersNoVtx_Photon43_CaloIdL\n",
      "TOHLT_DoubleL2Mu23NoVtx_2Cha_CosmicSeed_NoL2Matched\n",
      "TOHLT_DoubleL2Mu25NoVtx_2Cha\n",
      "pfjet\n",
      "TOHLT_DoubleL2Mu23NoVtx_2Cha_CosmicSeed\n",
      "L1TOHLT_DoubleL2Mu25NoVtx_2Cha\n",
      "TOHLT_DoubleL2Mu25NoVtx_2Cha_CosmicSeed_NoL2Matched\n",
      "dsamuon\n",
      "genmet\n",
      "pv\n",
      "hftagscore\n",
      "metfilters\n",
      "cosmicveto\n"
     ]
    }
   ],
   "source": [
    "events = NanoEventsFactory.from_root(fname, treepath='ffNtuplizer/ffNtuple', schemaclass=ffschema.FFSchema).events()\n",
    "utilities.print_list(ak.fields(events))"
   ]
  },
  {
   "cell_type": "code",
   "execution_count": 5,
   "id": "63838ef0-c2e7-485d-8ed8-3b35d9576afd",
   "metadata": {},
   "outputs": [
    {
     "ename": "AttributeError",
     "evalue": "no field named 'TOHLT_DoubleL2Mu23NoVtx_2Cha_n'\n\n(https://github.com/scikit-hep/awkward-1.0/blob/1.10.3/src/awkward/highlevel.py#L1124)",
     "output_type": "error",
     "traceback": [
      "\u001b[0;31m---------------------------------------------------------------------------\u001b[0m",
      "\u001b[0;31mAttributeError\u001b[0m                            Traceback (most recent call last)",
      "Cell \u001b[0;32mIn[5], line 2\u001b[0m\n\u001b[1;32m      1\u001b[0m \u001b[38;5;66;03m#utilities.print_list(ak.fields(events))\u001b[39;00m\n\u001b[0;32m----> 2\u001b[0m \u001b[43mevents\u001b[49m\u001b[38;5;241;43m.\u001b[39;49m\u001b[43mTOHLT_DoubleL2Mu23NoVtx_2Cha_n\u001b[49m\n\u001b[1;32m      3\u001b[0m \u001b[38;5;66;03m#ak.count(events.pfjet_pfcand.pt)\u001b[39;00m\n\u001b[1;32m      4\u001b[0m \u001b[38;5;66;03m#events.muon\u001b[39;00m\n\u001b[1;32m      5\u001b[0m \u001b[38;5;66;03m#events = events[ak.num(events.muon) > 0]\u001b[39;00m\n\u001b[0;32m   (...)\u001b[0m\n\u001b[1;32m     13\u001b[0m \u001b[38;5;66;03m#print(events.pfjet.pfcand.pt.ndim)\u001b[39;00m\n\u001b[1;32m     14\u001b[0m \u001b[38;5;66;03m#print(ak.type(events.pfjet.pfcand.pt))\u001b[39;00m\n",
      "File \u001b[0;32m/opt/conda/lib/python3.8/site-packages/awkward/highlevel.py:1123\u001b[0m, in \u001b[0;36mArray.__getattr__\u001b[0;34m(self, where)\u001b[0m\n\u001b[1;32m   1117\u001b[0m         \u001b[38;5;28;01mraise\u001b[39;00m \u001b[38;5;167;01mAttributeError\u001b[39;00m(\n\u001b[1;32m   1118\u001b[0m             \u001b[38;5;124m\"\u001b[39m\u001b[38;5;124mwhile trying to get field \u001b[39m\u001b[38;5;132;01m{}\u001b[39;00m\u001b[38;5;124m, an exception \u001b[39m\u001b[38;5;124m\"\u001b[39m\n\u001b[1;32m   1119\u001b[0m             \u001b[38;5;124m\"\u001b[39m\u001b[38;5;124moccurred:\u001b[39m\u001b[38;5;130;01m\\n\u001b[39;00m\u001b[38;5;132;01m{}\u001b[39;00m\u001b[38;5;124m: \u001b[39m\u001b[38;5;132;01m{}\u001b[39;00m\u001b[38;5;124m\"\u001b[39m\u001b[38;5;241m.\u001b[39mformat(\u001b[38;5;28mrepr\u001b[39m(where), \u001b[38;5;28mtype\u001b[39m(err), \u001b[38;5;28mstr\u001b[39m(err))\n\u001b[1;32m   1120\u001b[0m             \u001b[38;5;241m+\u001b[39m ak\u001b[38;5;241m.\u001b[39m_util\u001b[38;5;241m.\u001b[39mexception_suffix(\u001b[38;5;18m__file__\u001b[39m)\n\u001b[1;32m   1121\u001b[0m         ) \u001b[38;5;28;01mfrom\u001b[39;00m \u001b[38;5;21;01merr\u001b[39;00m\n\u001b[1;32m   1122\u001b[0m \u001b[38;5;28;01melse\u001b[39;00m:\n\u001b[0;32m-> 1123\u001b[0m     \u001b[38;5;28;01mraise\u001b[39;00m \u001b[38;5;167;01mAttributeError\u001b[39;00m(\n\u001b[1;32m   1124\u001b[0m         \u001b[38;5;124mf\u001b[39m\u001b[38;5;124m\"\u001b[39m\u001b[38;5;124mno field named \u001b[39m\u001b[38;5;132;01m{\u001b[39;00mwhere\u001b[38;5;132;01m!r}\u001b[39;00m\u001b[38;5;124m\"\u001b[39m \u001b[38;5;241m+\u001b[39m ak\u001b[38;5;241m.\u001b[39m_util\u001b[38;5;241m.\u001b[39mexception_suffix(\u001b[38;5;18m__file__\u001b[39m)\n\u001b[1;32m   1125\u001b[0m     )\n",
      "\u001b[0;31mAttributeError\u001b[0m: no field named 'TOHLT_DoubleL2Mu23NoVtx_2Cha_n'\n\n(https://github.com/scikit-hep/awkward-1.0/blob/1.10.3/src/awkward/highlevel.py#L1124)"
     ]
    }
   ],
   "source": [
    "#utilities.print_list(ak.fields(events))\n",
    "events.TOHLT_DoubleL2Mu23NoVtx_2Cha_n\n",
    "#ak.count(events.pfjet_pfcand.pt)\n",
    "#events.muon\n",
    "#events = events[ak.num(events.muon) > 0]\n",
    "#events = events[ak.num(events.electron) > 0]\n",
    "#events.muon[:, 0].p4.delta_r(events.electron.p4)\n",
    "#print(events.pfjet.layout)\n",
    "#print(len(events.pfjet.area))\n",
    "#print(ak.count(events.pfjet.area))\n",
    "#print(events.pfjet.area.ndim)\n",
    "#print(ak.type(events.pfjet.area))\n",
    "#print(events.pfjet.pfcand.pt.ndim)\n",
    "#print(ak.type(events.pfjet.pfcand.pt))"
   ]
  },
  {
   "cell_type": "code",
   "execution_count": null,
   "id": "d730f748-242e-40ab-a659-3ce32fd9b439",
   "metadata": {},
   "outputs": [],
   "source": [
    "events.pfjet"
   ]
  },
  {
   "cell_type": "code",
   "execution_count": null,
   "id": "4a951cd0-06c0-47e0-a15f-294a4292b374",
   "metadata": {},
   "outputs": [],
   "source": []
  },
  {
   "cell_type": "code",
   "execution_count": null,
   "id": "d565fec5-75ee-4eb5-8813-68004a99dc7a",
   "metadata": {},
   "outputs": [],
   "source": [
    "events.pfjet.pfcand.pt"
   ]
  },
  {
   "cell_type": "code",
   "execution_count": null,
   "id": "a8da2307-4ef6-4e01-b76d-280a22052d61",
   "metadata": {},
   "outputs": [],
   "source": [
    "ak.type(events.pfjet.kinvtx)"
   ]
  },
  {
   "cell_type": "code",
   "execution_count": null,
   "id": "33285226-0dd7-4573-8bbb-522e6824b410",
   "metadata": {},
   "outputs": [],
   "source": [
    "events = events[ak.num(events.pfjet) > 0]"
   ]
  },
  {
   "cell_type": "code",
   "execution_count": null,
   "id": "124ddcf7-532a-4637-9205-40ce0d20f649",
   "metadata": {},
   "outputs": [],
   "source": [
    "events.pfjet.pfcand.pt[:]"
   ]
  },
  {
   "cell_type": "code",
   "execution_count": null,
   "id": "da3596e2-88e6-431c-9912-b11cc84e597a",
   "metadata": {},
   "outputs": [],
   "source": [
    "events.pfjet.pfcand.pt[:]\n",
    "ak.count(events.pfjet.pfcand.pt[:])"
   ]
  },
  {
   "cell_type": "code",
   "execution_count": null,
   "id": "1b55b00b-bf10-4ce9-8b40-9940456c5d9f",
   "metadata": {},
   "outputs": [],
   "source": [
    "ak.num(events.pfjet)"
   ]
  },
  {
   "cell_type": "code",
   "execution_count": null,
   "id": "53b4ebae-38a3-4051-ba2b-658c52534374",
   "metadata": {},
   "outputs": [],
   "source": [
    "events.genmet.fields"
   ]
  },
  {
   "cell_type": "code",
   "execution_count": null,
   "id": "661c2ef4-b6c0-4624-a5c5-301f77ff94e3",
   "metadata": {},
   "outputs": [],
   "source": [
    "events.muon.behavior"
   ]
  },
  {
   "cell_type": "code",
   "execution_count": null,
   "id": "8f2d9e22-c105-40d4-b4b5-d41931f6b6af",
   "metadata": {},
   "outputs": [],
   "source": [
    "ljsource = events.ljsource\n",
    "ljsource.fields"
   ]
  },
  {
   "cell_type": "code",
   "execution_count": null,
   "id": "24f7c926-a2b0-4cb6-871a-a50e3bac0947",
   "metadata": {},
   "outputs": [],
   "source": [
    "ljsource.pt"
   ]
  },
  {
   "cell_type": "code",
   "execution_count": null,
   "id": "3724c5a9-4468-4692-88b0-6c9dc646a525",
   "metadata": {},
   "outputs": [],
   "source": [
    "ljsource[\"type\"]"
   ]
  },
  {
   "cell_type": "code",
   "execution_count": null,
   "id": "eca6cd63-da21-432a-92f9-c26bf8c77274",
   "metadata": {},
   "outputs": [],
   "source": []
  }
 ],
 "metadata": {
  "kernelspec": {
   "display_name": "Python 3 (ipykernel)",
   "language": "python",
   "name": "python3"
  },
  "language_info": {
   "codemirror_mode": {
    "name": "ipython",
    "version": 3
   },
   "file_extension": ".py",
   "mimetype": "text/x-python",
   "name": "python",
   "nbconvert_exporter": "python",
   "pygments_lexer": "ipython3",
   "version": "3.8.16"
  }
 },
 "nbformat": 4,
 "nbformat_minor": 5
}
