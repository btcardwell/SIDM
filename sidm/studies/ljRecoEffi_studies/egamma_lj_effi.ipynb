{
 "cells": [
  {
   "cell_type": "code",
   "execution_count": 1,
   "id": "4f755ed1-781a-46cd-9bbe-8434df44270c",
   "metadata": {
    "tags": []
   },
   "outputs": [],
   "source": [
    "# python\n",
    "import sys\n",
    "import importlib\n",
    "# columnar analysis\n",
    "from coffea import processor\n",
    "from coffea.nanoevents import NanoAODSchema\n",
    "import awkward as ak\n",
    "from dask.distributed import Client, performance_report\n",
    "# local\n",
    "sidm_path = str(sys.path[0]).split(\"/sidm\")[0]\n",
    "if sidm_path not in sys.path: sys.path.insert(1, sidm_path)\n",
    "from sidm.tools import utilities, sidm_processor, scaleout\n",
    "# always reload local modules to pick up changes during development\n",
    "importlib.reload(utilities)\n",
    "importlib.reload(sidm_processor)\n",
    "importlib.reload(scaleout)\n",
    "import matplotlib.pyplot as plt\n",
    "utilities.set_plot_style()\n",
    "%matplotlib inline\n",
    "import mplhep as hep"
   ]
  },
  {
   "cell_type": "code",
   "execution_count": 2,
   "id": "96e57823-5bdd-4305-bf00-4f471480fd9f",
   "metadata": {
    "tags": []
   },
   "outputs": [
    {
     "data": {
      "text/html": [
       "<div>\n",
       "    <div style=\"width: 24px; height: 24px; background-color: #e1e1e1; border: 3px solid #9D9D9D; border-radius: 5px; position: absolute;\"> </div>\n",
       "    <div style=\"margin-left: 48px;\">\n",
       "        <h3 style=\"margin-bottom: 0px;\">Client</h3>\n",
       "        <p style=\"color: #9D9D9D; margin-bottom: 0px;\">Client-d549273e-dd97-11ef-ab1e-5e011753fd0f</p>\n",
       "        <table style=\"width: 100%; text-align: left;\">\n",
       "\n",
       "        <tr>\n",
       "        \n",
       "            <td style=\"text-align: left;\"><strong>Connection method:</strong> Direct</td>\n",
       "            <td style=\"text-align: left;\"></td>\n",
       "        \n",
       "        </tr>\n",
       "\n",
       "        \n",
       "            <tr>\n",
       "                <td style=\"text-align: left;\">\n",
       "                    <strong>Dashboard: </strong> <a href=\"/user/maria.jose@cern.ch/proxy/8787/status\" target=\"_blank\">/user/maria.jose@cern.ch/proxy/8787/status</a>\n",
       "                </td>\n",
       "                <td style=\"text-align: left;\"></td>\n",
       "            </tr>\n",
       "        \n",
       "\n",
       "        </table>\n",
       "\n",
       "        \n",
       "            <button style=\"margin-bottom: 12px;\" data-commandlinker-command=\"dask:populate-and-launch-layout\" data-commandlinker-args='{\"url\": \"/user/maria.jose@cern.ch/proxy/8787/status\" }'>\n",
       "                Launch dashboard in JupyterLab\n",
       "            </button>\n",
       "        \n",
       "\n",
       "        \n",
       "            <details>\n",
       "            <summary style=\"margin-bottom: 20px;\"><h3 style=\"display: inline;\">Scheduler Info</h3></summary>\n",
       "            <div style=\"\">\n",
       "    <div>\n",
       "        <div style=\"width: 24px; height: 24px; background-color: #FFF7E5; border: 3px solid #FF6132; border-radius: 5px; position: absolute;\"> </div>\n",
       "        <div style=\"margin-left: 48px;\">\n",
       "            <h3 style=\"margin-bottom: 0px;\">Scheduler</h3>\n",
       "            <p style=\"color: #9D9D9D; margin-bottom: 0px;\">Scheduler-7ab20883-e3c2-4fee-bf0c-96720e55c13d</p>\n",
       "            <table style=\"width: 100%; text-align: left;\">\n",
       "                <tr>\n",
       "                    <td style=\"text-align: left;\">\n",
       "                        <strong>Comm:</strong> tls://192.168.235.125:8786\n",
       "                    </td>\n",
       "                    <td style=\"text-align: left;\">\n",
       "                        <strong>Workers:</strong> 0\n",
       "                    </td>\n",
       "                </tr>\n",
       "                <tr>\n",
       "                    <td style=\"text-align: left;\">\n",
       "                        <strong>Dashboard:</strong> <a href=\"/user/maria.jose@cern.ch/proxy/8787/status\" target=\"_blank\">/user/maria.jose@cern.ch/proxy/8787/status</a>\n",
       "                    </td>\n",
       "                    <td style=\"text-align: left;\">\n",
       "                        <strong>Total threads:</strong> 0\n",
       "                    </td>\n",
       "                </tr>\n",
       "                <tr>\n",
       "                    <td style=\"text-align: left;\">\n",
       "                        <strong>Started:</strong> 2 hours ago\n",
       "                    </td>\n",
       "                    <td style=\"text-align: left;\">\n",
       "                        <strong>Total memory:</strong> 0 B\n",
       "                    </td>\n",
       "                </tr>\n",
       "            </table>\n",
       "        </div>\n",
       "    </div>\n",
       "\n",
       "    <details style=\"margin-left: 48px;\">\n",
       "        <summary style=\"margin-bottom: 20px;\">\n",
       "            <h3 style=\"display: inline;\">Workers</h3>\n",
       "        </summary>\n",
       "\n",
       "        \n",
       "\n",
       "    </details>\n",
       "</div>\n",
       "            </details>\n",
       "        \n",
       "\n",
       "    </div>\n",
       "</div>"
      ],
      "text/plain": [
       "<Client: 'tls://192.168.235.125:8786' processes=0 threads=0, memory=0 B>"
      ]
     },
     "execution_count": 2,
     "metadata": {},
     "output_type": "execute_result"
    }
   ],
   "source": [
    "client = scaleout.make_dask_client(\"tls://localhost:8786\")\n",
    "client"
   ]
  },
  {
   "cell_type": "code",
   "execution_count": 3,
   "id": "bf51103c-f1c0-4260-a4de-bb2f8fd0ec9d",
   "metadata": {
    "tags": []
   },
   "outputs": [],
   "source": [
    "samples = [\n",
    "    #\"2Mu2E_100GeV_5GeV_400mm\",\n",
    "    #\"2Mu2E_100GeV_5GeV_400mm\",\n",
    "    #\"2Mu2E_150GeV_5GeV_2p7mm\",\n",
    "    \"2Mu2E_200GeV_0p25GeV_10p0mm\",\n",
    "    \"2Mu2E_200GeV_1p2GeV_48p0mm\",\n",
    "     \"2Mu2E_200GeV_5p0GeV_200p0mm\",\n",
    "    \"2Mu2E_1000GeV_0p25GeV_2p0mm\",\n",
    "    \"2Mu2E_1000GeV_5p0GeV_40p0mm\"\n",
    "    #\"2Mu2E_500GeV_5GeV_80mm\",\n",
    "    #\"2Mu2E_800GeV_5GeV_0p5mm\",\n",
    "    #\"2Mu2E_1000GeV_5GeV_0p4mm\",\n",
    "    #\"2Mu2E_1000GeV_5GeV_0p04mm\",\n",
    "    #\"2Mu2E_1000GeV_5GeV_20mm\",\n",
    "    #\"2Mu2E_100GeV_1p2GeV_9p6mm\",\n",
    "    #\"2Mu2E_1000GeV_5GeV_40mm\",\n",
    "    #\"2Mu2E_100GeV_p25GeV_400mm\",\n",
    "   # \"2Mu2E_1000GeV_5GeV_4mm\",\n",
    "    \n",
    "]\n",
    "fileset = utilities.make_fileset(samples, \n",
    "                                 \"llpNanoAOD_v2\", \n",
    "                                 location_cfg=\"signal_2mu2e_v10.yaml\",\n",
    "                                 # max_files =10\n",
    "                                 # max_files =1\n",
    "                                )"
   ]
  },
  {
   "cell_type": "code",
   "execution_count": null,
   "id": "53b61872-c564-4148-880b-c7c8d7ffb2b1",
   "metadata": {
    "tags": []
   },
   "outputs": [
    {
     "name": "stdout",
     "output_type": "stream",
     "text": [
      "<sidm.tools.sidm_processor.SidmProcessor object at 0x7f126d7faac0>\n"
     ]
    },
    {
     "name": "stderr",
     "output_type": "stream",
     "text": [
      "/opt/conda/lib/python3.9/site-packages/dask/dataframe/_pyarrow_compat.py:17: FutureWarning: Minimal version of pyarrow will soon be increased to 14.0.1. You are using 12.0.0. Please consider upgrading.\n",
      "  warnings.warn(\n"
     ]
    },
    {
     "name": "stdout",
     "output_type": "stream",
     "text": [
      "[                                        ] | 0% Completed | 48min  0.7s"
     ]
    }
   ],
   "source": [
    "channels = [\n",
    "    # \"baseNoLj\", \n",
    "           \"baseNoLj_A_ee_highPtA_lowLxyA\",\n",
    "            \"baseNoLj_A_ee_matched_lj_highPT_lowLxyA\",\n",
    "           \n",
    "           ]\n",
    "p = sidm_processor.SidmProcessor(\n",
    "    channels,\n",
    "    [\"base_plus_gen\"],\n",
    "    lj_reco_choices=[\"0.4\"],\n",
    "   \n",
    ")\n",
    "runner = processor.Runner(\n",
    "    #executor=processor.IterativeExecutor(),\n",
    "    executor=processor.DaskExecutor(client=client),\n",
    "    schema=NanoAODSchema,\n",
    "    #maxchunks=1,\n",
    "    #skipbadfiles=True,\n",
    "    savemetrics=True,\n",
    ")\n",
    "# test if processor is serializable\n",
    "import coffea.util as coffea_util\n",
    "coffea_util.save(p, \"processor.coffea\")\n",
    "print(coffea_util.load(\"processor.coffea\"))\n",
    "with performance_report(filename=\"dask-report.html\"):\n",
    "    output = runner.run(fileset, treename=\"Events\", processor_instance=p)\n"
   ]
  },
  {
   "cell_type": "code",
   "execution_count": null,
   "id": "ef0a839c-6268-4c72-89a3-c783988f73dc",
   "metadata": {
    "tags": []
   },
   "outputs": [],
   "source": [
    "ch2 = \"baseNoLj_A_ee_matched_lj_highPT_lowLxyA\"\n",
    "ch1 = \"baseNoLj_A_ee_highPtA_lowLxyA\"\n",
    "\n"
   ]
  },
  {
   "cell_type": "code",
   "execution_count": null,
   "id": "8e6f54b2-266d-4dfc-9830-ea775cf04885",
   "metadata": {
    "tags": []
   },
   "outputs": [],
   "source": [
    "hists = output[\"out\"][\"2Mu2E_200GeV_0p25GeV_10p0mm\"][\"hists\"]\n",
    "utilities.plot_ratio (hists[\"genAs_toE_pt\"][ch2, ::3j],\n",
    "           hists[\"genAs_toE_pt\"][ch1, ::3j], \n",
    "          legend = [ch2, ch1])\n",
    "utilities.plot_ratio (hists[\"genAs_toE_lxy\"][ch2, :],\n",
    "           hists[\"genAs_toE_lxy\"][ch1, :], \n",
    "          legend = [ch2, ch1])\n",
    "utilities.plot_ratio (hists[\"genE_genE_dR_XXLowRange\"][ch2,::2j ],\n",
    "           hists[\"genE_genE_dR_XXLowRange\"][ch1, ::2j], \n",
    "          legend = [ch2, ch1])"
   ]
  },
  {
   "cell_type": "code",
   "execution_count": null,
   "id": "b579297f-fec6-48b1-a058-1b112f75f7b1",
   "metadata": {},
   "outputs": [],
   "source": [
    "hists = output[\"out\"][\"2Mu2E_200GeV_1p2GeV_48p0mm\"][\"hists\"]\n",
    "utilities.plot_ratio (hists[\"genAs_toE_pt\"][ch2, ::3j],\n",
    "           hists[\"genAs_toE_pt\"][ch1, ::3j], \n",
    "          legend = [ch2, ch1])\n",
    "utilities.plot_ratio (hists[\"genAs_toE_lxy\"][ch2, ::2j],\n",
    "           hists[\"genAs_toE_lxy\"][ch1, ::2j], \n",
    "          legend = [ch2, ch1])\n",
    "utilities.plot_ratio (hists[\"genE_genE_dR_XLowRange\"][ch2, ::2j],\n",
    "           hists[\"genE_genE_dR_XLowRange\"][ch1, ::2j], \n",
    "          legend = [ch2, ch1])"
   ]
  },
  {
   "cell_type": "code",
   "execution_count": null,
   "id": "c802e3d5-bd5b-4dbf-b97d-ae1e7cbe04a7",
   "metadata": {
    "tags": []
   },
   "outputs": [],
   "source": [
    "hists = output[\"out\"][\"2Mu2E_200GeV_5p0GeV_200p0mm\"][\"hists\"]\n",
    "utilities.plot_ratio (hists[\"genAs_toE_pt\"][ch2, ::3j],\n",
    "           hists[\"genAs_toE_pt\"][ch1, ::3j], \n",
    "          legend = [ch2, ch1])\n",
    "utilities.plot_ratio (hists[\"genAs_toE_lxy\"][ch2, ::2j],\n",
    "           hists[\"genAs_toE_lxy\"][ch1, ::2j], \n",
    "          legend = [ch2, ch1])\n",
    "utilities.plot_ratio (hists[\"genE_genE_dR_lowRange\"][ch2, ::2j],\n",
    "           hists[\"genE_genE_dR_lowRange\"][ch1, ::2j], \n",
    "          legend = [ch2, ch1])"
   ]
  },
  {
   "cell_type": "code",
   "execution_count": null,
   "id": "c2d45a4e-0ff7-48ae-a77e-70017dfcfa79",
   "metadata": {},
   "outputs": [],
   "source": [
    "hists = output[\"out\"][\"2Mu2E_1000GeV_0p25GeV_2p0mm\"][\"hists\"]\n",
    "utilities.plot_ratio (hists[\"genAs_toE_pt_highRange\"][ch2, ::3j],\n",
    "           hists[\"genAs_toE_pt_highRange\"][ch1, ::3j], \n",
    "          legend = [ch2, ch1])\n",
    "utilities.plot_ratio (hists[\"genAs_toE_lxy\"][ch2, :],\n",
    "           hists[\"genAs_toE_lxy\"][ch1, :], \n",
    "          legend = [ch2, ch1])\n",
    "utilities.plot_ratio (hists[\"genE_genE_dR_XXLowRange\"][ch2, :],\n",
    "           hists[\"genE_genE_dR_XXLowRange\"][ch1, :], \n",
    "          legend = [ch2, ch1])"
   ]
  },
  {
   "cell_type": "code",
   "execution_count": null,
   "id": "faed378e-17ab-45a0-a1e4-9ee262214178",
   "metadata": {
    "tags": []
   },
   "outputs": [],
   "source": [
    "hists = output[\"out\"][\"2Mu2E_1000GeV_5p0GeV_40p0mm\"][\"hists\"]\n",
    "utilities.plot_ratio (hists[\"genAs_toE_pt_highRange\"][ch2, ::3j],\n",
    "           hists[\"genAs_toE_pt_highRange\"][ch1, ::3j], \n",
    "          legend = [ch2, ch1])\n",
    "utilities.plot_ratio (hists[\"genAs_toE_lxy\"][ch2, :],\n",
    "           hists[\"genAs_toE_lxy\"][ch1, :], \n",
    "          legend = [ch2, ch1])\n",
    "utilities.plot_ratio (hists[\"genE_genE_dR_XLowRange\"][ch2, :],\n",
    "           hists[\"genE_genE_dR_XLowRange\"][ch1, :], \n",
    "          legend = [ch2, ch1])"
   ]
  },
  {
   "cell_type": "code",
   "execution_count": null,
   "id": "f66c8928-5ccf-40a4-818a-bbcdd2629066",
   "metadata": {},
   "outputs": [],
   "source": []
  },
  {
   "cell_type": "code",
   "execution_count": null,
   "id": "e4eea4bf-ede9-42e3-ace0-e6d14e1f3114",
   "metadata": {},
   "outputs": [],
   "source": []
  },
  {
   "cell_type": "code",
   "execution_count": null,
   "id": "14295e10-1cd2-4482-a4c6-cd077ce25239",
   "metadata": {},
   "outputs": [],
   "source": []
  }
 ],
 "metadata": {
  "kernelspec": {
   "display_name": "Python 3 (ipykernel)",
   "language": "python",
   "name": "python3"
  },
  "language_info": {
   "codemirror_mode": {
    "name": "ipython",
    "version": 3
   },
   "file_extension": ".py",
   "mimetype": "text/x-python",
   "name": "python",
   "nbconvert_exporter": "python",
   "pygments_lexer": "ipython3",
   "version": "3.9.18"
  }
 },
 "nbformat": 4,
 "nbformat_minor": 5
}
