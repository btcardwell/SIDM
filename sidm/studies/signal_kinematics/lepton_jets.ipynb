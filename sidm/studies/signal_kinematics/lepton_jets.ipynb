{
 "cells": [
  {
   "cell_type": "markdown",
   "id": "d0ed938f-cc4a-4054-b61c-8ce951f3798c",
   "metadata": {},
   "source": [
    "In this notebook I am going to study the lepton jets kinematics. I study the lepton jet as a whole as well as separating them into egmLjs and muLjs. I consider mainly baseNoLj and base selection. To dig into the unusual behaviour in the electron pt, I also consider three selections which separates egmLjs into three categories."
   ]
  },
  {
   "cell_type": "code",
   "execution_count": 1,
   "id": "d44a8082-85a6-4df5-bfca-c3c1b627693d",
   "metadata": {
    "tags": []
   },
   "outputs": [],
   "source": [
    "# python\n",
    "import sys\n",
    "import os\n",
    "import importlib\n",
    "# columnar analysis\n",
    "from coffea.nanoevents import NanoAODSchema\n",
    "from coffea import processor\n",
    "# local\n",
    "sidm_path = str(sys.path[0]).split(\"/sidm\")[0]\n",
    "if sidm_path not in sys.path: sys.path.insert(1, sidm_path)\n",
    "from sidm.tools import sidm_processor, utilities\n",
    "# always reload local modules to pick up changes during development\n",
    "importlib.reload(sidm_processor)\n",
    "importlib.reload(utilities)\n",
    "# plotting\n",
    "import matplotlib.pyplot as plt\n",
    "utilities.set_plot_style()\n",
    "%matplotlib inline"
   ]
  },
  {
   "cell_type": "code",
   "execution_count": 2,
   "id": "32b29943-3410-42b6-a232-742066579509",
   "metadata": {
    "tags": []
   },
   "outputs": [
    {
     "data": {
      "application/vnd.jupyter.widget-view+json": {
       "model_id": "c3fecf28bfb34f0290dfbccc58293af1",
       "version_major": 2,
       "version_minor": 0
      },
      "text/plain": [
       "Output()"
      ]
     },
     "metadata": {},
     "output_type": "display_data"
    },
    {
     "data": {
      "text/html": [
       "<pre style=\"white-space:pre;overflow-x:auto;line-height:normal;font-family:Menlo,'DejaVu Sans Mono',consolas,'Courier New',monospace\"></pre>\n"
      ],
      "text/plain": []
     },
     "metadata": {},
     "output_type": "display_data"
    },
    {
     "data": {
      "text/html": [
       "<pre style=\"white-space:pre;overflow-x:auto;line-height:normal;font-family:Menlo,'DejaVu Sans Mono',consolas,'Courier New',monospace\">\n",
       "</pre>\n"
      ],
      "text/plain": [
       "\n"
      ]
     },
     "metadata": {},
     "output_type": "display_data"
    },
    {
     "data": {
      "application/vnd.jupyter.widget-view+json": {
       "model_id": "e5db0fc915e54370b1b57f2560085a58",
       "version_major": 2,
       "version_minor": 0
      },
      "text/plain": [
       "Output()"
      ]
     },
     "metadata": {},
     "output_type": "display_data"
    },
    {
     "data": {
      "text/html": [
       "<pre style=\"white-space:pre;overflow-x:auto;line-height:normal;font-family:Menlo,'DejaVu Sans Mono',consolas,'Courier New',monospace\">baseNoLj {'obj': {'electrons': ['pT &gt; 10 GeV', '|eta| &lt; 2.4', 'looseID'], 'muons': ['looseID', 'pT &gt; 5 GeV', '|eta|\n",
       "&lt; 2.4'], 'photons': ['pT &gt; 20 GeV', '|eta| &lt; 2.5', 'looseID'], 'dsaMuons': ['pT &gt; 10 GeV', '|eta| &lt; 2.4', 'DT + CSC\n",
       "hits &gt; 12', 'ifcsczero', 'normChi2 &lt; 2.5', 'ptErrorOverPT &lt; 1', 'no PF match'], 'pvs': ['ndof &gt; 4', '|z| &lt; 24 cm', \n",
       "'|rho| &lt; 0.02 cm'], 'genMus': ['status == 1'], 'genEs': ['status == 1']}, 'lj': {}, 'postLj_obj': {}, 'evt': ['PV \n",
       "filter']}\n",
       "</pre>\n"
      ],
      "text/plain": [
       "baseNoLj {'obj': {'electrons': ['pT > 10 GeV', '|eta| < 2.4', 'looseID'], 'muons': ['looseID', 'pT > 5 GeV', '|eta|\n",
       "< 2.4'], 'photons': ['pT > 20 GeV', '|eta| < 2.5', 'looseID'], 'dsaMuons': ['pT > 10 GeV', '|eta| < 2.4', 'DT + CSC\n",
       "hits > 12', 'ifcsczero', 'normChi2 < 2.5', 'ptErrorOverPT < 1', 'no PF match'], 'pvs': ['ndof > 4', '|z| < 24 cm', \n",
       "'|rho| < 0.02 cm'], 'genMus': ['status == 1'], 'genEs': ['status == 1']}, 'lj': {}, 'postLj_obj': {}, 'evt': ['PV \n",
       "filter']}\n"
      ]
     },
     "metadata": {},
     "output_type": "display_data"
    },
    {
     "data": {
      "text/html": [
       "<pre style=\"white-space:pre;overflow-x:auto;line-height:normal;font-family:Menlo,'DejaVu Sans Mono',consolas,'Courier New',monospace\">base {'obj': {'electrons': ['pT &gt; 10 GeV', '|eta| &lt; 2.4', 'looseID'], 'muons': ['looseID', 'pT &gt; 5 GeV', '|eta| &lt; \n",
       "2.4'], 'photons': ['pT &gt; 20 GeV', '|eta| &lt; 2.5', 'looseID'], 'dsaMuons': ['pT &gt; 10 GeV', '|eta| &lt; 2.4', 'DT + CSC \n",
       "hits &gt; 12', 'ifcsczero', 'normChi2 &lt; 2.5', 'ptErrorOverPT &lt; 1', 'no PF match'], 'pvs': ['ndof &gt; 4', '|z| &lt; 24 cm', \n",
       "'|rho| &lt; 0.02 cm'], 'genMus': ['status == 1'], 'genEs': ['status == 1']}, 'lj': {'ljs': ['pT &gt; 30 GeV', '|eta| &lt; \n",
       "2.4', 'mu_charge == 0']}, 'postLj_obj': {}, 'evt': ['PV filter', '&gt;=2 LJs']}\n",
       "</pre>\n"
      ],
      "text/plain": [
       "base {'obj': {'electrons': ['pT > 10 GeV', '|eta| < 2.4', 'looseID'], 'muons': ['looseID', 'pT > 5 GeV', '|eta| < \n",
       "2.4'], 'photons': ['pT > 20 GeV', '|eta| < 2.5', 'looseID'], 'dsaMuons': ['pT > 10 GeV', '|eta| < 2.4', 'DT + CSC \n",
       "hits > 12', 'ifcsczero', 'normChi2 < 2.5', 'ptErrorOverPT < 1', 'no PF match'], 'pvs': ['ndof > 4', '|z| < 24 cm', \n",
       "'|rho| < 0.02 cm'], 'genMus': ['status == 1'], 'genEs': ['status == 1']}, 'lj': {'ljs': ['pT > 30 GeV', '|eta| < \n",
       "2.4', 'mu_charge == 0']}, 'postLj_obj': {}, 'evt': ['PV filter', '>=2 LJs']}\n"
      ]
     },
     "metadata": {},
     "output_type": "display_data"
    },
    {
     "data": {
      "text/html": [
       "<pre style=\"white-space:pre;overflow-x:auto;line-height:normal;font-family:Menlo,'DejaVu Sans Mono',consolas,'Courier New',monospace\">base_egmLj_eLj {'obj': {'electrons': ['pT &gt; 10 GeV', '|eta| &lt; 2.4', 'looseID'], 'muons': ['looseID', 'pT &gt; 5 GeV', \n",
       "'|eta| &lt; 2.4'], 'photons': ['pT &gt; 20 GeV', '|eta| &lt; 2.5', 'looseID'], 'dsaMuons': ['pT &gt; 10 GeV', '|eta| &lt; 2.4', \n",
       "'DT + CSC hits &gt; 12', 'ifcsczero', 'normChi2 &lt; 2.5', 'ptErrorOverPT &lt; 1', 'no PF match'], 'pvs': ['ndof &gt; 4', '|z| \n",
       "&lt; 24 cm', '|rho| &lt; 0.02 cm'], 'genMus': ['status == 1'], 'genEs': ['status == 1']}, 'lj': {'ljs': ['pT &gt; 30 GeV', \n",
       "'|eta| &lt; 2.4', 'mu_charge == 0']}, 'postLj_obj': {'egm_ljs': ['eLj']}, 'evt': ['PV filter', '&gt;=2 LJs']}\n",
       "</pre>\n"
      ],
      "text/plain": [
       "base_egmLj_eLj {'obj': {'electrons': ['pT > 10 GeV', '|eta| < 2.4', 'looseID'], 'muons': ['looseID', 'pT > 5 GeV', \n",
       "'|eta| < 2.4'], 'photons': ['pT > 20 GeV', '|eta| < 2.5', 'looseID'], 'dsaMuons': ['pT > 10 GeV', '|eta| < 2.4', \n",
       "'DT + CSC hits > 12', 'ifcsczero', 'normChi2 < 2.5', 'ptErrorOverPT < 1', 'no PF match'], 'pvs': ['ndof > 4', '|z| \n",
       "< 24 cm', '|rho| < 0.02 cm'], 'genMus': ['status == 1'], 'genEs': ['status == 1']}, 'lj': {'ljs': ['pT > 30 GeV', \n",
       "'|eta| < 2.4', 'mu_charge == 0']}, 'postLj_obj': {'egm_ljs': ['eLj']}, 'evt': ['PV filter', '>=2 LJs']}\n"
      ]
     },
     "metadata": {},
     "output_type": "display_data"
    },
    {
     "data": {
      "text/html": [
       "<pre style=\"white-space:pre;overflow-x:auto;line-height:normal;font-family:Menlo,'DejaVu Sans Mono',consolas,'Courier New',monospace\">base_egmLj_gLj {'obj': {'electrons': ['pT &gt; 10 GeV', '|eta| &lt; 2.4', 'looseID'], 'muons': ['looseID', 'pT &gt; 5 GeV', \n",
       "'|eta| &lt; 2.4'], 'photons': ['pT &gt; 20 GeV', '|eta| &lt; 2.5', 'looseID'], 'dsaMuons': ['pT &gt; 10 GeV', '|eta| &lt; 2.4', \n",
       "'DT + CSC hits &gt; 12', 'ifcsczero', 'normChi2 &lt; 2.5', 'ptErrorOverPT &lt; 1', 'no PF match'], 'pvs': ['ndof &gt; 4', '|z| \n",
       "&lt; 24 cm', '|rho| &lt; 0.02 cm'], 'genMus': ['status == 1'], 'genEs': ['status == 1']}, 'lj': {'ljs': ['pT &gt; 30 GeV', \n",
       "'|eta| &lt; 2.4', 'mu_charge == 0']}, 'postLj_obj': {'egm_ljs': ['gLj']}, 'evt': ['PV filter', '&gt;=2 LJs']}\n",
       "</pre>\n"
      ],
      "text/plain": [
       "base_egmLj_gLj {'obj': {'electrons': ['pT > 10 GeV', '|eta| < 2.4', 'looseID'], 'muons': ['looseID', 'pT > 5 GeV', \n",
       "'|eta| < 2.4'], 'photons': ['pT > 20 GeV', '|eta| < 2.5', 'looseID'], 'dsaMuons': ['pT > 10 GeV', '|eta| < 2.4', \n",
       "'DT + CSC hits > 12', 'ifcsczero', 'normChi2 < 2.5', 'ptErrorOverPT < 1', 'no PF match'], 'pvs': ['ndof > 4', '|z| \n",
       "< 24 cm', '|rho| < 0.02 cm'], 'genMus': ['status == 1'], 'genEs': ['status == 1']}, 'lj': {'ljs': ['pT > 30 GeV', \n",
       "'|eta| < 2.4', 'mu_charge == 0']}, 'postLj_obj': {'egm_ljs': ['gLj']}, 'evt': ['PV filter', '>=2 LJs']}\n"
      ]
     },
     "metadata": {},
     "output_type": "display_data"
    },
    {
     "data": {
      "text/html": [
       "<pre style=\"white-space:pre;overflow-x:auto;line-height:normal;font-family:Menlo,'DejaVu Sans Mono',consolas,'Courier New',monospace\">base_egmLj_egLj {'obj': {'electrons': ['pT &gt; 10 GeV', '|eta| &lt; 2.4', 'looseID'], 'muons': ['looseID', 'pT &gt; 5 GeV',\n",
       "'|eta| &lt; 2.4'], 'photons': ['pT &gt; 20 GeV', '|eta| &lt; 2.5', 'looseID'], 'dsaMuons': ['pT &gt; 10 GeV', '|eta| &lt; 2.4', \n",
       "'DT + CSC hits &gt; 12', 'ifcsczero', 'normChi2 &lt; 2.5', 'ptErrorOverPT &lt; 1', 'no PF match'], 'pvs': ['ndof &gt; 4', '|z| \n",
       "&lt; 24 cm', '|rho| &lt; 0.02 cm'], 'genMus': ['status == 1'], 'genEs': ['status == 1']}, 'lj': {'ljs': ['pT &gt; 30 GeV', \n",
       "'|eta| &lt; 2.4', 'mu_charge == 0']}, 'postLj_obj': {'egm_ljs': ['egLj']}, 'evt': ['PV filter', '&gt;=2 LJs']}\n",
       "</pre>\n"
      ],
      "text/plain": [
       "base_egmLj_egLj {'obj': {'electrons': ['pT > 10 GeV', '|eta| < 2.4', 'looseID'], 'muons': ['looseID', 'pT > 5 GeV',\n",
       "'|eta| < 2.4'], 'photons': ['pT > 20 GeV', '|eta| < 2.5', 'looseID'], 'dsaMuons': ['pT > 10 GeV', '|eta| < 2.4', \n",
       "'DT + CSC hits > 12', 'ifcsczero', 'normChi2 < 2.5', 'ptErrorOverPT < 1', 'no PF match'], 'pvs': ['ndof > 4', '|z| \n",
       "< 24 cm', '|rho| < 0.02 cm'], 'genMus': ['status == 1'], 'genEs': ['status == 1']}, 'lj': {'ljs': ['pT > 30 GeV', \n",
       "'|eta| < 2.4', 'mu_charge == 0']}, 'postLj_obj': {'egm_ljs': ['egLj']}, 'evt': ['PV filter', '>=2 LJs']}\n"
      ]
     },
     "metadata": {},
     "output_type": "display_data"
    },
    {
     "data": {
      "text/html": [
       "<pre style=\"white-space:pre;overflow-x:auto;line-height:normal;font-family:Menlo,'DejaVu Sans Mono',consolas,'Courier New',monospace\"></pre>\n"
      ],
      "text/plain": []
     },
     "metadata": {},
     "output_type": "display_data"
    },
    {
     "data": {
      "text/html": [
       "<pre style=\"white-space:pre;overflow-x:auto;line-height:normal;font-family:Menlo,'DejaVu Sans Mono',consolas,'Courier New',monospace\">\n",
       "</pre>\n"
      ],
      "text/plain": [
       "\n"
      ]
     },
     "metadata": {},
     "output_type": "display_data"
    },
    {
     "ename": "Exception",
     "evalue": "Failed processing file: WorkItem(dataset='2Mu2E_500GeV_5p0GeV_0p08mm', filename='root://xcache//store/user/dlee3/V2/SIDM_BsTo1DpTo2Mu2e_MBs-500_MDp-5p0_ctau-0p08.root', treename='Events', entrystart=0, entrystop=104815, fileuuid=b'\\x14\\xa6\\xfc\\xcc)\\xd4\\x11\\xef\\x8d\\xa22j\\xb8\\xbc\\xbe\\xef', usermeta={})",
     "output_type": "error",
     "traceback": [
      "\u001b[0;31m---------------------------------------------------------------------------\u001b[0m",
      "\u001b[0;31mKeyError\u001b[0m                                  Traceback (most recent call last)",
      "File \u001b[0;32m/opt/conda/lib/python3.9/site-packages/coffea/processor/executor.py:1654\u001b[0m, in \u001b[0;36mRunner._work_function\u001b[0;34m(format, xrootdtimeout, mmap, schema, cache_function, use_dataframes, savemetrics, item, processor_instance)\u001b[0m\n\u001b[1;32m   1653\u001b[0m \u001b[38;5;28;01mtry\u001b[39;00m:\n\u001b[0;32m-> 1654\u001b[0m     out \u001b[38;5;241m=\u001b[39m \u001b[43mprocessor_instance\u001b[49m\u001b[38;5;241;43m.\u001b[39;49m\u001b[43mprocess\u001b[49m\u001b[43m(\u001b[49m\u001b[43mevents\u001b[49m\u001b[43m)\u001b[49m\n\u001b[1;32m   1655\u001b[0m \u001b[38;5;28;01mexcept\u001b[39;00m \u001b[38;5;167;01mException\u001b[39;00m \u001b[38;5;28;01mas\u001b[39;00m e:\n",
      "File \u001b[0;32m~/SIDM/sidm/tools/sidm_processor.py:90\u001b[0m, in \u001b[0;36mSidmProcessor.process\u001b[0;34m(self, events)\u001b[0m\n\u001b[1;32m     89\u001b[0m \u001b[38;5;66;03m### Make list of all object-level cuts; define object-level, post-lj-level, and event-level cuts per channel\u001b[39;00m\n\u001b[0;32m---> 90\u001b[0m all_obj_cuts, ch_cuts \u001b[38;5;241m=\u001b[39m \u001b[38;5;28;43mself\u001b[39;49m\u001b[38;5;241;43m.\u001b[39;49m\u001b[43mbuild_cuts\u001b[49m\u001b[43m(\u001b[49m\u001b[43m)\u001b[49m\n\u001b[1;32m     92\u001b[0m \u001b[38;5;66;03m# evaluate all object-level cuts\u001b[39;00m\n",
      "File \u001b[0;32m~/SIDM/sidm/tools/sidm_processor.py:276\u001b[0m, in \u001b[0;36mSidmProcessor.build_cuts\u001b[0;34m(self)\u001b[0m\n\u001b[1;32m    275\u001b[0m \u001b[38;5;66;03m#Merge all object level cuts into a single list to be evaluated once\u001b[39;00m\n\u001b[0;32m--> 276\u001b[0m cuts \u001b[38;5;241m=\u001b[39m \u001b[43mselection_menu\u001b[49m\u001b[43m[\u001b[49m\u001b[43mchannel\u001b[49m\u001b[43m]\u001b[49m\n\u001b[1;32m    277\u001b[0m \u001b[38;5;28;01mfor\u001b[39;00m obj, obj_cuts \u001b[38;5;129;01min\u001b[39;00m cuts[\u001b[38;5;124m\"\u001b[39m\u001b[38;5;124mobj_cuts\u001b[39m\u001b[38;5;124m\"\u001b[39m]\u001b[38;5;241m.\u001b[39mitems():\n",
      "\u001b[0;31mKeyError\u001b[0m: 'baseNoLj_sieie'",
      "\nThe above exception was the direct cause of the following exception:\n",
      "\u001b[0;31mException\u001b[0m                                 Traceback (most recent call last)",
      "Cell \u001b[0;32mIn[2], line 29\u001b[0m\n\u001b[1;32m     15\u001b[0m channels \u001b[38;5;241m=\u001b[39m [\u001b[38;5;124m\"\u001b[39m\u001b[38;5;124mbaseNoLj\u001b[39m\u001b[38;5;124m\"\u001b[39m, \n\u001b[1;32m     16\u001b[0m             \u001b[38;5;124m\"\u001b[39m\u001b[38;5;124mbase\u001b[39m\u001b[38;5;124m\"\u001b[39m, \n\u001b[1;32m     17\u001b[0m             \u001b[38;5;124m\"\u001b[39m\u001b[38;5;124mbase_egmLj_eLj\u001b[39m\u001b[38;5;124m\"\u001b[39m,\n\u001b[0;32m   (...)\u001b[0m\n\u001b[1;32m     20\u001b[0m             \u001b[38;5;124m\"\u001b[39m\u001b[38;5;124mbaseNoLj_sieie\u001b[39m\u001b[38;5;124m\"\u001b[39m\n\u001b[1;32m     21\u001b[0m            ]\n\u001b[1;32m     22\u001b[0m p \u001b[38;5;241m=\u001b[39m sidm_processor\u001b[38;5;241m.\u001b[39mSidmProcessor(\n\u001b[1;32m     23\u001b[0m     channels,\n\u001b[1;32m     24\u001b[0m     [\u001b[38;5;124m\"\u001b[39m\u001b[38;5;124mbase_plus_gen\u001b[39m\u001b[38;5;124m\"\u001b[39m],\n\u001b[1;32m     25\u001b[0m     lj_reco_choices\u001b[38;5;241m=\u001b[39m[\u001b[38;5;124m\"\u001b[39m\u001b[38;5;124m0.4\u001b[39m\u001b[38;5;124m\"\u001b[39m],\n\u001b[1;32m     26\u001b[0m    \n\u001b[1;32m     27\u001b[0m )\n\u001b[0;32m---> 29\u001b[0m output \u001b[38;5;241m=\u001b[39m \u001b[43mrunner\u001b[49m\u001b[38;5;241;43m.\u001b[39;49m\u001b[43mrun\u001b[49m\u001b[43m(\u001b[49m\u001b[43mfileset\u001b[49m\u001b[43m,\u001b[49m\u001b[43m \u001b[49m\u001b[43mtreename\u001b[49m\u001b[38;5;241;43m=\u001b[39;49m\u001b[38;5;124;43m\"\u001b[39;49m\u001b[38;5;124;43mEvents\u001b[39;49m\u001b[38;5;124;43m\"\u001b[39;49m\u001b[43m,\u001b[49m\u001b[43m \u001b[49m\u001b[43mprocessor_instance\u001b[49m\u001b[38;5;241;43m=\u001b[39;49m\u001b[43mp\u001b[49m\u001b[43m)\u001b[49m\n",
      "File \u001b[0;32m/opt/conda/lib/python3.9/site-packages/coffea/processor/executor.py:1848\u001b[0m, in \u001b[0;36mRunner.run\u001b[0;34m(self, fileset, processor_instance, treename)\u001b[0m\n\u001b[1;32m   1843\u001b[0m closure \u001b[38;5;241m=\u001b[39m partial(\n\u001b[1;32m   1844\u001b[0m     \u001b[38;5;28mself\u001b[39m\u001b[38;5;241m.\u001b[39mautomatic_retries, \u001b[38;5;28mself\u001b[39m\u001b[38;5;241m.\u001b[39mretries, \u001b[38;5;28mself\u001b[39m\u001b[38;5;241m.\u001b[39mskipbadfiles, closure\n\u001b[1;32m   1845\u001b[0m )\n\u001b[1;32m   1847\u001b[0m executor \u001b[38;5;241m=\u001b[39m \u001b[38;5;28mself\u001b[39m\u001b[38;5;241m.\u001b[39mexecutor\u001b[38;5;241m.\u001b[39mcopy(\u001b[38;5;241m*\u001b[39m\u001b[38;5;241m*\u001b[39mexe_args)\n\u001b[0;32m-> 1848\u001b[0m wrapped_out, e \u001b[38;5;241m=\u001b[39m \u001b[43mexecutor\u001b[49m\u001b[43m(\u001b[49m\u001b[43mchunks\u001b[49m\u001b[43m,\u001b[49m\u001b[43m \u001b[49m\u001b[43mclosure\u001b[49m\u001b[43m,\u001b[49m\u001b[43m \u001b[49m\u001b[38;5;28;43;01mNone\u001b[39;49;00m\u001b[43m)\u001b[49m\n\u001b[1;32m   1849\u001b[0m \u001b[38;5;28;01mif\u001b[39;00m wrapped_out \u001b[38;5;129;01mis\u001b[39;00m \u001b[38;5;28;01mNone\u001b[39;00m:\n\u001b[1;32m   1850\u001b[0m     \u001b[38;5;28;01mraise\u001b[39;00m \u001b[38;5;167;01mValueError\u001b[39;00m(\n\u001b[1;32m   1851\u001b[0m         \u001b[38;5;124m\"\u001b[39m\u001b[38;5;124mNo chunks returned results, verify ``processor`` instance structure.\u001b[39m\u001b[38;5;130;01m\\n\u001b[39;00m\u001b[38;5;130;01m\\\u001b[39;00m\n\u001b[1;32m   1852\u001b[0m \u001b[38;5;124m        if you used skipbadfiles=True, it is possible all your files are bad.\u001b[39m\u001b[38;5;124m\"\u001b[39m\n\u001b[1;32m   1853\u001b[0m     )\n",
      "File \u001b[0;32m/opt/conda/lib/python3.9/site-packages/coffea/processor/executor.py:672\u001b[0m, in \u001b[0;36mIterativeExecutor.__call__\u001b[0;34m(self, items, function, accumulator)\u001b[0m\n\u001b[1;32m    667\u001b[0m \u001b[38;5;28;01mwith\u001b[39;00m rich_bar() \u001b[38;5;28;01mas\u001b[39;00m progress:\n\u001b[1;32m    668\u001b[0m     p_id \u001b[38;5;241m=\u001b[39m progress\u001b[38;5;241m.\u001b[39madd_task(\n\u001b[1;32m    669\u001b[0m         \u001b[38;5;28mself\u001b[39m\u001b[38;5;241m.\u001b[39mdesc, total\u001b[38;5;241m=\u001b[39m\u001b[38;5;28mlen\u001b[39m(items), unit\u001b[38;5;241m=\u001b[39m\u001b[38;5;28mself\u001b[39m\u001b[38;5;241m.\u001b[39munit, disable\u001b[38;5;241m=\u001b[39m\u001b[38;5;129;01mnot\u001b[39;00m \u001b[38;5;28mself\u001b[39m\u001b[38;5;241m.\u001b[39mstatus\n\u001b[1;32m    670\u001b[0m     )\n\u001b[1;32m    671\u001b[0m     \u001b[38;5;28;01mreturn\u001b[39;00m (\n\u001b[0;32m--> 672\u001b[0m         \u001b[43maccumulate\u001b[49m\u001b[43m(\u001b[49m\n\u001b[1;32m    673\u001b[0m \u001b[43m            \u001b[49m\u001b[43mprogress\u001b[49m\u001b[38;5;241;43m.\u001b[39;49m\u001b[43mtrack\u001b[49m\u001b[43m(\u001b[49m\n\u001b[1;32m    674\u001b[0m \u001b[43m                \u001b[49m\u001b[38;5;28;43mmap\u001b[39;49m\u001b[43m(\u001b[49m\u001b[43mfunction\u001b[49m\u001b[43m,\u001b[49m\u001b[43m \u001b[49m\u001b[43m(\u001b[49m\u001b[43mc\u001b[49m\u001b[43m \u001b[49m\u001b[38;5;28;43;01mfor\u001b[39;49;00m\u001b[43m \u001b[49m\u001b[43mc\u001b[49m\u001b[43m \u001b[49m\u001b[38;5;129;43;01min\u001b[39;49;00m\u001b[43m \u001b[49m\u001b[43mitems\u001b[49m\u001b[43m)\u001b[49m\u001b[43m)\u001b[49m\u001b[43m,\u001b[49m\n\u001b[1;32m    675\u001b[0m \u001b[43m                \u001b[49m\u001b[43mtotal\u001b[49m\u001b[38;5;241;43m=\u001b[39;49m\u001b[38;5;28;43mlen\u001b[39;49m\u001b[43m(\u001b[49m\u001b[43mitems\u001b[49m\u001b[43m)\u001b[49m\u001b[43m,\u001b[49m\n\u001b[1;32m    676\u001b[0m \u001b[43m                \u001b[49m\u001b[43mtask_id\u001b[49m\u001b[38;5;241;43m=\u001b[39;49m\u001b[43mp_id\u001b[49m\u001b[43m,\u001b[49m\n\u001b[1;32m    677\u001b[0m \u001b[43m            \u001b[49m\u001b[43m)\u001b[49m\u001b[43m,\u001b[49m\n\u001b[1;32m    678\u001b[0m \u001b[43m            \u001b[49m\u001b[43maccumulator\u001b[49m\u001b[43m,\u001b[49m\n\u001b[1;32m    679\u001b[0m \u001b[43m        \u001b[49m\u001b[43m)\u001b[49m,\n\u001b[1;32m    680\u001b[0m         \u001b[38;5;241m0\u001b[39m,\n\u001b[1;32m    681\u001b[0m     )\n",
      "File \u001b[0;32m/opt/conda/lib/python3.9/site-packages/coffea/processor/accumulator.py:95\u001b[0m, in \u001b[0;36maccumulate\u001b[0;34m(items, accum)\u001b[0m\n\u001b[1;32m     93\u001b[0m \u001b[38;5;28;01mtry\u001b[39;00m:\n\u001b[1;32m     94\u001b[0m     \u001b[38;5;28;01mif\u001b[39;00m accum \u001b[38;5;129;01mis\u001b[39;00m \u001b[38;5;28;01mNone\u001b[39;00m:\n\u001b[0;32m---> 95\u001b[0m         accum \u001b[38;5;241m=\u001b[39m \u001b[38;5;28;43mnext\u001b[39;49m\u001b[43m(\u001b[49m\u001b[43mgen\u001b[49m\u001b[43m)\u001b[49m\n\u001b[1;32m     96\u001b[0m         \u001b[38;5;66;03m# we want to produce a new object so that the input is not mutated\u001b[39;00m\n\u001b[1;32m     97\u001b[0m         accum \u001b[38;5;241m=\u001b[39m add(accum, \u001b[38;5;28mnext\u001b[39m(gen))\n",
      "File \u001b[0;32m/opt/conda/lib/python3.9/site-packages/coffea/processor/accumulator.py:92\u001b[0m, in \u001b[0;36m<genexpr>\u001b[0;34m(.0)\u001b[0m\n\u001b[1;32m     89\u001b[0m \u001b[38;5;28;01mdef\u001b[39;00m \u001b[38;5;21maccumulate\u001b[39m(\n\u001b[1;32m     90\u001b[0m     items: Iterable[Optional[Accumulatable]], accum: Optional[Accumulatable] \u001b[38;5;241m=\u001b[39m \u001b[38;5;28;01mNone\u001b[39;00m\n\u001b[1;32m     91\u001b[0m ) \u001b[38;5;241m-\u001b[39m\u001b[38;5;241m>\u001b[39m Optional[Accumulatable]:\n\u001b[0;32m---> 92\u001b[0m     gen \u001b[38;5;241m=\u001b[39m (x \u001b[38;5;28;01mfor\u001b[39;00m x \u001b[38;5;129;01min\u001b[39;00m items \u001b[38;5;28;01mif\u001b[39;00m x \u001b[38;5;129;01mis\u001b[39;00m \u001b[38;5;129;01mnot\u001b[39;00m \u001b[38;5;28;01mNone\u001b[39;00m)\n\u001b[1;32m     93\u001b[0m     \u001b[38;5;28;01mtry\u001b[39;00m:\n\u001b[1;32m     94\u001b[0m         \u001b[38;5;28;01mif\u001b[39;00m accum \u001b[38;5;129;01mis\u001b[39;00m \u001b[38;5;28;01mNone\u001b[39;00m:\n",
      "File \u001b[0;32m/opt/conda/lib/python3.9/site-packages/rich/progress.py:1215\u001b[0m, in \u001b[0;36mProgress.track\u001b[0;34m(self, sequence, total, task_id, description, update_period)\u001b[0m\n\u001b[1;32m   1213\u001b[0m advance \u001b[38;5;241m=\u001b[39m \u001b[38;5;28mself\u001b[39m\u001b[38;5;241m.\u001b[39madvance\n\u001b[1;32m   1214\u001b[0m refresh \u001b[38;5;241m=\u001b[39m \u001b[38;5;28mself\u001b[39m\u001b[38;5;241m.\u001b[39mrefresh\n\u001b[0;32m-> 1215\u001b[0m \u001b[38;5;28;01mfor\u001b[39;00m value \u001b[38;5;129;01min\u001b[39;00m sequence:\n\u001b[1;32m   1216\u001b[0m     \u001b[38;5;28;01myield\u001b[39;00m value\n\u001b[1;32m   1217\u001b[0m     advance(task_id, \u001b[38;5;241m1\u001b[39m)\n",
      "File \u001b[0;32m/opt/conda/lib/python3.9/site-packages/coffea/processor/executor.py:1367\u001b[0m, in \u001b[0;36mRunner.automatic_retries\u001b[0;34m(retries, skipbadfiles, func, *args, **kwargs)\u001b[0m\n\u001b[1;32m   1361\u001b[0m         \u001b[38;5;28;01mbreak\u001b[39;00m\n\u001b[1;32m   1362\u001b[0m     \u001b[38;5;28;01mif\u001b[39;00m (\n\u001b[1;32m   1363\u001b[0m         \u001b[38;5;129;01mnot\u001b[39;00m skipbadfiles\n\u001b[1;32m   1364\u001b[0m         \u001b[38;5;129;01mor\u001b[39;00m \u001b[38;5;28many\u001b[39m(\u001b[38;5;124m\"\u001b[39m\u001b[38;5;124mAuth failed\u001b[39m\u001b[38;5;124m\"\u001b[39m \u001b[38;5;129;01min\u001b[39;00m \u001b[38;5;28mstr\u001b[39m(c) \u001b[38;5;28;01mfor\u001b[39;00m c \u001b[38;5;129;01min\u001b[39;00m chain)\n\u001b[1;32m   1365\u001b[0m         \u001b[38;5;129;01mor\u001b[39;00m retries \u001b[38;5;241m==\u001b[39m retry_count\n\u001b[1;32m   1366\u001b[0m     ):\n\u001b[0;32m-> 1367\u001b[0m         \u001b[38;5;28;01mraise\u001b[39;00m e\n\u001b[1;32m   1368\u001b[0m     warnings\u001b[38;5;241m.\u001b[39mwarn(\u001b[38;5;124m\"\u001b[39m\u001b[38;5;124mAttempt \u001b[39m\u001b[38;5;132;01m%d\u001b[39;00m\u001b[38;5;124m of \u001b[39m\u001b[38;5;132;01m%d\u001b[39;00m\u001b[38;5;124m.\u001b[39m\u001b[38;5;124m\"\u001b[39m \u001b[38;5;241m%\u001b[39m (retry_count \u001b[38;5;241m+\u001b[39m \u001b[38;5;241m1\u001b[39m, retries \u001b[38;5;241m+\u001b[39m \u001b[38;5;241m1\u001b[39m))\n\u001b[1;32m   1369\u001b[0m retry_count \u001b[38;5;241m+\u001b[39m\u001b[38;5;241m=\u001b[39m \u001b[38;5;241m1\u001b[39m\n",
      "File \u001b[0;32m/opt/conda/lib/python3.9/site-packages/coffea/processor/executor.py:1336\u001b[0m, in \u001b[0;36mRunner.automatic_retries\u001b[0;34m(retries, skipbadfiles, func, *args, **kwargs)\u001b[0m\n\u001b[1;32m   1334\u001b[0m \u001b[38;5;28;01mwhile\u001b[39;00m retry_count \u001b[38;5;241m<\u001b[39m\u001b[38;5;241m=\u001b[39m retries:\n\u001b[1;32m   1335\u001b[0m     \u001b[38;5;28;01mtry\u001b[39;00m:\n\u001b[0;32m-> 1336\u001b[0m         \u001b[38;5;28;01mreturn\u001b[39;00m \u001b[43mfunc\u001b[49m\u001b[43m(\u001b[49m\u001b[38;5;241;43m*\u001b[39;49m\u001b[43margs\u001b[49m\u001b[43m,\u001b[49m\u001b[43m \u001b[49m\u001b[38;5;241;43m*\u001b[39;49m\u001b[38;5;241;43m*\u001b[39;49m\u001b[43mkwargs\u001b[49m\u001b[43m)\u001b[49m\n\u001b[1;32m   1337\u001b[0m     \u001b[38;5;66;03m# catch xrootd errors and optionally skip\u001b[39;00m\n\u001b[1;32m   1338\u001b[0m     \u001b[38;5;66;03m# or retry to read the file\u001b[39;00m\n\u001b[1;32m   1339\u001b[0m     \u001b[38;5;28;01mexcept\u001b[39;00m \u001b[38;5;167;01mException\u001b[39;00m \u001b[38;5;28;01mas\u001b[39;00m e:\n",
      "File \u001b[0;32m/opt/conda/lib/python3.9/site-packages/coffea/processor/executor.py:1656\u001b[0m, in \u001b[0;36mRunner._work_function\u001b[0;34m(format, xrootdtimeout, mmap, schema, cache_function, use_dataframes, savemetrics, item, processor_instance)\u001b[0m\n\u001b[1;32m   1654\u001b[0m     out \u001b[38;5;241m=\u001b[39m processor_instance\u001b[38;5;241m.\u001b[39mprocess(events)\n\u001b[1;32m   1655\u001b[0m \u001b[38;5;28;01mexcept\u001b[39;00m \u001b[38;5;167;01mException\u001b[39;00m \u001b[38;5;28;01mas\u001b[39;00m e:\n\u001b[0;32m-> 1656\u001b[0m     \u001b[38;5;28;01mraise\u001b[39;00m \u001b[38;5;167;01mException\u001b[39;00m(\u001b[38;5;124mf\u001b[39m\u001b[38;5;124m\"\u001b[39m\u001b[38;5;124mFailed processing file: \u001b[39m\u001b[38;5;132;01m{\u001b[39;00mitem\u001b[38;5;132;01m!r}\u001b[39;00m\u001b[38;5;124m\"\u001b[39m) \u001b[38;5;28;01mfrom\u001b[39;00m \u001b[38;5;21;01me\u001b[39;00m\n\u001b[1;32m   1657\u001b[0m \u001b[38;5;28;01mif\u001b[39;00m out \u001b[38;5;129;01mis\u001b[39;00m \u001b[38;5;28;01mNone\u001b[39;00m:\n\u001b[1;32m   1658\u001b[0m     \u001b[38;5;28;01mraise\u001b[39;00m \u001b[38;5;167;01mValueError\u001b[39;00m(\n\u001b[1;32m   1659\u001b[0m         \u001b[38;5;124m\"\u001b[39m\u001b[38;5;124mOutput of process() should not be None. Make sure your processor\u001b[39m\u001b[38;5;124m'\u001b[39m\u001b[38;5;124ms process() function returns an accumulator.\u001b[39m\u001b[38;5;124m\"\u001b[39m\n\u001b[1;32m   1660\u001b[0m     )\n",
      "\u001b[0;31mException\u001b[0m: Failed processing file: WorkItem(dataset='2Mu2E_500GeV_5p0GeV_0p08mm', filename='root://xcache//store/user/dlee3/V2/SIDM_BsTo1DpTo2Mu2e_MBs-500_MDp-5p0_ctau-0p08.root', treename='Events', entrystart=0, entrystop=104815, fileuuid=b'\\x14\\xa6\\xfc\\xcc)\\xd4\\x11\\xef\\x8d\\xa22j\\xb8\\xbc\\xbe\\xef', usermeta={})"
     ]
    }
   ],
   "source": [
    "samples = [\n",
    "    '2Mu2E_500GeV_5p0GeV_0p08mm',\n",
    "]\n",
    "fileset = utilities.make_fileset(samples, \n",
    "                                 \"llpNanoAOD_v2_merged\", \n",
    "                                 location_cfg=\"signal_v6.yaml\"\n",
    "                                )\n",
    "runner = processor.Runner(\n",
    "    executor=processor.IterativeExecutor(),\n",
    "    #executor=processor.FuturesExecutor(),\n",
    "    schema=NanoAODSchema,\n",
    "    #maxchunks=1,\n",
    ")\n",
    "\n",
    "channels = [\"baseNoLj\", \n",
    "            \"base\", \n",
    "            \"base_egmLj_eLj\",\n",
    "            \"base_egmLj_gLj\",\n",
    "            \"base_egmLj_egLj\",\n",
    "            \"baseNoLj_sieie\"\n",
    "           ]\n",
    "p = sidm_processor.SidmProcessor(\n",
    "    channels,\n",
    "    [\"base_plus_gen\"],\n",
    "    lj_reco_choices=[\"0.4\"],\n",
    "   \n",
    ")\n",
    "\n",
    "output = runner.run(fileset, treename=\"Events\", processor_instance=p)\n"
   ]
  },
  {
   "cell_type": "code",
   "execution_count": null,
   "id": "327967bd-fbbb-4144-81e6-5916abc66e32",
   "metadata": {
    "tags": []
   },
   "outputs": [],
   "source": []
  },
  {
   "cell_type": "code",
   "execution_count": null,
   "id": "a5504dc8-c664-408f-82a2-d86368086817",
   "metadata": {
    "tags": []
   },
   "outputs": [],
   "source": [
    "hists = output[\"out\"][\"2Mu2E_500GeV_5p0GeV_0p08mm\"][\"hists\"]\n",
    "channels_list =  [\"baseNoLj\", \"base\", \"baseNoLj_sieie\"]\n",
    "histograms_list = [\n",
    "                   \"lj_pt\", \"egm_lj_pt\", \"mu_lj_pt\",\n",
    "                   \"lj_electronN\", \"lj_photonN\", \"lj_muonN\", \n",
    "                   \"egm_lj_electronN\", \"egm_lj_photonN\", \"mu_lj_muonN\",\n",
    "                   \"lj_n\", \"egm_lj_n\", \"mu_lj_n\",\n",
    "                 ]\n",
    "for h in range(len(histograms_list)):\n",
    "    if h%3 == 0:\n",
    "        fig, ax = plt.subplots(1, 3, figsize = (3*12, 10))\n",
    "        plt.subplot(1, 3, 1)\n",
    "        for c in channels_list:\n",
    "            utilities.plot(hists[histograms_list[h]][c,:], flow = 'none')\n",
    "            plt.legend(channels_list)\n",
    "    else:\n",
    "        plt.subplot(1, 3, (h%3 + 1))\n",
    "        for c in channels_list:\n",
    "            utilities.plot(hists[histograms_list[h]][c,:], flow = 'none')\n",
    "            plt.legend(channels_list)\n",
    "        "
   ]
  },
  {
   "cell_type": "code",
   "execution_count": null,
   "id": "11158f96-0302-40b3-b76c-33c2b0825f9e",
   "metadata": {
    "tags": []
   },
   "outputs": [],
   "source": [
    "fig , ax =plt.subplots(1,3, figsize =(3*12, 10))\n",
    " \n",
    "for x in range(len(channels_list)):\n",
    "    plt.subplot(1, 3, x + 1)\n",
    "    utilities.plot(hists[\"lj_eta_phi\"][channels_list[x],:, :])\n",
    "    "
   ]
  },
  {
   "cell_type": "code",
   "execution_count": null,
   "id": "ade5ac85-4186-4179-9b32-fbd7307b95a4",
   "metadata": {},
   "outputs": [],
   "source": [
    "\n",
    "output[\"out\"][samples[0]][\"cutflow\"][\"base\"].print_table(unweighted=True)\n",
    "output[\"out\"][samples[0]][\"cutflow\"][\"baseNoLj\"].print_table(unweighted=True)\n"
   ]
  },
  {
   "cell_type": "markdown",
   "id": "1db283a7-2c4c-4fcb-87d2-19598c727105",
   "metadata": {
    "tags": []
   },
   "source": [
    "There is something weird going on with the egmlj_pt. We need to look more into that."
   ]
  },
  {
   "cell_type": "code",
   "execution_count": null,
   "id": "5d1b72c9-86ca-48d0-a3fe-e4d0ff4f9c95",
   "metadata": {},
   "outputs": [],
   "source": [
    "channels_list1 = [\"base\",\n",
    "                  \"base_egmLj_eLj\",\n",
    "                  \"base_egmLj_gLj\",\n",
    "                  \"base_egmLj_egLj\",\n",
    "                 ]\n",
    "for x in range(len(channels_list1)):\n",
    "    utilities.plot(hists[\"egm_lj_pt\"][channels_list1[x],:], flow = \"none\")\n",
    "plt.legend(channels_list1)\n",
    "    \n"
   ]
  },
  {
   "cell_type": "code",
   "execution_count": null,
   "id": "a3930267-cb43-4eb7-a34b-a1d66630695a",
   "metadata": {},
   "outputs": [],
   "source": []
  }
 ],
 "metadata": {
  "kernelspec": {
   "display_name": "Python 3 (ipykernel)",
   "language": "python",
   "name": "python3"
  },
  "language_info": {
   "codemirror_mode": {
    "name": "ipython",
    "version": 3
   },
   "file_extension": ".py",
   "mimetype": "text/x-python",
   "name": "python",
   "nbconvert_exporter": "python",
   "pygments_lexer": "ipython3",
   "version": "3.9.18"
  }
 },
 "nbformat": 4,
 "nbformat_minor": 5
}
