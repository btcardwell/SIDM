{
 "cells": [
  {
   "cell_type": "markdown",
   "id": "3d6d6cb6-d6d7-4dff-9c9c-e0174fc7de1f",
   "metadata": {},
   "source": [
    "### In this notebook we study the lepton jet reconstruction in terms of the Lxy."
   ]
  },
  {
   "cell_type": "code",
   "execution_count": 1,
   "id": "e638e1b2-068c-4515-9507-17db09f28b99",
   "metadata": {
    "tags": []
   },
   "outputs": [
    {
     "data": {
      "text/plain": [
       "<module 'sidm.tools.utilities' from '/home/cms-jovyan/SIDM/sidm/studies/../../sidm/tools/utilities.py'>"
      ]
     },
     "execution_count": 1,
     "metadata": {},
     "output_type": "execute_result"
    }
   ],
   "source": [
    "# python\n",
    "import sys\n",
    "import os\n",
    "import importlib\n",
    "from coffea import processor\n",
    "# columnar analysis\n",
    "from coffea.nanoevents import NanoEventsFactory\n",
    "import awkward as ak   #numpy like module for handling arrays\n",
    "#plotting\n",
    "import matplotlib.pyplot as plt\n",
    "import mplhep as hep\n",
    "import numpy as np\n",
    "# local\n",
    "sys.path.insert(1, os.path.join(sys.path[0], '../..')) # fixme: there must be a better way to handle this...\n",
    "from sidm.tools import ffschema, sidm_processor, utilities\n",
    "# always reload local modules to pick up changes during development\n",
    "importlib.reload(ffschema)  #why do we need this?\n",
    "importlib.reload(sidm_processor) \n",
    "importlib.reload(utilities)\n"
   ]
  },
  {
   "cell_type": "code",
   "execution_count": 2,
   "id": "b976cc07-3f7c-4de8-b14f-87932500a2fb",
   "metadata": {
    "tags": []
   },
   "outputs": [],
   "source": [
    "samples = [\n",
    "    #\"2Mu2E_100GeV_5GeV_40mm\",\n",
    "    #\"2Mu2E_150GeV_5GeV_2p7mm\",\n",
    "    #\"2Mu2E_200GeV_5GeV_2mm\",\n",
    "    #\"2Mu2E_500GeV_5GeV_0p8mm\",\n",
    "    #\"2Mu2E_800GeV_5GeV_0p5mm\",\n",
    "    #\"2Mu2E_1000GeV_5GeV_0p4mm\",\n",
    "    #\"2Mu2E_1000GeV_5GeV_0p04mm\",\n",
    "    #\"2Mu2E_1000GeV_5GeV_20mm\",\n",
    "    #\"2Mu2E_100GeV_1p2GeV_9p6mm\",\n",
    "    \"2Mu2E_1000GeV_5GeV_40mm\",\n",
    "   # \"2Mu2E_1000GeV_5GeV_4mm\",\n",
    "    \n",
    "]\n",
    "fileset = utilities.make_fileset(samples, \"ffntuple_v4\")"
   ]
  },
  {
   "cell_type": "code",
   "execution_count": 3,
   "id": "ec50bd95-aef5-44ae-8b92-5d7c76cd3f53",
   "metadata": {
    "tags": []
   },
   "outputs": [
    {
     "data": {
      "application/vnd.jupyter.widget-view+json": {
       "model_id": "4d9b7b7fd753423ea6c1d609da98f6ac",
       "version_major": 2,
       "version_minor": 0
      },
      "text/plain": [
       "Output()"
      ]
     },
     "metadata": {},
     "output_type": "display_data"
    },
    {
     "data": {
      "text/html": [
       "<pre style=\"white-space:pre;overflow-x:auto;line-height:normal;font-family:Menlo,'DejaVu Sans Mono',consolas,'Courier New',monospace\"></pre>\n"
      ],
      "text/plain": []
     },
     "metadata": {},
     "output_type": "display_data"
    },
    {
     "data": {
      "text/html": [
       "<pre style=\"white-space:pre;overflow-x:auto;line-height:normal;font-family:Menlo,'DejaVu Sans Mono',consolas,'Courier New',monospace\">\n",
       "</pre>\n"
      ],
      "text/plain": [
       "\n"
      ]
     },
     "metadata": {},
     "output_type": "display_data"
    },
    {
     "data": {
      "application/vnd.jupyter.widget-view+json": {
       "model_id": "829e4263d45847c3808e123f8d2618b4",
       "version_major": 2,
       "version_minor": 0
      },
      "text/plain": [
       "Output()"
      ]
     },
     "metadata": {},
     "output_type": "display_data"
    },
    {
     "data": {
      "text/html": [
       "<pre style=\"white-space:pre;overflow-x:auto;line-height:normal;font-family:Menlo,'DejaVu Sans Mono',consolas,'Courier New',monospace\">Warning: a histogram with the following axis names could not be filled and will be skipped: ['channel', 'lj_pfiso',\n",
       "'weight']\n",
       "</pre>\n"
      ],
      "text/plain": [
       "Warning: a histogram with the following axis names could not be filled and will be skipped: ['channel', 'lj_pfiso',\n",
       "'weight']\n"
      ]
     },
     "metadata": {},
     "output_type": "display_data"
    },
    {
     "data": {
      "text/html": [
       "<pre style=\"white-space:pre;overflow-x:auto;line-height:normal;font-family:Menlo,'DejaVu Sans Mono',consolas,'Courier New',monospace\">Warning: a histogram with the following axis names could not be filled and will be skipped: ['channel', 'lj_pfiso',\n",
       "'weight']\n",
       "</pre>\n"
      ],
      "text/plain": [
       "Warning: a histogram with the following axis names could not be filled and will be skipped: ['channel', 'lj_pfiso',\n",
       "'weight']\n"
      ]
     },
     "metadata": {},
     "output_type": "display_data"
    },
    {
     "data": {
      "text/html": [
       "<pre style=\"white-space:pre;overflow-x:auto;line-height:normal;font-family:Menlo,'DejaVu Sans Mono',consolas,'Courier New',monospace\"></pre>\n"
      ],
      "text/plain": []
     },
     "metadata": {},
     "output_type": "display_data"
    },
    {
     "data": {
      "text/html": [
       "<pre style=\"white-space:pre;overflow-x:auto;line-height:normal;font-family:Menlo,'DejaVu Sans Mono',consolas,'Courier New',monospace\">\n",
       "</pre>\n"
      ],
      "text/plain": [
       "\n"
      ]
     },
     "metadata": {},
     "output_type": "display_data"
    }
   ],
   "source": [
    "runner = processor.Runner(\n",
    "    executor=processor.IterativeExecutor(),\n",
    "    #executor=processor.FuturesExecutor(),\n",
    "    schema=ffschema.FFSchema,\n",
    "    maxchunks=2,\n",
    "    )\n",
    "\n",
    "p = sidm_processor.SidmProcessor(\n",
    "    [\n",
    "        \"baseNoLj\",\n",
    "        \"2mu2e\",\n",
    "        \n",
    "        \n",
    "    ],\n",
    "    [\"base_plus_gen\"]\n",
    ")\n",
    "\n",
    "output = runner.run(fileset, treename=\"ffNtuplizer/ffNtuple\", processor_instance=p)"
   ]
  },
  {
   "cell_type": "code",
   "execution_count": 4,
   "id": "5f013122-1a93-459a-9427-747ad0df1f5c",
   "metadata": {
    "tags": []
   },
   "outputs": [
    {
     "data": {
      "image/png": "[encoded data removed]",
      "text/plain": [
       "<Figure size 640x480 with 1 Axes>"
      ]
     },
     "metadata": {},
     "output_type": "display_data"
    }
   ],
   "source": [
    "ch1 =\"baseNoLj\"\n",
    "ch2=\"2mu2e\"\n",
    "utilities.plot([output[\"out\"][f\"{name}\"][\"hists\"][\"genA_lxy\"][ch1,:] for name in samples], density=False)"
   ]
  },
  {
   "cell_type": "code",
   "execution_count": 5,
   "id": "8747bfa4-7d9a-4f61-b965-79e65099088b",
   "metadata": {
    "tags": []
   },
   "outputs": [
    {
     "data": {
      "image/png": "[encoded data removed]",
      "text/plain": [
       "<Figure size 640x480 with 1 Axes>"
      ]
     },
     "metadata": {},
     "output_type": "display_data"
    }
   ],
   "source": [
    "utilities.plot([output[\"out\"][f\"{name}\"][\"hists\"][\"genA_n\"][ch1,:] for name in samples], density=False)"
   ]
  }
 ],
 "metadata": {
  "kernelspec": {
   "display_name": "Python 3 (ipykernel)",
   "language": "python",
   "name": "python3"
  },
  "language_info": {
   "codemirror_mode": {
    "name": "ipython",
    "version": 3
   },
   "file_extension": ".py",
   "mimetype": "text/x-python",
   "name": "python",
   "nbconvert_exporter": "python",
   "pygments_lexer": "ipython3",
   "version": "3.8.16"
  }
 },
 "nbformat": 4,
 "nbformat_minor": 5
}
