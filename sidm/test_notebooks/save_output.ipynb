{
 "cells": [
  {
   "cell_type": "markdown",
   "id": "f8cfbf6a-4a99-4a82-96a1-6c36529d5ee5",
   "metadata": {},
   "source": [
    "# Saving coffea output to a file\n",
    "\n",
    "This notebook demonstrates how to save the coffea output to a file, which can then be loaded again (e.g. if the kernel fails unexpectedly or if only some datasets are processed successfully). "
   ]
  },
  {
   "cell_type": "code",
   "execution_count": 1,
   "id": "59bfb7a1-31a5-403d-a3d1-04683777678e",
   "metadata": {},
   "outputs": [],
   "source": [
    "# python\n",
    "import sys\n",
    "import os\n",
    "import importlib\n",
    "# columnar analysis\n",
    "from coffea import processor\n",
    "import awkward as ak\n",
    "from dask.distributed import Client, performance_report\n",
    "# local\n",
    "sidm_path=str(os.getcwd()).split(\"/sidm\")[0]\n",
    "if sidm_path not in sys.path: sys.path.insert(1, sidm_path)\n",
    "os.makedirs(f\"{sidm_path}/plots\",exist_ok=True)\n",
    "from sidm.tools import utilities, sidm_processor, llpnanoaodschema\n",
    "# always reload local modules to pick up changes during development\n",
    "importlib.reload(utilities)\n",
    "importlib.reload(sidm_processor)\n",
    "importlib.reload(llpnanoaodschema)\n",
    "# plotting\n",
    "import matplotlib.pyplot as plt\n",
    "utilities.set_plot_style()\n",
    "%matplotlib inline"
   ]
  },
  {
   "cell_type": "markdown",
   "id": "1ffbfb96-cfbf-461f-b640-7bb4e7d74a5d",
   "metadata": {},
   "source": [
    "## Setup\n",
    "Additional import needed:"
   ]
  },
  {
   "cell_type": "code",
   "execution_count": 2,
   "id": "7fabfa56-86f2-455d-9e1e-81024b823fb3",
   "metadata": {},
   "outputs": [],
   "source": [
    "import coffea.util"
   ]
  },
  {
   "cell_type": "markdown",
   "id": "059c1290-4190-4958-8a6a-4eadc921fb98",
   "metadata": {},
   "source": [
    "Define samples and channels here so the lists can be used either if we are creating the output from scratch or loading it from files"
   ]
  },
  {
   "cell_type": "code",
   "execution_count": 3,
   "id": "af852758-4875-41f7-8a22-d9ccb65c711e",
   "metadata": {},
   "outputs": [],
   "source": [
    "samples = [\n",
    "    \"2Mu2E_100GeV_1p2GeV_9p6mm\",\n",
    "     \"2Mu2E_150GeV_1p2GeV_6p4mm\",\n",
    "     \"2Mu2E_200GeV_1p2GeV_4p8mm\",\n",
    "]\n",
    "\n",
    "channels = [\n",
    "    \"baseNoLj\",\n",
    "]"
   ]
  },
  {
   "cell_type": "markdown",
   "id": "37e3ed03-1410-499e-861a-df26b691ae39",
   "metadata": {},
   "source": [
    "## Run the processor and save outputs\n",
    "Run over three signal samples separately, saving the output of the processor to a file each time. The format of the output file is pickle file. See documentation here https://coffea-hep.readthedocs.io/en/latest/api/coffea.util.save.html#coffea.util.save\n",
    "\n",
    "Use the .coffea file extension for the outputs; this way we know that it's a processor output file, and then git knows to ignore it (we never want a pickled coffea file to be pushed to the repo!!)"
   ]
  },
  {
   "cell_type": "code",
   "execution_count": 4,
   "id": "1312f852-e018-4808-90dc-8ef0dce8fe27",
   "metadata": {},
   "outputs": [
    {
     "data": {
      "application/vnd.jupyter.widget-view+json": {
       "model_id": "1260067bd45a43bbb2008658278ca63f",
       "version_major": 2,
       "version_minor": 0
      },
      "text/plain": [
       "Output()"
      ]
     },
     "metadata": {},
     "output_type": "display_data"
    },
    {
     "name": "stdout",
     "output_type": "stream",
     "text": [
      "Processing 2Mu2E_100GeV_1p2GeV_9p6mm\n"
     ]
    },
    {
     "data": {
      "text/html": [
       "<pre style=\"white-space:pre;overflow-x:auto;line-height:normal;font-family:Menlo,'DejaVu Sans Mono',consolas,'Courier New',monospace\"></pre>\n"
      ],
      "text/plain": []
     },
     "metadata": {},
     "output_type": "display_data"
    },
    {
     "data": {
      "application/vnd.jupyter.widget-view+json": {
       "model_id": "1c4ed4b2874d45cdb692ba9ccee78c5c",
       "version_major": 2,
       "version_minor": 0
      },
      "text/plain": [
       "Output()"
      ]
     },
     "metadata": {},
     "output_type": "display_data"
    },
    {
     "data": {
      "text/html": [
       "<pre style=\"white-space:pre;overflow-x:auto;line-height:normal;font-family:Menlo,'DejaVu Sans Mono',consolas,'Courier New',monospace\">/usr/local/lib/python3.12/site-packages/coffea/nanoevents/schemas/nanoaod.py:264: RuntimeWarning: Missing \n",
       "cross-reference index for LowPtElectron_electronIdx =&gt; Electron\n",
       "  warnings.warn(\n",
       "</pre>\n"
      ],
      "text/plain": [
       "/usr/local/lib/python3.12/site-packages/coffea/nanoevents/schemas/nanoaod.py:264: RuntimeWarning: Missing \n",
       "cross-reference index for LowPtElectron_electronIdx => Electron\n",
       "  warnings.warn(\n"
      ]
     },
     "metadata": {},
     "output_type": "display_data"
    },
    {
     "data": {
      "text/html": [
       "<pre style=\"white-space:pre;overflow-x:auto;line-height:normal;font-family:Menlo,'DejaVu Sans Mono',consolas,'Courier New',monospace\">/usr/local/lib/python3.12/site-packages/coffea/nanoevents/schemas/nanoaod.py:264: RuntimeWarning: Missing \n",
       "cross-reference index for LowPtElectron_photonIdx =&gt; Photon\n",
       "  warnings.warn(\n",
       "</pre>\n"
      ],
      "text/plain": [
       "/usr/local/lib/python3.12/site-packages/coffea/nanoevents/schemas/nanoaod.py:264: RuntimeWarning: Missing \n",
       "cross-reference index for LowPtElectron_photonIdx => Photon\n",
       "  warnings.warn(\n"
      ]
     },
     "metadata": {},
     "output_type": "display_data"
    },
    {
     "data": {
      "text/html": [
       "<pre style=\"white-space:pre;overflow-x:auto;line-height:normal;font-family:Menlo,'DejaVu Sans Mono',consolas,'Courier New',monospace\">/usr/local/lib/python3.12/site-packages/awkward/_nplikes/array_module.py:292: RuntimeWarning: invalid value \n",
       "encountered in divide\n",
       "  return impl(*broadcasted_args, **(kwargs or {}))\n",
       "</pre>\n"
      ],
      "text/plain": [
       "/usr/local/lib/python3.12/site-packages/awkward/_nplikes/array_module.py:292: RuntimeWarning: invalid value \n",
       "encountered in divide\n",
       "  return impl(*broadcasted_args, **(kwargs or {}))\n"
      ]
     },
     "metadata": {},
     "output_type": "display_data"
    },
    {
     "name": "stdout",
     "output_type": "stream",
     "text": [
      "#--------------------------------------------------------------------------\n",
      "#                         FastJet release 3.4.3\n",
      "#                 M. Cacciari, G.P. Salam and G. Soyez                  \n",
      "#     A software package for jet finding and analysis at colliders      \n",
      "#                           http://fastjet.fr                           \n",
      "#\t                                                                      \n",
      "# Please cite EPJC72(2012)1896 [arXiv:1111.6097] if you use this package\n",
      "# for scientific work and optionally PLB641(2006)57 [hep-ph/0512210].   \n",
      "#                                                                       \n",
      "# FastJet is provided without warranty under the GNU GPL v2 or higher.  \n",
      "# It uses T. Chan's closest pair algorithm, S. Fortune's Voronoi code,\n",
      "# CGAL and 3rd party plugin jet algorithms. See COPYING file for details.\n",
      "#--------------------------------------------------------------------------\n"
     ]
    },
    {
     "data": {
      "text/html": [
       "<pre style=\"white-space:pre;overflow-x:auto;line-height:normal;font-family:Menlo,'DejaVu Sans Mono',consolas,'Courier New',monospace\"></pre>\n"
      ],
      "text/plain": []
     },
     "metadata": {},
     "output_type": "display_data"
    },
    {
     "data": {
      "application/vnd.jupyter.widget-view+json": {
       "model_id": "a8b5037ffafa45c99049765558645613",
       "version_major": 2,
       "version_minor": 0
      },
      "text/plain": [
       "Output()"
      ]
     },
     "metadata": {},
     "output_type": "display_data"
    },
    {
     "name": "stdout",
     "output_type": "stream",
     "text": [
      "Signal not in xs cfg, assuming 1fb\n",
      "Processing 2Mu2E_150GeV_1p2GeV_6p4mm\n"
     ]
    },
    {
     "data": {
      "text/html": [
       "<pre style=\"white-space:pre;overflow-x:auto;line-height:normal;font-family:Menlo,'DejaVu Sans Mono',consolas,'Courier New',monospace\"></pre>\n"
      ],
      "text/plain": []
     },
     "metadata": {},
     "output_type": "display_data"
    },
    {
     "data": {
      "application/vnd.jupyter.widget-view+json": {
       "model_id": "45432a8746d5426aab7abdcda160905e",
       "version_major": 2,
       "version_minor": 0
      },
      "text/plain": [
       "Output()"
      ]
     },
     "metadata": {},
     "output_type": "display_data"
    },
    {
     "data": {
      "text/html": [
       "<pre style=\"white-space:pre;overflow-x:auto;line-height:normal;font-family:Menlo,'DejaVu Sans Mono',consolas,'Courier New',monospace\">/usr/local/lib/python3.12/site-packages/coffea/nanoevents/schemas/nanoaod.py:264: RuntimeWarning: Missing \n",
       "cross-reference index for LowPtElectron_electronIdx =&gt; Electron\n",
       "  warnings.warn(\n",
       "</pre>\n"
      ],
      "text/plain": [
       "/usr/local/lib/python3.12/site-packages/coffea/nanoevents/schemas/nanoaod.py:264: RuntimeWarning: Missing \n",
       "cross-reference index for LowPtElectron_electronIdx => Electron\n",
       "  warnings.warn(\n"
      ]
     },
     "metadata": {},
     "output_type": "display_data"
    },
    {
     "data": {
      "text/html": [
       "<pre style=\"white-space:pre;overflow-x:auto;line-height:normal;font-family:Menlo,'DejaVu Sans Mono',consolas,'Courier New',monospace\">/usr/local/lib/python3.12/site-packages/coffea/nanoevents/schemas/nanoaod.py:264: RuntimeWarning: Missing \n",
       "cross-reference index for LowPtElectron_photonIdx =&gt; Photon\n",
       "  warnings.warn(\n",
       "</pre>\n"
      ],
      "text/plain": [
       "/usr/local/lib/python3.12/site-packages/coffea/nanoevents/schemas/nanoaod.py:264: RuntimeWarning: Missing \n",
       "cross-reference index for LowPtElectron_photonIdx => Photon\n",
       "  warnings.warn(\n"
      ]
     },
     "metadata": {},
     "output_type": "display_data"
    },
    {
     "data": {
      "text/html": [
       "<pre style=\"white-space:pre;overflow-x:auto;line-height:normal;font-family:Menlo,'DejaVu Sans Mono',consolas,'Courier New',monospace\"></pre>\n"
      ],
      "text/plain": []
     },
     "metadata": {},
     "output_type": "display_data"
    },
    {
     "data": {
      "application/vnd.jupyter.widget-view+json": {
       "model_id": "9183d0bd31e948f382536ab39c31f4dd",
       "version_major": 2,
       "version_minor": 0
      },
      "text/plain": [
       "Output()"
      ]
     },
     "metadata": {},
     "output_type": "display_data"
    },
    {
     "name": "stdout",
     "output_type": "stream",
     "text": [
      "Signal not in xs cfg, assuming 1fb\n",
      "Processing 2Mu2E_200GeV_1p2GeV_4p8mm\n"
     ]
    },
    {
     "data": {
      "text/html": [
       "<pre style=\"white-space:pre;overflow-x:auto;line-height:normal;font-family:Menlo,'DejaVu Sans Mono',consolas,'Courier New',monospace\"></pre>\n"
      ],
      "text/plain": []
     },
     "metadata": {},
     "output_type": "display_data"
    },
    {
     "data": {
      "application/vnd.jupyter.widget-view+json": {
       "model_id": "e70649322a2042b1b323178d4b5fa338",
       "version_major": 2,
       "version_minor": 0
      },
      "text/plain": [
       "Output()"
      ]
     },
     "metadata": {},
     "output_type": "display_data"
    },
    {
     "data": {
      "text/html": [
       "<pre style=\"white-space:pre;overflow-x:auto;line-height:normal;font-family:Menlo,'DejaVu Sans Mono',consolas,'Courier New',monospace\"></pre>\n"
      ],
      "text/plain": []
     },
     "metadata": {},
     "output_type": "display_data"
    },
    {
     "name": "stdout",
     "output_type": "stream",
     "text": [
      "Signal not in xs cfg, assuming 1fb\n"
     ]
    }
   ],
   "source": [
    "fileset = utilities.make_fileset(samples, \"llpNanoAOD_v2\", max_files=2, location_cfg=\"signal_2mu2e_v10.yaml\")\n",
    "\n",
    "runner = processor.Runner(\n",
    "    executor=processor.IterativeExecutor(),\n",
    "    schema=llpnanoaodschema.LLPNanoAODSchema,\n",
    "    maxchunks=1,\n",
    "    skipbadfiles=True\n",
    ")\n",
    "\n",
    "p = sidm_processor.SidmProcessor(\n",
    "    channels,\n",
    "    [\"genA_base\"],\n",
    "    #verbose=True,\n",
    ")\n",
    "\n",
    "out = {}\n",
    "\n",
    "for i, sample in enumerate(samples):\n",
    "\n",
    "    print(f\"Processing {sample}\")\n",
    "    fileset_one_sample = {samples[i]:fileset.get(samples[i])}\n",
    "    \n",
    "    output = runner.run(fileset_one_sample, treename='Events', processor_instance=p)\n",
    "\n",
    "    #Add this sample's output to the out variable\n",
    "    out[sample] = output[\"out\"][sample]\n",
    "\n",
    "    ##Save output to a file!!\n",
    "    out_file_name = \"output_\" + sample + \".coffea\"\n",
    "    coffea.util.save(output,out_file_name)\n",
    "\n",
    "##The variable _out_ should be equivalent to the normal method of running all the samples at once, e.g:\n",
    "#output = runner.run(fileset, treename='Events', processor_instance=p)\n",
    "#out2 = output[\"out\"]"
   ]
  },
  {
   "cell_type": "markdown",
   "id": "e796d06d-3790-462f-b6e3-270fb1a0174e",
   "metadata": {},
   "source": [
    "## Check which coffea files were created:"
   ]
  },
  {
   "cell_type": "code",
   "execution_count": 5,
   "id": "de7f647b-916c-4e4a-a908-be62ce06890e",
   "metadata": {},
   "outputs": [
    {
     "name": "stdout",
     "output_type": "stream",
     "text": [
      "output_2Mu2E_200GeV_1p2GeV_4p8mm.coffea\n",
      "processor.coffea\n",
      "output_2Mu2E_100GeV_1p2GeV_9p6mm.coffea\n",
      "output_2Mu2E_150GeV_1p2GeV_6p4mm.coffea\n"
     ]
    }
   ],
   "source": [
    "for file in os.listdir(): \n",
    "    if file.endswith(\".coffea\"): print(file)"
   ]
  },
  {
   "cell_type": "markdown",
   "id": "67c3a7f0-d405-4ed8-a6ed-8589e13503f1",
   "metadata": {},
   "source": [
    "# Demonstrate loading the files\n",
    "\n",
    "Assuming the files follow the output_{sample_name}.coffea naming convention, load all files and concatenate into the normal format"
   ]
  },
  {
   "cell_type": "code",
   "execution_count": 6,
   "id": "84152965-842f-4660-91a4-eba65bc4c32c",
   "metadata": {},
   "outputs": [
    {
     "name": "stdout",
     "output_type": "stream",
     "text": [
      "The _out_ dictionary already exists; will use what is saved in memory if possible\n",
      "2Mu2E_100GeV_1p2GeV_9p6mm already found in memory; not loading file\n",
      "2Mu2E_150GeV_1p2GeV_6p4mm already found in memory; not loading file\n",
      "2Mu2E_200GeV_1p2GeV_4p8mm already found in memory; not loading file\n"
     ]
    }
   ],
   "source": [
    "#First check if there is already an out dictionary\n",
    "try:\n",
    "    out\n",
    "    print(\"The _out_ dictionary already exists; will use what is saved in memory if possible\")\n",
    "except NameError:\n",
    "    print(\"WARNING! No processor output stored in the kernel's memory. Will try to load pickled coffea file for each sample instead\")\n",
    "    out = {}\n",
    "\n",
    "#For each sample, try to use the data in memory if possible; if not try to load the file\n",
    "#If those both fail, then raise an error and skip it\n",
    "for sample in samples:\n",
    "    if sample in out:\n",
    "        print(f\"{sample} already found in memory; not loading file\")\n",
    "    else:\n",
    "        print(f\"Loading file for sample {sample}\")\n",
    "        filename = \"output_\" + sample + \".coffea\"\n",
    "        try: \n",
    "            output = coffea.util.load(filename)\n",
    "            print(\"Successfully opened file\")        \n",
    "            out[sample] = output[\"out\"][sample]\n",
    "        except FileNotFoundError:\n",
    "            print(\"**** ERROR! File not found. Check the file name, or run the processor again and save the output to a pickle file using coffea.util.save\")"
   ]
  },
  {
   "cell_type": "markdown",
   "id": "c1453be9-79e8-4e7c-8c54-537d8f0d725b",
   "metadata": {},
   "source": [
    "## Test that it works by making a plot\n",
    "\n",
    "These lines should work whether or not you ran the processor from scratch OR if you skipped that cell and just loaded the files into memory (assuming you had made the files earlier)"
   ]
  },
  {
   "cell_type": "code",
   "execution_count": 7,
   "id": "3733b82e-8a51-40e6-bc73-078af614e1c0",
   "metadata": {},
   "outputs": [
    {
     "data": {
      "text/plain": [
       "<matplotlib.legend.Legend at 0x7f011dc2da60>"
      ]
     },
     "execution_count": 7,
     "metadata": {},
     "output_type": "execute_result"
    },
    {
     "data": {
      "image/png": "[encoded data removed]",
      "text/plain": [
       "<Figure size 500x500 with 1 Axes>"
      ]
     },
     "metadata": {},
     "output_type": "display_data"
    }
   ],
   "source": [
    "for sample in samples:\n",
    "    utilities.plot(out[sample][\"hists\"][\"genAs_pt\"][channels[0], ::2j], density=True)\n",
    "plt.legend(samples, alignment=\"left\")"
   ]
  },
  {
   "cell_type": "code",
   "execution_count": null,
   "id": "3c3e9021-adfc-4339-877e-f98781199a1d",
   "metadata": {},
   "outputs": [],
   "source": []
  }
 ],
 "metadata": {
  "kernelspec": {
   "display_name": "Python 3 (ipykernel)",
   "language": "python",
   "name": "python3"
  },
  "language_info": {
   "codemirror_mode": {
    "name": "ipython",
    "version": 3
   },
   "file_extension": ".py",
   "mimetype": "text/x-python",
   "name": "python",
   "nbconvert_exporter": "python",
   "pygments_lexer": "ipython3",
   "version": "3.12.5"
  }
 },
 "nbformat": 4,
 "nbformat_minor": 5
}
